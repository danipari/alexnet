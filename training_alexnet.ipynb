{
 "cells": [
  {
   "cell_type": "code",
   "execution_count": 1,
   "id": "c80038c8-906f-4ca4-bf2d-0e7da97dc2f7",
   "metadata": {},
   "outputs": [
    {
     "name": "stdout",
     "output_type": "stream",
     "text": [
      "Requirement already satisfied: tensorboard in /usr/local/lib/python3.10/dist-packages (2.18.0)\n",
      "Requirement already satisfied: absl-py>=0.4 in /usr/local/lib/python3.10/dist-packages (from tensorboard) (2.1.0)\n",
      "Requirement already satisfied: grpcio>=1.48.2 in /usr/local/lib/python3.10/dist-packages (from tensorboard) (1.70.0)\n",
      "Requirement already satisfied: markdown>=2.6.8 in /usr/local/lib/python3.10/dist-packages (from tensorboard) (3.7)\n",
      "Requirement already satisfied: numpy>=1.12.0 in /usr/local/lib/python3.10/dist-packages (from tensorboard) (1.24.1)\n",
      "Requirement already satisfied: packaging in /usr/local/lib/python3.10/dist-packages (from tensorboard) (23.2)\n",
      "Requirement already satisfied: protobuf!=4.24.0,>=3.19.6 in /usr/local/lib/python3.10/dist-packages (from tensorboard) (5.29.3)\n",
      "Requirement already satisfied: setuptools>=41.0.0 in /usr/local/lib/python3.10/dist-packages (from tensorboard) (68.2.2)\n",
      "Requirement already satisfied: six>1.9 in /usr/lib/python3/dist-packages (from tensorboard) (1.16.0)\n",
      "Requirement already satisfied: tensorboard-data-server<0.8.0,>=0.7.0 in /usr/local/lib/python3.10/dist-packages (from tensorboard) (0.7.2)\n",
      "Requirement already satisfied: werkzeug>=1.0.1 in /usr/local/lib/python3.10/dist-packages (from tensorboard) (3.1.3)\n",
      "Requirement already satisfied: MarkupSafe>=2.1.1 in /usr/local/lib/python3.10/dist-packages (from werkzeug>=1.0.1->tensorboard) (2.1.2)\n",
      "\u001b[33mWARNING: Running pip as the 'root' user can result in broken permissions and conflicting behaviour with the system package manager. It is recommended to use a virtual environment instead: https://pip.pypa.io/warnings/venv\u001b[0m\u001b[33m\n",
      "\u001b[0m\n",
      "\u001b[1m[\u001b[0m\u001b[34;49mnotice\u001b[0m\u001b[1;39;49m]\u001b[0m\u001b[39;49m A new release of pip is available: \u001b[0m\u001b[31;49m23.3.1\u001b[0m\u001b[39;49m -> \u001b[0m\u001b[32;49m25.0\u001b[0m\n",
      "\u001b[1m[\u001b[0m\u001b[34;49mnotice\u001b[0m\u001b[1;39;49m]\u001b[0m\u001b[39;49m To update, run: \u001b[0m\u001b[32;49mpython -m pip install --upgrade pip\u001b[0m\n",
      "Requirement already satisfied: scipy in /usr/local/lib/python3.10/dist-packages (1.15.1)\n",
      "Requirement already satisfied: numpy<2.5,>=1.23.5 in /usr/local/lib/python3.10/dist-packages (from scipy) (1.24.1)\n",
      "\u001b[33mWARNING: Running pip as the 'root' user can result in broken permissions and conflicting behaviour with the system package manager. It is recommended to use a virtual environment instead: https://pip.pypa.io/warnings/venv\u001b[0m\u001b[33m\n",
      "\u001b[0m\n",
      "\u001b[1m[\u001b[0m\u001b[34;49mnotice\u001b[0m\u001b[1;39;49m]\u001b[0m\u001b[39;49m A new release of pip is available: \u001b[0m\u001b[31;49m23.3.1\u001b[0m\u001b[39;49m -> \u001b[0m\u001b[32;49m25.0\u001b[0m\n",
      "\u001b[1m[\u001b[0m\u001b[34;49mnotice\u001b[0m\u001b[1;39;49m]\u001b[0m\u001b[39;49m To update, run: \u001b[0m\u001b[32;49mpython -m pip install --upgrade pip\u001b[0m\n"
     ]
    }
   ],
   "source": [
    "!pip install tensorboard\n",
    "!pip install scipy"
   ]
  },
  {
   "cell_type": "code",
   "execution_count": 2,
   "id": "e6eb270f-b7d5-46a7-b06f-6fac5dae70c1",
   "metadata": {},
   "outputs": [],
   "source": [
    "from tqdm import tqdm\n",
    "from datetime import datetime\n",
    "import numpy as np\n",
    "import torch\n",
    "import torchvision\n",
    "from torchvision import transforms\n",
    "from torch.utils.tensorboard import SummaryWriter\n",
    "import os"
   ]
  },
  {
   "cell_type": "code",
   "execution_count": 3,
   "id": "f062c289-2846-4f74-bd5a-3ec098a47e7a",
   "metadata": {},
   "outputs": [],
   "source": [
    "class AlexNet(torch.nn.Module):\n",
    "    def __init__(self, num_classes=1000):\n",
    "        super(AlexNet, self).__init__()\n",
    "        # Convolutional layers\n",
    "        self.conv1 = torch.nn.Conv2d(3, 96, 11, stride=4)\n",
    "        self.conv2 = torch.nn.Conv2d(96, 256, 5, padding=2)\n",
    "        self.conv3 = torch.nn.Conv2d(256, 384, 3, padding=1)\n",
    "        self.conv4 = torch.nn.Conv2d(384, 384, 3, padding=1)\n",
    "        self.conv5 = torch.nn.Conv2d(384, 256, 3, padding=1)\n",
    "\n",
    "        # Fully connected layers\n",
    "        self.fc1 = torch.nn.Linear(9216, 4096)\n",
    "        self.fc2 = torch.nn.Linear(4096, 4096)\n",
    "        self.fc3 = torch.nn.Linear(4096, num_classes)\n",
    "\n",
    "        # Initializatin of the weights\n",
    "        torch.nn.init.normal_(self.conv1.weight, mean=0.0, std=0.01)\n",
    "        torch.nn.init.normal_(self.conv2.weight, mean=0.0, std=0.01)\n",
    "        torch.nn.init.normal_(self.conv3.weight, mean=0.0, std=0.01)\n",
    "        torch.nn.init.normal_(self.conv4.weight, mean=0.0, std=0.01)\n",
    "        torch.nn.init.normal_(self.conv5.weight, mean=0.0, std=0.01)\n",
    "        torch.nn.init.normal_(self.fc1.weight, mean=0.0, std=0.01)\n",
    "        torch.nn.init.normal_(self.fc2.weight, mean=0.0, std=0.01)\n",
    "        torch.nn.init.normal_(self.fc3.weight, mean=0.0, std=0.01)\n",
    "\n",
    "        # Initializatin of the bias\n",
    "        torch.nn.init.constant_(self.conv2.bias, 1.0)\n",
    "        torch.nn.init.constant_(self.conv4.bias, 1.0)\n",
    "        torch.nn.init.constant_(self.conv5.bias, 1.0)\n",
    "        torch.nn.init.constant_(self.conv1.bias, 0.0)\n",
    "        torch.nn.init.constant_(self.conv3.bias, 0.0)\n",
    "        torch.nn.init.constant_(self.fc1.bias, 0.0)\n",
    "        torch.nn.init.constant_(self.fc2.bias, 0.0)\n",
    "        torch.nn.init.constant_(self.fc3.bias, 0.0)\n",
    "\n",
    "        # The definition of alpha in the paper and pytorch are slightly different\n",
    "        self.lrn = torch.nn.LocalResponseNorm(size=5, alpha=5e-4, beta=0.75, k=2.0)\n",
    "        self.relu = torch.nn.ReLU(inplace=True)\n",
    "        self.pool = torch.nn.MaxPool2d(kernel_size=3, stride=2)\n",
    "        self.dropout = torch.nn.Dropout(p=0.5)\n",
    "\n",
    "    def forward(self, x):\n",
    "        # Conv1 -> ReLU -> Pool -> LRN\n",
    "        x = self.conv1(x)\n",
    "        x = self.relu(x)\n",
    "        x = self.lrn(x)\n",
    "        x = self.pool(x)\n",
    "        \n",
    "        # Conv2 -> ReLU -> Pool -> LRN\n",
    "        x = self.conv2(x)\n",
    "        x = self.relu(x)\n",
    "        x = self.lrn(x)\n",
    "        x = self.pool(x)\n",
    "\n",
    "        # Conv3 -> ReLU\n",
    "        x = self.conv3(x)\n",
    "        x = self.relu(x)\n",
    "        \n",
    "        # Conv4 -> ReLU\n",
    "        x = self.conv4(x)\n",
    "        x = self.relu(x)\n",
    "        \n",
    "        # Conv5 -> ReLU -> Pool\n",
    "        x = self.conv5(x)\n",
    "        x = self.relu(x)\n",
    "        x = self.pool(x)\n",
    "        \n",
    "        # Flatten\n",
    "        x = torch.flatten(x, 1)\n",
    "        \n",
    "        # FC1 -> ReLU -> Dropout\n",
    "        x = self.fc1(x)\n",
    "        x = self.relu(x)\n",
    "        x = self.dropout(x)\n",
    "        \n",
    "        # FC2 -> ReLU -> Dropout\n",
    "        x = self.fc2(x)\n",
    "        x = self.relu(x)\n",
    "        x = self.dropout(x)\n",
    "        \n",
    "        # FC3\n",
    "        x = self.fc3(x)\n",
    "        return x"
   ]
  },
  {
   "cell_type": "code",
   "execution_count": 4,
   "id": "5c9c7265-f275-44b2-acfc-65dbf669ff4b",
   "metadata": {},
   "outputs": [],
   "source": [
    "# transpose is use to meet the shape of the tensor C x H x W rather than H x W x C\n",
    "mean_pixels = np.float32(np.load('mean_pixels.npy').transpose(2, 0, 1))\n",
    "\n",
    "def meanSubstraction(x):\n",
    "    return x - mean_pixels\n",
    "\n",
    "def toTensorNoScaling(x):\n",
    "    return torch.from_numpy(np.array(x).transpose(2, 0, 1))\n",
    "\n",
    "def PCAColorAugmentation(img, std=0.1, eps=1e-6):\n",
    "    # Convert PIL image to numpy array\n",
    "    img = np.array(img)\n",
    "    img_shape = img.shape  # Original shape (H, W, C)\n",
    "    # Flatten to (H*W, 3) for RGB channels\n",
    "    img_flat = img.reshape(-1, 3)\n",
    "    \n",
    "    # Compute covariance matrix between channels (3x3)\n",
    "    img_cov = np.cov(img_flat, rowvar=False)\n",
    "    # Get eigenvalues and eigenvectors (sorted in ascending order)\n",
    "    eig_vals, eig_vecs = np.linalg.eigh(img_cov)\n",
    "    eig_vals = eig_vals[::-1]  # Descending order\n",
    "    eig_vecs = eig_vecs[:, ::-1]\n",
    "    eig_vals = np.maximum(eig_vals, eps)\n",
    "    # Generate random alphas from N(0, std)\n",
    "    alpha = np.random.normal(0, std, 3)\n",
    "    \n",
    "    # Compute correction using sqrt of eigenvalues (standard deviations)\n",
    "    correction = eig_vecs @ (alpha * np.sqrt(eig_vals))\n",
    "    # Reshape correction for broadcasting (1, 3) over all pixels\n",
    "    correction = correction.reshape(1, 3)\n",
    "    # Apply correction and clip values\n",
    "    new_img_flat = img_flat + correction\n",
    "    new_img_flat = np.clip(new_img_flat, 0, 255).astype(np.float32)\n",
    "    # Reshape to original dimensions, transpose to CxHxW and put between [0-1]\n",
    "    new_img = new_img_flat.reshape(img_shape).transpose(2, 0, 1)\n",
    "    \n",
    "    return torch.from_numpy(new_img)  # Shape (C, H, W)\n",
    "\n",
    "# Image transformation\n",
    "transform_train = transforms.Compose([\n",
    "    # Apply PCA color transformation\n",
    "    transforms.Lambda(PCAColorAugmentation),\n",
    "    # Remove mean\n",
    "    transforms.Lambda(meanSubstraction),\n",
    "    # 227x227 random crop \n",
    "    transforms.RandomCrop(227),\n",
    "    # Horizontal reflection with p=0.5\n",
    "    transforms.RandomHorizontalFlip(p=0.5),\n",
    "])\n",
    "\n",
    "transform_val = transforms.Compose([\n",
    "    # Transform to tensor without scaling\n",
    "    transforms.Lambda(toTensorNoScaling),\n",
    "    # Remove mean\n",
    "    transforms.Lambda(meanSubstraction),\n",
    "    # 227x227 random crop \n",
    "    transforms.FiveCrop(227),\n",
    "])"
   ]
  },
  {
   "cell_type": "code",
   "execution_count": 5,
   "id": "068a2883-e1ac-4251-a289-ebba1b2c9c06",
   "metadata": {},
   "outputs": [],
   "source": [
    "def train_one_epoch(epoch_index, writer, model, training_dataloader, optimizer, loss_fn, device):\n",
    "    \"\"\"\n",
    "    Trains AlexNet for one epoch, tracking loss, top-1 and top-5 error rates.\n",
    "    \n",
    "    Args:\n",
    "        epoch_index (int): Current epoch number\n",
    "        writer: TensorBoard writer object\n",
    "        model: AlexNet model instance\n",
    "        training_dataloader: PyTorch dataloader for training data\n",
    "        optimizer: SGD optimizer instance\n",
    "        loss_fn: CrossEntropyLoss instance\n",
    "        device: Device to train on (cuda/cpu)\n",
    "    \n",
    "    Returns:\n",
    "        tuple: (average_loss, average_accuracy) for the epoch\n",
    "    \"\"\"\n",
    "    total_loss = 0.0\n",
    "    running_loss = 0.0\n",
    "    total_top1_error = 0.0\n",
    "    total_top5_error = 0.0\n",
    "    running_top1_error = 0.0\n",
    "    running_top5_error = 0.0\n",
    "    \n",
    "    # Ensure model is in training mode\n",
    "    model.train()\n",
    "    \n",
    "    for i, data in enumerate(tqdm(training_dataloader)):\n",
    "        inputs, labels = data\n",
    "        inputs = inputs.to(device)\n",
    "        labels = labels.to(device)\n",
    "        \n",
    "        # Forward pass\n",
    "        outputs = model(inputs)\n",
    "        loss = loss_fn(outputs, labels)\n",
    "        \n",
    "        # Backward pass and optimize\n",
    "        optimizer.zero_grad()\n",
    "        loss.backward()\n",
    "        optimizer.step()\n",
    "\n",
    "        # Calculate top-1 and top-5 error rates\n",
    "        _, top5_preds = outputs.topk(5, dim=1, largest=True, sorted=True)\n",
    "        correct_top1 = top5_preds[:, 0] == labels\n",
    "        correct_top5 = top5_preds.eq(labels.view(-1, 1)).sum(dim=1) > 0\n",
    "        top1_error = 1 - correct_top1.sum().item() / labels.size(0)\n",
    "        top5_error = 1 - correct_top5.sum().item() / labels.size(0)\n",
    "        \n",
    "        # Update running statistics\n",
    "        running_loss += loss.item()\n",
    "        running_top1_error += top1_error\n",
    "        running_top5_error += top5_error\n",
    "\n",
    "        # Update total statistics\n",
    "        total_loss += loss.item() \n",
    "        total_top1_error += top1_error\n",
    "        total_top5_error += top5_error\n",
    "        \n",
    "        # Log every 1000 batches\n",
    "        if i % 1000 == 999:\n",
    "            avg_running_loss = running_loss / 1000\n",
    "            avg_top1_error = 100.0 * running_top1_error / 1000\n",
    "            avg_top5_error = 100.0 * running_top5_error / 1000\n",
    "                        \n",
    "            # Log to TensorBoard\n",
    "            tb_x = epoch_index * len(training_dataloader) + i + 1\n",
    "            writer.add_scalar('Loss/train_step', avg_running_loss, tb_x)\n",
    "            writer.add_scalar('Top-1 error/train_step', avg_top1_error, tb_x)\n",
    "            writer.add_scalar('Top-5 error/train_step', avg_top5_error, tb_x)\n",
    "\n",
    "            print(f'  Batch {tb_x} Loss: {avg_running_loss:.4f} Top-1 error rate: {avg_top1_error:.2f}% Top-5 error rate: {avg_top5_error:.2f}%')\n",
    "            \n",
    "            running_loss = 0.0\n",
    "            running_top1_error = 0.0\n",
    "            running_top5_error = 0.0\n",
    "    \n",
    "    # Calculate epoch-level metrics\n",
    "    avg_epoch_loss = total_loss / len(training_dataloader)\n",
    "    avg_top1_error = 100.0 * total_top1_error / len(training_dataloader)\n",
    "    avg_top5_error = 100.0 * total_top5_error / len(training_dataloader)\n",
    "    \n",
    "    return avg_epoch_loss, avg_top1_error, avg_top5_error"
   ]
  },
  {
   "cell_type": "code",
   "execution_count": 6,
   "id": "5e30537e-a071-4595-b386-143451b2c2c0",
   "metadata": {},
   "outputs": [],
   "source": [
    "def validate_one_epoch(epoch_index, writer, model, validation_dataloader, loss_fn, device):\n",
    "    \"\"\"\n",
    "    Validates AlexNet for one epoch, tracking loss, top-1 and top-5 error rates.\n",
    "    \n",
    "    Args:\n",
    "        epoch_index (int): Current epoch number\n",
    "        writer: TensorBoard writer object\n",
    "        model: AlexNet model instance\n",
    "        validation_dataloader: PyTorch dataloader for validation data (with FiveCrop)\n",
    "        loss_fn: CrossEntropyLoss instance\n",
    "        device: Device to train on (cuda/cpu)\n",
    "    \n",
    "    Returns:\n",
    "        tuple: (average_loss, average_top1_error, average_top5_error) for the epoch\n",
    "    \"\"\"\n",
    "    total_loss = 0.0\n",
    "    total_top1_error = 0.0\n",
    "    total_top5_error = 0.0\n",
    "    running_loss = 0.0\n",
    "    running_top1_error = 0.0\n",
    "    running_top5_error = 0.0\n",
    "    \n",
    "    # Ensure model is in evaluation mode\n",
    "    model.eval()\n",
    "    \n",
    "    with torch.no_grad():  # Disable gradient computation\n",
    "        for i, data in enumerate(tqdm(validation_dataloader, desc='Validation')):\n",
    "            inputs, labels = data\n",
    "            # Move each crop tensor in the inputs tuple to the device\n",
    "            inputs = [inp.to(device) for inp in inputs]\n",
    "            labels = labels.to(device)\n",
    "            \n",
    "            # Combine all 5 crops into a single batch dimension (5*B, C, H, W)\n",
    "            all_crops = torch.cat(inputs, dim=0)\n",
    "            \n",
    "            # Forward pass through the model\n",
    "            outputs = model(all_crops)\n",
    "            \n",
    "            # Reshape outputs to (5, B, num_classes) and average across crops\n",
    "            outputs = outputs.view(5, -1, outputs.shape[-1])\n",
    "            avg_outputs = outputs.mean(dim=0)  # Shape (B, num_classes)\n",
    "            \n",
    "            # Calculate loss using averaged outputs\n",
    "            loss = loss_fn(avg_outputs, labels)\n",
    "            \n",
    "            # Calculate top-1 and top-5 error rates\n",
    "            _, top5_preds = avg_outputs.topk(5, dim=1, largest=True, sorted=True)\n",
    "            correct_top1 = top5_preds[:, 0] == labels\n",
    "            correct_top5 = top5_preds.eq(labels.view(-1, 1)).any(dim=1)\n",
    "            top1_error = 1 - correct_top1.float().mean().item()\n",
    "            top5_error = 1 - correct_top5.float().mean().item()\n",
    "            \n",
    "            # Update running statistics\n",
    "            running_loss += loss.item()\n",
    "            running_top1_error += top1_error\n",
    "            running_top5_error += top5_error\n",
    "\n",
    "            # Update total statistics\n",
    "            total_loss += loss.item()\n",
    "            total_top1_error += top1_error\n",
    "            total_top5_error += top5_error\n",
    "            \n",
    "            # Log every 100 batches\n",
    "            if i % 100 == 99:\n",
    "                avg_running_loss = running_loss / 100\n",
    "                avg_top1_error = 100.0 * running_top1_error / 100\n",
    "                avg_top5_error = 100.0 * running_top5_error / 100\n",
    "                \n",
    "                print(f'  Validation Batch {i + 1:5d} Loss: {avg_running_loss:.4f} Top-1 error: {avg_top1_error:.2f}% Top-5 error: {avg_top5_error:.2f}%')\n",
    "                \n",
    "                # Log to TensorBoard\n",
    "                tb_x = epoch_index * len(validation_dataloader) + i + 1\n",
    "                writer.add_scalar('Loss/val_step', avg_running_loss, tb_x)\n",
    "                writer.add_scalar('Top-1 error/val_step', avg_top1_error, tb_x)\n",
    "                writer.add_scalar('Top-5 error/val_step', avg_top5_error, tb_x)\n",
    "                \n",
    "                # Reset running statistics\n",
    "                running_loss = 0.0\n",
    "                running_top1_error = 0.0\n",
    "                running_top5_error = 0.0\n",
    "    \n",
    "    # Calculate epoch-level metrics\n",
    "    avg_epoch_loss = total_loss / len(validation_dataloader)\n",
    "    avg_top1_error = 100.0 * total_top1_error / len(validation_dataloader)\n",
    "    avg_top5_error = 100.0 * total_top5_error / len(validation_dataloader)\n",
    "    \n",
    "    return avg_epoch_loss, avg_top1_error, avg_top5_error"
   ]
  },
  {
   "cell_type": "code",
   "execution_count": 7,
   "id": "13e71398-6549-459e-bfe0-bf105ed59ae0",
   "metadata": {},
   "outputs": [
    {
     "data": {
      "text/plain": [
       "AlexNet(\n",
       "  (conv1): Conv2d(3, 96, kernel_size=(11, 11), stride=(4, 4))\n",
       "  (conv2): Conv2d(96, 256, kernel_size=(5, 5), stride=(1, 1), padding=(2, 2))\n",
       "  (conv3): Conv2d(256, 384, kernel_size=(3, 3), stride=(1, 1), padding=(1, 1))\n",
       "  (conv4): Conv2d(384, 384, kernel_size=(3, 3), stride=(1, 1), padding=(1, 1))\n",
       "  (conv5): Conv2d(384, 256, kernel_size=(3, 3), stride=(1, 1), padding=(1, 1))\n",
       "  (fc1): Linear(in_features=9216, out_features=4096, bias=True)\n",
       "  (fc2): Linear(in_features=4096, out_features=4096, bias=True)\n",
       "  (fc3): Linear(in_features=4096, out_features=1000, bias=True)\n",
       "  (lrn): LocalResponseNorm(5, alpha=0.0005, beta=0.75, k=2.0)\n",
       "  (relu): ReLU(inplace=True)\n",
       "  (pool): MaxPool2d(kernel_size=3, stride=2, padding=0, dilation=1, ceil_mode=False)\n",
       "  (dropout): Dropout(p=0.5, inplace=False)\n",
       ")"
      ]
     },
     "execution_count": 7,
     "metadata": {},
     "output_type": "execute_result"
    }
   ],
   "source": [
    "device = torch.device('cuda' if torch.cuda.is_available() else 'cpu')\n",
    "# Create model\n",
    "alexnet = AlexNet(1000)\n",
    "# First load\n",
    "# pretrained_dict = torch.load('alexnette/model_20.pth', weights_only=True)\n",
    "# alexnet_dict = alexnet.state_dict()\n",
    "# pretrained_dict = {k: v for k, v in pretrained_dict.items() if k not in ['fc3.weight', 'fc3.bias']}\n",
    "# alexnet_dict.update(pretrained_dict)\n",
    "# alexnet.load_state_dict(alexnet_dict)\n",
    "# Intermediate loads\n",
    "# alexnet.load_state_dict(torch.load('models/in/model_58.pth', weights_only=True))\n",
    "alexnet.to(device)"
   ]
  },
  {
   "cell_type": "code",
   "execution_count": 8,
   "id": "8cb186f7-8316-4eae-b8b6-b3e435a427b9",
   "metadata": {},
   "outputs": [
    {
     "name": "stdout",
     "output_type": "stream",
     "text": [
      "Loading data...\n",
      "Finished loading\n"
     ]
    }
   ],
   "source": [
    "filepath = '../imagenet'\n",
    "print('Loading data...')\n",
    "training_data = torchvision.datasets.ImageNet(filepath, split='train', transform=transform_train)\n",
    "validation_data = torchvision.datasets.ImageNet(filepath, split='val', transform=transform_val)\n",
    "\n",
    "# training_data = torchvision.datasets.Imagenette('.', 'train', transform=transform)\n",
    "# validation_data = torchvision.datasets.Imagenette('.', 'val', transform=transform)\n",
    "\n",
    "training_dataloader = torch.utils.data.DataLoader(\n",
    "    training_data,\n",
    "    batch_size=256,  \n",
    "    shuffle=True,\n",
    "    num_workers=16,  \n",
    "    prefetch_factor=4,  \n",
    "    persistent_workers=True,\n",
    "    pin_memory=True,\n",
    ")\n",
    "\n",
    "validation_dataloader = torch.utils.data.DataLoader(\n",
    "    validation_data,\n",
    "    batch_size=128,  # I will get 5 out of each\n",
    "    shuffle=False,\n",
    "    num_workers=8,\n",
    "    prefetch_factor=4,\n",
    "    persistent_workers=True,\n",
    "    pin_memory=True\n",
    ")\n",
    "print('Finished loading')"
   ]
  },
  {
   "cell_type": "code",
   "execution_count": 9,
   "id": "bacf5b64-363e-44b5-98fb-fd73e2f667c0",
   "metadata": {},
   "outputs": [
    {
     "name": "stdout",
     "output_type": "stream",
     "text": [
      "EPOCH 1:\n"
     ]
    },
    {
     "name": "stderr",
     "output_type": "stream",
     "text": [
      " 20%|██        | 1001/5005 [02:21<08:07,  8.21it/s]"
     ]
    },
    {
     "name": "stdout",
     "output_type": "stream",
     "text": [
      "  Batch 1000 Loss: 6.9087 Top-1 error rate: 99.90% Top-5 error rate: 99.47%\n"
     ]
    },
    {
     "name": "stderr",
     "output_type": "stream",
     "text": [
      " 40%|███▉      | 2001/5005 [04:40<08:57,  5.58it/s]"
     ]
    },
    {
     "name": "stdout",
     "output_type": "stream",
     "text": [
      "  Batch 2000 Loss: 6.7771 Top-1 error rate: 99.72% Top-5 error rate: 98.72%\n"
     ]
    },
    {
     "name": "stderr",
     "output_type": "stream",
     "text": [
      " 60%|█████▉    | 3001/5005 [06:56<04:06,  8.14it/s]"
     ]
    },
    {
     "name": "stdout",
     "output_type": "stream",
     "text": [
      "  Batch 3000 Loss: 6.2376 Top-1 error rate: 98.59% Top-5 error rate: 94.56%\n"
     ]
    },
    {
     "name": "stderr",
     "output_type": "stream",
     "text": [
      " 80%|███████▉  | 4001/5005 [09:12<02:02,  8.21it/s]"
     ]
    },
    {
     "name": "stdout",
     "output_type": "stream",
     "text": [
      "  Batch 4000 Loss: 5.5425 Top-1 error rate: 95.61% Top-5 error rate: 86.00%\n"
     ]
    },
    {
     "name": "stderr",
     "output_type": "stream",
     "text": [
      "100%|█████████▉| 5001/5005 [11:32<00:00,  7.72it/s]"
     ]
    },
    {
     "name": "stdout",
     "output_type": "stream",
     "text": [
      "  Batch 5000 Loss: 5.0913 Top-1 error rate: 92.21% Top-5 error rate: 78.29%\n"
     ]
    },
    {
     "name": "stderr",
     "output_type": "stream",
     "text": [
      "100%|██████████| 5005/5005 [11:33<00:00,  7.22it/s]\n",
      "Validation:  26%|██▌       | 100/391 [00:26<01:02,  4.65it/s]"
     ]
    },
    {
     "name": "stdout",
     "output_type": "stream",
     "text": [
      "  Validation Batch   100 Loss: 4.4723 Top-1 error: 88.48% Top-5 error: 69.66%\n"
     ]
    },
    {
     "name": "stderr",
     "output_type": "stream",
     "text": [
      "Validation:  51%|█████     | 200/391 [00:48<00:41,  4.55it/s]"
     ]
    },
    {
     "name": "stdout",
     "output_type": "stream",
     "text": [
      "  Validation Batch   200 Loss: 4.7150 Top-1 error: 88.70% Top-5 error: 71.72%\n"
     ]
    },
    {
     "name": "stderr",
     "output_type": "stream",
     "text": [
      "Validation:  77%|███████▋  | 300/391 [01:13<00:24,  3.67it/s]"
     ]
    },
    {
     "name": "stdout",
     "output_type": "stream",
     "text": [
      "  Validation Batch   300 Loss: 5.0697 Top-1 error: 90.74% Top-5 error: 76.25%\n"
     ]
    },
    {
     "name": "stderr",
     "output_type": "stream",
     "text": [
      "Validation: 100%|██████████| 391/391 [01:34<00:00,  4.13it/s]\n"
     ]
    },
    {
     "name": "stdout",
     "output_type": "stream",
     "text": [
      "LOSS train 6.1102 valid 4.7593\n",
      "Top-1 Error train 97.20% val 89.13%\n",
      "Top-5 Error train 91.39% val 72.36%\n",
      "EPOCH 2:\n"
     ]
    },
    {
     "name": "stderr",
     "output_type": "stream",
     "text": [
      " 20%|██        | 1001/5005 [02:11<08:17,  8.05it/s]"
     ]
    },
    {
     "name": "stdout",
     "output_type": "stream",
     "text": [
      "  Batch 6005 Loss: 4.7645 Top-1 error rate: 89.12% Top-5 error rate: 72.41%\n"
     ]
    },
    {
     "name": "stderr",
     "output_type": "stream",
     "text": [
      " 40%|███▉      | 2001/5005 [04:27<06:08,  8.14it/s]"
     ]
    },
    {
     "name": "stdout",
     "output_type": "stream",
     "text": [
      "  Batch 7005 Loss: 4.5372 Top-1 error rate: 86.53% Top-5 error rate: 67.88%\n"
     ]
    },
    {
     "name": "stderr",
     "output_type": "stream",
     "text": [
      " 60%|█████▉    | 3001/5005 [06:44<04:09,  8.03it/s]"
     ]
    },
    {
     "name": "stdout",
     "output_type": "stream",
     "text": [
      "  Batch 8005 Loss: 4.3503 Top-1 error rate: 84.42% Top-5 error rate: 64.21%\n"
     ]
    },
    {
     "name": "stderr",
     "output_type": "stream",
     "text": [
      " 80%|███████▉  | 4001/5005 [09:04<02:03,  8.14it/s]"
     ]
    },
    {
     "name": "stdout",
     "output_type": "stream",
     "text": [
      "  Batch 9005 Loss: 4.1871 Top-1 error rate: 82.24% Top-5 error rate: 61.08%\n"
     ]
    },
    {
     "name": "stderr",
     "output_type": "stream",
     "text": [
      "100%|█████████▉| 5001/5005 [11:28<00:00,  7.48it/s]"
     ]
    },
    {
     "name": "stdout",
     "output_type": "stream",
     "text": [
      "  Batch 10005 Loss: 4.0539 Top-1 error rate: 80.55% Top-5 error rate: 58.53%\n"
     ]
    },
    {
     "name": "stderr",
     "output_type": "stream",
     "text": [
      "100%|██████████| 5005/5005 [11:28<00:00,  7.27it/s]\n",
      "Validation:  26%|██▌       | 101/391 [00:23<00:59,  4.88it/s]"
     ]
    },
    {
     "name": "stdout",
     "output_type": "stream",
     "text": [
      "  Validation Batch   100 Loss: 3.5398 Top-1 error: 75.48% Top-5 error: 49.16%\n"
     ]
    },
    {
     "name": "stderr",
     "output_type": "stream",
     "text": [
      "Validation:  51%|█████     | 200/391 [00:45<00:50,  3.77it/s]"
     ]
    },
    {
     "name": "stdout",
     "output_type": "stream",
     "text": [
      "  Validation Batch   200 Loss: 3.7502 Top-1 error: 77.33% Top-5 error: 52.17%\n"
     ]
    },
    {
     "name": "stderr",
     "output_type": "stream",
     "text": [
      "Validation:  77%|███████▋  | 300/391 [01:10<00:20,  4.41it/s]"
     ]
    },
    {
     "name": "stdout",
     "output_type": "stream",
     "text": [
      "  Validation Batch   300 Loss: 4.2267 Top-1 error: 79.96% Top-5 error: 60.66%\n"
     ]
    },
    {
     "name": "stderr",
     "output_type": "stream",
     "text": [
      "Validation: 100%|██████████| 391/391 [01:30<00:00,  4.31it/s]\n"
     ]
    },
    {
     "name": "stdout",
     "output_type": "stream",
     "text": [
      "LOSS train 4.3782 valid 3.8882\n",
      "Top-1 Error train 84.57% val 77.96%\n",
      "Top-5 Error train 64.81% val 54.78%\n",
      "EPOCH 3:\n"
     ]
    },
    {
     "name": "stderr",
     "output_type": "stream",
     "text": [
      " 20%|██        | 1001/5005 [02:20<08:32,  7.81it/s]"
     ]
    },
    {
     "name": "stdout",
     "output_type": "stream",
     "text": [
      "  Batch 11010 Loss: 3.9088 Top-1 error rate: 78.80% Top-5 error rate: 55.74%\n"
     ]
    },
    {
     "name": "stderr",
     "output_type": "stream",
     "text": [
      " 40%|███▉      | 2001/5005 [04:41<06:08,  8.15it/s]"
     ]
    },
    {
     "name": "stdout",
     "output_type": "stream",
     "text": [
      "  Batch 12010 Loss: 3.8241 Top-1 error rate: 77.45% Top-5 error rate: 54.04%\n"
     ]
    },
    {
     "name": "stderr",
     "output_type": "stream",
     "text": [
      " 60%|█████▉    | 3001/5005 [07:01<04:16,  7.81it/s]"
     ]
    },
    {
     "name": "stdout",
     "output_type": "stream",
     "text": [
      "  Batch 13010 Loss: 3.7456 Top-1 error rate: 76.36% Top-5 error rate: 52.53%\n"
     ]
    },
    {
     "name": "stderr",
     "output_type": "stream",
     "text": [
      " 80%|███████▉  | 4001/5005 [09:22<02:02,  8.21it/s]"
     ]
    },
    {
     "name": "stdout",
     "output_type": "stream",
     "text": [
      "  Batch 14010 Loss: 3.6803 Top-1 error rate: 75.44% Top-5 error rate: 51.24%\n"
     ]
    },
    {
     "name": "stderr",
     "output_type": "stream",
     "text": [
      "100%|█████████▉| 5001/5005 [11:44<00:00,  7.95it/s]"
     ]
    },
    {
     "name": "stdout",
     "output_type": "stream",
     "text": [
      "  Batch 15010 Loss: 3.6217 Top-1 error rate: 74.48% Top-5 error rate: 50.08%\n"
     ]
    },
    {
     "name": "stderr",
     "output_type": "stream",
     "text": [
      "100%|██████████| 5005/5005 [11:45<00:00,  7.10it/s]\n",
      "Validation:  26%|██▌       | 100/391 [00:24<01:10,  4.11it/s]"
     ]
    },
    {
     "name": "stdout",
     "output_type": "stream",
     "text": [
      "  Validation Batch   100 Loss: 2.9631 Top-1 error: 66.14% Top-5 error: 38.34%\n"
     ]
    },
    {
     "name": "stderr",
     "output_type": "stream",
     "text": [
      "Validation:  51%|█████     | 200/391 [00:47<00:42,  4.47it/s]"
     ]
    },
    {
     "name": "stdout",
     "output_type": "stream",
     "text": [
      "  Validation Batch   200 Loss: 3.3067 Top-1 error: 70.59% Top-5 error: 43.64%\n"
     ]
    },
    {
     "name": "stderr",
     "output_type": "stream",
     "text": [
      "Validation:  77%|███████▋  | 300/391 [01:09<00:22,  4.12it/s]"
     ]
    },
    {
     "name": "stdout",
     "output_type": "stream",
     "text": [
      "  Validation Batch   300 Loss: 3.7314 Top-1 error: 73.75% Top-5 error: 51.72%\n"
     ]
    },
    {
     "name": "stderr",
     "output_type": "stream",
     "text": [
      "Validation: 100%|██████████| 391/391 [01:33<00:00,  4.18it/s]\n"
     ]
    },
    {
     "name": "stdout",
     "output_type": "stream",
     "text": [
      "LOSS train 3.7558 valid 3.4006\n",
      "Top-1 Error train 76.51% val 70.84%\n",
      "Top-5 Error train 52.72% val 45.70%\n",
      "EPOCH 4:\n"
     ]
    },
    {
     "name": "stderr",
     "output_type": "stream",
     "text": [
      " 20%|██        | 1001/5005 [02:15<08:11,  8.15it/s]"
     ]
    },
    {
     "name": "stdout",
     "output_type": "stream",
     "text": [
      "  Batch 16015 Loss: 3.4951 Top-1 error rate: 72.69% Top-5 error rate: 47.86%\n"
     ]
    },
    {
     "name": "stderr",
     "output_type": "stream",
     "text": [
      " 40%|███▉      | 2001/5005 [04:39<06:43,  7.45it/s]"
     ]
    },
    {
     "name": "stdout",
     "output_type": "stream",
     "text": [
      "  Batch 17015 Loss: 3.4781 Top-1 error rate: 72.58% Top-5 error rate: 47.50%\n"
     ]
    },
    {
     "name": "stderr",
     "output_type": "stream",
     "text": [
      " 60%|█████▉    | 3001/5005 [07:05<04:17,  7.79it/s]"
     ]
    },
    {
     "name": "stdout",
     "output_type": "stream",
     "text": [
      "  Batch 18015 Loss: 3.4430 Top-1 error rate: 71.94% Top-5 error rate: 46.77%\n"
     ]
    },
    {
     "name": "stderr",
     "output_type": "stream",
     "text": [
      " 80%|███████▉  | 4001/5005 [09:31<02:01,  8.23it/s]"
     ]
    },
    {
     "name": "stdout",
     "output_type": "stream",
     "text": [
      "  Batch 19015 Loss: 3.4025 Top-1 error rate: 71.01% Top-5 error rate: 46.04%\n"
     ]
    },
    {
     "name": "stderr",
     "output_type": "stream",
     "text": [
      "100%|█████████▉| 5001/5005 [11:50<00:00,  7.68it/s]"
     ]
    },
    {
     "name": "stdout",
     "output_type": "stream",
     "text": [
      "  Batch 20015 Loss: 3.3726 Top-1 error rate: 70.58% Top-5 error rate: 45.45%\n"
     ]
    },
    {
     "name": "stderr",
     "output_type": "stream",
     "text": [
      "100%|██████████| 5005/5005 [11:50<00:00,  7.04it/s]\n",
      "Validation:  26%|██▌       | 100/391 [00:22<01:00,  4.77it/s]"
     ]
    },
    {
     "name": "stdout",
     "output_type": "stream",
     "text": [
      "  Validation Batch   100 Loss: 2.7707 Top-1 error: 62.68% Top-5 error: 34.28%\n"
     ]
    },
    {
     "name": "stderr",
     "output_type": "stream",
     "text": [
      "Validation:  51%|█████     | 200/391 [00:45<00:49,  3.85it/s]"
     ]
    },
    {
     "name": "stdout",
     "output_type": "stream",
     "text": [
      "  Validation Batch   200 Loss: 3.0347 Top-1 error: 64.71% Top-5 error: 39.00%\n"
     ]
    },
    {
     "name": "stderr",
     "output_type": "stream",
     "text": [
      "Validation:  77%|███████▋  | 300/391 [01:08<00:20,  4.37it/s]"
     ]
    },
    {
     "name": "stdout",
     "output_type": "stream",
     "text": [
      "  Validation Batch   300 Loss: 3.4349 Top-1 error: 69.56% Top-5 error: 45.88%\n"
     ]
    },
    {
     "name": "stderr",
     "output_type": "stream",
     "text": [
      "Validation: 100%|██████████| 391/391 [01:28<00:00,  4.40it/s]\n"
     ]
    },
    {
     "name": "stdout",
     "output_type": "stream",
     "text": [
      "LOSS train 3.4382 valid 3.1428\n",
      "Top-1 Error train 71.76% val 66.51%\n",
      "Top-5 Error train 46.72% val 40.79%\n",
      "EPOCH 5:\n"
     ]
    },
    {
     "name": "stderr",
     "output_type": "stream",
     "text": [
      " 20%|██        | 1001/5005 [02:15<08:35,  7.76it/s]"
     ]
    },
    {
     "name": "stdout",
     "output_type": "stream",
     "text": [
      "  Batch 21020 Loss: 3.2608 Top-1 error rate: 69.06% Top-5 error rate: 43.35%\n"
     ]
    },
    {
     "name": "stderr",
     "output_type": "stream",
     "text": [
      " 40%|███▉      | 2001/5005 [04:33<06:07,  8.17it/s]"
     ]
    },
    {
     "name": "stdout",
     "output_type": "stream",
     "text": [
      "  Batch 22020 Loss: 3.2638 Top-1 error rate: 69.09% Top-5 error rate: 43.42%\n"
     ]
    },
    {
     "name": "stderr",
     "output_type": "stream",
     "text": [
      " 60%|█████▉    | 3001/5005 [06:50<04:26,  7.53it/s]"
     ]
    },
    {
     "name": "stdout",
     "output_type": "stream",
     "text": [
      "  Batch 23020 Loss: 3.2490 Top-1 error rate: 68.81% Top-5 error rate: 43.21%\n"
     ]
    },
    {
     "name": "stderr",
     "output_type": "stream",
     "text": [
      " 80%|███████▉  | 4001/5005 [09:09<02:02,  8.18it/s]"
     ]
    },
    {
     "name": "stdout",
     "output_type": "stream",
     "text": [
      "  Batch 24020 Loss: 3.2336 Top-1 error rate: 68.47% Top-5 error rate: 42.94%\n"
     ]
    },
    {
     "name": "stderr",
     "output_type": "stream",
     "text": [
      "100%|█████████▉| 5001/5005 [11:31<00:00,  8.14it/s]"
     ]
    },
    {
     "name": "stdout",
     "output_type": "stream",
     "text": [
      "  Batch 25020 Loss: 3.2219 Top-1 error rate: 68.44% Top-5 error rate: 42.56%\n"
     ]
    },
    {
     "name": "stderr",
     "output_type": "stream",
     "text": [
      "100%|██████████| 5005/5005 [11:32<00:00,  7.23it/s]\n",
      "Validation:  26%|██▌       | 100/391 [00:22<01:09,  4.16it/s]"
     ]
    },
    {
     "name": "stdout",
     "output_type": "stream",
     "text": [
      "  Validation Batch   100 Loss: 2.6378 Top-1 error: 60.22% Top-5 error: 32.10%\n"
     ]
    },
    {
     "name": "stderr",
     "output_type": "stream",
     "text": [
      "Validation:  51%|█████     | 200/391 [00:46<00:39,  4.82it/s]"
     ]
    },
    {
     "name": "stdout",
     "output_type": "stream",
     "text": [
      "  Validation Batch   200 Loss: 2.8687 Top-1 error: 62.52% Top-5 error: 35.30%\n"
     ]
    },
    {
     "name": "stderr",
     "output_type": "stream",
     "text": [
      "Validation:  77%|███████▋  | 300/391 [01:07<00:18,  4.85it/s]"
     ]
    },
    {
     "name": "stdout",
     "output_type": "stream",
     "text": [
      "  Validation Batch   300 Loss: 3.3629 Top-1 error: 67.37% Top-5 error: 44.16%\n"
     ]
    },
    {
     "name": "stderr",
     "output_type": "stream",
     "text": [
      "Validation: 100%|██████████| 391/391 [01:29<00:00,  4.36it/s]\n"
     ]
    },
    {
     "name": "stdout",
     "output_type": "stream",
     "text": [
      "LOSS train 3.2460 valid 3.0150\n",
      "Top-1 Error train 68.78% val 64.09%\n",
      "Top-5 Error train 43.10% val 38.20%\n",
      "EPOCH 6:\n"
     ]
    },
    {
     "name": "stderr",
     "output_type": "stream",
     "text": [
      " 20%|██        | 1001/5005 [02:13<08:29,  7.86it/s]"
     ]
    },
    {
     "name": "stdout",
     "output_type": "stream",
     "text": [
      "  Batch 26025 Loss: 3.1052 Top-1 error rate: 66.55% Top-5 error rate: 40.70%\n"
     ]
    },
    {
     "name": "stderr",
     "output_type": "stream",
     "text": [
      " 40%|███▉      | 2001/5005 [04:29<06:10,  8.12it/s]"
     ]
    },
    {
     "name": "stdout",
     "output_type": "stream",
     "text": [
      "  Batch 27025 Loss: 3.1202 Top-1 error rate: 66.84% Top-5 error rate: 40.87%\n"
     ]
    },
    {
     "name": "stderr",
     "output_type": "stream",
     "text": [
      " 60%|█████▉    | 3001/5005 [06:48<04:31,  7.39it/s]"
     ]
    },
    {
     "name": "stdout",
     "output_type": "stream",
     "text": [
      "  Batch 28025 Loss: 3.1272 Top-1 error rate: 66.69% Top-5 error rate: 40.88%\n"
     ]
    },
    {
     "name": "stderr",
     "output_type": "stream",
     "text": [
      " 80%|███████▉  | 4001/5005 [09:11<02:01,  8.27it/s]"
     ]
    },
    {
     "name": "stdout",
     "output_type": "stream",
     "text": [
      "  Batch 29025 Loss: 3.1100 Top-1 error rate: 66.54% Top-5 error rate: 40.70%\n"
     ]
    },
    {
     "name": "stderr",
     "output_type": "stream",
     "text": [
      "100%|█████████▉| 5001/5005 [11:34<00:00,  7.13it/s]"
     ]
    },
    {
     "name": "stdout",
     "output_type": "stream",
     "text": [
      "  Batch 30025 Loss: 3.1030 Top-1 error rate: 66.33% Top-5 error rate: 40.50%\n"
     ]
    },
    {
     "name": "stderr",
     "output_type": "stream",
     "text": [
      "100%|██████████| 5005/5005 [11:34<00:00,  7.20it/s]\n",
      "Validation:  26%|██▌       | 101/391 [00:21<00:56,  5.14it/s]"
     ]
    },
    {
     "name": "stdout",
     "output_type": "stream",
     "text": [
      "  Validation Batch   100 Loss: 2.5376 Top-1 error: 58.75% Top-5 error: 30.24%\n"
     ]
    },
    {
     "name": "stderr",
     "output_type": "stream",
     "text": [
      "Validation:  51%|█████     | 200/391 [00:43<00:50,  3.81it/s]"
     ]
    },
    {
     "name": "stdout",
     "output_type": "stream",
     "text": [
      "  Validation Batch   200 Loss: 2.8210 Top-1 error: 61.70% Top-5 error: 34.38%\n"
     ]
    },
    {
     "name": "stderr",
     "output_type": "stream",
     "text": [
      "Validation:  77%|███████▋  | 301/391 [01:06<00:18,  4.89it/s]"
     ]
    },
    {
     "name": "stdout",
     "output_type": "stream",
     "text": [
      "  Validation Batch   300 Loss: 3.2389 Top-1 error: 66.11% Top-5 error: 42.13%\n"
     ]
    },
    {
     "name": "stderr",
     "output_type": "stream",
     "text": [
      "Validation: 100%|██████████| 391/391 [01:25<00:00,  4.60it/s]\n"
     ]
    },
    {
     "name": "stdout",
     "output_type": "stream",
     "text": [
      "LOSS train 3.1131 valid 2.9192\n",
      "Top-1 Error train 66.59% val 62.73%\n",
      "Top-5 Error train 40.73% val 36.46%\n",
      "EPOCH 7:\n"
     ]
    },
    {
     "name": "stderr",
     "output_type": "stream",
     "text": [
      " 20%|██        | 1001/5005 [02:13<08:20,  7.99it/s]"
     ]
    },
    {
     "name": "stdout",
     "output_type": "stream",
     "text": [
      "  Batch 31030 Loss: 3.0065 Top-1 error rate: 65.01% Top-5 error rate: 38.85%\n"
     ]
    },
    {
     "name": "stderr",
     "output_type": "stream",
     "text": [
      " 40%|███▉      | 2001/5005 [04:26<06:07,  8.18it/s]"
     ]
    },
    {
     "name": "stdout",
     "output_type": "stream",
     "text": [
      "  Batch 32030 Loss: 3.0378 Top-1 error rate: 65.43% Top-5 error rate: 39.36%\n"
     ]
    },
    {
     "name": "stderr",
     "output_type": "stream",
     "text": [
      " 60%|█████▉    | 3001/5005 [06:42<04:12,  7.94it/s]"
     ]
    },
    {
     "name": "stdout",
     "output_type": "stream",
     "text": [
      "  Batch 33030 Loss: 3.0283 Top-1 error rate: 65.22% Top-5 error rate: 39.04%\n"
     ]
    },
    {
     "name": "stderr",
     "output_type": "stream",
     "text": [
      " 80%|███████▉  | 4001/5005 [08:57<02:02,  8.18it/s]"
     ]
    },
    {
     "name": "stdout",
     "output_type": "stream",
     "text": [
      "  Batch 34030 Loss: 3.0208 Top-1 error rate: 65.08% Top-5 error rate: 39.03%\n"
     ]
    },
    {
     "name": "stderr",
     "output_type": "stream",
     "text": [
      "100%|█████████▉| 5001/5005 [11:12<00:00,  8.25it/s]"
     ]
    },
    {
     "name": "stdout",
     "output_type": "stream",
     "text": [
      "  Batch 35030 Loss: 3.0288 Top-1 error rate: 65.10% Top-5 error rate: 39.05%\n"
     ]
    },
    {
     "name": "stderr",
     "output_type": "stream",
     "text": [
      "100%|██████████| 5005/5005 [11:12<00:00,  7.44it/s]\n",
      "Validation:  26%|██▌       | 101/391 [00:22<00:56,  5.10it/s]"
     ]
    },
    {
     "name": "stdout",
     "output_type": "stream",
     "text": [
      "  Validation Batch   100 Loss: 2.3838 Top-1 error: 56.34% Top-5 error: 28.18%\n"
     ]
    },
    {
     "name": "stderr",
     "output_type": "stream",
     "text": [
      "Validation:  51%|█████     | 200/391 [00:43<00:44,  4.29it/s]"
     ]
    },
    {
     "name": "stdout",
     "output_type": "stream",
     "text": [
      "  Validation Batch   200 Loss: 2.6774 Top-1 error: 59.20% Top-5 error: 32.27%\n"
     ]
    },
    {
     "name": "stderr",
     "output_type": "stream",
     "text": [
      "Validation:  77%|███████▋  | 300/391 [01:06<00:19,  4.59it/s]"
     ]
    },
    {
     "name": "stdout",
     "output_type": "stream",
     "text": [
      "  Validation Batch   300 Loss: 3.1382 Top-1 error: 64.52% Top-5 error: 40.50%\n"
     ]
    },
    {
     "name": "stderr",
     "output_type": "stream",
     "text": [
      "Validation: 100%|██████████| 391/391 [01:25<00:00,  4.56it/s]\n"
     ]
    },
    {
     "name": "stdout",
     "output_type": "stream",
     "text": [
      "LOSS train 3.0245 valid 2.8074\n",
      "Top-1 Error train 65.17% val 61.04%\n",
      "Top-5 Error train 39.07% val 34.82%\n",
      "EPOCH 8:\n"
     ]
    },
    {
     "name": "stderr",
     "output_type": "stream",
     "text": [
      " 20%|██        | 1001/5005 [02:11<08:20,  7.99it/s]"
     ]
    },
    {
     "name": "stdout",
     "output_type": "stream",
     "text": [
      "  Batch 36035 Loss: 2.9257 Top-1 error rate: 63.58% Top-5 error rate: 37.30%\n"
     ]
    },
    {
     "name": "stderr",
     "output_type": "stream",
     "text": [
      " 40%|███▉      | 2001/5005 [04:25<06:04,  8.24it/s]"
     ]
    },
    {
     "name": "stdout",
     "output_type": "stream",
     "text": [
      "  Batch 37035 Loss: 2.9584 Top-1 error rate: 64.15% Top-5 error rate: 37.78%\n"
     ]
    },
    {
     "name": "stderr",
     "output_type": "stream",
     "text": [
      " 60%|█████▉    | 3001/5005 [06:40<04:25,  7.56it/s]"
     ]
    },
    {
     "name": "stdout",
     "output_type": "stream",
     "text": [
      "  Batch 38035 Loss: 2.9670 Top-1 error rate: 64.22% Top-5 error rate: 38.03%\n"
     ]
    },
    {
     "name": "stderr",
     "output_type": "stream",
     "text": [
      " 80%|███████▉  | 4001/5005 [08:55<02:02,  8.18it/s]"
     ]
    },
    {
     "name": "stdout",
     "output_type": "stream",
     "text": [
      "  Batch 39035 Loss: 2.9633 Top-1 error rate: 63.99% Top-5 error rate: 38.01%\n"
     ]
    },
    {
     "name": "stderr",
     "output_type": "stream",
     "text": [
      "100%|█████████▉| 5001/5005 [11:07<00:00,  7.25it/s]"
     ]
    },
    {
     "name": "stdout",
     "output_type": "stream",
     "text": [
      "  Batch 40035 Loss: 2.9665 Top-1 error rate: 64.18% Top-5 error rate: 37.89%\n"
     ]
    },
    {
     "name": "stderr",
     "output_type": "stream",
     "text": [
      "100%|██████████| 5005/5005 [11:07<00:00,  7.50it/s]\n",
      "Validation:  26%|██▌       | 101/391 [00:22<00:59,  4.85it/s]"
     ]
    },
    {
     "name": "stdout",
     "output_type": "stream",
     "text": [
      "  Validation Batch   100 Loss: 2.4479 Top-1 error: 57.05% Top-5 error: 28.50%\n"
     ]
    },
    {
     "name": "stderr",
     "output_type": "stream",
     "text": [
      "Validation:  51%|█████     | 200/391 [00:42<00:39,  4.85it/s]"
     ]
    },
    {
     "name": "stdout",
     "output_type": "stream",
     "text": [
      "  Validation Batch   200 Loss: 2.7524 Top-1 error: 60.00% Top-5 error: 33.00%\n"
     ]
    },
    {
     "name": "stderr",
     "output_type": "stream",
     "text": [
      "Validation:  77%|███████▋  | 300/391 [01:07<00:19,  4.60it/s]"
     ]
    },
    {
     "name": "stdout",
     "output_type": "stream",
     "text": [
      "  Validation Batch   300 Loss: 3.1699 Top-1 error: 64.56% Top-5 error: 41.10%\n"
     ]
    },
    {
     "name": "stderr",
     "output_type": "stream",
     "text": [
      "Validation: 100%|██████████| 391/391 [01:26<00:00,  4.51it/s]\n"
     ]
    },
    {
     "name": "stdout",
     "output_type": "stream",
     "text": [
      "LOSS train 2.9563 valid 2.8507\n",
      "Top-1 Error train 64.02% val 61.40%\n",
      "Top-5 Error train 37.80% val 35.14%\n",
      "EPOCH 9:\n"
     ]
    },
    {
     "name": "stderr",
     "output_type": "stream",
     "text": [
      " 20%|██        | 1001/5005 [02:10<08:05,  8.25it/s]"
     ]
    },
    {
     "name": "stdout",
     "output_type": "stream",
     "text": [
      "  Batch 41040 Loss: 2.8759 Top-1 error rate: 62.69% Top-5 error rate: 36.45%\n"
     ]
    },
    {
     "name": "stderr",
     "output_type": "stream",
     "text": [
      " 40%|███▉      | 2001/5005 [04:25<07:18,  6.85it/s]"
     ]
    },
    {
     "name": "stdout",
     "output_type": "stream",
     "text": [
      "  Batch 42040 Loss: 2.9032 Top-1 error rate: 63.18% Top-5 error rate: 36.85%\n"
     ]
    },
    {
     "name": "stderr",
     "output_type": "stream",
     "text": [
      " 60%|█████▉    | 3001/5005 [06:46<04:06,  8.13it/s]"
     ]
    },
    {
     "name": "stdout",
     "output_type": "stream",
     "text": [
      "  Batch 43040 Loss: 2.9069 Top-1 error rate: 63.06% Top-5 error rate: 37.06%\n"
     ]
    },
    {
     "name": "stderr",
     "output_type": "stream",
     "text": [
      " 80%|███████▉  | 4001/5005 [09:07<02:05,  8.02it/s]"
     ]
    },
    {
     "name": "stdout",
     "output_type": "stream",
     "text": [
      "  Batch 44040 Loss: 2.9224 Top-1 error rate: 63.42% Top-5 error rate: 37.14%\n"
     ]
    },
    {
     "name": "stderr",
     "output_type": "stream",
     "text": [
      "100%|█████████▉| 5001/5005 [11:27<00:00,  5.81it/s]"
     ]
    },
    {
     "name": "stdout",
     "output_type": "stream",
     "text": [
      "  Batch 45040 Loss: 2.9252 Top-1 error rate: 63.52% Top-5 error rate: 37.23%\n"
     ]
    },
    {
     "name": "stderr",
     "output_type": "stream",
     "text": [
      "100%|██████████| 5005/5005 [11:27<00:00,  7.28it/s]\n",
      "Validation:  26%|██▌       | 101/391 [00:21<01:09,  4.18it/s]"
     ]
    },
    {
     "name": "stdout",
     "output_type": "stream",
     "text": [
      "  Validation Batch   100 Loss: 2.3870 Top-1 error: 55.46% Top-5 error: 27.90%\n"
     ]
    },
    {
     "name": "stderr",
     "output_type": "stream",
     "text": [
      "Validation:  51%|█████     | 200/391 [00:45<00:39,  4.82it/s]"
     ]
    },
    {
     "name": "stdout",
     "output_type": "stream",
     "text": [
      "  Validation Batch   200 Loss: 2.7069 Top-1 error: 60.27% Top-5 error: 32.88%\n"
     ]
    },
    {
     "name": "stderr",
     "output_type": "stream",
     "text": [
      "Validation:  77%|███████▋  | 300/391 [01:05<00:19,  4.77it/s]"
     ]
    },
    {
     "name": "stdout",
     "output_type": "stream",
     "text": [
      "  Validation Batch   300 Loss: 3.0752 Top-1 error: 63.48% Top-5 error: 39.64%\n"
     ]
    },
    {
     "name": "stderr",
     "output_type": "stream",
     "text": [
      "Validation: 100%|██████████| 391/391 [01:25<00:00,  4.55it/s]\n"
     ]
    },
    {
     "name": "stdout",
     "output_type": "stream",
     "text": [
      "LOSS train 2.9066 valid 2.7836\n",
      "Top-1 Error train 63.17% val 60.60%\n",
      "Top-5 Error train 36.95% val 34.40%\n",
      "EPOCH 10:\n"
     ]
    },
    {
     "name": "stderr",
     "output_type": "stream",
     "text": [
      " 20%|██        | 1001/5005 [02:09<08:04,  8.26it/s]"
     ]
    },
    {
     "name": "stdout",
     "output_type": "stream",
     "text": [
      "  Batch 46045 Loss: 2.8244 Top-1 error rate: 62.02% Top-5 error rate: 35.56%\n"
     ]
    },
    {
     "name": "stderr",
     "output_type": "stream",
     "text": [
      " 40%|███▉      | 2001/5005 [04:20<06:48,  7.35it/s]"
     ]
    },
    {
     "name": "stdout",
     "output_type": "stream",
     "text": [
      "  Batch 47045 Loss: 2.8520 Top-1 error rate: 62.37% Top-5 error rate: 35.98%\n"
     ]
    },
    {
     "name": "stderr",
     "output_type": "stream",
     "text": [
      " 60%|█████▉    | 3001/5005 [06:36<05:37,  5.93it/s]"
     ]
    },
    {
     "name": "stdout",
     "output_type": "stream",
     "text": [
      "  Batch 48045 Loss: 2.8714 Top-1 error rate: 62.44% Top-5 error rate: 36.37%\n"
     ]
    },
    {
     "name": "stderr",
     "output_type": "stream",
     "text": [
      " 80%|███████▉  | 4001/5005 [08:51<02:05,  8.02it/s]"
     ]
    },
    {
     "name": "stdout",
     "output_type": "stream",
     "text": [
      "  Batch 49045 Loss: 2.8746 Top-1 error rate: 62.43% Top-5 error rate: 36.48%\n"
     ]
    },
    {
     "name": "stderr",
     "output_type": "stream",
     "text": [
      "100%|█████████▉| 5001/5005 [11:08<00:01,  3.07it/s]"
     ]
    },
    {
     "name": "stdout",
     "output_type": "stream",
     "text": [
      "  Batch 50045 Loss: 2.8853 Top-1 error rate: 62.72% Top-5 error rate: 36.52%\n"
     ]
    },
    {
     "name": "stderr",
     "output_type": "stream",
     "text": [
      "100%|██████████| 5005/5005 [11:09<00:00,  7.48it/s]\n",
      "Validation:  26%|██▌       | 100/391 [00:21<01:06,  4.39it/s]"
     ]
    },
    {
     "name": "stdout",
     "output_type": "stream",
     "text": [
      "  Validation Batch   100 Loss: 2.2424 Top-1 error: 53.68% Top-5 error: 25.15%\n"
     ]
    },
    {
     "name": "stderr",
     "output_type": "stream",
     "text": [
      "Validation:  51%|█████     | 200/391 [00:45<00:40,  4.67it/s]"
     ]
    },
    {
     "name": "stdout",
     "output_type": "stream",
     "text": [
      "  Validation Batch   200 Loss: 2.6188 Top-1 error: 57.94% Top-5 error: 31.34%\n"
     ]
    },
    {
     "name": "stderr",
     "output_type": "stream",
     "text": [
      "Validation:  77%|███████▋  | 301/391 [01:05<00:18,  4.93it/s]"
     ]
    },
    {
     "name": "stdout",
     "output_type": "stream",
     "text": [
      "  Validation Batch   300 Loss: 3.0894 Top-1 error: 62.79% Top-5 error: 39.35%\n"
     ]
    },
    {
     "name": "stderr",
     "output_type": "stream",
     "text": [
      "Validation: 100%|██████████| 391/391 [01:26<00:00,  4.54it/s]\n"
     ]
    },
    {
     "name": "stdout",
     "output_type": "stream",
     "text": [
      "LOSS train 2.8616 valid 2.7271\n",
      "Top-1 Error train 62.40% val 59.19%\n",
      "Top-5 Error train 36.18% val 33.21%\n",
      "EPOCH 11:\n"
     ]
    },
    {
     "name": "stderr",
     "output_type": "stream",
     "text": [
      " 20%|██        | 1001/5005 [02:09<08:05,  8.25it/s]"
     ]
    },
    {
     "name": "stdout",
     "output_type": "stream",
     "text": [
      "  Batch 51050 Loss: 2.7787 Top-1 error rate: 61.05% Top-5 error rate: 34.76%\n"
     ]
    },
    {
     "name": "stderr",
     "output_type": "stream",
     "text": [
      " 40%|███▉      | 2001/5005 [04:20<06:56,  7.21it/s]"
     ]
    },
    {
     "name": "stdout",
     "output_type": "stream",
     "text": [
      "  Batch 52050 Loss: 2.8201 Top-1 error rate: 61.70% Top-5 error rate: 35.46%\n"
     ]
    },
    {
     "name": "stderr",
     "output_type": "stream",
     "text": [
      " 60%|█████▉    | 3001/5005 [06:33<04:05,  8.16it/s]"
     ]
    },
    {
     "name": "stdout",
     "output_type": "stream",
     "text": [
      "  Batch 53050 Loss: 2.8373 Top-1 error rate: 61.98% Top-5 error rate: 35.76%\n"
     ]
    },
    {
     "name": "stderr",
     "output_type": "stream",
     "text": [
      " 80%|███████▉  | 4001/5005 [08:48<02:14,  7.47it/s]"
     ]
    },
    {
     "name": "stdout",
     "output_type": "stream",
     "text": [
      "  Batch 54050 Loss: 2.8473 Top-1 error rate: 62.04% Top-5 error rate: 35.94%\n"
     ]
    },
    {
     "name": "stderr",
     "output_type": "stream",
     "text": [
      "100%|█████████▉| 5001/5005 [11:02<00:00,  8.25it/s]"
     ]
    },
    {
     "name": "stdout",
     "output_type": "stream",
     "text": [
      "  Batch 55050 Loss: 2.8560 Top-1 error rate: 62.27% Top-5 error rate: 36.08%\n"
     ]
    },
    {
     "name": "stderr",
     "output_type": "stream",
     "text": [
      "100%|██████████| 5005/5005 [11:02<00:00,  7.55it/s]\n",
      "Validation:  26%|██▌       | 100/391 [00:23<01:08,  4.27it/s]"
     ]
    },
    {
     "name": "stdout",
     "output_type": "stream",
     "text": [
      "  Validation Batch   100 Loss: 2.2899 Top-1 error: 53.91% Top-5 error: 25.98%\n"
     ]
    },
    {
     "name": "stderr",
     "output_type": "stream",
     "text": [
      "Validation:  51%|█████▏    | 201/391 [00:45<00:38,  4.95it/s]"
     ]
    },
    {
     "name": "stdout",
     "output_type": "stream",
     "text": [
      "  Validation Batch   200 Loss: 2.6626 Top-1 error: 58.34% Top-5 error: 32.26%\n"
     ]
    },
    {
     "name": "stderr",
     "output_type": "stream",
     "text": [
      "Validation:  77%|███████▋  | 300/391 [01:08<00:22,  4.03it/s]"
     ]
    },
    {
     "name": "stdout",
     "output_type": "stream",
     "text": [
      "  Validation Batch   300 Loss: 3.1214 Top-1 error: 64.18% Top-5 error: 40.21%\n"
     ]
    },
    {
     "name": "stderr",
     "output_type": "stream",
     "text": [
      "Validation: 100%|██████████| 391/391 [01:27<00:00,  4.46it/s]\n"
     ]
    },
    {
     "name": "stdout",
     "output_type": "stream",
     "text": [
      "LOSS train 2.8278 valid 2.7494\n",
      "Top-1 Error train 61.81% val 59.66%\n",
      "Top-5 Error train 35.60% val 33.78%\n",
      "EPOCH 12:\n"
     ]
    },
    {
     "name": "stderr",
     "output_type": "stream",
     "text": [
      " 20%|██        | 1001/5005 [02:10<08:12,  8.13it/s]"
     ]
    },
    {
     "name": "stdout",
     "output_type": "stream",
     "text": [
      "  Batch 56055 Loss: 2.7535 Top-1 error rate: 60.75% Top-5 error rate: 34.26%\n"
     ]
    },
    {
     "name": "stderr",
     "output_type": "stream",
     "text": [
      " 40%|███▉      | 2001/5005 [04:24<06:08,  8.15it/s]"
     ]
    },
    {
     "name": "stdout",
     "output_type": "stream",
     "text": [
      "  Batch 57055 Loss: 2.7971 Top-1 error rate: 61.36% Top-5 error rate: 35.03%\n"
     ]
    },
    {
     "name": "stderr",
     "output_type": "stream",
     "text": [
      " 60%|█████▉    | 3001/5005 [06:43<04:31,  7.39it/s]"
     ]
    },
    {
     "name": "stdout",
     "output_type": "stream",
     "text": [
      "  Batch 58055 Loss: 2.8156 Top-1 error rate: 61.52% Top-5 error rate: 35.36%\n"
     ]
    },
    {
     "name": "stderr",
     "output_type": "stream",
     "text": [
      " 80%|███████▉  | 4001/5005 [09:02<02:02,  8.18it/s]"
     ]
    },
    {
     "name": "stdout",
     "output_type": "stream",
     "text": [
      "  Batch 59055 Loss: 2.8140 Top-1 error rate: 61.43% Top-5 error rate: 35.38%\n"
     ]
    },
    {
     "name": "stderr",
     "output_type": "stream",
     "text": [
      "100%|█████████▉| 5001/5005 [11:19<00:00,  4.71it/s]"
     ]
    },
    {
     "name": "stdout",
     "output_type": "stream",
     "text": [
      "  Batch 60055 Loss: 2.8253 Top-1 error rate: 61.76% Top-5 error rate: 35.43%\n"
     ]
    },
    {
     "name": "stderr",
     "output_type": "stream",
     "text": [
      "100%|██████████| 5005/5005 [11:19<00:00,  7.37it/s]\n",
      "Validation:  26%|██▌       | 101/391 [00:23<00:59,  4.90it/s]"
     ]
    },
    {
     "name": "stdout",
     "output_type": "stream",
     "text": [
      "  Validation Batch   100 Loss: 2.2667 Top-1 error: 53.17% Top-5 error: 25.55%\n"
     ]
    },
    {
     "name": "stderr",
     "output_type": "stream",
     "text": [
      "Validation:  51%|█████▏    | 201/391 [00:44<00:34,  5.57it/s]"
     ]
    },
    {
     "name": "stdout",
     "output_type": "stream",
     "text": [
      "  Validation Batch   200 Loss: 2.6065 Top-1 error: 56.82% Top-5 error: 30.46%\n"
     ]
    },
    {
     "name": "stderr",
     "output_type": "stream",
     "text": [
      "Validation:  77%|███████▋  | 300/391 [01:06<00:19,  4.73it/s]"
     ]
    },
    {
     "name": "stdout",
     "output_type": "stream",
     "text": [
      "  Validation Batch   300 Loss: 3.0398 Top-1 error: 61.73% Top-5 error: 38.66%\n"
     ]
    },
    {
     "name": "stderr",
     "output_type": "stream",
     "text": [
      "Validation: 100%|██████████| 391/391 [01:26<00:00,  4.52it/s]\n"
     ]
    },
    {
     "name": "stdout",
     "output_type": "stream",
     "text": [
      "LOSS train 2.8010 valid 2.6944\n",
      "Top-1 Error train 61.36% val 58.14%\n",
      "Top-5 Error train 35.09% val 32.55%\n",
      "EPOCH 13:\n"
     ]
    },
    {
     "name": "stderr",
     "output_type": "stream",
     "text": [
      " 20%|██        | 1001/5005 [02:12<12:12,  5.46it/s]"
     ]
    },
    {
     "name": "stdout",
     "output_type": "stream",
     "text": [
      "  Batch 61060 Loss: 2.7257 Top-1 error rate: 60.14% Top-5 error rate: 33.74%\n"
     ]
    },
    {
     "name": "stderr",
     "output_type": "stream",
     "text": [
      " 40%|███▉      | 2001/5005 [04:23<06:05,  8.21it/s]"
     ]
    },
    {
     "name": "stdout",
     "output_type": "stream",
     "text": [
      "  Batch 62060 Loss: 2.7719 Top-1 error rate: 60.85% Top-5 error rate: 34.65%\n"
     ]
    },
    {
     "name": "stderr",
     "output_type": "stream",
     "text": [
      " 60%|█████▉    | 3001/5005 [06:37<04:21,  7.67it/s]"
     ]
    },
    {
     "name": "stdout",
     "output_type": "stream",
     "text": [
      "  Batch 63060 Loss: 2.7886 Top-1 error rate: 61.20% Top-5 error rate: 34.87%\n"
     ]
    },
    {
     "name": "stderr",
     "output_type": "stream",
     "text": [
      " 80%|███████▉  | 4001/5005 [08:51<02:13,  7.52it/s]"
     ]
    },
    {
     "name": "stdout",
     "output_type": "stream",
     "text": [
      "  Batch 64060 Loss: 2.7894 Top-1 error rate: 61.11% Top-5 error rate: 34.92%\n"
     ]
    },
    {
     "name": "stderr",
     "output_type": "stream",
     "text": [
      "100%|█████████▉| 5001/5005 [11:04<00:00,  8.15it/s]"
     ]
    },
    {
     "name": "stdout",
     "output_type": "stream",
     "text": [
      "  Batch 65060 Loss: 2.8092 Top-1 error rate: 61.36% Top-5 error rate: 35.22%\n"
     ]
    },
    {
     "name": "stderr",
     "output_type": "stream",
     "text": [
      "100%|██████████| 5005/5005 [11:06<00:00,  7.51it/s]\n",
      "Validation:  26%|██▌       | 101/391 [00:26<01:04,  4.50it/s]"
     ]
    },
    {
     "name": "stdout",
     "output_type": "stream",
     "text": [
      "  Validation Batch   100 Loss: 2.2976 Top-1 error: 53.42% Top-5 error: 26.38%\n"
     ]
    },
    {
     "name": "stderr",
     "output_type": "stream",
     "text": [
      "Validation:  51%|█████     | 200/391 [00:46<00:38,  4.99it/s]"
     ]
    },
    {
     "name": "stdout",
     "output_type": "stream",
     "text": [
      "  Validation Batch   200 Loss: 2.5733 Top-1 error: 56.46% Top-5 error: 30.12%\n"
     ]
    },
    {
     "name": "stderr",
     "output_type": "stream",
     "text": [
      "Validation:  77%|███████▋  | 300/391 [01:07<00:22,  4.09it/s]"
     ]
    },
    {
     "name": "stdout",
     "output_type": "stream",
     "text": [
      "  Validation Batch   300 Loss: 3.0230 Top-1 error: 62.42% Top-5 error: 38.63%\n"
     ]
    },
    {
     "name": "stderr",
     "output_type": "stream",
     "text": [
      "Validation: 100%|██████████| 391/391 [01:28<00:00,  4.44it/s]\n"
     ]
    },
    {
     "name": "stdout",
     "output_type": "stream",
     "text": [
      "LOSS train 2.7771 valid 2.6888\n",
      "Top-1 Error train 60.93% val 58.35%\n",
      "Top-5 Error train 34.68% val 32.56%\n",
      "EPOCH 14:\n"
     ]
    },
    {
     "name": "stderr",
     "output_type": "stream",
     "text": [
      " 20%|██        | 1001/5005 [02:08<08:06,  8.24it/s]"
     ]
    },
    {
     "name": "stdout",
     "output_type": "stream",
     "text": [
      "  Batch 66065 Loss: 2.7011 Top-1 error rate: 59.76% Top-5 error rate: 33.38%\n"
     ]
    },
    {
     "name": "stderr",
     "output_type": "stream",
     "text": [
      " 40%|███▉      | 2001/5005 [04:18<06:09,  8.13it/s]"
     ]
    },
    {
     "name": "stdout",
     "output_type": "stream",
     "text": [
      "  Batch 67065 Loss: 2.7439 Top-1 error rate: 60.37% Top-5 error rate: 34.13%\n"
     ]
    },
    {
     "name": "stderr",
     "output_type": "stream",
     "text": [
      " 60%|█████▉    | 3001/5005 [06:34<04:07,  8.10it/s]"
     ]
    },
    {
     "name": "stdout",
     "output_type": "stream",
     "text": [
      "  Batch 68065 Loss: 2.7673 Top-1 error rate: 60.83% Top-5 error rate: 34.47%\n"
     ]
    },
    {
     "name": "stderr",
     "output_type": "stream",
     "text": [
      " 80%|███████▉  | 4001/5005 [08:56<03:02,  5.49it/s]"
     ]
    },
    {
     "name": "stdout",
     "output_type": "stream",
     "text": [
      "  Batch 69065 Loss: 2.7747 Top-1 error rate: 61.00% Top-5 error rate: 34.63%\n"
     ]
    },
    {
     "name": "stderr",
     "output_type": "stream",
     "text": [
      "100%|█████████▉| 5001/5005 [12:01<00:00,  8.19it/s]"
     ]
    },
    {
     "name": "stdout",
     "output_type": "stream",
     "text": [
      "  Batch 70065 Loss: 2.7897 Top-1 error rate: 61.07% Top-5 error rate: 34.84%\n"
     ]
    },
    {
     "name": "stderr",
     "output_type": "stream",
     "text": [
      "100%|██████████| 5005/5005 [12:02<00:00,  6.93it/s]\n",
      "Validation:  26%|██▌       | 100/391 [00:29<01:09,  4.21it/s]"
     ]
    },
    {
     "name": "stdout",
     "output_type": "stream",
     "text": [
      "  Validation Batch   100 Loss: 2.2238 Top-1 error: 52.18% Top-5 error: 24.70%\n"
     ]
    },
    {
     "name": "stderr",
     "output_type": "stream",
     "text": [
      "Validation:  51%|█████     | 200/391 [00:52<00:42,  4.45it/s]"
     ]
    },
    {
     "name": "stdout",
     "output_type": "stream",
     "text": [
      "  Validation Batch   200 Loss: 2.4562 Top-1 error: 54.38% Top-5 error: 28.35%\n"
     ]
    },
    {
     "name": "stderr",
     "output_type": "stream",
     "text": [
      "Validation:  77%|███████▋  | 300/391 [01:19<00:28,  3.21it/s]"
     ]
    },
    {
     "name": "stdout",
     "output_type": "stream",
     "text": [
      "  Validation Batch   300 Loss: 2.9839 Top-1 error: 61.41% Top-5 error: 37.91%\n"
     ]
    },
    {
     "name": "stderr",
     "output_type": "stream",
     "text": [
      "Validation: 100%|██████████| 391/391 [01:44<00:00,  3.76it/s]\n"
     ]
    },
    {
     "name": "stdout",
     "output_type": "stream",
     "text": [
      "LOSS train 2.7552 valid 2.6099\n",
      "Top-1 Error train 60.61% val 56.93%\n",
      "Top-5 Error train 34.29% val 31.25%\n",
      "EPOCH 15:\n"
     ]
    },
    {
     "name": "stderr",
     "output_type": "stream",
     "text": [
      " 20%|██        | 1001/5005 [02:10<08:02,  8.30it/s]"
     ]
    },
    {
     "name": "stdout",
     "output_type": "stream",
     "text": [
      "  Batch 71070 Loss: 2.6852 Top-1 error rate: 59.46% Top-5 error rate: 33.12%\n"
     ]
    },
    {
     "name": "stderr",
     "output_type": "stream",
     "text": [
      " 40%|███▉      | 2001/5005 [04:23<06:10,  8.10it/s]"
     ]
    },
    {
     "name": "stdout",
     "output_type": "stream",
     "text": [
      "  Batch 72070 Loss: 2.7352 Top-1 error rate: 60.25% Top-5 error rate: 33.94%\n"
     ]
    },
    {
     "name": "stderr",
     "output_type": "stream",
     "text": [
      " 60%|█████▉    | 3001/5005 [06:40<04:06,  8.13it/s]"
     ]
    },
    {
     "name": "stdout",
     "output_type": "stream",
     "text": [
      "  Batch 73070 Loss: 2.7487 Top-1 error rate: 60.49% Top-5 error rate: 34.17%\n"
     ]
    },
    {
     "name": "stderr",
     "output_type": "stream",
     "text": [
      " 80%|███████▉  | 4001/5005 [08:51<02:13,  7.55it/s]"
     ]
    },
    {
     "name": "stdout",
     "output_type": "stream",
     "text": [
      "  Batch 74070 Loss: 2.7562 Top-1 error rate: 60.58% Top-5 error rate: 34.24%\n"
     ]
    },
    {
     "name": "stderr",
     "output_type": "stream",
     "text": [
      "100%|█████████▉| 5001/5005 [11:08<00:00,  8.30it/s]"
     ]
    },
    {
     "name": "stdout",
     "output_type": "stream",
     "text": [
      "  Batch 75070 Loss: 2.7671 Top-1 error rate: 60.73% Top-5 error rate: 34.39%\n"
     ]
    },
    {
     "name": "stderr",
     "output_type": "stream",
     "text": [
      "100%|██████████| 5005/5005 [11:08<00:00,  7.49it/s]\n",
      "Validation:  26%|██▌       | 100/391 [00:30<01:44,  2.77it/s]"
     ]
    },
    {
     "name": "stdout",
     "output_type": "stream",
     "text": [
      "  Validation Batch   100 Loss: 2.2491 Top-1 error: 52.95% Top-5 error: 25.06%\n"
     ]
    },
    {
     "name": "stderr",
     "output_type": "stream",
     "text": [
      "Validation:  51%|█████     | 200/391 [01:16<01:06,  2.86it/s]"
     ]
    },
    {
     "name": "stdout",
     "output_type": "stream",
     "text": [
      "  Validation Batch   200 Loss: 2.5560 Top-1 error: 56.91% Top-5 error: 29.64%\n"
     ]
    },
    {
     "name": "stderr",
     "output_type": "stream",
     "text": [
      "Validation:  77%|███████▋  | 300/391 [01:43<00:22,  4.02it/s]"
     ]
    },
    {
     "name": "stdout",
     "output_type": "stream",
     "text": [
      "  Validation Batch   300 Loss: 3.0645 Top-1 error: 62.55% Top-5 error: 38.78%\n"
     ]
    },
    {
     "name": "stderr",
     "output_type": "stream",
     "text": [
      "Validation: 100%|██████████| 391/391 [02:04<00:00,  3.13it/s]\n"
     ]
    },
    {
     "name": "stdout",
     "output_type": "stream",
     "text": [
      "LOSS train 2.7385 valid 2.6766\n",
      "Top-1 Error train 60.30% val 58.23%\n",
      "Top-5 Error train 33.97% val 32.14%\n",
      "EPOCH 16:\n"
     ]
    },
    {
     "name": "stderr",
     "output_type": "stream",
     "text": [
      " 20%|██        | 1001/5005 [02:11<08:07,  8.22it/s]"
     ]
    },
    {
     "name": "stdout",
     "output_type": "stream",
     "text": [
      "  Batch 76075 Loss: 2.6719 Top-1 error rate: 59.26% Top-5 error rate: 32.89%\n"
     ]
    },
    {
     "name": "stderr",
     "output_type": "stream",
     "text": [
      " 40%|███▉      | 2001/5005 [04:27<08:31,  5.87it/s]"
     ]
    },
    {
     "name": "stdout",
     "output_type": "stream",
     "text": [
      "  Batch 77075 Loss: 2.7141 Top-1 error rate: 59.92% Top-5 error rate: 33.49%\n"
     ]
    },
    {
     "name": "stderr",
     "output_type": "stream",
     "text": [
      " 60%|█████▉    | 3001/5005 [06:43<04:03,  8.24it/s]"
     ]
    },
    {
     "name": "stdout",
     "output_type": "stream",
     "text": [
      "  Batch 78075 Loss: 2.7378 Top-1 error rate: 60.21% Top-5 error rate: 33.93%\n"
     ]
    },
    {
     "name": "stderr",
     "output_type": "stream",
     "text": [
      " 80%|███████▉  | 4001/5005 [09:10<02:02,  8.22it/s]"
     ]
    },
    {
     "name": "stdout",
     "output_type": "stream",
     "text": [
      "  Batch 79075 Loss: 2.7441 Top-1 error rate: 60.35% Top-5 error rate: 34.05%\n"
     ]
    },
    {
     "name": "stderr",
     "output_type": "stream",
     "text": [
      "100%|█████████▉| 5000/5005 [11:28<00:00,  7.86it/s]"
     ]
    },
    {
     "name": "stdout",
     "output_type": "stream",
     "text": [
      "  Batch 80075 Loss: 2.7550 Top-1 error rate: 60.54% Top-5 error rate: 34.21%\n"
     ]
    },
    {
     "name": "stderr",
     "output_type": "stream",
     "text": [
      "100%|██████████| 5005/5005 [11:29<00:00,  7.26it/s]\n",
      "Validation:  26%|██▌       | 100/391 [00:38<01:21,  3.58it/s]"
     ]
    },
    {
     "name": "stdout",
     "output_type": "stream",
     "text": [
      "  Validation Batch   100 Loss: 2.2705 Top-1 error: 52.91% Top-5 error: 25.76%\n"
     ]
    },
    {
     "name": "stderr",
     "output_type": "stream",
     "text": [
      "Validation:  51%|█████     | 200/391 [01:06<01:28,  2.17it/s]"
     ]
    },
    {
     "name": "stdout",
     "output_type": "stream",
     "text": [
      "  Validation Batch   200 Loss: 2.5331 Top-1 error: 56.22% Top-5 error: 29.42%\n"
     ]
    },
    {
     "name": "stderr",
     "output_type": "stream",
     "text": [
      "Validation:  77%|███████▋  | 300/391 [01:34<00:23,  3.95it/s]"
     ]
    },
    {
     "name": "stdout",
     "output_type": "stream",
     "text": [
      "  Validation Batch   300 Loss: 3.0207 Top-1 error: 61.72% Top-5 error: 38.18%\n"
     ]
    },
    {
     "name": "stderr",
     "output_type": "stream",
     "text": [
      "Validation: 100%|██████████| 391/391 [02:00<00:00,  3.26it/s]\n"
     ]
    },
    {
     "name": "stdout",
     "output_type": "stream",
     "text": [
      "LOSS train 2.7246 valid 2.6564\n",
      "Top-1 Error train 60.05% val 57.68%\n",
      "Top-5 Error train 33.71% val 31.92%\n",
      "EPOCH 17:\n"
     ]
    },
    {
     "name": "stderr",
     "output_type": "stream",
     "text": [
      " 20%|██        | 1001/5005 [02:16<08:12,  8.13it/s]"
     ]
    },
    {
     "name": "stdout",
     "output_type": "stream",
     "text": [
      "  Batch 81080 Loss: 2.6552 Top-1 error rate: 58.91% Top-5 error rate: 32.66%\n"
     ]
    },
    {
     "name": "stderr",
     "output_type": "stream",
     "text": [
      " 40%|███▉      | 2001/5005 [04:54<06:04,  8.25it/s]"
     ]
    },
    {
     "name": "stdout",
     "output_type": "stream",
     "text": [
      "  Batch 82080 Loss: 2.6958 Top-1 error rate: 59.65% Top-5 error rate: 33.23%\n"
     ]
    },
    {
     "name": "stderr",
     "output_type": "stream",
     "text": [
      " 60%|█████▉    | 3001/5005 [07:14<04:07,  8.11it/s]"
     ]
    },
    {
     "name": "stdout",
     "output_type": "stream",
     "text": [
      "  Batch 83080 Loss: 2.7172 Top-1 error rate: 59.91% Top-5 error rate: 33.53%\n"
     ]
    },
    {
     "name": "stderr",
     "output_type": "stream",
     "text": [
      " 80%|███████▉  | 4001/5005 [09:29<03:43,  4.50it/s]"
     ]
    },
    {
     "name": "stdout",
     "output_type": "stream",
     "text": [
      "  Batch 84080 Loss: 2.7263 Top-1 error rate: 60.13% Top-5 error rate: 33.81%\n"
     ]
    },
    {
     "name": "stderr",
     "output_type": "stream",
     "text": [
      "100%|█████████▉| 5001/5005 [12:04<00:00,  6.32it/s]"
     ]
    },
    {
     "name": "stdout",
     "output_type": "stream",
     "text": [
      "  Batch 85080 Loss: 2.7530 Top-1 error rate: 60.40% Top-5 error rate: 34.22%\n"
     ]
    },
    {
     "name": "stderr",
     "output_type": "stream",
     "text": [
      "100%|██████████| 5005/5005 [12:05<00:00,  6.90it/s]\n",
      "Validation:  26%|██▌       | 100/391 [00:47<03:05,  1.57it/s]"
     ]
    },
    {
     "name": "stdout",
     "output_type": "stream",
     "text": [
      "  Validation Batch   100 Loss: 2.2528 Top-1 error: 52.66% Top-5 error: 25.20%\n"
     ]
    },
    {
     "name": "stderr",
     "output_type": "stream",
     "text": [
      "Validation:  51%|█████     | 200/391 [01:34<01:31,  2.09it/s]"
     ]
    },
    {
     "name": "stdout",
     "output_type": "stream",
     "text": [
      "  Validation Batch   200 Loss: 2.5030 Top-1 error: 55.66% Top-5 error: 28.65%\n"
     ]
    },
    {
     "name": "stderr",
     "output_type": "stream",
     "text": [
      "Validation:  77%|███████▋  | 300/391 [02:25<00:49,  1.85it/s]"
     ]
    },
    {
     "name": "stdout",
     "output_type": "stream",
     "text": [
      "  Validation Batch   300 Loss: 2.9696 Top-1 error: 60.88% Top-5 error: 37.16%\n"
     ]
    },
    {
     "name": "stderr",
     "output_type": "stream",
     "text": [
      "Validation: 100%|██████████| 391/391 [03:15<00:00,  2.00it/s]\n"
     ]
    },
    {
     "name": "stdout",
     "output_type": "stream",
     "text": [
      "LOSS train 2.7096 valid 2.6296\n",
      "Top-1 Error train 59.80% val 57.23%\n",
      "Top-5 Error train 33.49% val 31.23%\n",
      "EPOCH 18:\n"
     ]
    },
    {
     "name": "stderr",
     "output_type": "stream",
     "text": [
      " 20%|█▉        | 1000/5005 [02:38<16:30,  4.05it/s]"
     ]
    },
    {
     "name": "stdout",
     "output_type": "stream",
     "text": [
      "  Batch 86085 Loss: 2.6409 Top-1 error rate: 58.70% Top-5 error rate: 32.29%\n"
     ]
    },
    {
     "name": "stderr",
     "output_type": "stream",
     "text": [
      " 40%|███▉      | 2001/5005 [06:06<09:17,  5.39it/s]  "
     ]
    },
    {
     "name": "stdout",
     "output_type": "stream",
     "text": [
      "  Batch 87085 Loss: 2.7032 Top-1 error rate: 59.73% Top-5 error rate: 33.27%\n"
     ]
    },
    {
     "name": "stderr",
     "output_type": "stream",
     "text": [
      " 60%|█████▉    | 3001/5005 [08:48<08:50,  3.78it/s]"
     ]
    },
    {
     "name": "stdout",
     "output_type": "stream",
     "text": [
      "  Batch 88085 Loss: 2.6982 Top-1 error rate: 59.56% Top-5 error rate: 33.19%\n"
     ]
    },
    {
     "name": "stderr",
     "output_type": "stream",
     "text": [
      " 80%|███████▉  | 4000/5005 [11:41<02:23,  6.98it/s]"
     ]
    },
    {
     "name": "stdout",
     "output_type": "stream",
     "text": [
      "  Batch 89085 Loss: 2.7222 Top-1 error rate: 59.89% Top-5 error rate: 33.68%\n"
     ]
    },
    {
     "name": "stderr",
     "output_type": "stream",
     "text": [
      "100%|█████████▉| 5001/5005 [14:53<00:00,  7.43it/s]"
     ]
    },
    {
     "name": "stdout",
     "output_type": "stream",
     "text": [
      "  Batch 90085 Loss: 2.7339 Top-1 error rate: 60.14% Top-5 error rate: 33.88%\n"
     ]
    },
    {
     "name": "stderr",
     "output_type": "stream",
     "text": [
      "100%|██████████| 5005/5005 [14:53<00:00,  5.60it/s]\n",
      "Validation:  26%|██▌       | 100/391 [00:43<02:00,  2.42it/s]"
     ]
    },
    {
     "name": "stdout",
     "output_type": "stream",
     "text": [
      "  Validation Batch   100 Loss: 2.1896 Top-1 error: 52.20% Top-5 error: 24.27%\n"
     ]
    },
    {
     "name": "stderr",
     "output_type": "stream",
     "text": [
      "Validation:  51%|█████     | 200/391 [01:46<03:18,  1.04s/it]"
     ]
    },
    {
     "name": "stdout",
     "output_type": "stream",
     "text": [
      "  Validation Batch   200 Loss: 2.4497 Top-1 error: 55.20% Top-5 error: 28.48%\n"
     ]
    },
    {
     "name": "stderr",
     "output_type": "stream",
     "text": [
      "Validation:  77%|███████▋  | 300/391 [03:02<00:23,  3.94it/s]"
     ]
    },
    {
     "name": "stdout",
     "output_type": "stream",
     "text": [
      "  Validation Batch   300 Loss: 2.8941 Top-1 error: 60.11% Top-5 error: 36.10%\n"
     ]
    },
    {
     "name": "stderr",
     "output_type": "stream",
     "text": [
      "Validation: 100%|██████████| 391/391 [03:34<00:00,  1.82it/s]\n"
     ]
    },
    {
     "name": "stdout",
     "output_type": "stream",
     "text": [
      "LOSS train 2.6997 valid 2.5727\n",
      "Top-1 Error train 59.60% val 56.69%\n",
      "Top-5 Error train 33.26% val 30.60%\n",
      "EPOCH 19:\n"
     ]
    },
    {
     "name": "stderr",
     "output_type": "stream",
     "text": [
      " 20%|█▉        | 1000/5005 [03:11<10:10,  6.57it/s]"
     ]
    },
    {
     "name": "stdout",
     "output_type": "stream",
     "text": [
      "  Batch 91090 Loss: 2.6336 Top-1 error rate: 58.64% Top-5 error rate: 32.21%\n"
     ]
    },
    {
     "name": "stderr",
     "output_type": "stream",
     "text": [
      " 40%|███▉      | 2001/5005 [06:01<06:44,  7.42it/s]"
     ]
    },
    {
     "name": "stdout",
     "output_type": "stream",
     "text": [
      "  Batch 92090 Loss: 2.6729 Top-1 error rate: 59.25% Top-5 error rate: 32.87%\n"
     ]
    },
    {
     "name": "stderr",
     "output_type": "stream",
     "text": [
      " 60%|█████▉    | 3001/5005 [09:12<11:08,  3.00it/s]  "
     ]
    },
    {
     "name": "stdout",
     "output_type": "stream",
     "text": [
      "  Batch 93090 Loss: 2.6925 Top-1 error rate: 59.35% Top-5 error rate: 33.14%\n"
     ]
    },
    {
     "name": "stderr",
     "output_type": "stream",
     "text": [
      " 80%|███████▉  | 4001/5005 [12:44<02:06,  7.95it/s]"
     ]
    },
    {
     "name": "stdout",
     "output_type": "stream",
     "text": [
      "  Batch 94090 Loss: 2.7158 Top-1 error rate: 59.69% Top-5 error rate: 33.47%\n"
     ]
    },
    {
     "name": "stderr",
     "output_type": "stream",
     "text": [
      "100%|█████████▉| 5001/5005 [15:32<00:00,  8.25it/s]"
     ]
    },
    {
     "name": "stdout",
     "output_type": "stream",
     "text": [
      "  Batch 95090 Loss: 2.7219 Top-1 error rate: 59.88% Top-5 error rate: 33.61%\n"
     ]
    },
    {
     "name": "stderr",
     "output_type": "stream",
     "text": [
      "100%|██████████| 5005/5005 [15:33<00:00,  5.36it/s]\n",
      "Validation:  26%|██▌       | 101/391 [00:23<00:56,  5.14it/s]"
     ]
    },
    {
     "name": "stdout",
     "output_type": "stream",
     "text": [
      "  Validation Batch   100 Loss: 2.2809 Top-1 error: 53.19% Top-5 error: 25.20%\n"
     ]
    },
    {
     "name": "stderr",
     "output_type": "stream",
     "text": [
      "Validation:  51%|█████▏    | 201/391 [00:44<00:38,  4.94it/s]"
     ]
    },
    {
     "name": "stdout",
     "output_type": "stream",
     "text": [
      "  Validation Batch   200 Loss: 2.4877 Top-1 error: 55.33% Top-5 error: 28.52%\n"
     ]
    },
    {
     "name": "stderr",
     "output_type": "stream",
     "text": [
      "Validation:  77%|███████▋  | 300/391 [01:08<00:21,  4.26it/s]"
     ]
    },
    {
     "name": "stdout",
     "output_type": "stream",
     "text": [
      "  Validation Batch   300 Loss: 2.9697 Top-1 error: 61.25% Top-5 error: 37.37%\n"
     ]
    },
    {
     "name": "stderr",
     "output_type": "stream",
     "text": [
      "Validation: 100%|██████████| 391/391 [01:27<00:00,  4.45it/s]\n"
     ]
    },
    {
     "name": "stdout",
     "output_type": "stream",
     "text": [
      "LOSS train 2.6874 valid 2.6422\n",
      "Top-1 Error train 59.36% val 57.44%\n",
      "Top-5 Error train 33.06% val 31.43%\n",
      "EPOCH 20:\n"
     ]
    },
    {
     "name": "stderr",
     "output_type": "stream",
     "text": [
      " 20%|██        | 1001/5005 [02:16<08:44,  7.63it/s]"
     ]
    },
    {
     "name": "stdout",
     "output_type": "stream",
     "text": [
      "  Batch 96095 Loss: 2.6183 Top-1 error rate: 58.29% Top-5 error rate: 31.99%\n"
     ]
    },
    {
     "name": "stderr",
     "output_type": "stream",
     "text": [
      " 40%|███▉      | 2001/5005 [04:36<06:03,  8.26it/s]"
     ]
    },
    {
     "name": "stdout",
     "output_type": "stream",
     "text": [
      "  Batch 97095 Loss: 2.6580 Top-1 error rate: 58.88% Top-5 error rate: 32.59%\n"
     ]
    },
    {
     "name": "stderr",
     "output_type": "stream",
     "text": [
      " 60%|█████▉    | 3001/5005 [07:43<04:02,  8.25it/s]"
     ]
    },
    {
     "name": "stdout",
     "output_type": "stream",
     "text": [
      "  Batch 98095 Loss: 2.6849 Top-1 error rate: 59.38% Top-5 error rate: 33.01%\n"
     ]
    },
    {
     "name": "stderr",
     "output_type": "stream",
     "text": [
      " 80%|███████▉  | 4001/5005 [10:37<02:35,  6.47it/s]"
     ]
    },
    {
     "name": "stdout",
     "output_type": "stream",
     "text": [
      "  Batch 99095 Loss: 2.7021 Top-1 error rate: 59.57% Top-5 error rate: 33.31%\n"
     ]
    },
    {
     "name": "stderr",
     "output_type": "stream",
     "text": [
      "100%|█████████▉| 5001/5005 [13:09<00:00,  8.28it/s]"
     ]
    },
    {
     "name": "stdout",
     "output_type": "stream",
     "text": [
      "  Batch 100095 Loss: 2.7104 Top-1 error rate: 59.80% Top-5 error rate: 33.53%\n"
     ]
    },
    {
     "name": "stderr",
     "output_type": "stream",
     "text": [
      "100%|██████████| 5005/5005 [13:10<00:00,  6.33it/s]\n",
      "Validation:  26%|██▌       | 100/391 [00:35<01:51,  2.62it/s]"
     ]
    },
    {
     "name": "stdout",
     "output_type": "stream",
     "text": [
      "  Validation Batch   100 Loss: 2.2595 Top-1 error: 51.73% Top-5 error: 25.06%\n"
     ]
    },
    {
     "name": "stderr",
     "output_type": "stream",
     "text": [
      "Validation:  51%|█████     | 200/391 [01:15<01:33,  2.04it/s]"
     ]
    },
    {
     "name": "stdout",
     "output_type": "stream",
     "text": [
      "  Validation Batch   200 Loss: 2.4792 Top-1 error: 54.62% Top-5 error: 27.95%\n"
     ]
    },
    {
     "name": "stderr",
     "output_type": "stream",
     "text": [
      "Validation:  77%|███████▋  | 300/391 [01:58<00:46,  1.95it/s]"
     ]
    },
    {
     "name": "stdout",
     "output_type": "stream",
     "text": [
      "  Validation Batch   300 Loss: 2.9155 Top-1 error: 59.72% Top-5 error: 36.07%\n"
     ]
    },
    {
     "name": "stderr",
     "output_type": "stream",
     "text": [
      "Validation: 100%|██████████| 391/391 [02:38<00:00,  2.47it/s]\n"
     ]
    },
    {
     "name": "stdout",
     "output_type": "stream",
     "text": [
      "LOSS train 2.6748 valid 2.6271\n",
      "Top-1 Error train 59.18% val 56.54%\n",
      "Top-5 Error train 32.89% val 30.91%\n",
      "EPOCH 21:\n"
     ]
    },
    {
     "name": "stderr",
     "output_type": "stream",
     "text": [
      " 20%|██        | 1001/5005 [02:32<08:10,  8.16it/s]"
     ]
    },
    {
     "name": "stdout",
     "output_type": "stream",
     "text": [
      "  Batch 101100 Loss: 2.6110 Top-1 error rate: 58.12% Top-5 error rate: 31.87%\n"
     ]
    },
    {
     "name": "stderr",
     "output_type": "stream",
     "text": [
      " 40%|███▉      | 2001/5005 [05:17<06:26,  7.77it/s]"
     ]
    },
    {
     "name": "stdout",
     "output_type": "stream",
     "text": [
      "  Batch 102100 Loss: 2.6535 Top-1 error rate: 58.84% Top-5 error rate: 32.56%\n"
     ]
    },
    {
     "name": "stderr",
     "output_type": "stream",
     "text": [
      " 60%|█████▉    | 3001/5005 [08:46<13:16,  2.52it/s]"
     ]
    },
    {
     "name": "stdout",
     "output_type": "stream",
     "text": [
      "  Batch 103100 Loss: 2.6755 Top-1 error rate: 59.21% Top-5 error rate: 32.90%\n"
     ]
    },
    {
     "name": "stderr",
     "output_type": "stream",
     "text": [
      " 80%|███████▉  | 4001/5005 [12:31<02:17,  7.32it/s]"
     ]
    },
    {
     "name": "stdout",
     "output_type": "stream",
     "text": [
      "  Batch 104100 Loss: 2.6932 Top-1 error rate: 59.40% Top-5 error rate: 33.07%\n"
     ]
    },
    {
     "name": "stderr",
     "output_type": "stream",
     "text": [
      "100%|█████████▉| 5001/5005 [15:41<00:00,  8.23it/s]"
     ]
    },
    {
     "name": "stdout",
     "output_type": "stream",
     "text": [
      "  Batch 105100 Loss: 2.7065 Top-1 error rate: 59.60% Top-5 error rate: 33.43%\n"
     ]
    },
    {
     "name": "stderr",
     "output_type": "stream",
     "text": [
      "100%|██████████| 5005/5005 [15:41<00:00,  5.31it/s]\n",
      "Validation:  26%|██▌       | 100/391 [00:58<03:07,  1.55it/s]"
     ]
    },
    {
     "name": "stdout",
     "output_type": "stream",
     "text": [
      "  Validation Batch   100 Loss: 2.1356 Top-1 error: 51.05% Top-5 error: 23.52%\n"
     ]
    },
    {
     "name": "stderr",
     "output_type": "stream",
     "text": [
      "Validation:  51%|█████     | 200/391 [01:47<00:47,  4.00it/s]"
     ]
    },
    {
     "name": "stdout",
     "output_type": "stream",
     "text": [
      "  Validation Batch   200 Loss: 2.4509 Top-1 error: 54.95% Top-5 error: 28.38%\n"
     ]
    },
    {
     "name": "stderr",
     "output_type": "stream",
     "text": [
      "Validation:  77%|███████▋  | 300/391 [02:12<00:21,  4.31it/s]"
     ]
    },
    {
     "name": "stdout",
     "output_type": "stream",
     "text": [
      "  Validation Batch   300 Loss: 2.8972 Top-1 error: 60.36% Top-5 error: 36.41%\n"
     ]
    },
    {
     "name": "stderr",
     "output_type": "stream",
     "text": [
      "Validation: 100%|██████████| 391/391 [02:34<00:00,  2.53it/s]\n"
     ]
    },
    {
     "name": "stdout",
     "output_type": "stream",
     "text": [
      "LOSS train 2.6679 valid 2.5484\n",
      "Top-1 Error train 59.04% val 56.19%\n",
      "Top-5 Error train 32.77% val 30.38%\n",
      "EPOCH 22:\n"
     ]
    },
    {
     "name": "stderr",
     "output_type": "stream",
     "text": [
      " 20%|██        | 1001/5005 [02:15<08:18,  8.04it/s]"
     ]
    },
    {
     "name": "stdout",
     "output_type": "stream",
     "text": [
      "  Batch 106105 Loss: 2.6049 Top-1 error rate: 58.10% Top-5 error rate: 31.65%\n"
     ]
    },
    {
     "name": "stderr",
     "output_type": "stream",
     "text": [
      " 40%|███▉      | 2001/5005 [04:36<06:02,  8.29it/s]"
     ]
    },
    {
     "name": "stdout",
     "output_type": "stream",
     "text": [
      "  Batch 107105 Loss: 2.6481 Top-1 error rate: 58.69% Top-5 error rate: 32.41%\n"
     ]
    },
    {
     "name": "stderr",
     "output_type": "stream",
     "text": [
      " 60%|█████▉    | 3001/5005 [06:59<04:24,  7.56it/s]"
     ]
    },
    {
     "name": "stdout",
     "output_type": "stream",
     "text": [
      "  Batch 108105 Loss: 2.6769 Top-1 error rate: 59.22% Top-5 error rate: 32.89%\n"
     ]
    },
    {
     "name": "stderr",
     "output_type": "stream",
     "text": [
      " 80%|███████▉  | 4001/5005 [09:17<02:02,  8.17it/s]"
     ]
    },
    {
     "name": "stdout",
     "output_type": "stream",
     "text": [
      "  Batch 109105 Loss: 2.6840 Top-1 error rate: 59.36% Top-5 error rate: 32.97%\n"
     ]
    },
    {
     "name": "stderr",
     "output_type": "stream",
     "text": [
      "100%|█████████▉| 5001/5005 [11:38<00:00,  7.80it/s]"
     ]
    },
    {
     "name": "stdout",
     "output_type": "stream",
     "text": [
      "  Batch 110105 Loss: 2.6941 Top-1 error rate: 59.35% Top-5 error rate: 33.03%\n"
     ]
    },
    {
     "name": "stderr",
     "output_type": "stream",
     "text": [
      "100%|██████████| 5005/5005 [11:39<00:00,  7.16it/s]\n",
      "Validation:  26%|██▌       | 101/391 [00:20<00:54,  5.33it/s]"
     ]
    },
    {
     "name": "stdout",
     "output_type": "stream",
     "text": [
      "  Validation Batch   100 Loss: 2.1969 Top-1 error: 51.55% Top-5 error: 24.60%\n"
     ]
    },
    {
     "name": "stderr",
     "output_type": "stream",
     "text": [
      "Validation:  51%|█████▏    | 201/391 [00:40<00:37,  5.09it/s]"
     ]
    },
    {
     "name": "stdout",
     "output_type": "stream",
     "text": [
      "  Validation Batch   200 Loss: 2.4741 Top-1 error: 55.80% Top-5 error: 28.44%\n"
     ]
    },
    {
     "name": "stderr",
     "output_type": "stream",
     "text": [
      "Validation:  77%|███████▋  | 301/391 [00:59<00:17,  5.15it/s]"
     ]
    },
    {
     "name": "stdout",
     "output_type": "stream",
     "text": [
      "  Validation Batch   300 Loss: 2.8589 Top-1 error: 59.89% Top-5 error: 35.50%\n"
     ]
    },
    {
     "name": "stderr",
     "output_type": "stream",
     "text": [
      "Validation: 100%|██████████| 391/391 [01:17<00:00,  5.01it/s]\n"
     ]
    },
    {
     "name": "stdout",
     "output_type": "stream",
     "text": [
      "LOSS train 2.6617 valid 2.5633\n",
      "Top-1 Error train 58.95% val 56.61%\n",
      "Top-5 Error train 32.59% val 30.51%\n",
      "EPOCH 23:\n"
     ]
    },
    {
     "name": "stderr",
     "output_type": "stream",
     "text": [
      " 20%|██        | 1001/5005 [02:13<08:05,  8.24it/s]"
     ]
    },
    {
     "name": "stdout",
     "output_type": "stream",
     "text": [
      "  Batch 111110 Loss: 2.6013 Top-1 error rate: 57.91% Top-5 error rate: 31.68%\n"
     ]
    },
    {
     "name": "stderr",
     "output_type": "stream",
     "text": [
      " 40%|███▉      | 2001/5005 [04:28<06:02,  8.28it/s]"
     ]
    },
    {
     "name": "stdout",
     "output_type": "stream",
     "text": [
      "  Batch 112110 Loss: 2.6391 Top-1 error rate: 58.65% Top-5 error rate: 32.31%\n"
     ]
    },
    {
     "name": "stderr",
     "output_type": "stream",
     "text": [
      " 60%|█████▉    | 3001/5005 [06:46<04:02,  8.26it/s]"
     ]
    },
    {
     "name": "stdout",
     "output_type": "stream",
     "text": [
      "  Batch 113110 Loss: 2.6581 Top-1 error rate: 58.85% Top-5 error rate: 32.53%\n"
     ]
    },
    {
     "name": "stderr",
     "output_type": "stream",
     "text": [
      " 80%|███████▉  | 4001/5005 [09:05<02:36,  6.43it/s]"
     ]
    },
    {
     "name": "stdout",
     "output_type": "stream",
     "text": [
      "  Batch 114110 Loss: 2.6858 Top-1 error rate: 59.20% Top-5 error rate: 33.07%\n"
     ]
    },
    {
     "name": "stderr",
     "output_type": "stream",
     "text": [
      "100%|█████████▉| 5001/5005 [11:23<00:00,  8.09it/s]"
     ]
    },
    {
     "name": "stdout",
     "output_type": "stream",
     "text": [
      "  Batch 115110 Loss: 2.6929 Top-1 error rate: 59.43% Top-5 error rate: 33.11%\n"
     ]
    },
    {
     "name": "stderr",
     "output_type": "stream",
     "text": [
      "100%|██████████| 5005/5005 [11:24<00:00,  7.32it/s]\n",
      "Validation:  26%|██▌       | 101/391 [00:20<00:54,  5.36it/s]"
     ]
    },
    {
     "name": "stdout",
     "output_type": "stream",
     "text": [
      "  Validation Batch   100 Loss: 2.2034 Top-1 error: 52.32% Top-5 error: 24.70%\n"
     ]
    },
    {
     "name": "stderr",
     "output_type": "stream",
     "text": [
      "Validation:  51%|█████▏    | 201/391 [00:40<00:36,  5.22it/s]"
     ]
    },
    {
     "name": "stdout",
     "output_type": "stream",
     "text": [
      "  Validation Batch   200 Loss: 2.5145 Top-1 error: 56.08% Top-5 error: 29.68%\n"
     ]
    },
    {
     "name": "stderr",
     "output_type": "stream",
     "text": [
      "Validation:  77%|███████▋  | 301/391 [00:59<00:17,  5.10it/s]"
     ]
    },
    {
     "name": "stdout",
     "output_type": "stream",
     "text": [
      "  Validation Batch   300 Loss: 2.9157 Top-1 error: 60.71% Top-5 error: 37.05%\n"
     ]
    },
    {
     "name": "stderr",
     "output_type": "stream",
     "text": [
      "Validation: 100%|██████████| 391/391 [01:17<00:00,  5.04it/s]\n"
     ]
    },
    {
     "name": "stdout",
     "output_type": "stream",
     "text": [
      "LOSS train 2.6555 valid 2.5914\n",
      "Top-1 Error train 58.81% val 57.12%\n",
      "Top-5 Error train 32.54% val 31.21%\n",
      "EPOCH 24:\n"
     ]
    },
    {
     "name": "stderr",
     "output_type": "stream",
     "text": [
      " 20%|██        | 1001/5005 [02:12<08:48,  7.58it/s]"
     ]
    },
    {
     "name": "stdout",
     "output_type": "stream",
     "text": [
      "  Batch 116115 Loss: 2.5875 Top-1 error rate: 57.60% Top-5 error rate: 31.42%\n"
     ]
    },
    {
     "name": "stderr",
     "output_type": "stream",
     "text": [
      " 40%|███▉      | 2001/5005 [04:30<08:12,  6.10it/s]"
     ]
    },
    {
     "name": "stdout",
     "output_type": "stream",
     "text": [
      "  Batch 117115 Loss: 2.6412 Top-1 error rate: 58.57% Top-5 error rate: 32.19%\n"
     ]
    },
    {
     "name": "stderr",
     "output_type": "stream",
     "text": [
      " 60%|█████▉    | 3001/5005 [06:47<04:49,  6.93it/s]"
     ]
    },
    {
     "name": "stdout",
     "output_type": "stream",
     "text": [
      "  Batch 118115 Loss: 2.6462 Top-1 error rate: 58.72% Top-5 error rate: 32.36%\n"
     ]
    },
    {
     "name": "stderr",
     "output_type": "stream",
     "text": [
      " 80%|███████▉  | 4001/5005 [08:59<02:01,  8.23it/s]"
     ]
    },
    {
     "name": "stdout",
     "output_type": "stream",
     "text": [
      "  Batch 119115 Loss: 2.6639 Top-1 error rate: 59.02% Top-5 error rate: 32.58%\n"
     ]
    },
    {
     "name": "stderr",
     "output_type": "stream",
     "text": [
      "100%|█████████▉| 5001/5005 [11:17<00:00,  4.75it/s]"
     ]
    },
    {
     "name": "stdout",
     "output_type": "stream",
     "text": [
      "  Batch 120115 Loss: 2.6864 Top-1 error rate: 59.30% Top-5 error rate: 33.02%\n"
     ]
    },
    {
     "name": "stderr",
     "output_type": "stream",
     "text": [
      "100%|██████████| 5005/5005 [11:17<00:00,  7.39it/s]\n",
      "Validation:  26%|██▌       | 101/391 [00:21<00:54,  5.28it/s]"
     ]
    },
    {
     "name": "stdout",
     "output_type": "stream",
     "text": [
      "  Validation Batch   100 Loss: 2.2017 Top-1 error: 51.01% Top-5 error: 24.34%\n"
     ]
    },
    {
     "name": "stderr",
     "output_type": "stream",
     "text": [
      "Validation:  51%|█████▏    | 201/391 [00:40<00:37,  5.08it/s]"
     ]
    },
    {
     "name": "stdout",
     "output_type": "stream",
     "text": [
      "  Validation Batch   200 Loss: 2.4257 Top-1 error: 53.98% Top-5 error: 27.81%\n"
     ]
    },
    {
     "name": "stderr",
     "output_type": "stream",
     "text": [
      "Validation:  77%|███████▋  | 301/391 [01:00<00:17,  5.07it/s]"
     ]
    },
    {
     "name": "stdout",
     "output_type": "stream",
     "text": [
      "  Validation Batch   300 Loss: 2.8552 Top-1 error: 59.37% Top-5 error: 35.59%\n"
     ]
    },
    {
     "name": "stderr",
     "output_type": "stream",
     "text": [
      "Validation: 100%|██████████| 391/391 [01:18<00:00,  4.97it/s]\n"
     ]
    },
    {
     "name": "stdout",
     "output_type": "stream",
     "text": [
      "LOSS train 2.6452 valid 2.5522\n",
      "Top-1 Error train 58.65% val 55.80%\n",
      "Top-5 Error train 32.32% val 30.19%\n",
      "EPOCH 25:\n"
     ]
    },
    {
     "name": "stderr",
     "output_type": "stream",
     "text": [
      " 20%|██        | 1001/5005 [02:13<10:13,  6.53it/s]"
     ]
    },
    {
     "name": "stdout",
     "output_type": "stream",
     "text": [
      "  Batch 121120 Loss: 2.5842 Top-1 error rate: 57.69% Top-5 error rate: 31.33%\n"
     ]
    },
    {
     "name": "stderr",
     "output_type": "stream",
     "text": [
      " 40%|███▉      | 2001/5005 [04:25<06:14,  8.02it/s]"
     ]
    },
    {
     "name": "stdout",
     "output_type": "stream",
     "text": [
      "  Batch 122120 Loss: 2.6283 Top-1 error rate: 58.44% Top-5 error rate: 32.19%\n"
     ]
    },
    {
     "name": "stderr",
     "output_type": "stream",
     "text": [
      " 60%|█████▉    | 3001/5005 [06:38<05:00,  6.67it/s]"
     ]
    },
    {
     "name": "stdout",
     "output_type": "stream",
     "text": [
      "  Batch 123120 Loss: 2.6505 Top-1 error rate: 58.64% Top-5 error rate: 32.46%\n"
     ]
    },
    {
     "name": "stderr",
     "output_type": "stream",
     "text": [
      " 80%|███████▉  | 4001/5005 [08:54<02:03,  8.11it/s]"
     ]
    },
    {
     "name": "stdout",
     "output_type": "stream",
     "text": [
      "  Batch 124120 Loss: 2.6690 Top-1 error rate: 59.01% Top-5 error rate: 32.68%\n"
     ]
    },
    {
     "name": "stderr",
     "output_type": "stream",
     "text": [
      "100%|█████████▉| 5001/5005 [11:07<00:01,  3.76it/s]"
     ]
    },
    {
     "name": "stdout",
     "output_type": "stream",
     "text": [
      "  Batch 125120 Loss: 2.6703 Top-1 error rate: 58.92% Top-5 error rate: 32.73%\n"
     ]
    },
    {
     "name": "stderr",
     "output_type": "stream",
     "text": [
      "100%|██████████| 5005/5005 [11:07<00:00,  7.49it/s]\n",
      "Validation:  26%|██▌       | 101/391 [00:21<00:54,  5.34it/s]"
     ]
    },
    {
     "name": "stdout",
     "output_type": "stream",
     "text": [
      "  Validation Batch   100 Loss: 2.1222 Top-1 error: 50.34% Top-5 error: 23.08%\n"
     ]
    },
    {
     "name": "stderr",
     "output_type": "stream",
     "text": [
      "Validation:  51%|█████     | 200/391 [00:40<00:37,  5.07it/s]"
     ]
    },
    {
     "name": "stdout",
     "output_type": "stream",
     "text": [
      "  Validation Batch   200 Loss: 2.4008 Top-1 error: 54.08% Top-5 error: 27.79%\n"
     ]
    },
    {
     "name": "stderr",
     "output_type": "stream",
     "text": [
      "Validation:  77%|███████▋  | 301/391 [01:01<00:18,  4.85it/s]"
     ]
    },
    {
     "name": "stdout",
     "output_type": "stream",
     "text": [
      "  Validation Batch   300 Loss: 2.8378 Top-1 error: 60.27% Top-5 error: 35.49%\n"
     ]
    },
    {
     "name": "stderr",
     "output_type": "stream",
     "text": [
      "Validation: 100%|██████████| 391/391 [01:19<00:00,  4.91it/s]\n"
     ]
    },
    {
     "name": "stdout",
     "output_type": "stream",
     "text": [
      "LOSS train 2.6405 valid 2.5127\n",
      "Top-1 Error train 58.54% val 55.63%\n",
      "Top-5 Error train 32.28% val 29.76%\n",
      "EPOCH 26:\n"
     ]
    },
    {
     "name": "stderr",
     "output_type": "stream",
     "text": [
      " 20%|██        | 1001/5005 [02:09<08:05,  8.25it/s]"
     ]
    },
    {
     "name": "stdout",
     "output_type": "stream",
     "text": [
      "  Batch 126125 Loss: 2.5718 Top-1 error rate: 57.44% Top-5 error rate: 31.09%\n"
     ]
    },
    {
     "name": "stderr",
     "output_type": "stream",
     "text": [
      " 40%|███▉      | 2001/5005 [04:21<06:01,  8.31it/s]"
     ]
    },
    {
     "name": "stdout",
     "output_type": "stream",
     "text": [
      "  Batch 127125 Loss: 2.6278 Top-1 error rate: 58.41% Top-5 error rate: 31.95%\n"
     ]
    },
    {
     "name": "stderr",
     "output_type": "stream",
     "text": [
      " 60%|█████▉    | 3001/5005 [06:35<04:15,  7.83it/s]"
     ]
    },
    {
     "name": "stdout",
     "output_type": "stream",
     "text": [
      "  Batch 128125 Loss: 2.6475 Top-1 error rate: 58.72% Top-5 error rate: 32.35%\n"
     ]
    },
    {
     "name": "stderr",
     "output_type": "stream",
     "text": [
      " 80%|███████▉  | 4001/5005 [08:47<02:00,  8.30it/s]"
     ]
    },
    {
     "name": "stdout",
     "output_type": "stream",
     "text": [
      "  Batch 129125 Loss: 2.6566 Top-1 error rate: 58.76% Top-5 error rate: 32.52%\n"
     ]
    },
    {
     "name": "stderr",
     "output_type": "stream",
     "text": [
      "100%|█████████▉| 5001/5005 [11:01<00:00,  6.40it/s]"
     ]
    },
    {
     "name": "stdout",
     "output_type": "stream",
     "text": [
      "  Batch 130125 Loss: 2.6735 Top-1 error rate: 59.10% Top-5 error rate: 32.84%\n"
     ]
    },
    {
     "name": "stderr",
     "output_type": "stream",
     "text": [
      "100%|██████████| 5005/5005 [11:02<00:00,  7.56it/s]\n",
      "Validation:  26%|██▌       | 101/391 [00:20<00:51,  5.65it/s]"
     ]
    },
    {
     "name": "stdout",
     "output_type": "stream",
     "text": [
      "  Validation Batch   100 Loss: 2.2006 Top-1 error: 52.02% Top-5 error: 24.41%\n"
     ]
    },
    {
     "name": "stderr",
     "output_type": "stream",
     "text": [
      "Validation:  51%|█████▏    | 201/391 [00:40<00:36,  5.23it/s]"
     ]
    },
    {
     "name": "stdout",
     "output_type": "stream",
     "text": [
      "  Validation Batch   200 Loss: 2.4693 Top-1 error: 55.66% Top-5 error: 28.06%\n"
     ]
    },
    {
     "name": "stderr",
     "output_type": "stream",
     "text": [
      "Validation:  77%|███████▋  | 300/391 [00:59<00:19,  4.76it/s]"
     ]
    },
    {
     "name": "stdout",
     "output_type": "stream",
     "text": [
      "  Validation Batch   300 Loss: 2.9431 Top-1 error: 60.62% Top-5 error: 36.40%\n"
     ]
    },
    {
     "name": "stderr",
     "output_type": "stream",
     "text": [
      "Validation: 100%|██████████| 391/391 [01:17<00:00,  5.07it/s]\n"
     ]
    },
    {
     "name": "stdout",
     "output_type": "stream",
     "text": [
      "LOSS train 2.6354 valid 2.6052\n",
      "Top-1 Error train 58.49% val 56.98%\n",
      "Top-5 Error train 32.15% val 30.63%\n",
      "EPOCH 27:\n"
     ]
    },
    {
     "name": "stderr",
     "output_type": "stream",
     "text": [
      " 20%|██        | 1001/5005 [02:08<08:05,  8.25it/s]"
     ]
    },
    {
     "name": "stdout",
     "output_type": "stream",
     "text": [
      "  Batch 131130 Loss: 2.5697 Top-1 error rate: 57.38% Top-5 error rate: 31.09%\n"
     ]
    },
    {
     "name": "stderr",
     "output_type": "stream",
     "text": [
      " 40%|███▉      | 2001/5005 [04:20<06:05,  8.21it/s]"
     ]
    },
    {
     "name": "stdout",
     "output_type": "stream",
     "text": [
      "  Batch 132130 Loss: 2.6121 Top-1 error rate: 58.19% Top-5 error rate: 31.70%\n"
     ]
    },
    {
     "name": "stderr",
     "output_type": "stream",
     "text": [
      " 60%|█████▉    | 3001/5005 [06:46<04:50,  6.89it/s]"
     ]
    },
    {
     "name": "stdout",
     "output_type": "stream",
     "text": [
      "  Batch 133130 Loss: 2.6371 Top-1 error rate: 58.52% Top-5 error rate: 32.17%\n"
     ]
    },
    {
     "name": "stderr",
     "output_type": "stream",
     "text": [
      " 80%|███████▉  | 4001/5005 [09:00<02:03,  8.15it/s]"
     ]
    },
    {
     "name": "stdout",
     "output_type": "stream",
     "text": [
      "  Batch 134130 Loss: 2.6557 Top-1 error rate: 58.67% Top-5 error rate: 32.45%\n"
     ]
    },
    {
     "name": "stderr",
     "output_type": "stream",
     "text": [
      "100%|█████████▉| 5001/5005 [11:10<00:00,  7.40it/s]"
     ]
    },
    {
     "name": "stdout",
     "output_type": "stream",
     "text": [
      "  Batch 135130 Loss: 2.6623 Top-1 error rate: 58.90% Top-5 error rate: 32.52%\n"
     ]
    },
    {
     "name": "stderr",
     "output_type": "stream",
     "text": [
      "100%|██████████| 5005/5005 [11:10<00:00,  7.46it/s]\n",
      "Validation:  26%|██▌       | 101/391 [00:21<00:56,  5.13it/s]"
     ]
    },
    {
     "name": "stdout",
     "output_type": "stream",
     "text": [
      "  Validation Batch   100 Loss: 2.1294 Top-1 error: 51.05% Top-5 error: 23.19%\n"
     ]
    },
    {
     "name": "stderr",
     "output_type": "stream",
     "text": [
      "Validation:  51%|█████▏    | 201/391 [00:40<00:34,  5.46it/s]"
     ]
    },
    {
     "name": "stdout",
     "output_type": "stream",
     "text": [
      "  Validation Batch   200 Loss: 2.3936 Top-1 error: 54.03% Top-5 error: 27.16%\n"
     ]
    },
    {
     "name": "stderr",
     "output_type": "stream",
     "text": [
      "Validation:  77%|███████▋  | 301/391 [00:59<00:17,  5.29it/s]"
     ]
    },
    {
     "name": "stdout",
     "output_type": "stream",
     "text": [
      "  Validation Batch   300 Loss: 2.8363 Top-1 error: 59.12% Top-5 error: 35.02%\n"
     ]
    },
    {
     "name": "stderr",
     "output_type": "stream",
     "text": [
      "Validation: 100%|██████████| 391/391 [01:16<00:00,  5.10it/s]\n"
     ]
    },
    {
     "name": "stdout",
     "output_type": "stream",
     "text": [
      "LOSS train 2.6274 valid 2.5261\n",
      "Top-1 Error train 58.33% val 55.78%\n",
      "Top-5 Error train 31.98% val 29.69%\n",
      "EPOCH 28:\n"
     ]
    },
    {
     "name": "stderr",
     "output_type": "stream",
     "text": [
      " 20%|██        | 1001/5005 [02:10<08:29,  7.86it/s]"
     ]
    },
    {
     "name": "stdout",
     "output_type": "stream",
     "text": [
      "  Batch 136135 Loss: 2.5649 Top-1 error rate: 57.18% Top-5 error rate: 30.99%\n"
     ]
    },
    {
     "name": "stderr",
     "output_type": "stream",
     "text": [
      " 40%|███▉      | 2001/5005 [04:19<06:04,  8.25it/s]"
     ]
    },
    {
     "name": "stdout",
     "output_type": "stream",
     "text": [
      "  Batch 137135 Loss: 2.6090 Top-1 error rate: 58.11% Top-5 error rate: 31.71%\n"
     ]
    },
    {
     "name": "stderr",
     "output_type": "stream",
     "text": [
      " 60%|█████▉    | 3001/5005 [06:32<04:13,  7.90it/s]"
     ]
    },
    {
     "name": "stdout",
     "output_type": "stream",
     "text": [
      "  Batch 138135 Loss: 2.6263 Top-1 error rate: 58.35% Top-5 error rate: 32.09%\n"
     ]
    },
    {
     "name": "stderr",
     "output_type": "stream",
     "text": [
      " 80%|███████▉  | 4001/5005 [08:44<02:02,  8.22it/s]"
     ]
    },
    {
     "name": "stdout",
     "output_type": "stream",
     "text": [
      "  Batch 139135 Loss: 2.6493 Top-1 error rate: 58.73% Top-5 error rate: 32.41%\n"
     ]
    },
    {
     "name": "stderr",
     "output_type": "stream",
     "text": [
      "100%|█████████▉| 5001/5005 [10:56<00:00,  7.04it/s]"
     ]
    },
    {
     "name": "stdout",
     "output_type": "stream",
     "text": [
      "  Batch 140135 Loss: 2.6648 Top-1 error rate: 58.92% Top-5 error rate: 32.56%\n"
     ]
    },
    {
     "name": "stderr",
     "output_type": "stream",
     "text": [
      "100%|██████████| 5005/5005 [10:57<00:00,  7.61it/s]\n",
      "Validation:  26%|██▌       | 101/391 [00:21<00:56,  5.17it/s]"
     ]
    },
    {
     "name": "stdout",
     "output_type": "stream",
     "text": [
      "  Validation Batch   100 Loss: 2.1191 Top-1 error: 49.73% Top-5 error: 22.67%\n"
     ]
    },
    {
     "name": "stderr",
     "output_type": "stream",
     "text": [
      "Validation:  51%|█████▏    | 201/391 [00:41<00:37,  5.02it/s]"
     ]
    },
    {
     "name": "stdout",
     "output_type": "stream",
     "text": [
      "  Validation Batch   200 Loss: 2.5194 Top-1 error: 55.43% Top-5 error: 28.31%\n"
     ]
    },
    {
     "name": "stderr",
     "output_type": "stream",
     "text": [
      "Validation:  77%|███████▋  | 301/391 [01:01<00:18,  4.91it/s]"
     ]
    },
    {
     "name": "stdout",
     "output_type": "stream",
     "text": [
      "  Validation Batch   300 Loss: 2.8545 Top-1 error: 58.95% Top-5 error: 34.66%\n"
     ]
    },
    {
     "name": "stderr",
     "output_type": "stream",
     "text": [
      "Validation: 100%|██████████| 391/391 [01:20<00:00,  4.88it/s]\n"
     ]
    },
    {
     "name": "stdout",
     "output_type": "stream",
     "text": [
      "LOSS train 2.6229 valid 2.5623\n",
      "Top-1 Error train 58.26% val 55.57%\n",
      "Top-5 Error train 31.95% val 29.66%\n",
      "EPOCH 29:\n"
     ]
    },
    {
     "name": "stderr",
     "output_type": "stream",
     "text": [
      " 20%|██        | 1001/5005 [02:09<08:06,  8.23it/s]"
     ]
    },
    {
     "name": "stdout",
     "output_type": "stream",
     "text": [
      "  Batch 141140 Loss: 2.5628 Top-1 error rate: 57.29% Top-5 error rate: 31.02%\n"
     ]
    },
    {
     "name": "stderr",
     "output_type": "stream",
     "text": [
      " 40%|███▉      | 2001/5005 [04:20<06:04,  8.24it/s]"
     ]
    },
    {
     "name": "stdout",
     "output_type": "stream",
     "text": [
      "  Batch 142140 Loss: 2.6001 Top-1 error rate: 57.90% Top-5 error rate: 31.58%\n"
     ]
    },
    {
     "name": "stderr",
     "output_type": "stream",
     "text": [
      " 60%|█████▉    | 3001/5005 [06:31<04:08,  8.05it/s]"
     ]
    },
    {
     "name": "stdout",
     "output_type": "stream",
     "text": [
      "  Batch 143140 Loss: 2.6324 Top-1 error rate: 58.34% Top-5 error rate: 32.01%\n"
     ]
    },
    {
     "name": "stderr",
     "output_type": "stream",
     "text": [
      " 80%|███████▉  | 4001/5005 [08:43<02:10,  7.67it/s]"
     ]
    },
    {
     "name": "stdout",
     "output_type": "stream",
     "text": [
      "  Batch 144140 Loss: 2.6416 Top-1 error rate: 58.55% Top-5 error rate: 32.19%\n"
     ]
    },
    {
     "name": "stderr",
     "output_type": "stream",
     "text": [
      "100%|█████████▉| 5001/5005 [10:54<00:00,  8.17it/s]"
     ]
    },
    {
     "name": "stdout",
     "output_type": "stream",
     "text": [
      "  Batch 145140 Loss: 2.6522 Top-1 error rate: 58.71% Top-5 error rate: 32.41%\n"
     ]
    },
    {
     "name": "stderr",
     "output_type": "stream",
     "text": [
      "100%|██████████| 5005/5005 [10:55<00:00,  7.63it/s]\n",
      "Validation:  26%|██▌       | 101/391 [00:21<00:52,  5.52it/s]"
     ]
    },
    {
     "name": "stdout",
     "output_type": "stream",
     "text": [
      "  Validation Batch   100 Loss: 2.1679 Top-1 error: 50.81% Top-5 error: 23.73%\n"
     ]
    },
    {
     "name": "stderr",
     "output_type": "stream",
     "text": [
      "Validation:  51%|█████     | 200/391 [00:41<00:36,  5.20it/s]"
     ]
    },
    {
     "name": "stdout",
     "output_type": "stream",
     "text": [
      "  Validation Batch   200 Loss: 2.4312 Top-1 error: 54.14% Top-5 error: 27.58%\n"
     ]
    },
    {
     "name": "stderr",
     "output_type": "stream",
     "text": [
      "Validation:  77%|███████▋  | 301/391 [01:01<00:17,  5.03it/s]"
     ]
    },
    {
     "name": "stdout",
     "output_type": "stream",
     "text": [
      "  Validation Batch   300 Loss: 2.8937 Top-1 error: 59.21% Top-5 error: 35.65%\n"
     ]
    },
    {
     "name": "stderr",
     "output_type": "stream",
     "text": [
      "Validation: 100%|██████████| 391/391 [01:19<00:00,  4.94it/s]\n"
     ]
    },
    {
     "name": "stdout",
     "output_type": "stream",
     "text": [
      "LOSS train 2.6178 valid 2.5636\n",
      "Top-1 Error train 58.16% val 55.74%\n",
      "Top-5 Error train 31.84% val 30.06%\n",
      "EPOCH 30:\n"
     ]
    },
    {
     "name": "stderr",
     "output_type": "stream",
     "text": [
      " 20%|██        | 1001/5005 [02:10<08:12,  8.14it/s]"
     ]
    },
    {
     "name": "stdout",
     "output_type": "stream",
     "text": [
      "  Batch 146145 Loss: 2.5672 Top-1 error rate: 57.30% Top-5 error rate: 31.08%\n"
     ]
    },
    {
     "name": "stderr",
     "output_type": "stream",
     "text": [
      " 40%|███▉      | 2001/5005 [04:21<06:06,  8.21it/s]"
     ]
    },
    {
     "name": "stdout",
     "output_type": "stream",
     "text": [
      "  Batch 147145 Loss: 2.6005 Top-1 error rate: 57.93% Top-5 error rate: 31.60%\n"
     ]
    },
    {
     "name": "stderr",
     "output_type": "stream",
     "text": [
      " 60%|█████▉    | 3001/5005 [06:38<04:30,  7.42it/s]"
     ]
    },
    {
     "name": "stdout",
     "output_type": "stream",
     "text": [
      "  Batch 148145 Loss: 2.6185 Top-1 error rate: 58.25% Top-5 error rate: 31.86%\n"
     ]
    },
    {
     "name": "stderr",
     "output_type": "stream",
     "text": [
      " 80%|███████▉  | 4001/5005 [08:58<02:12,  7.56it/s]"
     ]
    },
    {
     "name": "stdout",
     "output_type": "stream",
     "text": [
      "  Batch 149145 Loss: 2.6399 Top-1 error rate: 58.48% Top-5 error rate: 32.28%\n"
     ]
    },
    {
     "name": "stderr",
     "output_type": "stream",
     "text": [
      "100%|█████████▉| 5001/5005 [11:17<00:00,  8.24it/s]"
     ]
    },
    {
     "name": "stdout",
     "output_type": "stream",
     "text": [
      "  Batch 150145 Loss: 2.6538 Top-1 error rate: 58.68% Top-5 error rate: 32.49%\n"
     ]
    },
    {
     "name": "stderr",
     "output_type": "stream",
     "text": [
      "100%|██████████| 5005/5005 [11:19<00:00,  7.36it/s]\n",
      "Validation:  26%|██▌       | 100/391 [00:21<01:00,  4.81it/s]"
     ]
    },
    {
     "name": "stdout",
     "output_type": "stream",
     "text": [
      "  Validation Batch   100 Loss: 2.1702 Top-1 error: 50.80% Top-5 error: 23.64%\n"
     ]
    },
    {
     "name": "stderr",
     "output_type": "stream",
     "text": [
      "Validation:  51%|█████     | 200/391 [00:41<00:41,  4.56it/s]"
     ]
    },
    {
     "name": "stdout",
     "output_type": "stream",
     "text": [
      "  Validation Batch   200 Loss: 2.4241 Top-1 error: 54.12% Top-5 error: 27.54%\n"
     ]
    },
    {
     "name": "stderr",
     "output_type": "stream",
     "text": [
      "Validation:  77%|███████▋  | 301/391 [01:03<00:17,  5.26it/s]"
     ]
    },
    {
     "name": "stdout",
     "output_type": "stream",
     "text": [
      "  Validation Batch   300 Loss: 2.8432 Top-1 error: 58.84% Top-5 error: 35.27%\n"
     ]
    },
    {
     "name": "stderr",
     "output_type": "stream",
     "text": [
      "Validation: 100%|██████████| 391/391 [01:21<00:00,  4.78it/s]\n"
     ]
    },
    {
     "name": "stdout",
     "output_type": "stream",
     "text": [
      "LOSS train 2.6161 valid 2.5358\n",
      "Top-1 Error train 58.13% val 55.38%\n",
      "Top-5 Error train 31.86% val 29.64%\n",
      "EPOCH 31:\n"
     ]
    },
    {
     "name": "stderr",
     "output_type": "stream",
     "text": [
      " 20%|██        | 1001/5005 [02:15<08:42,  7.67it/s]"
     ]
    },
    {
     "name": "stdout",
     "output_type": "stream",
     "text": [
      "  Batch 151150 Loss: 2.1651 Top-1 error rate: 49.99% Top-5 error rate: 24.74%\n"
     ]
    },
    {
     "name": "stderr",
     "output_type": "stream",
     "text": [
      " 40%|███▉      | 2001/5005 [04:33<06:05,  8.23it/s]"
     ]
    },
    {
     "name": "stdout",
     "output_type": "stream",
     "text": [
      "  Batch 152150 Loss: 2.0692 Top-1 error rate: 48.21% Top-5 error rate: 23.22%\n"
     ]
    },
    {
     "name": "stderr",
     "output_type": "stream",
     "text": [
      " 60%|█████▉    | 3001/5005 [06:52<04:37,  7.21it/s]"
     ]
    },
    {
     "name": "stdout",
     "output_type": "stream",
     "text": [
      "  Batch 153150 Loss: 2.0446 Top-1 error rate: 47.79% Top-5 error rate: 22.88%\n"
     ]
    },
    {
     "name": "stderr",
     "output_type": "stream",
     "text": [
      " 80%|███████▉  | 4001/5005 [09:12<02:02,  8.17it/s]"
     ]
    },
    {
     "name": "stdout",
     "output_type": "stream",
     "text": [
      "  Batch 154150 Loss: 2.0168 Top-1 error rate: 47.22% Top-5 error rate: 22.38%\n"
     ]
    },
    {
     "name": "stderr",
     "output_type": "stream",
     "text": [
      "100%|█████████▉| 5001/5005 [11:30<00:00,  7.15it/s]"
     ]
    },
    {
     "name": "stdout",
     "output_type": "stream",
     "text": [
      "  Batch 155150 Loss: 1.9945 Top-1 error rate: 46.72% Top-5 error rate: 22.04%\n"
     ]
    },
    {
     "name": "stderr",
     "output_type": "stream",
     "text": [
      "100%|██████████| 5005/5005 [11:31<00:00,  7.24it/s]\n",
      "Validation:  26%|██▌       | 101/391 [00:20<00:56,  5.14it/s]"
     ]
    },
    {
     "name": "stdout",
     "output_type": "stream",
     "text": [
      "  Validation Batch   100 Loss: 1.6587 Top-1 error: 40.72% Top-5 error: 16.32%\n"
     ]
    },
    {
     "name": "stderr",
     "output_type": "stream",
     "text": [
      "Validation:  51%|█████▏    | 201/391 [00:40<00:36,  5.21it/s]"
     ]
    },
    {
     "name": "stdout",
     "output_type": "stream",
     "text": [
      "  Validation Batch   200 Loss: 1.9493 Top-1 error: 45.07% Top-5 error: 20.48%\n"
     ]
    },
    {
     "name": "stderr",
     "output_type": "stream",
     "text": [
      "Validation:  77%|███████▋  | 300/391 [01:01<00:19,  4.58it/s]"
     ]
    },
    {
     "name": "stdout",
     "output_type": "stream",
     "text": [
      "  Validation Batch   300 Loss: 2.3990 Top-1 error: 51.59% Top-5 error: 28.46%\n"
     ]
    },
    {
     "name": "stderr",
     "output_type": "stream",
     "text": [
      "Validation: 100%|██████████| 391/391 [01:19<00:00,  4.90it/s]\n"
     ]
    },
    {
     "name": "stdout",
     "output_type": "stream",
     "text": [
      "LOSS train 2.0580 valid 2.0662\n",
      "Top-1 Error train 47.99% val 46.83%\n",
      "Top-5 Error train 23.05% val 22.74%\n",
      "EPOCH 32:\n"
     ]
    },
    {
     "name": "stderr",
     "output_type": "stream",
     "text": [
      " 20%|██        | 1001/5005 [02:16<08:12,  8.13it/s]"
     ]
    },
    {
     "name": "stdout",
     "output_type": "stream",
     "text": [
      "  Batch 156155 Loss: 1.9375 Top-1 error rate: 45.63% Top-5 error rate: 21.27%\n"
     ]
    },
    {
     "name": "stderr",
     "output_type": "stream",
     "text": [
      " 40%|███▉      | 2001/5005 [04:33<06:04,  8.23it/s]"
     ]
    },
    {
     "name": "stdout",
     "output_type": "stream",
     "text": [
      "  Batch 157155 Loss: 1.9295 Top-1 error rate: 45.62% Top-5 error rate: 21.12%\n"
     ]
    },
    {
     "name": "stderr",
     "output_type": "stream",
     "text": [
      " 60%|█████▉    | 3001/5005 [06:51<04:49,  6.92it/s]"
     ]
    },
    {
     "name": "stdout",
     "output_type": "stream",
     "text": [
      "  Batch 158155 Loss: 1.9156 Top-1 error rate: 45.31% Top-5 error rate: 20.92%\n"
     ]
    },
    {
     "name": "stderr",
     "output_type": "stream",
     "text": [
      " 80%|███████▉  | 4001/5005 [09:11<02:03,  8.16it/s]"
     ]
    },
    {
     "name": "stdout",
     "output_type": "stream",
     "text": [
      "  Batch 159155 Loss: 1.9075 Top-1 error rate: 45.11% Top-5 error rate: 20.85%\n"
     ]
    },
    {
     "name": "stderr",
     "output_type": "stream",
     "text": [
      "100%|█████████▉| 5001/5005 [11:31<00:00,  8.20it/s]"
     ]
    },
    {
     "name": "stdout",
     "output_type": "stream",
     "text": [
      "  Batch 160155 Loss: 1.9049 Top-1 error rate: 45.04% Top-5 error rate: 20.81%\n"
     ]
    },
    {
     "name": "stderr",
     "output_type": "stream",
     "text": [
      "100%|██████████| 5005/5005 [11:32<00:00,  7.23it/s]\n",
      "Validation:  26%|██▌       | 101/391 [00:21<00:53,  5.46it/s]"
     ]
    },
    {
     "name": "stdout",
     "output_type": "stream",
     "text": [
      "  Validation Batch   100 Loss: 1.6030 Top-1 error: 38.98% Top-5 error: 15.73%\n"
     ]
    },
    {
     "name": "stderr",
     "output_type": "stream",
     "text": [
      "Validation:  51%|█████     | 200/391 [00:41<00:41,  4.60it/s]"
     ]
    },
    {
     "name": "stdout",
     "output_type": "stream",
     "text": [
      "  Validation Batch   200 Loss: 1.8913 Top-1 error: 43.89% Top-5 error: 19.73%\n"
     ]
    },
    {
     "name": "stderr",
     "output_type": "stream",
     "text": [
      "Validation:  77%|███████▋  | 300/391 [01:02<00:18,  4.79it/s]"
     ]
    },
    {
     "name": "stdout",
     "output_type": "stream",
     "text": [
      "  Validation Batch   300 Loss: 2.3156 Top-1 error: 50.26% Top-5 error: 27.09%\n"
     ]
    },
    {
     "name": "stderr",
     "output_type": "stream",
     "text": [
      "Validation: 100%|██████████| 391/391 [01:21<00:00,  4.77it/s]\n"
     ]
    },
    {
     "name": "stdout",
     "output_type": "stream",
     "text": [
      "LOSS train 1.9190 valid 2.0008\n",
      "Top-1 Error train 45.34% val 45.52%\n",
      "Top-5 Error train 21.00% val 21.86%\n",
      "EPOCH 33:\n"
     ]
    },
    {
     "name": "stderr",
     "output_type": "stream",
     "text": [
      " 20%|██        | 1001/5005 [02:15<08:50,  7.55it/s]"
     ]
    },
    {
     "name": "stdout",
     "output_type": "stream",
     "text": [
      "  Batch 161160 Loss: 1.8538 Top-1 error rate: 44.06% Top-5 error rate: 20.03%\n"
     ]
    },
    {
     "name": "stderr",
     "output_type": "stream",
     "text": [
      " 40%|███▉      | 2001/5005 [04:34<07:08,  7.01it/s]"
     ]
    },
    {
     "name": "stdout",
     "output_type": "stream",
     "text": [
      "  Batch 162160 Loss: 1.8506 Top-1 error rate: 43.95% Top-5 error rate: 20.01%\n"
     ]
    },
    {
     "name": "stderr",
     "output_type": "stream",
     "text": [
      " 60%|█████▉    | 3001/5005 [06:54<04:55,  6.77it/s]"
     ]
    },
    {
     "name": "stdout",
     "output_type": "stream",
     "text": [
      "  Batch 163160 Loss: 1.8387 Top-1 error rate: 43.76% Top-5 error rate: 19.81%\n"
     ]
    },
    {
     "name": "stderr",
     "output_type": "stream",
     "text": [
      " 80%|███████▉  | 4001/5005 [09:14<02:01,  8.24it/s]"
     ]
    },
    {
     "name": "stdout",
     "output_type": "stream",
     "text": [
      "  Batch 164160 Loss: 1.8470 Top-1 error rate: 43.86% Top-5 error rate: 19.91%\n"
     ]
    },
    {
     "name": "stderr",
     "output_type": "stream",
     "text": [
      "100%|█████████▉| 5001/5005 [11:35<00:00,  7.04it/s]"
     ]
    },
    {
     "name": "stdout",
     "output_type": "stream",
     "text": [
      "  Batch 165160 Loss: 1.8374 Top-1 error rate: 43.79% Top-5 error rate: 19.80%\n"
     ]
    },
    {
     "name": "stderr",
     "output_type": "stream",
     "text": [
      "100%|██████████| 5005/5005 [11:35<00:00,  7.19it/s]\n",
      "Validation:  26%|██▌       | 101/391 [00:22<00:57,  5.02it/s]"
     ]
    },
    {
     "name": "stdout",
     "output_type": "stream",
     "text": [
      "  Validation Batch   100 Loss: 1.5503 Top-1 error: 38.59% Top-5 error: 15.12%\n"
     ]
    },
    {
     "name": "stderr",
     "output_type": "stream",
     "text": [
      "Validation:  51%|█████     | 200/391 [00:42<00:38,  4.96it/s]"
     ]
    },
    {
     "name": "stdout",
     "output_type": "stream",
     "text": [
      "  Validation Batch   200 Loss: 1.8502 Top-1 error: 42.86% Top-5 error: 19.34%\n"
     ]
    },
    {
     "name": "stderr",
     "output_type": "stream",
     "text": [
      "Validation:  77%|███████▋  | 300/391 [01:03<00:21,  4.21it/s]"
     ]
    },
    {
     "name": "stdout",
     "output_type": "stream",
     "text": [
      "  Validation Batch   300 Loss: 2.2751 Top-1 error: 49.71% Top-5 error: 26.71%\n"
     ]
    },
    {
     "name": "stderr",
     "output_type": "stream",
     "text": [
      "Validation: 100%|██████████| 391/391 [01:22<00:00,  4.74it/s]\n"
     ]
    },
    {
     "name": "stdout",
     "output_type": "stream",
     "text": [
      "LOSS train 1.8456 valid 1.9564\n",
      "Top-1 Error train 43.89% val 44.89%\n",
      "Top-5 Error train 19.91% val 21.42%\n",
      "EPOCH 34:\n"
     ]
    },
    {
     "name": "stderr",
     "output_type": "stream",
     "text": [
      " 20%|██        | 1001/5005 [02:15<09:08,  7.30it/s]"
     ]
    },
    {
     "name": "stdout",
     "output_type": "stream",
     "text": [
      "  Batch 166165 Loss: 1.7859 Top-1 error rate: 42.84% Top-5 error rate: 19.01%\n"
     ]
    },
    {
     "name": "stderr",
     "output_type": "stream",
     "text": [
      " 40%|███▉      | 2001/5005 [04:31<06:08,  8.15it/s]"
     ]
    },
    {
     "name": "stdout",
     "output_type": "stream",
     "text": [
      "  Batch 167165 Loss: 1.7876 Top-1 error rate: 42.74% Top-5 error rate: 19.03%\n"
     ]
    },
    {
     "name": "stderr",
     "output_type": "stream",
     "text": [
      " 60%|█████▉    | 3001/5005 [06:54<04:56,  6.77it/s]"
     ]
    },
    {
     "name": "stdout",
     "output_type": "stream",
     "text": [
      "  Batch 168165 Loss: 1.7932 Top-1 error rate: 43.01% Top-5 error rate: 19.14%\n"
     ]
    },
    {
     "name": "stderr",
     "output_type": "stream",
     "text": [
      " 80%|███████▉  | 4001/5005 [09:14<02:04,  8.08it/s]"
     ]
    },
    {
     "name": "stdout",
     "output_type": "stream",
     "text": [
      "  Batch 169165 Loss: 1.7891 Top-1 error rate: 42.78% Top-5 error rate: 19.15%\n"
     ]
    },
    {
     "name": "stderr",
     "output_type": "stream",
     "text": [
      "100%|█████████▉| 5001/5005 [11:32<00:00,  7.28it/s]"
     ]
    },
    {
     "name": "stdout",
     "output_type": "stream",
     "text": [
      "  Batch 170165 Loss: 1.7962 Top-1 error rate: 42.95% Top-5 error rate: 19.19%\n"
     ]
    },
    {
     "name": "stderr",
     "output_type": "stream",
     "text": [
      "100%|██████████| 5005/5005 [11:32<00:00,  7.23it/s]\n",
      "Validation:  26%|██▌       | 101/391 [00:22<00:56,  5.13it/s]"
     ]
    },
    {
     "name": "stdout",
     "output_type": "stream",
     "text": [
      "  Validation Batch   100 Loss: 1.5302 Top-1 error: 37.77% Top-5 error: 14.85%\n"
     ]
    },
    {
     "name": "stderr",
     "output_type": "stream",
     "text": [
      "Validation:  51%|█████     | 200/391 [00:42<00:39,  4.81it/s]"
     ]
    },
    {
     "name": "stdout",
     "output_type": "stream",
     "text": [
      "  Validation Batch   200 Loss: 1.8207 Top-1 error: 42.24% Top-5 error: 18.91%\n"
     ]
    },
    {
     "name": "stderr",
     "output_type": "stream",
     "text": [
      "Validation:  77%|███████▋  | 300/391 [01:02<00:18,  4.92it/s]"
     ]
    },
    {
     "name": "stdout",
     "output_type": "stream",
     "text": [
      "  Validation Batch   300 Loss: 2.2349 Top-1 error: 48.66% Top-5 error: 25.93%\n"
     ]
    },
    {
     "name": "stderr",
     "output_type": "stream",
     "text": [
      "Validation: 100%|██████████| 391/391 [01:21<00:00,  4.81it/s]\n"
     ]
    },
    {
     "name": "stdout",
     "output_type": "stream",
     "text": [
      "LOSS train 1.7904 valid 1.9267\n",
      "Top-1 Error train 42.86% val 44.29%\n",
      "Top-5 Error train 19.10% val 20.91%\n",
      "EPOCH 35:\n"
     ]
    },
    {
     "name": "stderr",
     "output_type": "stream",
     "text": [
      " 20%|██        | 1001/5005 [02:14<09:18,  7.17it/s]"
     ]
    },
    {
     "name": "stdout",
     "output_type": "stream",
     "text": [
      "  Batch 171170 Loss: 1.7449 Top-1 error rate: 42.04% Top-5 error rate: 18.46%\n"
     ]
    },
    {
     "name": "stderr",
     "output_type": "stream",
     "text": [
      " 40%|███▉      | 2001/5005 [04:32<06:02,  8.29it/s]"
     ]
    },
    {
     "name": "stdout",
     "output_type": "stream",
     "text": [
      "  Batch 172170 Loss: 1.7500 Top-1 error rate: 42.16% Top-5 error rate: 18.48%\n"
     ]
    },
    {
     "name": "stderr",
     "output_type": "stream",
     "text": [
      " 60%|█████▉    | 3001/5005 [06:53<04:28,  7.46it/s]"
     ]
    },
    {
     "name": "stdout",
     "output_type": "stream",
     "text": [
      "  Batch 173170 Loss: 1.7521 Top-1 error rate: 42.16% Top-5 error rate: 18.59%\n"
     ]
    },
    {
     "name": "stderr",
     "output_type": "stream",
     "text": [
      " 80%|███████▉  | 4001/5005 [09:16<02:06,  7.93it/s]"
     ]
    },
    {
     "name": "stdout",
     "output_type": "stream",
     "text": [
      "  Batch 174170 Loss: 1.7471 Top-1 error rate: 42.04% Top-5 error rate: 18.47%\n"
     ]
    },
    {
     "name": "stderr",
     "output_type": "stream",
     "text": [
      "100%|█████████▉| 5001/5005 [11:41<00:00,  6.49it/s]"
     ]
    },
    {
     "name": "stdout",
     "output_type": "stream",
     "text": [
      "  Batch 175170 Loss: 1.7483 Top-1 error rate: 41.87% Top-5 error rate: 18.53%\n"
     ]
    },
    {
     "name": "stderr",
     "output_type": "stream",
     "text": [
      "100%|██████████| 5005/5005 [11:42<00:00,  7.13it/s]\n",
      "Validation:  26%|██▌       | 100/391 [00:22<01:04,  4.54it/s]"
     ]
    },
    {
     "name": "stdout",
     "output_type": "stream",
     "text": [
      "  Validation Batch   100 Loss: 1.5086 Top-1 error: 37.70% Top-5 error: 14.70%\n"
     ]
    },
    {
     "name": "stderr",
     "output_type": "stream",
     "text": [
      "Validation:  51%|█████     | 200/391 [00:43<00:42,  4.48it/s]"
     ]
    },
    {
     "name": "stdout",
     "output_type": "stream",
     "text": [
      "  Validation Batch   200 Loss: 1.8033 Top-1 error: 42.29% Top-5 error: 18.55%\n"
     ]
    },
    {
     "name": "stderr",
     "output_type": "stream",
     "text": [
      "Validation:  77%|███████▋  | 300/391 [01:05<00:22,  4.10it/s]"
     ]
    },
    {
     "name": "stdout",
     "output_type": "stream",
     "text": [
      "  Validation Batch   300 Loss: 2.2192 Top-1 error: 48.90% Top-5 error: 25.84%\n"
     ]
    },
    {
     "name": "stderr",
     "output_type": "stream",
     "text": [
      "Validation: 100%|██████████| 391/391 [01:24<00:00,  4.61it/s]\n"
     ]
    },
    {
     "name": "stdout",
     "output_type": "stream",
     "text": [
      "LOSS train 1.7485 valid 1.9065\n",
      "Top-1 Error train 42.05% val 44.12%\n",
      "Top-5 Error train 18.50% val 20.73%\n",
      "EPOCH 36:\n"
     ]
    },
    {
     "name": "stderr",
     "output_type": "stream",
     "text": [
      " 20%|██        | 1001/5005 [02:21<09:33,  6.98it/s]"
     ]
    },
    {
     "name": "stdout",
     "output_type": "stream",
     "text": [
      "  Batch 176175 Loss: 1.6976 Top-1 error rate: 41.04% Top-5 error rate: 17.81%\n"
     ]
    },
    {
     "name": "stderr",
     "output_type": "stream",
     "text": [
      " 40%|███▉      | 2001/5005 [04:44<06:10,  8.11it/s]"
     ]
    },
    {
     "name": "stdout",
     "output_type": "stream",
     "text": [
      "  Batch 177175 Loss: 1.7065 Top-1 error rate: 41.27% Top-5 error rate: 17.83%\n"
     ]
    },
    {
     "name": "stderr",
     "output_type": "stream",
     "text": [
      " 60%|█████▉    | 3001/5005 [07:10<06:11,  5.39it/s]"
     ]
    },
    {
     "name": "stdout",
     "output_type": "stream",
     "text": [
      "  Batch 178175 Loss: 1.7155 Top-1 error rate: 41.37% Top-5 error rate: 18.06%\n"
     ]
    },
    {
     "name": "stderr",
     "output_type": "stream",
     "text": [
      " 80%|███████▉  | 4001/5005 [09:36<02:04,  8.05it/s]"
     ]
    },
    {
     "name": "stdout",
     "output_type": "stream",
     "text": [
      "  Batch 179175 Loss: 1.7152 Top-1 error rate: 41.41% Top-5 error rate: 17.96%\n"
     ]
    },
    {
     "name": "stderr",
     "output_type": "stream",
     "text": [
      "100%|█████████▉| 5001/5005 [11:59<00:00,  7.32it/s]"
     ]
    },
    {
     "name": "stdout",
     "output_type": "stream",
     "text": [
      "  Batch 180175 Loss: 1.7201 Top-1 error rate: 41.50% Top-5 error rate: 18.05%\n"
     ]
    },
    {
     "name": "stderr",
     "output_type": "stream",
     "text": [
      "100%|██████████| 5005/5005 [11:59<00:00,  6.95it/s]\n",
      "Validation:  26%|██▌       | 101/391 [00:22<00:55,  5.21it/s]"
     ]
    },
    {
     "name": "stdout",
     "output_type": "stream",
     "text": [
      "  Validation Batch   100 Loss: 1.5156 Top-1 error: 37.74% Top-5 error: 14.80%\n"
     ]
    },
    {
     "name": "stderr",
     "output_type": "stream",
     "text": [
      "Validation:  51%|█████     | 200/391 [00:41<00:36,  5.22it/s]"
     ]
    },
    {
     "name": "stdout",
     "output_type": "stream",
     "text": [
      "  Validation Batch   200 Loss: 1.7909 Top-1 error: 42.27% Top-5 error: 18.32%\n"
     ]
    },
    {
     "name": "stderr",
     "output_type": "stream",
     "text": [
      "Validation:  77%|███████▋  | 301/391 [01:02<00:17,  5.14it/s]"
     ]
    },
    {
     "name": "stdout",
     "output_type": "stream",
     "text": [
      "  Validation Batch   300 Loss: 2.2090 Top-1 error: 48.72% Top-5 error: 25.78%\n"
     ]
    },
    {
     "name": "stderr",
     "output_type": "stream",
     "text": [
      "Validation: 100%|██████████| 391/391 [01:20<00:00,  4.86it/s]\n"
     ]
    },
    {
     "name": "stdout",
     "output_type": "stream",
     "text": [
      "LOSS train 1.7110 valid 1.8974\n",
      "Top-1 Error train 41.32% val 43.94%\n",
      "Top-5 Error train 17.94% val 20.51%\n",
      "EPOCH 37:\n"
     ]
    },
    {
     "name": "stderr",
     "output_type": "stream",
     "text": [
      " 20%|██        | 1001/5005 [02:21<08:09,  8.18it/s]"
     ]
    },
    {
     "name": "stdout",
     "output_type": "stream",
     "text": [
      "  Batch 181180 Loss: 1.6673 Top-1 error rate: 40.45% Top-5 error rate: 17.28%\n"
     ]
    },
    {
     "name": "stderr",
     "output_type": "stream",
     "text": [
      " 40%|███▉      | 2001/5005 [04:42<07:05,  7.07it/s]"
     ]
    },
    {
     "name": "stdout",
     "output_type": "stream",
     "text": [
      "  Batch 182180 Loss: 1.6717 Top-1 error rate: 40.68% Top-5 error rate: 17.34%\n"
     ]
    },
    {
     "name": "stderr",
     "output_type": "stream",
     "text": [
      " 60%|█████▉    | 3001/5005 [07:02<04:02,  8.28it/s]"
     ]
    },
    {
     "name": "stdout",
     "output_type": "stream",
     "text": [
      "  Batch 183180 Loss: 1.6770 Top-1 error rate: 40.73% Top-5 error rate: 17.46%\n"
     ]
    },
    {
     "name": "stderr",
     "output_type": "stream",
     "text": [
      " 80%|███████▉  | 4001/5005 [09:24<02:23,  7.00it/s]"
     ]
    },
    {
     "name": "stdout",
     "output_type": "stream",
     "text": [
      "  Batch 184180 Loss: 1.6811 Top-1 error rate: 40.75% Top-5 error rate: 17.49%\n"
     ]
    },
    {
     "name": "stderr",
     "output_type": "stream",
     "text": [
      "100%|█████████▉| 5001/5005 [11:44<00:00,  8.14it/s]"
     ]
    },
    {
     "name": "stdout",
     "output_type": "stream",
     "text": [
      "  Batch 185180 Loss: 1.6907 Top-1 error rate: 40.98% Top-5 error rate: 17.63%\n"
     ]
    },
    {
     "name": "stderr",
     "output_type": "stream",
     "text": [
      "100%|██████████| 5005/5005 [11:44<00:00,  7.10it/s]\n",
      "Validation:  26%|██▌       | 101/391 [00:23<01:02,  4.63it/s]"
     ]
    },
    {
     "name": "stdout",
     "output_type": "stream",
     "text": [
      "  Validation Batch   100 Loss: 1.4695 Top-1 error: 37.05% Top-5 error: 14.09%\n"
     ]
    },
    {
     "name": "stderr",
     "output_type": "stream",
     "text": [
      "Validation:  51%|█████     | 200/391 [00:45<00:38,  4.93it/s]"
     ]
    },
    {
     "name": "stdout",
     "output_type": "stream",
     "text": [
      "  Validation Batch   200 Loss: 1.7666 Top-1 error: 41.70% Top-5 error: 18.12%\n"
     ]
    },
    {
     "name": "stderr",
     "output_type": "stream",
     "text": [
      "Validation:  77%|███████▋  | 301/391 [01:06<00:18,  4.84it/s]"
     ]
    },
    {
     "name": "stdout",
     "output_type": "stream",
     "text": [
      "  Validation Batch   300 Loss: 2.1885 Top-1 error: 48.37% Top-5 error: 25.23%\n"
     ]
    },
    {
     "name": "stderr",
     "output_type": "stream",
     "text": [
      "Validation: 100%|██████████| 391/391 [01:25<00:00,  4.58it/s]\n"
     ]
    },
    {
     "name": "stdout",
     "output_type": "stream",
     "text": [
      "LOSS train 1.6775 valid 1.8712\n",
      "Top-1 Error train 40.72% val 43.51%\n",
      "Top-5 Error train 17.44% val 20.12%\n",
      "EPOCH 38:\n"
     ]
    },
    {
     "name": "stderr",
     "output_type": "stream",
     "text": [
      " 20%|██        | 1001/5005 [02:21<08:55,  7.48it/s]"
     ]
    },
    {
     "name": "stdout",
     "output_type": "stream",
     "text": [
      "  Batch 186185 Loss: 1.6375 Top-1 error rate: 39.88% Top-5 error rate: 16.80%\n"
     ]
    },
    {
     "name": "stderr",
     "output_type": "stream",
     "text": [
      " 40%|███▉      | 2001/5005 [04:44<06:17,  7.95it/s]"
     ]
    },
    {
     "name": "stdout",
     "output_type": "stream",
     "text": [
      "  Batch 187185 Loss: 1.6466 Top-1 error rate: 40.11% Top-5 error rate: 16.97%\n"
     ]
    },
    {
     "name": "stderr",
     "output_type": "stream",
     "text": [
      " 60%|█████▉    | 3001/5005 [07:07<05:31,  6.05it/s]"
     ]
    },
    {
     "name": "stdout",
     "output_type": "stream",
     "text": [
      "  Batch 188185 Loss: 1.6491 Top-1 error rate: 40.14% Top-5 error rate: 17.09%\n"
     ]
    },
    {
     "name": "stderr",
     "output_type": "stream",
     "text": [
      " 80%|███████▉  | 4001/5005 [09:29<02:04,  8.04it/s]"
     ]
    },
    {
     "name": "stdout",
     "output_type": "stream",
     "text": [
      "  Batch 189185 Loss: 1.6578 Top-1 error rate: 40.30% Top-5 error rate: 17.14%\n"
     ]
    },
    {
     "name": "stderr",
     "output_type": "stream",
     "text": [
      "100%|█████████▉| 5001/5005 [11:49<00:00,  7.25it/s]"
     ]
    },
    {
     "name": "stdout",
     "output_type": "stream",
     "text": [
      "  Batch 190185 Loss: 1.6635 Top-1 error rate: 40.51% Top-5 error rate: 17.29%\n"
     ]
    },
    {
     "name": "stderr",
     "output_type": "stream",
     "text": [
      "100%|██████████| 5005/5005 [11:49<00:00,  7.05it/s]\n",
      "Validation:  26%|██▌       | 101/391 [00:21<00:56,  5.11it/s]"
     ]
    },
    {
     "name": "stdout",
     "output_type": "stream",
     "text": [
      "  Validation Batch   100 Loss: 1.4936 Top-1 error: 37.18% Top-5 error: 14.30%\n"
     ]
    },
    {
     "name": "stderr",
     "output_type": "stream",
     "text": [
      "Validation:  51%|█████     | 200/391 [00:41<00:39,  4.83it/s]"
     ]
    },
    {
     "name": "stdout",
     "output_type": "stream",
     "text": [
      "  Validation Batch   200 Loss: 1.7699 Top-1 error: 42.07% Top-5 error: 18.13%\n"
     ]
    },
    {
     "name": "stderr",
     "output_type": "stream",
     "text": [
      "Validation:  77%|███████▋  | 301/391 [01:02<00:17,  5.11it/s]"
     ]
    },
    {
     "name": "stdout",
     "output_type": "stream",
     "text": [
      "  Validation Batch   300 Loss: 2.1796 Top-1 error: 48.12% Top-5 error: 25.24%\n"
     ]
    },
    {
     "name": "stderr",
     "output_type": "stream",
     "text": [
      "Validation: 100%|██████████| 391/391 [01:20<00:00,  4.87it/s]\n"
     ]
    },
    {
     "name": "stdout",
     "output_type": "stream",
     "text": [
      "LOSS train 1.6508 valid 1.8764\n",
      "Top-1 Error train 40.19% val 43.64%\n",
      "Top-5 Error train 17.06% val 20.20%\n",
      "EPOCH 39:\n"
     ]
    },
    {
     "name": "stderr",
     "output_type": "stream",
     "text": [
      " 20%|██        | 1001/5005 [02:17<08:54,  7.49it/s]"
     ]
    },
    {
     "name": "stdout",
     "output_type": "stream",
     "text": [
      "  Batch 191190 Loss: 1.6102 Top-1 error rate: 39.44% Top-5 error rate: 16.46%\n"
     ]
    },
    {
     "name": "stderr",
     "output_type": "stream",
     "text": [
      " 40%|███▉      | 2001/5005 [04:40<06:13,  8.04it/s]"
     ]
    },
    {
     "name": "stdout",
     "output_type": "stream",
     "text": [
      "  Batch 192190 Loss: 1.6231 Top-1 error rate: 39.59% Top-5 error rate: 16.70%\n"
     ]
    },
    {
     "name": "stderr",
     "output_type": "stream",
     "text": [
      " 60%|█████▉    | 3001/5005 [07:02<05:07,  6.51it/s]"
     ]
    },
    {
     "name": "stdout",
     "output_type": "stream",
     "text": [
      "  Batch 193190 Loss: 1.6268 Top-1 error rate: 39.78% Top-5 error rate: 16.77%\n"
     ]
    },
    {
     "name": "stderr",
     "output_type": "stream",
     "text": [
      " 80%|███████▉  | 4001/5005 [09:25<02:03,  8.13it/s]"
     ]
    },
    {
     "name": "stdout",
     "output_type": "stream",
     "text": [
      "  Batch 194190 Loss: 1.6359 Top-1 error rate: 39.81% Top-5 error rate: 16.81%\n"
     ]
    },
    {
     "name": "stderr",
     "output_type": "stream",
     "text": [
      "100%|█████████▉| 5001/5005 [11:51<00:00,  5.52it/s]"
     ]
    },
    {
     "name": "stdout",
     "output_type": "stream",
     "text": [
      "  Batch 195190 Loss: 1.6350 Top-1 error rate: 39.86% Top-5 error rate: 16.81%\n"
     ]
    },
    {
     "name": "stderr",
     "output_type": "stream",
     "text": [
      "100%|██████████| 5005/5005 [11:52<00:00,  7.03it/s]\n",
      "Validation:  26%|██▌       | 101/391 [00:20<01:00,  4.80it/s]"
     ]
    },
    {
     "name": "stdout",
     "output_type": "stream",
     "text": [
      "  Validation Batch   100 Loss: 1.4590 Top-1 error: 36.59% Top-5 error: 14.02%\n"
     ]
    },
    {
     "name": "stderr",
     "output_type": "stream",
     "text": [
      "Validation:  51%|█████▏    | 201/391 [00:40<00:36,  5.18it/s]"
     ]
    },
    {
     "name": "stdout",
     "output_type": "stream",
     "text": [
      "  Validation Batch   200 Loss: 1.7460 Top-1 error: 41.34% Top-5 error: 17.73%\n"
     ]
    },
    {
     "name": "stderr",
     "output_type": "stream",
     "text": [
      "Validation:  77%|███████▋  | 301/391 [00:59<00:16,  5.37it/s]"
     ]
    },
    {
     "name": "stdout",
     "output_type": "stream",
     "text": [
      "  Validation Batch   300 Loss: 2.1545 Top-1 error: 47.88% Top-5 error: 25.02%\n"
     ]
    },
    {
     "name": "stderr",
     "output_type": "stream",
     "text": [
      "Validation: 100%|██████████| 391/391 [01:17<00:00,  5.05it/s]\n"
     ]
    },
    {
     "name": "stdout",
     "output_type": "stream",
     "text": [
      "LOSS train 1.6262 valid 1.8475\n",
      "Top-1 Error train 39.70% val 43.06%\n",
      "Top-5 Error train 16.71% val 19.88%\n",
      "EPOCH 40:\n"
     ]
    },
    {
     "name": "stderr",
     "output_type": "stream",
     "text": [
      " 20%|██        | 1001/5005 [02:21<11:43,  5.69it/s]"
     ]
    },
    {
     "name": "stdout",
     "output_type": "stream",
     "text": [
      "  Batch 196195 Loss: 1.5920 Top-1 error rate: 39.05% Top-5 error rate: 16.09%\n"
     ]
    },
    {
     "name": "stderr",
     "output_type": "stream",
     "text": [
      " 40%|███▉      | 2001/5005 [04:40<06:04,  8.25it/s]"
     ]
    },
    {
     "name": "stdout",
     "output_type": "stream",
     "text": [
      "  Batch 197195 Loss: 1.6027 Top-1 error rate: 39.27% Top-5 error rate: 16.28%\n"
     ]
    },
    {
     "name": "stderr",
     "output_type": "stream",
     "text": [
      " 60%|█████▉    | 3001/5005 [07:02<06:15,  5.34it/s]"
     ]
    },
    {
     "name": "stdout",
     "output_type": "stream",
     "text": [
      "  Batch 198195 Loss: 1.6159 Top-1 error rate: 39.59% Top-5 error rate: 16.55%\n"
     ]
    },
    {
     "name": "stderr",
     "output_type": "stream",
     "text": [
      " 80%|███████▉  | 4001/5005 [09:21<02:03,  8.10it/s]"
     ]
    },
    {
     "name": "stdout",
     "output_type": "stream",
     "text": [
      "  Batch 199195 Loss: 1.6071 Top-1 error rate: 39.31% Top-5 error rate: 16.38%\n"
     ]
    },
    {
     "name": "stderr",
     "output_type": "stream",
     "text": [
      "100%|█████████▉| 5001/5005 [11:40<00:01,  3.72it/s]"
     ]
    },
    {
     "name": "stdout",
     "output_type": "stream",
     "text": [
      "  Batch 200195 Loss: 1.6163 Top-1 error rate: 39.57% Top-5 error rate: 16.55%\n"
     ]
    },
    {
     "name": "stderr",
     "output_type": "stream",
     "text": [
      "100%|██████████| 5005/5005 [11:40<00:00,  7.14it/s]\n",
      "Validation:  26%|██▌       | 100/391 [00:22<01:02,  4.63it/s]"
     ]
    },
    {
     "name": "stdout",
     "output_type": "stream",
     "text": [
      "  Validation Batch   100 Loss: 1.4702 Top-1 error: 36.63% Top-5 error: 14.27%\n"
     ]
    },
    {
     "name": "stderr",
     "output_type": "stream",
     "text": [
      "Validation:  51%|█████▏    | 201/391 [00:43<00:40,  4.70it/s]"
     ]
    },
    {
     "name": "stdout",
     "output_type": "stream",
     "text": [
      "  Validation Batch   200 Loss: 1.7343 Top-1 error: 40.91% Top-5 error: 17.90%\n"
     ]
    },
    {
     "name": "stderr",
     "output_type": "stream",
     "text": [
      "Validation:  77%|███████▋  | 301/391 [01:04<00:18,  4.89it/s]"
     ]
    },
    {
     "name": "stdout",
     "output_type": "stream",
     "text": [
      "  Validation Batch   300 Loss: 2.1591 Top-1 error: 47.80% Top-5 error: 25.10%\n"
     ]
    },
    {
     "name": "stderr",
     "output_type": "stream",
     "text": [
      "Validation: 100%|██████████| 391/391 [01:24<00:00,  4.63it/s]\n"
     ]
    },
    {
     "name": "stdout",
     "output_type": "stream",
     "text": [
      "LOSS train 1.6069 valid 1.8496\n",
      "Top-1 Error train 39.36% val 43.00%\n",
      "Top-5 Error train 16.37% val 19.99%\n",
      "EPOCH 41:\n"
     ]
    },
    {
     "name": "stderr",
     "output_type": "stream",
     "text": [
      " 20%|██        | 1001/5005 [02:18<09:09,  7.29it/s]"
     ]
    },
    {
     "name": "stdout",
     "output_type": "stream",
     "text": [
      "  Batch 201200 Loss: 1.5616 Top-1 error rate: 38.55% Top-5 error rate: 15.71%\n"
     ]
    },
    {
     "name": "stderr",
     "output_type": "stream",
     "text": [
      " 40%|███▉      | 2001/5005 [04:37<06:03,  8.27it/s]"
     ]
    },
    {
     "name": "stdout",
     "output_type": "stream",
     "text": [
      "  Batch 202200 Loss: 1.5800 Top-1 error rate: 38.94% Top-5 error rate: 16.02%\n"
     ]
    },
    {
     "name": "stderr",
     "output_type": "stream",
     "text": [
      " 60%|█████▉    | 3001/5005 [06:58<04:38,  7.19it/s]"
     ]
    },
    {
     "name": "stdout",
     "output_type": "stream",
     "text": [
      "  Batch 203200 Loss: 1.5840 Top-1 error rate: 38.96% Top-5 error rate: 16.02%\n"
     ]
    },
    {
     "name": "stderr",
     "output_type": "stream",
     "text": [
      " 80%|███████▉  | 4001/5005 [09:16<02:03,  8.16it/s]"
     ]
    },
    {
     "name": "stdout",
     "output_type": "stream",
     "text": [
      "  Batch 204200 Loss: 1.5928 Top-1 error rate: 39.03% Top-5 error rate: 16.21%\n"
     ]
    },
    {
     "name": "stderr",
     "output_type": "stream",
     "text": [
      "100%|█████████▉| 5001/5005 [11:35<00:00,  7.70it/s]"
     ]
    },
    {
     "name": "stdout",
     "output_type": "stream",
     "text": [
      "  Batch 205200 Loss: 1.6073 Top-1 error rate: 39.35% Top-5 error rate: 16.42%\n"
     ]
    },
    {
     "name": "stderr",
     "output_type": "stream",
     "text": [
      "100%|██████████| 5005/5005 [11:35<00:00,  7.19it/s]\n",
      "Validation:  26%|██▌       | 101/391 [00:23<01:01,  4.70it/s]"
     ]
    },
    {
     "name": "stdout",
     "output_type": "stream",
     "text": [
      "  Validation Batch   100 Loss: 1.4372 Top-1 error: 36.16% Top-5 error: 13.65%\n"
     ]
    },
    {
     "name": "stderr",
     "output_type": "stream",
     "text": [
      "Validation:  51%|█████     | 200/391 [00:45<00:42,  4.45it/s]"
     ]
    },
    {
     "name": "stdout",
     "output_type": "stream",
     "text": [
      "  Validation Batch   200 Loss: 1.7394 Top-1 error: 41.30% Top-5 error: 17.59%\n"
     ]
    },
    {
     "name": "stderr",
     "output_type": "stream",
     "text": [
      "Validation:  77%|███████▋  | 301/391 [01:07<00:19,  4.72it/s]"
     ]
    },
    {
     "name": "stdout",
     "output_type": "stream",
     "text": [
      "  Validation Batch   300 Loss: 2.1508 Top-1 error: 47.71% Top-5 error: 24.77%\n"
     ]
    },
    {
     "name": "stderr",
     "output_type": "stream",
     "text": [
      "Validation: 100%|██████████| 391/391 [01:27<00:00,  4.48it/s]\n"
     ]
    },
    {
     "name": "stdout",
     "output_type": "stream",
     "text": [
      "LOSS train 1.5852 valid 1.8357\n",
      "Top-1 Error train 38.97% val 42.78%\n",
      "Top-5 Error train 16.08% val 19.72%\n",
      "EPOCH 42:\n"
     ]
    },
    {
     "name": "stderr",
     "output_type": "stream",
     "text": [
      " 20%|██        | 1001/5005 [02:15<09:17,  7.18it/s]"
     ]
    },
    {
     "name": "stdout",
     "output_type": "stream",
     "text": [
      "  Batch 206205 Loss: 1.5485 Top-1 error rate: 38.27% Top-5 error rate: 15.52%\n"
     ]
    },
    {
     "name": "stderr",
     "output_type": "stream",
     "text": [
      " 40%|███▉      | 2001/5005 [04:33<06:07,  8.17it/s]"
     ]
    },
    {
     "name": "stdout",
     "output_type": "stream",
     "text": [
      "  Batch 207205 Loss: 1.5652 Top-1 error rate: 38.53% Top-5 error rate: 15.77%\n"
     ]
    },
    {
     "name": "stderr",
     "output_type": "stream",
     "text": [
      " 60%|█████▉    | 3001/5005 [06:53<04:20,  7.70it/s]"
     ]
    },
    {
     "name": "stdout",
     "output_type": "stream",
     "text": [
      "  Batch 208205 Loss: 1.5662 Top-1 error rate: 38.66% Top-5 error rate: 15.83%\n"
     ]
    },
    {
     "name": "stderr",
     "output_type": "stream",
     "text": [
      " 80%|███████▉  | 4001/5005 [09:12<02:03,  8.14it/s]"
     ]
    },
    {
     "name": "stdout",
     "output_type": "stream",
     "text": [
      "  Batch 209205 Loss: 1.5730 Top-1 error rate: 38.74% Top-5 error rate: 15.85%\n"
     ]
    },
    {
     "name": "stderr",
     "output_type": "stream",
     "text": [
      "100%|█████████▉| 5001/5005 [11:29<00:00,  7.95it/s]"
     ]
    },
    {
     "name": "stdout",
     "output_type": "stream",
     "text": [
      "  Batch 210205 Loss: 1.5781 Top-1 error rate: 38.89% Top-5 error rate: 15.94%\n"
     ]
    },
    {
     "name": "stderr",
     "output_type": "stream",
     "text": [
      "100%|██████████| 5005/5005 [11:30<00:00,  7.25it/s]\n",
      "Validation:  26%|██▌       | 100/391 [00:23<01:05,  4.45it/s]"
     ]
    },
    {
     "name": "stdout",
     "output_type": "stream",
     "text": [
      "  Validation Batch   100 Loss: 1.4623 Top-1 error: 36.66% Top-5 error: 13.95%\n"
     ]
    },
    {
     "name": "stderr",
     "output_type": "stream",
     "text": [
      "Validation:  51%|█████     | 200/391 [00:44<00:41,  4.65it/s]"
     ]
    },
    {
     "name": "stdout",
     "output_type": "stream",
     "text": [
      "  Validation Batch   200 Loss: 1.7328 Top-1 error: 40.85% Top-5 error: 17.74%\n"
     ]
    },
    {
     "name": "stderr",
     "output_type": "stream",
     "text": [
      "Validation:  77%|███████▋  | 300/391 [01:07<00:20,  4.42it/s]"
     ]
    },
    {
     "name": "stdout",
     "output_type": "stream",
     "text": [
      "  Validation Batch   300 Loss: 2.1475 Top-1 error: 47.54% Top-5 error: 24.78%\n"
     ]
    },
    {
     "name": "stderr",
     "output_type": "stream",
     "text": [
      "Validation: 100%|██████████| 391/391 [01:27<00:00,  4.45it/s]\n"
     ]
    },
    {
     "name": "stdout",
     "output_type": "stream",
     "text": [
      "LOSS train 1.5661 valid 1.8401\n",
      "Top-1 Error train 38.62% val 42.84%\n",
      "Top-5 Error train 15.78% val 19.75%\n",
      "EPOCH 43:\n"
     ]
    },
    {
     "name": "stderr",
     "output_type": "stream",
     "text": [
      " 20%|██        | 1001/5005 [02:17<08:23,  7.96it/s]"
     ]
    },
    {
     "name": "stdout",
     "output_type": "stream",
     "text": [
      "  Batch 211210 Loss: 1.5251 Top-1 error rate: 37.88% Top-5 error rate: 15.14%\n"
     ]
    },
    {
     "name": "stderr",
     "output_type": "stream",
     "text": [
      " 40%|███▉      | 2001/5005 [04:35<06:05,  8.22it/s]"
     ]
    },
    {
     "name": "stdout",
     "output_type": "stream",
     "text": [
      "  Batch 212210 Loss: 1.5437 Top-1 error rate: 38.12% Top-5 error rate: 15.45%\n"
     ]
    },
    {
     "name": "stderr",
     "output_type": "stream",
     "text": [
      " 60%|█████▉    | 3001/5005 [06:55<04:17,  7.79it/s]"
     ]
    },
    {
     "name": "stdout",
     "output_type": "stream",
     "text": [
      "  Batch 213210 Loss: 1.5547 Top-1 error rate: 38.38% Top-5 error rate: 15.55%\n"
     ]
    },
    {
     "name": "stderr",
     "output_type": "stream",
     "text": [
      " 80%|███████▉  | 4001/5005 [09:15<02:03,  8.10it/s]"
     ]
    },
    {
     "name": "stdout",
     "output_type": "stream",
     "text": [
      "  Batch 214210 Loss: 1.5657 Top-1 error rate: 38.71% Top-5 error rate: 15.76%\n"
     ]
    },
    {
     "name": "stderr",
     "output_type": "stream",
     "text": [
      "100%|█████████▉| 5001/5005 [11:38<00:00,  8.01it/s]"
     ]
    },
    {
     "name": "stdout",
     "output_type": "stream",
     "text": [
      "  Batch 215210 Loss: 1.5638 Top-1 error rate: 38.70% Top-5 error rate: 15.59%\n"
     ]
    },
    {
     "name": "stderr",
     "output_type": "stream",
     "text": [
      "100%|██████████| 5005/5005 [11:39<00:00,  7.16it/s]\n",
      "Validation:  26%|██▌       | 101/391 [00:21<01:04,  4.52it/s]"
     ]
    },
    {
     "name": "stdout",
     "output_type": "stream",
     "text": [
      "  Validation Batch   100 Loss: 1.4541 Top-1 error: 36.17% Top-5 error: 13.59%\n"
     ]
    },
    {
     "name": "stderr",
     "output_type": "stream",
     "text": [
      "Validation:  51%|█████     | 200/391 [00:43<00:40,  4.76it/s]"
     ]
    },
    {
     "name": "stdout",
     "output_type": "stream",
     "text": [
      "  Validation Batch   200 Loss: 1.7397 Top-1 error: 41.07% Top-5 error: 18.03%\n"
     ]
    },
    {
     "name": "stderr",
     "output_type": "stream",
     "text": [
      "Validation:  77%|███████▋  | 301/391 [01:05<00:18,  4.98it/s]"
     ]
    },
    {
     "name": "stdout",
     "output_type": "stream",
     "text": [
      "  Validation Batch   300 Loss: 2.1463 Top-1 error: 47.98% Top-5 error: 24.88%\n"
     ]
    },
    {
     "name": "stderr",
     "output_type": "stream",
     "text": [
      "Validation: 100%|██████████| 391/391 [01:24<00:00,  4.61it/s]\n"
     ]
    },
    {
     "name": "stdout",
     "output_type": "stream",
     "text": [
      "LOSS train 1.5506 valid 1.8394\n",
      "Top-1 Error train 38.36% val 42.88%\n",
      "Top-5 Error train 15.50% val 19.75%\n",
      "EPOCH 44:\n"
     ]
    },
    {
     "name": "stderr",
     "output_type": "stream",
     "text": [
      " 20%|██        | 1001/5005 [02:17<08:11,  8.15it/s]"
     ]
    },
    {
     "name": "stdout",
     "output_type": "stream",
     "text": [
      "  Batch 216215 Loss: 1.5102 Top-1 error rate: 37.44% Top-5 error rate: 14.95%\n"
     ]
    },
    {
     "name": "stderr",
     "output_type": "stream",
     "text": [
      " 40%|███▉      | 2001/5005 [04:40<06:57,  7.19it/s]"
     ]
    },
    {
     "name": "stdout",
     "output_type": "stream",
     "text": [
      "  Batch 217215 Loss: 1.5298 Top-1 error rate: 37.92% Top-5 error rate: 15.18%\n"
     ]
    },
    {
     "name": "stderr",
     "output_type": "stream",
     "text": [
      " 60%|█████▉    | 3001/5005 [07:02<04:08,  8.06it/s]"
     ]
    },
    {
     "name": "stdout",
     "output_type": "stream",
     "text": [
      "  Batch 218215 Loss: 1.5278 Top-1 error rate: 37.90% Top-5 error rate: 15.19%\n"
     ]
    },
    {
     "name": "stderr",
     "output_type": "stream",
     "text": [
      " 80%|███████▉  | 4001/5005 [09:23<02:19,  7.19it/s]"
     ]
    },
    {
     "name": "stdout",
     "output_type": "stream",
     "text": [
      "  Batch 219215 Loss: 1.5480 Top-1 error rate: 38.30% Top-5 error rate: 15.46%\n"
     ]
    },
    {
     "name": "stderr",
     "output_type": "stream",
     "text": [
      "100%|█████████▉| 5001/5005 [11:43<00:00,  7.71it/s]"
     ]
    },
    {
     "name": "stdout",
     "output_type": "stream",
     "text": [
      "  Batch 220215 Loss: 1.5538 Top-1 error rate: 38.44% Top-5 error rate: 15.56%\n"
     ]
    },
    {
     "name": "stderr",
     "output_type": "stream",
     "text": [
      "100%|██████████| 5005/5005 [11:43<00:00,  7.11it/s]\n",
      "Validation:  26%|██▌       | 101/391 [00:23<01:00,  4.77it/s]"
     ]
    },
    {
     "name": "stdout",
     "output_type": "stream",
     "text": [
      "  Validation Batch   100 Loss: 1.4670 Top-1 error: 36.48% Top-5 error: 13.98%\n"
     ]
    },
    {
     "name": "stderr",
     "output_type": "stream",
     "text": [
      "Validation:  51%|█████     | 200/391 [00:45<00:40,  4.68it/s]"
     ]
    },
    {
     "name": "stdout",
     "output_type": "stream",
     "text": [
      "  Validation Batch   200 Loss: 1.7368 Top-1 error: 41.17% Top-5 error: 17.80%\n"
     ]
    },
    {
     "name": "stderr",
     "output_type": "stream",
     "text": [
      "Validation:  77%|███████▋  | 300/391 [01:07<00:19,  4.71it/s]"
     ]
    },
    {
     "name": "stdout",
     "output_type": "stream",
     "text": [
      "  Validation Batch   300 Loss: 2.1322 Top-1 error: 47.70% Top-5 error: 24.74%\n"
     ]
    },
    {
     "name": "stderr",
     "output_type": "stream",
     "text": [
      "Validation: 100%|██████████| 391/391 [01:27<00:00,  4.47it/s]\n"
     ]
    },
    {
     "name": "stdout",
     "output_type": "stream",
     "text": [
      "LOSS train 1.5339 valid 1.8347\n",
      "Top-1 Error train 38.00% val 42.83%\n",
      "Top-5 Error train 15.27% val 19.72%\n",
      "EPOCH 45:\n"
     ]
    },
    {
     "name": "stderr",
     "output_type": "stream",
     "text": [
      " 20%|██        | 1001/5005 [02:22<09:20,  7.15it/s]"
     ]
    },
    {
     "name": "stdout",
     "output_type": "stream",
     "text": [
      "  Batch 221220 Loss: 1.4948 Top-1 error rate: 37.22% Top-5 error rate: 14.72%\n"
     ]
    },
    {
     "name": "stderr",
     "output_type": "stream",
     "text": [
      " 40%|███▉      | 2001/5005 [04:46<06:06,  8.19it/s]"
     ]
    },
    {
     "name": "stdout",
     "output_type": "stream",
     "text": [
      "  Batch 222220 Loss: 1.5087 Top-1 error rate: 37.51% Top-5 error rate: 14.85%\n"
     ]
    },
    {
     "name": "stderr",
     "output_type": "stream",
     "text": [
      " 60%|█████▉    | 3001/5005 [07:10<04:46,  7.00it/s]"
     ]
    },
    {
     "name": "stdout",
     "output_type": "stream",
     "text": [
      "  Batch 223220 Loss: 1.5175 Top-1 error rate: 37.71% Top-5 error rate: 15.01%\n"
     ]
    },
    {
     "name": "stderr",
     "output_type": "stream",
     "text": [
      " 80%|███████▉  | 4001/5005 [09:34<02:03,  8.13it/s]"
     ]
    },
    {
     "name": "stdout",
     "output_type": "stream",
     "text": [
      "  Batch 224220 Loss: 1.5258 Top-1 error rate: 37.96% Top-5 error rate: 15.05%\n"
     ]
    },
    {
     "name": "stderr",
     "output_type": "stream",
     "text": [
      "100%|█████████▉| 5001/5005 [11:57<00:00,  6.54it/s]"
     ]
    },
    {
     "name": "stdout",
     "output_type": "stream",
     "text": [
      "  Batch 225220 Loss: 1.5472 Top-1 error rate: 38.23% Top-5 error rate: 15.58%\n"
     ]
    },
    {
     "name": "stderr",
     "output_type": "stream",
     "text": [
      "100%|██████████| 5005/5005 [11:57<00:00,  6.97it/s]\n",
      "Validation:  26%|██▌       | 100/391 [00:23<01:10,  4.14it/s]"
     ]
    },
    {
     "name": "stdout",
     "output_type": "stream",
     "text": [
      "  Validation Batch   100 Loss: 1.4262 Top-1 error: 35.77% Top-5 error: 13.31%\n"
     ]
    },
    {
     "name": "stderr",
     "output_type": "stream",
     "text": [
      "Validation:  51%|█████     | 200/391 [00:44<00:39,  4.82it/s]"
     ]
    },
    {
     "name": "stdout",
     "output_type": "stream",
     "text": [
      "  Validation Batch   200 Loss: 1.7397 Top-1 error: 41.06% Top-5 error: 17.88%\n"
     ]
    },
    {
     "name": "stderr",
     "output_type": "stream",
     "text": [
      "Validation:  77%|███████▋  | 300/391 [01:07<00:20,  4.46it/s]"
     ]
    },
    {
     "name": "stdout",
     "output_type": "stream",
     "text": [
      "  Validation Batch   300 Loss: 2.1204 Top-1 error: 47.19% Top-5 error: 24.74%\n"
     ]
    },
    {
     "name": "stderr",
     "output_type": "stream",
     "text": [
      "Validation: 100%|██████████| 391/391 [01:27<00:00,  4.49it/s]\n"
     ]
    },
    {
     "name": "stdout",
     "output_type": "stream",
     "text": [
      "LOSS train 1.5188 valid 1.8261\n",
      "Top-1 Error train 37.72% val 42.45%\n",
      "Top-5 Error train 15.04% val 19.70%\n",
      "EPOCH 46:\n"
     ]
    },
    {
     "name": "stderr",
     "output_type": "stream",
     "text": [
      " 20%|██        | 1001/5005 [02:18<09:42,  6.88it/s]"
     ]
    },
    {
     "name": "stdout",
     "output_type": "stream",
     "text": [
      "  Batch 226225 Loss: 1.4816 Top-1 error rate: 37.02% Top-5 error rate: 14.49%\n"
     ]
    },
    {
     "name": "stderr",
     "output_type": "stream",
     "text": [
      " 40%|███▉      | 2001/5005 [04:41<06:56,  7.21it/s]"
     ]
    },
    {
     "name": "stdout",
     "output_type": "stream",
     "text": [
      "  Batch 227225 Loss: 1.4981 Top-1 error rate: 37.34% Top-5 error rate: 14.68%\n"
     ]
    },
    {
     "name": "stderr",
     "output_type": "stream",
     "text": [
      " 60%|█████▉    | 3001/5005 [07:05<04:03,  8.23it/s]"
     ]
    },
    {
     "name": "stdout",
     "output_type": "stream",
     "text": [
      "  Batch 228225 Loss: 1.5057 Top-1 error rate: 37.57% Top-5 error rate: 14.83%\n"
     ]
    },
    {
     "name": "stderr",
     "output_type": "stream",
     "text": [
      " 80%|███████▉  | 4001/5005 [09:26<02:13,  7.53it/s]"
     ]
    },
    {
     "name": "stdout",
     "output_type": "stream",
     "text": [
      "  Batch 229225 Loss: 1.5202 Top-1 error rate: 37.77% Top-5 error rate: 15.02%\n"
     ]
    },
    {
     "name": "stderr",
     "output_type": "stream",
     "text": [
      "100%|█████████▉| 5001/5005 [11:48<00:00,  8.28it/s]"
     ]
    },
    {
     "name": "stdout",
     "output_type": "stream",
     "text": [
      "  Batch 230225 Loss: 1.5266 Top-1 error rate: 37.94% Top-5 error rate: 15.16%\n"
     ]
    },
    {
     "name": "stderr",
     "output_type": "stream",
     "text": [
      "100%|██████████| 5005/5005 [11:49<00:00,  7.06it/s]\n",
      "Validation:  26%|██▌       | 100/391 [00:22<01:00,  4.78it/s]"
     ]
    },
    {
     "name": "stdout",
     "output_type": "stream",
     "text": [
      "  Validation Batch   100 Loss: 1.4467 Top-1 error: 36.40% Top-5 error: 13.82%\n"
     ]
    },
    {
     "name": "stderr",
     "output_type": "stream",
     "text": [
      "Validation:  51%|█████     | 200/391 [00:44<00:38,  4.93it/s]"
     ]
    },
    {
     "name": "stdout",
     "output_type": "stream",
     "text": [
      "  Validation Batch   200 Loss: 1.7169 Top-1 error: 40.69% Top-5 error: 17.74%\n"
     ]
    },
    {
     "name": "stderr",
     "output_type": "stream",
     "text": [
      "Validation:  77%|███████▋  | 301/391 [01:06<00:18,  4.82it/s]"
     ]
    },
    {
     "name": "stdout",
     "output_type": "stream",
     "text": [
      "  Validation Batch   300 Loss: 2.1296 Top-1 error: 47.51% Top-5 error: 24.66%\n"
     ]
    },
    {
     "name": "stderr",
     "output_type": "stream",
     "text": [
      "Validation: 100%|██████████| 391/391 [01:25<00:00,  4.56it/s]\n"
     ]
    },
    {
     "name": "stdout",
     "output_type": "stream",
     "text": [
      "LOSS train 1.5065 valid 1.8231\n",
      "Top-1 Error train 37.53% val 42.58%\n",
      "Top-5 Error train 14.84% val 19.64%\n",
      "EPOCH 47:\n"
     ]
    },
    {
     "name": "stderr",
     "output_type": "stream",
     "text": [
      " 20%|██        | 1001/5005 [02:23<08:42,  7.66it/s]"
     ]
    },
    {
     "name": "stdout",
     "output_type": "stream",
     "text": [
      "  Batch 231230 Loss: 1.4751 Top-1 error rate: 36.91% Top-5 error rate: 14.44%\n"
     ]
    },
    {
     "name": "stderr",
     "output_type": "stream",
     "text": [
      " 40%|███▉      | 2001/5005 [04:45<06:08,  8.15it/s]"
     ]
    },
    {
     "name": "stdout",
     "output_type": "stream",
     "text": [
      "  Batch 232230 Loss: 1.4869 Top-1 error rate: 37.13% Top-5 error rate: 14.56%\n"
     ]
    },
    {
     "name": "stderr",
     "output_type": "stream",
     "text": [
      " 60%|█████▉    | 3001/5005 [07:09<04:21,  7.66it/s]"
     ]
    },
    {
     "name": "stdout",
     "output_type": "stream",
     "text": [
      "  Batch 233230 Loss: 1.4966 Top-1 error rate: 37.46% Top-5 error rate: 14.67%\n"
     ]
    },
    {
     "name": "stderr",
     "output_type": "stream",
     "text": [
      " 80%|███████▉  | 4001/5005 [09:35<02:02,  8.17it/s]"
     ]
    },
    {
     "name": "stdout",
     "output_type": "stream",
     "text": [
      "  Batch 234230 Loss: 1.5020 Top-1 error rate: 37.37% Top-5 error rate: 14.80%\n"
     ]
    },
    {
     "name": "stderr",
     "output_type": "stream",
     "text": [
      "100%|█████████▉| 5001/5005 [12:00<00:00,  7.82it/s]"
     ]
    },
    {
     "name": "stdout",
     "output_type": "stream",
     "text": [
      "  Batch 235230 Loss: 1.5103 Top-1 error rate: 37.60% Top-5 error rate: 14.93%\n"
     ]
    },
    {
     "name": "stderr",
     "output_type": "stream",
     "text": [
      "100%|██████████| 5005/5005 [12:01<00:00,  6.94it/s]\n",
      "Validation:  26%|██▌       | 100/391 [00:23<01:03,  4.62it/s]"
     ]
    },
    {
     "name": "stdout",
     "output_type": "stream",
     "text": [
      "  Validation Batch   100 Loss: 1.4272 Top-1 error: 36.01% Top-5 error: 13.48%\n"
     ]
    },
    {
     "name": "stderr",
     "output_type": "stream",
     "text": [
      "Validation:  51%|█████     | 200/391 [00:44<00:45,  4.18it/s]"
     ]
    },
    {
     "name": "stdout",
     "output_type": "stream",
     "text": [
      "  Validation Batch   200 Loss: 1.7241 Top-1 error: 40.99% Top-5 error: 17.78%\n"
     ]
    },
    {
     "name": "stderr",
     "output_type": "stream",
     "text": [
      "Validation:  77%|███████▋  | 300/391 [01:07<00:21,  4.27it/s]"
     ]
    },
    {
     "name": "stdout",
     "output_type": "stream",
     "text": [
      "  Validation Batch   300 Loss: 2.1070 Top-1 error: 47.00% Top-5 error: 24.27%\n"
     ]
    },
    {
     "name": "stderr",
     "output_type": "stream",
     "text": [
      "Validation: 100%|██████████| 391/391 [01:27<00:00,  4.44it/s]\n"
     ]
    },
    {
     "name": "stdout",
     "output_type": "stream",
     "text": [
      "LOSS train 1.4942 valid 1.8121\n",
      "Top-1 Error train 37.30% val 42.44%\n",
      "Top-5 Error train 14.68% val 19.44%\n",
      "EPOCH 48:\n"
     ]
    },
    {
     "name": "stderr",
     "output_type": "stream",
     "text": [
      " 20%|██        | 1001/5005 [02:19<08:23,  7.95it/s]"
     ]
    },
    {
     "name": "stdout",
     "output_type": "stream",
     "text": [
      "  Batch 236235 Loss: 1.4573 Top-1 error rate: 36.57% Top-5 error rate: 14.10%\n"
     ]
    },
    {
     "name": "stderr",
     "output_type": "stream",
     "text": [
      " 40%|███▉      | 2001/5005 [04:44<06:08,  8.15it/s]"
     ]
    },
    {
     "name": "stdout",
     "output_type": "stream",
     "text": [
      "  Batch 237235 Loss: 1.4718 Top-1 error rate: 36.84% Top-5 error rate: 14.39%\n"
     ]
    },
    {
     "name": "stderr",
     "output_type": "stream",
     "text": [
      " 60%|█████▉    | 3001/5005 [07:09<04:12,  7.95it/s]"
     ]
    },
    {
     "name": "stdout",
     "output_type": "stream",
     "text": [
      "  Batch 238235 Loss: 1.4849 Top-1 error rate: 37.17% Top-5 error rate: 14.53%\n"
     ]
    },
    {
     "name": "stderr",
     "output_type": "stream",
     "text": [
      " 80%|███████▉  | 4001/5005 [09:31<02:03,  8.16it/s]"
     ]
    },
    {
     "name": "stdout",
     "output_type": "stream",
     "text": [
      "  Batch 239235 Loss: 1.4988 Top-1 error rate: 37.42% Top-5 error rate: 14.69%\n"
     ]
    },
    {
     "name": "stderr",
     "output_type": "stream",
     "text": [
      "100%|█████████▉| 5001/5005 [11:56<00:00,  7.69it/s]"
     ]
    },
    {
     "name": "stdout",
     "output_type": "stream",
     "text": [
      "  Batch 240235 Loss: 1.4939 Top-1 error rate: 37.40% Top-5 error rate: 14.60%\n"
     ]
    },
    {
     "name": "stderr",
     "output_type": "stream",
     "text": [
      "100%|██████████| 5005/5005 [11:57<00:00,  6.98it/s]\n",
      "Validation:  26%|██▌       | 100/391 [00:23<01:03,  4.56it/s]"
     ]
    },
    {
     "name": "stdout",
     "output_type": "stream",
     "text": [
      "  Validation Batch   100 Loss: 1.4280 Top-1 error: 35.91% Top-5 error: 13.56%\n"
     ]
    },
    {
     "name": "stderr",
     "output_type": "stream",
     "text": [
      "Validation:  51%|█████▏    | 201/391 [00:43<00:38,  4.91it/s]"
     ]
    },
    {
     "name": "stdout",
     "output_type": "stream",
     "text": [
      "  Validation Batch   200 Loss: 1.6952 Top-1 error: 40.13% Top-5 error: 17.24%\n"
     ]
    },
    {
     "name": "stderr",
     "output_type": "stream",
     "text": [
      "Validation:  77%|███████▋  | 300/391 [01:03<00:17,  5.07it/s]"
     ]
    },
    {
     "name": "stdout",
     "output_type": "stream",
     "text": [
      "  Validation Batch   300 Loss: 2.1088 Top-1 error: 47.02% Top-5 error: 24.32%\n"
     ]
    },
    {
     "name": "stderr",
     "output_type": "stream",
     "text": [
      "Validation: 100%|██████████| 391/391 [01:21<00:00,  4.83it/s]\n"
     ]
    },
    {
     "name": "stdout",
     "output_type": "stream",
     "text": [
      "LOSS train 1.4815 valid 1.8011\n",
      "Top-1 Error train 37.08% val 42.24%\n",
      "Top-5 Error train 14.46% val 19.25%\n",
      "EPOCH 49:\n"
     ]
    },
    {
     "name": "stderr",
     "output_type": "stream",
     "text": [
      " 20%|██        | 1001/5005 [02:26<09:18,  7.17it/s]"
     ]
    },
    {
     "name": "stdout",
     "output_type": "stream",
     "text": [
      "  Batch 241240 Loss: 1.4484 Top-1 error rate: 36.41% Top-5 error rate: 13.91%\n"
     ]
    },
    {
     "name": "stderr",
     "output_type": "stream",
     "text": [
      " 40%|███▉      | 2001/5005 [04:49<06:09,  8.14it/s]"
     ]
    },
    {
     "name": "stdout",
     "output_type": "stream",
     "text": [
      "  Batch 242240 Loss: 1.4598 Top-1 error rate: 36.62% Top-5 error rate: 14.21%\n"
     ]
    },
    {
     "name": "stderr",
     "output_type": "stream",
     "text": [
      " 60%|█████▉    | 3001/5005 [07:13<04:29,  7.44it/s]"
     ]
    },
    {
     "name": "stdout",
     "output_type": "stream",
     "text": [
      "  Batch 243240 Loss: 1.4659 Top-1 error rate: 36.78% Top-5 error rate: 14.28%\n"
     ]
    },
    {
     "name": "stderr",
     "output_type": "stream",
     "text": [
      " 80%|███████▉  | 4001/5005 [09:37<02:02,  8.21it/s]"
     ]
    },
    {
     "name": "stdout",
     "output_type": "stream",
     "text": [
      "  Batch 244240 Loss: 1.4866 Top-1 error rate: 37.29% Top-5 error rate: 14.54%\n"
     ]
    },
    {
     "name": "stderr",
     "output_type": "stream",
     "text": [
      "100%|█████████▉| 5001/5005 [12:00<00:00,  8.18it/s]"
     ]
    },
    {
     "name": "stdout",
     "output_type": "stream",
     "text": [
      "  Batch 245240 Loss: 1.4876 Top-1 error rate: 37.26% Top-5 error rate: 14.55%\n"
     ]
    },
    {
     "name": "stderr",
     "output_type": "stream",
     "text": [
      "100%|██████████| 5005/5005 [12:00<00:00,  6.94it/s]\n",
      "Validation:  26%|██▌       | 100/391 [00:23<01:06,  4.35it/s]"
     ]
    },
    {
     "name": "stdout",
     "output_type": "stream",
     "text": [
      "  Validation Batch   100 Loss: 1.4292 Top-1 error: 36.12% Top-5 error: 13.65%\n"
     ]
    },
    {
     "name": "stderr",
     "output_type": "stream",
     "text": [
      "Validation:  51%|█████     | 200/391 [00:45<00:42,  4.49it/s]"
     ]
    },
    {
     "name": "stdout",
     "output_type": "stream",
     "text": [
      "  Validation Batch   200 Loss: 1.7046 Top-1 error: 40.80% Top-5 error: 17.20%\n"
     ]
    },
    {
     "name": "stderr",
     "output_type": "stream",
     "text": [
      "Validation:  77%|███████▋  | 301/391 [01:08<00:18,  4.76it/s]"
     ]
    },
    {
     "name": "stdout",
     "output_type": "stream",
     "text": [
      "  Validation Batch   300 Loss: 2.1349 Top-1 error: 47.55% Top-5 error: 24.88%\n"
     ]
    },
    {
     "name": "stderr",
     "output_type": "stream",
     "text": [
      "Validation: 100%|██████████| 391/391 [01:28<00:00,  4.41it/s]\n"
     ]
    },
    {
     "name": "stdout",
     "output_type": "stream",
     "text": [
      "LOSS train 1.4697 valid 1.8154\n",
      "Top-1 Error train 36.87% val 42.57%\n",
      "Top-5 Error train 14.30% val 19.48%\n",
      "EPOCH 50:\n"
     ]
    },
    {
     "name": "stderr",
     "output_type": "stream",
     "text": [
      " 20%|██        | 1001/5005 [02:20<08:13,  8.11it/s]"
     ]
    },
    {
     "name": "stdout",
     "output_type": "stream",
     "text": [
      "  Batch 246245 Loss: 1.4303 Top-1 error rate: 36.12% Top-5 error rate: 13.79%\n"
     ]
    },
    {
     "name": "stderr",
     "output_type": "stream",
     "text": [
      " 40%|███▉      | 2001/5005 [04:40<06:42,  7.47it/s]"
     ]
    },
    {
     "name": "stdout",
     "output_type": "stream",
     "text": [
      "  Batch 247245 Loss: 1.4436 Top-1 error rate: 36.36% Top-5 error rate: 13.87%\n"
     ]
    },
    {
     "name": "stderr",
     "output_type": "stream",
     "text": [
      " 60%|█████▉    | 3001/5005 [07:01<04:06,  8.12it/s]"
     ]
    },
    {
     "name": "stdout",
     "output_type": "stream",
     "text": [
      "  Batch 248245 Loss: 1.4594 Top-1 error rate: 36.66% Top-5 error rate: 14.11%\n"
     ]
    },
    {
     "name": "stderr",
     "output_type": "stream",
     "text": [
      " 80%|███████▉  | 4001/5005 [09:23<02:01,  8.23it/s]"
     ]
    },
    {
     "name": "stdout",
     "output_type": "stream",
     "text": [
      "  Batch 249245 Loss: 1.4693 Top-1 error rate: 36.94% Top-5 error rate: 14.28%\n"
     ]
    },
    {
     "name": "stderr",
     "output_type": "stream",
     "text": [
      "100%|█████████▉| 5001/5005 [11:45<00:00,  8.15it/s]"
     ]
    },
    {
     "name": "stdout",
     "output_type": "stream",
     "text": [
      "  Batch 250245 Loss: 1.4734 Top-1 error rate: 36.98% Top-5 error rate: 14.24%\n"
     ]
    },
    {
     "name": "stderr",
     "output_type": "stream",
     "text": [
      "100%|██████████| 5005/5005 [11:45<00:00,  7.09it/s]\n",
      "Validation:  26%|██▌       | 100/391 [00:24<01:05,  4.42it/s]"
     ]
    },
    {
     "name": "stdout",
     "output_type": "stream",
     "text": [
      "  Validation Batch   100 Loss: 1.4003 Top-1 error: 35.40% Top-5 error: 13.25%\n"
     ]
    },
    {
     "name": "stderr",
     "output_type": "stream",
     "text": [
      "Validation:  51%|█████     | 200/391 [00:47<00:45,  4.21it/s]"
     ]
    },
    {
     "name": "stdout",
     "output_type": "stream",
     "text": [
      "  Validation Batch   200 Loss: 1.7314 Top-1 error: 40.88% Top-5 error: 17.82%\n"
     ]
    },
    {
     "name": "stderr",
     "output_type": "stream",
     "text": [
      "Validation:  77%|███████▋  | 301/391 [01:09<00:18,  4.83it/s]"
     ]
    },
    {
     "name": "stdout",
     "output_type": "stream",
     "text": [
      "  Validation Batch   300 Loss: 2.1013 Top-1 error: 46.91% Top-5 error: 24.21%\n"
     ]
    },
    {
     "name": "stderr",
     "output_type": "stream",
     "text": [
      "Validation: 100%|██████████| 391/391 [01:30<00:00,  4.31it/s]\n"
     ]
    },
    {
     "name": "stdout",
     "output_type": "stream",
     "text": [
      "LOSS train 1.4553 valid 1.8097\n",
      "Top-1 Error train 36.62% val 42.27%\n",
      "Top-5 Error train 14.06% val 19.40%\n",
      "EPOCH 51:\n"
     ]
    },
    {
     "name": "stderr",
     "output_type": "stream",
     "text": [
      " 20%|██        | 1001/5005 [02:20<08:40,  7.69it/s]"
     ]
    },
    {
     "name": "stdout",
     "output_type": "stream",
     "text": [
      "  Batch 251250 Loss: 1.4229 Top-1 error rate: 35.96% Top-5 error rate: 13.66%\n"
     ]
    },
    {
     "name": "stderr",
     "output_type": "stream",
     "text": [
      " 40%|███▉      | 2001/5005 [04:43<06:08,  8.16it/s]"
     ]
    },
    {
     "name": "stdout",
     "output_type": "stream",
     "text": [
      "  Batch 252250 Loss: 1.4269 Top-1 error rate: 36.05% Top-5 error rate: 13.60%\n"
     ]
    },
    {
     "name": "stderr",
     "output_type": "stream",
     "text": [
      " 60%|█████▉    | 3001/5005 [07:08<04:18,  7.74it/s]"
     ]
    },
    {
     "name": "stdout",
     "output_type": "stream",
     "text": [
      "  Batch 253250 Loss: 1.4464 Top-1 error rate: 36.47% Top-5 error rate: 13.97%\n"
     ]
    },
    {
     "name": "stderr",
     "output_type": "stream",
     "text": [
      " 80%|███████▉  | 4001/5005 [09:28<02:02,  8.22it/s]"
     ]
    },
    {
     "name": "stdout",
     "output_type": "stream",
     "text": [
      "  Batch 254250 Loss: 1.4591 Top-1 error rate: 36.68% Top-5 error rate: 14.15%\n"
     ]
    },
    {
     "name": "stderr",
     "output_type": "stream",
     "text": [
      "100%|█████████▉| 5001/5005 [11:51<00:00,  7.84it/s]"
     ]
    },
    {
     "name": "stdout",
     "output_type": "stream",
     "text": [
      "  Batch 255250 Loss: 1.4667 Top-1 error rate: 36.90% Top-5 error rate: 14.16%\n"
     ]
    },
    {
     "name": "stderr",
     "output_type": "stream",
     "text": [
      "100%|██████████| 5005/5005 [11:52<00:00,  7.03it/s]\n",
      "Validation:  26%|██▌       | 101/391 [00:23<01:00,  4.81it/s]"
     ]
    },
    {
     "name": "stdout",
     "output_type": "stream",
     "text": [
      "  Validation Batch   100 Loss: 1.4518 Top-1 error: 36.05% Top-5 error: 13.75%\n"
     ]
    },
    {
     "name": "stderr",
     "output_type": "stream",
     "text": [
      "Validation:  51%|█████     | 200/391 [00:46<00:43,  4.41it/s]"
     ]
    },
    {
     "name": "stdout",
     "output_type": "stream",
     "text": [
      "  Validation Batch   200 Loss: 1.7101 Top-1 error: 40.69% Top-5 error: 17.35%\n"
     ]
    },
    {
     "name": "stderr",
     "output_type": "stream",
     "text": [
      "Validation:  77%|███████▋  | 300/391 [01:09<00:20,  4.34it/s]"
     ]
    },
    {
     "name": "stdout",
     "output_type": "stream",
     "text": [
      "  Validation Batch   300 Loss: 2.1115 Top-1 error: 47.27% Top-5 error: 24.40%\n"
     ]
    },
    {
     "name": "stderr",
     "output_type": "stream",
     "text": [
      "Validation: 100%|██████████| 391/391 [01:29<00:00,  4.37it/s]\n"
     ]
    },
    {
     "name": "stdout",
     "output_type": "stream",
     "text": [
      "LOSS train 1.4444 valid 1.8164\n",
      "Top-1 Error train 36.41% val 42.39%\n",
      "Top-5 Error train 13.91% val 19.49%\n",
      "EPOCH 52:\n"
     ]
    },
    {
     "name": "stderr",
     "output_type": "stream",
     "text": [
      " 20%|██        | 1001/5005 [02:19<08:15,  8.09it/s]"
     ]
    },
    {
     "name": "stdout",
     "output_type": "stream",
     "text": [
      "  Batch 256255 Loss: 1.4044 Top-1 error rate: 35.65% Top-5 error rate: 13.26%\n"
     ]
    },
    {
     "name": "stderr",
     "output_type": "stream",
     "text": [
      " 40%|███▉      | 2001/5005 [04:39<06:06,  8.19it/s]"
     ]
    },
    {
     "name": "stdout",
     "output_type": "stream",
     "text": [
      "  Batch 257255 Loss: 1.4229 Top-1 error rate: 36.10% Top-5 error rate: 13.51%\n"
     ]
    },
    {
     "name": "stderr",
     "output_type": "stream",
     "text": [
      " 60%|█████▉    | 3001/5005 [07:01<04:41,  7.13it/s]"
     ]
    },
    {
     "name": "stdout",
     "output_type": "stream",
     "text": [
      "  Batch 258255 Loss: 1.4398 Top-1 error rate: 36.37% Top-5 error rate: 13.79%\n"
     ]
    },
    {
     "name": "stderr",
     "output_type": "stream",
     "text": [
      " 80%|███████▉  | 4001/5005 [09:22<02:02,  8.21it/s]"
     ]
    },
    {
     "name": "stdout",
     "output_type": "stream",
     "text": [
      "  Batch 259255 Loss: 1.4487 Top-1 error rate: 36.52% Top-5 error rate: 13.93%\n"
     ]
    },
    {
     "name": "stderr",
     "output_type": "stream",
     "text": [
      "100%|█████████▉| 5001/5005 [11:45<00:00,  7.59it/s]"
     ]
    },
    {
     "name": "stdout",
     "output_type": "stream",
     "text": [
      "  Batch 260255 Loss: 1.4557 Top-1 error rate: 36.56% Top-5 error rate: 14.01%\n"
     ]
    },
    {
     "name": "stderr",
     "output_type": "stream",
     "text": [
      "100%|██████████| 5005/5005 [11:45<00:00,  7.09it/s]\n",
      "Validation:  26%|██▌       | 100/391 [00:24<01:03,  4.59it/s]"
     ]
    },
    {
     "name": "stdout",
     "output_type": "stream",
     "text": [
      "  Validation Batch   100 Loss: 1.4131 Top-1 error: 35.81% Top-5 error: 13.26%\n"
     ]
    },
    {
     "name": "stderr",
     "output_type": "stream",
     "text": [
      "Validation:  51%|█████     | 200/391 [00:47<00:40,  4.70it/s]"
     ]
    },
    {
     "name": "stdout",
     "output_type": "stream",
     "text": [
      "  Validation Batch   200 Loss: 1.7138 Top-1 error: 40.55% Top-5 error: 17.39%\n"
     ]
    },
    {
     "name": "stderr",
     "output_type": "stream",
     "text": [
      "Validation:  77%|███████▋  | 301/391 [01:10<00:18,  4.94it/s]"
     ]
    },
    {
     "name": "stdout",
     "output_type": "stream",
     "text": [
      "  Validation Batch   300 Loss: 2.0856 Top-1 error: 46.83% Top-5 error: 24.00%\n"
     ]
    },
    {
     "name": "stderr",
     "output_type": "stream",
     "text": [
      "Validation: 100%|██████████| 391/391 [01:30<00:00,  4.33it/s]\n"
     ]
    },
    {
     "name": "stdout",
     "output_type": "stream",
     "text": [
      "LOSS train 1.4343 valid 1.8009\n",
      "Top-1 Error train 36.24% val 42.28%\n",
      "Top-5 Error train 13.70% val 19.20%\n",
      "EPOCH 53:\n"
     ]
    },
    {
     "name": "stderr",
     "output_type": "stream",
     "text": [
      " 20%|██        | 1001/5005 [02:19<09:09,  7.28it/s]"
     ]
    },
    {
     "name": "stdout",
     "output_type": "stream",
     "text": [
      "  Batch 261260 Loss: 1.3949 Top-1 error rate: 35.42% Top-5 error rate: 13.18%\n"
     ]
    },
    {
     "name": "stderr",
     "output_type": "stream",
     "text": [
      " 40%|███▉      | 2001/5005 [04:41<06:09,  8.13it/s]"
     ]
    },
    {
     "name": "stdout",
     "output_type": "stream",
     "text": [
      "  Batch 262260 Loss: 1.4194 Top-1 error rate: 35.91% Top-5 error rate: 13.59%\n"
     ]
    },
    {
     "name": "stderr",
     "output_type": "stream",
     "text": [
      " 60%|█████▉    | 3001/5005 [07:05<04:31,  7.38it/s]"
     ]
    },
    {
     "name": "stdout",
     "output_type": "stream",
     "text": [
      "  Batch 263260 Loss: 1.4259 Top-1 error rate: 36.06% Top-5 error rate: 13.55%\n"
     ]
    },
    {
     "name": "stderr",
     "output_type": "stream",
     "text": [
      " 80%|███████▉  | 4001/5005 [09:28<02:02,  8.18it/s]"
     ]
    },
    {
     "name": "stdout",
     "output_type": "stream",
     "text": [
      "  Batch 264260 Loss: 1.4391 Top-1 error rate: 36.27% Top-5 error rate: 13.81%\n"
     ]
    },
    {
     "name": "stderr",
     "output_type": "stream",
     "text": [
      "100%|█████████▉| 5001/5005 [11:49<00:00,  7.84it/s]"
     ]
    },
    {
     "name": "stdout",
     "output_type": "stream",
     "text": [
      "  Batch 265260 Loss: 1.4476 Top-1 error rate: 36.44% Top-5 error rate: 13.90%\n"
     ]
    },
    {
     "name": "stderr",
     "output_type": "stream",
     "text": [
      "100%|██████████| 5005/5005 [11:50<00:00,  7.05it/s]\n",
      "Validation:  26%|██▌       | 100/391 [00:23<01:04,  4.51it/s]"
     ]
    },
    {
     "name": "stdout",
     "output_type": "stream",
     "text": [
      "  Validation Batch   100 Loss: 1.4429 Top-1 error: 36.38% Top-5 error: 13.77%\n"
     ]
    },
    {
     "name": "stderr",
     "output_type": "stream",
     "text": [
      "Validation:  51%|█████     | 200/391 [00:45<00:42,  4.52it/s]"
     ]
    },
    {
     "name": "stdout",
     "output_type": "stream",
     "text": [
      "  Validation Batch   200 Loss: 1.7282 Top-1 error: 40.97% Top-5 error: 17.73%\n"
     ]
    },
    {
     "name": "stderr",
     "output_type": "stream",
     "text": [
      "Validation:  77%|███████▋  | 300/391 [01:08<00:18,  4.89it/s]"
     ]
    },
    {
     "name": "stdout",
     "output_type": "stream",
     "text": [
      "  Validation Batch   300 Loss: 2.1334 Top-1 error: 47.59% Top-5 error: 24.69%\n"
     ]
    },
    {
     "name": "stderr",
     "output_type": "stream",
     "text": [
      "Validation: 100%|██████████| 391/391 [01:28<00:00,  4.39it/s]\n"
     ]
    },
    {
     "name": "stdout",
     "output_type": "stream",
     "text": [
      "LOSS train 1.4254 valid 1.8228\n",
      "Top-1 Error train 36.02% val 42.64%\n",
      "Top-5 Error train 13.61% val 19.62%\n",
      "EPOCH 54:\n"
     ]
    },
    {
     "name": "stderr",
     "output_type": "stream",
     "text": [
      " 20%|██        | 1001/5005 [02:20<09:42,  6.88it/s]"
     ]
    },
    {
     "name": "stdout",
     "output_type": "stream",
     "text": [
      "  Batch 266265 Loss: 1.3866 Top-1 error rate: 35.27% Top-5 error rate: 13.01%\n"
     ]
    },
    {
     "name": "stderr",
     "output_type": "stream",
     "text": [
      " 40%|███▉      | 2001/5005 [04:40<06:07,  8.16it/s]"
     ]
    },
    {
     "name": "stdout",
     "output_type": "stream",
     "text": [
      "  Batch 267265 Loss: 1.4032 Top-1 error rate: 35.58% Top-5 error rate: 13.27%\n"
     ]
    },
    {
     "name": "stderr",
     "output_type": "stream",
     "text": [
      " 60%|█████▉    | 3001/5005 [07:01<04:44,  7.05it/s]"
     ]
    },
    {
     "name": "stdout",
     "output_type": "stream",
     "text": [
      "  Batch 268265 Loss: 1.4156 Top-1 error rate: 35.90% Top-5 error rate: 13.48%\n"
     ]
    },
    {
     "name": "stderr",
     "output_type": "stream",
     "text": [
      " 80%|███████▉  | 4001/5005 [09:22<02:02,  8.19it/s]"
     ]
    },
    {
     "name": "stdout",
     "output_type": "stream",
     "text": [
      "  Batch 269265 Loss: 1.4284 Top-1 error rate: 36.16% Top-5 error rate: 13.54%\n"
     ]
    },
    {
     "name": "stderr",
     "output_type": "stream",
     "text": [
      "100%|█████████▉| 5001/5005 [11:45<00:00,  7.86it/s]"
     ]
    },
    {
     "name": "stdout",
     "output_type": "stream",
     "text": [
      "  Batch 270265 Loss: 1.4350 Top-1 error rate: 36.22% Top-5 error rate: 13.71%\n"
     ]
    },
    {
     "name": "stderr",
     "output_type": "stream",
     "text": [
      "100%|██████████| 5005/5005 [11:46<00:00,  7.09it/s]\n",
      "Validation:  26%|██▌       | 101/391 [00:23<01:08,  4.22it/s]"
     ]
    },
    {
     "name": "stdout",
     "output_type": "stream",
     "text": [
      "  Validation Batch   100 Loss: 1.4266 Top-1 error: 35.73% Top-5 error: 13.61%\n"
     ]
    },
    {
     "name": "stderr",
     "output_type": "stream",
     "text": [
      "Validation:  51%|█████     | 200/391 [00:44<00:41,  4.59it/s]"
     ]
    },
    {
     "name": "stdout",
     "output_type": "stream",
     "text": [
      "  Validation Batch   200 Loss: 1.6987 Top-1 error: 40.39% Top-5 error: 17.09%\n"
     ]
    },
    {
     "name": "stderr",
     "output_type": "stream",
     "text": [
      "Validation:  77%|███████▋  | 300/391 [01:06<00:19,  4.57it/s]"
     ]
    },
    {
     "name": "stdout",
     "output_type": "stream",
     "text": [
      "  Validation Batch   300 Loss: 2.0887 Top-1 error: 47.02% Top-5 error: 23.70%\n"
     ]
    },
    {
     "name": "stderr",
     "output_type": "stream",
     "text": [
      "Validation: 100%|██████████| 391/391 [01:27<00:00,  4.49it/s]\n"
     ]
    },
    {
     "name": "stdout",
     "output_type": "stream",
     "text": [
      "LOSS train 1.4137 valid 1.7992\n",
      "Top-1 Error train 35.83% val 42.14%\n",
      "Top-5 Error train 13.40% val 19.10%\n",
      "EPOCH 55:\n"
     ]
    },
    {
     "name": "stderr",
     "output_type": "stream",
     "text": [
      " 20%|██        | 1001/5005 [02:18<08:44,  7.64it/s]"
     ]
    },
    {
     "name": "stdout",
     "output_type": "stream",
     "text": [
      "  Batch 271270 Loss: 1.3735 Top-1 error rate: 35.02% Top-5 error rate: 12.82%\n"
     ]
    },
    {
     "name": "stderr",
     "output_type": "stream",
     "text": [
      " 40%|███▉      | 2001/5005 [04:37<06:08,  8.16it/s]"
     ]
    },
    {
     "name": "stdout",
     "output_type": "stream",
     "text": [
      "  Batch 272270 Loss: 1.3887 Top-1 error rate: 35.40% Top-5 error rate: 12.95%\n"
     ]
    },
    {
     "name": "stderr",
     "output_type": "stream",
     "text": [
      " 60%|█████▉    | 3001/5005 [06:59<04:18,  7.74it/s]"
     ]
    },
    {
     "name": "stdout",
     "output_type": "stream",
     "text": [
      "  Batch 273270 Loss: 1.4102 Top-1 error rate: 35.83% Top-5 error rate: 13.38%\n"
     ]
    },
    {
     "name": "stderr",
     "output_type": "stream",
     "text": [
      " 80%|███████▉  | 4001/5005 [09:19<02:03,  8.14it/s]"
     ]
    },
    {
     "name": "stdout",
     "output_type": "stream",
     "text": [
      "  Batch 274270 Loss: 1.4229 Top-1 error rate: 35.90% Top-5 error rate: 13.45%\n"
     ]
    },
    {
     "name": "stderr",
     "output_type": "stream",
     "text": [
      "100%|█████████▉| 5001/5005 [11:41<00:00,  8.00it/s]"
     ]
    },
    {
     "name": "stdout",
     "output_type": "stream",
     "text": [
      "  Batch 275270 Loss: 1.4272 Top-1 error rate: 36.10% Top-5 error rate: 13.53%\n"
     ]
    },
    {
     "name": "stderr",
     "output_type": "stream",
     "text": [
      "100%|██████████| 5005/5005 [11:41<00:00,  7.13it/s]\n",
      "Validation:  26%|██▌       | 100/391 [00:23<01:06,  4.39it/s]"
     ]
    },
    {
     "name": "stdout",
     "output_type": "stream",
     "text": [
      "  Validation Batch   100 Loss: 1.4320 Top-1 error: 36.46% Top-5 error: 13.84%\n"
     ]
    },
    {
     "name": "stderr",
     "output_type": "stream",
     "text": [
      "Validation:  51%|█████     | 200/391 [00:45<00:42,  4.53it/s]"
     ]
    },
    {
     "name": "stdout",
     "output_type": "stream",
     "text": [
      "  Validation Batch   200 Loss: 1.6980 Top-1 error: 40.42% Top-5 error: 16.96%\n"
     ]
    },
    {
     "name": "stderr",
     "output_type": "stream",
     "text": [
      "Validation:  77%|███████▋  | 301/391 [01:07<00:18,  4.78it/s]"
     ]
    },
    {
     "name": "stdout",
     "output_type": "stream",
     "text": [
      "  Validation Batch   300 Loss: 2.1156 Top-1 error: 47.20% Top-5 error: 24.38%\n"
     ]
    },
    {
     "name": "stderr",
     "output_type": "stream",
     "text": [
      "Validation: 100%|██████████| 391/391 [01:26<00:00,  4.50it/s]\n"
     ]
    },
    {
     "name": "stdout",
     "output_type": "stream",
     "text": [
      "LOSS train 1.4046 valid 1.8076\n",
      "Top-1 Error train 35.65% val 42.43%\n",
      "Top-5 Error train 13.23% val 19.31%\n",
      "EPOCH 56:\n"
     ]
    },
    {
     "name": "stderr",
     "output_type": "stream",
     "text": [
      " 20%|██        | 1001/5005 [02:21<08:25,  7.93it/s]"
     ]
    },
    {
     "name": "stdout",
     "output_type": "stream",
     "text": [
      "  Batch 276275 Loss: 1.3656 Top-1 error rate: 34.77% Top-5 error rate: 12.78%\n"
     ]
    },
    {
     "name": "stderr",
     "output_type": "stream",
     "text": [
      " 40%|███▉      | 2001/5005 [04:41<06:09,  8.12it/s]"
     ]
    },
    {
     "name": "stdout",
     "output_type": "stream",
     "text": [
      "  Batch 277275 Loss: 1.3797 Top-1 error rate: 35.11% Top-5 error rate: 12.88%\n"
     ]
    },
    {
     "name": "stderr",
     "output_type": "stream",
     "text": [
      " 60%|█████▉    | 3001/5005 [07:01<04:21,  7.65it/s]"
     ]
    },
    {
     "name": "stdout",
     "output_type": "stream",
     "text": [
      "  Batch 278275 Loss: 1.4029 Top-1 error rate: 35.66% Top-5 error rate: 13.18%\n"
     ]
    },
    {
     "name": "stderr",
     "output_type": "stream",
     "text": [
      " 80%|███████▉  | 4001/5005 [09:20<02:02,  8.18it/s]"
     ]
    },
    {
     "name": "stdout",
     "output_type": "stream",
     "text": [
      "  Batch 279275 Loss: 1.4053 Top-1 error rate: 35.69% Top-5 error rate: 13.21%\n"
     ]
    },
    {
     "name": "stderr",
     "output_type": "stream",
     "text": [
      "100%|█████████▉| 5001/5005 [11:40<00:00,  7.20it/s]"
     ]
    },
    {
     "name": "stdout",
     "output_type": "stream",
     "text": [
      "  Batch 280275 Loss: 1.4245 Top-1 error rate: 36.11% Top-5 error rate: 13.57%\n"
     ]
    },
    {
     "name": "stderr",
     "output_type": "stream",
     "text": [
      "100%|██████████| 5005/5005 [11:40<00:00,  7.14it/s]\n",
      "Validation:  26%|██▌       | 100/391 [00:23<01:02,  4.68it/s]"
     ]
    },
    {
     "name": "stdout",
     "output_type": "stream",
     "text": [
      "  Validation Batch   100 Loss: 1.4288 Top-1 error: 36.28% Top-5 error: 13.41%\n"
     ]
    },
    {
     "name": "stderr",
     "output_type": "stream",
     "text": [
      "Validation:  51%|█████     | 200/391 [00:43<00:42,  4.49it/s]"
     ]
    },
    {
     "name": "stdout",
     "output_type": "stream",
     "text": [
      "  Validation Batch   200 Loss: 1.6947 Top-1 error: 40.06% Top-5 error: 17.29%\n"
     ]
    },
    {
     "name": "stderr",
     "output_type": "stream",
     "text": [
      "Validation:  77%|███████▋  | 300/391 [01:05<00:18,  4.79it/s]"
     ]
    },
    {
     "name": "stdout",
     "output_type": "stream",
     "text": [
      "  Validation Batch   300 Loss: 2.1113 Top-1 error: 47.16% Top-5 error: 24.38%\n"
     ]
    },
    {
     "name": "stderr",
     "output_type": "stream",
     "text": [
      "Validation: 100%|██████████| 391/391 [01:25<00:00,  4.60it/s]\n"
     ]
    },
    {
     "name": "stdout",
     "output_type": "stream",
     "text": [
      "LOSS train 1.3957 valid 1.8064\n",
      "Top-1 Error train 35.47% val 42.35%\n",
      "Top-5 Error train 13.12% val 19.37%\n",
      "EPOCH 57:\n"
     ]
    },
    {
     "name": "stderr",
     "output_type": "stream",
     "text": [
      " 20%|██        | 1001/5005 [02:16<08:12,  8.13it/s]"
     ]
    },
    {
     "name": "stdout",
     "output_type": "stream",
     "text": [
      "  Batch 281280 Loss: 1.3541 Top-1 error rate: 34.66% Top-5 error rate: 12.51%\n"
     ]
    },
    {
     "name": "stderr",
     "output_type": "stream",
     "text": [
      " 40%|███▉      | 2001/5005 [04:33<06:13,  8.04it/s]"
     ]
    },
    {
     "name": "stdout",
     "output_type": "stream",
     "text": [
      "  Batch 282280 Loss: 1.3703 Top-1 error rate: 34.99% Top-5 error rate: 12.78%\n"
     ]
    },
    {
     "name": "stderr",
     "output_type": "stream",
     "text": [
      " 60%|█████▉    | 3001/5005 [06:58<05:22,  6.21it/s]"
     ]
    },
    {
     "name": "stdout",
     "output_type": "stream",
     "text": [
      "  Batch 283280 Loss: 1.3882 Top-1 error rate: 35.22% Top-5 error rate: 13.02%\n"
     ]
    },
    {
     "name": "stderr",
     "output_type": "stream",
     "text": [
      " 80%|███████▉  | 4001/5005 [09:22<02:05,  8.00it/s]"
     ]
    },
    {
     "name": "stdout",
     "output_type": "stream",
     "text": [
      "  Batch 284280 Loss: 1.3998 Top-1 error rate: 35.66% Top-5 error rate: 13.15%\n"
     ]
    },
    {
     "name": "stderr",
     "output_type": "stream",
     "text": [
      "100%|█████████▉| 5001/5005 [11:49<00:00,  5.62it/s]"
     ]
    },
    {
     "name": "stdout",
     "output_type": "stream",
     "text": [
      "  Batch 285280 Loss: 1.4123 Top-1 error rate: 35.95% Top-5 error rate: 13.36%\n"
     ]
    },
    {
     "name": "stderr",
     "output_type": "stream",
     "text": [
      "100%|██████████| 5005/5005 [11:50<00:00,  7.05it/s]\n",
      "Validation:  26%|██▌       | 101/391 [00:23<01:05,  4.40it/s]"
     ]
    },
    {
     "name": "stdout",
     "output_type": "stream",
     "text": [
      "  Validation Batch   100 Loss: 1.4052 Top-1 error: 35.98% Top-5 error: 13.03%\n"
     ]
    },
    {
     "name": "stderr",
     "output_type": "stream",
     "text": [
      "Validation:  51%|█████     | 200/391 [00:45<00:43,  4.35it/s]"
     ]
    },
    {
     "name": "stdout",
     "output_type": "stream",
     "text": [
      "  Validation Batch   200 Loss: 1.6963 Top-1 error: 40.25% Top-5 error: 17.38%\n"
     ]
    },
    {
     "name": "stderr",
     "output_type": "stream",
     "text": [
      "Validation:  77%|███████▋  | 300/391 [01:06<00:19,  4.63it/s]"
     ]
    },
    {
     "name": "stdout",
     "output_type": "stream",
     "text": [
      "  Validation Batch   300 Loss: 2.0909 Top-1 error: 46.34% Top-5 error: 24.00%\n"
     ]
    },
    {
     "name": "stderr",
     "output_type": "stream",
     "text": [
      "Validation: 100%|██████████| 391/391 [01:26<00:00,  4.51it/s]\n"
     ]
    },
    {
     "name": "stdout",
     "output_type": "stream",
     "text": [
      "LOSS train 1.3849 valid 1.7941\n",
      "Top-1 Error train 35.29% val 41.99%\n",
      "Top-5 Error train 12.96% val 19.10%\n",
      "EPOCH 58:\n"
     ]
    },
    {
     "name": "stderr",
     "output_type": "stream",
     "text": [
      " 20%|██        | 1001/5005 [02:18<09:59,  6.68it/s]"
     ]
    },
    {
     "name": "stdout",
     "output_type": "stream",
     "text": [
      "  Batch 286285 Loss: 1.3505 Top-1 error rate: 34.73% Top-5 error rate: 12.51%\n"
     ]
    },
    {
     "name": "stderr",
     "output_type": "stream",
     "text": [
      " 40%|███▉      | 2001/5005 [04:40<06:06,  8.20it/s]"
     ]
    },
    {
     "name": "stdout",
     "output_type": "stream",
     "text": [
      "  Batch 287285 Loss: 1.3629 Top-1 error rate: 34.96% Top-5 error rate: 12.59%\n"
     ]
    },
    {
     "name": "stderr",
     "output_type": "stream",
     "text": [
      " 60%|█████▉    | 3001/5005 [07:05<05:09,  6.48it/s]"
     ]
    },
    {
     "name": "stdout",
     "output_type": "stream",
     "text": [
      "  Batch 288285 Loss: 1.3795 Top-1 error rate: 35.18% Top-5 error rate: 12.92%\n"
     ]
    },
    {
     "name": "stderr",
     "output_type": "stream",
     "text": [
      " 80%|███████▉  | 4001/5005 [09:30<02:02,  8.19it/s]"
     ]
    },
    {
     "name": "stdout",
     "output_type": "stream",
     "text": [
      "  Batch 289285 Loss: 1.3857 Top-1 error rate: 35.38% Top-5 error rate: 12.95%\n"
     ]
    },
    {
     "name": "stderr",
     "output_type": "stream",
     "text": [
      "100%|█████████▉| 5001/5005 [11:49<00:00,  7.67it/s]"
     ]
    },
    {
     "name": "stdout",
     "output_type": "stream",
     "text": [
      "  Batch 290285 Loss: 1.4072 Top-1 error rate: 35.71% Top-5 error rate: 13.24%\n"
     ]
    },
    {
     "name": "stderr",
     "output_type": "stream",
     "text": [
      "100%|██████████| 5005/5005 [11:49<00:00,  7.05it/s]\n",
      "Validation:  26%|██▌       | 100/391 [00:24<01:06,  4.39it/s]"
     ]
    },
    {
     "name": "stdout",
     "output_type": "stream",
     "text": [
      "  Validation Batch   100 Loss: 1.4407 Top-1 error: 35.88% Top-5 error: 13.77%\n"
     ]
    },
    {
     "name": "stderr",
     "output_type": "stream",
     "text": [
      "Validation:  51%|█████     | 200/391 [00:46<00:43,  4.41it/s]"
     ]
    },
    {
     "name": "stdout",
     "output_type": "stream",
     "text": [
      "  Validation Batch   200 Loss: 1.7122 Top-1 error: 40.68% Top-5 error: 17.56%\n"
     ]
    },
    {
     "name": "stderr",
     "output_type": "stream",
     "text": [
      "Validation:  77%|███████▋  | 300/391 [01:08<00:20,  4.40it/s]"
     ]
    },
    {
     "name": "stdout",
     "output_type": "stream",
     "text": [
      "  Validation Batch   300 Loss: 2.1025 Top-1 error: 46.82% Top-5 error: 24.20%\n"
     ]
    },
    {
     "name": "stderr",
     "output_type": "stream",
     "text": [
      "Validation: 100%|██████████| 391/391 [01:28<00:00,  4.40it/s]\n"
     ]
    },
    {
     "name": "stdout",
     "output_type": "stream",
     "text": [
      "LOSS train 1.3772 valid 1.8061\n",
      "Top-1 Error train 35.19% val 42.08%\n",
      "Top-5 Error train 12.84% val 19.27%\n",
      "EPOCH 59:\n"
     ]
    },
    {
     "name": "stderr",
     "output_type": "stream",
     "text": [
      " 20%|██        | 1001/5005 [02:18<08:09,  8.18it/s]"
     ]
    },
    {
     "name": "stdout",
     "output_type": "stream",
     "text": [
      "  Batch 291290 Loss: 1.3329 Top-1 error rate: 34.22% Top-5 error rate: 12.21%\n"
     ]
    },
    {
     "name": "stderr",
     "output_type": "stream",
     "text": [
      " 40%|███▉      | 2001/5005 [04:40<07:27,  6.71it/s]"
     ]
    },
    {
     "name": "stdout",
     "output_type": "stream",
     "text": [
      "  Batch 292290 Loss: 1.3608 Top-1 error rate: 34.87% Top-5 error rate: 12.48%\n"
     ]
    },
    {
     "name": "stderr",
     "output_type": "stream",
     "text": [
      " 60%|█████▉    | 3001/5005 [06:59<04:06,  8.14it/s]"
     ]
    },
    {
     "name": "stdout",
     "output_type": "stream",
     "text": [
      "  Batch 293290 Loss: 1.3668 Top-1 error rate: 34.91% Top-5 error rate: 12.66%\n"
     ]
    },
    {
     "name": "stderr",
     "output_type": "stream",
     "text": [
      " 80%|███████▉  | 4001/5005 [09:19<02:04,  8.09it/s]"
     ]
    },
    {
     "name": "stdout",
     "output_type": "stream",
     "text": [
      "  Batch 294290 Loss: 1.3900 Top-1 error rate: 35.45% Top-5 error rate: 13.08%\n"
     ]
    },
    {
     "name": "stderr",
     "output_type": "stream",
     "text": [
      "100%|█████████▉| 5001/5005 [11:40<00:00,  7.51it/s]"
     ]
    },
    {
     "name": "stdout",
     "output_type": "stream",
     "text": [
      "  Batch 295290 Loss: 1.3912 Top-1 error rate: 35.45% Top-5 error rate: 13.08%\n"
     ]
    },
    {
     "name": "stderr",
     "output_type": "stream",
     "text": [
      "100%|██████████| 5005/5005 [11:40<00:00,  7.15it/s]\n",
      "Validation:  26%|██▌       | 100/391 [00:23<01:04,  4.50it/s]"
     ]
    },
    {
     "name": "stdout",
     "output_type": "stream",
     "text": [
      "  Validation Batch   100 Loss: 1.4165 Top-1 error: 35.42% Top-5 error: 13.47%\n"
     ]
    },
    {
     "name": "stderr",
     "output_type": "stream",
     "text": [
      "Validation:  51%|█████     | 200/391 [00:45<00:43,  4.42it/s]"
     ]
    },
    {
     "name": "stdout",
     "output_type": "stream",
     "text": [
      "  Validation Batch   200 Loss: 1.6948 Top-1 error: 39.97% Top-5 error: 17.10%\n"
     ]
    },
    {
     "name": "stderr",
     "output_type": "stream",
     "text": [
      "Validation:  77%|███████▋  | 301/391 [01:08<00:18,  4.85it/s]"
     ]
    },
    {
     "name": "stdout",
     "output_type": "stream",
     "text": [
      "  Validation Batch   300 Loss: 2.1068 Top-1 error: 46.90% Top-5 error: 24.32%\n"
     ]
    },
    {
     "name": "stderr",
     "output_type": "stream",
     "text": [
      "Validation: 100%|██████████| 391/391 [01:29<00:00,  4.36it/s]\n"
     ]
    },
    {
     "name": "stdout",
     "output_type": "stream",
     "text": [
      "LOSS train 1.3684 valid 1.8012\n",
      "Top-1 Error train 34.98% val 41.91%\n",
      "Top-5 Error train 12.70% val 19.22%\n",
      "EPOCH 60:\n"
     ]
    },
    {
     "name": "stderr",
     "output_type": "stream",
     "text": [
      " 20%|██        | 1001/5005 [02:20<08:39,  7.71it/s]"
     ]
    },
    {
     "name": "stdout",
     "output_type": "stream",
     "text": [
      "  Batch 296295 Loss: 1.3344 Top-1 error rate: 34.28% Top-5 error rate: 12.26%\n"
     ]
    },
    {
     "name": "stderr",
     "output_type": "stream",
     "text": [
      " 40%|███▉      | 2001/5005 [04:57<06:08,  8.15it/s]"
     ]
    },
    {
     "name": "stdout",
     "output_type": "stream",
     "text": [
      "  Batch 297295 Loss: 1.3502 Top-1 error rate: 34.61% Top-5 error rate: 12.43%\n"
     ]
    },
    {
     "name": "stderr",
     "output_type": "stream",
     "text": [
      " 60%|█████▉    | 3001/5005 [07:18<04:27,  7.50it/s]"
     ]
    },
    {
     "name": "stdout",
     "output_type": "stream",
     "text": [
      "  Batch 298295 Loss: 1.3581 Top-1 error rate: 34.78% Top-5 error rate: 12.55%\n"
     ]
    },
    {
     "name": "stderr",
     "output_type": "stream",
     "text": [
      " 80%|███████▉  | 4001/5005 [09:38<02:01,  8.23it/s]"
     ]
    },
    {
     "name": "stdout",
     "output_type": "stream",
     "text": [
      "  Batch 299295 Loss: 1.3747 Top-1 error rate: 35.21% Top-5 error rate: 12.79%\n"
     ]
    },
    {
     "name": "stderr",
     "output_type": "stream",
     "text": [
      "100%|█████████▉| 5001/5005 [11:57<00:00,  8.05it/s]"
     ]
    },
    {
     "name": "stdout",
     "output_type": "stream",
     "text": [
      "  Batch 300295 Loss: 1.3884 Top-1 error rate: 35.38% Top-5 error rate: 12.97%\n"
     ]
    },
    {
     "name": "stderr",
     "output_type": "stream",
     "text": [
      "100%|██████████| 5005/5005 [11:57<00:00,  6.97it/s]\n",
      "Validation:  26%|██▌       | 101/391 [00:24<01:01,  4.71it/s]"
     ]
    },
    {
     "name": "stdout",
     "output_type": "stream",
     "text": [
      "  Validation Batch   100 Loss: 1.4097 Top-1 error: 35.92% Top-5 error: 13.23%\n"
     ]
    },
    {
     "name": "stderr",
     "output_type": "stream",
     "text": [
      "Validation:  51%|█████     | 200/391 [00:45<00:44,  4.27it/s]"
     ]
    },
    {
     "name": "stdout",
     "output_type": "stream",
     "text": [
      "  Validation Batch   200 Loss: 1.6975 Top-1 error: 40.12% Top-5 error: 17.16%\n"
     ]
    },
    {
     "name": "stderr",
     "output_type": "stream",
     "text": [
      "Validation:  77%|███████▋  | 300/391 [01:08<00:19,  4.71it/s]"
     ]
    },
    {
     "name": "stdout",
     "output_type": "stream",
     "text": [
      "  Validation Batch   300 Loss: 2.0896 Top-1 error: 46.70% Top-5 error: 23.91%\n"
     ]
    },
    {
     "name": "stderr",
     "output_type": "stream",
     "text": [
      "Validation: 100%|██████████| 391/391 [01:28<00:00,  4.40it/s]\n"
     ]
    },
    {
     "name": "stdout",
     "output_type": "stream",
     "text": [
      "LOSS train 1.3613 valid 1.7934\n",
      "Top-1 Error train 34.85% val 42.03%\n",
      "Top-5 Error train 12.60% val 19.04%\n",
      "EPOCH 61:\n"
     ]
    },
    {
     "name": "stderr",
     "output_type": "stream",
     "text": [
      " 20%|██        | 1001/5005 [02:17<09:20,  7.14it/s]"
     ]
    },
    {
     "name": "stdout",
     "output_type": "stream",
     "text": [
      "  Batch 301300 Loss: 1.2274 Top-1 error rate: 31.92% Top-5 error rate: 10.88%\n"
     ]
    },
    {
     "name": "stderr",
     "output_type": "stream",
     "text": [
      " 40%|███▉      | 2001/5005 [04:35<06:11,  8.09it/s]"
     ]
    },
    {
     "name": "stdout",
     "output_type": "stream",
     "text": [
      "  Batch 302300 Loss: 1.2106 Top-1 error rate: 31.54% Top-5 error rate: 10.55%\n"
     ]
    },
    {
     "name": "stderr",
     "output_type": "stream",
     "text": [
      " 60%|█████▉    | 3001/5005 [06:52<04:48,  6.94it/s]"
     ]
    },
    {
     "name": "stdout",
     "output_type": "stream",
     "text": [
      "  Batch 303300 Loss: 1.2075 Top-1 error rate: 31.40% Top-5 error rate: 10.61%\n"
     ]
    },
    {
     "name": "stderr",
     "output_type": "stream",
     "text": [
      " 80%|███████▉  | 4001/5005 [09:09<02:03,  8.12it/s]"
     ]
    },
    {
     "name": "stdout",
     "output_type": "stream",
     "text": [
      "  Batch 304300 Loss: 1.2008 Top-1 error rate: 31.22% Top-5 error rate: 10.50%\n"
     ]
    },
    {
     "name": "stderr",
     "output_type": "stream",
     "text": [
      "100%|█████████▉| 5001/5005 [11:28<00:00,  8.08it/s]"
     ]
    },
    {
     "name": "stdout",
     "output_type": "stream",
     "text": [
      "  Batch 305300 Loss: 1.1994 Top-1 error rate: 31.24% Top-5 error rate: 10.46%\n"
     ]
    },
    {
     "name": "stderr",
     "output_type": "stream",
     "text": [
      "100%|██████████| 5005/5005 [11:29<00:00,  7.26it/s]\n",
      "Validation:  26%|██▌       | 100/391 [00:23<01:00,  4.77it/s]"
     ]
    },
    {
     "name": "stdout",
     "output_type": "stream",
     "text": [
      "  Validation Batch   100 Loss: 1.3536 Top-1 error: 34.32% Top-5 error: 12.35%\n"
     ]
    },
    {
     "name": "stderr",
     "output_type": "stream",
     "text": [
      "Validation:  51%|█████     | 200/391 [00:45<00:38,  4.97it/s]"
     ]
    },
    {
     "name": "stdout",
     "output_type": "stream",
     "text": [
      "  Validation Batch   200 Loss: 1.6377 Top-1 error: 38.59% Top-5 error: 16.34%\n"
     ]
    },
    {
     "name": "stderr",
     "output_type": "stream",
     "text": [
      "Validation:  77%|███████▋  | 300/391 [01:08<00:21,  4.21it/s]"
     ]
    },
    {
     "name": "stdout",
     "output_type": "stream",
     "text": [
      "  Validation Batch   300 Loss: 2.0292 Top-1 error: 45.36% Top-5 error: 23.01%\n"
     ]
    },
    {
     "name": "stderr",
     "output_type": "stream",
     "text": [
      "Validation: 100%|██████████| 391/391 [01:27<00:00,  4.45it/s]\n"
     ]
    },
    {
     "name": "stdout",
     "output_type": "stream",
     "text": [
      "LOSS train 1.2091 valid 1.7317\n",
      "Top-1 Error train 31.46% val 40.46%\n",
      "Top-5 Error train 10.60% val 18.14%\n",
      "EPOCH 62:\n"
     ]
    },
    {
     "name": "stderr",
     "output_type": "stream",
     "text": [
      " 20%|██        | 1001/5005 [02:16<08:41,  7.68it/s]"
     ]
    },
    {
     "name": "stdout",
     "output_type": "stream",
     "text": [
      "  Batch 306305 Loss: 1.1872 Top-1 error rate: 31.01% Top-5 error rate: 10.38%\n"
     ]
    },
    {
     "name": "stderr",
     "output_type": "stream",
     "text": [
      " 40%|███▉      | 2001/5005 [04:34<07:05,  7.06it/s]"
     ]
    },
    {
     "name": "stdout",
     "output_type": "stream",
     "text": [
      "  Batch 307305 Loss: 1.1875 Top-1 error rate: 30.86% Top-5 error rate: 10.35%\n"
     ]
    },
    {
     "name": "stderr",
     "output_type": "stream",
     "text": [
      " 60%|█████▉    | 3001/5005 [06:54<04:04,  8.18it/s]"
     ]
    },
    {
     "name": "stdout",
     "output_type": "stream",
     "text": [
      "  Batch 308305 Loss: 1.1862 Top-1 error rate: 30.93% Top-5 error rate: 10.26%\n"
     ]
    },
    {
     "name": "stderr",
     "output_type": "stream",
     "text": [
      " 80%|███████▉  | 4001/5005 [09:15<02:35,  6.45it/s]"
     ]
    },
    {
     "name": "stdout",
     "output_type": "stream",
     "text": [
      "  Batch 309305 Loss: 1.1858 Top-1 error rate: 30.86% Top-5 error rate: 10.32%\n"
     ]
    },
    {
     "name": "stderr",
     "output_type": "stream",
     "text": [
      "100%|█████████▉| 5001/5005 [11:35<00:00,  8.22it/s]"
     ]
    },
    {
     "name": "stdout",
     "output_type": "stream",
     "text": [
      "  Batch 310305 Loss: 1.1859 Top-1 error rate: 30.90% Top-5 error rate: 10.25%\n"
     ]
    },
    {
     "name": "stderr",
     "output_type": "stream",
     "text": [
      "100%|██████████| 5005/5005 [11:36<00:00,  7.19it/s]\n",
      "Validation:  26%|██▌       | 101/391 [00:24<01:00,  4.78it/s]"
     ]
    },
    {
     "name": "stdout",
     "output_type": "stream",
     "text": [
      "  Validation Batch   100 Loss: 1.3444 Top-1 error: 34.23% Top-5 error: 12.20%\n"
     ]
    },
    {
     "name": "stderr",
     "output_type": "stream",
     "text": [
      "Validation:  51%|█████     | 200/391 [00:45<00:42,  4.47it/s]"
     ]
    },
    {
     "name": "stdout",
     "output_type": "stream",
     "text": [
      "  Validation Batch   200 Loss: 1.6372 Top-1 error: 38.90% Top-5 error: 16.26%\n"
     ]
    },
    {
     "name": "stderr",
     "output_type": "stream",
     "text": [
      "Validation:  77%|███████▋  | 300/391 [01:08<00:20,  4.34it/s]"
     ]
    },
    {
     "name": "stdout",
     "output_type": "stream",
     "text": [
      "  Validation Batch   300 Loss: 2.0312 Top-1 error: 45.45% Top-5 error: 22.98%\n"
     ]
    },
    {
     "name": "stderr",
     "output_type": "stream",
     "text": [
      "Validation: 100%|██████████| 391/391 [01:29<00:00,  4.38it/s]\n"
     ]
    },
    {
     "name": "stdout",
     "output_type": "stream",
     "text": [
      "LOSS train 1.1865 valid 1.7285\n",
      "Top-1 Error train 30.91% val 40.54%\n",
      "Top-5 Error train 10.32% val 18.08%\n",
      "EPOCH 63:\n"
     ]
    },
    {
     "name": "stderr",
     "output_type": "stream",
     "text": [
      " 20%|██        | 1001/5005 [02:17<08:49,  7.57it/s]"
     ]
    },
    {
     "name": "stdout",
     "output_type": "stream",
     "text": [
      "  Batch 311310 Loss: 1.1731 Top-1 error rate: 30.66% Top-5 error rate: 10.13%\n"
     ]
    },
    {
     "name": "stderr",
     "output_type": "stream",
     "text": [
      " 40%|███▉      | 2001/5005 [04:37<07:18,  6.85it/s]"
     ]
    },
    {
     "name": "stdout",
     "output_type": "stream",
     "text": [
      "  Batch 312310 Loss: 1.1740 Top-1 error rate: 30.74% Top-5 error rate: 10.18%\n"
     ]
    },
    {
     "name": "stderr",
     "output_type": "stream",
     "text": [
      " 60%|█████▉    | 3001/5005 [06:57<04:09,  8.03it/s]"
     ]
    },
    {
     "name": "stdout",
     "output_type": "stream",
     "text": [
      "  Batch 313310 Loss: 1.1765 Top-1 error rate: 30.70% Top-5 error rate: 10.18%\n"
     ]
    },
    {
     "name": "stderr",
     "output_type": "stream",
     "text": [
      " 80%|███████▉  | 4001/5005 [09:22<02:15,  7.41it/s]"
     ]
    },
    {
     "name": "stdout",
     "output_type": "stream",
     "text": [
      "  Batch 314310 Loss: 1.1742 Top-1 error rate: 30.62% Top-5 error rate: 10.13%\n"
     ]
    },
    {
     "name": "stderr",
     "output_type": "stream",
     "text": [
      "100%|█████████▉| 5001/5005 [11:45<00:00,  8.17it/s]"
     ]
    },
    {
     "name": "stdout",
     "output_type": "stream",
     "text": [
      "  Batch 315310 Loss: 1.1736 Top-1 error rate: 30.66% Top-5 error rate: 10.14%\n"
     ]
    },
    {
     "name": "stderr",
     "output_type": "stream",
     "text": [
      "100%|██████████| 5005/5005 [11:45<00:00,  7.09it/s]\n",
      "Validation:  26%|██▌       | 100/391 [00:23<01:02,  4.67it/s]"
     ]
    },
    {
     "name": "stdout",
     "output_type": "stream",
     "text": [
      "  Validation Batch   100 Loss: 1.3507 Top-1 error: 34.21% Top-5 error: 12.49%\n"
     ]
    },
    {
     "name": "stderr",
     "output_type": "stream",
     "text": [
      "Validation:  51%|█████     | 200/391 [00:45<00:44,  4.30it/s]"
     ]
    },
    {
     "name": "stdout",
     "output_type": "stream",
     "text": [
      "  Validation Batch   200 Loss: 1.6302 Top-1 error: 38.68% Top-5 error: 16.34%\n"
     ]
    },
    {
     "name": "stderr",
     "output_type": "stream",
     "text": [
      "Validation:  77%|███████▋  | 301/391 [01:08<00:20,  4.33it/s]"
     ]
    },
    {
     "name": "stdout",
     "output_type": "stream",
     "text": [
      "  Validation Batch   300 Loss: 2.0244 Top-1 error: 45.14% Top-5 error: 23.02%\n"
     ]
    },
    {
     "name": "stderr",
     "output_type": "stream",
     "text": [
      "Validation: 100%|██████████| 391/391 [01:28<00:00,  4.43it/s]\n"
     ]
    },
    {
     "name": "stdout",
     "output_type": "stream",
     "text": [
      "LOSS train 1.1743 valid 1.7260\n",
      "Top-1 Error train 30.68% val 40.35%\n",
      "Top-5 Error train 10.15% val 18.14%\n",
      "EPOCH 64:\n"
     ]
    },
    {
     "name": "stderr",
     "output_type": "stream",
     "text": [
      " 20%|██        | 1001/5005 [02:19<08:17,  8.05it/s]"
     ]
    },
    {
     "name": "stdout",
     "output_type": "stream",
     "text": [
      "  Batch 316315 Loss: 1.1674 Top-1 error rate: 30.52% Top-5 error rate: 10.11%\n"
     ]
    },
    {
     "name": "stderr",
     "output_type": "stream",
     "text": [
      " 40%|███▉      | 2001/5005 [04:43<06:06,  8.21it/s]"
     ]
    },
    {
     "name": "stdout",
     "output_type": "stream",
     "text": [
      "  Batch 317315 Loss: 1.1640 Top-1 error rate: 30.32% Top-5 error rate: 10.05%\n"
     ]
    },
    {
     "name": "stderr",
     "output_type": "stream",
     "text": [
      " 60%|█████▉    | 3001/5005 [07:05<04:20,  7.71it/s]"
     ]
    },
    {
     "name": "stdout",
     "output_type": "stream",
     "text": [
      "  Batch 318315 Loss: 1.1678 Top-1 error rate: 30.47% Top-5 error rate: 10.13%\n"
     ]
    },
    {
     "name": "stderr",
     "output_type": "stream",
     "text": [
      " 80%|███████▉  | 4001/5005 [09:27<02:02,  8.19it/s]"
     ]
    },
    {
     "name": "stdout",
     "output_type": "stream",
     "text": [
      "  Batch 319315 Loss: 1.1699 Top-1 error rate: 30.59% Top-5 error rate: 10.08%\n"
     ]
    },
    {
     "name": "stderr",
     "output_type": "stream",
     "text": [
      "100%|█████████▉| 5001/5005 [11:49<00:00,  7.69it/s]"
     ]
    },
    {
     "name": "stdout",
     "output_type": "stream",
     "text": [
      "  Batch 320315 Loss: 1.1694 Top-1 error rate: 30.46% Top-5 error rate: 10.14%\n"
     ]
    },
    {
     "name": "stderr",
     "output_type": "stream",
     "text": [
      "100%|██████████| 5005/5005 [11:49<00:00,  7.05it/s]\n",
      "Validation:  26%|██▌       | 100/391 [00:23<01:04,  4.51it/s]"
     ]
    },
    {
     "name": "stdout",
     "output_type": "stream",
     "text": [
      "  Validation Batch   100 Loss: 1.3476 Top-1 error: 34.27% Top-5 error: 12.27%\n"
     ]
    },
    {
     "name": "stderr",
     "output_type": "stream",
     "text": [
      "Validation:  51%|█████     | 200/391 [00:45<00:45,  4.21it/s]"
     ]
    },
    {
     "name": "stdout",
     "output_type": "stream",
     "text": [
      "  Validation Batch   200 Loss: 1.6341 Top-1 error: 38.86% Top-5 error: 16.11%\n"
     ]
    },
    {
     "name": "stderr",
     "output_type": "stream",
     "text": [
      "Validation:  77%|███████▋  | 301/391 [01:07<00:19,  4.73it/s]"
     ]
    },
    {
     "name": "stdout",
     "output_type": "stream",
     "text": [
      "  Validation Batch   300 Loss: 2.0192 Top-1 error: 45.38% Top-5 error: 22.93%\n"
     ]
    },
    {
     "name": "stderr",
     "output_type": "stream",
     "text": [
      "Validation: 100%|██████████| 391/391 [01:27<00:00,  4.46it/s]\n"
     ]
    },
    {
     "name": "stdout",
     "output_type": "stream",
     "text": [
      "LOSS train 1.1677 valid 1.7232\n",
      "Top-1 Error train 30.47% val 40.46%\n",
      "Top-5 Error train 10.10% val 18.01%\n",
      "EPOCH 65:\n"
     ]
    },
    {
     "name": "stderr",
     "output_type": "stream",
     "text": [
      " 20%|██        | 1001/5005 [02:19<08:33,  7.81it/s]"
     ]
    },
    {
     "name": "stdout",
     "output_type": "stream",
     "text": [
      "  Batch 321320 Loss: 1.1617 Top-1 error rate: 30.27% Top-5 error rate: 10.00%\n"
     ]
    },
    {
     "name": "stderr",
     "output_type": "stream",
     "text": [
      " 40%|███▉      | 2001/5005 [04:39<06:08,  8.16it/s]"
     ]
    },
    {
     "name": "stdout",
     "output_type": "stream",
     "text": [
      "  Batch 322320 Loss: 1.1645 Top-1 error rate: 30.39% Top-5 error rate: 10.05%\n"
     ]
    },
    {
     "name": "stderr",
     "output_type": "stream",
     "text": [
      " 60%|█████▉    | 3001/5005 [07:00<04:13,  7.90it/s]"
     ]
    },
    {
     "name": "stdout",
     "output_type": "stream",
     "text": [
      "  Batch 323320 Loss: 1.1581 Top-1 error rate: 30.30% Top-5 error rate: 9.91%\n"
     ]
    },
    {
     "name": "stderr",
     "output_type": "stream",
     "text": [
      " 80%|███████▉  | 4001/5005 [09:22<02:04,  8.10it/s]"
     ]
    },
    {
     "name": "stdout",
     "output_type": "stream",
     "text": [
      "  Batch 324320 Loss: 1.1551 Top-1 error rate: 30.22% Top-5 error rate: 9.90%\n"
     ]
    },
    {
     "name": "stderr",
     "output_type": "stream",
     "text": [
      "100%|█████████▉| 5001/5005 [11:44<00:00,  7.84it/s]"
     ]
    },
    {
     "name": "stdout",
     "output_type": "stream",
     "text": [
      "  Batch 325320 Loss: 1.1627 Top-1 error rate: 30.34% Top-5 error rate: 10.05%\n"
     ]
    },
    {
     "name": "stderr",
     "output_type": "stream",
     "text": [
      "100%|██████████| 5005/5005 [11:44<00:00,  7.10it/s]\n",
      "Validation:  26%|██▌       | 100/391 [00:23<01:05,  4.43it/s]"
     ]
    },
    {
     "name": "stdout",
     "output_type": "stream",
     "text": [
      "  Validation Batch   100 Loss: 1.3496 Top-1 error: 34.08% Top-5 error: 12.37%\n"
     ]
    },
    {
     "name": "stderr",
     "output_type": "stream",
     "text": [
      "Validation:  51%|█████     | 200/391 [00:45<00:42,  4.48it/s]"
     ]
    },
    {
     "name": "stdout",
     "output_type": "stream",
     "text": [
      "  Validation Batch   200 Loss: 1.6400 Top-1 error: 38.76% Top-5 error: 16.38%\n"
     ]
    },
    {
     "name": "stderr",
     "output_type": "stream",
     "text": [
      "Validation:  77%|███████▋  | 300/391 [01:07<00:23,  3.89it/s]"
     ]
    },
    {
     "name": "stdout",
     "output_type": "stream",
     "text": [
      "  Validation Batch   300 Loss: 2.0115 Top-1 error: 45.23% Top-5 error: 22.69%\n"
     ]
    },
    {
     "name": "stderr",
     "output_type": "stream",
     "text": [
      "Validation: 100%|██████████| 391/391 [01:28<00:00,  4.43it/s]\n"
     ]
    },
    {
     "name": "stdout",
     "output_type": "stream",
     "text": [
      "LOSS train 1.1604 valid 1.7231\n",
      "Top-1 Error train 30.30% val 40.39%\n",
      "Top-5 Error train 9.98% val 18.03%\n",
      "EPOCH 66:\n"
     ]
    },
    {
     "name": "stderr",
     "output_type": "stream",
     "text": [
      " 20%|██        | 1001/5005 [02:20<08:29,  7.85it/s]"
     ]
    },
    {
     "name": "stdout",
     "output_type": "stream",
     "text": [
      "  Batch 326325 Loss: 1.1488 Top-1 error rate: 30.11% Top-5 error rate: 9.83%\n"
     ]
    },
    {
     "name": "stderr",
     "output_type": "stream",
     "text": [
      " 40%|███▉      | 2001/5005 [04:40<06:05,  8.23it/s]"
     ]
    },
    {
     "name": "stdout",
     "output_type": "stream",
     "text": [
      "  Batch 327325 Loss: 1.1530 Top-1 error rate: 30.17% Top-5 error rate: 9.86%\n"
     ]
    },
    {
     "name": "stderr",
     "output_type": "stream",
     "text": [
      " 60%|█████▉    | 3001/5005 [07:02<04:06,  8.12it/s]"
     ]
    },
    {
     "name": "stdout",
     "output_type": "stream",
     "text": [
      "  Batch 328325 Loss: 1.1567 Top-1 error rate: 30.26% Top-5 error rate: 9.93%\n"
     ]
    },
    {
     "name": "stderr",
     "output_type": "stream",
     "text": [
      " 80%|███████▉  | 4001/5005 [09:23<02:17,  7.32it/s]"
     ]
    },
    {
     "name": "stdout",
     "output_type": "stream",
     "text": [
      "  Batch 329325 Loss: 1.1533 Top-1 error rate: 30.07% Top-5 error rate: 9.87%\n"
     ]
    },
    {
     "name": "stderr",
     "output_type": "stream",
     "text": [
      "100%|█████████▉| 5001/5005 [11:42<00:00,  7.94it/s]"
     ]
    },
    {
     "name": "stdout",
     "output_type": "stream",
     "text": [
      "  Batch 330325 Loss: 1.1555 Top-1 error rate: 30.33% Top-5 error rate: 9.94%\n"
     ]
    },
    {
     "name": "stderr",
     "output_type": "stream",
     "text": [
      "100%|██████████| 5005/5005 [11:42<00:00,  7.12it/s]\n",
      "Validation:  26%|██▌       | 100/391 [00:24<01:06,  4.34it/s]"
     ]
    },
    {
     "name": "stdout",
     "output_type": "stream",
     "text": [
      "  Validation Batch   100 Loss: 1.3400 Top-1 error: 33.78% Top-5 error: 12.21%\n"
     ]
    },
    {
     "name": "stderr",
     "output_type": "stream",
     "text": [
      "Validation:  51%|█████     | 200/391 [00:46<00:41,  4.60it/s]"
     ]
    },
    {
     "name": "stdout",
     "output_type": "stream",
     "text": [
      "  Validation Batch   200 Loss: 1.6314 Top-1 error: 38.79% Top-5 error: 16.25%\n"
     ]
    },
    {
     "name": "stderr",
     "output_type": "stream",
     "text": [
      "Validation:  77%|███████▋  | 300/391 [01:09<00:20,  4.38it/s]"
     ]
    },
    {
     "name": "stdout",
     "output_type": "stream",
     "text": [
      "  Validation Batch   300 Loss: 2.0211 Top-1 error: 45.20% Top-5 error: 23.01%\n"
     ]
    },
    {
     "name": "stderr",
     "output_type": "stream",
     "text": [
      "Validation: 100%|██████████| 391/391 [01:29<00:00,  4.36it/s]\n"
     ]
    },
    {
     "name": "stdout",
     "output_type": "stream",
     "text": [
      "LOSS train 1.1535 valid 1.7212\n",
      "Top-1 Error train 30.19% val 40.27%\n",
      "Top-5 Error train 9.89% val 18.03%\n",
      "EPOCH 67:\n"
     ]
    },
    {
     "name": "stderr",
     "output_type": "stream",
     "text": [
      " 20%|██        | 1001/5005 [02:17<08:28,  7.88it/s]"
     ]
    },
    {
     "name": "stdout",
     "output_type": "stream",
     "text": [
      "  Batch 331330 Loss: 1.1475 Top-1 error rate: 30.01% Top-5 error rate: 9.84%\n"
     ]
    },
    {
     "name": "stderr",
     "output_type": "stream",
     "text": [
      " 40%|███▉      | 2001/5005 [04:36<06:22,  7.86it/s]"
     ]
    },
    {
     "name": "stdout",
     "output_type": "stream",
     "text": [
      "  Batch 332330 Loss: 1.1481 Top-1 error rate: 30.12% Top-5 error rate: 9.80%\n"
     ]
    },
    {
     "name": "stderr",
     "output_type": "stream",
     "text": [
      " 60%|█████▉    | 3001/5005 [06:56<04:24,  7.57it/s]"
     ]
    },
    {
     "name": "stdout",
     "output_type": "stream",
     "text": [
      "  Batch 333330 Loss: 1.1443 Top-1 error rate: 29.92% Top-5 error rate: 9.74%\n"
     ]
    },
    {
     "name": "stderr",
     "output_type": "stream",
     "text": [
      " 80%|███████▉  | 4001/5005 [09:16<02:02,  8.19it/s]"
     ]
    },
    {
     "name": "stdout",
     "output_type": "stream",
     "text": [
      "  Batch 334330 Loss: 1.1510 Top-1 error rate: 30.14% Top-5 error rate: 9.80%\n"
     ]
    },
    {
     "name": "stderr",
     "output_type": "stream",
     "text": [
      "100%|█████████▉| 5001/5005 [11:37<00:00,  7.77it/s]"
     ]
    },
    {
     "name": "stdout",
     "output_type": "stream",
     "text": [
      "  Batch 335330 Loss: 1.1514 Top-1 error rate: 30.13% Top-5 error rate: 9.90%\n"
     ]
    },
    {
     "name": "stderr",
     "output_type": "stream",
     "text": [
      "100%|██████████| 5005/5005 [11:38<00:00,  7.17it/s]\n",
      "Validation:  26%|██▌       | 100/391 [00:23<01:08,  4.23it/s]"
     ]
    },
    {
     "name": "stdout",
     "output_type": "stream",
     "text": [
      "  Validation Batch   100 Loss: 1.3466 Top-1 error: 34.09% Top-5 error: 12.44%\n"
     ]
    },
    {
     "name": "stderr",
     "output_type": "stream",
     "text": [
      "Validation:  51%|█████     | 200/391 [00:45<00:43,  4.38it/s]"
     ]
    },
    {
     "name": "stdout",
     "output_type": "stream",
     "text": [
      "  Validation Batch   200 Loss: 1.6314 Top-1 error: 38.95% Top-5 error: 16.30%\n"
     ]
    },
    {
     "name": "stderr",
     "output_type": "stream",
     "text": [
      "Validation:  77%|███████▋  | 300/391 [01:08<00:20,  4.49it/s]"
     ]
    },
    {
     "name": "stdout",
     "output_type": "stream",
     "text": [
      "  Validation Batch   300 Loss: 2.0080 Top-1 error: 44.98% Top-5 error: 22.70%\n"
     ]
    },
    {
     "name": "stderr",
     "output_type": "stream",
     "text": [
      "Validation: 100%|██████████| 391/391 [01:29<00:00,  4.37it/s]\n"
     ]
    },
    {
     "name": "stdout",
     "output_type": "stream",
     "text": [
      "LOSS train 1.1484 valid 1.7189\n",
      "Top-1 Error train 30.06% val 40.34%\n",
      "Top-5 Error train 9.82% val 18.01%\n",
      "EPOCH 68:\n"
     ]
    },
    {
     "name": "stderr",
     "output_type": "stream",
     "text": [
      " 20%|██        | 1001/5005 [02:24<08:44,  7.64it/s]"
     ]
    },
    {
     "name": "stdout",
     "output_type": "stream",
     "text": [
      "  Batch 336335 Loss: 1.1391 Top-1 error rate: 29.84% Top-5 error rate: 9.61%\n"
     ]
    },
    {
     "name": "stderr",
     "output_type": "stream",
     "text": [
      " 40%|███▉      | 2001/5005 [04:53<06:06,  8.20it/s]"
     ]
    },
    {
     "name": "stdout",
     "output_type": "stream",
     "text": [
      "  Batch 337335 Loss: 1.1408 Top-1 error rate: 29.93% Top-5 error rate: 9.71%\n"
     ]
    },
    {
     "name": "stderr",
     "output_type": "stream",
     "text": [
      " 60%|█████▉    | 3001/5005 [07:19<04:37,  7.22it/s]"
     ]
    },
    {
     "name": "stdout",
     "output_type": "stream",
     "text": [
      "  Batch 338335 Loss: 1.1438 Top-1 error rate: 29.95% Top-5 error rate: 9.77%\n"
     ]
    },
    {
     "name": "stderr",
     "output_type": "stream",
     "text": [
      " 80%|███████▉  | 4001/5005 [09:44<02:03,  8.15it/s]"
     ]
    },
    {
     "name": "stdout",
     "output_type": "stream",
     "text": [
      "  Batch 339335 Loss: 1.1424 Top-1 error rate: 29.88% Top-5 error rate: 9.77%\n"
     ]
    },
    {
     "name": "stderr",
     "output_type": "stream",
     "text": [
      "100%|█████████▉| 5001/5005 [12:09<00:00,  6.46it/s]"
     ]
    },
    {
     "name": "stdout",
     "output_type": "stream",
     "text": [
      "  Batch 340335 Loss: 1.1507 Top-1 error rate: 30.07% Top-5 error rate: 9.91%\n"
     ]
    },
    {
     "name": "stderr",
     "output_type": "stream",
     "text": [
      "100%|██████████| 5005/5005 [12:10<00:00,  6.85it/s]\n",
      "Validation:  26%|██▌       | 100/391 [00:23<01:03,  4.57it/s]"
     ]
    },
    {
     "name": "stdout",
     "output_type": "stream",
     "text": [
      "  Validation Batch   100 Loss: 1.3367 Top-1 error: 34.04% Top-5 error: 12.30%\n"
     ]
    },
    {
     "name": "stderr",
     "output_type": "stream",
     "text": [
      "Validation:  51%|█████     | 200/391 [00:46<00:44,  4.25it/s]"
     ]
    },
    {
     "name": "stdout",
     "output_type": "stream",
     "text": [
      "  Validation Batch   200 Loss: 1.6263 Top-1 error: 38.55% Top-5 error: 16.18%\n"
     ]
    },
    {
     "name": "stderr",
     "output_type": "stream",
     "text": [
      "Validation:  77%|███████▋  | 300/391 [01:08<00:20,  4.41it/s]"
     ]
    },
    {
     "name": "stdout",
     "output_type": "stream",
     "text": [
      "  Validation Batch   300 Loss: 2.0188 Top-1 error: 45.13% Top-5 error: 22.76%\n"
     ]
    },
    {
     "name": "stderr",
     "output_type": "stream",
     "text": [
      "Validation: 100%|██████████| 391/391 [01:29<00:00,  4.38it/s]\n"
     ]
    },
    {
     "name": "stdout",
     "output_type": "stream",
     "text": [
      "LOSS train 1.1434 valid 1.7177\n",
      "Top-1 Error train 29.93% val 40.29%\n",
      "Top-5 Error train 9.75% val 17.95%\n",
      "EPOCH 69:\n"
     ]
    },
    {
     "name": "stderr",
     "output_type": "stream",
     "text": [
      " 20%|██        | 1001/5005 [02:25<08:46,  7.61it/s]"
     ]
    },
    {
     "name": "stdout",
     "output_type": "stream",
     "text": [
      "  Batch 341340 Loss: 1.1344 Top-1 error rate: 29.80% Top-5 error rate: 9.66%\n"
     ]
    },
    {
     "name": "stderr",
     "output_type": "stream",
     "text": [
      " 40%|███▉      | 2001/5005 [04:49<06:06,  8.20it/s]"
     ]
    },
    {
     "name": "stdout",
     "output_type": "stream",
     "text": [
      "  Batch 342340 Loss: 1.1340 Top-1 error rate: 29.74% Top-5 error rate: 9.62%\n"
     ]
    },
    {
     "name": "stderr",
     "output_type": "stream",
     "text": [
      " 60%|█████▉    | 3001/5005 [07:13<04:21,  7.65it/s]"
     ]
    },
    {
     "name": "stdout",
     "output_type": "stream",
     "text": [
      "  Batch 343340 Loss: 1.1375 Top-1 error rate: 29.78% Top-5 error rate: 9.76%\n"
     ]
    },
    {
     "name": "stderr",
     "output_type": "stream",
     "text": [
      " 80%|███████▉  | 4001/5005 [09:34<02:01,  8.26it/s]"
     ]
    },
    {
     "name": "stdout",
     "output_type": "stream",
     "text": [
      "  Batch 344340 Loss: 1.1440 Top-1 error rate: 29.92% Top-5 error rate: 9.72%\n"
     ]
    },
    {
     "name": "stderr",
     "output_type": "stream",
     "text": [
      "100%|█████████▉| 5001/5005 [11:54<00:00,  7.99it/s]"
     ]
    },
    {
     "name": "stdout",
     "output_type": "stream",
     "text": [
      "  Batch 345340 Loss: 1.1415 Top-1 error rate: 29.94% Top-5 error rate: 9.60%\n"
     ]
    },
    {
     "name": "stderr",
     "output_type": "stream",
     "text": [
      "100%|██████████| 5005/5005 [11:54<00:00,  7.00it/s]\n",
      "Validation:  26%|██▌       | 100/391 [00:22<01:02,  4.67it/s]"
     ]
    },
    {
     "name": "stdout",
     "output_type": "stream",
     "text": [
      "  Validation Batch   100 Loss: 1.3357 Top-1 error: 34.06% Top-5 error: 12.12%\n"
     ]
    },
    {
     "name": "stderr",
     "output_type": "stream",
     "text": [
      "Validation:  51%|█████     | 200/391 [00:44<00:41,  4.57it/s]"
     ]
    },
    {
     "name": "stdout",
     "output_type": "stream",
     "text": [
      "  Validation Batch   200 Loss: 1.6284 Top-1 error: 38.66% Top-5 error: 16.21%\n"
     ]
    },
    {
     "name": "stderr",
     "output_type": "stream",
     "text": [
      "Validation:  77%|███████▋  | 301/391 [01:05<00:18,  4.96it/s]"
     ]
    },
    {
     "name": "stdout",
     "output_type": "stream",
     "text": [
      "  Validation Batch   300 Loss: 2.0127 Top-1 error: 44.95% Top-5 error: 22.78%\n"
     ]
    },
    {
     "name": "stderr",
     "output_type": "stream",
     "text": [
      "Validation: 100%|██████████| 391/391 [01:24<00:00,  4.62it/s]\n"
     ]
    },
    {
     "name": "stdout",
     "output_type": "stream",
     "text": [
      "LOSS train 1.1383 valid 1.7189\n",
      "Top-1 Error train 29.84% val 40.32%\n",
      "Top-5 Error train 9.67% val 17.94%\n",
      "EPOCH 70:\n"
     ]
    },
    {
     "name": "stderr",
     "output_type": "stream",
     "text": [
      " 20%|██        | 1001/5005 [02:24<08:28,  7.88it/s]"
     ]
    },
    {
     "name": "stdout",
     "output_type": "stream",
     "text": [
      "  Batch 346345 Loss: 1.1316 Top-1 error rate: 29.71% Top-5 error rate: 9.65%\n"
     ]
    },
    {
     "name": "stderr",
     "output_type": "stream",
     "text": [
      " 40%|███▉      | 2001/5005 [04:48<06:03,  8.26it/s]"
     ]
    },
    {
     "name": "stdout",
     "output_type": "stream",
     "text": [
      "  Batch 347345 Loss: 1.1335 Top-1 error rate: 29.68% Top-5 error rate: 9.64%\n"
     ]
    },
    {
     "name": "stderr",
     "output_type": "stream",
     "text": [
      " 60%|█████▉    | 3001/5005 [07:10<04:06,  8.13it/s]"
     ]
    },
    {
     "name": "stdout",
     "output_type": "stream",
     "text": [
      "  Batch 348345 Loss: 1.1310 Top-1 error rate: 29.69% Top-5 error rate: 9.55%\n"
     ]
    },
    {
     "name": "stderr",
     "output_type": "stream",
     "text": [
      " 80%|███████▉  | 4001/5005 [09:34<02:26,  6.84it/s]"
     ]
    },
    {
     "name": "stdout",
     "output_type": "stream",
     "text": [
      "  Batch 349345 Loss: 1.1329 Top-1 error rate: 29.74% Top-5 error rate: 9.56%\n"
     ]
    },
    {
     "name": "stderr",
     "output_type": "stream",
     "text": [
      "100%|█████████▉| 5001/5005 [11:59<00:00,  8.01it/s]"
     ]
    },
    {
     "name": "stdout",
     "output_type": "stream",
     "text": [
      "  Batch 350345 Loss: 1.1395 Top-1 error rate: 29.81% Top-5 error rate: 9.74%\n"
     ]
    },
    {
     "name": "stderr",
     "output_type": "stream",
     "text": [
      "100%|██████████| 5005/5005 [11:59<00:00,  6.95it/s]\n",
      "Validation:  26%|██▌       | 100/391 [00:23<01:05,  4.45it/s]"
     ]
    },
    {
     "name": "stdout",
     "output_type": "stream",
     "text": [
      "  Validation Batch   100 Loss: 1.3449 Top-1 error: 34.05% Top-5 error: 12.26%\n"
     ]
    },
    {
     "name": "stderr",
     "output_type": "stream",
     "text": [
      "Validation:  51%|█████     | 200/391 [00:44<00:40,  4.74it/s]"
     ]
    },
    {
     "name": "stdout",
     "output_type": "stream",
     "text": [
      "  Validation Batch   200 Loss: 1.6181 Top-1 error: 38.34% Top-5 error: 15.91%\n"
     ]
    },
    {
     "name": "stderr",
     "output_type": "stream",
     "text": [
      "Validation:  77%|███████▋  | 300/391 [01:07<00:21,  4.29it/s]"
     ]
    },
    {
     "name": "stdout",
     "output_type": "stream",
     "text": [
      "  Validation Batch   300 Loss: 2.0145 Top-1 error: 45.09% Top-5 error: 22.74%\n"
     ]
    },
    {
     "name": "stderr",
     "output_type": "stream",
     "text": [
      "Validation: 100%|██████████| 391/391 [01:26<00:00,  4.50it/s]\n"
     ]
    },
    {
     "name": "stdout",
     "output_type": "stream",
     "text": [
      "LOSS train 1.1338 valid 1.7178\n",
      "Top-1 Error train 29.73% val 40.23%\n",
      "Top-5 Error train 9.63% val 17.91%\n",
      "EPOCH 71:\n"
     ]
    },
    {
     "name": "stderr",
     "output_type": "stream",
     "text": [
      " 20%|██        | 1001/5005 [02:22<08:47,  7.60it/s]"
     ]
    },
    {
     "name": "stdout",
     "output_type": "stream",
     "text": [
      "  Batch 351350 Loss: 1.1246 Top-1 error rate: 29.49% Top-5 error rate: 9.49%\n"
     ]
    },
    {
     "name": "stderr",
     "output_type": "stream",
     "text": [
      " 40%|███▉      | 2001/5005 [04:46<06:15,  8.00it/s]"
     ]
    },
    {
     "name": "stdout",
     "output_type": "stream",
     "text": [
      "  Batch 352350 Loss: 1.1242 Top-1 error rate: 29.56% Top-5 error rate: 9.51%\n"
     ]
    },
    {
     "name": "stderr",
     "output_type": "stream",
     "text": [
      " 60%|█████▉    | 3001/5005 [07:07<04:32,  7.35it/s]"
     ]
    },
    {
     "name": "stdout",
     "output_type": "stream",
     "text": [
      "  Batch 353350 Loss: 1.1275 Top-1 error rate: 29.59% Top-5 error rate: 9.52%\n"
     ]
    },
    {
     "name": "stderr",
     "output_type": "stream",
     "text": [
      " 80%|███████▉  | 4001/5005 [09:28<02:04,  8.07it/s]"
     ]
    },
    {
     "name": "stdout",
     "output_type": "stream",
     "text": [
      "  Batch 354350 Loss: 1.1333 Top-1 error rate: 29.74% Top-5 error rate: 9.59%\n"
     ]
    },
    {
     "name": "stderr",
     "output_type": "stream",
     "text": [
      "100%|█████████▉| 5001/5005 [11:50<00:00,  7.83it/s]"
     ]
    },
    {
     "name": "stdout",
     "output_type": "stream",
     "text": [
      "  Batch 355350 Loss: 1.1389 Top-1 error rate: 29.89% Top-5 error rate: 9.68%\n"
     ]
    },
    {
     "name": "stderr",
     "output_type": "stream",
     "text": [
      "100%|██████████| 5005/5005 [11:50<00:00,  7.04it/s]\n",
      "Validation:  26%|██▌       | 100/391 [00:23<01:04,  4.49it/s]"
     ]
    },
    {
     "name": "stdout",
     "output_type": "stream",
     "text": [
      "  Validation Batch   100 Loss: 1.3355 Top-1 error: 33.77% Top-5 error: 12.16%\n"
     ]
    },
    {
     "name": "stderr",
     "output_type": "stream",
     "text": [
      "Validation:  51%|█████     | 200/391 [00:44<00:37,  5.15it/s]"
     ]
    },
    {
     "name": "stdout",
     "output_type": "stream",
     "text": [
      "  Validation Batch   200 Loss: 1.6279 Top-1 error: 38.66% Top-5 error: 16.20%\n"
     ]
    },
    {
     "name": "stderr",
     "output_type": "stream",
     "text": [
      "Validation:  77%|███████▋  | 300/391 [01:06<00:19,  4.59it/s]"
     ]
    },
    {
     "name": "stdout",
     "output_type": "stream",
     "text": [
      "  Validation Batch   300 Loss: 2.0048 Top-1 error: 45.05% Top-5 error: 22.51%\n"
     ]
    },
    {
     "name": "stderr",
     "output_type": "stream",
     "text": [
      "Validation: 100%|██████████| 391/391 [01:26<00:00,  4.54it/s]\n"
     ]
    },
    {
     "name": "stdout",
     "output_type": "stream",
     "text": [
      "LOSS train 1.1297 valid 1.7136\n",
      "Top-1 Error train 29.66% val 40.16%\n",
      "Top-5 Error train 9.56% val 17.89%\n",
      "EPOCH 72:\n"
     ]
    },
    {
     "name": "stderr",
     "output_type": "stream",
     "text": [
      " 20%|██        | 1001/5005 [02:22<08:40,  7.69it/s]"
     ]
    },
    {
     "name": "stdout",
     "output_type": "stream",
     "text": [
      "  Batch 356355 Loss: 1.1210 Top-1 error rate: 29.45% Top-5 error rate: 9.47%\n"
     ]
    },
    {
     "name": "stderr",
     "output_type": "stream",
     "text": [
      " 40%|███▉      | 2001/5005 [04:46<06:08,  8.15it/s]"
     ]
    },
    {
     "name": "stdout",
     "output_type": "stream",
     "text": [
      "  Batch 357355 Loss: 1.1201 Top-1 error rate: 29.39% Top-5 error rate: 9.45%\n"
     ]
    },
    {
     "name": "stderr",
     "output_type": "stream",
     "text": [
      " 60%|█████▉    | 3001/5005 [07:10<04:19,  7.72it/s]"
     ]
    },
    {
     "name": "stdout",
     "output_type": "stream",
     "text": [
      "  Batch 358355 Loss: 1.1243 Top-1 error rate: 29.54% Top-5 error rate: 9.51%\n"
     ]
    },
    {
     "name": "stderr",
     "output_type": "stream",
     "text": [
      " 80%|███████▉  | 4001/5005 [09:35<02:02,  8.18it/s]"
     ]
    },
    {
     "name": "stdout",
     "output_type": "stream",
     "text": [
      "  Batch 359355 Loss: 1.1311 Top-1 error rate: 29.60% Top-5 error rate: 9.66%\n"
     ]
    },
    {
     "name": "stderr",
     "output_type": "stream",
     "text": [
      "100%|█████████▉| 5001/5005 [12:00<00:00,  7.90it/s]"
     ]
    },
    {
     "name": "stdout",
     "output_type": "stream",
     "text": [
      "  Batch 360355 Loss: 1.1307 Top-1 error rate: 29.69% Top-5 error rate: 9.69%\n"
     ]
    },
    {
     "name": "stderr",
     "output_type": "stream",
     "text": [
      "100%|██████████| 5005/5005 [12:01<00:00,  6.94it/s]\n",
      "Validation:  26%|██▌       | 100/391 [00:22<01:02,  4.63it/s]"
     ]
    },
    {
     "name": "stdout",
     "output_type": "stream",
     "text": [
      "  Validation Batch   100 Loss: 1.3394 Top-1 error: 34.18% Top-5 error: 12.26%\n"
     ]
    },
    {
     "name": "stderr",
     "output_type": "stream",
     "text": [
      "Validation:  51%|█████     | 200/391 [00:44<00:41,  4.62it/s]"
     ]
    },
    {
     "name": "stdout",
     "output_type": "stream",
     "text": [
      "  Validation Batch   200 Loss: 1.6274 Top-1 error: 38.56% Top-5 error: 16.12%\n"
     ]
    },
    {
     "name": "stderr",
     "output_type": "stream",
     "text": [
      "Validation:  77%|███████▋  | 300/391 [01:05<00:20,  4.40it/s]"
     ]
    },
    {
     "name": "stdout",
     "output_type": "stream",
     "text": [
      "  Validation Batch   300 Loss: 2.0122 Top-1 error: 45.04% Top-5 error: 22.72%\n"
     ]
    },
    {
     "name": "stderr",
     "output_type": "stream",
     "text": [
      "Validation: 100%|██████████| 391/391 [01:25<00:00,  4.56it/s]\n"
     ]
    },
    {
     "name": "stdout",
     "output_type": "stream",
     "text": [
      "LOSS train 1.1254 valid 1.7171\n",
      "Top-1 Error train 29.53% val 40.28%\n",
      "Top-5 Error train 9.56% val 17.95%\n",
      "EPOCH 73:\n"
     ]
    },
    {
     "name": "stderr",
     "output_type": "stream",
     "text": [
      " 20%|██        | 1001/5005 [02:21<08:21,  7.98it/s]"
     ]
    },
    {
     "name": "stdout",
     "output_type": "stream",
     "text": [
      "  Batch 361360 Loss: 1.1162 Top-1 error rate: 29.39% Top-5 error rate: 9.43%\n"
     ]
    },
    {
     "name": "stderr",
     "output_type": "stream",
     "text": [
      " 40%|███▉      | 2001/5005 [04:43<06:07,  8.16it/s]"
     ]
    },
    {
     "name": "stdout",
     "output_type": "stream",
     "text": [
      "  Batch 362360 Loss: 1.1185 Top-1 error rate: 29.35% Top-5 error rate: 9.49%\n"
     ]
    },
    {
     "name": "stderr",
     "output_type": "stream",
     "text": [
      " 60%|█████▉    | 3001/5005 [07:07<04:06,  8.14it/s]"
     ]
    },
    {
     "name": "stdout",
     "output_type": "stream",
     "text": [
      "  Batch 363360 Loss: 1.1209 Top-1 error rate: 29.44% Top-5 error rate: 9.46%\n"
     ]
    },
    {
     "name": "stderr",
     "output_type": "stream",
     "text": [
      " 80%|███████▉  | 4001/5005 [09:28<02:35,  6.47it/s]"
     ]
    },
    {
     "name": "stdout",
     "output_type": "stream",
     "text": [
      "  Batch 364360 Loss: 1.1193 Top-1 error rate: 29.46% Top-5 error rate: 9.43%\n"
     ]
    },
    {
     "name": "stderr",
     "output_type": "stream",
     "text": [
      "100%|█████████▉| 5001/5005 [11:54<00:00,  7.88it/s]"
     ]
    },
    {
     "name": "stdout",
     "output_type": "stream",
     "text": [
      "  Batch 365360 Loss: 1.1257 Top-1 error rate: 29.62% Top-5 error rate: 9.52%\n"
     ]
    },
    {
     "name": "stderr",
     "output_type": "stream",
     "text": [
      "100%|██████████| 5005/5005 [11:54<00:00,  7.00it/s]\n",
      "Validation:  26%|██▌       | 100/391 [00:22<01:03,  4.60it/s]"
     ]
    },
    {
     "name": "stdout",
     "output_type": "stream",
     "text": [
      "  Validation Batch   100 Loss: 1.3541 Top-1 error: 33.78% Top-5 error: 12.40%\n"
     ]
    },
    {
     "name": "stderr",
     "output_type": "stream",
     "text": [
      "Validation:  51%|█████     | 200/391 [00:43<00:41,  4.59it/s]"
     ]
    },
    {
     "name": "stdout",
     "output_type": "stream",
     "text": [
      "  Validation Batch   200 Loss: 1.6308 Top-1 error: 38.49% Top-5 error: 16.13%\n"
     ]
    },
    {
     "name": "stderr",
     "output_type": "stream",
     "text": [
      "Validation:  77%|███████▋  | 301/391 [01:05<00:18,  4.94it/s]"
     ]
    },
    {
     "name": "stdout",
     "output_type": "stream",
     "text": [
      "  Validation Batch   300 Loss: 2.0104 Top-1 error: 44.91% Top-5 error: 22.53%\n"
     ]
    },
    {
     "name": "stderr",
     "output_type": "stream",
     "text": [
      "Validation: 100%|██████████| 391/391 [01:24<00:00,  4.62it/s]\n"
     ]
    },
    {
     "name": "stdout",
     "output_type": "stream",
     "text": [
      "LOSS train 1.1201 valid 1.7219\n",
      "Top-1 Error train 29.45% val 40.12%\n",
      "Top-5 Error train 9.47% val 17.88%\n",
      "EPOCH 74:\n"
     ]
    },
    {
     "name": "stderr",
     "output_type": "stream",
     "text": [
      " 20%|██        | 1001/5005 [02:26<08:59,  7.41it/s]"
     ]
    },
    {
     "name": "stdout",
     "output_type": "stream",
     "text": [
      "  Batch 366365 Loss: 1.1132 Top-1 error rate: 29.28% Top-5 error rate: 9.32%\n"
     ]
    },
    {
     "name": "stderr",
     "output_type": "stream",
     "text": [
      " 40%|███▉      | 2001/5005 [04:51<08:30,  5.89it/s]"
     ]
    },
    {
     "name": "stdout",
     "output_type": "stream",
     "text": [
      "  Batch 367365 Loss: 1.1164 Top-1 error rate: 29.36% Top-5 error rate: 9.44%\n"
     ]
    },
    {
     "name": "stderr",
     "output_type": "stream",
     "text": [
      " 60%|█████▉    | 3001/5005 [07:16<04:07,  8.11it/s]"
     ]
    },
    {
     "name": "stdout",
     "output_type": "stream",
     "text": [
      "  Batch 368365 Loss: 1.1186 Top-1 error rate: 29.40% Top-5 error rate: 9.42%\n"
     ]
    },
    {
     "name": "stderr",
     "output_type": "stream",
     "text": [
      " 80%|███████▉  | 4001/5005 [09:38<02:19,  7.21it/s]"
     ]
    },
    {
     "name": "stdout",
     "output_type": "stream",
     "text": [
      "  Batch 369365 Loss: 1.1178 Top-1 error rate: 29.37% Top-5 error rate: 9.39%\n"
     ]
    },
    {
     "name": "stderr",
     "output_type": "stream",
     "text": [
      "100%|█████████▉| 5001/5005 [12:03<00:00,  5.19it/s]"
     ]
    },
    {
     "name": "stdout",
     "output_type": "stream",
     "text": [
      "  Batch 370365 Loss: 1.1173 Top-1 error rate: 29.39% Top-5 error rate: 9.46%\n"
     ]
    },
    {
     "name": "stderr",
     "output_type": "stream",
     "text": [
      "100%|██████████| 5005/5005 [12:03<00:00,  6.91it/s]\n",
      "Validation:  26%|██▌       | 101/391 [00:22<00:59,  4.85it/s]"
     ]
    },
    {
     "name": "stdout",
     "output_type": "stream",
     "text": [
      "  Validation Batch   100 Loss: 1.3449 Top-1 error: 34.12% Top-5 error: 12.27%\n"
     ]
    },
    {
     "name": "stderr",
     "output_type": "stream",
     "text": [
      "Validation:  51%|█████     | 200/391 [00:44<00:41,  4.64it/s]"
     ]
    },
    {
     "name": "stdout",
     "output_type": "stream",
     "text": [
      "  Validation Batch   200 Loss: 1.6249 Top-1 error: 38.48% Top-5 error: 16.06%\n"
     ]
    },
    {
     "name": "stderr",
     "output_type": "stream",
     "text": [
      "Validation:  77%|███████▋  | 300/391 [01:05<00:19,  4.57it/s]"
     ]
    },
    {
     "name": "stdout",
     "output_type": "stream",
     "text": [
      "  Validation Batch   300 Loss: 2.0088 Top-1 error: 45.04% Top-5 error: 22.69%\n"
     ]
    },
    {
     "name": "stderr",
     "output_type": "stream",
     "text": [
      "Validation: 100%|██████████| 391/391 [01:25<00:00,  4.57it/s]\n"
     ]
    },
    {
     "name": "stdout",
     "output_type": "stream",
     "text": [
      "LOSS train 1.1166 valid 1.7172\n",
      "Top-1 Error train 29.36% val 40.32%\n",
      "Top-5 Error train 9.41% val 17.93%\n",
      "EPOCH 75:\n"
     ]
    },
    {
     "name": "stderr",
     "output_type": "stream",
     "text": [
      " 20%|██        | 1001/5005 [02:26<15:18,  4.36it/s]"
     ]
    },
    {
     "name": "stdout",
     "output_type": "stream",
     "text": [
      "  Batch 371370 Loss: 1.1077 Top-1 error rate: 29.15% Top-5 error rate: 9.34%\n"
     ]
    },
    {
     "name": "stderr",
     "output_type": "stream",
     "text": [
      " 40%|███▉      | 2001/5005 [04:50<09:28,  5.28it/s]"
     ]
    },
    {
     "name": "stdout",
     "output_type": "stream",
     "text": [
      "  Batch 372370 Loss: 1.1148 Top-1 error rate: 29.28% Top-5 error rate: 9.37%\n"
     ]
    },
    {
     "name": "stderr",
     "output_type": "stream",
     "text": [
      " 60%|█████▉    | 3001/5005 [07:15<06:54,  4.83it/s]"
     ]
    },
    {
     "name": "stdout",
     "output_type": "stream",
     "text": [
      "  Batch 373370 Loss: 1.1121 Top-1 error rate: 29.34% Top-5 error rate: 9.33%\n"
     ]
    },
    {
     "name": "stderr",
     "output_type": "stream",
     "text": [
      " 80%|███████▉  | 4001/5005 [09:38<02:04,  8.08it/s]"
     ]
    },
    {
     "name": "stdout",
     "output_type": "stream",
     "text": [
      "  Batch 374370 Loss: 1.1182 Top-1 error rate: 29.42% Top-5 error rate: 9.43%\n"
     ]
    },
    {
     "name": "stderr",
     "output_type": "stream",
     "text": [
      "100%|█████████▉| 5001/5005 [12:01<00:00,  6.34it/s]"
     ]
    },
    {
     "name": "stdout",
     "output_type": "stream",
     "text": [
      "  Batch 375370 Loss: 1.1172 Top-1 error rate: 29.41% Top-5 error rate: 9.39%\n"
     ]
    },
    {
     "name": "stderr",
     "output_type": "stream",
     "text": [
      "100%|██████████| 5005/5005 [12:01<00:00,  6.93it/s]\n",
      "Validation:  26%|██▌       | 100/391 [00:22<01:04,  4.54it/s]"
     ]
    },
    {
     "name": "stdout",
     "output_type": "stream",
     "text": [
      "  Validation Batch   100 Loss: 1.3478 Top-1 error: 33.82% Top-5 error: 12.43%\n"
     ]
    },
    {
     "name": "stderr",
     "output_type": "stream",
     "text": [
      "Validation:  51%|█████     | 200/391 [00:44<00:43,  4.40it/s]"
     ]
    },
    {
     "name": "stdout",
     "output_type": "stream",
     "text": [
      "  Validation Batch   200 Loss: 1.6230 Top-1 error: 38.43% Top-5 error: 16.08%\n"
     ]
    },
    {
     "name": "stderr",
     "output_type": "stream",
     "text": [
      "Validation:  77%|███████▋  | 300/391 [01:05<00:20,  4.47it/s]"
     ]
    },
    {
     "name": "stdout",
     "output_type": "stream",
     "text": [
      "  Validation Batch   300 Loss: 2.0053 Top-1 error: 44.91% Top-5 error: 22.42%\n"
     ]
    },
    {
     "name": "stderr",
     "output_type": "stream",
     "text": [
      "Validation: 100%|██████████| 391/391 [01:25<00:00,  4.57it/s]\n"
     ]
    },
    {
     "name": "stdout",
     "output_type": "stream",
     "text": [
      "LOSS train 1.1140 valid 1.7158\n",
      "Top-1 Error train 29.32% val 40.12%\n",
      "Top-5 Error train 9.37% val 17.87%\n",
      "EPOCH 76:\n"
     ]
    },
    {
     "name": "stderr",
     "output_type": "stream",
     "text": [
      " 20%|██        | 1001/5005 [02:33<10:56,  6.10it/s]"
     ]
    },
    {
     "name": "stdout",
     "output_type": "stream",
     "text": [
      "  Batch 376375 Loss: 1.1051 Top-1 error rate: 29.12% Top-5 error rate: 9.20%\n"
     ]
    },
    {
     "name": "stderr",
     "output_type": "stream",
     "text": [
      " 40%|███▉      | 2001/5005 [04:53<06:04,  8.23it/s]"
     ]
    },
    {
     "name": "stdout",
     "output_type": "stream",
     "text": [
      "  Batch 377375 Loss: 1.1028 Top-1 error rate: 29.16% Top-5 error rate: 9.21%\n"
     ]
    },
    {
     "name": "stderr",
     "output_type": "stream",
     "text": [
      " 60%|█████▉    | 3001/5005 [07:16<06:41,  5.00it/s]"
     ]
    },
    {
     "name": "stdout",
     "output_type": "stream",
     "text": [
      "  Batch 378375 Loss: 1.1160 Top-1 error rate: 29.31% Top-5 error rate: 9.39%\n"
     ]
    },
    {
     "name": "stderr",
     "output_type": "stream",
     "text": [
      " 80%|███████▉  | 4001/5005 [09:39<02:06,  7.92it/s]"
     ]
    },
    {
     "name": "stdout",
     "output_type": "stream",
     "text": [
      "  Batch 379375 Loss: 1.1108 Top-1 error rate: 29.23% Top-5 error rate: 9.36%\n"
     ]
    },
    {
     "name": "stderr",
     "output_type": "stream",
     "text": [
      "100%|█████████▉| 5001/5005 [12:01<00:00,  6.34it/s]"
     ]
    },
    {
     "name": "stdout",
     "output_type": "stream",
     "text": [
      "  Batch 380375 Loss: 1.1157 Top-1 error rate: 29.33% Top-5 error rate: 9.34%\n"
     ]
    },
    {
     "name": "stderr",
     "output_type": "stream",
     "text": [
      "100%|██████████| 5005/5005 [12:01<00:00,  6.93it/s]\n",
      "Validation:  26%|██▌       | 100/391 [00:23<01:03,  4.58it/s]"
     ]
    },
    {
     "name": "stdout",
     "output_type": "stream",
     "text": [
      "  Validation Batch   100 Loss: 1.3336 Top-1 error: 33.81% Top-5 error: 12.13%\n"
     ]
    },
    {
     "name": "stderr",
     "output_type": "stream",
     "text": [
      "Validation:  51%|█████     | 200/391 [00:45<00:42,  4.46it/s]"
     ]
    },
    {
     "name": "stdout",
     "output_type": "stream",
     "text": [
      "  Validation Batch   200 Loss: 1.6253 Top-1 error: 38.51% Top-5 error: 16.11%\n"
     ]
    },
    {
     "name": "stderr",
     "output_type": "stream",
     "text": [
      "Validation:  77%|███████▋  | 300/391 [01:07<00:20,  4.43it/s]"
     ]
    },
    {
     "name": "stdout",
     "output_type": "stream",
     "text": [
      "  Validation Batch   300 Loss: 2.0163 Top-1 error: 45.19% Top-5 error: 22.69%\n"
     ]
    },
    {
     "name": "stderr",
     "output_type": "stream",
     "text": [
      "Validation: 100%|██████████| 391/391 [01:27<00:00,  4.45it/s]\n"
     ]
    },
    {
     "name": "stdout",
     "output_type": "stream",
     "text": [
      "LOSS train 1.1100 valid 1.7164\n",
      "Top-1 Error train 29.23% val 40.20%\n",
      "Top-5 Error train 9.30% val 17.89%\n",
      "EPOCH 77:\n"
     ]
    },
    {
     "name": "stderr",
     "output_type": "stream",
     "text": [
      " 20%|██        | 1001/5005 [02:21<12:29,  5.34it/s]"
     ]
    },
    {
     "name": "stdout",
     "output_type": "stream",
     "text": [
      "  Batch 381380 Loss: 1.1008 Top-1 error rate: 29.07% Top-5 error rate: 9.14%\n"
     ]
    },
    {
     "name": "stderr",
     "output_type": "stream",
     "text": [
      " 40%|███▉      | 2001/5005 [04:40<06:11,  8.08it/s]"
     ]
    },
    {
     "name": "stdout",
     "output_type": "stream",
     "text": [
      "  Batch 382380 Loss: 1.0988 Top-1 error rate: 29.02% Top-5 error rate: 9.18%\n"
     ]
    },
    {
     "name": "stderr",
     "output_type": "stream",
     "text": [
      " 60%|█████▉    | 3001/5005 [07:05<07:25,  4.50it/s]"
     ]
    },
    {
     "name": "stdout",
     "output_type": "stream",
     "text": [
      "  Batch 383380 Loss: 1.1110 Top-1 error rate: 29.30% Top-5 error rate: 9.30%\n"
     ]
    },
    {
     "name": "stderr",
     "output_type": "stream",
     "text": [
      " 80%|███████▉  | 4001/5005 [09:29<02:07,  7.89it/s]"
     ]
    },
    {
     "name": "stdout",
     "output_type": "stream",
     "text": [
      "  Batch 384380 Loss: 1.1094 Top-1 error rate: 29.20% Top-5 error rate: 9.36%\n"
     ]
    },
    {
     "name": "stderr",
     "output_type": "stream",
     "text": [
      "100%|█████████▉| 5001/5005 [11:55<00:00,  5.73it/s]"
     ]
    },
    {
     "name": "stdout",
     "output_type": "stream",
     "text": [
      "  Batch 385380 Loss: 1.1042 Top-1 error rate: 29.12% Top-5 error rate: 9.19%\n"
     ]
    },
    {
     "name": "stderr",
     "output_type": "stream",
     "text": [
      "100%|██████████| 5005/5005 [11:56<00:00,  6.99it/s]\n",
      "Validation:  26%|██▌       | 101/391 [00:23<00:58,  4.93it/s]"
     ]
    },
    {
     "name": "stdout",
     "output_type": "stream",
     "text": [
      "  Validation Batch   100 Loss: 1.3388 Top-1 error: 33.83% Top-5 error: 12.23%\n"
     ]
    },
    {
     "name": "stderr",
     "output_type": "stream",
     "text": [
      "Validation:  51%|█████     | 200/391 [00:45<00:42,  4.46it/s]"
     ]
    },
    {
     "name": "stdout",
     "output_type": "stream",
     "text": [
      "  Validation Batch   200 Loss: 1.6228 Top-1 error: 38.22% Top-5 error: 16.10%\n"
     ]
    },
    {
     "name": "stderr",
     "output_type": "stream",
     "text": [
      "Validation:  77%|███████▋  | 300/391 [01:08<00:21,  4.17it/s]"
     ]
    },
    {
     "name": "stdout",
     "output_type": "stream",
     "text": [
      "  Validation Batch   300 Loss: 2.0172 Top-1 error: 45.20% Top-5 error: 22.69%\n"
     ]
    },
    {
     "name": "stderr",
     "output_type": "stream",
     "text": [
      "Validation: 100%|██████████| 391/391 [01:30<00:00,  4.34it/s]\n"
     ]
    },
    {
     "name": "stdout",
     "output_type": "stream",
     "text": [
      "LOSS train 1.1049 valid 1.7174\n",
      "Top-1 Error train 29.14% val 40.12%\n",
      "Top-5 Error train 9.23% val 17.94%\n",
      "EPOCH 78:\n"
     ]
    },
    {
     "name": "stderr",
     "output_type": "stream",
     "text": [
      " 20%|██        | 1001/5005 [02:34<09:26,  7.07it/s]"
     ]
    },
    {
     "name": "stdout",
     "output_type": "stream",
     "text": [
      "  Batch 386385 Loss: 1.0924 Top-1 error rate: 28.88% Top-5 error rate: 9.07%\n"
     ]
    },
    {
     "name": "stderr",
     "output_type": "stream",
     "text": [
      " 40%|███▉      | 2001/5005 [04:58<06:10,  8.11it/s]"
     ]
    },
    {
     "name": "stdout",
     "output_type": "stream",
     "text": [
      "  Batch 387385 Loss: 1.0983 Top-1 error rate: 29.05% Top-5 error rate: 9.17%\n"
     ]
    },
    {
     "name": "stderr",
     "output_type": "stream",
     "text": [
      " 60%|█████▉    | 3001/5005 [07:21<04:32,  7.37it/s]"
     ]
    },
    {
     "name": "stdout",
     "output_type": "stream",
     "text": [
      "  Batch 388385 Loss: 1.0984 Top-1 error rate: 29.01% Top-5 error rate: 9.13%\n"
     ]
    },
    {
     "name": "stderr",
     "output_type": "stream",
     "text": [
      " 80%|███████▉  | 4001/5005 [09:50<02:06,  7.96it/s]"
     ]
    },
    {
     "name": "stdout",
     "output_type": "stream",
     "text": [
      "  Batch 389385 Loss: 1.1069 Top-1 error rate: 29.17% Top-5 error rate: 9.26%\n"
     ]
    },
    {
     "name": "stderr",
     "output_type": "stream",
     "text": [
      "100%|█████████▉| 5001/5005 [12:15<00:00,  5.53it/s]"
     ]
    },
    {
     "name": "stdout",
     "output_type": "stream",
     "text": [
      "  Batch 390385 Loss: 1.1132 Top-1 error rate: 29.20% Top-5 error rate: 9.40%\n"
     ]
    },
    {
     "name": "stderr",
     "output_type": "stream",
     "text": [
      "100%|██████████| 5005/5005 [12:15<00:00,  6.80it/s]\n",
      "Validation:  26%|██▌       | 101/391 [00:22<01:01,  4.70it/s]"
     ]
    },
    {
     "name": "stdout",
     "output_type": "stream",
     "text": [
      "  Validation Batch   100 Loss: 1.3431 Top-1 error: 33.83% Top-5 error: 12.22%\n"
     ]
    },
    {
     "name": "stderr",
     "output_type": "stream",
     "text": [
      "Validation:  51%|█████     | 200/391 [00:44<00:41,  4.59it/s]"
     ]
    },
    {
     "name": "stdout",
     "output_type": "stream",
     "text": [
      "  Validation Batch   200 Loss: 1.6190 Top-1 error: 38.35% Top-5 error: 15.98%\n"
     ]
    },
    {
     "name": "stderr",
     "output_type": "stream",
     "text": [
      "Validation:  77%|███████▋  | 301/391 [01:06<00:18,  4.78it/s]"
     ]
    },
    {
     "name": "stdout",
     "output_type": "stream",
     "text": [
      "  Validation Batch   300 Loss: 2.0132 Top-1 error: 45.13% Top-5 error: 22.65%\n"
     ]
    },
    {
     "name": "stderr",
     "output_type": "stream",
     "text": [
      "Validation: 100%|██████████| 391/391 [01:25<00:00,  4.55it/s]\n"
     ]
    },
    {
     "name": "stdout",
     "output_type": "stream",
     "text": [
      "LOSS train 1.1018 valid 1.7153\n",
      "Top-1 Error train 29.06% val 40.14%\n",
      "Top-5 Error train 9.21% val 17.88%\n",
      "EPOCH 79:\n"
     ]
    },
    {
     "name": "stderr",
     "output_type": "stream",
     "text": [
      " 20%|██        | 1001/5005 [02:22<12:56,  5.16it/s]"
     ]
    },
    {
     "name": "stdout",
     "output_type": "stream",
     "text": [
      "  Batch 391390 Loss: 1.0939 Top-1 error rate: 28.97% Top-5 error rate: 9.06%\n"
     ]
    },
    {
     "name": "stderr",
     "output_type": "stream",
     "text": [
      " 40%|███▉      | 2001/5005 [04:46<06:14,  8.03it/s]"
     ]
    },
    {
     "name": "stdout",
     "output_type": "stream",
     "text": [
      "  Batch 392390 Loss: 1.0989 Top-1 error rate: 28.96% Top-5 error rate: 9.19%\n"
     ]
    },
    {
     "name": "stderr",
     "output_type": "stream",
     "text": [
      " 60%|█████▉    | 3001/5005 [07:10<06:05,  5.49it/s]"
     ]
    },
    {
     "name": "stdout",
     "output_type": "stream",
     "text": [
      "  Batch 393390 Loss: 1.1023 Top-1 error rate: 28.99% Top-5 error rate: 9.22%\n"
     ]
    },
    {
     "name": "stderr",
     "output_type": "stream",
     "text": [
      " 80%|███████▉  | 4001/5005 [09:37<02:08,  7.82it/s]"
     ]
    },
    {
     "name": "stdout",
     "output_type": "stream",
     "text": [
      "  Batch 394390 Loss: 1.1043 Top-1 error rate: 29.03% Top-5 error rate: 9.25%\n"
     ]
    },
    {
     "name": "stderr",
     "output_type": "stream",
     "text": [
      "100%|█████████▉| 5001/5005 [12:04<00:00,  4.66it/s]"
     ]
    },
    {
     "name": "stdout",
     "output_type": "stream",
     "text": [
      "  Batch 395390 Loss: 1.1013 Top-1 error rate: 28.99% Top-5 error rate: 9.16%\n"
     ]
    },
    {
     "name": "stderr",
     "output_type": "stream",
     "text": [
      "100%|██████████| 5005/5005 [12:04<00:00,  6.91it/s]\n",
      "Validation:  26%|██▌       | 100/391 [00:23<01:04,  4.51it/s]"
     ]
    },
    {
     "name": "stdout",
     "output_type": "stream",
     "text": [
      "  Validation Batch   100 Loss: 1.3423 Top-1 error: 33.86% Top-5 error: 12.33%\n"
     ]
    },
    {
     "name": "stderr",
     "output_type": "stream",
     "text": [
      "Validation:  51%|█████     | 200/391 [00:44<00:40,  4.70it/s]"
     ]
    },
    {
     "name": "stdout",
     "output_type": "stream",
     "text": [
      "  Validation Batch   200 Loss: 1.6308 Top-1 error: 38.66% Top-5 error: 16.23%\n"
     ]
    },
    {
     "name": "stderr",
     "output_type": "stream",
     "text": [
      "Validation:  77%|███████▋  | 300/391 [01:06<00:18,  4.87it/s]"
     ]
    },
    {
     "name": "stdout",
     "output_type": "stream",
     "text": [
      "  Validation Batch   300 Loss: 2.0071 Top-1 error: 44.95% Top-5 error: 22.61%\n"
     ]
    },
    {
     "name": "stderr",
     "output_type": "stream",
     "text": [
      "Validation: 100%|██████████| 391/391 [01:27<00:00,  4.45it/s]\n"
     ]
    },
    {
     "name": "stdout",
     "output_type": "stream",
     "text": [
      "LOSS train 1.1002 valid 1.7174\n",
      "Top-1 Error train 28.99% val 40.19%\n",
      "Top-5 Error train 9.17% val 18.01%\n",
      "EPOCH 80:\n"
     ]
    },
    {
     "name": "stderr",
     "output_type": "stream",
     "text": [
      " 20%|██        | 1001/5005 [02:22<14:46,  4.52it/s]"
     ]
    },
    {
     "name": "stdout",
     "output_type": "stream",
     "text": [
      "  Batch 396395 Loss: 1.0917 Top-1 error rate: 28.89% Top-5 error rate: 9.02%\n"
     ]
    },
    {
     "name": "stderr",
     "output_type": "stream",
     "text": [
      " 40%|███▉      | 2001/5005 [04:45<06:15,  7.99it/s]"
     ]
    },
    {
     "name": "stdout",
     "output_type": "stream",
     "text": [
      "  Batch 397395 Loss: 1.0909 Top-1 error rate: 28.90% Top-5 error rate: 8.98%\n"
     ]
    },
    {
     "name": "stderr",
     "output_type": "stream",
     "text": [
      " 60%|█████▉    | 3001/5005 [07:14<05:33,  6.01it/s]"
     ]
    },
    {
     "name": "stdout",
     "output_type": "stream",
     "text": [
      "  Batch 398395 Loss: 1.0964 Top-1 error rate: 28.92% Top-5 error rate: 9.06%\n"
     ]
    },
    {
     "name": "stderr",
     "output_type": "stream",
     "text": [
      " 80%|███████▉  | 4001/5005 [09:39<02:20,  7.13it/s]"
     ]
    },
    {
     "name": "stdout",
     "output_type": "stream",
     "text": [
      "  Batch 399395 Loss: 1.1035 Top-1 error rate: 29.14% Top-5 error rate: 9.22%\n"
     ]
    },
    {
     "name": "stderr",
     "output_type": "stream",
     "text": [
      "100%|█████████▉| 5001/5005 [12:02<00:00,  6.45it/s]"
     ]
    },
    {
     "name": "stdout",
     "output_type": "stream",
     "text": [
      "  Batch 400395 Loss: 1.1024 Top-1 error rate: 29.05% Top-5 error rate: 9.26%\n"
     ]
    },
    {
     "name": "stderr",
     "output_type": "stream",
     "text": [
      "100%|██████████| 5005/5005 [12:02<00:00,  6.92it/s]\n",
      "Validation:  26%|██▌       | 100/391 [00:24<01:09,  4.17it/s]"
     ]
    },
    {
     "name": "stdout",
     "output_type": "stream",
     "text": [
      "  Validation Batch   100 Loss: 1.3379 Top-1 error: 33.95% Top-5 error: 12.05%\n"
     ]
    },
    {
     "name": "stderr",
     "output_type": "stream",
     "text": [
      "Validation:  51%|█████     | 200/391 [00:47<00:46,  4.15it/s]"
     ]
    },
    {
     "name": "stdout",
     "output_type": "stream",
     "text": [
      "  Validation Batch   200 Loss: 1.6267 Top-1 error: 38.45% Top-5 error: 16.12%\n"
     ]
    },
    {
     "name": "stderr",
     "output_type": "stream",
     "text": [
      "Validation:  77%|███████▋  | 301/391 [01:10<00:19,  4.71it/s]"
     ]
    },
    {
     "name": "stdout",
     "output_type": "stream",
     "text": [
      "  Validation Batch   300 Loss: 2.0045 Top-1 error: 44.94% Top-5 error: 22.39%\n"
     ]
    },
    {
     "name": "stderr",
     "output_type": "stream",
     "text": [
      "Validation: 100%|██████████| 391/391 [01:31<00:00,  4.29it/s]\n"
     ]
    },
    {
     "name": "stdout",
     "output_type": "stream",
     "text": [
      "LOSS train 1.0970 valid 1.7146\n",
      "Top-1 Error train 28.98% val 40.19%\n",
      "Top-5 Error train 9.11% val 17.78%\n",
      "EPOCH 81:\n"
     ]
    },
    {
     "name": "stderr",
     "output_type": "stream",
     "text": [
      " 20%|██        | 1001/5005 [02:22<10:04,  6.62it/s]"
     ]
    },
    {
     "name": "stdout",
     "output_type": "stream",
     "text": [
      "  Batch 401400 Loss: 1.0865 Top-1 error rate: 28.67% Top-5 error rate: 8.95%\n"
     ]
    },
    {
     "name": "stderr",
     "output_type": "stream",
     "text": [
      " 40%|███▉      | 2001/5005 [04:43<06:11,  8.09it/s]"
     ]
    },
    {
     "name": "stdout",
     "output_type": "stream",
     "text": [
      "  Batch 402400 Loss: 1.0929 Top-1 error rate: 28.83% Top-5 error rate: 9.09%\n"
     ]
    },
    {
     "name": "stderr",
     "output_type": "stream",
     "text": [
      " 60%|█████▉    | 3001/5005 [07:04<04:53,  6.84it/s]"
     ]
    },
    {
     "name": "stdout",
     "output_type": "stream",
     "text": [
      "  Batch 403400 Loss: 1.0939 Top-1 error rate: 28.90% Top-5 error rate: 9.10%\n"
     ]
    },
    {
     "name": "stderr",
     "output_type": "stream",
     "text": [
      " 80%|███████▉  | 4001/5005 [09:27<02:03,  8.15it/s]"
     ]
    },
    {
     "name": "stdout",
     "output_type": "stream",
     "text": [
      "  Batch 404400 Loss: 1.0979 Top-1 error rate: 28.99% Top-5 error rate: 9.16%\n"
     ]
    },
    {
     "name": "stderr",
     "output_type": "stream",
     "text": [
      "100%|█████████▉| 5001/5005 [11:55<00:00,  8.14it/s]"
     ]
    },
    {
     "name": "stdout",
     "output_type": "stream",
     "text": [
      "  Batch 405400 Loss: 1.0934 Top-1 error rate: 28.85% Top-5 error rate: 9.08%\n"
     ]
    },
    {
     "name": "stderr",
     "output_type": "stream",
     "text": [
      "100%|██████████| 5005/5005 [11:55<00:00,  6.99it/s]\n",
      "Validation:  26%|██▌       | 100/391 [00:23<01:04,  4.50it/s]"
     ]
    },
    {
     "name": "stdout",
     "output_type": "stream",
     "text": [
      "  Validation Batch   100 Loss: 1.3386 Top-1 error: 33.93% Top-5 error: 12.09%\n"
     ]
    },
    {
     "name": "stderr",
     "output_type": "stream",
     "text": [
      "Validation:  51%|█████     | 200/391 [00:45<00:42,  4.53it/s]"
     ]
    },
    {
     "name": "stdout",
     "output_type": "stream",
     "text": [
      "  Validation Batch   200 Loss: 1.6278 Top-1 error: 38.35% Top-5 error: 16.20%\n"
     ]
    },
    {
     "name": "stderr",
     "output_type": "stream",
     "text": [
      "Validation:  77%|███████▋  | 300/391 [01:07<00:18,  4.86it/s]"
     ]
    },
    {
     "name": "stdout",
     "output_type": "stream",
     "text": [
      "  Validation Batch   300 Loss: 2.0084 Top-1 error: 44.97% Top-5 error: 22.52%\n"
     ]
    },
    {
     "name": "stderr",
     "output_type": "stream",
     "text": [
      "Validation: 100%|██████████| 391/391 [01:27<00:00,  4.47it/s]\n"
     ]
    },
    {
     "name": "stdout",
     "output_type": "stream",
     "text": [
      "LOSS train 1.0929 valid 1.7153\n",
      "Top-1 Error train 28.85% val 40.10%\n",
      "Top-5 Error train 9.08% val 17.83%\n",
      "EPOCH 82:\n"
     ]
    },
    {
     "name": "stderr",
     "output_type": "stream",
     "text": [
      " 20%|██        | 1001/5005 [02:20<08:31,  7.83it/s]"
     ]
    },
    {
     "name": "stdout",
     "output_type": "stream",
     "text": [
      "  Batch 406405 Loss: 1.0827 Top-1 error rate: 28.61% Top-5 error rate: 8.94%\n"
     ]
    },
    {
     "name": "stderr",
     "output_type": "stream",
     "text": [
      " 40%|███▉      | 2001/5005 [04:40<06:05,  8.22it/s]"
     ]
    },
    {
     "name": "stdout",
     "output_type": "stream",
     "text": [
      "  Batch 407405 Loss: 1.0906 Top-1 error rate: 28.80% Top-5 error rate: 9.02%\n"
     ]
    },
    {
     "name": "stderr",
     "output_type": "stream",
     "text": [
      " 60%|█████▉    | 3001/5005 [07:01<04:17,  7.78it/s]"
     ]
    },
    {
     "name": "stdout",
     "output_type": "stream",
     "text": [
      "  Batch 408405 Loss: 1.0901 Top-1 error rate: 28.78% Top-5 error rate: 9.00%\n"
     ]
    },
    {
     "name": "stderr",
     "output_type": "stream",
     "text": [
      " 80%|███████▉  | 4001/5005 [09:21<02:01,  8.24it/s]"
     ]
    },
    {
     "name": "stdout",
     "output_type": "stream",
     "text": [
      "  Batch 409405 Loss: 1.0872 Top-1 error rate: 28.84% Top-5 error rate: 9.02%\n"
     ]
    },
    {
     "name": "stderr",
     "output_type": "stream",
     "text": [
      "100%|█████████▉| 5001/5005 [11:43<00:00,  8.07it/s]"
     ]
    },
    {
     "name": "stdout",
     "output_type": "stream",
     "text": [
      "  Batch 410405 Loss: 1.0937 Top-1 error rate: 28.96% Top-5 error rate: 9.09%\n"
     ]
    },
    {
     "name": "stderr",
     "output_type": "stream",
     "text": [
      "100%|██████████| 5005/5005 [11:43<00:00,  7.11it/s]\n",
      "Validation:  26%|██▌       | 100/391 [00:25<01:09,  4.17it/s]"
     ]
    },
    {
     "name": "stdout",
     "output_type": "stream",
     "text": [
      "  Validation Batch   100 Loss: 1.3357 Top-1 error: 33.95% Top-5 error: 12.16%\n"
     ]
    },
    {
     "name": "stderr",
     "output_type": "stream",
     "text": [
      "Validation:  51%|█████     | 200/391 [00:49<00:46,  4.07it/s]"
     ]
    },
    {
     "name": "stdout",
     "output_type": "stream",
     "text": [
      "  Validation Batch   200 Loss: 1.6295 Top-1 error: 38.36% Top-5 error: 16.20%\n"
     ]
    },
    {
     "name": "stderr",
     "output_type": "stream",
     "text": [
      "Validation:  77%|███████▋  | 300/391 [01:12<00:20,  4.46it/s]"
     ]
    },
    {
     "name": "stdout",
     "output_type": "stream",
     "text": [
      "  Validation Batch   300 Loss: 2.0115 Top-1 error: 44.90% Top-5 error: 22.60%\n"
     ]
    },
    {
     "name": "stderr",
     "output_type": "stream",
     "text": [
      "Validation: 100%|██████████| 391/391 [01:34<00:00,  4.16it/s]\n"
     ]
    },
    {
     "name": "stdout",
     "output_type": "stream",
     "text": [
      "LOSS train 1.0888 valid 1.7154\n",
      "Top-1 Error train 28.80% val 40.13%\n",
      "Top-5 Error train 9.01% val 17.85%\n",
      "EPOCH 83:\n"
     ]
    },
    {
     "name": "stderr",
     "output_type": "stream",
     "text": [
      " 20%|██        | 1001/5005 [02:26<08:40,  7.69it/s]"
     ]
    },
    {
     "name": "stdout",
     "output_type": "stream",
     "text": [
      "  Batch 411410 Loss: 1.0798 Top-1 error rate: 28.59% Top-5 error rate: 8.96%\n"
     ]
    },
    {
     "name": "stderr",
     "output_type": "stream",
     "text": [
      " 40%|███▉      | 2001/5005 [04:44<08:05,  6.19it/s]"
     ]
    },
    {
     "name": "stdout",
     "output_type": "stream",
     "text": [
      "  Batch 412410 Loss: 1.0825 Top-1 error rate: 28.66% Top-5 error rate: 8.93%\n"
     ]
    },
    {
     "name": "stderr",
     "output_type": "stream",
     "text": [
      " 60%|█████▉    | 3001/5005 [07:09<04:29,  7.44it/s]"
     ]
    },
    {
     "name": "stdout",
     "output_type": "stream",
     "text": [
      "  Batch 413410 Loss: 1.0804 Top-1 error rate: 28.59% Top-5 error rate: 8.87%\n"
     ]
    },
    {
     "name": "stderr",
     "output_type": "stream",
     "text": [
      " 80%|███████▉  | 4001/5005 [09:37<02:02,  8.16it/s]"
     ]
    },
    {
     "name": "stdout",
     "output_type": "stream",
     "text": [
      "  Batch 414410 Loss: 1.0968 Top-1 error rate: 28.93% Top-5 error rate: 9.11%\n"
     ]
    },
    {
     "name": "stderr",
     "output_type": "stream",
     "text": [
      "100%|█████████▉| 5001/5005 [12:03<00:00,  8.17it/s]"
     ]
    },
    {
     "name": "stdout",
     "output_type": "stream",
     "text": [
      "  Batch 415410 Loss: 1.0931 Top-1 error rate: 28.89% Top-5 error rate: 9.11%\n"
     ]
    },
    {
     "name": "stderr",
     "output_type": "stream",
     "text": [
      "100%|██████████| 5005/5005 [12:03<00:00,  6.92it/s]\n",
      "Validation:  26%|██▌       | 100/391 [00:23<01:03,  4.59it/s]"
     ]
    },
    {
     "name": "stdout",
     "output_type": "stream",
     "text": [
      "  Validation Batch   100 Loss: 1.3373 Top-1 error: 33.85% Top-5 error: 12.15%\n"
     ]
    },
    {
     "name": "stderr",
     "output_type": "stream",
     "text": [
      "Validation:  51%|█████     | 200/391 [00:45<00:39,  4.89it/s]"
     ]
    },
    {
     "name": "stdout",
     "output_type": "stream",
     "text": [
      "  Validation Batch   200 Loss: 1.6203 Top-1 error: 38.22% Top-5 error: 16.07%\n"
     ]
    },
    {
     "name": "stderr",
     "output_type": "stream",
     "text": [
      "Validation:  77%|███████▋  | 301/391 [01:08<00:18,  4.76it/s]"
     ]
    },
    {
     "name": "stdout",
     "output_type": "stream",
     "text": [
      "  Validation Batch   300 Loss: 2.0155 Top-1 error: 45.01% Top-5 error: 22.61%\n"
     ]
    },
    {
     "name": "stderr",
     "output_type": "stream",
     "text": [
      "Validation: 100%|██████████| 391/391 [01:28<00:00,  4.42it/s]\n"
     ]
    },
    {
     "name": "stdout",
     "output_type": "stream",
     "text": [
      "LOSS train 1.0865 valid 1.7167\n",
      "Top-1 Error train 28.73% val 40.11%\n",
      "Top-5 Error train 8.99% val 17.90%\n",
      "EPOCH 84:\n"
     ]
    },
    {
     "name": "stderr",
     "output_type": "stream",
     "text": [
      " 20%|██        | 1001/5005 [02:30<08:06,  8.23it/s]"
     ]
    },
    {
     "name": "stdout",
     "output_type": "stream",
     "text": [
      "  Batch 416415 Loss: 1.0755 Top-1 error rate: 28.41% Top-5 error rate: 8.87%\n"
     ]
    },
    {
     "name": "stderr",
     "output_type": "stream",
     "text": [
      " 40%|███▉      | 2001/5005 [04:55<06:43,  7.45it/s]"
     ]
    },
    {
     "name": "stdout",
     "output_type": "stream",
     "text": [
      "  Batch 417415 Loss: 1.0756 Top-1 error rate: 28.48% Top-5 error rate: 8.82%\n"
     ]
    },
    {
     "name": "stderr",
     "output_type": "stream",
     "text": [
      " 60%|█████▉    | 3001/5005 [07:20<04:03,  8.22it/s]"
     ]
    },
    {
     "name": "stdout",
     "output_type": "stream",
     "text": [
      "  Batch 418415 Loss: 1.0903 Top-1 error rate: 28.76% Top-5 error rate: 9.08%\n"
     ]
    },
    {
     "name": "stderr",
     "output_type": "stream",
     "text": [
      " 80%|███████▉  | 4001/5005 [09:45<02:31,  6.63it/s]"
     ]
    },
    {
     "name": "stdout",
     "output_type": "stream",
     "text": [
      "  Batch 419415 Loss: 1.0888 Top-1 error rate: 28.89% Top-5 error rate: 8.95%\n"
     ]
    },
    {
     "name": "stderr",
     "output_type": "stream",
     "text": [
      "100%|█████████▉| 5001/5005 [12:09<00:00,  8.04it/s]"
     ]
    },
    {
     "name": "stdout",
     "output_type": "stream",
     "text": [
      "  Batch 420415 Loss: 1.0866 Top-1 error rate: 28.81% Top-5 error rate: 8.95%\n"
     ]
    },
    {
     "name": "stderr",
     "output_type": "stream",
     "text": [
      "100%|██████████| 5005/5005 [12:10<00:00,  6.85it/s]\n",
      "Validation:  26%|██▌       | 101/391 [00:23<01:01,  4.71it/s]"
     ]
    },
    {
     "name": "stdout",
     "output_type": "stream",
     "text": [
      "  Validation Batch   100 Loss: 1.3337 Top-1 error: 33.95% Top-5 error: 12.09%\n"
     ]
    },
    {
     "name": "stderr",
     "output_type": "stream",
     "text": [
      "Validation:  51%|█████     | 200/391 [00:46<00:44,  4.25it/s]"
     ]
    },
    {
     "name": "stdout",
     "output_type": "stream",
     "text": [
      "  Validation Batch   200 Loss: 1.6264 Top-1 error: 38.45% Top-5 error: 16.06%\n"
     ]
    },
    {
     "name": "stderr",
     "output_type": "stream",
     "text": [
      "Validation:  77%|███████▋  | 301/391 [01:09<00:18,  4.74it/s]"
     ]
    },
    {
     "name": "stdout",
     "output_type": "stream",
     "text": [
      "  Validation Batch   300 Loss: 2.0217 Top-1 error: 44.94% Top-5 error: 22.64%\n"
     ]
    },
    {
     "name": "stderr",
     "output_type": "stream",
     "text": [
      "Validation: 100%|██████████| 391/391 [01:29<00:00,  4.38it/s]\n"
     ]
    },
    {
     "name": "stdout",
     "output_type": "stream",
     "text": [
      "LOSS train 1.0834 valid 1.7163\n",
      "Top-1 Error train 28.67% val 40.11%\n",
      "Top-5 Error train 8.93% val 17.83%\n",
      "EPOCH 85:\n"
     ]
    },
    {
     "name": "stderr",
     "output_type": "stream",
     "text": [
      " 20%|██        | 1001/5005 [02:22<09:05,  7.34it/s]"
     ]
    },
    {
     "name": "stdout",
     "output_type": "stream",
     "text": [
      "  Batch 421420 Loss: 1.0735 Top-1 error rate: 28.39% Top-5 error rate: 8.83%\n"
     ]
    },
    {
     "name": "stderr",
     "output_type": "stream",
     "text": [
      " 40%|███▉      | 2001/5005 [04:54<06:20,  7.89it/s]"
     ]
    },
    {
     "name": "stdout",
     "output_type": "stream",
     "text": [
      "  Batch 422420 Loss: 1.0792 Top-1 error rate: 28.51% Top-5 error rate: 8.96%\n"
     ]
    },
    {
     "name": "stderr",
     "output_type": "stream",
     "text": [
      " 60%|█████▉    | 3001/5005 [07:24<05:18,  6.30it/s]"
     ]
    },
    {
     "name": "stdout",
     "output_type": "stream",
     "text": [
      "  Batch 423420 Loss: 1.0831 Top-1 error rate: 28.68% Top-5 error rate: 8.87%\n"
     ]
    },
    {
     "name": "stderr",
     "output_type": "stream",
     "text": [
      " 80%|███████▉  | 4001/5005 [09:50<02:33,  6.53it/s]"
     ]
    },
    {
     "name": "stdout",
     "output_type": "stream",
     "text": [
      "  Batch 424420 Loss: 1.0865 Top-1 error rate: 28.73% Top-5 error rate: 8.99%\n"
     ]
    },
    {
     "name": "stderr",
     "output_type": "stream",
     "text": [
      "100%|█████████▉| 5001/5005 [12:08<00:00,  8.06it/s]"
     ]
    },
    {
     "name": "stdout",
     "output_type": "stream",
     "text": [
      "  Batch 425420 Loss: 1.0805 Top-1 error rate: 28.59% Top-5 error rate: 8.94%\n"
     ]
    },
    {
     "name": "stderr",
     "output_type": "stream",
     "text": [
      "100%|██████████| 5005/5005 [12:09<00:00,  6.86it/s]\n",
      "Validation:  26%|██▌       | 100/391 [00:23<01:08,  4.26it/s]"
     ]
    },
    {
     "name": "stdout",
     "output_type": "stream",
     "text": [
      "  Validation Batch   100 Loss: 1.3416 Top-1 error: 33.91% Top-5 error: 12.27%\n"
     ]
    },
    {
     "name": "stderr",
     "output_type": "stream",
     "text": [
      "Validation:  51%|█████     | 200/391 [00:46<00:43,  4.38it/s]"
     ]
    },
    {
     "name": "stdout",
     "output_type": "stream",
     "text": [
      "  Validation Batch   200 Loss: 1.6286 Top-1 error: 38.30% Top-5 error: 16.08%\n"
     ]
    },
    {
     "name": "stderr",
     "output_type": "stream",
     "text": [
      "Validation:  77%|███████▋  | 300/391 [01:09<00:20,  4.51it/s]"
     ]
    },
    {
     "name": "stdout",
     "output_type": "stream",
     "text": [
      "  Validation Batch   300 Loss: 2.0132 Top-1 error: 44.88% Top-5 error: 22.61%\n"
     ]
    },
    {
     "name": "stderr",
     "output_type": "stream",
     "text": [
      "Validation: 100%|██████████| 391/391 [01:28<00:00,  4.42it/s]\n"
     ]
    },
    {
     "name": "stdout",
     "output_type": "stream",
     "text": [
      "LOSS train 1.0805 valid 1.7173\n",
      "Top-1 Error train 28.58% val 40.08%\n",
      "Top-5 Error train 8.92% val 17.88%\n",
      "EPOCH 86:\n"
     ]
    },
    {
     "name": "stderr",
     "output_type": "stream",
     "text": [
      " 20%|██        | 1001/5005 [02:20<09:18,  7.17it/s]"
     ]
    },
    {
     "name": "stdout",
     "output_type": "stream",
     "text": [
      "  Batch 426425 Loss: 1.0698 Top-1 error rate: 28.48% Top-5 error rate: 8.77%\n"
     ]
    },
    {
     "name": "stderr",
     "output_type": "stream",
     "text": [
      " 40%|███▉      | 2001/5005 [04:41<06:18,  7.94it/s]"
     ]
    },
    {
     "name": "stdout",
     "output_type": "stream",
     "text": [
      "  Batch 427425 Loss: 1.0819 Top-1 error rate: 28.63% Top-5 error rate: 8.93%\n"
     ]
    },
    {
     "name": "stderr",
     "output_type": "stream",
     "text": [
      " 60%|█████▉    | 3001/5005 [07:03<04:54,  6.80it/s]"
     ]
    },
    {
     "name": "stdout",
     "output_type": "stream",
     "text": [
      "  Batch 428425 Loss: 1.0797 Top-1 error rate: 28.59% Top-5 error rate: 8.88%\n"
     ]
    },
    {
     "name": "stderr",
     "output_type": "stream",
     "text": [
      " 80%|███████▉  | 4001/5005 [09:25<02:23,  6.98it/s]"
     ]
    },
    {
     "name": "stdout",
     "output_type": "stream",
     "text": [
      "  Batch 429425 Loss: 1.0811 Top-1 error rate: 28.64% Top-5 error rate: 8.93%\n"
     ]
    },
    {
     "name": "stderr",
     "output_type": "stream",
     "text": [
      "100%|█████████▉| 5001/5005 [11:46<00:00,  8.17it/s]"
     ]
    },
    {
     "name": "stdout",
     "output_type": "stream",
     "text": [
      "  Batch 430425 Loss: 1.0808 Top-1 error rate: 28.65% Top-5 error rate: 8.89%\n"
     ]
    },
    {
     "name": "stderr",
     "output_type": "stream",
     "text": [
      "100%|██████████| 5005/5005 [11:46<00:00,  7.08it/s]\n",
      "Validation:  26%|██▌       | 100/391 [00:23<01:01,  4.76it/s]"
     ]
    },
    {
     "name": "stdout",
     "output_type": "stream",
     "text": [
      "  Validation Batch   100 Loss: 1.3329 Top-1 error: 33.96% Top-5 error: 12.07%\n"
     ]
    },
    {
     "name": "stderr",
     "output_type": "stream",
     "text": [
      "Validation:  51%|█████     | 200/391 [00:45<00:43,  4.36it/s]"
     ]
    },
    {
     "name": "stdout",
     "output_type": "stream",
     "text": [
      "  Validation Batch   200 Loss: 1.6219 Top-1 error: 38.30% Top-5 error: 16.16%\n"
     ]
    },
    {
     "name": "stderr",
     "output_type": "stream",
     "text": [
      "Validation:  77%|███████▋  | 300/391 [01:08<00:19,  4.58it/s]"
     ]
    },
    {
     "name": "stdout",
     "output_type": "stream",
     "text": [
      "  Validation Batch   300 Loss: 2.0084 Top-1 error: 44.78% Top-5 error: 22.42%\n"
     ]
    },
    {
     "name": "stderr",
     "output_type": "stream",
     "text": [
      "Validation: 100%|██████████| 391/391 [01:28<00:00,  4.43it/s]\n"
     ]
    },
    {
     "name": "stdout",
     "output_type": "stream",
     "text": [
      "LOSS train 1.0787 valid 1.7130\n",
      "Top-1 Error train 28.60% val 40.08%\n",
      "Top-5 Error train 8.88% val 17.80%\n",
      "EPOCH 87:\n"
     ]
    },
    {
     "name": "stderr",
     "output_type": "stream",
     "text": [
      " 20%|██        | 1001/5005 [02:17<09:40,  6.90it/s]"
     ]
    },
    {
     "name": "stdout",
     "output_type": "stream",
     "text": [
      "  Batch 431430 Loss: 1.0756 Top-1 error rate: 28.51% Top-5 error rate: 8.86%\n"
     ]
    },
    {
     "name": "stderr",
     "output_type": "stream",
     "text": [
      " 40%|███▉      | 2001/5005 [04:36<06:14,  8.01it/s]"
     ]
    },
    {
     "name": "stdout",
     "output_type": "stream",
     "text": [
      "  Batch 432430 Loss: 1.0737 Top-1 error rate: 28.41% Top-5 error rate: 8.77%\n"
     ]
    },
    {
     "name": "stderr",
     "output_type": "stream",
     "text": [
      " 60%|█████▉    | 3001/5005 [06:59<05:39,  5.90it/s]"
     ]
    },
    {
     "name": "stdout",
     "output_type": "stream",
     "text": [
      "  Batch 433430 Loss: 1.0726 Top-1 error rate: 28.39% Top-5 error rate: 8.81%\n"
     ]
    },
    {
     "name": "stderr",
     "output_type": "stream",
     "text": [
      " 80%|███████▉  | 4001/5005 [09:21<02:04,  8.05it/s]"
     ]
    },
    {
     "name": "stdout",
     "output_type": "stream",
     "text": [
      "  Batch 434430 Loss: 1.0766 Top-1 error rate: 28.52% Top-5 error rate: 8.92%\n"
     ]
    },
    {
     "name": "stderr",
     "output_type": "stream",
     "text": [
      "100%|█████████▉| 5001/5005 [11:46<00:00,  7.30it/s]"
     ]
    },
    {
     "name": "stdout",
     "output_type": "stream",
     "text": [
      "  Batch 435430 Loss: 1.0789 Top-1 error rate: 28.59% Top-5 error rate: 8.90%\n"
     ]
    },
    {
     "name": "stderr",
     "output_type": "stream",
     "text": [
      "100%|██████████| 5005/5005 [11:46<00:00,  7.08it/s]\n",
      "Validation:  26%|██▌       | 101/391 [00:23<01:00,  4.82it/s]"
     ]
    },
    {
     "name": "stdout",
     "output_type": "stream",
     "text": [
      "  Validation Batch   100 Loss: 1.3418 Top-1 error: 33.84% Top-5 error: 12.22%\n"
     ]
    },
    {
     "name": "stderr",
     "output_type": "stream",
     "text": [
      "Validation:  51%|█████     | 200/391 [00:44<00:40,  4.67it/s]"
     ]
    },
    {
     "name": "stdout",
     "output_type": "stream",
     "text": [
      "  Validation Batch   200 Loss: 1.6209 Top-1 error: 38.26% Top-5 error: 16.03%\n"
     ]
    },
    {
     "name": "stderr",
     "output_type": "stream",
     "text": [
      "Validation:  77%|███████▋  | 300/391 [01:06<00:19,  4.77it/s]"
     ]
    },
    {
     "name": "stdout",
     "output_type": "stream",
     "text": [
      "  Validation Batch   300 Loss: 2.0019 Top-1 error: 44.94% Top-5 error: 22.44%\n"
     ]
    },
    {
     "name": "stderr",
     "output_type": "stream",
     "text": [
      "Validation: 100%|██████████| 391/391 [01:26<00:00,  4.50it/s]\n"
     ]
    },
    {
     "name": "stdout",
     "output_type": "stream",
     "text": [
      "LOSS train 1.0755 valid 1.7117\n",
      "Top-1 Error train 28.48% val 40.05%\n",
      "Top-5 Error train 8.85% val 17.81%\n",
      "EPOCH 88:\n"
     ]
    },
    {
     "name": "stderr",
     "output_type": "stream",
     "text": [
      " 20%|██        | 1001/5005 [02:26<08:58,  7.43it/s]"
     ]
    },
    {
     "name": "stdout",
     "output_type": "stream",
     "text": [
      "  Batch 436435 Loss: 1.0658 Top-1 error rate: 28.27% Top-5 error rate: 8.66%\n"
     ]
    },
    {
     "name": "stderr",
     "output_type": "stream",
     "text": [
      " 40%|███▉      | 2001/5005 [04:50<06:09,  8.13it/s]"
     ]
    },
    {
     "name": "stdout",
     "output_type": "stream",
     "text": [
      "  Batch 437435 Loss: 1.0689 Top-1 error rate: 28.27% Top-5 error rate: 8.82%\n"
     ]
    },
    {
     "name": "stderr",
     "output_type": "stream",
     "text": [
      " 60%|█████▉    | 3001/5005 [07:17<04:19,  7.72it/s]"
     ]
    },
    {
     "name": "stdout",
     "output_type": "stream",
     "text": [
      "  Batch 438435 Loss: 1.0733 Top-1 error rate: 28.42% Top-5 error rate: 8.87%\n"
     ]
    },
    {
     "name": "stderr",
     "output_type": "stream",
     "text": [
      " 80%|███████▉  | 4001/5005 [09:41<02:27,  6.81it/s]"
     ]
    },
    {
     "name": "stdout",
     "output_type": "stream",
     "text": [
      "  Batch 439435 Loss: 1.0730 Top-1 error rate: 28.48% Top-5 error rate: 8.79%\n"
     ]
    },
    {
     "name": "stderr",
     "output_type": "stream",
     "text": [
      "100%|█████████▉| 5001/5005 [12:05<00:00,  7.50it/s]"
     ]
    },
    {
     "name": "stdout",
     "output_type": "stream",
     "text": [
      "  Batch 440435 Loss: 1.0756 Top-1 error rate: 28.54% Top-5 error rate: 8.84%\n"
     ]
    },
    {
     "name": "stderr",
     "output_type": "stream",
     "text": [
      "100%|██████████| 5005/5005 [12:05<00:00,  6.90it/s]\n",
      "Validation:  26%|██▌       | 101/391 [00:20<00:54,  5.32it/s]"
     ]
    },
    {
     "name": "stdout",
     "output_type": "stream",
     "text": [
      "  Validation Batch   100 Loss: 1.3383 Top-1 error: 34.03% Top-5 error: 12.25%\n"
     ]
    },
    {
     "name": "stderr",
     "output_type": "stream",
     "text": [
      "Validation:  51%|█████▏    | 201/391 [00:40<00:32,  5.82it/s]"
     ]
    },
    {
     "name": "stdout",
     "output_type": "stream",
     "text": [
      "  Validation Batch   200 Loss: 1.6292 Top-1 error: 38.34% Top-5 error: 16.09%\n"
     ]
    },
    {
     "name": "stderr",
     "output_type": "stream",
     "text": [
      "Validation:  77%|███████▋  | 301/391 [00:59<00:17,  5.09it/s]"
     ]
    },
    {
     "name": "stdout",
     "output_type": "stream",
     "text": [
      "  Validation Batch   300 Loss: 2.0070 Top-1 error: 44.92% Top-5 error: 22.55%\n"
     ]
    },
    {
     "name": "stderr",
     "output_type": "stream",
     "text": [
      "Validation: 100%|██████████| 391/391 [01:18<00:00,  4.98it/s]\n"
     ]
    },
    {
     "name": "stdout",
     "output_type": "stream",
     "text": [
      "LOSS train 1.0713 valid 1.7156\n",
      "Top-1 Error train 28.40% val 40.13%\n",
      "Top-5 Error train 8.80% val 17.83%\n",
      "EPOCH 89:\n"
     ]
    },
    {
     "name": "stderr",
     "output_type": "stream",
     "text": [
      " 20%|██        | 1001/5005 [02:21<08:20,  8.01it/s]"
     ]
    },
    {
     "name": "stdout",
     "output_type": "stream",
     "text": [
      "  Batch 441440 Loss: 1.0654 Top-1 error rate: 28.33% Top-5 error rate: 8.66%\n"
     ]
    },
    {
     "name": "stderr",
     "output_type": "stream",
     "text": [
      " 40%|███▉      | 2001/5005 [04:43<06:44,  7.42it/s]"
     ]
    },
    {
     "name": "stdout",
     "output_type": "stream",
     "text": [
      "  Batch 442440 Loss: 1.0682 Top-1 error rate: 28.32% Top-5 error rate: 8.75%\n"
     ]
    },
    {
     "name": "stderr",
     "output_type": "stream",
     "text": [
      " 60%|█████▉    | 3001/5005 [07:06<05:23,  6.20it/s]"
     ]
    },
    {
     "name": "stdout",
     "output_type": "stream",
     "text": [
      "  Batch 443440 Loss: 1.0694 Top-1 error rate: 28.43% Top-5 error rate: 8.74%\n"
     ]
    },
    {
     "name": "stderr",
     "output_type": "stream",
     "text": [
      " 80%|███████▉  | 4001/5005 [09:28<02:07,  7.85it/s]"
     ]
    },
    {
     "name": "stdout",
     "output_type": "stream",
     "text": [
      "  Batch 444440 Loss: 1.0722 Top-1 error rate: 28.48% Top-5 error rate: 8.78%\n"
     ]
    },
    {
     "name": "stderr",
     "output_type": "stream",
     "text": [
      "100%|█████████▉| 5001/5005 [11:51<00:00,  8.19it/s]"
     ]
    },
    {
     "name": "stdout",
     "output_type": "stream",
     "text": [
      "  Batch 445440 Loss: 1.0708 Top-1 error rate: 28.50% Top-5 error rate: 8.80%\n"
     ]
    },
    {
     "name": "stderr",
     "output_type": "stream",
     "text": [
      "100%|██████████| 5005/5005 [11:52<00:00,  7.03it/s]\n",
      "Validation:  26%|██▌       | 100/391 [00:24<01:07,  4.32it/s]"
     ]
    },
    {
     "name": "stdout",
     "output_type": "stream",
     "text": [
      "  Validation Batch   100 Loss: 1.3465 Top-1 error: 33.98% Top-5 error: 12.32%\n"
     ]
    },
    {
     "name": "stderr",
     "output_type": "stream",
     "text": [
      "Validation:  51%|█████     | 200/391 [00:46<00:40,  4.69it/s]"
     ]
    },
    {
     "name": "stdout",
     "output_type": "stream",
     "text": [
      "  Validation Batch   200 Loss: 1.6200 Top-1 error: 38.38% Top-5 error: 16.02%\n"
     ]
    },
    {
     "name": "stderr",
     "output_type": "stream",
     "text": [
      "Validation:  77%|███████▋  | 300/391 [01:07<00:21,  4.23it/s]"
     ]
    },
    {
     "name": "stdout",
     "output_type": "stream",
     "text": [
      "  Validation Batch   300 Loss: 2.0036 Top-1 error: 45.01% Top-5 error: 22.57%\n"
     ]
    },
    {
     "name": "stderr",
     "output_type": "stream",
     "text": [
      "Validation: 100%|██████████| 391/391 [01:27<00:00,  4.49it/s]\n"
     ]
    },
    {
     "name": "stdout",
     "output_type": "stream",
     "text": [
      "LOSS train 1.0693 valid 1.7132\n",
      "Top-1 Error train 28.41% val 40.14%\n",
      "Top-5 Error train 8.75% val 17.87%\n",
      "EPOCH 90:\n"
     ]
    },
    {
     "name": "stderr",
     "output_type": "stream",
     "text": [
      " 20%|██        | 1001/5005 [02:21<08:11,  8.14it/s]"
     ]
    },
    {
     "name": "stdout",
     "output_type": "stream",
     "text": [
      "  Batch 446445 Loss: 1.0675 Top-1 error rate: 28.26% Top-5 error rate: 8.77%\n"
     ]
    },
    {
     "name": "stderr",
     "output_type": "stream",
     "text": [
      " 40%|███▉      | 2001/5005 [04:40<06:57,  7.20it/s]"
     ]
    },
    {
     "name": "stdout",
     "output_type": "stream",
     "text": [
      "  Batch 447445 Loss: 1.0590 Top-1 error rate: 28.20% Top-5 error rate: 8.62%\n"
     ]
    },
    {
     "name": "stderr",
     "output_type": "stream",
     "text": [
      " 60%|█████▉    | 3001/5005 [07:02<04:09,  8.03it/s]"
     ]
    },
    {
     "name": "stdout",
     "output_type": "stream",
     "text": [
      "  Batch 448445 Loss: 1.0634 Top-1 error rate: 28.33% Top-5 error rate: 8.69%\n"
     ]
    },
    {
     "name": "stderr",
     "output_type": "stream",
     "text": [
      " 80%|███████▉  | 4001/5005 [09:24<02:52,  5.82it/s]"
     ]
    },
    {
     "name": "stdout",
     "output_type": "stream",
     "text": [
      "  Batch 449445 Loss: 1.0669 Top-1 error rate: 28.37% Top-5 error rate: 8.75%\n"
     ]
    },
    {
     "name": "stderr",
     "output_type": "stream",
     "text": [
      "100%|█████████▉| 5001/5005 [11:49<00:00,  6.33it/s]"
     ]
    },
    {
     "name": "stdout",
     "output_type": "stream",
     "text": [
      "  Batch 450445 Loss: 1.0737 Top-1 error rate: 28.48% Top-5 error rate: 8.76%\n"
     ]
    },
    {
     "name": "stderr",
     "output_type": "stream",
     "text": [
      "100%|██████████| 5005/5005 [11:50<00:00,  7.05it/s]\n",
      "Validation:  26%|██▌       | 100/391 [00:23<01:08,  4.26it/s]"
     ]
    },
    {
     "name": "stdout",
     "output_type": "stream",
     "text": [
      "  Validation Batch   100 Loss: 1.3411 Top-1 error: 33.91% Top-5 error: 12.26%\n"
     ]
    },
    {
     "name": "stderr",
     "output_type": "stream",
     "text": [
      "Validation:  51%|█████     | 200/391 [00:45<00:39,  4.84it/s]"
     ]
    },
    {
     "name": "stdout",
     "output_type": "stream",
     "text": [
      "  Validation Batch   200 Loss: 1.6306 Top-1 error: 38.33% Top-5 error: 16.19%\n"
     ]
    },
    {
     "name": "stderr",
     "output_type": "stream",
     "text": [
      "Validation:  77%|███████▋  | 300/391 [01:08<00:21,  4.28it/s]"
     ]
    },
    {
     "name": "stdout",
     "output_type": "stream",
     "text": [
      "  Validation Batch   300 Loss: 2.0000 Top-1 error: 44.98% Top-5 error: 22.43%\n"
     ]
    },
    {
     "name": "stderr",
     "output_type": "stream",
     "text": [
      "Validation: 100%|██████████| 391/391 [01:28<00:00,  4.41it/s]\n"
     ]
    },
    {
     "name": "stdout",
     "output_type": "stream",
     "text": [
      "LOSS train 1.0662 valid 1.7141\n",
      "Top-1 Error train 28.33% val 40.12%\n",
      "Top-5 Error train 8.72% val 17.92%\n",
      "EPOCH 91:\n"
     ]
    },
    {
     "name": "stderr",
     "output_type": "stream",
     "text": [
      " 20%|██        | 1001/5005 [02:18<08:26,  7.91it/s]"
     ]
    },
    {
     "name": "stdout",
     "output_type": "stream",
     "text": [
      "  Batch 451450 Loss: 1.0502 Top-1 error rate: 27.84% Top-5 error rate: 8.51%\n"
     ]
    },
    {
     "name": "stderr",
     "output_type": "stream",
     "text": [
      " 40%|███▉      | 2001/5005 [04:38<06:06,  8.19it/s]"
     ]
    },
    {
     "name": "stdout",
     "output_type": "stream",
     "text": [
      "  Batch 452450 Loss: 1.0502 Top-1 error rate: 27.94% Top-5 error rate: 8.53%\n"
     ]
    },
    {
     "name": "stderr",
     "output_type": "stream",
     "text": [
      " 60%|█████▉    | 3001/5005 [07:00<04:06,  8.15it/s]"
     ]
    },
    {
     "name": "stdout",
     "output_type": "stream",
     "text": [
      "  Batch 453450 Loss: 1.0467 Top-1 error rate: 27.85% Top-5 error rate: 8.39%\n"
     ]
    },
    {
     "name": "stderr",
     "output_type": "stream",
     "text": [
      " 80%|███████▉  | 4001/5005 [09:23<02:19,  7.20it/s]"
     ]
    },
    {
     "name": "stdout",
     "output_type": "stream",
     "text": [
      "  Batch 454450 Loss: 1.0494 Top-1 error rate: 27.85% Top-5 error rate: 8.55%\n"
     ]
    },
    {
     "name": "stderr",
     "output_type": "stream",
     "text": [
      "100%|█████████▉| 5001/5005 [11:43<00:00,  8.19it/s]"
     ]
    },
    {
     "name": "stdout",
     "output_type": "stream",
     "text": [
      "  Batch 455450 Loss: 1.0444 Top-1 error rate: 27.87% Top-5 error rate: 8.42%\n"
     ]
    },
    {
     "name": "stderr",
     "output_type": "stream",
     "text": [
      "100%|██████████| 5005/5005 [11:43<00:00,  7.11it/s]\n",
      "Validation:  26%|██▌       | 100/391 [00:23<00:59,  4.92it/s]"
     ]
    },
    {
     "name": "stdout",
     "output_type": "stream",
     "text": [
      "  Validation Batch   100 Loss: 1.3360 Top-1 error: 33.80% Top-5 error: 12.17%\n"
     ]
    },
    {
     "name": "stderr",
     "output_type": "stream",
     "text": [
      "Validation:  51%|█████     | 200/391 [00:45<00:44,  4.25it/s]"
     ]
    },
    {
     "name": "stdout",
     "output_type": "stream",
     "text": [
      "  Validation Batch   200 Loss: 1.6202 Top-1 error: 38.27% Top-5 error: 15.92%\n"
     ]
    },
    {
     "name": "stderr",
     "output_type": "stream",
     "text": [
      "Validation:  77%|███████▋  | 301/391 [01:07<00:18,  4.92it/s]"
     ]
    },
    {
     "name": "stdout",
     "output_type": "stream",
     "text": [
      "  Validation Batch   300 Loss: 2.0008 Top-1 error: 44.82% Top-5 error: 22.42%\n"
     ]
    },
    {
     "name": "stderr",
     "output_type": "stream",
     "text": [
      "Validation: 100%|██████████| 391/391 [01:28<00:00,  4.43it/s]\n"
     ]
    },
    {
     "name": "stdout",
     "output_type": "stream",
     "text": [
      "LOSS train 1.0481 valid 1.7094\n",
      "Top-1 Error train 27.87% val 40.01%\n",
      "Top-5 Error train 8.48% val 17.75%\n",
      "EPOCH 92:\n"
     ]
    },
    {
     "name": "stderr",
     "output_type": "stream",
     "text": [
      " 20%|██        | 1001/5005 [02:24<11:53,  5.62it/s]"
     ]
    },
    {
     "name": "stdout",
     "output_type": "stream",
     "text": [
      "  Batch 456455 Loss: 1.0419 Top-1 error rate: 27.78% Top-5 error rate: 8.34%\n"
     ]
    },
    {
     "name": "stderr",
     "output_type": "stream",
     "text": [
      " 40%|███▉      | 2001/5005 [04:54<06:22,  7.86it/s]"
     ]
    },
    {
     "name": "stdout",
     "output_type": "stream",
     "text": [
      "  Batch 457455 Loss: 1.0428 Top-1 error rate: 27.75% Top-5 error rate: 8.49%\n"
     ]
    },
    {
     "name": "stderr",
     "output_type": "stream",
     "text": [
      " 60%|█████▉    | 3001/5005 [07:25<05:25,  6.16it/s]"
     ]
    },
    {
     "name": "stdout",
     "output_type": "stream",
     "text": [
      "  Batch 458455 Loss: 1.0426 Top-1 error rate: 27.75% Top-5 error rate: 8.43%\n"
     ]
    },
    {
     "name": "stderr",
     "output_type": "stream",
     "text": [
      " 80%|███████▉  | 4001/5005 [09:49<02:06,  7.91it/s]"
     ]
    },
    {
     "name": "stdout",
     "output_type": "stream",
     "text": [
      "  Batch 459455 Loss: 1.0446 Top-1 error rate: 27.75% Top-5 error rate: 8.47%\n"
     ]
    },
    {
     "name": "stderr",
     "output_type": "stream",
     "text": [
      "100%|█████████▉| 5001/5005 [12:15<00:00,  6.60it/s]"
     ]
    },
    {
     "name": "stdout",
     "output_type": "stream",
     "text": [
      "  Batch 460455 Loss: 1.0457 Top-1 error rate: 27.83% Top-5 error rate: 8.43%\n"
     ]
    },
    {
     "name": "stderr",
     "output_type": "stream",
     "text": [
      "100%|██████████| 5005/5005 [12:16<00:00,  6.80it/s]\n",
      "Validation:  26%|██▌       | 100/391 [00:25<01:11,  4.08it/s]"
     ]
    },
    {
     "name": "stdout",
     "output_type": "stream",
     "text": [
      "  Validation Batch   100 Loss: 1.3347 Top-1 error: 33.77% Top-5 error: 12.05%\n"
     ]
    },
    {
     "name": "stderr",
     "output_type": "stream",
     "text": [
      "Validation:  51%|█████     | 200/391 [00:48<00:45,  4.22it/s]"
     ]
    },
    {
     "name": "stdout",
     "output_type": "stream",
     "text": [
      "  Validation Batch   200 Loss: 1.6209 Top-1 error: 38.14% Top-5 error: 15.98%\n"
     ]
    },
    {
     "name": "stderr",
     "output_type": "stream",
     "text": [
      "Validation:  77%|███████▋  | 300/391 [01:11<00:21,  4.19it/s]"
     ]
    },
    {
     "name": "stdout",
     "output_type": "stream",
     "text": [
      "  Validation Batch   300 Loss: 2.0035 Top-1 error: 44.73% Top-5 error: 22.40%\n"
     ]
    },
    {
     "name": "stderr",
     "output_type": "stream",
     "text": [
      "Validation: 100%|██████████| 391/391 [01:33<00:00,  4.20it/s]\n"
     ]
    },
    {
     "name": "stdout",
     "output_type": "stream",
     "text": [
      "LOSS train 1.0435 valid 1.7107\n",
      "Top-1 Error train 27.77% val 39.99%\n",
      "Top-5 Error train 8.43% val 17.75%\n",
      "EPOCH 93:\n"
     ]
    },
    {
     "name": "stderr",
     "output_type": "stream",
     "text": [
      " 20%|██        | 1001/5005 [02:24<13:38,  4.89it/s]"
     ]
    },
    {
     "name": "stdout",
     "output_type": "stream",
     "text": [
      "  Batch 461460 Loss: 1.0421 Top-1 error rate: 27.74% Top-5 error rate: 8.47%\n"
     ]
    },
    {
     "name": "stderr",
     "output_type": "stream",
     "text": [
      " 40%|███▉      | 2001/5005 [04:45<06:12,  8.07it/s]"
     ]
    },
    {
     "name": "stdout",
     "output_type": "stream",
     "text": [
      "  Batch 462460 Loss: 1.0403 Top-1 error rate: 27.73% Top-5 error rate: 8.43%\n"
     ]
    },
    {
     "name": "stderr",
     "output_type": "stream",
     "text": [
      " 60%|█████▉    | 3001/5005 [07:17<06:46,  4.92it/s]"
     ]
    },
    {
     "name": "stdout",
     "output_type": "stream",
     "text": [
      "  Batch 463460 Loss: 1.0452 Top-1 error rate: 27.93% Top-5 error rate: 8.43%\n"
     ]
    },
    {
     "name": "stderr",
     "output_type": "stream",
     "text": [
      " 80%|███████▉  | 4001/5005 [09:47<02:02,  8.17it/s]"
     ]
    },
    {
     "name": "stdout",
     "output_type": "stream",
     "text": [
      "  Batch 464460 Loss: 1.0439 Top-1 error rate: 27.73% Top-5 error rate: 8.43%\n"
     ]
    },
    {
     "name": "stderr",
     "output_type": "stream",
     "text": [
      "100%|█████████▉| 5001/5005 [12:05<00:00,  6.59it/s]"
     ]
    },
    {
     "name": "stdout",
     "output_type": "stream",
     "text": [
      "  Batch 465460 Loss: 1.0468 Top-1 error rate: 27.83% Top-5 error rate: 8.44%\n"
     ]
    },
    {
     "name": "stderr",
     "output_type": "stream",
     "text": [
      "100%|██████████| 5005/5005 [12:06<00:00,  6.89it/s]\n",
      "Validation:  26%|██▌       | 100/391 [00:21<01:04,  4.52it/s]"
     ]
    },
    {
     "name": "stdout",
     "output_type": "stream",
     "text": [
      "  Validation Batch   100 Loss: 1.3368 Top-1 error: 33.60% Top-5 error: 12.14%\n"
     ]
    },
    {
     "name": "stderr",
     "output_type": "stream",
     "text": [
      "Validation:  51%|█████     | 200/391 [00:42<00:38,  4.90it/s]"
     ]
    },
    {
     "name": "stdout",
     "output_type": "stream",
     "text": [
      "  Validation Batch   200 Loss: 1.6165 Top-1 error: 38.16% Top-5 error: 15.97%\n"
     ]
    },
    {
     "name": "stderr",
     "output_type": "stream",
     "text": [
      "Validation:  77%|███████▋  | 300/391 [01:03<00:18,  4.88it/s]"
     ]
    },
    {
     "name": "stdout",
     "output_type": "stream",
     "text": [
      "  Validation Batch   300 Loss: 2.0008 Top-1 error: 44.83% Top-5 error: 22.36%\n"
     ]
    },
    {
     "name": "stderr",
     "output_type": "stream",
     "text": [
      "Validation: 100%|██████████| 391/391 [01:22<00:00,  4.72it/s]\n"
     ]
    },
    {
     "name": "stdout",
     "output_type": "stream",
     "text": [
      "LOSS train 1.0437 valid 1.7088\n",
      "Top-1 Error train 27.79% val 39.93%\n",
      "Top-5 Error train 8.44% val 17.72%\n",
      "EPOCH 94:\n"
     ]
    },
    {
     "name": "stderr",
     "output_type": "stream",
     "text": [
      " 20%|██        | 1001/5005 [02:19<08:12,  8.13it/s]"
     ]
    },
    {
     "name": "stdout",
     "output_type": "stream",
     "text": [
      "  Batch 466465 Loss: 1.0409 Top-1 error rate: 27.69% Top-5 error rate: 8.48%\n"
     ]
    },
    {
     "name": "stderr",
     "output_type": "stream",
     "text": [
      " 40%|███▉      | 2001/5005 [04:38<06:08,  8.15it/s]"
     ]
    },
    {
     "name": "stdout",
     "output_type": "stream",
     "text": [
      "  Batch 467465 Loss: 1.0433 Top-1 error rate: 27.88% Top-5 error rate: 8.36%\n"
     ]
    },
    {
     "name": "stderr",
     "output_type": "stream",
     "text": [
      " 60%|█████▉    | 3001/5005 [07:01<04:05,  8.15it/s]"
     ]
    },
    {
     "name": "stdout",
     "output_type": "stream",
     "text": [
      "  Batch 468465 Loss: 1.0429 Top-1 error rate: 27.68% Top-5 error rate: 8.45%\n"
     ]
    },
    {
     "name": "stderr",
     "output_type": "stream",
     "text": [
      " 80%|███████▉  | 4001/5005 [09:23<02:08,  7.80it/s]"
     ]
    },
    {
     "name": "stdout",
     "output_type": "stream",
     "text": [
      "  Batch 469465 Loss: 1.0405 Top-1 error rate: 27.73% Top-5 error rate: 8.36%\n"
     ]
    },
    {
     "name": "stderr",
     "output_type": "stream",
     "text": [
      "100%|█████████▉| 5001/5005 [11:46<00:00,  8.03it/s]"
     ]
    },
    {
     "name": "stdout",
     "output_type": "stream",
     "text": [
      "  Batch 470465 Loss: 1.0467 Top-1 error rate: 27.88% Top-5 error rate: 8.45%\n"
     ]
    },
    {
     "name": "stderr",
     "output_type": "stream",
     "text": [
      "100%|██████████| 5005/5005 [11:46<00:00,  7.08it/s]\n",
      "Validation:  26%|██▌       | 100/391 [00:22<01:01,  4.70it/s]"
     ]
    },
    {
     "name": "stdout",
     "output_type": "stream",
     "text": [
      "  Validation Batch   100 Loss: 1.3324 Top-1 error: 33.81% Top-5 error: 11.99%\n"
     ]
    },
    {
     "name": "stderr",
     "output_type": "stream",
     "text": [
      "Validation:  51%|█████     | 200/391 [00:43<00:41,  4.56it/s]"
     ]
    },
    {
     "name": "stdout",
     "output_type": "stream",
     "text": [
      "  Validation Batch   200 Loss: 1.6180 Top-1 error: 38.20% Top-5 error: 15.92%\n"
     ]
    },
    {
     "name": "stderr",
     "output_type": "stream",
     "text": [
      "Validation:  77%|███████▋  | 300/391 [01:05<00:20,  4.49it/s]"
     ]
    },
    {
     "name": "stdout",
     "output_type": "stream",
     "text": [
      "  Validation Batch   300 Loss: 2.0060 Top-1 error: 44.81% Top-5 error: 22.44%\n"
     ]
    },
    {
     "name": "stderr",
     "output_type": "stream",
     "text": [
      "Validation: 100%|██████████| 391/391 [01:25<00:00,  4.59it/s]\n"
     ]
    },
    {
     "name": "stdout",
     "output_type": "stream",
     "text": [
      "LOSS train 1.0429 valid 1.7096\n",
      "Top-1 Error train 27.77% val 39.99%\n",
      "Top-5 Error train 8.42% val 17.70%\n",
      "EPOCH 95:\n"
     ]
    },
    {
     "name": "stderr",
     "output_type": "stream",
     "text": [
      " 20%|██        | 1001/5005 [02:20<08:52,  7.52it/s]"
     ]
    },
    {
     "name": "stdout",
     "output_type": "stream",
     "text": [
      "  Batch 471470 Loss: 1.0375 Top-1 error rate: 27.76% Top-5 error rate: 8.32%\n"
     ]
    },
    {
     "name": "stderr",
     "output_type": "stream",
     "text": [
      " 40%|███▉      | 2001/5005 [04:44<06:08,  8.15it/s]"
     ]
    },
    {
     "name": "stdout",
     "output_type": "stream",
     "text": [
      "  Batch 472470 Loss: 1.0398 Top-1 error rate: 27.76% Top-5 error rate: 8.36%\n"
     ]
    },
    {
     "name": "stderr",
     "output_type": "stream",
     "text": [
      " 60%|█████▉    | 3001/5005 [07:06<04:09,  8.03it/s]"
     ]
    },
    {
     "name": "stdout",
     "output_type": "stream",
     "text": [
      "  Batch 473470 Loss: 1.0434 Top-1 error rate: 27.77% Top-5 error rate: 8.45%\n"
     ]
    },
    {
     "name": "stderr",
     "output_type": "stream",
     "text": [
      " 80%|███████▉  | 4001/5005 [09:29<02:03,  8.10it/s]"
     ]
    },
    {
     "name": "stdout",
     "output_type": "stream",
     "text": [
      "  Batch 474470 Loss: 1.0446 Top-1 error rate: 27.64% Top-5 error rate: 8.51%\n"
     ]
    },
    {
     "name": "stderr",
     "output_type": "stream",
     "text": [
      "100%|█████████▉| 5001/5005 [11:53<00:00,  8.14it/s]"
     ]
    },
    {
     "name": "stdout",
     "output_type": "stream",
     "text": [
      "  Batch 475470 Loss: 1.0428 Top-1 error rate: 27.81% Top-5 error rate: 8.38%\n"
     ]
    },
    {
     "name": "stderr",
     "output_type": "stream",
     "text": [
      "100%|██████████| 5005/5005 [11:53<00:00,  7.01it/s]\n",
      "Validation:  26%|██▌       | 101/391 [00:22<00:59,  4.91it/s]"
     ]
    },
    {
     "name": "stdout",
     "output_type": "stream",
     "text": [
      "  Validation Batch   100 Loss: 1.3351 Top-1 error: 33.70% Top-5 error: 12.09%\n"
     ]
    },
    {
     "name": "stderr",
     "output_type": "stream",
     "text": [
      "Validation:  51%|█████     | 200/391 [00:43<00:40,  4.72it/s]"
     ]
    },
    {
     "name": "stdout",
     "output_type": "stream",
     "text": [
      "  Validation Batch   200 Loss: 1.6176 Top-1 error: 38.20% Top-5 error: 15.99%\n"
     ]
    },
    {
     "name": "stderr",
     "output_type": "stream",
     "text": [
      "Validation:  77%|███████▋  | 300/391 [01:04<00:18,  4.79it/s]"
     ]
    },
    {
     "name": "stdout",
     "output_type": "stream",
     "text": [
      "  Validation Batch   300 Loss: 2.0032 Top-1 error: 44.81% Top-5 error: 22.43%\n"
     ]
    },
    {
     "name": "stderr",
     "output_type": "stream",
     "text": [
      "Validation: 100%|██████████| 391/391 [01:22<00:00,  4.72it/s]\n"
     ]
    },
    {
     "name": "stdout",
     "output_type": "stream",
     "text": [
      "LOSS train 1.0416 valid 1.7095\n",
      "Top-1 Error train 27.75% val 39.96%\n",
      "Top-5 Error train 8.40% val 17.74%\n",
      "EPOCH 96:\n"
     ]
    },
    {
     "name": "stderr",
     "output_type": "stream",
     "text": [
      " 20%|██        | 1001/5005 [02:28<12:14,  5.45it/s]"
     ]
    },
    {
     "name": "stdout",
     "output_type": "stream",
     "text": [
      "  Batch 476475 Loss: 1.0444 Top-1 error rate: 27.80% Top-5 error rate: 8.43%\n"
     ]
    },
    {
     "name": "stderr",
     "output_type": "stream",
     "text": [
      " 40%|███▉      | 2001/5005 [04:54<06:29,  7.71it/s]"
     ]
    },
    {
     "name": "stdout",
     "output_type": "stream",
     "text": [
      "  Batch 477475 Loss: 1.0424 Top-1 error rate: 27.76% Top-5 error rate: 8.41%\n"
     ]
    },
    {
     "name": "stderr",
     "output_type": "stream",
     "text": [
      " 60%|█████▉    | 3001/5005 [07:16<04:10,  8.02it/s]"
     ]
    },
    {
     "name": "stdout",
     "output_type": "stream",
     "text": [
      "  Batch 478475 Loss: 1.0333 Top-1 error rate: 27.62% Top-5 error rate: 8.29%\n"
     ]
    },
    {
     "name": "stderr",
     "output_type": "stream",
     "text": [
      " 80%|███████▉  | 4001/5005 [09:37<02:18,  7.27it/s]"
     ]
    },
    {
     "name": "stdout",
     "output_type": "stream",
     "text": [
      "  Batch 479475 Loss: 1.0414 Top-1 error rate: 27.75% Top-5 error rate: 8.48%\n"
     ]
    },
    {
     "name": "stderr",
     "output_type": "stream",
     "text": [
      "100%|█████████▉| 5001/5005 [11:58<00:00,  8.21it/s]"
     ]
    },
    {
     "name": "stdout",
     "output_type": "stream",
     "text": [
      "  Batch 480475 Loss: 1.0398 Top-1 error rate: 27.75% Top-5 error rate: 8.33%\n"
     ]
    },
    {
     "name": "stderr",
     "output_type": "stream",
     "text": [
      "100%|██████████| 5005/5005 [11:59<00:00,  6.96it/s]\n",
      "Validation:  26%|██▌       | 100/391 [00:23<01:01,  4.72it/s]"
     ]
    },
    {
     "name": "stdout",
     "output_type": "stream",
     "text": [
      "  Validation Batch   100 Loss: 1.3355 Top-1 error: 33.80% Top-5 error: 12.12%\n"
     ]
    },
    {
     "name": "stderr",
     "output_type": "stream",
     "text": [
      "Validation:  51%|█████     | 200/391 [00:45<00:41,  4.65it/s]"
     ]
    },
    {
     "name": "stdout",
     "output_type": "stream",
     "text": [
      "  Validation Batch   200 Loss: 1.6179 Top-1 error: 38.22% Top-5 error: 15.91%\n"
     ]
    },
    {
     "name": "stderr",
     "output_type": "stream",
     "text": [
      "Validation:  77%|███████▋  | 300/391 [01:07<00:21,  4.26it/s]"
     ]
    },
    {
     "name": "stdout",
     "output_type": "stream",
     "text": [
      "  Validation Batch   300 Loss: 2.0054 Top-1 error: 44.86% Top-5 error: 22.42%\n"
     ]
    },
    {
     "name": "stderr",
     "output_type": "stream",
     "text": [
      "Validation: 100%|██████████| 391/391 [01:27<00:00,  4.44it/s]\n"
     ]
    },
    {
     "name": "stdout",
     "output_type": "stream",
     "text": [
      "LOSS train 1.0403 valid 1.7099\n",
      "Top-1 Error train 27.74% val 39.99%\n",
      "Top-5 Error train 8.39% val 17.72%\n",
      "EPOCH 97:\n"
     ]
    },
    {
     "name": "stderr",
     "output_type": "stream",
     "text": [
      " 20%|██        | 1001/5005 [02:19<08:13,  8.12it/s]"
     ]
    },
    {
     "name": "stdout",
     "output_type": "stream",
     "text": [
      "  Batch 481480 Loss: 1.0432 Top-1 error rate: 27.65% Top-5 error rate: 8.45%\n"
     ]
    },
    {
     "name": "stderr",
     "output_type": "stream",
     "text": [
      " 40%|███▉      | 2001/5005 [04:39<06:17,  7.96it/s]"
     ]
    },
    {
     "name": "stdout",
     "output_type": "stream",
     "text": [
      "  Batch 482480 Loss: 1.0387 Top-1 error rate: 27.56% Top-5 error rate: 8.39%\n"
     ]
    },
    {
     "name": "stderr",
     "output_type": "stream",
     "text": [
      " 60%|█████▉    | 3001/5005 [07:01<04:32,  7.35it/s]"
     ]
    },
    {
     "name": "stdout",
     "output_type": "stream",
     "text": [
      "  Batch 483480 Loss: 1.0397 Top-1 error rate: 27.65% Top-5 error rate: 8.39%\n"
     ]
    },
    {
     "name": "stderr",
     "output_type": "stream",
     "text": [
      " 80%|███████▉  | 4001/5005 [09:26<02:22,  7.06it/s]"
     ]
    },
    {
     "name": "stdout",
     "output_type": "stream",
     "text": [
      "  Batch 484480 Loss: 1.0373 Top-1 error rate: 27.76% Top-5 error rate: 8.28%\n"
     ]
    },
    {
     "name": "stderr",
     "output_type": "stream",
     "text": [
      "100%|█████████▉| 5001/5005 [11:49<00:00,  8.24it/s]"
     ]
    },
    {
     "name": "stdout",
     "output_type": "stream",
     "text": [
      "  Batch 485480 Loss: 1.0412 Top-1 error rate: 27.70% Top-5 error rate: 8.42%\n"
     ]
    },
    {
     "name": "stderr",
     "output_type": "stream",
     "text": [
      "100%|██████████| 5005/5005 [11:50<00:00,  7.05it/s]\n",
      "Validation:  26%|██▌       | 100/391 [00:23<01:02,  4.62it/s]"
     ]
    },
    {
     "name": "stdout",
     "output_type": "stream",
     "text": [
      "  Validation Batch   100 Loss: 1.3340 Top-1 error: 33.82% Top-5 error: 12.04%\n"
     ]
    },
    {
     "name": "stderr",
     "output_type": "stream",
     "text": [
      "Validation:  51%|█████     | 200/391 [00:45<00:42,  4.52it/s]"
     ]
    },
    {
     "name": "stdout",
     "output_type": "stream",
     "text": [
      "  Validation Batch   200 Loss: 1.6171 Top-1 error: 38.07% Top-5 error: 15.91%\n"
     ]
    },
    {
     "name": "stderr",
     "output_type": "stream",
     "text": [
      "Validation:  77%|███████▋  | 300/391 [01:07<00:20,  4.48it/s]"
     ]
    },
    {
     "name": "stdout",
     "output_type": "stream",
     "text": [
      "  Validation Batch   300 Loss: 2.0027 Top-1 error: 44.77% Top-5 error: 22.44%\n"
     ]
    },
    {
     "name": "stderr",
     "output_type": "stream",
     "text": [
      "Validation: 100%|██████████| 391/391 [01:26<00:00,  4.50it/s]\n"
     ]
    },
    {
     "name": "stdout",
     "output_type": "stream",
     "text": [
      "LOSS train 1.0401 valid 1.7083\n",
      "Top-1 Error train 27.67% val 39.93%\n",
      "Top-5 Error train 8.39% val 17.73%\n",
      "EPOCH 98:\n"
     ]
    },
    {
     "name": "stderr",
     "output_type": "stream",
     "text": [
      " 20%|██        | 1001/5005 [02:20<09:46,  6.83it/s]"
     ]
    },
    {
     "name": "stdout",
     "output_type": "stream",
     "text": [
      "  Batch 486485 Loss: 1.0389 Top-1 error rate: 27.66% Top-5 error rate: 8.39%\n"
     ]
    },
    {
     "name": "stderr",
     "output_type": "stream",
     "text": [
      " 40%|███▉      | 2001/5005 [04:43<06:24,  7.82it/s]"
     ]
    },
    {
     "name": "stdout",
     "output_type": "stream",
     "text": [
      "  Batch 487485 Loss: 1.0344 Top-1 error rate: 27.61% Top-5 error rate: 8.32%\n"
     ]
    },
    {
     "name": "stderr",
     "output_type": "stream",
     "text": [
      " 60%|█████▉    | 3001/5005 [07:07<05:00,  6.67it/s]"
     ]
    },
    {
     "name": "stdout",
     "output_type": "stream",
     "text": [
      "  Batch 488485 Loss: 1.0402 Top-1 error rate: 27.72% Top-5 error rate: 8.33%\n"
     ]
    },
    {
     "name": "stderr",
     "output_type": "stream",
     "text": [
      " 80%|███████▉  | 4001/5005 [09:30<02:06,  7.96it/s]"
     ]
    },
    {
     "name": "stdout",
     "output_type": "stream",
     "text": [
      "  Batch 489485 Loss: 1.0402 Top-1 error rate: 27.62% Top-5 error rate: 8.39%\n"
     ]
    },
    {
     "name": "stderr",
     "output_type": "stream",
     "text": [
      "100%|█████████▉| 5001/5005 [11:55<00:00,  6.71it/s]"
     ]
    },
    {
     "name": "stdout",
     "output_type": "stream",
     "text": [
      "  Batch 490485 Loss: 1.0418 Top-1 error rate: 27.66% Top-5 error rate: 8.45%\n"
     ]
    },
    {
     "name": "stderr",
     "output_type": "stream",
     "text": [
      "100%|██████████| 5005/5005 [11:56<00:00,  6.99it/s]\n",
      "Validation:  26%|██▌       | 100/391 [00:23<01:02,  4.64it/s]"
     ]
    },
    {
     "name": "stdout",
     "output_type": "stream",
     "text": [
      "  Validation Batch   100 Loss: 1.3354 Top-1 error: 33.84% Top-5 error: 12.12%\n"
     ]
    },
    {
     "name": "stderr",
     "output_type": "stream",
     "text": [
      "Validation:  51%|█████     | 200/391 [00:45<00:41,  4.60it/s]"
     ]
    },
    {
     "name": "stdout",
     "output_type": "stream",
     "text": [
      "  Validation Batch   200 Loss: 1.6182 Top-1 error: 38.23% Top-5 error: 15.88%\n"
     ]
    },
    {
     "name": "stderr",
     "output_type": "stream",
     "text": [
      "Validation:  77%|███████▋  | 300/391 [01:07<00:20,  4.36it/s]"
     ]
    },
    {
     "name": "stdout",
     "output_type": "stream",
     "text": [
      "  Validation Batch   300 Loss: 2.0026 Top-1 error: 44.77% Top-5 error: 22.37%\n"
     ]
    },
    {
     "name": "stderr",
     "output_type": "stream",
     "text": [
      "Validation: 100%|██████████| 391/391 [01:28<00:00,  4.43it/s]\n"
     ]
    },
    {
     "name": "stdout",
     "output_type": "stream",
     "text": [
      "LOSS train 1.0391 valid 1.7088\n",
      "Top-1 Error train 27.65% val 39.98%\n",
      "Top-5 Error train 8.37% val 17.69%\n",
      "EPOCH 99:\n"
     ]
    },
    {
     "name": "stderr",
     "output_type": "stream",
     "text": [
      " 20%|██        | 1001/5005 [02:18<08:44,  7.63it/s]"
     ]
    },
    {
     "name": "stdout",
     "output_type": "stream",
     "text": [
      "  Batch 491490 Loss: 1.0423 Top-1 error rate: 27.77% Top-5 error rate: 8.39%\n"
     ]
    },
    {
     "name": "stderr",
     "output_type": "stream",
     "text": [
      " 40%|███▉      | 2001/5005 [04:39<07:24,  6.76it/s]"
     ]
    },
    {
     "name": "stdout",
     "output_type": "stream",
     "text": [
      "  Batch 492490 Loss: 1.0434 Top-1 error rate: 27.81% Top-5 error rate: 8.45%\n"
     ]
    },
    {
     "name": "stderr",
     "output_type": "stream",
     "text": [
      " 60%|█████▉    | 3001/5005 [07:06<04:06,  8.12it/s]"
     ]
    },
    {
     "name": "stdout",
     "output_type": "stream",
     "text": [
      "  Batch 493490 Loss: 1.0393 Top-1 error rate: 27.73% Top-5 error rate: 8.38%\n"
     ]
    },
    {
     "name": "stderr",
     "output_type": "stream",
     "text": [
      " 80%|███████▉  | 4001/5005 [09:26<02:07,  7.88it/s]"
     ]
    },
    {
     "name": "stdout",
     "output_type": "stream",
     "text": [
      "  Batch 494490 Loss: 1.0388 Top-1 error rate: 27.83% Top-5 error rate: 8.38%\n"
     ]
    },
    {
     "name": "stderr",
     "output_type": "stream",
     "text": [
      "100%|█████████▉| 5001/5005 [11:48<00:00,  8.20it/s]"
     ]
    },
    {
     "name": "stdout",
     "output_type": "stream",
     "text": [
      "  Batch 495490 Loss: 1.0400 Top-1 error rate: 27.75% Top-5 error rate: 8.36%\n"
     ]
    },
    {
     "name": "stderr",
     "output_type": "stream",
     "text": [
      "100%|██████████| 5005/5005 [11:49<00:00,  7.06it/s]\n",
      "Validation:  26%|██▌       | 100/391 [00:23<01:06,  4.38it/s]"
     ]
    },
    {
     "name": "stdout",
     "output_type": "stream",
     "text": [
      "  Validation Batch   100 Loss: 1.3335 Top-1 error: 33.76% Top-5 error: 12.01%\n"
     ]
    },
    {
     "name": "stderr",
     "output_type": "stream",
     "text": [
      "Validation:  51%|█████     | 200/391 [00:45<00:40,  4.66it/s]"
     ]
    },
    {
     "name": "stdout",
     "output_type": "stream",
     "text": [
      "  Validation Batch   200 Loss: 1.6183 Top-1 error: 38.17% Top-5 error: 15.94%\n"
     ]
    },
    {
     "name": "stderr",
     "output_type": "stream",
     "text": [
      "Validation:  77%|███████▋  | 300/391 [01:08<00:20,  4.44it/s]"
     ]
    },
    {
     "name": "stdout",
     "output_type": "stream",
     "text": [
      "  Validation Batch   300 Loss: 2.0049 Top-1 error: 44.80% Top-5 error: 22.41%\n"
     ]
    },
    {
     "name": "stderr",
     "output_type": "stream",
     "text": [
      "Validation: 100%|██████████| 391/391 [01:29<00:00,  4.39it/s]\n"
     ]
    },
    {
     "name": "stdout",
     "output_type": "stream",
     "text": [
      "LOSS train 1.0408 valid 1.7089\n",
      "Top-1 Error train 27.78% val 39.95%\n",
      "Top-5 Error train 8.39% val 17.68%\n",
      "EPOCH 100:\n"
     ]
    },
    {
     "name": "stderr",
     "output_type": "stream",
     "text": [
      " 20%|██        | 1001/5005 [02:20<10:17,  6.49it/s]"
     ]
    },
    {
     "name": "stdout",
     "output_type": "stream",
     "text": [
      "  Batch 496495 Loss: 1.0358 Top-1 error rate: 27.57% Top-5 error rate: 8.33%\n"
     ]
    },
    {
     "name": "stderr",
     "output_type": "stream",
     "text": [
      " 40%|███▉      | 2001/5005 [04:47<06:09,  8.13it/s]"
     ]
    },
    {
     "name": "stdout",
     "output_type": "stream",
     "text": [
      "  Batch 497495 Loss: 1.0370 Top-1 error rate: 27.61% Top-5 error rate: 8.31%\n"
     ]
    },
    {
     "name": "stderr",
     "output_type": "stream",
     "text": [
      " 60%|█████▉    | 3001/5005 [07:14<05:10,  6.46it/s]"
     ]
    },
    {
     "name": "stdout",
     "output_type": "stream",
     "text": [
      "  Batch 498495 Loss: 1.0393 Top-1 error rate: 27.70% Top-5 error rate: 8.37%\n"
     ]
    },
    {
     "name": "stderr",
     "output_type": "stream",
     "text": [
      " 80%|███████▉  | 4001/5005 [09:43<02:08,  7.84it/s]"
     ]
    },
    {
     "name": "stdout",
     "output_type": "stream",
     "text": [
      "  Batch 499495 Loss: 1.0405 Top-1 error rate: 27.66% Top-5 error rate: 8.35%\n"
     ]
    },
    {
     "name": "stderr",
     "output_type": "stream",
     "text": [
      "100%|█████████▉| 5001/5005 [12:12<00:00,  5.78it/s]"
     ]
    },
    {
     "name": "stdout",
     "output_type": "stream",
     "text": [
      "  Batch 500495 Loss: 1.0387 Top-1 error rate: 27.64% Top-5 error rate: 8.34%\n"
     ]
    },
    {
     "name": "stderr",
     "output_type": "stream",
     "text": [
      "100%|██████████| 5005/5005 [12:13<00:00,  6.83it/s]\n",
      "Validation:  26%|██▌       | 100/391 [00:23<01:06,  4.39it/s]"
     ]
    },
    {
     "name": "stdout",
     "output_type": "stream",
     "text": [
      "  Validation Batch   100 Loss: 1.3353 Top-1 error: 33.82% Top-5 error: 12.06%\n"
     ]
    },
    {
     "name": "stderr",
     "output_type": "stream",
     "text": [
      "Validation:  51%|█████     | 200/391 [00:46<00:42,  4.49it/s]"
     ]
    },
    {
     "name": "stdout",
     "output_type": "stream",
     "text": [
      "  Validation Batch   200 Loss: 1.6171 Top-1 error: 38.11% Top-5 error: 15.98%\n"
     ]
    },
    {
     "name": "stderr",
     "output_type": "stream",
     "text": [
      "Validation:  77%|███████▋  | 300/391 [01:08<00:19,  4.56it/s]"
     ]
    },
    {
     "name": "stdout",
     "output_type": "stream",
     "text": [
      "  Validation Batch   300 Loss: 2.0040 Top-1 error: 44.89% Top-5 error: 22.38%\n"
     ]
    },
    {
     "name": "stderr",
     "output_type": "stream",
     "text": [
      "Validation: 100%|██████████| 391/391 [01:29<00:00,  4.39it/s]\n"
     ]
    },
    {
     "name": "stdout",
     "output_type": "stream",
     "text": [
      "LOSS train 1.0382 valid 1.7092\n",
      "Top-1 Error train 27.64% val 39.98%\n",
      "Top-5 Error train 8.34% val 17.71%\n",
      "EPOCH 101:\n"
     ]
    },
    {
     "name": "stderr",
     "output_type": "stream",
     "text": [
      "  1%|          | 33/5005 [00:08<20:11,  4.10it/s] \n",
      "Exception in thread Thread-7 (_pin_memory_loop):\n",
      "Traceback (most recent call last):\n",
      "  File \"/usr/lib/python3.10/threading.py\", line 1016, in _bootstrap_inner\n",
      "    self.run()\n",
      "  File \"/usr/lib/python3.10/threading.py\", line 953, in run\n",
      "    self._target(*self._args, **self._kwargs)\n",
      "  File \"/usr/local/lib/python3.10/dist-packages/torch/utils/data/_utils/pin_memory.py\", line 54, in _pin_memory_loop\n",
      "    do_one_step()\n",
      "  File \"/usr/local/lib/python3.10/dist-packages/torch/utils/data/_utils/pin_memory.py\", line 31, in do_one_step\n",
      "    r = in_queue.get(timeout=MP_STATUS_CHECK_INTERVAL)\n",
      "  File \"/usr/lib/python3.10/multiprocessing/queues.py\", line 122, in get\n",
      "    return _ForkingPickler.loads(res)\n",
      "  File \"/usr/local/lib/python3.10/dist-packages/torch/multiprocessing/reductions.py\", line 355, in rebuild_storage_fd\n",
      "    fd = df.detach()\n",
      "  File \"/usr/lib/python3.10/multiprocessing/resource_sharer.py\", line 57, in detach\n",
      "    with _resource_sharer.get_connection(self._id) as conn:\n",
      "  File \"/usr/lib/python3.10/multiprocessing/resource_sharer.py\", line 86, in get_connection\n",
      "    c = Client(address, authkey=process.current_process().authkey)\n",
      "  File \"/usr/lib/python3.10/multiprocessing/connection.py\", line 502, in Client\n",
      "    c = SocketClient(address)\n",
      "  File \"/usr/lib/python3.10/multiprocessing/connection.py\", line 630, in SocketClient\n",
      "    s.connect(address)\n",
      "FileNotFoundError: [Errno 2] No such file or directory\n"
     ]
    },
    {
     "ename": "KeyboardInterrupt",
     "evalue": "",
     "output_type": "error",
     "traceback": [
      "\u001b[0;31m---------------------------------------------------------------------------\u001b[0m",
      "\u001b[0;31mKeyboardInterrupt\u001b[0m                         Traceback (most recent call last)",
      "Cell \u001b[0;32mIn[9], line 19\u001b[0m\n\u001b[1;32m     16\u001b[0m \u001b[38;5;28mprint\u001b[39m(\u001b[38;5;124mf\u001b[39m\u001b[38;5;124m'\u001b[39m\u001b[38;5;124mEPOCH \u001b[39m\u001b[38;5;132;01m{\u001b[39;00mepoch_number\u001b[38;5;250m \u001b[39m\u001b[38;5;241m+\u001b[39m\u001b[38;5;250m \u001b[39m\u001b[38;5;241m1\u001b[39m\u001b[38;5;132;01m}\u001b[39;00m\u001b[38;5;124m:\u001b[39m\u001b[38;5;124m'\u001b[39m)\n\u001b[1;32m     18\u001b[0m \u001b[38;5;66;03m# Training phase\u001b[39;00m\n\u001b[0;32m---> 19\u001b[0m avg_train_loss, avg_train_top1_error, avg_train_top5_error \u001b[38;5;241m=\u001b[39m \u001b[43mtrain_one_epoch\u001b[49m\u001b[43m(\u001b[49m\n\u001b[1;32m     20\u001b[0m \u001b[43m    \u001b[49m\u001b[43mepoch_number\u001b[49m\u001b[43m,\u001b[49m\n\u001b[1;32m     21\u001b[0m \u001b[43m    \u001b[49m\u001b[43mwriter\u001b[49m\u001b[43m,\u001b[49m\n\u001b[1;32m     22\u001b[0m \u001b[43m    \u001b[49m\u001b[43malexnet\u001b[49m\u001b[43m,\u001b[49m\n\u001b[1;32m     23\u001b[0m \u001b[43m    \u001b[49m\u001b[43mtraining_dataloader\u001b[49m\u001b[43m,\u001b[49m\n\u001b[1;32m     24\u001b[0m \u001b[43m    \u001b[49m\u001b[43moptimizer\u001b[49m\u001b[43m,\u001b[49m\n\u001b[1;32m     25\u001b[0m \u001b[43m    \u001b[49m\u001b[43mloss_fn\u001b[49m\u001b[43m,\u001b[49m\n\u001b[1;32m     26\u001b[0m \u001b[43m    \u001b[49m\u001b[43mdevice\u001b[49m\u001b[43m,\u001b[49m\n\u001b[1;32m     27\u001b[0m \u001b[43m\u001b[49m\u001b[43m)\u001b[49m\n\u001b[1;32m     29\u001b[0m \u001b[38;5;66;03m# Validation phase\u001b[39;00m\n\u001b[1;32m     30\u001b[0m avg_val_loss, avg_val_top1_error, avg_val_top5_error \u001b[38;5;241m=\u001b[39m validate_one_epoch(\n\u001b[1;32m     31\u001b[0m     epoch_number,\n\u001b[1;32m     32\u001b[0m     writer,\n\u001b[0;32m   (...)\u001b[0m\n\u001b[1;32m     36\u001b[0m     device\n\u001b[1;32m     37\u001b[0m )\n",
      "Cell \u001b[0;32mIn[5], line 27\u001b[0m, in \u001b[0;36mtrain_one_epoch\u001b[0;34m(epoch_index, writer, model, training_dataloader, optimizer, loss_fn, device)\u001b[0m\n\u001b[1;32m     24\u001b[0m \u001b[38;5;66;03m# Ensure model is in training mode\u001b[39;00m\n\u001b[1;32m     25\u001b[0m model\u001b[38;5;241m.\u001b[39mtrain()\n\u001b[0;32m---> 27\u001b[0m \u001b[38;5;28;01mfor\u001b[39;00m i, data \u001b[38;5;129;01min\u001b[39;00m \u001b[38;5;28menumerate\u001b[39m(tqdm(training_dataloader)):\n\u001b[1;32m     28\u001b[0m     inputs, labels \u001b[38;5;241m=\u001b[39m data\n\u001b[1;32m     29\u001b[0m     inputs \u001b[38;5;241m=\u001b[39m inputs\u001b[38;5;241m.\u001b[39mto(device)\n",
      "File \u001b[0;32m/usr/local/lib/python3.10/dist-packages/tqdm/std.py:1181\u001b[0m, in \u001b[0;36mtqdm.__iter__\u001b[0;34m(self)\u001b[0m\n\u001b[1;32m   1178\u001b[0m time \u001b[38;5;241m=\u001b[39m \u001b[38;5;28mself\u001b[39m\u001b[38;5;241m.\u001b[39m_time\n\u001b[1;32m   1180\u001b[0m \u001b[38;5;28;01mtry\u001b[39;00m:\n\u001b[0;32m-> 1181\u001b[0m     \u001b[38;5;28;01mfor\u001b[39;00m obj \u001b[38;5;129;01min\u001b[39;00m iterable:\n\u001b[1;32m   1182\u001b[0m         \u001b[38;5;28;01myield\u001b[39;00m obj\n\u001b[1;32m   1183\u001b[0m         \u001b[38;5;66;03m# Update and possibly print the progressbar.\u001b[39;00m\n\u001b[1;32m   1184\u001b[0m         \u001b[38;5;66;03m# Note: does not call self.update(1) for speed optimisation.\u001b[39;00m\n",
      "File \u001b[0;32m/usr/local/lib/python3.10/dist-packages/torch/utils/data/dataloader.py:630\u001b[0m, in \u001b[0;36m_BaseDataLoaderIter.__next__\u001b[0;34m(self)\u001b[0m\n\u001b[1;32m    627\u001b[0m \u001b[38;5;28;01mif\u001b[39;00m \u001b[38;5;28mself\u001b[39m\u001b[38;5;241m.\u001b[39m_sampler_iter \u001b[38;5;129;01mis\u001b[39;00m \u001b[38;5;28;01mNone\u001b[39;00m:\n\u001b[1;32m    628\u001b[0m     \u001b[38;5;66;03m# TODO(https://github.com/pytorch/pytorch/issues/76750)\u001b[39;00m\n\u001b[1;32m    629\u001b[0m     \u001b[38;5;28mself\u001b[39m\u001b[38;5;241m.\u001b[39m_reset()  \u001b[38;5;66;03m# type: ignore[call-arg]\u001b[39;00m\n\u001b[0;32m--> 630\u001b[0m data \u001b[38;5;241m=\u001b[39m \u001b[38;5;28;43mself\u001b[39;49m\u001b[38;5;241;43m.\u001b[39;49m\u001b[43m_next_data\u001b[49m\u001b[43m(\u001b[49m\u001b[43m)\u001b[49m\n\u001b[1;32m    631\u001b[0m \u001b[38;5;28mself\u001b[39m\u001b[38;5;241m.\u001b[39m_num_yielded \u001b[38;5;241m+\u001b[39m\u001b[38;5;241m=\u001b[39m \u001b[38;5;241m1\u001b[39m\n\u001b[1;32m    632\u001b[0m \u001b[38;5;28;01mif\u001b[39;00m \u001b[38;5;28mself\u001b[39m\u001b[38;5;241m.\u001b[39m_dataset_kind \u001b[38;5;241m==\u001b[39m _DatasetKind\u001b[38;5;241m.\u001b[39mIterable \u001b[38;5;129;01mand\u001b[39;00m \\\n\u001b[1;32m    633\u001b[0m         \u001b[38;5;28mself\u001b[39m\u001b[38;5;241m.\u001b[39m_IterableDataset_len_called \u001b[38;5;129;01mis\u001b[39;00m \u001b[38;5;129;01mnot\u001b[39;00m \u001b[38;5;28;01mNone\u001b[39;00m \u001b[38;5;129;01mand\u001b[39;00m \\\n\u001b[1;32m    634\u001b[0m         \u001b[38;5;28mself\u001b[39m\u001b[38;5;241m.\u001b[39m_num_yielded \u001b[38;5;241m>\u001b[39m \u001b[38;5;28mself\u001b[39m\u001b[38;5;241m.\u001b[39m_IterableDataset_len_called:\n",
      "File \u001b[0;32m/usr/local/lib/python3.10/dist-packages/torch/utils/data/dataloader.py:1328\u001b[0m, in \u001b[0;36m_MultiProcessingDataLoaderIter._next_data\u001b[0;34m(self)\u001b[0m\n\u001b[1;32m   1325\u001b[0m     \u001b[38;5;28;01mreturn\u001b[39;00m \u001b[38;5;28mself\u001b[39m\u001b[38;5;241m.\u001b[39m_process_data(data)\n\u001b[1;32m   1327\u001b[0m \u001b[38;5;28;01massert\u001b[39;00m \u001b[38;5;129;01mnot\u001b[39;00m \u001b[38;5;28mself\u001b[39m\u001b[38;5;241m.\u001b[39m_shutdown \u001b[38;5;129;01mand\u001b[39;00m \u001b[38;5;28mself\u001b[39m\u001b[38;5;241m.\u001b[39m_tasks_outstanding \u001b[38;5;241m>\u001b[39m \u001b[38;5;241m0\u001b[39m\n\u001b[0;32m-> 1328\u001b[0m idx, data \u001b[38;5;241m=\u001b[39m \u001b[38;5;28;43mself\u001b[39;49m\u001b[38;5;241;43m.\u001b[39;49m\u001b[43m_get_data\u001b[49m\u001b[43m(\u001b[49m\u001b[43m)\u001b[49m\n\u001b[1;32m   1329\u001b[0m \u001b[38;5;28mself\u001b[39m\u001b[38;5;241m.\u001b[39m_tasks_outstanding \u001b[38;5;241m-\u001b[39m\u001b[38;5;241m=\u001b[39m \u001b[38;5;241m1\u001b[39m\n\u001b[1;32m   1330\u001b[0m \u001b[38;5;28;01mif\u001b[39;00m \u001b[38;5;28mself\u001b[39m\u001b[38;5;241m.\u001b[39m_dataset_kind \u001b[38;5;241m==\u001b[39m _DatasetKind\u001b[38;5;241m.\u001b[39mIterable:\n\u001b[1;32m   1331\u001b[0m     \u001b[38;5;66;03m# Check for _IterableDatasetStopIteration\u001b[39;00m\n",
      "File \u001b[0;32m/usr/local/lib/python3.10/dist-packages/torch/utils/data/dataloader.py:1284\u001b[0m, in \u001b[0;36m_MultiProcessingDataLoaderIter._get_data\u001b[0;34m(self)\u001b[0m\n\u001b[1;32m   1282\u001b[0m \u001b[38;5;28;01melif\u001b[39;00m \u001b[38;5;28mself\u001b[39m\u001b[38;5;241m.\u001b[39m_pin_memory:\n\u001b[1;32m   1283\u001b[0m     \u001b[38;5;28;01mwhile\u001b[39;00m \u001b[38;5;28mself\u001b[39m\u001b[38;5;241m.\u001b[39m_pin_memory_thread\u001b[38;5;241m.\u001b[39mis_alive():\n\u001b[0;32m-> 1284\u001b[0m         success, data \u001b[38;5;241m=\u001b[39m \u001b[38;5;28;43mself\u001b[39;49m\u001b[38;5;241;43m.\u001b[39;49m\u001b[43m_try_get_data\u001b[49m\u001b[43m(\u001b[49m\u001b[43m)\u001b[49m\n\u001b[1;32m   1285\u001b[0m         \u001b[38;5;28;01mif\u001b[39;00m success:\n\u001b[1;32m   1286\u001b[0m             \u001b[38;5;28;01mreturn\u001b[39;00m data\n",
      "File \u001b[0;32m/usr/local/lib/python3.10/dist-packages/torch/utils/data/dataloader.py:1132\u001b[0m, in \u001b[0;36m_MultiProcessingDataLoaderIter._try_get_data\u001b[0;34m(self, timeout)\u001b[0m\n\u001b[1;32m   1119\u001b[0m \u001b[38;5;28;01mdef\u001b[39;00m \u001b[38;5;21m_try_get_data\u001b[39m(\u001b[38;5;28mself\u001b[39m, timeout\u001b[38;5;241m=\u001b[39m_utils\u001b[38;5;241m.\u001b[39mMP_STATUS_CHECK_INTERVAL):\n\u001b[1;32m   1120\u001b[0m     \u001b[38;5;66;03m# Tries to fetch data from `self._data_queue` once for a given timeout.\u001b[39;00m\n\u001b[1;32m   1121\u001b[0m     \u001b[38;5;66;03m# This can also be used as inner loop of fetching without timeout, with\u001b[39;00m\n\u001b[0;32m   (...)\u001b[0m\n\u001b[1;32m   1129\u001b[0m     \u001b[38;5;66;03m# Returns a 2-tuple:\u001b[39;00m\n\u001b[1;32m   1130\u001b[0m     \u001b[38;5;66;03m#   (bool: whether successfully get data, any: data if successful else None)\u001b[39;00m\n\u001b[1;32m   1131\u001b[0m     \u001b[38;5;28;01mtry\u001b[39;00m:\n\u001b[0;32m-> 1132\u001b[0m         data \u001b[38;5;241m=\u001b[39m \u001b[38;5;28;43mself\u001b[39;49m\u001b[38;5;241;43m.\u001b[39;49m\u001b[43m_data_queue\u001b[49m\u001b[38;5;241;43m.\u001b[39;49m\u001b[43mget\u001b[49m\u001b[43m(\u001b[49m\u001b[43mtimeout\u001b[49m\u001b[38;5;241;43m=\u001b[39;49m\u001b[43mtimeout\u001b[49m\u001b[43m)\u001b[49m\n\u001b[1;32m   1133\u001b[0m         \u001b[38;5;28;01mreturn\u001b[39;00m (\u001b[38;5;28;01mTrue\u001b[39;00m, data)\n\u001b[1;32m   1134\u001b[0m     \u001b[38;5;28;01mexcept\u001b[39;00m \u001b[38;5;167;01mException\u001b[39;00m \u001b[38;5;28;01mas\u001b[39;00m e:\n\u001b[1;32m   1135\u001b[0m         \u001b[38;5;66;03m# At timeout and error, we manually check whether any worker has\u001b[39;00m\n\u001b[1;32m   1136\u001b[0m         \u001b[38;5;66;03m# failed. Note that this is the only mechanism for Windows to detect\u001b[39;00m\n\u001b[1;32m   1137\u001b[0m         \u001b[38;5;66;03m# worker failures.\u001b[39;00m\n",
      "File \u001b[0;32m/usr/lib/python3.10/queue.py:180\u001b[0m, in \u001b[0;36mQueue.get\u001b[0;34m(self, block, timeout)\u001b[0m\n\u001b[1;32m    178\u001b[0m         \u001b[38;5;28;01mif\u001b[39;00m remaining \u001b[38;5;241m<\u001b[39m\u001b[38;5;241m=\u001b[39m \u001b[38;5;241m0.0\u001b[39m:\n\u001b[1;32m    179\u001b[0m             \u001b[38;5;28;01mraise\u001b[39;00m Empty\n\u001b[0;32m--> 180\u001b[0m         \u001b[38;5;28;43mself\u001b[39;49m\u001b[38;5;241;43m.\u001b[39;49m\u001b[43mnot_empty\u001b[49m\u001b[38;5;241;43m.\u001b[39;49m\u001b[43mwait\u001b[49m\u001b[43m(\u001b[49m\u001b[43mremaining\u001b[49m\u001b[43m)\u001b[49m\n\u001b[1;32m    181\u001b[0m item \u001b[38;5;241m=\u001b[39m \u001b[38;5;28mself\u001b[39m\u001b[38;5;241m.\u001b[39m_get()\n\u001b[1;32m    182\u001b[0m \u001b[38;5;28mself\u001b[39m\u001b[38;5;241m.\u001b[39mnot_full\u001b[38;5;241m.\u001b[39mnotify()\n",
      "File \u001b[0;32m/usr/lib/python3.10/threading.py:324\u001b[0m, in \u001b[0;36mCondition.wait\u001b[0;34m(self, timeout)\u001b[0m\n\u001b[1;32m    322\u001b[0m \u001b[38;5;28;01melse\u001b[39;00m:\n\u001b[1;32m    323\u001b[0m     \u001b[38;5;28;01mif\u001b[39;00m timeout \u001b[38;5;241m>\u001b[39m \u001b[38;5;241m0\u001b[39m:\n\u001b[0;32m--> 324\u001b[0m         gotit \u001b[38;5;241m=\u001b[39m \u001b[43mwaiter\u001b[49m\u001b[38;5;241;43m.\u001b[39;49m\u001b[43macquire\u001b[49m\u001b[43m(\u001b[49m\u001b[38;5;28;43;01mTrue\u001b[39;49;00m\u001b[43m,\u001b[49m\u001b[43m \u001b[49m\u001b[43mtimeout\u001b[49m\u001b[43m)\u001b[49m\n\u001b[1;32m    325\u001b[0m     \u001b[38;5;28;01melse\u001b[39;00m:\n\u001b[1;32m    326\u001b[0m         gotit \u001b[38;5;241m=\u001b[39m waiter\u001b[38;5;241m.\u001b[39macquire(\u001b[38;5;28;01mFalse\u001b[39;00m)\n",
      "\u001b[0;31mKeyboardInterrupt\u001b[0m: "
     ]
    }
   ],
   "source": [
    "# timestamp = datetime.now().strftime('%Y%m%d_%H%M%S')\n",
    "writer = SummaryWriter('runs/alexnet') # .format(timestamp)\n",
    "\n",
    "loss_fn = torch.nn.CrossEntropyLoss()\n",
    "# refer to https://github.com/dansuh17/alexnet-pytorch/blob/d0c1b1c52296ffcbecfbf5b17e1d1685b4ca6744/model.py#L142\n",
    "# and https://discuss.pytorch.org/t/image-recognition-alexnet-training-loss-is-not-decreasing/66885/9 \n",
    "# to justify the change\n",
    "optimizer = torch.optim.SGD(alexnet.parameters(), lr=0.01, momentum=0.9, weight_decay=0.0005)\n",
    "# optimizer = torch.optim.Adam(params=alexnet.parameters(), lr=1e-6, weight_decay=0.0005)\n",
    "scheduler = torch.optim.lr_scheduler.StepLR(optimizer, step_size=30, gamma=0.1)\n",
    "\n",
    "EPOCHS = 120\n",
    "epoch_number = 0\n",
    "best_vloss = 1000000.0\n",
    "for epoch in range(EPOCHS):\n",
    "    print(f'EPOCH {epoch_number + 1}:')\n",
    "\n",
    "    # Training phase\n",
    "    avg_train_loss, avg_train_top1_error, avg_train_top5_error = train_one_epoch(\n",
    "        epoch_number,\n",
    "        writer,\n",
    "        alexnet,\n",
    "        training_dataloader,\n",
    "        optimizer,\n",
    "        loss_fn,\n",
    "        device,\n",
    "    )\n",
    "\n",
    "    # Validation phase\n",
    "    avg_val_loss, avg_val_top1_error, avg_val_top5_error = validate_one_epoch(\n",
    "        epoch_number,\n",
    "        writer,\n",
    "        alexnet,\n",
    "        validation_dataloader,\n",
    "        loss_fn,\n",
    "        device\n",
    "    )\n",
    "\n",
    "    print(f'LOSS train {avg_train_loss:.4f} valid {avg_val_loss:.4f}')\n",
    "    print(f'Top-1 Error train {avg_train_top1_error:.2f}% val {avg_val_top1_error:.2f}%')\n",
    "    print(f'Top-5 Error train {avg_train_top5_error:.2f}% val {avg_val_top5_error:.2f}%')\n",
    "\n",
    "    # Update scheduler\n",
    "    scheduler.step()\n",
    "\n",
    "    # Log epoch-level metrics\n",
    "    writer.add_scalars('Training vs. Validation Loss',\n",
    "                    { 'Training': avg_train_loss, 'Validation': avg_val_loss },\n",
    "                    epoch_number + 1)\n",
    "    writer.add_scalars('Training vs. Validation Top-1 Error',\n",
    "                    { 'Training': avg_train_top1_error, 'Validation': avg_val_top1_error },\n",
    "                    epoch_number + 1)\n",
    "    writer.add_scalars('Training vs. Validation Top-5 Error',\n",
    "                    { 'Training': avg_train_top5_error, 'Validation': avg_val_top5_error },\n",
    "                    epoch_number + 1)\n",
    "    writer.add_scalar('Learning rate', scheduler.get_last_lr()[0], epoch_number + 1)\n",
    "    writer.flush()\n",
    "\n",
    "    # Track best performance and save model\n",
    "    if avg_val_loss < best_vloss:\n",
    "        best_vloss = avg_val_loss\n",
    "        model_path = f'models/model_{epoch_number + 1}.pth'  # Save with dynamic name including the epoch number\n",
    "        torch.save(alexnet.state_dict(), model_path)  # Save model\n",
    "\n",
    "    epoch_number += 1"
   ]
  },
  {
   "cell_type": "code",
   "execution_count": null,
   "id": "bbf4cb5a-ba08-4261-a25a-5141f852d620",
   "metadata": {},
   "outputs": [],
   "source": []
  }
 ],
 "metadata": {
  "kernelspec": {
   "display_name": "Python 3 (ipykernel)",
   "language": "python",
   "name": "python3"
  },
  "language_info": {
   "codemirror_mode": {
    "name": "ipython",
    "version": 3
   },
   "file_extension": ".py",
   "mimetype": "text/x-python",
   "name": "python",
   "nbconvert_exporter": "python",
   "pygments_lexer": "ipython3",
   "version": "3.10.12"
  }
 },
 "nbformat": 4,
 "nbformat_minor": 5
}
