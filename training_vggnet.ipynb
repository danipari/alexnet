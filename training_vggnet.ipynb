{
 "cells": [
  {
   "cell_type": "code",
   "execution_count": 1,
   "id": "40cbd089-1a34-45c4-bf4e-3850a2dfa900",
   "metadata": {},
   "outputs": [
    {
     "name": "stdout",
     "output_type": "stream",
     "text": [
      "Collecting tensorboard\n",
      "  Downloading tensorboard-2.19.0-py3-none-any.whl.metadata (1.8 kB)\n",
      "Collecting absl-py>=0.4 (from tensorboard)\n",
      "  Downloading absl_py-2.1.0-py3-none-any.whl.metadata (2.3 kB)\n",
      "Collecting grpcio>=1.48.2 (from tensorboard)\n",
      "  Downloading grpcio-1.70.0-cp310-cp310-manylinux_2_17_x86_64.manylinux2014_x86_64.whl.metadata (3.9 kB)\n",
      "Collecting markdown>=2.6.8 (from tensorboard)\n",
      "  Downloading Markdown-3.7-py3-none-any.whl.metadata (7.0 kB)\n",
      "Requirement already satisfied: numpy>=1.12.0 in /usr/local/lib/python3.10/dist-packages (from tensorboard) (1.24.1)\n",
      "Requirement already satisfied: packaging in /usr/local/lib/python3.10/dist-packages (from tensorboard) (23.2)\n",
      "Collecting protobuf!=4.24.0,>=3.19.6 (from tensorboard)\n",
      "  Downloading protobuf-5.29.3-cp38-abi3-manylinux2014_x86_64.whl.metadata (592 bytes)\n",
      "Requirement already satisfied: setuptools>=41.0.0 in /usr/local/lib/python3.10/dist-packages (from tensorboard) (68.2.2)\n",
      "Requirement already satisfied: six>1.9 in /usr/lib/python3/dist-packages (from tensorboard) (1.16.0)\n",
      "Collecting tensorboard-data-server<0.8.0,>=0.7.0 (from tensorboard)\n",
      "  Downloading tensorboard_data_server-0.7.2-py3-none-manylinux_2_31_x86_64.whl.metadata (1.1 kB)\n",
      "Collecting werkzeug>=1.0.1 (from tensorboard)\n",
      "  Downloading werkzeug-3.1.3-py3-none-any.whl.metadata (3.7 kB)\n",
      "Requirement already satisfied: MarkupSafe>=2.1.1 in /usr/local/lib/python3.10/dist-packages (from werkzeug>=1.0.1->tensorboard) (2.1.2)\n",
      "Downloading tensorboard-2.19.0-py3-none-any.whl (5.5 MB)\n",
      "\u001b[2K   \u001b[90m━━━━━━━━━━━━━━━━━━━━━━━━━━━━━━━━━━━━━━━━\u001b[0m \u001b[32m5.5/5.5 MB\u001b[0m \u001b[31m20.3 MB/s\u001b[0m eta \u001b[36m0:00:00\u001b[0ma \u001b[36m0:00:01\u001b[0m\n",
      "\u001b[?25hDownloading absl_py-2.1.0-py3-none-any.whl (133 kB)\n",
      "\u001b[2K   \u001b[90m━━━━━━━━━━━━━━━━━━━━━━━━━━━━━━━━━━━━━━━━\u001b[0m \u001b[32m133.7/133.7 kB\u001b[0m \u001b[31m50.0 MB/s\u001b[0m eta \u001b[36m0:00:00\u001b[0m\n",
      "\u001b[?25hDownloading grpcio-1.70.0-cp310-cp310-manylinux_2_17_x86_64.manylinux2014_x86_64.whl (5.9 MB)\n",
      "\u001b[2K   \u001b[90m━━━━━━━━━━━━━━━━━━━━━━━━━━━━━━━━━━━━━━━━\u001b[0m \u001b[32m5.9/5.9 MB\u001b[0m \u001b[31m46.0 MB/s\u001b[0m eta \u001b[36m0:00:00\u001b[0ma \u001b[36m0:00:01\u001b[0mm\n",
      "\u001b[?25hDownloading Markdown-3.7-py3-none-any.whl (106 kB)\n",
      "\u001b[2K   \u001b[90m━━━━━━━━━━━━━━━━━━━━━━━━━━━━━━━━━━━━━━━━\u001b[0m \u001b[32m106.3/106.3 kB\u001b[0m \u001b[31m41.4 MB/s\u001b[0m eta \u001b[36m0:00:00\u001b[0m\n",
      "\u001b[?25hDownloading protobuf-5.29.3-cp38-abi3-manylinux2014_x86_64.whl (319 kB)\n",
      "\u001b[2K   \u001b[90m━━━━━━━━━━━━━━━━━━━━━━━━━━━━━━━━━━━━━━━━\u001b[0m \u001b[32m319.7/319.7 kB\u001b[0m \u001b[31m90.5 MB/s\u001b[0m eta \u001b[36m0:00:00\u001b[0m\n",
      "\u001b[?25hDownloading tensorboard_data_server-0.7.2-py3-none-manylinux_2_31_x86_64.whl (6.6 MB)\n",
      "\u001b[2K   \u001b[90m━━━━━━━━━━━━━━━━━━━━━━━━━━━━━━━━━━━━━━━━\u001b[0m \u001b[32m6.6/6.6 MB\u001b[0m \u001b[31m77.3 MB/s\u001b[0m eta \u001b[36m0:00:00\u001b[0mta \u001b[36m0:00:01\u001b[0m\n",
      "\u001b[?25hDownloading werkzeug-3.1.3-py3-none-any.whl (224 kB)\n",
      "\u001b[2K   \u001b[90m━━━━━━━━━━━━━━━━━━━━━━━━━━━━━━━━━━━━━━━━\u001b[0m \u001b[32m224.5/224.5 kB\u001b[0m \u001b[31m70.8 MB/s\u001b[0m eta \u001b[36m0:00:00\u001b[0m\n",
      "\u001b[?25hInstalling collected packages: werkzeug, tensorboard-data-server, protobuf, markdown, grpcio, absl-py, tensorboard\n",
      "Successfully installed absl-py-2.1.0 grpcio-1.70.0 markdown-3.7 protobuf-5.29.3 tensorboard-2.19.0 tensorboard-data-server-0.7.2 werkzeug-3.1.3\n",
      "\u001b[33mWARNING: Running pip as the 'root' user can result in broken permissions and conflicting behaviour with the system package manager. It is recommended to use a virtual environment instead: https://pip.pypa.io/warnings/venv\u001b[0m\u001b[33m\n",
      "\u001b[0m\n",
      "\u001b[1m[\u001b[0m\u001b[34;49mnotice\u001b[0m\u001b[1;39;49m]\u001b[0m\u001b[39;49m A new release of pip is available: \u001b[0m\u001b[31;49m23.3.1\u001b[0m\u001b[39;49m -> \u001b[0m\u001b[32;49m25.0.1\u001b[0m\n",
      "\u001b[1m[\u001b[0m\u001b[34;49mnotice\u001b[0m\u001b[1;39;49m]\u001b[0m\u001b[39;49m To update, run: \u001b[0m\u001b[32;49mpython -m pip install --upgrade pip\u001b[0m\n",
      "Collecting scipy\n",
      "  Downloading scipy-1.15.1-cp310-cp310-manylinux_2_17_x86_64.manylinux2014_x86_64.whl.metadata (61 kB)\n",
      "\u001b[2K     \u001b[90m━━━━━━━━━━━━━━━━━━━━━━━━━━━━━━━━━━━━━━━━\u001b[0m \u001b[32m62.0/62.0 kB\u001b[0m \u001b[31m1.1 MB/s\u001b[0m eta \u001b[36m0:00:00\u001b[0mta \u001b[36m0:00:01\u001b[0m\n",
      "\u001b[?25hRequirement already satisfied: numpy<2.5,>=1.23.5 in /usr/local/lib/python3.10/dist-packages (from scipy) (1.24.1)\n",
      "Downloading scipy-1.15.1-cp310-cp310-manylinux_2_17_x86_64.manylinux2014_x86_64.whl (40.6 MB)\n",
      "\u001b[2K   \u001b[90m━━━━━━━━━━━━━━━━━━━━━━━━━━━━━━━━━━━━━━━━\u001b[0m \u001b[32m40.6/40.6 MB\u001b[0m \u001b[31m26.4 MB/s\u001b[0m eta \u001b[36m0:00:00\u001b[0m00:01\u001b[0m00:01\u001b[0m\n",
      "\u001b[?25hInstalling collected packages: scipy\n",
      "Successfully installed scipy-1.15.1\n",
      "\u001b[33mWARNING: Running pip as the 'root' user can result in broken permissions and conflicting behaviour with the system package manager. It is recommended to use a virtual environment instead: https://pip.pypa.io/warnings/venv\u001b[0m\u001b[33m\n",
      "\u001b[0m\n",
      "\u001b[1m[\u001b[0m\u001b[34;49mnotice\u001b[0m\u001b[1;39;49m]\u001b[0m\u001b[39;49m A new release of pip is available: \u001b[0m\u001b[31;49m23.3.1\u001b[0m\u001b[39;49m -> \u001b[0m\u001b[32;49m25.0.1\u001b[0m\n",
      "\u001b[1m[\u001b[0m\u001b[34;49mnotice\u001b[0m\u001b[1;39;49m]\u001b[0m\u001b[39;49m To update, run: \u001b[0m\u001b[32;49mpython -m pip install --upgrade pip\u001b[0m\n"
     ]
    }
   ],
   "source": [
    "!pip install tensorboard\n",
    "!pip install scipy"
   ]
  },
  {
   "cell_type": "code",
   "execution_count": 2,
   "id": "39ef2e47-6e1c-457e-b150-abfd7b1c4532",
   "metadata": {},
   "outputs": [],
   "source": [
    "from tqdm import tqdm\n",
    "from datetime import datetime\n",
    "import numpy as np\n",
    "import random\n",
    "import torch\n",
    "import torch.nn as nn\n",
    "import torchvision\n",
    "from torchvision import transforms\n",
    "from torch.utils.tensorboard import SummaryWriter\n",
    "import os"
   ]
  },
  {
   "cell_type": "code",
   "execution_count": 3,
   "id": "3a6aa3f1-dac8-43ae-ae12-3a18b2decab8",
   "metadata": {},
   "outputs": [],
   "source": [
    "import torch.backends.cudnn as cudnn\n",
    "cudnn.benchmark = True"
   ]
  },
  {
   "cell_type": "code",
   "execution_count": 4,
   "id": "79ff988f-a4f0-489f-94c4-0c16525188cb",
   "metadata": {},
   "outputs": [],
   "source": [
    "class VggNet(torch.nn.Module):\n",
    "    def __init__(self, num_classes=1000, vgg=16):\n",
    "        \"\"\"\n",
    "        VGGNet implementation for image classification.\n",
    "\n",
    "        Args:\n",
    "            num_classes (int, optional): Number of output classes. Default is 1000 (for ImageNet).\n",
    "            vgg (int, optional): VGG configuration, either 11, 13, 16 or 19 for VGG-11, VGG-16 or VGG-19. \n",
    "                                    Default is 19.\n",
    "        \"\"\"\n",
    "        super(VggNet, self).__init__()\n",
    "        self.num_classes = num_classes\n",
    "\n",
    "        if vgg not in (11, 13, 16, 19):\n",
    "            raise ValueError(\"vgg must be 11, 13, 16, or 19\")\n",
    "\n",
    "        # Define the number of convolutional layers per block based on the VGG variant.\n",
    "        # Canonical configurations:\n",
    "        # VGG-11: [1, 1, 2, 2, 2]\n",
    "        # VGG-13: [2, 2, 2, 2, 2]\n",
    "        # VGG-16: [2, 2, 3, 3, 3]\n",
    "        # VGG-19: [2, 2, 4, 4, 4]\n",
    "        if vgg == 11:\n",
    "            conv_counts = [1, 1, 2, 2, 2]\n",
    "        elif vgg == 13:\n",
    "            conv_counts = [2, 2, 2, 2, 2]\n",
    "        elif vgg == 16:\n",
    "            conv_counts = [2, 2, 3, 3, 3]\n",
    "        else:  # vgg == 19\n",
    "            conv_counts = [2, 2, 4, 4, 4]\n",
    "\n",
    "        # Build convolutional blocks \n",
    "        self.block1 = self._create_conv_block(in_channels=3,   out_channels=64,  num_convs=conv_counts[0])\n",
    "        self.block2 = self._create_conv_block(in_channels=64,  out_channels=128, num_convs=conv_counts[1])\n",
    "        self.block3 = self._create_conv_block(in_channels=128, out_channels=256, num_convs=conv_counts[2])\n",
    "        self.block4 = self._create_conv_block(in_channels=256, out_channels=512, num_convs=conv_counts[3])\n",
    "        self.block5 = self._create_conv_block(in_channels=512, out_channels=512, num_convs=conv_counts[4])\n",
    "\n",
    "        # Fully connected classifier for training mode (after flattening)\n",
    "        self.classifier = nn.Sequential(\n",
    "            nn.Linear(512 * 7 * 7, 4096),  # for 224x224 input images\n",
    "            nn.ReLU(inplace=True),\n",
    "            nn.Dropout(p=0.5),\n",
    "            nn.Linear(4096, 4096),\n",
    "            nn.ReLU(inplace=True),\n",
    "            nn.Dropout(p=0.5),\n",
    "            nn.Linear(4096, num_classes)\n",
    "        )\n",
    "        \n",
    "        # Save fully connected layers to transfer weights later on\n",
    "        self.fc1 = self.classifier[0]\n",
    "        self.fc2 = self.classifier[3]\n",
    "        self.fc3 = self.classifier[6]\n",
    "\n",
    "        # Convolutional classifier for evaluation\n",
    "        self.conv_classifier = nn.Sequential(\n",
    "            nn.Conv2d(512, 4096, kernel_size=7),\n",
    "            nn.ReLU(inplace=True),\n",
    "            nn.Conv2d(4096, 4096, kernel_size=1),\n",
    "            nn.ReLU(inplace=True),\n",
    "            nn.Conv2d(4096, num_classes, kernel_size=1),\n",
    "            nn.AdaptiveAvgPool2d(1)\n",
    "        )\n",
    "\n",
    "        # Weight initialization recursively to all submodules\n",
    "        self.apply(self._initialize_weights)\n",
    "\n",
    "\n",
    "    def _create_conv_block(self, in_channels, out_channels, num_convs):\n",
    "        \"\"\"\n",
    "        Create a convolutional block as:\n",
    "        [num_convs x (Conv2d -> ReLU)] -> MaxPool2d\n",
    "\n",
    "        Args:\n",
    "            in_channels (int): Number of input channels.\n",
    "            out_channels (int): Number of output channels.\n",
    "            num_convs (int): Number of convolutional layers in the block.\n",
    "        Returns:\n",
    "            nn.Sequential: The convolutional block.\n",
    "        \"\"\"\n",
    "        layers = []\n",
    "        for _ in range(num_convs):\n",
    "            layers.append(nn.Conv2d(in_channels, out_channels, kernel_size=3, stride=1, padding=1))\n",
    "            layers.append(nn.ReLU(inplace=True))\n",
    "            in_channels = out_channels  # the next convolution uses out_channels as input\n",
    "\n",
    "        layers.append(nn.MaxPool2d(kernel_size=2, stride=2))\n",
    "        return nn.Sequential(*layers)\n",
    "\n",
    "\n",
    "    def _initialize_weights(self, module):\n",
    "        \"\"\"\n",
    "        Initialize the weights using Xavier uniform initialization.\n",
    "        \"\"\"\n",
    "        if isinstance(module, (nn.Conv2d, nn.Linear)):\n",
    "            nn.init.xavier_uniform_(module.weight)\n",
    "            if module.bias is not None:\n",
    "                nn.init.constant_(module.bias, 0.0)\n",
    "\n",
    "    \n",
    "    def fc2conv_weights(self):\n",
    "        \"\"\"\n",
    "        Convert the fully connected classifier weights to convolutional weights for dense evaluation.\n",
    "        \"\"\"\n",
    "        with torch.no_grad():\n",
    "            # First FC layer to first conv layer\n",
    "            self.conv_classifier[0].weight.copy_(self.fc1.weight.view(4096, 512, 7, 7))\n",
    "            self.conv_classifier[0].bias.copy_(self.fc1.bias)\n",
    "\n",
    "            # Second FC layer to third conv layer\n",
    "            self.conv_classifier[2].weight.copy_(self.fc2.weight.view(4096, 4096, 1, 1))\n",
    "            self.conv_classifier[2].bias.copy_(self.fc2.bias)\n",
    "            \n",
    "            # Third FC layer to fifth conv layer\n",
    "            self.conv_classifier[4].weight.copy_(self.fc3.weight.view(self.fc3.out_features, 4096, 1, 1))\n",
    "            self.conv_classifier[4].bias.copy_(self.fc3.bias)\n",
    "\n",
    "    \n",
    "    def forward(self, x):\n",
    "        x = self.block1(x)\n",
    "        x = self.block2(x)\n",
    "        x = self.block3(x)\n",
    "        x = self.block4(x)\n",
    "        x = self.block5(x)\n",
    "        \n",
    "        if self.training:\n",
    "            x = torch.flatten(x, 1)\n",
    "            x = self.classifier(x)\n",
    "        else:\n",
    "            x = self.conv_classifier(x)\n",
    "            # Reshape (n_batch, n_classes, 1, 1) to (n_batch, n_classes) \n",
    "            x = x.squeeze(-1).squeeze(-1) \n",
    "\n",
    "        return x"
   ]
  },
  {
   "cell_type": "code",
   "execution_count": 5,
   "id": "03a581e3-1e55-43d9-88e0-b07f7a97ca6f",
   "metadata": {},
   "outputs": [],
   "source": [
    "# transpose is use to meet the shape of the tensor C x H x W rather than H x W x C\n",
    "mean_pixels = np.float32(np.load('./mean_pixels.npy').transpose(2, 0, 1))\n",
    "\n",
    "def meanSubstraction(x):\n",
    "    return x - mean_pixels\n",
    "\n",
    "def toTensorNoScaling(x):\n",
    "    return torch.from_numpy(np.array(x).transpose(2, 0, 1))\n",
    "\n",
    "def scaleJitter(x, min_size=256, max_size=512):\n",
    "    S = random.randint(min_size, max_size)\n",
    "    return transforms.Resize(S, antialias=True)(x)\n",
    "\n",
    "def multiResize(x):\n",
    "    resized_images = [transforms.Resize(size, antialias=True)(x) for size in [256, 384, 512]]\n",
    "    return resized_images\n",
    "\n",
    "def PCAColorAugmentation(img, std=0.1, eps=1e-6):\n",
    "    # Convert PIL image to numpy array\n",
    "    img = np.array(img)\n",
    "    img_shape = img.shape  # Original shape (H, W, C)\n",
    "    # Flatten to (H*W, 3) for RGB channels\n",
    "    img_flat = img.reshape(-1, 3)\n",
    "    \n",
    "    # Compute covariance matrix between channels (3x3)\n",
    "    img_cov = np.cov(img_flat, rowvar=False)\n",
    "    # Get eigenvalues and eigenvectors (sorted in ascending order)\n",
    "    eig_vals, eig_vecs = np.linalg.eigh(img_cov)\n",
    "    eig_vals = eig_vals[::-1]  # Descending order\n",
    "    eig_vecs = eig_vecs[:, ::-1]\n",
    "    eig_vals = np.maximum(eig_vals, eps)\n",
    "    # Generate random alphas from N(0, std)\n",
    "    alpha = np.random.normal(0, std, 3)\n",
    "    \n",
    "    # Compute correction using sqrt of eigenvalues (standard deviations)\n",
    "    correction = eig_vecs @ (alpha * np.sqrt(eig_vals))\n",
    "    # Reshape correction for broadcasting (1, 3) over all pixels\n",
    "    correction = correction.reshape(1, 3)\n",
    "    # Apply correction and clip values\n",
    "    new_img_flat = img_flat + correction\n",
    "    new_img_flat = np.clip(new_img_flat, 0, 255).astype(np.float32)\n",
    "    # Reshape to original dimensions, transpose to CxHxW and put between [0-1]\n",
    "    new_img = new_img_flat.reshape(img_shape).transpose(2, 0, 1)\n",
    "    \n",
    "    return torch.from_numpy(new_img)  # Shape (C, H, W)\n",
    "\n",
    "# Image transformation\n",
    "transform_train = transforms.Compose([\n",
    "    # Apply PCA color transformation\n",
    "    transforms.Lambda(PCAColorAugmentation),\n",
    "    # Remove mean\n",
    "    transforms.Lambda(meanSubstraction),\n",
    "    # Scale jitter between 256 and 512\n",
    "    transforms.Lambda(scaleJitter),\n",
    "    # 224x224 random crop \n",
    "    transforms.RandomCrop(224),\n",
    "    # Horizontal reflection with p=0.5\n",
    "    transforms.RandomHorizontalFlip(p=0.5),\n",
    "])\n",
    "\n",
    "transform_val = transforms.Compose([\n",
    "    # Transform to tensor without scaling\n",
    "    transforms.Lambda(toTensorNoScaling),\n",
    "    # Remove mean\n",
    "    transforms.Lambda(meanSubstraction),\n",
    "    # Resize to 256, 384 and 512\n",
    "    transforms.Lambda(multiResize),\n",
    "])"
   ]
  },
  {
   "cell_type": "code",
   "execution_count": 6,
   "id": "c9a9683f-0df3-4542-b509-f6c3b05cadd2",
   "metadata": {},
   "outputs": [],
   "source": [
    "def train_one_epoch(epoch_index, writer, model, training_dataloader, optimizer, loss_fn, device, scaler, log_batches=1000):\n",
    "    \"\"\"\n",
    "    Trains VGG for one epoch, tracking loss, top-1 and top-5 error rates.\n",
    "    \n",
    "    Args:\n",
    "        epoch_index (int): Current epoch number.\n",
    "        writer (SummaryWriter): TensorBoard writer object.\n",
    "        model (VggNet): VGG model instance.\n",
    "        training_dataloader (DataLoader): PyTorch dataloader for training data.\n",
    "        optimizer (torch.optim.Optimizer): Optimizer instance.\n",
    "        loss_fn (nn.Module): Loss function.\n",
    "        device (torch.device): Device to train on (cuda/cpu).\n",
    "    \n",
    "    Returns:\n",
    "        tuple: (average_loss, average_top1_error, average_top5_error) for the epoch.\n",
    "    \"\"\"\n",
    "    total_loss = 0.0\n",
    "    running_loss = 0.0\n",
    "    total_top1_error = 0.0\n",
    "    total_top5_error = 0.0\n",
    "    running_top1_error = 0.0\n",
    "    running_top5_error = 0.0\n",
    "    \n",
    "    # Ensure model is in training mode\n",
    "    model.train()\n",
    "    \n",
    "    for i, data in enumerate(tqdm(training_dataloader)):\n",
    "        inputs, labels = data\n",
    "        inputs = inputs.to(device, memory_format=torch.channels_last)\n",
    "        labels = labels.to(device)\n",
    "        \n",
    "        # Forward pass under mixed precision context\n",
    "        with torch.cuda.amp.autocast():\n",
    "            outputs = model(inputs)\n",
    "            loss = loss_fn(outputs, labels)\n",
    "        \n",
    "        # Backward pass and optimize\n",
    "        optimizer.zero_grad()\n",
    "        scaler.scale(loss).backward()\n",
    "        scaler.step(optimizer)\n",
    "        scaler.update()\n",
    "\n",
    "        # Calculate top-1 and top-5 error rates\n",
    "        _, top5_preds = outputs.topk(5, dim=1, largest=True, sorted=True)\n",
    "        correct_top1 = top5_preds[:, 0] == labels\n",
    "        correct_top5 = top5_preds.eq(labels.view(-1, 1)).sum(dim=1) > 0\n",
    "        top1_error = 1 - correct_top1.sum().item() / labels.size(0)\n",
    "        top5_error = 1 - correct_top5.sum().item() / labels.size(0)\n",
    "        \n",
    "        # Update running statistics\n",
    "        running_loss += loss.item()\n",
    "        running_top1_error += top1_error\n",
    "        running_top5_error += top5_error\n",
    "\n",
    "        # Update total statistics\n",
    "        total_loss += loss.item() \n",
    "        total_top1_error += top1_error\n",
    "        total_top5_error += top5_error\n",
    "        \n",
    "        # Log every 1000 batches\n",
    "        if i % log_batches == (log_batches-1):\n",
    "            avg_running_loss = running_loss / log_batches\n",
    "            avg_top1_error = 100.0 * running_top1_error / log_batches\n",
    "            avg_top5_error = 100.0 * running_top5_error / log_batches\n",
    "                        \n",
    "            # Log to TensorBoard\n",
    "            tb_x = epoch_index * len(training_dataloader) + i + 1\n",
    "            writer.add_scalar('Loss/train_step', avg_running_loss, tb_x)\n",
    "            writer.add_scalar('Top-1 error/train_step', avg_top1_error, tb_x)\n",
    "            writer.add_scalar('Top-5 error/train_step', avg_top5_error, tb_x)\n",
    "\n",
    "            print(f'  Batch {tb_x} Loss: {avg_running_loss:.4f} Top-1 error rate: {avg_top1_error:.2f}% Top-5 error rate: {avg_top5_error:.2f}%')\n",
    "            \n",
    "            running_loss = 0.0\n",
    "            running_top1_error = 0.0\n",
    "            running_top5_error = 0.0\n",
    "    \n",
    "    # Calculate epoch-level metrics\n",
    "    avg_epoch_loss = total_loss / len(training_dataloader)\n",
    "    avg_top1_error = 100.0 * total_top1_error / len(training_dataloader)\n",
    "    avg_top5_error = 100.0 * total_top5_error / len(training_dataloader)\n",
    "    \n",
    "    return avg_epoch_loss, avg_top1_error, avg_top5_error"
   ]
  },
  {
   "cell_type": "code",
   "execution_count": 7,
   "id": "ee3fea41-f3d7-4728-97db-4b1825862303",
   "metadata": {},
   "outputs": [],
   "source": [
    "def validate_one_epoch(epoch_index, writer, model, validation_dataloader, loss_fn, device):\n",
    "    \"\"\"\n",
    "    Validates VGG for one epoch, tracking loss, top-1 and top-5 error rates.\n",
    "    \n",
    "    Args:\n",
    "        epoch_index (int): Current epoch number.\n",
    "        writer (SummaryWriter): TensorBoard writer object.\n",
    "        model (VggNet): VGG model instance.\n",
    "        validation_dataloader (DataLoader): PyTorch dataloader for validation data.\n",
    "        loss_fn (nn.Module): Loss function.\n",
    "        device (torch.device): Device to run validation on (cuda/cpu).\n",
    "    \n",
    "    Returns:\n",
    "        tuple: (average_loss, average_top1_error, average_top5_error) for the epoch.\n",
    "    \"\"\"\n",
    "    total_loss = 0.0\n",
    "    total_top1_error = 0.0\n",
    "    total_top5_error = 0.0\n",
    "    running_loss = 0.0\n",
    "    running_top1_error = 0.0\n",
    "    running_top5_error = 0.0\n",
    "    \n",
    "    # Ensure model is in evaluation mode\n",
    "    model.eval()\n",
    "    # Transfer fully connected weights to convolutional layers\n",
    "    model.fc2conv_weights()\n",
    "    \n",
    "    with torch.no_grad():  # Disable gradient computation\n",
    "        for i, data in enumerate(tqdm(validation_dataloader, desc='Validation')):\n",
    "            inputs, labels = data\n",
    "            # Move each crop tensor in the inputs tuple to the device\n",
    "            inputs = [inp.to(device, memory_format=torch.channels_last) for inp in inputs]\n",
    "            labels = labels.to(device)\n",
    "\n",
    "            with torch.cuda.amp.autocast():\n",
    "                outputs = []\n",
    "                for inp in inputs:\n",
    "                    out = model(inp)\n",
    "                    outputs.append(out)\n",
    "        \n",
    "                # Forward pass through the model\n",
    "                outputs = torch.stack(outputs)     # Shape (3, batch, num_classes)\n",
    "                avg_outputs = outputs.mean(dim=0)  # Shape (batch, num_classes)\n",
    "                \n",
    "                # Calculate loss using averaged outputs\n",
    "                loss = loss_fn(avg_outputs, labels)\n",
    "            \n",
    "            # Calculate top-1 and top-5 error rates\n",
    "            _, top5_preds = avg_outputs.topk(5, dim=1, largest=True, sorted=True)\n",
    "            correct_top1 = top5_preds[:, 0] == labels\n",
    "            correct_top5 = top5_preds.eq(labels.view(-1, 1)).any(dim=1)\n",
    "            top1_error = 1 - correct_top1.float().mean().item()\n",
    "            top5_error = 1 - correct_top5.float().mean().item()\n",
    "            \n",
    "            # Update running statistics\n",
    "            running_loss += loss.item()\n",
    "            running_top1_error += top1_error\n",
    "            running_top5_error += top5_error\n",
    "\n",
    "            # Update total statistics\n",
    "            total_loss += loss.item()\n",
    "            total_top1_error += top1_error\n",
    "            total_top5_error += top5_error\n",
    "            \n",
    "            # Log every 100 batches\n",
    "            if i % 100 == 99:\n",
    "                avg_running_loss = running_loss / 100\n",
    "                avg_top1_error = 100.0 * running_top1_error / 100\n",
    "                avg_top5_error = 100.0 * running_top5_error / 100\n",
    "                \n",
    "                print(f'  Validation Batch {i + 1:5d} Loss: {avg_running_loss:.4f} Top-1 error: {avg_top1_error:.2f}% Top-5 error: {avg_top5_error:.2f}%')\n",
    "                \n",
    "                # Log to TensorBoard\n",
    "                tb_x = epoch_index * len(validation_dataloader) + i + 1\n",
    "                writer.add_scalar('Loss/val_step', avg_running_loss, tb_x)\n",
    "                writer.add_scalar('Top-1 error/val_step', avg_top1_error, tb_x)\n",
    "                writer.add_scalar('Top-5 error/val_step', avg_top5_error, tb_x)\n",
    "                \n",
    "                # Reset running statistics\n",
    "                running_loss = 0.0\n",
    "                running_top1_error = 0.0\n",
    "                running_top5_error = 0.0\n",
    "    \n",
    "    # Calculate epoch-level metrics\n",
    "    avg_epoch_loss = total_loss / len(validation_dataloader)\n",
    "    avg_top1_error = 100.0 * total_top1_error / len(validation_dataloader)\n",
    "    avg_top5_error = 100.0 * total_top5_error / len(validation_dataloader)\n",
    "    \n",
    "    return avg_epoch_loss, avg_top1_error, avg_top5_error"
   ]
  },
  {
   "cell_type": "code",
   "execution_count": 8,
   "id": "73513f57-0c03-46a0-a5d0-5b1770e9c759",
   "metadata": {},
   "outputs": [],
   "source": [
    "device = torch.device('cuda' if torch.cuda.is_available() else 'cpu')\n",
    "# Create model\n",
    "vggnet = VggNet(num_classes=1000, vgg=16)\n",
    "vggnet.to(device, memory_format=torch.channels_last)\n",
    "# Compile model\n",
    "compiled_vggnet = torch.compile(vggnet)"
   ]
  },
  {
   "cell_type": "code",
   "execution_count": 9,
   "id": "91ae3ad2-da4c-48d6-8197-9ad9931f0a5c",
   "metadata": {},
   "outputs": [
    {
     "name": "stdout",
     "output_type": "stream",
     "text": [
      "Loading data...\n",
      "Finished loading\n"
     ]
    }
   ],
   "source": [
    "filepath = '../imagenet'\n",
    "print('Loading data...')\n",
    "training_data = torchvision.datasets.ImageNet(filepath, split='train', transform=transform_train)\n",
    "validation_data = torchvision.datasets.ImageNet(filepath, split='val', transform=transform_val)\n",
    "\n",
    "training_dataloader = torch.utils.data.DataLoader(\n",
    "    training_data,\n",
    "    batch_size=256,  \n",
    "    shuffle=True,\n",
    "    num_workers=16,  \n",
    "    prefetch_factor=4,  \n",
    "    persistent_workers=True,\n",
    "    pin_memory=True,\n",
    ")\n",
    "\n",
    "validation_dataloader = torch.utils.data.DataLoader(\n",
    "    validation_data,\n",
    "    batch_size=128,  # I will get 3 out of each\n",
    "    shuffle=False,\n",
    "    num_workers=8,\n",
    "    prefetch_factor=4,\n",
    "    persistent_workers=True,\n",
    "    pin_memory=True\n",
    ")\n",
    "print('Finished loading')"
   ]
  },
  {
   "cell_type": "code",
   "execution_count": 10,
   "id": "07317d4f-321b-4084-bcd8-f1e36ec4dc58",
   "metadata": {},
   "outputs": [
    {
     "name": "stdout",
     "output_type": "stream",
     "text": [
      "EPOCH 1:\n"
     ]
    },
    {
     "name": "stderr",
     "output_type": "stream",
     "text": [
      " 20%|█▉        | 1000/5005 [04:51<16:57,  3.94it/s]"
     ]
    },
    {
     "name": "stdout",
     "output_type": "stream",
     "text": [
      "  Batch 1000 Loss: 6.8782 Top-1 error rate: 99.86% Top-5 error rate: 99.29%\n"
     ]
    },
    {
     "name": "stderr",
     "output_type": "stream",
     "text": [
      " 40%|███▉      | 2000/5005 [09:05<12:45,  3.92it/s]"
     ]
    },
    {
     "name": "stdout",
     "output_type": "stream",
     "text": [
      "  Batch 2000 Loss: 6.8314 Top-1 error rate: 99.77% Top-5 error rate: 98.94%\n"
     ]
    },
    {
     "name": "stderr",
     "output_type": "stream",
     "text": [
      " 60%|█████▉    | 3000/5005 [13:20<08:30,  3.93it/s]"
     ]
    },
    {
     "name": "stdout",
     "output_type": "stream",
     "text": [
      "  Batch 3000 Loss: 6.7859 Top-1 error rate: 99.76% Top-5 error rate: 98.91%\n"
     ]
    },
    {
     "name": "stderr",
     "output_type": "stream",
     "text": [
      " 80%|███████▉  | 4000/5005 [17:34<04:17,  3.91it/s]"
     ]
    },
    {
     "name": "stdout",
     "output_type": "stream",
     "text": [
      "  Batch 4000 Loss: 6.7044 Top-1 error rate: 99.60% Top-5 error rate: 98.31%\n"
     ]
    },
    {
     "name": "stderr",
     "output_type": "stream",
     "text": [
      "100%|█████████▉| 5000/5005 [21:48<00:01,  3.95it/s]"
     ]
    },
    {
     "name": "stdout",
     "output_type": "stream",
     "text": [
      "  Batch 5000 Loss: 6.4338 Top-1 error rate: 99.20% Top-5 error rate: 96.71%\n"
     ]
    },
    {
     "name": "stderr",
     "output_type": "stream",
     "text": [
      "100%|██████████| 5005/5005 [22:03<00:00,  3.78it/s]\n",
      "Validation:  26%|██▌       | 100/391 [01:23<01:49,  2.65it/s]"
     ]
    },
    {
     "name": "stdout",
     "output_type": "stream",
     "text": [
      "  Validation Batch   100 Loss: 6.1989 Top-1 error: 99.38% Top-5 error: 95.47%\n"
     ]
    },
    {
     "name": "stderr",
     "output_type": "stream",
     "text": [
      "Validation:  51%|█████     | 200/391 [02:01<01:12,  2.63it/s]"
     ]
    },
    {
     "name": "stdout",
     "output_type": "stream",
     "text": [
      "  Validation Batch   200 Loss: 6.1400 Top-1 error: 99.06% Top-5 error: 95.48%\n"
     ]
    },
    {
     "name": "stderr",
     "output_type": "stream",
     "text": [
      "Validation:  77%|███████▋  | 300/391 [02:40<00:34,  2.64it/s]"
     ]
    },
    {
     "name": "stdout",
     "output_type": "stream",
     "text": [
      "  Validation Batch   300 Loss: 6.1982 Top-1 error: 98.79% Top-5 error: 95.73%\n"
     ]
    },
    {
     "name": "stderr",
     "output_type": "stream",
     "text": [
      "Validation: 100%|██████████| 391/391 [03:25<00:00,  1.90it/s]\n"
     ]
    },
    {
     "name": "stdout",
     "output_type": "stream",
     "text": [
      "LOSS train 6.7262 valid 6.1447\n",
      "Top-1 Error train 99.64% val 98.73%\n",
      "Top-5 Error train 98.43% val 94.69%\n",
      "EPOCH 2:\n"
     ]
    },
    {
     "name": "stderr",
     "output_type": "stream",
     "text": [
      " 20%|█▉        | 1000/5005 [04:19<17:01,  3.92it/s]"
     ]
    },
    {
     "name": "stdout",
     "output_type": "stream",
     "text": [
      "  Batch 6005 Loss: 6.1767 Top-1 error rate: 98.72% Top-5 error rate: 94.80%\n"
     ]
    },
    {
     "name": "stderr",
     "output_type": "stream",
     "text": [
      " 40%|███▉      | 2000/5005 [08:34<12:46,  3.92it/s]"
     ]
    },
    {
     "name": "stdout",
     "output_type": "stream",
     "text": [
      "  Batch 7005 Loss: 5.9268 Top-1 error rate: 97.87% Top-5 error rate: 92.08%\n"
     ]
    },
    {
     "name": "stderr",
     "output_type": "stream",
     "text": [
      " 60%|█████▉    | 3000/5005 [12:48<08:31,  3.92it/s]"
     ]
    },
    {
     "name": "stdout",
     "output_type": "stream",
     "text": [
      "  Batch 8005 Loss: 5.6961 Top-1 error rate: 96.86% Top-5 error rate: 89.00%\n"
     ]
    },
    {
     "name": "stderr",
     "output_type": "stream",
     "text": [
      " 80%|███████▉  | 4000/5005 [17:04<04:23,  3.82it/s]"
     ]
    },
    {
     "name": "stdout",
     "output_type": "stream",
     "text": [
      "  Batch 9005 Loss: 5.4882 Top-1 error rate: 95.66% Top-5 error rate: 85.78%\n"
     ]
    },
    {
     "name": "stderr",
     "output_type": "stream",
     "text": [
      "100%|█████████▉| 5000/5005 [21:19<00:01,  3.93it/s]"
     ]
    },
    {
     "name": "stdout",
     "output_type": "stream",
     "text": [
      "  Batch 10005 Loss: 5.2995 Top-1 error rate: 94.37% Top-5 error rate: 82.88%\n"
     ]
    },
    {
     "name": "stderr",
     "output_type": "stream",
     "text": [
      "100%|██████████| 5005/5005 [21:20<00:00,  3.91it/s]\n",
      "Validation:  26%|██▌       | 100/391 [00:44<01:49,  2.66it/s]"
     ]
    },
    {
     "name": "stdout",
     "output_type": "stream",
     "text": [
      "  Validation Batch   100 Loss: 4.6891 Top-1 error: 90.93% Top-5 error: 73.66%\n"
     ]
    },
    {
     "name": "stderr",
     "output_type": "stream",
     "text": [
      "Validation:  51%|█████     | 200/391 [01:26<01:20,  2.36it/s]"
     ]
    },
    {
     "name": "stdout",
     "output_type": "stream",
     "text": [
      "  Validation Batch   200 Loss: 4.9723 Top-1 error: 92.16% Top-5 error: 77.88%\n"
     ]
    },
    {
     "name": "stderr",
     "output_type": "stream",
     "text": [
      "Validation:  77%|███████▋  | 300/391 [02:09<00:37,  2.40it/s]"
     ]
    },
    {
     "name": "stdout",
     "output_type": "stream",
     "text": [
      "  Validation Batch   300 Loss: 5.2473 Top-1 error: 93.13% Top-5 error: 80.76%\n"
     ]
    },
    {
     "name": "stderr",
     "output_type": "stream",
     "text": [
      "Validation: 100%|██████████| 391/391 [02:47<00:00,  2.34it/s]\n"
     ]
    },
    {
     "name": "stdout",
     "output_type": "stream",
     "text": [
      "LOSS train 5.7170 valid 5.0037\n",
      "Top-1 Error train 96.69% val 92.03%\n",
      "Top-5 Error train 88.90% val 77.56%\n",
      "EPOCH 3:\n"
     ]
    },
    {
     "name": "stderr",
     "output_type": "stream",
     "text": [
      " 20%|█▉        | 1000/5005 [04:17<16:57,  3.94it/s]"
     ]
    },
    {
     "name": "stdout",
     "output_type": "stream",
     "text": [
      "  Batch 11010 Loss: 5.1186 Top-1 error rate: 92.96% Top-5 error rate: 79.60%\n"
     ]
    },
    {
     "name": "stderr",
     "output_type": "stream",
     "text": [
      " 40%|███▉      | 2000/5005 [08:32<12:54,  3.88it/s]"
     ]
    },
    {
     "name": "stdout",
     "output_type": "stream",
     "text": [
      "  Batch 12010 Loss: 4.9618 Top-1 error rate: 91.61% Top-5 error rate: 76.75%\n"
     ]
    },
    {
     "name": "stderr",
     "output_type": "stream",
     "text": [
      " 60%|█████▉    | 3000/5005 [12:46<08:30,  3.92it/s]"
     ]
    },
    {
     "name": "stdout",
     "output_type": "stream",
     "text": [
      "  Batch 13010 Loss: 4.7974 Top-1 error rate: 90.07% Top-5 error rate: 73.68%\n"
     ]
    },
    {
     "name": "stderr",
     "output_type": "stream",
     "text": [
      " 80%|███████▉  | 4000/5005 [17:00<04:17,  3.91it/s]"
     ]
    },
    {
     "name": "stdout",
     "output_type": "stream",
     "text": [
      "  Batch 14010 Loss: 4.6546 Top-1 error rate: 88.59% Top-5 error rate: 70.89%\n"
     ]
    },
    {
     "name": "stderr",
     "output_type": "stream",
     "text": [
      "100%|█████████▉| 5000/5005 [21:15<00:01,  3.92it/s]"
     ]
    },
    {
     "name": "stdout",
     "output_type": "stream",
     "text": [
      "  Batch 15010 Loss: 4.5216 Top-1 error rate: 87.07% Top-5 error rate: 68.17%\n"
     ]
    },
    {
     "name": "stderr",
     "output_type": "stream",
     "text": [
      "100%|██████████| 5005/5005 [21:16<00:00,  3.92it/s]\n",
      "Validation:  26%|██▌       | 100/391 [00:43<01:50,  2.63it/s]"
     ]
    },
    {
     "name": "stdout",
     "output_type": "stream",
     "text": [
      "  Validation Batch   100 Loss: 3.7157 Top-1 error: 78.67% Top-5 error: 51.00%\n"
     ]
    },
    {
     "name": "stderr",
     "output_type": "stream",
     "text": [
      "Validation:  51%|█████     | 200/391 [01:22<01:11,  2.66it/s]"
     ]
    },
    {
     "name": "stdout",
     "output_type": "stream",
     "text": [
      "  Validation Batch   200 Loss: 4.0879 Top-1 error: 81.70% Top-5 error: 58.27%\n"
     ]
    },
    {
     "name": "stderr",
     "output_type": "stream",
     "text": [
      "Validation:  77%|███████▋  | 300/391 [02:01<00:34,  2.66it/s]"
     ]
    },
    {
     "name": "stdout",
     "output_type": "stream",
     "text": [
      "  Validation Batch   300 Loss: 4.4364 Top-1 error: 84.52% Top-5 error: 64.18%\n"
     ]
    },
    {
     "name": "stderr",
     "output_type": "stream",
     "text": [
      "Validation: 100%|██████████| 391/391 [02:37<00:00,  2.48it/s]\n"
     ]
    },
    {
     "name": "stdout",
     "output_type": "stream",
     "text": [
      "LOSS train 4.8104 valid 4.1125\n",
      "Top-1 Error train 90.06% val 81.69%\n",
      "Top-5 Error train 73.81% val 58.27%\n",
      "EPOCH 4:\n"
     ]
    },
    {
     "name": "stderr",
     "output_type": "stream",
     "text": [
      " 20%|█▉        | 1000/5005 [04:17<16:56,  3.94it/s]"
     ]
    },
    {
     "name": "stdout",
     "output_type": "stream",
     "text": [
      "  Batch 16015 Loss: 4.3871 Top-1 error rate: 85.50% Top-5 error rate: 65.57%\n"
     ]
    },
    {
     "name": "stderr",
     "output_type": "stream",
     "text": [
      " 40%|███▉      | 2000/5005 [08:32<12:43,  3.93it/s]"
     ]
    },
    {
     "name": "stdout",
     "output_type": "stream",
     "text": [
      "  Batch 17015 Loss: 4.2779 Top-1 error rate: 84.18% Top-5 error rate: 63.41%\n"
     ]
    },
    {
     "name": "stderr",
     "output_type": "stream",
     "text": [
      " 60%|█████▉    | 3000/5005 [12:46<08:27,  3.95it/s]"
     ]
    },
    {
     "name": "stdout",
     "output_type": "stream",
     "text": [
      "  Batch 18015 Loss: 4.1871 Top-1 error rate: 82.99% Top-5 error rate: 61.53%\n"
     ]
    },
    {
     "name": "stderr",
     "output_type": "stream",
     "text": [
      " 80%|███████▉  | 4000/5005 [17:00<04:16,  3.92it/s]"
     ]
    },
    {
     "name": "stdout",
     "output_type": "stream",
     "text": [
      "  Batch 19015 Loss: 4.1031 Top-1 error rate: 81.85% Top-5 error rate: 59.88%\n"
     ]
    },
    {
     "name": "stderr",
     "output_type": "stream",
     "text": [
      "100%|█████████▉| 5000/5005 [21:14<00:01,  3.93it/s]"
     ]
    },
    {
     "name": "stdout",
     "output_type": "stream",
     "text": [
      "  Batch 20015 Loss: 4.0178 Top-1 error rate: 80.64% Top-5 error rate: 58.15%\n"
     ]
    },
    {
     "name": "stderr",
     "output_type": "stream",
     "text": [
      "100%|██████████| 5005/5005 [21:15<00:00,  3.92it/s]\n",
      "Validation:  26%|██▌       | 100/391 [00:42<01:49,  2.66it/s]"
     ]
    },
    {
     "name": "stdout",
     "output_type": "stream",
     "text": [
      "  Validation Batch   100 Loss: 3.2304 Top-1 error: 68.17% Top-5 error: 37.74%\n"
     ]
    },
    {
     "name": "stderr",
     "output_type": "stream",
     "text": [
      "Validation:  51%|█████     | 200/391 [01:20<01:11,  2.66it/s]"
     ]
    },
    {
     "name": "stdout",
     "output_type": "stream",
     "text": [
      "  Validation Batch   200 Loss: 3.6357 Top-1 error: 72.85% Top-5 error: 46.76%\n"
     ]
    },
    {
     "name": "stderr",
     "output_type": "stream",
     "text": [
      "Validation:  77%|███████▋  | 300/391 [01:58<00:34,  2.66it/s]"
     ]
    },
    {
     "name": "stdout",
     "output_type": "stream",
     "text": [
      "  Validation Batch   300 Loss: 3.9424 Top-1 error: 75.25% Top-5 error: 51.74%\n"
     ]
    },
    {
     "name": "stderr",
     "output_type": "stream",
     "text": [
      "Validation: 100%|██████████| 391/391 [02:34<00:00,  2.52it/s]\n"
     ]
    },
    {
     "name": "stdout",
     "output_type": "stream",
     "text": [
      "LOSS train 4.1944 valid 3.6464\n",
      "Top-1 Error train 83.03% val 72.45%\n",
      "Top-5 Error train 61.70% val 46.33%\n",
      "EPOCH 5:\n"
     ]
    },
    {
     "name": "stderr",
     "output_type": "stream",
     "text": [
      " 20%|█▉        | 1000/5005 [04:17<17:02,  3.92it/s]"
     ]
    },
    {
     "name": "stdout",
     "output_type": "stream",
     "text": [
      "  Batch 21020 Loss: 3.9255 Top-1 error rate: 79.47% Top-5 error rate: 56.37%\n"
     ]
    },
    {
     "name": "stderr",
     "output_type": "stream",
     "text": [
      " 40%|███▉      | 2000/5005 [08:32<12:44,  3.93it/s]"
     ]
    },
    {
     "name": "stdout",
     "output_type": "stream",
     "text": [
      "  Batch 22020 Loss: 3.8709 Top-1 error rate: 78.88% Top-5 error rate: 55.19%\n"
     ]
    },
    {
     "name": "stderr",
     "output_type": "stream",
     "text": [
      " 60%|█████▉    | 3000/5005 [12:46<08:32,  3.91it/s]"
     ]
    },
    {
     "name": "stdout",
     "output_type": "stream",
     "text": [
      "  Batch 23020 Loss: 3.8015 Top-1 error rate: 77.71% Top-5 error rate: 53.87%\n"
     ]
    },
    {
     "name": "stderr",
     "output_type": "stream",
     "text": [
      " 80%|███████▉  | 4000/5005 [17:00<04:15,  3.94it/s]"
     ]
    },
    {
     "name": "stdout",
     "output_type": "stream",
     "text": [
      "  Batch 24020 Loss: 3.7405 Top-1 error rate: 76.80% Top-5 error rate: 52.70%\n"
     ]
    },
    {
     "name": "stderr",
     "output_type": "stream",
     "text": [
      "100%|█████████▉| 5000/5005 [21:15<00:01,  3.95it/s]"
     ]
    },
    {
     "name": "stdout",
     "output_type": "stream",
     "text": [
      "  Batch 25020 Loss: 3.6862 Top-1 error rate: 75.97% Top-5 error rate: 51.62%\n"
     ]
    },
    {
     "name": "stderr",
     "output_type": "stream",
     "text": [
      "100%|██████████| 5005/5005 [21:16<00:00,  3.92it/s]\n",
      "Validation:  26%|██▌       | 100/391 [00:42<01:49,  2.65it/s]"
     ]
    },
    {
     "name": "stdout",
     "output_type": "stream",
     "text": [
      "  Validation Batch   100 Loss: 3.0000 Top-1 error: 63.85% Top-5 error: 33.00%\n"
     ]
    },
    {
     "name": "stderr",
     "output_type": "stream",
     "text": [
      "Validation:  51%|█████     | 200/391 [01:22<01:12,  2.62it/s]"
     ]
    },
    {
     "name": "stdout",
     "output_type": "stream",
     "text": [
      "  Validation Batch   200 Loss: 3.2441 Top-1 error: 65.41% Top-5 error: 37.49%\n"
     ]
    },
    {
     "name": "stderr",
     "output_type": "stream",
     "text": [
      "Validation:  77%|███████▋  | 300/391 [02:02<00:36,  2.50it/s]"
     ]
    },
    {
     "name": "stdout",
     "output_type": "stream",
     "text": [
      "  Validation Batch   300 Loss: 3.6224 Top-1 error: 69.70% Top-5 error: 44.79%\n"
     ]
    },
    {
     "name": "stderr",
     "output_type": "stream",
     "text": [
      "Validation: 100%|██████████| 391/391 [02:38<00:00,  2.47it/s]\n"
     ]
    },
    {
     "name": "stdout",
     "output_type": "stream",
     "text": [
      "LOSS train 3.8048 valid 3.3461\n",
      "Top-1 Error train 77.76% val 66.89%\n",
      "Top-5 Error train 53.95% val 39.54%\n",
      "EPOCH 6:\n"
     ]
    },
    {
     "name": "stderr",
     "output_type": "stream",
     "text": [
      " 20%|█▉        | 1000/5005 [04:18<16:55,  3.95it/s]"
     ]
    },
    {
     "name": "stdout",
     "output_type": "stream",
     "text": [
      "  Batch 26025 Loss: 3.6304 Top-1 error rate: 75.22% Top-5 error rate: 50.61%\n"
     ]
    },
    {
     "name": "stderr",
     "output_type": "stream",
     "text": [
      " 40%|███▉      | 2000/5005 [08:32<12:43,  3.93it/s]"
     ]
    },
    {
     "name": "stdout",
     "output_type": "stream",
     "text": [
      "  Batch 27025 Loss: 3.5801 Top-1 error rate: 74.40% Top-5 error rate: 49.56%\n"
     ]
    },
    {
     "name": "stderr",
     "output_type": "stream",
     "text": [
      " 60%|█████▉    | 3000/5005 [12:46<08:31,  3.92it/s]"
     ]
    },
    {
     "name": "stdout",
     "output_type": "stream",
     "text": [
      "  Batch 28025 Loss: 3.5328 Top-1 error rate: 73.80% Top-5 error rate: 48.65%\n"
     ]
    },
    {
     "name": "stderr",
     "output_type": "stream",
     "text": [
      " 80%|███████▉  | 4000/5005 [17:00<04:15,  3.93it/s]"
     ]
    },
    {
     "name": "stdout",
     "output_type": "stream",
     "text": [
      "  Batch 29025 Loss: 3.4966 Top-1 error rate: 73.16% Top-5 error rate: 47.81%\n"
     ]
    },
    {
     "name": "stderr",
     "output_type": "stream",
     "text": [
      "100%|█████████▉| 5000/5005 [21:14<00:01,  3.96it/s]"
     ]
    },
    {
     "name": "stdout",
     "output_type": "stream",
     "text": [
      "  Batch 30025 Loss: 3.4542 Top-1 error rate: 72.56% Top-5 error rate: 47.04%\n"
     ]
    },
    {
     "name": "stderr",
     "output_type": "stream",
     "text": [
      "100%|██████████| 5005/5005 [21:16<00:00,  3.92it/s]\n",
      "Validation:  26%|██▌       | 100/391 [00:42<01:49,  2.65it/s]"
     ]
    },
    {
     "name": "stdout",
     "output_type": "stream",
     "text": [
      "  Validation Batch   100 Loss: 2.4814 Top-1 error: 55.30% Top-5 error: 25.00%\n"
     ]
    },
    {
     "name": "stderr",
     "output_type": "stream",
     "text": [
      "Validation:  51%|█████     | 200/391 [01:20<01:11,  2.65it/s]"
     ]
    },
    {
     "name": "stdout",
     "output_type": "stream",
     "text": [
      "  Validation Batch   200 Loss: 2.9122 Top-1 error: 60.18% Top-5 error: 32.35%\n"
     ]
    },
    {
     "name": "stderr",
     "output_type": "stream",
     "text": [
      "Validation:  77%|███████▋  | 300/391 [02:03<00:39,  2.32it/s]"
     ]
    },
    {
     "name": "stdout",
     "output_type": "stream",
     "text": [
      "  Validation Batch   300 Loss: 3.4193 Top-1 error: 66.61% Top-5 error: 40.88%\n"
     ]
    },
    {
     "name": "stderr",
     "output_type": "stream",
     "text": [
      "Validation: 100%|██████████| 391/391 [02:48<00:00,  2.31it/s]\n"
     ]
    },
    {
     "name": "stdout",
     "output_type": "stream",
     "text": [
      "LOSS train 3.5387 valid 3.0030\n",
      "Top-1 Error train 73.83% val 61.44%\n",
      "Top-5 Error train 48.73% val 33.94%\n",
      "EPOCH 7:\n"
     ]
    },
    {
     "name": "stderr",
     "output_type": "stream",
     "text": [
      " 20%|█▉        | 1000/5005 [04:18<17:04,  3.91it/s]"
     ]
    },
    {
     "name": "stdout",
     "output_type": "stream",
     "text": [
      "  Batch 31030 Loss: 3.3866 Top-1 error rate: 71.50% Top-5 error rate: 45.90%\n"
     ]
    },
    {
     "name": "stderr",
     "output_type": "stream",
     "text": [
      " 40%|███▉      | 2000/5005 [08:33<13:00,  3.85it/s]"
     ]
    },
    {
     "name": "stdout",
     "output_type": "stream",
     "text": [
      "  Batch 32030 Loss: 3.3735 Top-1 error rate: 71.19% Top-5 error rate: 45.54%\n"
     ]
    },
    {
     "name": "stderr",
     "output_type": "stream",
     "text": [
      " 60%|█████▉    | 3000/5005 [12:47<08:32,  3.91it/s]"
     ]
    },
    {
     "name": "stdout",
     "output_type": "stream",
     "text": [
      "  Batch 33030 Loss: 3.3490 Top-1 error rate: 70.77% Top-5 error rate: 45.07%\n"
     ]
    },
    {
     "name": "stderr",
     "output_type": "stream",
     "text": [
      " 80%|███████▉  | 4000/5005 [17:02<04:16,  3.92it/s]"
     ]
    },
    {
     "name": "stdout",
     "output_type": "stream",
     "text": [
      "  Batch 34030 Loss: 3.3040 Top-1 error rate: 70.00% Top-5 error rate: 44.15%\n"
     ]
    },
    {
     "name": "stderr",
     "output_type": "stream",
     "text": [
      "100%|█████████▉| 5000/5005 [21:16<00:01,  3.94it/s]"
     ]
    },
    {
     "name": "stdout",
     "output_type": "stream",
     "text": [
      "  Batch 35030 Loss: 3.2836 Top-1 error rate: 69.70% Top-5 error rate: 43.79%\n"
     ]
    },
    {
     "name": "stderr",
     "output_type": "stream",
     "text": [
      "100%|██████████| 5005/5005 [21:17<00:00,  3.92it/s]\n",
      "Validation:  26%|██▌       | 100/391 [00:42<01:49,  2.66it/s]"
     ]
    },
    {
     "name": "stdout",
     "output_type": "stream",
     "text": [
      "  Validation Batch   100 Loss: 2.3780 Top-1 error: 53.90% Top-5 error: 24.09%\n"
     ]
    },
    {
     "name": "stderr",
     "output_type": "stream",
     "text": [
      "Validation:  51%|█████     | 200/391 [01:20<01:16,  2.50it/s]"
     ]
    },
    {
     "name": "stdout",
     "output_type": "stream",
     "text": [
      "  Validation Batch   200 Loss: 2.7445 Top-1 error: 58.16% Top-5 error: 30.09%\n"
     ]
    },
    {
     "name": "stderr",
     "output_type": "stream",
     "text": [
      "Validation:  77%|███████▋  | 300/391 [02:01<00:45,  1.99it/s]"
     ]
    },
    {
     "name": "stdout",
     "output_type": "stream",
     "text": [
      "  Validation Batch   300 Loss: 3.2280 Top-1 error: 63.17% Top-5 error: 37.56%\n"
     ]
    },
    {
     "name": "stderr",
     "output_type": "stream",
     "text": [
      "Validation: 100%|██████████| 391/391 [02:37<00:00,  2.48it/s]\n"
     ]
    },
    {
     "name": "stdout",
     "output_type": "stream",
     "text": [
      "LOSS train 3.3392 valid 2.8503\n",
      "Top-1 Error train 70.63% val 59.18%\n",
      "Top-5 Error train 44.89% val 31.62%\n",
      "EPOCH 8:\n"
     ]
    },
    {
     "name": "stderr",
     "output_type": "stream",
     "text": [
      " 20%|█▉        | 1000/5005 [04:18<16:56,  3.94it/s]"
     ]
    },
    {
     "name": "stdout",
     "output_type": "stream",
     "text": [
      "  Batch 36035 Loss: 3.2341 Top-1 error rate: 68.97% Top-5 error rate: 42.98%\n"
     ]
    },
    {
     "name": "stderr",
     "output_type": "stream",
     "text": [
      " 40%|███▉      | 2000/5005 [08:33<12:41,  3.95it/s]"
     ]
    },
    {
     "name": "stdout",
     "output_type": "stream",
     "text": [
      "  Batch 37035 Loss: 3.2127 Top-1 error rate: 68.58% Top-5 error rate: 42.54%\n"
     ]
    },
    {
     "name": "stderr",
     "output_type": "stream",
     "text": [
      " 60%|█████▉    | 3000/5005 [12:48<08:30,  3.92it/s]"
     ]
    },
    {
     "name": "stdout",
     "output_type": "stream",
     "text": [
      "  Batch 38035 Loss: 3.1961 Top-1 error rate: 68.21% Top-5 error rate: 42.23%\n"
     ]
    },
    {
     "name": "stderr",
     "output_type": "stream",
     "text": [
      " 80%|███████▉  | 4000/5005 [17:03<04:15,  3.93it/s]"
     ]
    },
    {
     "name": "stdout",
     "output_type": "stream",
     "text": [
      "  Batch 39035 Loss: 3.1692 Top-1 error rate: 67.69% Top-5 error rate: 41.64%\n"
     ]
    },
    {
     "name": "stderr",
     "output_type": "stream",
     "text": [
      "100%|█████████▉| 5000/5005 [21:18<00:01,  3.95it/s]"
     ]
    },
    {
     "name": "stdout",
     "output_type": "stream",
     "text": [
      "  Batch 40035 Loss: 3.1504 Top-1 error rate: 67.39% Top-5 error rate: 41.36%\n"
     ]
    },
    {
     "name": "stderr",
     "output_type": "stream",
     "text": [
      "100%|██████████| 5005/5005 [21:20<00:00,  3.91it/s]\n",
      "Validation:  26%|██▌       | 100/391 [00:43<01:50,  2.63it/s]"
     ]
    },
    {
     "name": "stdout",
     "output_type": "stream",
     "text": [
      "  Validation Batch   100 Loss: 2.4788 Top-1 error: 53.98% Top-5 error: 24.09%\n"
     ]
    },
    {
     "name": "stderr",
     "output_type": "stream",
     "text": [
      "Validation:  51%|█████     | 200/391 [01:23<01:21,  2.35it/s]"
     ]
    },
    {
     "name": "stdout",
     "output_type": "stream",
     "text": [
      "  Validation Batch   200 Loss: 2.7304 Top-1 error: 57.69% Top-5 error: 28.95%\n"
     ]
    },
    {
     "name": "stderr",
     "output_type": "stream",
     "text": [
      "Validation:  77%|███████▋  | 300/391 [02:05<00:34,  2.61it/s]"
     ]
    },
    {
     "name": "stdout",
     "output_type": "stream",
     "text": [
      "  Validation Batch   300 Loss: 3.0150 Top-1 error: 60.54% Top-5 error: 34.24%\n"
     ]
    },
    {
     "name": "stderr",
     "output_type": "stream",
     "text": [
      "Validation: 100%|██████████| 391/391 [02:43<00:00,  2.39it/s]\n"
     ]
    },
    {
     "name": "stdout",
     "output_type": "stream",
     "text": [
      "LOSS train 3.1925 valid 2.7972\n",
      "Top-1 Error train 68.17% val 58.06%\n",
      "Top-5 Error train 42.15% val 30.26%\n",
      "EPOCH 9:\n"
     ]
    },
    {
     "name": "stderr",
     "output_type": "stream",
     "text": [
      " 20%|█▉        | 1000/5005 [04:19<17:01,  3.92it/s]"
     ]
    },
    {
     "name": "stdout",
     "output_type": "stream",
     "text": [
      "  Batch 41040 Loss: 3.0976 Top-1 error rate: 66.63% Top-5 error rate: 40.47%\n"
     ]
    },
    {
     "name": "stderr",
     "output_type": "stream",
     "text": [
      " 40%|███▉      | 2000/5005 [08:35<12:48,  3.91it/s]"
     ]
    },
    {
     "name": "stdout",
     "output_type": "stream",
     "text": [
      "  Batch 42040 Loss: 3.0956 Top-1 error rate: 66.58% Top-5 error rate: 40.38%\n"
     ]
    },
    {
     "name": "stderr",
     "output_type": "stream",
     "text": [
      " 60%|█████▉    | 3000/5005 [12:50<08:30,  3.93it/s]"
     ]
    },
    {
     "name": "stdout",
     "output_type": "stream",
     "text": [
      "  Batch 43040 Loss: 3.0851 Top-1 error rate: 66.35% Top-5 error rate: 40.08%\n"
     ]
    },
    {
     "name": "stderr",
     "output_type": "stream",
     "text": [
      " 80%|███████▉  | 4000/5005 [17:06<04:19,  3.88it/s]"
     ]
    },
    {
     "name": "stdout",
     "output_type": "stream",
     "text": [
      "  Batch 44040 Loss: 3.0644 Top-1 error rate: 66.01% Top-5 error rate: 39.81%\n"
     ]
    },
    {
     "name": "stderr",
     "output_type": "stream",
     "text": [
      "100%|█████████▉| 5000/5005 [21:21<00:01,  3.93it/s]"
     ]
    },
    {
     "name": "stdout",
     "output_type": "stream",
     "text": [
      "  Batch 45040 Loss: 3.0469 Top-1 error rate: 65.71% Top-5 error rate: 39.43%\n"
     ]
    },
    {
     "name": "stderr",
     "output_type": "stream",
     "text": [
      "100%|██████████| 5005/5005 [21:23<00:00,  3.90it/s]\n",
      "Validation:  26%|██▌       | 100/391 [00:45<01:49,  2.65it/s]"
     ]
    },
    {
     "name": "stdout",
     "output_type": "stream",
     "text": [
      "  Validation Batch   100 Loss: 2.2501 Top-1 error: 50.02% Top-5 error: 21.99%\n"
     ]
    },
    {
     "name": "stderr",
     "output_type": "stream",
     "text": [
      "Validation:  51%|█████     | 200/391 [01:29<01:48,  1.76it/s]"
     ]
    },
    {
     "name": "stdout",
     "output_type": "stream",
     "text": [
      "  Validation Batch   200 Loss: 2.5232 Top-1 error: 54.38% Top-5 error: 25.32%\n"
     ]
    },
    {
     "name": "stderr",
     "output_type": "stream",
     "text": [
      "Validation:  77%|███████▋  | 300/391 [02:15<00:42,  2.16it/s]"
     ]
    },
    {
     "name": "stdout",
     "output_type": "stream",
     "text": [
      "  Validation Batch   300 Loss: 2.9593 Top-1 error: 58.65% Top-5 error: 32.68%\n"
     ]
    },
    {
     "name": "stderr",
     "output_type": "stream",
     "text": [
      "Validation: 100%|██████████| 391/391 [02:58<00:00,  2.20it/s]\n"
     ]
    },
    {
     "name": "stdout",
     "output_type": "stream",
     "text": [
      "LOSS train 3.0779 valid 2.6388\n",
      "Top-1 Error train 66.25% val 54.94%\n",
      "Top-5 Error train 40.03% val 27.67%\n",
      "EPOCH 10:\n"
     ]
    },
    {
     "name": "stderr",
     "output_type": "stream",
     "text": [
      " 20%|█▉        | 1000/5005 [04:19<17:01,  3.92it/s]"
     ]
    },
    {
     "name": "stdout",
     "output_type": "stream",
     "text": [
      "  Batch 46045 Loss: 3.0060 Top-1 error rate: 65.09% Top-5 error rate: 38.66%\n"
     ]
    },
    {
     "name": "stderr",
     "output_type": "stream",
     "text": [
      " 40%|███▉      | 2000/5005 [08:35<12:55,  3.88it/s]"
     ]
    },
    {
     "name": "stdout",
     "output_type": "stream",
     "text": [
      "  Batch 47045 Loss: 2.9921 Top-1 error rate: 64.83% Top-5 error rate: 38.50%\n"
     ]
    },
    {
     "name": "stderr",
     "output_type": "stream",
     "text": [
      " 60%|█████▉    | 3000/5005 [12:51<08:33,  3.91it/s]"
     ]
    },
    {
     "name": "stdout",
     "output_type": "stream",
     "text": [
      "  Batch 48045 Loss: 2.9885 Top-1 error rate: 64.69% Top-5 error rate: 38.38%\n"
     ]
    },
    {
     "name": "stderr",
     "output_type": "stream",
     "text": [
      " 80%|███████▉  | 4000/5005 [17:06<04:16,  3.92it/s]"
     ]
    },
    {
     "name": "stdout",
     "output_type": "stream",
     "text": [
      "  Batch 49045 Loss: 2.9849 Top-1 error rate: 64.56% Top-5 error rate: 38.27%\n"
     ]
    },
    {
     "name": "stderr",
     "output_type": "stream",
     "text": [
      "100%|█████████▉| 5000/5005 [21:21<00:01,  3.96it/s]"
     ]
    },
    {
     "name": "stdout",
     "output_type": "stream",
     "text": [
      "  Batch 50045 Loss: 2.9683 Top-1 error rate: 64.23% Top-5 error rate: 38.05%\n"
     ]
    },
    {
     "name": "stderr",
     "output_type": "stream",
     "text": [
      "100%|██████████| 5005/5005 [21:22<00:00,  3.90it/s]\n",
      "Validation:  26%|██▌       | 100/391 [00:44<01:52,  2.59it/s]"
     ]
    },
    {
     "name": "stdout",
     "output_type": "stream",
     "text": [
      "  Validation Batch   100 Loss: 2.1489 Top-1 error: 48.02% Top-5 error: 19.26%\n"
     ]
    },
    {
     "name": "stderr",
     "output_type": "stream",
     "text": [
      "Validation:  51%|█████     | 200/391 [01:28<01:25,  2.22it/s]"
     ]
    },
    {
     "name": "stdout",
     "output_type": "stream",
     "text": [
      "  Validation Batch   200 Loss: 2.5100 Top-1 error: 52.59% Top-5 error: 24.90%\n"
     ]
    },
    {
     "name": "stderr",
     "output_type": "stream",
     "text": [
      "Validation:  77%|███████▋  | 300/391 [02:12<00:37,  2.40it/s]"
     ]
    },
    {
     "name": "stdout",
     "output_type": "stream",
     "text": [
      "  Validation Batch   300 Loss: 2.9936 Top-1 error: 58.46% Top-5 error: 32.52%\n"
     ]
    },
    {
     "name": "stderr",
     "output_type": "stream",
     "text": [
      "Validation: 100%|██████████| 391/391 [02:51<00:00,  2.28it/s]\n"
     ]
    },
    {
     "name": "stdout",
     "output_type": "stream",
     "text": [
      "LOSS train 2.9881 valid 2.6252\n",
      "Top-1 Error train 64.68% val 53.83%\n",
      "Top-5 Error train 38.37% val 26.88%\n",
      "EPOCH 11:\n"
     ]
    },
    {
     "name": "stderr",
     "output_type": "stream",
     "text": [
      " 20%|█▉        | 1000/5005 [04:17<16:55,  3.94it/s]"
     ]
    },
    {
     "name": "stdout",
     "output_type": "stream",
     "text": [
      "  Batch 51050 Loss: 2.9195 Top-1 error rate: 63.60% Top-5 error rate: 37.24%\n"
     ]
    },
    {
     "name": "stderr",
     "output_type": "stream",
     "text": [
      " 40%|███▉      | 2000/5005 [08:32<12:42,  3.94it/s]"
     ]
    },
    {
     "name": "stdout",
     "output_type": "stream",
     "text": [
      "  Batch 52050 Loss: 2.9265 Top-1 error rate: 63.59% Top-5 error rate: 37.25%\n"
     ]
    },
    {
     "name": "stderr",
     "output_type": "stream",
     "text": [
      " 60%|█████▉    | 3000/5005 [12:46<08:28,  3.95it/s]"
     ]
    },
    {
     "name": "stdout",
     "output_type": "stream",
     "text": [
      "  Batch 53050 Loss: 2.9235 Top-1 error rate: 63.51% Top-5 error rate: 37.19%\n"
     ]
    },
    {
     "name": "stderr",
     "output_type": "stream",
     "text": [
      " 80%|███████▉  | 4000/5005 [17:00<04:18,  3.89it/s]"
     ]
    },
    {
     "name": "stdout",
     "output_type": "stream",
     "text": [
      "  Batch 54050 Loss: 2.9194 Top-1 error rate: 63.42% Top-5 error rate: 37.20%\n"
     ]
    },
    {
     "name": "stderr",
     "output_type": "stream",
     "text": [
      "100%|█████████▉| 5000/5005 [21:14<00:01,  3.95it/s]"
     ]
    },
    {
     "name": "stdout",
     "output_type": "stream",
     "text": [
      "  Batch 55050 Loss: 2.9051 Top-1 error rate: 63.16% Top-5 error rate: 36.84%\n"
     ]
    },
    {
     "name": "stderr",
     "output_type": "stream",
     "text": [
      "100%|██████████| 5005/5005 [21:15<00:00,  3.92it/s]\n",
      "Validation:  26%|██▌       | 100/391 [00:47<02:03,  2.36it/s]"
     ]
    },
    {
     "name": "stdout",
     "output_type": "stream",
     "text": [
      "  Validation Batch   100 Loss: 1.9440 Top-1 error: 43.38% Top-5 error: 16.49%\n"
     ]
    },
    {
     "name": "stderr",
     "output_type": "stream",
     "text": [
      "Validation:  51%|█████     | 200/391 [01:42<01:46,  1.80it/s]"
     ]
    },
    {
     "name": "stdout",
     "output_type": "stream",
     "text": [
      "  Validation Batch   200 Loss: 2.3584 Top-1 error: 50.58% Top-5 error: 22.77%\n"
     ]
    },
    {
     "name": "stderr",
     "output_type": "stream",
     "text": [
      "Validation:  77%|███████▋  | 300/391 [02:28<00:42,  2.15it/s]"
     ]
    },
    {
     "name": "stdout",
     "output_type": "stream",
     "text": [
      "  Validation Batch   300 Loss: 2.7698 Top-1 error: 55.12% Top-5 error: 30.25%\n"
     ]
    },
    {
     "name": "stderr",
     "output_type": "stream",
     "text": [
      "Validation: 100%|██████████| 391/391 [03:16<00:00,  1.99it/s]\n"
     ]
    },
    {
     "name": "stdout",
     "output_type": "stream",
     "text": [
      "LOSS train 2.9188 valid 2.4327\n",
      "Top-1 Error train 63.46% val 50.73%\n",
      "Top-5 Error train 37.14% val 24.43%\n",
      "EPOCH 12:\n"
     ]
    },
    {
     "name": "stderr",
     "output_type": "stream",
     "text": [
      " 20%|█▉        | 1000/5005 [04:18<17:02,  3.92it/s]"
     ]
    },
    {
     "name": "stdout",
     "output_type": "stream",
     "text": [
      "  Batch 56055 Loss: 2.8570 Top-1 error rate: 62.44% Top-5 error rate: 36.15%\n"
     ]
    },
    {
     "name": "stderr",
     "output_type": "stream",
     "text": [
      " 40%|███▉      | 2000/5005 [08:33<12:46,  3.92it/s]"
     ]
    },
    {
     "name": "stdout",
     "output_type": "stream",
     "text": [
      "  Batch 57055 Loss: 2.8656 Top-1 error rate: 62.49% Top-5 error rate: 36.19%\n"
     ]
    },
    {
     "name": "stderr",
     "output_type": "stream",
     "text": [
      " 60%|█████▉    | 3000/5005 [12:47<08:27,  3.95it/s]"
     ]
    },
    {
     "name": "stdout",
     "output_type": "stream",
     "text": [
      "  Batch 58055 Loss: 2.8639 Top-1 error rate: 62.40% Top-5 error rate: 36.26%\n"
     ]
    },
    {
     "name": "stderr",
     "output_type": "stream",
     "text": [
      " 80%|███████▉  | 4000/5005 [17:02<04:18,  3.89it/s]"
     ]
    },
    {
     "name": "stdout",
     "output_type": "stream",
     "text": [
      "  Batch 59055 Loss: 2.8552 Top-1 error rate: 62.23% Top-5 error rate: 35.87%\n"
     ]
    },
    {
     "name": "stderr",
     "output_type": "stream",
     "text": [
      "100%|█████████▉| 5000/5005 [21:16<00:01,  3.96it/s]"
     ]
    },
    {
     "name": "stdout",
     "output_type": "stream",
     "text": [
      "  Batch 60055 Loss: 2.8520 Top-1 error rate: 62.11% Top-5 error rate: 35.99%\n"
     ]
    },
    {
     "name": "stderr",
     "output_type": "stream",
     "text": [
      "100%|██████████| 5005/5005 [21:17<00:00,  3.92it/s]\n",
      "Validation:  26%|██▌       | 100/391 [00:44<01:49,  2.65it/s]"
     ]
    },
    {
     "name": "stdout",
     "output_type": "stream",
     "text": [
      "  Validation Batch   100 Loss: 1.8901 Top-1 error: 43.55% Top-5 error: 17.17%\n"
     ]
    },
    {
     "name": "stderr",
     "output_type": "stream",
     "text": [
      "Validation:  51%|█████     | 200/391 [01:23<01:12,  2.63it/s]"
     ]
    },
    {
     "name": "stdout",
     "output_type": "stream",
     "text": [
      "  Validation Batch   200 Loss: 2.2249 Top-1 error: 49.92% Top-5 error: 21.77%\n"
     ]
    },
    {
     "name": "stderr",
     "output_type": "stream",
     "text": [
      "Validation:  77%|███████▋  | 300/391 [02:04<00:34,  2.66it/s]"
     ]
    },
    {
     "name": "stdout",
     "output_type": "stream",
     "text": [
      "  Validation Batch   300 Loss: 2.6629 Top-1 error: 54.46% Top-5 error: 28.74%\n"
     ]
    },
    {
     "name": "stderr",
     "output_type": "stream",
     "text": [
      "Validation: 100%|██████████| 391/391 [02:40<00:00,  2.44it/s]\n"
     ]
    },
    {
     "name": "stdout",
     "output_type": "stream",
     "text": [
      "LOSS train 2.8587 valid 2.3233\n",
      "Top-1 Error train 62.33% val 49.98%\n",
      "Top-5 Error train 36.09% val 23.75%\n",
      "EPOCH 13:\n"
     ]
    },
    {
     "name": "stderr",
     "output_type": "stream",
     "text": [
      " 20%|█▉        | 1000/5005 [04:18<16:56,  3.94it/s]"
     ]
    },
    {
     "name": "stdout",
     "output_type": "stream",
     "text": [
      "  Batch 61060 Loss: 2.7988 Top-1 error rate: 61.44% Top-5 error rate: 35.06%\n"
     ]
    },
    {
     "name": "stderr",
     "output_type": "stream",
     "text": [
      " 40%|███▉      | 2000/5005 [08:33<12:45,  3.93it/s]"
     ]
    },
    {
     "name": "stdout",
     "output_type": "stream",
     "text": [
      "  Batch 62060 Loss: 2.8078 Top-1 error rate: 61.43% Top-5 error rate: 35.03%\n"
     ]
    },
    {
     "name": "stderr",
     "output_type": "stream",
     "text": [
      " 60%|█████▉    | 3000/5005 [12:48<08:29,  3.94it/s]"
     ]
    },
    {
     "name": "stdout",
     "output_type": "stream",
     "text": [
      "  Batch 63060 Loss: 2.8040 Top-1 error rate: 61.40% Top-5 error rate: 35.02%\n"
     ]
    },
    {
     "name": "stderr",
     "output_type": "stream",
     "text": [
      " 80%|███████▉  | 4000/5005 [17:02<04:17,  3.91it/s]"
     ]
    },
    {
     "name": "stdout",
     "output_type": "stream",
     "text": [
      "  Batch 64060 Loss: 2.8121 Top-1 error rate: 61.49% Top-5 error rate: 35.25%\n"
     ]
    },
    {
     "name": "stderr",
     "output_type": "stream",
     "text": [
      "100%|█████████▉| 5000/5005 [21:17<00:01,  3.94it/s]"
     ]
    },
    {
     "name": "stdout",
     "output_type": "stream",
     "text": [
      "  Batch 65060 Loss: 2.8066 Top-1 error rate: 61.38% Top-5 error rate: 35.13%\n"
     ]
    },
    {
     "name": "stderr",
     "output_type": "stream",
     "text": [
      "100%|██████████| 5005/5005 [21:18<00:00,  3.91it/s]\n",
      "Validation:  26%|██▌       | 100/391 [00:45<02:18,  2.11it/s]"
     ]
    },
    {
     "name": "stdout",
     "output_type": "stream",
     "text": [
      "  Validation Batch   100 Loss: 1.8174 Top-1 error: 42.57% Top-5 error: 15.35%\n"
     ]
    },
    {
     "name": "stderr",
     "output_type": "stream",
     "text": [
      "Validation:  51%|█████     | 200/391 [01:27<01:19,  2.41it/s]"
     ]
    },
    {
     "name": "stdout",
     "output_type": "stream",
     "text": [
      "  Validation Batch   200 Loss: 2.1678 Top-1 error: 46.99% Top-5 error: 20.65%\n"
     ]
    },
    {
     "name": "stderr",
     "output_type": "stream",
     "text": [
      "Validation:  77%|███████▋  | 300/391 [02:13<00:56,  1.62it/s]"
     ]
    },
    {
     "name": "stdout",
     "output_type": "stream",
     "text": [
      "  Validation Batch   300 Loss: 2.6532 Top-1 error: 54.57% Top-5 error: 28.26%\n"
     ]
    },
    {
     "name": "stderr",
     "output_type": "stream",
     "text": [
      "Validation: 100%|██████████| 391/391 [02:53<00:00,  2.25it/s]\n"
     ]
    },
    {
     "name": "stdout",
     "output_type": "stream",
     "text": [
      "LOSS train 2.8059 valid 2.2906\n",
      "Top-1 Error train 61.43% val 48.97%\n",
      "Top-5 Error train 35.10% val 22.62%\n",
      "EPOCH 14:\n"
     ]
    },
    {
     "name": "stderr",
     "output_type": "stream",
     "text": [
      " 20%|█▉        | 1000/5005 [04:19<17:12,  3.88it/s]"
     ]
    },
    {
     "name": "stdout",
     "output_type": "stream",
     "text": [
      "  Batch 66065 Loss: 2.7710 Top-1 error rate: 60.95% Top-5 error rate: 34.52%\n"
     ]
    },
    {
     "name": "stderr",
     "output_type": "stream",
     "text": [
      " 40%|███▉      | 2000/5005 [08:35<12:49,  3.91it/s]"
     ]
    },
    {
     "name": "stdout",
     "output_type": "stream",
     "text": [
      "  Batch 67065 Loss: 2.7674 Top-1 error rate: 60.78% Top-5 error rate: 34.36%\n"
     ]
    },
    {
     "name": "stderr",
     "output_type": "stream",
     "text": [
      " 60%|█████▉    | 3000/5005 [12:51<08:32,  3.91it/s]"
     ]
    },
    {
     "name": "stdout",
     "output_type": "stream",
     "text": [
      "  Batch 68065 Loss: 2.7721 Top-1 error rate: 60.71% Top-5 error rate: 34.54%\n"
     ]
    },
    {
     "name": "stderr",
     "output_type": "stream",
     "text": [
      " 80%|███████▉  | 4000/5005 [17:07<04:15,  3.94it/s]"
     ]
    },
    {
     "name": "stdout",
     "output_type": "stream",
     "text": [
      "  Batch 69065 Loss: 2.7633 Top-1 error rate: 60.67% Top-5 error rate: 34.42%\n"
     ]
    },
    {
     "name": "stderr",
     "output_type": "stream",
     "text": [
      "100%|█████████▉| 5000/5005 [21:22<00:01,  3.95it/s]"
     ]
    },
    {
     "name": "stdout",
     "output_type": "stream",
     "text": [
      "  Batch 70065 Loss: 2.7669 Top-1 error rate: 60.54% Top-5 error rate: 34.45%\n"
     ]
    },
    {
     "name": "stderr",
     "output_type": "stream",
     "text": [
      "100%|██████████| 5005/5005 [21:24<00:00,  3.90it/s]\n",
      "Validation:  26%|██▌       | 100/391 [00:44<01:50,  2.64it/s]"
     ]
    },
    {
     "name": "stdout",
     "output_type": "stream",
     "text": [
      "  Validation Batch   100 Loss: 1.8561 Top-1 error: 42.74% Top-5 error: 15.80%\n"
     ]
    },
    {
     "name": "stderr",
     "output_type": "stream",
     "text": [
      "Validation:  51%|█████     | 200/391 [01:25<01:32,  2.07it/s]"
     ]
    },
    {
     "name": "stdout",
     "output_type": "stream",
     "text": [
      "  Validation Batch   200 Loss: 2.1668 Top-1 error: 47.19% Top-5 error: 20.57%\n"
     ]
    },
    {
     "name": "stderr",
     "output_type": "stream",
     "text": [
      "Validation:  77%|███████▋  | 300/391 [02:06<00:39,  2.31it/s]"
     ]
    },
    {
     "name": "stdout",
     "output_type": "stream",
     "text": [
      "  Validation Batch   300 Loss: 2.6594 Top-1 error: 52.65% Top-5 error: 27.98%\n"
     ]
    },
    {
     "name": "stderr",
     "output_type": "stream",
     "text": [
      "Validation: 100%|██████████| 391/391 [02:44<00:00,  2.38it/s]\n"
     ]
    },
    {
     "name": "stdout",
     "output_type": "stream",
     "text": [
      "LOSS train 2.7681 valid 2.3009\n",
      "Top-1 Error train 60.73% val 48.74%\n",
      "Top-5 Error train 34.46% val 22.61%\n",
      "EPOCH 15:\n"
     ]
    },
    {
     "name": "stderr",
     "output_type": "stream",
     "text": [
      " 20%|█▉        | 1000/5005 [04:18<17:08,  3.90it/s]"
     ]
    },
    {
     "name": "stdout",
     "output_type": "stream",
     "text": [
      "  Batch 71070 Loss: 2.7188 Top-1 error rate: 59.74% Top-5 error rate: 33.73%\n"
     ]
    },
    {
     "name": "stderr",
     "output_type": "stream",
     "text": [
      " 40%|███▉      | 2000/5005 [08:33<12:44,  3.93it/s]"
     ]
    },
    {
     "name": "stdout",
     "output_type": "stream",
     "text": [
      "  Batch 72070 Loss: 2.7409 Top-1 error rate: 60.09% Top-5 error rate: 33.88%\n"
     ]
    },
    {
     "name": "stderr",
     "output_type": "stream",
     "text": [
      " 60%|█████▉    | 3000/5005 [12:49<08:34,  3.90it/s]"
     ]
    },
    {
     "name": "stdout",
     "output_type": "stream",
     "text": [
      "  Batch 73070 Loss: 2.7385 Top-1 error rate: 60.04% Top-5 error rate: 33.93%\n"
     ]
    },
    {
     "name": "stderr",
     "output_type": "stream",
     "text": [
      " 80%|███████▉  | 4000/5005 [17:04<04:15,  3.93it/s]"
     ]
    },
    {
     "name": "stdout",
     "output_type": "stream",
     "text": [
      "  Batch 74070 Loss: 2.7391 Top-1 error rate: 60.04% Top-5 error rate: 33.96%\n"
     ]
    },
    {
     "name": "stderr",
     "output_type": "stream",
     "text": [
      "100%|█████████▉| 5000/5005 [21:19<00:01,  3.96it/s]"
     ]
    },
    {
     "name": "stdout",
     "output_type": "stream",
     "text": [
      "  Batch 75070 Loss: 2.7278 Top-1 error rate: 59.95% Top-5 error rate: 33.77%\n"
     ]
    },
    {
     "name": "stderr",
     "output_type": "stream",
     "text": [
      "100%|██████████| 5005/5005 [21:20<00:00,  3.91it/s]\n",
      "Validation:  26%|██▌       | 100/391 [00:43<01:50,  2.63it/s]"
     ]
    },
    {
     "name": "stdout",
     "output_type": "stream",
     "text": [
      "  Validation Batch   100 Loss: 1.7217 Top-1 error: 40.44% Top-5 error: 14.58%\n"
     ]
    },
    {
     "name": "stderr",
     "output_type": "stream",
     "text": [
      "Validation:  51%|█████     | 200/391 [01:24<01:17,  2.45it/s]"
     ]
    },
    {
     "name": "stdout",
     "output_type": "stream",
     "text": [
      "  Validation Batch   200 Loss: 2.1033 Top-1 error: 46.43% Top-5 error: 20.02%\n"
     ]
    },
    {
     "name": "stderr",
     "output_type": "stream",
     "text": [
      "Validation:  77%|███████▋  | 300/391 [02:05<00:34,  2.60it/s]"
     ]
    },
    {
     "name": "stdout",
     "output_type": "stream",
     "text": [
      "  Validation Batch   300 Loss: 2.5603 Top-1 error: 52.53% Top-5 error: 27.12%\n"
     ]
    },
    {
     "name": "stderr",
     "output_type": "stream",
     "text": [
      "Validation: 100%|██████████| 391/391 [02:44<00:00,  2.37it/s]\n"
     ]
    },
    {
     "name": "stdout",
     "output_type": "stream",
     "text": [
      "LOSS train 2.7331 valid 2.2073\n",
      "Top-1 Error train 59.97% val 47.50%\n",
      "Top-5 Error train 33.85% val 21.75%\n",
      "EPOCH 16:\n"
     ]
    },
    {
     "name": "stderr",
     "output_type": "stream",
     "text": [
      " 20%|█▉        | 1000/5005 [04:19<17:00,  3.92it/s]"
     ]
    },
    {
     "name": "stdout",
     "output_type": "stream",
     "text": [
      "  Batch 76075 Loss: 2.6977 Top-1 error rate: 59.38% Top-5 error rate: 33.20%\n"
     ]
    },
    {
     "name": "stderr",
     "output_type": "stream",
     "text": [
      " 40%|███▉      | 2000/5005 [08:35<12:46,  3.92it/s]"
     ]
    },
    {
     "name": "stdout",
     "output_type": "stream",
     "text": [
      "  Batch 77075 Loss: 2.6984 Top-1 error rate: 59.40% Top-5 error rate: 33.29%\n"
     ]
    },
    {
     "name": "stderr",
     "output_type": "stream",
     "text": [
      " 60%|█████▉    | 3000/5005 [12:50<08:33,  3.90it/s]"
     ]
    },
    {
     "name": "stdout",
     "output_type": "stream",
     "text": [
      "  Batch 78075 Loss: 2.7031 Top-1 error rate: 59.50% Top-5 error rate: 33.34%\n"
     ]
    },
    {
     "name": "stderr",
     "output_type": "stream",
     "text": [
      " 80%|███████▉  | 4000/5005 [17:06<04:16,  3.91it/s]"
     ]
    },
    {
     "name": "stdout",
     "output_type": "stream",
     "text": [
      "  Batch 79075 Loss: 2.7053 Top-1 error rate: 59.45% Top-5 error rate: 33.36%\n"
     ]
    },
    {
     "name": "stderr",
     "output_type": "stream",
     "text": [
      "100%|█████████▉| 5000/5005 [21:21<00:01,  3.94it/s]"
     ]
    },
    {
     "name": "stdout",
     "output_type": "stream",
     "text": [
      "  Batch 80075 Loss: 2.7024 Top-1 error rate: 59.53% Top-5 error rate: 33.36%\n"
     ]
    },
    {
     "name": "stderr",
     "output_type": "stream",
     "text": [
      "100%|██████████| 5005/5005 [21:22<00:00,  3.90it/s]\n",
      "Validation:  26%|██▌       | 100/391 [00:44<01:55,  2.51it/s]"
     ]
    },
    {
     "name": "stdout",
     "output_type": "stream",
     "text": [
      "  Validation Batch   100 Loss: 1.7867 Top-1 error: 41.40% Top-5 error: 15.16%\n"
     ]
    },
    {
     "name": "stderr",
     "output_type": "stream",
     "text": [
      "Validation:  51%|█████     | 200/391 [01:27<01:39,  1.92it/s]"
     ]
    },
    {
     "name": "stdout",
     "output_type": "stream",
     "text": [
      "  Validation Batch   200 Loss: 2.1610 Top-1 error: 47.65% Top-5 error: 20.87%\n"
     ]
    },
    {
     "name": "stderr",
     "output_type": "stream",
     "text": [
      "Validation:  77%|███████▋  | 300/391 [02:08<00:39,  2.32it/s]"
     ]
    },
    {
     "name": "stdout",
     "output_type": "stream",
     "text": [
      "  Validation Batch   300 Loss: 2.5576 Top-1 error: 52.65% Top-5 error: 26.99%\n"
     ]
    },
    {
     "name": "stderr",
     "output_type": "stream",
     "text": [
      "Validation: 100%|██████████| 391/391 [02:47<00:00,  2.33it/s]\n"
     ]
    },
    {
     "name": "stdout",
     "output_type": "stream",
     "text": [
      "LOSS train 2.7012 valid 2.2271\n",
      "Top-1 Error train 59.45% val 47.98%\n",
      "Top-5 Error train 33.31% val 21.99%\n",
      "EPOCH 17:\n"
     ]
    },
    {
     "name": "stderr",
     "output_type": "stream",
     "text": [
      " 20%|█▉        | 1000/5005 [04:19<17:08,  3.89it/s]"
     ]
    },
    {
     "name": "stdout",
     "output_type": "stream",
     "text": [
      "  Batch 81080 Loss: 2.6642 Top-1 error rate: 58.71% Top-5 error rate: 32.68%\n"
     ]
    },
    {
     "name": "stderr",
     "output_type": "stream",
     "text": [
      " 40%|███▉      | 2000/5005 [08:34<12:45,  3.92it/s]"
     ]
    },
    {
     "name": "stdout",
     "output_type": "stream",
     "text": [
      "  Batch 82080 Loss: 2.6725 Top-1 error rate: 58.90% Top-5 error rate: 32.82%\n"
     ]
    },
    {
     "name": "stderr",
     "output_type": "stream",
     "text": [
      " 60%|█████▉    | 3000/5005 [12:49<08:34,  3.90it/s]"
     ]
    },
    {
     "name": "stdout",
     "output_type": "stream",
     "text": [
      "  Batch 83080 Loss: 2.6837 Top-1 error rate: 59.12% Top-5 error rate: 32.98%\n"
     ]
    },
    {
     "name": "stderr",
     "output_type": "stream",
     "text": [
      " 80%|███████▉  | 4000/5005 [17:04<04:16,  3.92it/s]"
     ]
    },
    {
     "name": "stdout",
     "output_type": "stream",
     "text": [
      "  Batch 84080 Loss: 2.6756 Top-1 error rate: 58.97% Top-5 error rate: 32.86%\n"
     ]
    },
    {
     "name": "stderr",
     "output_type": "stream",
     "text": [
      "100%|█████████▉| 5000/5005 [21:20<00:01,  3.95it/s]"
     ]
    },
    {
     "name": "stdout",
     "output_type": "stream",
     "text": [
      "  Batch 85080 Loss: 2.6849 Top-1 error rate: 59.04% Top-5 error rate: 32.93%\n"
     ]
    },
    {
     "name": "stderr",
     "output_type": "stream",
     "text": [
      "100%|██████████| 5005/5005 [21:21<00:00,  3.91it/s]\n",
      "Validation:  26%|██▌       | 100/391 [00:42<01:50,  2.64it/s]"
     ]
    },
    {
     "name": "stdout",
     "output_type": "stream",
     "text": [
      "  Validation Batch   100 Loss: 1.7135 Top-1 error: 39.68% Top-5 error: 14.12%\n"
     ]
    },
    {
     "name": "stderr",
     "output_type": "stream",
     "text": [
      "Validation:  51%|█████     | 200/391 [01:20<01:11,  2.66it/s]"
     ]
    },
    {
     "name": "stdout",
     "output_type": "stream",
     "text": [
      "  Validation Batch   200 Loss: 2.0676 Top-1 error: 45.12% Top-5 error: 19.19%\n"
     ]
    },
    {
     "name": "stderr",
     "output_type": "stream",
     "text": [
      "Validation:  77%|███████▋  | 300/391 [01:58<00:34,  2.66it/s]"
     ]
    },
    {
     "name": "stdout",
     "output_type": "stream",
     "text": [
      "  Validation Batch   300 Loss: 2.5069 Top-1 error: 50.93% Top-5 error: 26.17%\n"
     ]
    },
    {
     "name": "stderr",
     "output_type": "stream",
     "text": [
      "Validation: 100%|██████████| 391/391 [02:33<00:00,  2.55it/s]\n"
     ]
    },
    {
     "name": "stdout",
     "output_type": "stream",
     "text": [
      "LOSS train 2.6762 valid 2.1770\n",
      "Top-1 Error train 58.95% val 46.43%\n",
      "Top-5 Error train 32.86% val 21.07%\n",
      "EPOCH 18:\n"
     ]
    },
    {
     "name": "stderr",
     "output_type": "stream",
     "text": [
      " 20%|█▉        | 1000/5005 [04:18<16:58,  3.93it/s]"
     ]
    },
    {
     "name": "stdout",
     "output_type": "stream",
     "text": [
      "  Batch 86085 Loss: 2.6373 Top-1 error rate: 58.34% Top-5 error rate: 32.17%\n"
     ]
    },
    {
     "name": "stderr",
     "output_type": "stream",
     "text": [
      " 40%|███▉      | 2000/5005 [08:32<12:45,  3.93it/s]"
     ]
    },
    {
     "name": "stdout",
     "output_type": "stream",
     "text": [
      "  Batch 87085 Loss: 2.6588 Top-1 error rate: 58.52% Top-5 error rate: 32.64%\n"
     ]
    },
    {
     "name": "stderr",
     "output_type": "stream",
     "text": [
      " 60%|█████▉    | 3000/5005 [12:46<08:29,  3.93it/s]"
     ]
    },
    {
     "name": "stdout",
     "output_type": "stream",
     "text": [
      "  Batch 88085 Loss: 2.6603 Top-1 error rate: 58.64% Top-5 error rate: 32.63%\n"
     ]
    },
    {
     "name": "stderr",
     "output_type": "stream",
     "text": [
      " 80%|███████▉  | 4000/5005 [17:00<04:15,  3.94it/s]"
     ]
    },
    {
     "name": "stdout",
     "output_type": "stream",
     "text": [
      "  Batch 89085 Loss: 2.6628 Top-1 error rate: 58.70% Top-5 error rate: 32.65%\n"
     ]
    },
    {
     "name": "stderr",
     "output_type": "stream",
     "text": [
      "100%|█████████▉| 5000/5005 [21:15<00:01,  3.96it/s]"
     ]
    },
    {
     "name": "stdout",
     "output_type": "stream",
     "text": [
      "  Batch 90085 Loss: 2.6589 Top-1 error rate: 58.61% Top-5 error rate: 32.61%\n"
     ]
    },
    {
     "name": "stderr",
     "output_type": "stream",
     "text": [
      "100%|██████████| 5005/5005 [21:16<00:00,  3.92it/s]\n",
      "Validation:  26%|██▌       | 100/391 [00:44<01:50,  2.64it/s]"
     ]
    },
    {
     "name": "stdout",
     "output_type": "stream",
     "text": [
      "  Validation Batch   100 Loss: 1.8446 Top-1 error: 40.33% Top-5 error: 14.12%\n"
     ]
    },
    {
     "name": "stderr",
     "output_type": "stream",
     "text": [
      "Validation:  51%|█████     | 200/391 [01:22<01:12,  2.64it/s]"
     ]
    },
    {
     "name": "stdout",
     "output_type": "stream",
     "text": [
      "  Validation Batch   200 Loss: 2.1992 Top-1 error: 45.77% Top-5 error: 19.34%\n"
     ]
    },
    {
     "name": "stderr",
     "output_type": "stream",
     "text": [
      "Validation:  77%|███████▋  | 300/391 [02:02<00:34,  2.65it/s]"
     ]
    },
    {
     "name": "stdout",
     "output_type": "stream",
     "text": [
      "  Validation Batch   300 Loss: 2.6183 Top-1 error: 50.35% Top-5 error: 25.70%\n"
     ]
    },
    {
     "name": "stderr",
     "output_type": "stream",
     "text": [
      "Validation: 100%|██████████| 391/391 [02:39<00:00,  2.46it/s]\n"
     ]
    },
    {
     "name": "stdout",
     "output_type": "stream",
     "text": [
      "LOSS train 2.6557 valid 2.2890\n",
      "Top-1 Error train 58.56% val 46.41%\n",
      "Top-5 Error train 32.54% val 20.79%\n",
      "EPOCH 19:\n"
     ]
    },
    {
     "name": "stderr",
     "output_type": "stream",
     "text": [
      " 20%|█▉        | 1000/5005 [04:18<17:06,  3.90it/s]"
     ]
    },
    {
     "name": "stdout",
     "output_type": "stream",
     "text": [
      "  Batch 91090 Loss: 2.6209 Top-1 error rate: 58.05% Top-5 error rate: 32.02%\n"
     ]
    },
    {
     "name": "stderr",
     "output_type": "stream",
     "text": [
      " 40%|███▉      | 2000/5005 [08:32<12:44,  3.93it/s]"
     ]
    },
    {
     "name": "stdout",
     "output_type": "stream",
     "text": [
      "  Batch 92090 Loss: 2.6367 Top-1 error rate: 58.22% Top-5 error rate: 32.17%\n"
     ]
    },
    {
     "name": "stderr",
     "output_type": "stream",
     "text": [
      " 60%|█████▉    | 3000/5005 [12:47<08:29,  3.94it/s]"
     ]
    },
    {
     "name": "stdout",
     "output_type": "stream",
     "text": [
      "  Batch 93090 Loss: 2.6364 Top-1 error rate: 58.24% Top-5 error rate: 32.10%\n"
     ]
    },
    {
     "name": "stderr",
     "output_type": "stream",
     "text": [
      " 80%|███████▉  | 4000/5005 [17:01<04:17,  3.90it/s]"
     ]
    },
    {
     "name": "stdout",
     "output_type": "stream",
     "text": [
      "  Batch 94090 Loss: 2.6421 Top-1 error rate: 58.28% Top-5 error rate: 32.22%\n"
     ]
    },
    {
     "name": "stderr",
     "output_type": "stream",
     "text": [
      "100%|█████████▉| 5000/5005 [21:16<00:01,  3.95it/s]"
     ]
    },
    {
     "name": "stdout",
     "output_type": "stream",
     "text": [
      "  Batch 95090 Loss: 2.6403 Top-1 error rate: 58.27% Top-5 error rate: 32.23%\n"
     ]
    },
    {
     "name": "stderr",
     "output_type": "stream",
     "text": [
      "100%|██████████| 5005/5005 [21:17<00:00,  3.92it/s]\n",
      "Validation:  26%|██▌       | 100/391 [00:43<01:49,  2.65it/s]"
     ]
    },
    {
     "name": "stdout",
     "output_type": "stream",
     "text": [
      "  Validation Batch   100 Loss: 1.7618 Top-1 error: 39.19% Top-5 error: 13.66%\n"
     ]
    },
    {
     "name": "stderr",
     "output_type": "stream",
     "text": [
      "Validation:  51%|█████     | 200/391 [01:27<01:33,  2.04it/s]"
     ]
    },
    {
     "name": "stdout",
     "output_type": "stream",
     "text": [
      "  Validation Batch   200 Loss: 2.1361 Top-1 error: 45.61% Top-5 error: 19.09%\n"
     ]
    },
    {
     "name": "stderr",
     "output_type": "stream",
     "text": [
      "Validation:  77%|███████▋  | 300/391 [02:12<00:41,  2.17it/s]"
     ]
    },
    {
     "name": "stdout",
     "output_type": "stream",
     "text": [
      "  Validation Batch   300 Loss: 2.5814 Top-1 error: 51.30% Top-5 error: 25.64%\n"
     ]
    },
    {
     "name": "stderr",
     "output_type": "stream",
     "text": [
      "Validation: 100%|██████████| 391/391 [02:52<00:00,  2.26it/s]\n"
     ]
    },
    {
     "name": "stdout",
     "output_type": "stream",
     "text": [
      "LOSS train 2.6353 valid 2.2343\n",
      "Top-1 Error train 58.22% val 46.32%\n",
      "Top-5 Error train 32.15% val 20.63%\n",
      "EPOCH 20:\n"
     ]
    },
    {
     "name": "stderr",
     "output_type": "stream",
     "text": [
      " 20%|█▉        | 1000/5005 [04:17<16:59,  3.93it/s]"
     ]
    },
    {
     "name": "stdout",
     "output_type": "stream",
     "text": [
      "  Batch 96095 Loss: 2.5940 Top-1 error rate: 57.34% Top-5 error rate: 31.49%\n"
     ]
    },
    {
     "name": "stderr",
     "output_type": "stream",
     "text": [
      " 40%|███▉      | 2000/5005 [08:32<12:41,  3.95it/s]"
     ]
    },
    {
     "name": "stdout",
     "output_type": "stream",
     "text": [
      "  Batch 97095 Loss: 2.6081 Top-1 error rate: 57.82% Top-5 error rate: 31.73%\n"
     ]
    },
    {
     "name": "stderr",
     "output_type": "stream",
     "text": [
      " 60%|█████▉    | 3000/5005 [12:46<08:30,  3.93it/s]"
     ]
    },
    {
     "name": "stdout",
     "output_type": "stream",
     "text": [
      "  Batch 98095 Loss: 2.6185 Top-1 error rate: 57.98% Top-5 error rate: 31.87%\n"
     ]
    },
    {
     "name": "stderr",
     "output_type": "stream",
     "text": [
      " 80%|███████▉  | 4000/5005 [17:00<04:15,  3.93it/s]"
     ]
    },
    {
     "name": "stdout",
     "output_type": "stream",
     "text": [
      "  Batch 99095 Loss: 2.6296 Top-1 error rate: 58.06% Top-5 error rate: 32.05%\n"
     ]
    },
    {
     "name": "stderr",
     "output_type": "stream",
     "text": [
      "100%|█████████▉| 5000/5005 [21:15<00:01,  3.95it/s]"
     ]
    },
    {
     "name": "stdout",
     "output_type": "stream",
     "text": [
      "  Batch 100095 Loss: 2.6272 Top-1 error rate: 57.97% Top-5 error rate: 31.96%\n"
     ]
    },
    {
     "name": "stderr",
     "output_type": "stream",
     "text": [
      "100%|██████████| 5005/5005 [21:16<00:00,  3.92it/s]\n",
      "Validation:  26%|██▌       | 100/391 [00:45<02:17,  2.12it/s]"
     ]
    },
    {
     "name": "stdout",
     "output_type": "stream",
     "text": [
      "  Validation Batch   100 Loss: 1.7997 Top-1 error: 39.94% Top-5 error: 13.84%\n"
     ]
    },
    {
     "name": "stderr",
     "output_type": "stream",
     "text": [
      "Validation:  51%|█████     | 200/391 [01:33<01:48,  1.77it/s]"
     ]
    },
    {
     "name": "stdout",
     "output_type": "stream",
     "text": [
      "  Validation Batch   200 Loss: 2.0681 Top-1 error: 44.13% Top-5 error: 17.93%\n"
     ]
    },
    {
     "name": "stderr",
     "output_type": "stream",
     "text": [
      "Validation:  77%|███████▋  | 300/391 [02:15<00:42,  2.13it/s]"
     ]
    },
    {
     "name": "stdout",
     "output_type": "stream",
     "text": [
      "  Validation Batch   300 Loss: 2.4901 Top-1 error: 49.16% Top-5 error: 24.66%\n"
     ]
    },
    {
     "name": "stderr",
     "output_type": "stream",
     "text": [
      "Validation: 100%|██████████| 391/391 [03:00<00:00,  2.16it/s]\n"
     ]
    },
    {
     "name": "stdout",
     "output_type": "stream",
     "text": [
      "LOSS train 2.6155 valid 2.1891\n",
      "Top-1 Error train 57.84% val 45.51%\n",
      "Top-5 Error train 31.82% val 19.93%\n",
      "EPOCH 21:\n"
     ]
    },
    {
     "name": "stderr",
     "output_type": "stream",
     "text": [
      " 20%|█▉        | 1000/5005 [04:17<16:55,  3.94it/s]"
     ]
    },
    {
     "name": "stdout",
     "output_type": "stream",
     "text": [
      "  Batch 101100 Loss: 2.5810 Top-1 error rate: 57.21% Top-5 error rate: 31.27%\n"
     ]
    },
    {
     "name": "stderr",
     "output_type": "stream",
     "text": [
      " 40%|███▉      | 2000/5005 [08:32<12:42,  3.94it/s]"
     ]
    },
    {
     "name": "stdout",
     "output_type": "stream",
     "text": [
      "  Batch 102100 Loss: 2.6028 Top-1 error rate: 57.54% Top-5 error rate: 31.60%\n"
     ]
    },
    {
     "name": "stderr",
     "output_type": "stream",
     "text": [
      " 60%|█████▉    | 3000/5005 [12:46<08:28,  3.94it/s]"
     ]
    },
    {
     "name": "stdout",
     "output_type": "stream",
     "text": [
      "  Batch 103100 Loss: 2.6048 Top-1 error rate: 57.63% Top-5 error rate: 31.60%\n"
     ]
    },
    {
     "name": "stderr",
     "output_type": "stream",
     "text": [
      " 80%|███████▉  | 4000/5005 [17:00<04:15,  3.94it/s]"
     ]
    },
    {
     "name": "stdout",
     "output_type": "stream",
     "text": [
      "  Batch 104100 Loss: 2.6149 Top-1 error rate: 57.76% Top-5 error rate: 31.74%\n"
     ]
    },
    {
     "name": "stderr",
     "output_type": "stream",
     "text": [
      "100%|█████████▉| 5000/5005 [21:14<00:01,  3.96it/s]"
     ]
    },
    {
     "name": "stdout",
     "output_type": "stream",
     "text": [
      "  Batch 105100 Loss: 2.6122 Top-1 error rate: 57.65% Top-5 error rate: 31.78%\n"
     ]
    },
    {
     "name": "stderr",
     "output_type": "stream",
     "text": [
      "100%|██████████| 5005/5005 [21:15<00:00,  3.92it/s]\n",
      "Validation:  26%|██▌       | 100/391 [00:42<01:52,  2.58it/s]"
     ]
    },
    {
     "name": "stdout",
     "output_type": "stream",
     "text": [
      "  Validation Batch   100 Loss: 1.6894 Top-1 error: 38.36% Top-5 error: 13.51%\n"
     ]
    },
    {
     "name": "stderr",
     "output_type": "stream",
     "text": [
      "Validation:  51%|█████     | 200/391 [01:21<01:11,  2.66it/s]"
     ]
    },
    {
     "name": "stdout",
     "output_type": "stream",
     "text": [
      "  Validation Batch   200 Loss: 2.0182 Top-1 error: 43.67% Top-5 error: 18.24%\n"
     ]
    },
    {
     "name": "stderr",
     "output_type": "stream",
     "text": [
      "Validation:  77%|███████▋  | 300/391 [01:59<00:38,  2.36it/s]"
     ]
    },
    {
     "name": "stdout",
     "output_type": "stream",
     "text": [
      "  Validation Batch   300 Loss: 2.4355 Top-1 error: 49.82% Top-5 error: 24.94%\n"
     ]
    },
    {
     "name": "stderr",
     "output_type": "stream",
     "text": [
      "Validation: 100%|██████████| 391/391 [02:37<00:00,  2.48it/s]\n"
     ]
    },
    {
     "name": "stdout",
     "output_type": "stream",
     "text": [
      "LOSS train 2.6031 valid 2.1229\n",
      "Top-1 Error train 57.56% val 45.29%\n",
      "Top-5 Error train 31.60% val 20.11%\n",
      "EPOCH 22:\n"
     ]
    },
    {
     "name": "stderr",
     "output_type": "stream",
     "text": [
      " 20%|█▉        | 1000/5005 [04:18<17:03,  3.91it/s]"
     ]
    },
    {
     "name": "stdout",
     "output_type": "stream",
     "text": [
      "  Batch 106105 Loss: 2.5747 Top-1 error rate: 57.08% Top-5 error rate: 31.09%\n"
     ]
    },
    {
     "name": "stderr",
     "output_type": "stream",
     "text": [
      " 40%|███▉      | 2000/5005 [08:32<12:42,  3.94it/s]"
     ]
    },
    {
     "name": "stdout",
     "output_type": "stream",
     "text": [
      "  Batch 107105 Loss: 2.5880 Top-1 error rate: 57.29% Top-5 error rate: 31.27%\n"
     ]
    },
    {
     "name": "stderr",
     "output_type": "stream",
     "text": [
      " 60%|█████▉    | 3000/5005 [12:47<08:33,  3.90it/s]"
     ]
    },
    {
     "name": "stdout",
     "output_type": "stream",
     "text": [
      "  Batch 108105 Loss: 2.6021 Top-1 error rate: 57.57% Top-5 error rate: 31.67%\n"
     ]
    },
    {
     "name": "stderr",
     "output_type": "stream",
     "text": [
      " 80%|███████▉  | 4000/5005 [17:01<04:15,  3.94it/s]"
     ]
    },
    {
     "name": "stdout",
     "output_type": "stream",
     "text": [
      "  Batch 109105 Loss: 2.5953 Top-1 error rate: 57.39% Top-5 error rate: 31.40%\n"
     ]
    },
    {
     "name": "stderr",
     "output_type": "stream",
     "text": [
      "100%|█████████▉| 5000/5005 [21:15<00:01,  3.95it/s]"
     ]
    },
    {
     "name": "stdout",
     "output_type": "stream",
     "text": [
      "  Batch 110105 Loss: 2.6013 Top-1 error rate: 57.46% Top-5 error rate: 31.56%\n"
     ]
    },
    {
     "name": "stderr",
     "output_type": "stream",
     "text": [
      "100%|██████████| 5005/5005 [21:16<00:00,  3.92it/s]\n",
      "Validation:  26%|██▌       | 100/391 [00:41<01:49,  2.66it/s]"
     ]
    },
    {
     "name": "stdout",
     "output_type": "stream",
     "text": [
      "  Validation Batch   100 Loss: 1.7720 Top-1 error: 40.87% Top-5 error: 14.38%\n"
     ]
    },
    {
     "name": "stderr",
     "output_type": "stream",
     "text": [
      "Validation:  51%|█████     | 200/391 [01:19<01:11,  2.66it/s]"
     ]
    },
    {
     "name": "stdout",
     "output_type": "stream",
     "text": [
      "  Validation Batch   200 Loss: 2.0623 Top-1 error: 44.01% Top-5 error: 18.50%\n"
     ]
    },
    {
     "name": "stderr",
     "output_type": "stream",
     "text": [
      "Validation:  77%|███████▋  | 300/391 [01:58<00:34,  2.66it/s]"
     ]
    },
    {
     "name": "stdout",
     "output_type": "stream",
     "text": [
      "  Validation Batch   300 Loss: 2.5463 Top-1 error: 51.25% Top-5 error: 25.53%\n"
     ]
    },
    {
     "name": "stderr",
     "output_type": "stream",
     "text": [
      "Validation: 100%|██████████| 391/391 [02:34<00:00,  2.53it/s]\n"
     ]
    },
    {
     "name": "stdout",
     "output_type": "stream",
     "text": [
      "LOSS train 2.5923 valid 2.1994\n",
      "Top-1 Error train 57.36% val 46.31%\n",
      "Top-5 Error train 31.40% val 20.57%\n",
      "EPOCH 23:\n"
     ]
    },
    {
     "name": "stderr",
     "output_type": "stream",
     "text": [
      " 20%|█▉        | 1000/5005 [04:18<17:08,  3.89it/s]"
     ]
    },
    {
     "name": "stdout",
     "output_type": "stream",
     "text": [
      "  Batch 111110 Loss: 2.5502 Top-1 error rate: 56.66% Top-5 error rate: 30.76%\n"
     ]
    },
    {
     "name": "stderr",
     "output_type": "stream",
     "text": [
      " 40%|███▉      | 2000/5005 [08:32<12:47,  3.92it/s]"
     ]
    },
    {
     "name": "stdout",
     "output_type": "stream",
     "text": [
      "  Batch 112110 Loss: 2.5758 Top-1 error rate: 56.99% Top-5 error rate: 31.12%\n"
     ]
    },
    {
     "name": "stderr",
     "output_type": "stream",
     "text": [
      " 60%|█████▉    | 3000/5005 [12:47<08:31,  3.92it/s]"
     ]
    },
    {
     "name": "stdout",
     "output_type": "stream",
     "text": [
      "  Batch 113110 Loss: 2.5877 Top-1 error rate: 57.37% Top-5 error rate: 31.25%\n"
     ]
    },
    {
     "name": "stderr",
     "output_type": "stream",
     "text": [
      " 80%|███████▉  | 4000/5005 [17:01<04:14,  3.94it/s]"
     ]
    },
    {
     "name": "stdout",
     "output_type": "stream",
     "text": [
      "  Batch 114110 Loss: 2.5797 Top-1 error rate: 57.05% Top-5 error rate: 31.16%\n"
     ]
    },
    {
     "name": "stderr",
     "output_type": "stream",
     "text": [
      "100%|█████████▉| 5000/5005 [21:15<00:01,  3.96it/s]"
     ]
    },
    {
     "name": "stdout",
     "output_type": "stream",
     "text": [
      "  Batch 115110 Loss: 2.5860 Top-1 error rate: 57.21% Top-5 error rate: 31.35%\n"
     ]
    },
    {
     "name": "stderr",
     "output_type": "stream",
     "text": [
      "100%|██████████| 5005/5005 [21:16<00:00,  3.92it/s]\n",
      "Validation:  26%|██▌       | 100/391 [00:45<01:49,  2.66it/s]"
     ]
    },
    {
     "name": "stdout",
     "output_type": "stream",
     "text": [
      "  Validation Batch   100 Loss: 1.7658 Top-1 error: 40.23% Top-5 error: 14.05%\n"
     ]
    },
    {
     "name": "stderr",
     "output_type": "stream",
     "text": [
      "Validation:  51%|█████     | 200/391 [01:23<01:11,  2.66it/s]"
     ]
    },
    {
     "name": "stdout",
     "output_type": "stream",
     "text": [
      "  Validation Batch   200 Loss: 2.1109 Top-1 error: 45.59% Top-5 error: 18.88%\n"
     ]
    },
    {
     "name": "stderr",
     "output_type": "stream",
     "text": [
      "Validation:  77%|███████▋  | 300/391 [02:01<00:36,  2.49it/s]"
     ]
    },
    {
     "name": "stdout",
     "output_type": "stream",
     "text": [
      "  Validation Batch   300 Loss: 2.5121 Top-1 error: 50.05% Top-5 error: 25.40%\n"
     ]
    },
    {
     "name": "stderr",
     "output_type": "stream",
     "text": [
      "Validation: 100%|██████████| 391/391 [02:37<00:00,  2.48it/s]\n"
     ]
    },
    {
     "name": "stdout",
     "output_type": "stream",
     "text": [
      "LOSS train 2.5759 valid 2.1933\n",
      "Top-1 Error train 57.06% val 46.16%\n",
      "Top-5 Error train 31.13% val 20.39%\n",
      "EPOCH 24:\n"
     ]
    },
    {
     "name": "stderr",
     "output_type": "stream",
     "text": [
      " 20%|█▉        | 1000/5005 [04:17<16:56,  3.94it/s]"
     ]
    },
    {
     "name": "stdout",
     "output_type": "stream",
     "text": [
      "  Batch 116115 Loss: 2.5493 Top-1 error rate: 56.53% Top-5 error rate: 30.80%\n"
     ]
    },
    {
     "name": "stderr",
     "output_type": "stream",
     "text": [
      " 40%|███▉      | 2000/5005 [08:32<12:47,  3.91it/s]"
     ]
    },
    {
     "name": "stdout",
     "output_type": "stream",
     "text": [
      "  Batch 117115 Loss: 2.5561 Top-1 error rate: 56.68% Top-5 error rate: 30.89%\n"
     ]
    },
    {
     "name": "stderr",
     "output_type": "stream",
     "text": [
      " 60%|█████▉    | 3000/5005 [12:46<08:27,  3.95it/s]"
     ]
    },
    {
     "name": "stdout",
     "output_type": "stream",
     "text": [
      "  Batch 118115 Loss: 2.5609 Top-1 error rate: 56.57% Top-5 error rate: 30.96%\n"
     ]
    },
    {
     "name": "stderr",
     "output_type": "stream",
     "text": [
      " 80%|███████▉  | 4000/5005 [17:01<04:16,  3.92it/s]"
     ]
    },
    {
     "name": "stdout",
     "output_type": "stream",
     "text": [
      "  Batch 119115 Loss: 2.5881 Top-1 error rate: 57.23% Top-5 error rate: 31.32%\n"
     ]
    },
    {
     "name": "stderr",
     "output_type": "stream",
     "text": [
      "100%|█████████▉| 5000/5005 [21:15<00:01,  3.95it/s]"
     ]
    },
    {
     "name": "stdout",
     "output_type": "stream",
     "text": [
      "  Batch 120115 Loss: 2.5841 Top-1 error rate: 57.13% Top-5 error rate: 31.31%\n"
     ]
    },
    {
     "name": "stderr",
     "output_type": "stream",
     "text": [
      "100%|██████████| 5005/5005 [21:16<00:00,  3.92it/s]\n",
      "Validation:  26%|██▌       | 100/391 [00:42<01:49,  2.66it/s]"
     ]
    },
    {
     "name": "stdout",
     "output_type": "stream",
     "text": [
      "  Validation Batch   100 Loss: 1.7530 Top-1 error: 39.83% Top-5 error: 13.44%\n"
     ]
    },
    {
     "name": "stderr",
     "output_type": "stream",
     "text": [
      "Validation:  51%|█████     | 200/391 [01:20<01:11,  2.66it/s]"
     ]
    },
    {
     "name": "stdout",
     "output_type": "stream",
     "text": [
      "  Validation Batch   200 Loss: 2.1547 Top-1 error: 45.02% Top-5 error: 19.03%\n"
     ]
    },
    {
     "name": "stderr",
     "output_type": "stream",
     "text": [
      "Validation:  77%|███████▋  | 300/391 [02:00<00:34,  2.66it/s]"
     ]
    },
    {
     "name": "stdout",
     "output_type": "stream",
     "text": [
      "  Validation Batch   300 Loss: 2.5276 Top-1 error: 49.65% Top-5 error: 24.46%\n"
     ]
    },
    {
     "name": "stderr",
     "output_type": "stream",
     "text": [
      "Validation: 100%|██████████| 391/391 [02:35<00:00,  2.51it/s]\n"
     ]
    },
    {
     "name": "stdout",
     "output_type": "stream",
     "text": [
      "LOSS train 2.5678 valid 2.2054\n",
      "Top-1 Error train 56.83% val 45.71%\n",
      "Top-5 Error train 31.06% val 19.94%\n",
      "EPOCH 25:\n"
     ]
    },
    {
     "name": "stderr",
     "output_type": "stream",
     "text": [
      " 20%|█▉        | 1000/5005 [04:18<17:02,  3.92it/s]"
     ]
    },
    {
     "name": "stdout",
     "output_type": "stream",
     "text": [
      "  Batch 121120 Loss: 2.5332 Top-1 error rate: 56.37% Top-5 error rate: 30.42%\n"
     ]
    },
    {
     "name": "stderr",
     "output_type": "stream",
     "text": [
      " 40%|███▉      | 2000/5005 [08:32<12:43,  3.94it/s]"
     ]
    },
    {
     "name": "stdout",
     "output_type": "stream",
     "text": [
      "  Batch 122120 Loss: 2.5499 Top-1 error rate: 56.66% Top-5 error rate: 30.78%\n"
     ]
    },
    {
     "name": "stderr",
     "output_type": "stream",
     "text": [
      " 60%|█████▉    | 3000/5005 [12:46<08:31,  3.92it/s]"
     ]
    },
    {
     "name": "stdout",
     "output_type": "stream",
     "text": [
      "  Batch 123120 Loss: 2.5617 Top-1 error rate: 56.76% Top-5 error rate: 30.91%\n"
     ]
    },
    {
     "name": "stderr",
     "output_type": "stream",
     "text": [
      " 80%|███████▉  | 4000/5005 [17:01<04:15,  3.94it/s]"
     ]
    },
    {
     "name": "stdout",
     "output_type": "stream",
     "text": [
      "  Batch 124120 Loss: 2.5618 Top-1 error rate: 56.76% Top-5 error rate: 30.87%\n"
     ]
    },
    {
     "name": "stderr",
     "output_type": "stream",
     "text": [
      "100%|█████████▉| 5000/5005 [21:15<00:01,  3.96it/s]"
     ]
    },
    {
     "name": "stdout",
     "output_type": "stream",
     "text": [
      "  Batch 125120 Loss: 2.5752 Top-1 error rate: 56.89% Top-5 error rate: 31.20%\n"
     ]
    },
    {
     "name": "stderr",
     "output_type": "stream",
     "text": [
      "100%|██████████| 5005/5005 [21:17<00:00,  3.92it/s]\n",
      "Validation:  26%|██▌       | 100/391 [00:45<01:55,  2.51it/s]"
     ]
    },
    {
     "name": "stdout",
     "output_type": "stream",
     "text": [
      "  Validation Batch   100 Loss: 1.7496 Top-1 error: 39.25% Top-5 error: 13.30%\n"
     ]
    },
    {
     "name": "stderr",
     "output_type": "stream",
     "text": [
      "Validation:  51%|█████     | 200/391 [01:23<01:12,  2.65it/s]"
     ]
    },
    {
     "name": "stdout",
     "output_type": "stream",
     "text": [
      "  Validation Batch   200 Loss: 2.0491 Top-1 error: 43.25% Top-5 error: 17.06%\n"
     ]
    },
    {
     "name": "stderr",
     "output_type": "stream",
     "text": [
      "Validation:  77%|███████▋  | 300/391 [02:03<00:34,  2.66it/s]"
     ]
    },
    {
     "name": "stdout",
     "output_type": "stream",
     "text": [
      "  Validation Batch   300 Loss: 2.4730 Top-1 error: 48.35% Top-5 error: 24.28%\n"
     ]
    },
    {
     "name": "stderr",
     "output_type": "stream",
     "text": [
      "Validation: 100%|██████████| 391/391 [02:38<00:00,  2.47it/s]\n"
     ]
    },
    {
     "name": "stdout",
     "output_type": "stream",
     "text": [
      "LOSS train 2.5564 valid 2.1592\n",
      "Top-1 Error train 56.69% val 44.39%\n",
      "Top-5 Error train 30.84% val 19.14%\n",
      "EPOCH 26:\n"
     ]
    },
    {
     "name": "stderr",
     "output_type": "stream",
     "text": [
      " 20%|█▉        | 1000/5005 [04:18<17:01,  3.92it/s]"
     ]
    },
    {
     "name": "stdout",
     "output_type": "stream",
     "text": [
      "  Batch 126125 Loss: 2.5249 Top-1 error rate: 55.99% Top-5 error rate: 30.35%\n"
     ]
    },
    {
     "name": "stderr",
     "output_type": "stream",
     "text": [
      " 40%|███▉      | 2000/5005 [08:32<12:47,  3.92it/s]"
     ]
    },
    {
     "name": "stdout",
     "output_type": "stream",
     "text": [
      "  Batch 127125 Loss: 2.5386 Top-1 error rate: 56.37% Top-5 error rate: 30.52%\n"
     ]
    },
    {
     "name": "stderr",
     "output_type": "stream",
     "text": [
      " 60%|█████▉    | 3000/5005 [12:47<08:38,  3.87it/s]"
     ]
    },
    {
     "name": "stdout",
     "output_type": "stream",
     "text": [
      "  Batch 128125 Loss: 2.5537 Top-1 error rate: 56.61% Top-5 error rate: 30.86%\n"
     ]
    },
    {
     "name": "stderr",
     "output_type": "stream",
     "text": [
      " 80%|███████▉  | 4000/5005 [17:01<04:15,  3.93it/s]"
     ]
    },
    {
     "name": "stdout",
     "output_type": "stream",
     "text": [
      "  Batch 129125 Loss: 2.5608 Top-1 error rate: 56.71% Top-5 error rate: 30.91%\n"
     ]
    },
    {
     "name": "stderr",
     "output_type": "stream",
     "text": [
      "100%|█████████▉| 5000/5005 [21:16<00:01,  3.95it/s]"
     ]
    },
    {
     "name": "stdout",
     "output_type": "stream",
     "text": [
      "  Batch 130125 Loss: 2.5608 Top-1 error rate: 56.68% Top-5 error rate: 30.88%\n"
     ]
    },
    {
     "name": "stderr",
     "output_type": "stream",
     "text": [
      "100%|██████████| 5005/5005 [21:17<00:00,  3.92it/s]\n",
      "Validation:  26%|██▌       | 100/391 [00:42<01:49,  2.66it/s]"
     ]
    },
    {
     "name": "stdout",
     "output_type": "stream",
     "text": [
      "  Validation Batch   100 Loss: 1.6503 Top-1 error: 39.53% Top-5 error: 13.44%\n"
     ]
    },
    {
     "name": "stderr",
     "output_type": "stream",
     "text": [
      "Validation:  51%|█████     | 200/391 [01:20<01:11,  2.65it/s]"
     ]
    },
    {
     "name": "stdout",
     "output_type": "stream",
     "text": [
      "  Validation Batch   200 Loss: 1.9626 Top-1 error: 44.09% Top-5 error: 17.84%\n"
     ]
    },
    {
     "name": "stderr",
     "output_type": "stream",
     "text": [
      "Validation:  77%|███████▋  | 300/391 [01:58<00:34,  2.66it/s]"
     ]
    },
    {
     "name": "stdout",
     "output_type": "stream",
     "text": [
      "  Validation Batch   300 Loss: 2.3702 Top-1 error: 49.70% Top-5 error: 24.61%\n"
     ]
    },
    {
     "name": "stderr",
     "output_type": "stream",
     "text": [
      "Validation: 100%|██████████| 391/391 [02:34<00:00,  2.54it/s]\n"
     ]
    },
    {
     "name": "stdout",
     "output_type": "stream",
     "text": [
      "LOSS train 2.5478 valid 2.0821\n",
      "Top-1 Error train 56.47% val 45.75%\n",
      "Top-5 Error train 30.70% val 20.08%\n",
      "EPOCH 27:\n"
     ]
    },
    {
     "name": "stderr",
     "output_type": "stream",
     "text": [
      " 20%|█▉        | 1000/5005 [04:17<16:56,  3.94it/s]"
     ]
    },
    {
     "name": "stdout",
     "output_type": "stream",
     "text": [
      "  Batch 131130 Loss: 2.5185 Top-1 error rate: 56.08% Top-5 error rate: 30.11%\n"
     ]
    },
    {
     "name": "stderr",
     "output_type": "stream",
     "text": [
      " 40%|███▉      | 2000/5005 [08:32<12:49,  3.91it/s]"
     ]
    },
    {
     "name": "stdout",
     "output_type": "stream",
     "text": [
      "  Batch 132130 Loss: 2.5359 Top-1 error rate: 56.19% Top-5 error rate: 30.56%\n"
     ]
    },
    {
     "name": "stderr",
     "output_type": "stream",
     "text": [
      " 60%|█████▉    | 3000/5005 [12:46<08:37,  3.88it/s]"
     ]
    },
    {
     "name": "stdout",
     "output_type": "stream",
     "text": [
      "  Batch 133130 Loss: 2.5468 Top-1 error rate: 56.50% Top-5 error rate: 30.60%\n"
     ]
    },
    {
     "name": "stderr",
     "output_type": "stream",
     "text": [
      " 80%|███████▉  | 4000/5005 [17:01<04:17,  3.90it/s]"
     ]
    },
    {
     "name": "stdout",
     "output_type": "stream",
     "text": [
      "  Batch 134130 Loss: 2.5471 Top-1 error rate: 56.48% Top-5 error rate: 30.62%\n"
     ]
    },
    {
     "name": "stderr",
     "output_type": "stream",
     "text": [
      "100%|█████████▉| 5000/5005 [21:15<00:01,  3.95it/s]"
     ]
    },
    {
     "name": "stdout",
     "output_type": "stream",
     "text": [
      "  Batch 135130 Loss: 2.5576 Top-1 error rate: 56.55% Top-5 error rate: 30.77%\n"
     ]
    },
    {
     "name": "stderr",
     "output_type": "stream",
     "text": [
      "100%|██████████| 5005/5005 [21:16<00:00,  3.92it/s]\n",
      "Validation:  26%|██▌       | 100/391 [00:44<01:49,  2.66it/s]"
     ]
    },
    {
     "name": "stdout",
     "output_type": "stream",
     "text": [
      "  Validation Batch   100 Loss: 1.7432 Top-1 error: 38.38% Top-5 error: 13.93%\n"
     ]
    },
    {
     "name": "stderr",
     "output_type": "stream",
     "text": [
      "Validation:  51%|█████     | 200/391 [01:24<01:14,  2.57it/s]"
     ]
    },
    {
     "name": "stdout",
     "output_type": "stream",
     "text": [
      "  Validation Batch   200 Loss: 2.0416 Top-1 error: 43.57% Top-5 error: 17.48%\n"
     ]
    },
    {
     "name": "stderr",
     "output_type": "stream",
     "text": [
      "Validation:  77%|███████▋  | 300/391 [02:05<00:38,  2.36it/s]"
     ]
    },
    {
     "name": "stdout",
     "output_type": "stream",
     "text": [
      "  Validation Batch   300 Loss: 2.5590 Top-1 error: 50.36% Top-5 error: 25.44%\n"
     ]
    },
    {
     "name": "stderr",
     "output_type": "stream",
     "text": [
      "Validation: 100%|██████████| 391/391 [02:44<00:00,  2.38it/s]\n"
     ]
    },
    {
     "name": "stdout",
     "output_type": "stream",
     "text": [
      "LOSS train 2.5412 valid 2.1873\n",
      "Top-1 Error train 56.36% val 45.16%\n",
      "Top-5 Error train 30.53% val 20.01%\n",
      "EPOCH 28:\n"
     ]
    },
    {
     "name": "stderr",
     "output_type": "stream",
     "text": [
      " 20%|█▉        | 1000/5005 [04:17<16:58,  3.93it/s]"
     ]
    },
    {
     "name": "stdout",
     "output_type": "stream",
     "text": [
      "  Batch 136135 Loss: 2.5141 Top-1 error rate: 55.93% Top-5 error rate: 30.14%\n"
     ]
    },
    {
     "name": "stderr",
     "output_type": "stream",
     "text": [
      " 40%|███▉      | 2000/5005 [08:31<12:45,  3.93it/s]"
     ]
    },
    {
     "name": "stdout",
     "output_type": "stream",
     "text": [
      "  Batch 137135 Loss: 2.5286 Top-1 error rate: 56.09% Top-5 error rate: 30.25%\n"
     ]
    },
    {
     "name": "stderr",
     "output_type": "stream",
     "text": [
      " 60%|█████▉    | 3000/5005 [12:45<08:29,  3.94it/s]"
     ]
    },
    {
     "name": "stdout",
     "output_type": "stream",
     "text": [
      "  Batch 138135 Loss: 2.5325 Top-1 error rate: 56.17% Top-5 error rate: 30.36%\n"
     ]
    },
    {
     "name": "stderr",
     "output_type": "stream",
     "text": [
      " 80%|███████▉  | 4000/5005 [16:59<04:15,  3.94it/s]"
     ]
    },
    {
     "name": "stdout",
     "output_type": "stream",
     "text": [
      "  Batch 139135 Loss: 2.5411 Top-1 error rate: 56.48% Top-5 error rate: 30.49%\n"
     ]
    },
    {
     "name": "stderr",
     "output_type": "stream",
     "text": [
      "100%|█████████▉| 5000/5005 [21:13<00:01,  3.96it/s]"
     ]
    },
    {
     "name": "stdout",
     "output_type": "stream",
     "text": [
      "  Batch 140135 Loss: 2.5329 Top-1 error rate: 56.17% Top-5 error rate: 30.37%\n"
     ]
    },
    {
     "name": "stderr",
     "output_type": "stream",
     "text": [
      "100%|██████████| 5005/5005 [21:14<00:00,  3.93it/s]\n",
      "Validation:  26%|██▌       | 100/391 [00:42<01:49,  2.65it/s]"
     ]
    },
    {
     "name": "stdout",
     "output_type": "stream",
     "text": [
      "  Validation Batch   100 Loss: 1.6633 Top-1 error: 37.45% Top-5 error: 12.99%\n"
     ]
    },
    {
     "name": "stderr",
     "output_type": "stream",
     "text": [
      "Validation:  51%|█████     | 200/391 [01:20<01:11,  2.66it/s]"
     ]
    },
    {
     "name": "stdout",
     "output_type": "stream",
     "text": [
      "  Validation Batch   200 Loss: 2.0095 Top-1 error: 43.25% Top-5 error: 17.71%\n"
     ]
    },
    {
     "name": "stderr",
     "output_type": "stream",
     "text": [
      "Validation:  77%|███████▋  | 300/391 [01:59<00:34,  2.63it/s]"
     ]
    },
    {
     "name": "stdout",
     "output_type": "stream",
     "text": [
      "  Validation Batch   300 Loss: 2.4298 Top-1 error: 49.95% Top-5 error: 24.12%\n"
     ]
    },
    {
     "name": "stderr",
     "output_type": "stream",
     "text": [
      "Validation: 100%|██████████| 391/391 [02:35<00:00,  2.52it/s]\n"
     ]
    },
    {
     "name": "stdout",
     "output_type": "stream",
     "text": [
      "LOSS train 2.5300 valid 2.1027\n",
      "Top-1 Error train 56.17% val 44.62%\n",
      "Top-5 Error train 30.32% val 19.25%\n",
      "EPOCH 29:\n"
     ]
    },
    {
     "name": "stderr",
     "output_type": "stream",
     "text": [
      " 20%|█▉        | 1000/5005 [04:17<17:00,  3.93it/s]"
     ]
    },
    {
     "name": "stdout",
     "output_type": "stream",
     "text": [
      "  Batch 141140 Loss: 2.5098 Top-1 error rate: 55.78% Top-5 error rate: 30.00%\n"
     ]
    },
    {
     "name": "stderr",
     "output_type": "stream",
     "text": [
      " 40%|███▉      | 2000/5005 [08:31<12:43,  3.93it/s]"
     ]
    },
    {
     "name": "stdout",
     "output_type": "stream",
     "text": [
      "  Batch 142140 Loss: 2.5185 Top-1 error rate: 55.94% Top-5 error rate: 30.14%\n"
     ]
    },
    {
     "name": "stderr",
     "output_type": "stream",
     "text": [
      " 60%|█████▉    | 3000/5005 [12:45<08:32,  3.91it/s]"
     ]
    },
    {
     "name": "stdout",
     "output_type": "stream",
     "text": [
      "  Batch 143140 Loss: 2.5264 Top-1 error rate: 56.21% Top-5 error rate: 30.32%\n"
     ]
    },
    {
     "name": "stderr",
     "output_type": "stream",
     "text": [
      " 80%|███████▉  | 4000/5005 [16:59<04:14,  3.94it/s]"
     ]
    },
    {
     "name": "stdout",
     "output_type": "stream",
     "text": [
      "  Batch 144140 Loss: 2.5366 Top-1 error rate: 56.30% Top-5 error rate: 30.49%\n"
     ]
    },
    {
     "name": "stderr",
     "output_type": "stream",
     "text": [
      "100%|█████████▉| 5000/5005 [21:13<00:01,  3.96it/s]"
     ]
    },
    {
     "name": "stdout",
     "output_type": "stream",
     "text": [
      "  Batch 145140 Loss: 2.5352 Top-1 error rate: 56.21% Top-5 error rate: 30.39%\n"
     ]
    },
    {
     "name": "stderr",
     "output_type": "stream",
     "text": [
      "100%|██████████| 5005/5005 [21:14<00:00,  3.93it/s]\n",
      "Validation:  26%|██▌       | 100/391 [00:42<01:49,  2.66it/s]"
     ]
    },
    {
     "name": "stdout",
     "output_type": "stream",
     "text": [
      "  Validation Batch   100 Loss: 1.6344 Top-1 error: 38.22% Top-5 error: 12.98%\n"
     ]
    },
    {
     "name": "stderr",
     "output_type": "stream",
     "text": [
      "Validation:  51%|█████     | 200/391 [01:21<01:11,  2.67it/s]"
     ]
    },
    {
     "name": "stdout",
     "output_type": "stream",
     "text": [
      "  Validation Batch   200 Loss: 1.9654 Top-1 error: 43.80% Top-5 error: 17.83%\n"
     ]
    },
    {
     "name": "stderr",
     "output_type": "stream",
     "text": [
      "Validation:  77%|███████▋  | 300/391 [01:59<00:34,  2.62it/s]"
     ]
    },
    {
     "name": "stdout",
     "output_type": "stream",
     "text": [
      "  Validation Batch   300 Loss: 2.4523 Top-1 error: 49.91% Top-5 error: 25.40%\n"
     ]
    },
    {
     "name": "stderr",
     "output_type": "stream",
     "text": [
      "Validation: 100%|██████████| 391/391 [02:36<00:00,  2.50it/s]\n"
     ]
    },
    {
     "name": "stdout",
     "output_type": "stream",
     "text": [
      "LOSS train 2.5253 valid 2.0919\n",
      "Top-1 Error train 56.09% val 45.11%\n",
      "Top-5 Error train 30.27% val 19.78%\n",
      "EPOCH 30:\n"
     ]
    },
    {
     "name": "stderr",
     "output_type": "stream",
     "text": [
      " 20%|█▉        | 1000/5005 [04:17<16:53,  3.95it/s]"
     ]
    },
    {
     "name": "stdout",
     "output_type": "stream",
     "text": [
      "  Batch 146145 Loss: 2.4966 Top-1 error rate: 55.70% Top-5 error rate: 29.70%\n"
     ]
    },
    {
     "name": "stderr",
     "output_type": "stream",
     "text": [
      " 40%|███▉      | 2000/5005 [08:31<12:47,  3.92it/s]"
     ]
    },
    {
     "name": "stdout",
     "output_type": "stream",
     "text": [
      "  Batch 147145 Loss: 2.5147 Top-1 error rate: 55.87% Top-5 error rate: 30.16%\n"
     ]
    },
    {
     "name": "stderr",
     "output_type": "stream",
     "text": [
      " 60%|█████▉    | 3000/5005 [12:45<08:31,  3.92it/s]"
     ]
    },
    {
     "name": "stdout",
     "output_type": "stream",
     "text": [
      "  Batch 148145 Loss: 2.5278 Top-1 error rate: 56.04% Top-5 error rate: 30.30%\n"
     ]
    },
    {
     "name": "stderr",
     "output_type": "stream",
     "text": [
      " 80%|███████▉  | 4000/5005 [16:58<04:15,  3.94it/s]"
     ]
    },
    {
     "name": "stdout",
     "output_type": "stream",
     "text": [
      "  Batch 149145 Loss: 2.5280 Top-1 error rate: 56.02% Top-5 error rate: 30.28%\n"
     ]
    },
    {
     "name": "stderr",
     "output_type": "stream",
     "text": [
      "100%|█████████▉| 5000/5005 [21:12<00:01,  3.96it/s]"
     ]
    },
    {
     "name": "stdout",
     "output_type": "stream",
     "text": [
      "  Batch 150145 Loss: 2.5327 Top-1 error rate: 56.10% Top-5 error rate: 30.41%\n"
     ]
    },
    {
     "name": "stderr",
     "output_type": "stream",
     "text": [
      "100%|██████████| 5005/5005 [21:13<00:00,  3.93it/s]\n",
      "Validation:  26%|██▌       | 100/391 [00:43<01:49,  2.65it/s]"
     ]
    },
    {
     "name": "stdout",
     "output_type": "stream",
     "text": [
      "  Validation Batch   100 Loss: 1.6248 Top-1 error: 37.19% Top-5 error: 12.47%\n"
     ]
    },
    {
     "name": "stderr",
     "output_type": "stream",
     "text": [
      "Validation:  51%|█████     | 200/391 [01:21<01:11,  2.65it/s]"
     ]
    },
    {
     "name": "stdout",
     "output_type": "stream",
     "text": [
      "  Validation Batch   200 Loss: 2.0170 Top-1 error: 43.78% Top-5 error: 18.26%\n"
     ]
    },
    {
     "name": "stderr",
     "output_type": "stream",
     "text": [
      "Validation:  77%|███████▋  | 300/391 [02:00<00:34,  2.63it/s]"
     ]
    },
    {
     "name": "stdout",
     "output_type": "stream",
     "text": [
      "  Validation Batch   300 Loss: 2.4224 Top-1 error: 49.17% Top-5 error: 24.62%\n"
     ]
    },
    {
     "name": "stderr",
     "output_type": "stream",
     "text": [
      "Validation: 100%|██████████| 391/391 [02:35<00:00,  2.51it/s]\n"
     ]
    },
    {
     "name": "stdout",
     "output_type": "stream",
     "text": [
      "LOSS train 2.5200 valid 2.0971\n",
      "Top-1 Error train 55.95% val 44.62%\n",
      "Top-5 Error train 30.17% val 19.55%\n",
      "EPOCH 31:\n"
     ]
    },
    {
     "name": "stderr",
     "output_type": "stream",
     "text": [
      " 20%|█▉        | 1000/5005 [04:17<16:56,  3.94it/s]"
     ]
    },
    {
     "name": "stdout",
     "output_type": "stream",
     "text": [
      "  Batch 151150 Loss: 2.1398 Top-1 error rate: 48.85% Top-5 error rate: 24.34%\n"
     ]
    },
    {
     "name": "stderr",
     "output_type": "stream",
     "text": [
      " 40%|███▉      | 2000/5005 [08:31<12:42,  3.94it/s]"
     ]
    },
    {
     "name": "stdout",
     "output_type": "stream",
     "text": [
      "  Batch 152150 Loss: 2.0534 Top-1 error rate: 47.35% Top-5 error rate: 23.11%\n"
     ]
    },
    {
     "name": "stderr",
     "output_type": "stream",
     "text": [
      " 60%|█████▉    | 3000/5005 [12:45<08:35,  3.89it/s]"
     ]
    },
    {
     "name": "stdout",
     "output_type": "stream",
     "text": [
      "  Batch 153150 Loss: 2.0263 Top-1 error rate: 46.68% Top-5 error rate: 22.55%\n"
     ]
    },
    {
     "name": "stderr",
     "output_type": "stream",
     "text": [
      " 80%|███████▉  | 4000/5005 [16:59<04:17,  3.90it/s]"
     ]
    },
    {
     "name": "stdout",
     "output_type": "stream",
     "text": [
      "  Batch 154150 Loss: 2.0025 Top-1 error rate: 46.22% Top-5 error rate: 22.31%\n"
     ]
    },
    {
     "name": "stderr",
     "output_type": "stream",
     "text": [
      "100%|█████████▉| 5000/5005 [21:13<00:01,  3.95it/s]"
     ]
    },
    {
     "name": "stdout",
     "output_type": "stream",
     "text": [
      "  Batch 155150 Loss: 1.9994 Top-1 error rate: 46.20% Top-5 error rate: 22.24%\n"
     ]
    },
    {
     "name": "stderr",
     "output_type": "stream",
     "text": [
      "100%|██████████| 5005/5005 [21:14<00:00,  3.93it/s]\n",
      "Validation:  26%|██▌       | 100/391 [00:43<01:50,  2.64it/s]"
     ]
    },
    {
     "name": "stdout",
     "output_type": "stream",
     "text": [
      "  Validation Batch   100 Loss: 1.2115 Top-1 error: 28.45% Top-5 error: 8.31%\n"
     ]
    },
    {
     "name": "stderr",
     "output_type": "stream",
     "text": [
      "Validation:  51%|█████     | 200/391 [01:23<01:12,  2.64it/s]"
     ]
    },
    {
     "name": "stdout",
     "output_type": "stream",
     "text": [
      "  Validation Batch   200 Loss: 1.5116 Top-1 error: 33.61% Top-5 error: 12.12%\n"
     ]
    },
    {
     "name": "stderr",
     "output_type": "stream",
     "text": [
      "Validation:  77%|███████▋  | 300/391 [02:01<00:34,  2.65it/s]"
     ]
    },
    {
     "name": "stdout",
     "output_type": "stream",
     "text": [
      "  Validation Batch   300 Loss: 1.9096 Top-1 error: 40.50% Top-5 error: 17.47%\n"
     ]
    },
    {
     "name": "stderr",
     "output_type": "stream",
     "text": [
      "Validation: 100%|██████████| 391/391 [02:36<00:00,  2.50it/s]\n"
     ]
    },
    {
     "name": "stdout",
     "output_type": "stream",
     "text": [
      "LOSS train 2.0441 valid 1.6124\n",
      "Top-1 Error train 47.06% val 35.36%\n",
      "Top-5 Error train 22.91% val 13.55%\n",
      "EPOCH 32:\n"
     ]
    },
    {
     "name": "stderr",
     "output_type": "stream",
     "text": [
      " 20%|█▉        | 1000/5005 [04:17<17:06,  3.90it/s]"
     ]
    },
    {
     "name": "stdout",
     "output_type": "stream",
     "text": [
      "  Batch 156155 Loss: 1.9545 Top-1 error rate: 45.28% Top-5 error rate: 21.61%\n"
     ]
    },
    {
     "name": "stderr",
     "output_type": "stream",
     "text": [
      " 40%|███▉      | 2000/5005 [08:31<12:43,  3.93it/s]"
     ]
    },
    {
     "name": "stdout",
     "output_type": "stream",
     "text": [
      "  Batch 157155 Loss: 1.9441 Top-1 error rate: 45.15% Top-5 error rate: 21.32%\n"
     ]
    },
    {
     "name": "stderr",
     "output_type": "stream",
     "text": [
      " 60%|█████▉    | 3000/5005 [12:45<08:33,  3.91it/s]"
     ]
    },
    {
     "name": "stdout",
     "output_type": "stream",
     "text": [
      "  Batch 158155 Loss: 1.9399 Top-1 error rate: 45.03% Top-5 error rate: 21.37%\n"
     ]
    },
    {
     "name": "stderr",
     "output_type": "stream",
     "text": [
      " 80%|███████▉  | 4000/5005 [17:00<04:17,  3.90it/s]"
     ]
    },
    {
     "name": "stdout",
     "output_type": "stream",
     "text": [
      "  Batch 159155 Loss: 1.9340 Top-1 error rate: 44.89% Top-5 error rate: 21.28%\n"
     ]
    },
    {
     "name": "stderr",
     "output_type": "stream",
     "text": [
      "100%|█████████▉| 5000/5005 [21:14<00:01,  3.96it/s]"
     ]
    },
    {
     "name": "stdout",
     "output_type": "stream",
     "text": [
      "  Batch 160155 Loss: 1.9214 Top-1 error rate: 44.62% Top-5 error rate: 20.98%\n"
     ]
    },
    {
     "name": "stderr",
     "output_type": "stream",
     "text": [
      "100%|██████████| 5005/5005 [21:15<00:00,  3.92it/s]\n",
      "Validation:  26%|██▌       | 100/391 [00:42<01:49,  2.66it/s]"
     ]
    },
    {
     "name": "stdout",
     "output_type": "stream",
     "text": [
      "  Validation Batch   100 Loss: 1.1310 Top-1 error: 27.62% Top-5 error: 7.63%\n"
     ]
    },
    {
     "name": "stderr",
     "output_type": "stream",
     "text": [
      "Validation:  51%|█████     | 200/391 [01:20<01:12,  2.65it/s]"
     ]
    },
    {
     "name": "stdout",
     "output_type": "stream",
     "text": [
      "  Validation Batch   200 Loss: 1.4693 Top-1 error: 33.40% Top-5 error: 11.98%\n"
     ]
    },
    {
     "name": "stderr",
     "output_type": "stream",
     "text": [
      "Validation:  77%|███████▋  | 300/391 [01:59<00:34,  2.64it/s]"
     ]
    },
    {
     "name": "stdout",
     "output_type": "stream",
     "text": [
      "  Validation Batch   300 Loss: 1.8318 Top-1 error: 39.46% Top-5 error: 17.09%\n"
     ]
    },
    {
     "name": "stderr",
     "output_type": "stream",
     "text": [
      "Validation: 100%|██████████| 391/391 [02:35<00:00,  2.51it/s]\n"
     ]
    },
    {
     "name": "stdout",
     "output_type": "stream",
     "text": [
      "LOSS train 1.9388 valid 1.5439\n",
      "Top-1 Error train 44.99% val 34.58%\n",
      "Top-5 Error train 21.31% val 13.11%\n",
      "EPOCH 33:\n"
     ]
    },
    {
     "name": "stderr",
     "output_type": "stream",
     "text": [
      " 20%|█▉        | 1000/5005 [04:18<17:04,  3.91it/s]"
     ]
    },
    {
     "name": "stdout",
     "output_type": "stream",
     "text": [
      "  Batch 161160 Loss: 1.8931 Top-1 error rate: 44.12% Top-5 error rate: 20.67%\n"
     ]
    },
    {
     "name": "stderr",
     "output_type": "stream",
     "text": [
      " 40%|███▉      | 2000/5005 [08:32<12:44,  3.93it/s]"
     ]
    },
    {
     "name": "stdout",
     "output_type": "stream",
     "text": [
      "  Batch 162160 Loss: 1.8930 Top-1 error rate: 43.95% Top-5 error rate: 20.65%\n"
     ]
    },
    {
     "name": "stderr",
     "output_type": "stream",
     "text": [
      " 60%|█████▉    | 3000/5005 [12:46<08:29,  3.94it/s]"
     ]
    },
    {
     "name": "stdout",
     "output_type": "stream",
     "text": [
      "  Batch 163160 Loss: 1.8959 Top-1 error rate: 44.20% Top-5 error rate: 20.74%\n"
     ]
    },
    {
     "name": "stderr",
     "output_type": "stream",
     "text": [
      " 80%|███████▉  | 4000/5005 [17:00<04:16,  3.92it/s]"
     ]
    },
    {
     "name": "stdout",
     "output_type": "stream",
     "text": [
      "  Batch 164160 Loss: 1.8862 Top-1 error rate: 43.92% Top-5 error rate: 20.51%\n"
     ]
    },
    {
     "name": "stderr",
     "output_type": "stream",
     "text": [
      "100%|█████████▉| 5000/5005 [21:14<00:01,  3.95it/s]"
     ]
    },
    {
     "name": "stdout",
     "output_type": "stream",
     "text": [
      "  Batch 165160 Loss: 1.8849 Top-1 error rate: 43.97% Top-5 error rate: 20.54%\n"
     ]
    },
    {
     "name": "stderr",
     "output_type": "stream",
     "text": [
      "100%|██████████| 5005/5005 [21:15<00:00,  3.92it/s]\n",
      "Validation:  26%|██▌       | 100/391 [00:44<01:51,  2.61it/s]"
     ]
    },
    {
     "name": "stdout",
     "output_type": "stream",
     "text": [
      "  Validation Batch   100 Loss: 1.1503 Top-1 error: 27.12% Top-5 error: 7.69%\n"
     ]
    },
    {
     "name": "stderr",
     "output_type": "stream",
     "text": [
      "Validation:  51%|█████     | 200/391 [01:26<01:12,  2.64it/s]"
     ]
    },
    {
     "name": "stdout",
     "output_type": "stream",
     "text": [
      "  Validation Batch   200 Loss: 1.4738 Top-1 error: 32.74% Top-5 error: 11.70%\n"
     ]
    },
    {
     "name": "stderr",
     "output_type": "stream",
     "text": [
      "Validation:  77%|███████▋  | 300/391 [02:07<00:47,  1.90it/s]"
     ]
    },
    {
     "name": "stdout",
     "output_type": "stream",
     "text": [
      "  Validation Batch   300 Loss: 1.8656 Top-1 error: 39.22% Top-5 error: 16.66%\n"
     ]
    },
    {
     "name": "stderr",
     "output_type": "stream",
     "text": [
      "Validation: 100%|██████████| 391/391 [02:44<00:00,  2.38it/s]\n"
     ]
    },
    {
     "name": "stdout",
     "output_type": "stream",
     "text": [
      "LOSS train 1.8906 valid 1.5650\n",
      "Top-1 Error train 44.03% val 34.15%\n",
      "Top-5 Error train 20.62% val 12.89%\n",
      "EPOCH 34:\n"
     ]
    },
    {
     "name": "stderr",
     "output_type": "stream",
     "text": [
      " 20%|█▉        | 1000/5005 [04:17<16:56,  3.94it/s]"
     ]
    },
    {
     "name": "stdout",
     "output_type": "stream",
     "text": [
      "  Batch 166165 Loss: 1.8559 Top-1 error rate: 43.31% Top-5 error rate: 20.09%\n"
     ]
    },
    {
     "name": "stderr",
     "output_type": "stream",
     "text": [
      " 40%|███▉      | 2000/5005 [08:31<12:42,  3.94it/s]"
     ]
    },
    {
     "name": "stdout",
     "output_type": "stream",
     "text": [
      "  Batch 167165 Loss: 1.8657 Top-1 error rate: 43.63% Top-5 error rate: 20.27%\n"
     ]
    },
    {
     "name": "stderr",
     "output_type": "stream",
     "text": [
      " 60%|█████▉    | 3000/5005 [12:45<08:28,  3.94it/s]"
     ]
    },
    {
     "name": "stdout",
     "output_type": "stream",
     "text": [
      "  Batch 168165 Loss: 1.8636 Top-1 error rate: 43.53% Top-5 error rate: 20.26%\n"
     ]
    },
    {
     "name": "stderr",
     "output_type": "stream",
     "text": [
      " 80%|███████▉  | 4000/5005 [16:59<04:15,  3.94it/s]"
     ]
    },
    {
     "name": "stdout",
     "output_type": "stream",
     "text": [
      "  Batch 169165 Loss: 1.8574 Top-1 error rate: 43.35% Top-5 error rate: 20.10%\n"
     ]
    },
    {
     "name": "stderr",
     "output_type": "stream",
     "text": [
      "100%|█████████▉| 5000/5005 [21:13<00:01,  3.93it/s]"
     ]
    },
    {
     "name": "stdout",
     "output_type": "stream",
     "text": [
      "  Batch 170165 Loss: 1.8624 Top-1 error rate: 43.46% Top-5 error rate: 20.21%\n"
     ]
    },
    {
     "name": "stderr",
     "output_type": "stream",
     "text": [
      "100%|██████████| 5005/5005 [21:15<00:00,  3.93it/s]\n",
      "Validation:  26%|██▌       | 100/391 [00:42<01:49,  2.66it/s]"
     ]
    },
    {
     "name": "stdout",
     "output_type": "stream",
     "text": [
      "  Validation Batch   100 Loss: 1.1355 Top-1 error: 26.61% Top-5 error: 7.45%\n"
     ]
    },
    {
     "name": "stderr",
     "output_type": "stream",
     "text": [
      "Validation:  51%|█████     | 200/391 [01:20<01:11,  2.66it/s]"
     ]
    },
    {
     "name": "stdout",
     "output_type": "stream",
     "text": [
      "  Validation Batch   200 Loss: 1.4564 Top-1 error: 32.59% Top-5 error: 11.40%\n"
     ]
    },
    {
     "name": "stderr",
     "output_type": "stream",
     "text": [
      "Validation:  77%|███████▋  | 300/391 [01:57<00:34,  2.65it/s]"
     ]
    },
    {
     "name": "stdout",
     "output_type": "stream",
     "text": [
      "  Validation Batch   300 Loss: 1.8249 Top-1 error: 38.30% Top-5 error: 16.23%\n"
     ]
    },
    {
     "name": "stderr",
     "output_type": "stream",
     "text": [
      "Validation: 100%|██████████| 391/391 [02:31<00:00,  2.58it/s]\n"
     ]
    },
    {
     "name": "stdout",
     "output_type": "stream",
     "text": [
      "LOSS train 1.8611 valid 1.5436\n",
      "Top-1 Error train 43.46% val 33.70%\n",
      "Top-5 Error train 20.18% val 12.58%\n",
      "EPOCH 35:\n"
     ]
    },
    {
     "name": "stderr",
     "output_type": "stream",
     "text": [
      " 20%|█▉        | 1000/5005 [04:17<16:57,  3.94it/s]"
     ]
    },
    {
     "name": "stdout",
     "output_type": "stream",
     "text": [
      "  Batch 171170 Loss: 1.8298 Top-1 error rate: 42.81% Top-5 error rate: 19.77%\n"
     ]
    },
    {
     "name": "stderr",
     "output_type": "stream",
     "text": [
      " 40%|███▉      | 2000/5005 [08:31<12:44,  3.93it/s]"
     ]
    },
    {
     "name": "stdout",
     "output_type": "stream",
     "text": [
      "  Batch 172170 Loss: 1.8358 Top-1 error rate: 42.93% Top-5 error rate: 19.92%\n"
     ]
    },
    {
     "name": "stderr",
     "output_type": "stream",
     "text": [
      " 60%|█████▉    | 3000/5005 [12:45<08:29,  3.93it/s]"
     ]
    },
    {
     "name": "stdout",
     "output_type": "stream",
     "text": [
      "  Batch 173170 Loss: 1.8320 Top-1 error rate: 42.83% Top-5 error rate: 19.83%\n"
     ]
    },
    {
     "name": "stderr",
     "output_type": "stream",
     "text": [
      " 80%|███████▉  | 4000/5005 [16:59<04:16,  3.91it/s]"
     ]
    },
    {
     "name": "stdout",
     "output_type": "stream",
     "text": [
      "  Batch 174170 Loss: 1.8323 Top-1 error rate: 42.84% Top-5 error rate: 19.85%\n"
     ]
    },
    {
     "name": "stderr",
     "output_type": "stream",
     "text": [
      "100%|█████████▉| 5000/5005 [21:13<00:01,  3.94it/s]"
     ]
    },
    {
     "name": "stdout",
     "output_type": "stream",
     "text": [
      "  Batch 175170 Loss: 1.8363 Top-1 error rate: 42.93% Top-5 error rate: 19.85%\n"
     ]
    },
    {
     "name": "stderr",
     "output_type": "stream",
     "text": [
      "100%|██████████| 5005/5005 [21:14<00:00,  3.93it/s]\n",
      "Validation:  26%|██▌       | 100/391 [00:42<01:49,  2.65it/s]"
     ]
    },
    {
     "name": "stdout",
     "output_type": "stream",
     "text": [
      "  Validation Batch   100 Loss: 1.1700 Top-1 error: 26.37% Top-5 error: 7.55%\n"
     ]
    },
    {
     "name": "stderr",
     "output_type": "stream",
     "text": [
      "Validation:  51%|█████     | 200/391 [01:20<01:12,  2.65it/s]"
     ]
    },
    {
     "name": "stdout",
     "output_type": "stream",
     "text": [
      "  Validation Batch   200 Loss: 1.4623 Top-1 error: 32.10% Top-5 error: 11.55%\n"
     ]
    },
    {
     "name": "stderr",
     "output_type": "stream",
     "text": [
      "Validation:  77%|███████▋  | 300/391 [01:57<00:34,  2.65it/s]"
     ]
    },
    {
     "name": "stdout",
     "output_type": "stream",
     "text": [
      "  Validation Batch   300 Loss: 1.8091 Top-1 error: 38.19% Top-5 error: 16.08%\n"
     ]
    },
    {
     "name": "stderr",
     "output_type": "stream",
     "text": [
      "Validation: 100%|██████████| 391/391 [02:31<00:00,  2.57it/s]\n"
     ]
    },
    {
     "name": "stdout",
     "output_type": "stream",
     "text": [
      "LOSS train 1.8332 valid 1.5423\n",
      "Top-1 Error train 42.87% val 33.32%\n",
      "Top-5 Error train 19.85% val 12.51%\n",
      "EPOCH 36:\n"
     ]
    },
    {
     "name": "stderr",
     "output_type": "stream",
     "text": [
      " 20%|█▉        | 1000/5005 [04:18<16:58,  3.93it/s]"
     ]
    },
    {
     "name": "stdout",
     "output_type": "stream",
     "text": [
      "  Batch 176175 Loss: 1.8080 Top-1 error rate: 42.39% Top-5 error rate: 19.41%\n"
     ]
    },
    {
     "name": "stderr",
     "output_type": "stream",
     "text": [
      " 40%|███▉      | 2000/5005 [08:31<12:45,  3.93it/s]"
     ]
    },
    {
     "name": "stdout",
     "output_type": "stream",
     "text": [
      "  Batch 177175 Loss: 1.7990 Top-1 error rate: 42.23% Top-5 error rate: 19.26%\n"
     ]
    },
    {
     "name": "stderr",
     "output_type": "stream",
     "text": [
      " 60%|█████▉    | 3000/5005 [12:46<08:28,  3.94it/s]"
     ]
    },
    {
     "name": "stdout",
     "output_type": "stream",
     "text": [
      "  Batch 178175 Loss: 1.8109 Top-1 error rate: 42.50% Top-5 error rate: 19.49%\n"
     ]
    },
    {
     "name": "stderr",
     "output_type": "stream",
     "text": [
      " 80%|███████▉  | 4000/5005 [17:00<04:16,  3.92it/s]"
     ]
    },
    {
     "name": "stdout",
     "output_type": "stream",
     "text": [
      "  Batch 179175 Loss: 1.8182 Top-1 error rate: 42.52% Top-5 error rate: 19.56%\n"
     ]
    },
    {
     "name": "stderr",
     "output_type": "stream",
     "text": [
      "100%|█████████▉| 5000/5005 [21:14<00:01,  3.96it/s]"
     ]
    },
    {
     "name": "stdout",
     "output_type": "stream",
     "text": [
      "  Batch 180175 Loss: 1.8119 Top-1 error rate: 42.43% Top-5 error rate: 19.46%\n"
     ]
    },
    {
     "name": "stderr",
     "output_type": "stream",
     "text": [
      "100%|██████████| 5005/5005 [21:15<00:00,  3.92it/s]\n",
      "Validation:  26%|██▌       | 100/391 [00:40<01:49,  2.66it/s]"
     ]
    },
    {
     "name": "stdout",
     "output_type": "stream",
     "text": [
      "  Validation Batch   100 Loss: 1.1039 Top-1 error: 26.55% Top-5 error: 7.51%\n"
     ]
    },
    {
     "name": "stderr",
     "output_type": "stream",
     "text": [
      "Validation:  51%|█████     | 200/391 [01:19<01:11,  2.66it/s]"
     ]
    },
    {
     "name": "stdout",
     "output_type": "stream",
     "text": [
      "  Validation Batch   200 Loss: 1.4154 Top-1 error: 32.35% Top-5 error: 11.38%\n"
     ]
    },
    {
     "name": "stderr",
     "output_type": "stream",
     "text": [
      "Validation:  77%|███████▋  | 300/391 [02:01<00:36,  2.47it/s]"
     ]
    },
    {
     "name": "stdout",
     "output_type": "stream",
     "text": [
      "  Validation Batch   300 Loss: 1.7767 Top-1 error: 38.30% Top-5 error: 16.09%\n"
     ]
    },
    {
     "name": "stderr",
     "output_type": "stream",
     "text": [
      "Validation: 100%|██████████| 391/391 [02:39<00:00,  2.45it/s]\n"
     ]
    },
    {
     "name": "stdout",
     "output_type": "stream",
     "text": [
      "LOSS train 1.8096 valid 1.4986\n",
      "Top-1 Error train 42.42% val 33.57%\n",
      "Top-5 Error train 19.44% val 12.52%\n",
      "EPOCH 37:\n"
     ]
    },
    {
     "name": "stderr",
     "output_type": "stream",
     "text": [
      " 20%|█▉        | 1000/5005 [04:18<16:58,  3.93it/s]"
     ]
    },
    {
     "name": "stdout",
     "output_type": "stream",
     "text": [
      "  Batch 181180 Loss: 1.7842 Top-1 error rate: 41.94% Top-5 error rate: 19.12%\n"
     ]
    },
    {
     "name": "stderr",
     "output_type": "stream",
     "text": [
      " 40%|███▉      | 2000/5005 [08:32<12:46,  3.92it/s]"
     ]
    },
    {
     "name": "stdout",
     "output_type": "stream",
     "text": [
      "  Batch 182180 Loss: 1.7929 Top-1 error rate: 41.98% Top-5 error rate: 19.23%\n"
     ]
    },
    {
     "name": "stderr",
     "output_type": "stream",
     "text": [
      " 60%|█████▉    | 3000/5005 [12:46<08:29,  3.93it/s]"
     ]
    },
    {
     "name": "stdout",
     "output_type": "stream",
     "text": [
      "  Batch 183180 Loss: 1.7966 Top-1 error rate: 42.02% Top-5 error rate: 19.36%\n"
     ]
    },
    {
     "name": "stderr",
     "output_type": "stream",
     "text": [
      " 80%|███████▉  | 4000/5005 [17:00<04:15,  3.93it/s]"
     ]
    },
    {
     "name": "stdout",
     "output_type": "stream",
     "text": [
      "  Batch 184180 Loss: 1.8023 Top-1 error rate: 42.24% Top-5 error rate: 19.29%\n"
     ]
    },
    {
     "name": "stderr",
     "output_type": "stream",
     "text": [
      "100%|█████████▉| 5000/5005 [21:14<00:01,  3.92it/s]"
     ]
    },
    {
     "name": "stdout",
     "output_type": "stream",
     "text": [
      "  Batch 185180 Loss: 1.8070 Top-1 error rate: 42.40% Top-5 error rate: 19.41%\n"
     ]
    },
    {
     "name": "stderr",
     "output_type": "stream",
     "text": [
      "100%|██████████| 5005/5005 [21:16<00:00,  3.92it/s]\n",
      "Validation:  26%|██▌       | 100/391 [00:42<01:49,  2.65it/s]"
     ]
    },
    {
     "name": "stdout",
     "output_type": "stream",
     "text": [
      "  Validation Batch   100 Loss: 1.0544 Top-1 error: 25.62% Top-5 error: 7.05%\n"
     ]
    },
    {
     "name": "stderr",
     "output_type": "stream",
     "text": [
      "Validation:  51%|█████     | 200/391 [01:20<01:11,  2.66it/s]"
     ]
    },
    {
     "name": "stdout",
     "output_type": "stream",
     "text": [
      "  Validation Batch   200 Loss: 1.3810 Top-1 error: 31.85% Top-5 error: 11.05%\n"
     ]
    },
    {
     "name": "stderr",
     "output_type": "stream",
     "text": [
      "Validation:  77%|███████▋  | 300/391 [01:57<00:34,  2.66it/s]"
     ]
    },
    {
     "name": "stdout",
     "output_type": "stream",
     "text": [
      "  Validation Batch   300 Loss: 1.7388 Top-1 error: 37.92% Top-5 error: 15.93%\n"
     ]
    },
    {
     "name": "stderr",
     "output_type": "stream",
     "text": [
      "Validation: 100%|██████████| 391/391 [02:32<00:00,  2.57it/s]\n"
     ]
    },
    {
     "name": "stdout",
     "output_type": "stream",
     "text": [
      "LOSS train 1.7966 valid 1.4563\n",
      "Top-1 Error train 42.12% val 32.97%\n",
      "Top-5 Error train 19.28% val 12.20%\n",
      "EPOCH 38:\n"
     ]
    },
    {
     "name": "stderr",
     "output_type": "stream",
     "text": [
      " 20%|█▉        | 1000/5005 [04:17<16:58,  3.93it/s]"
     ]
    },
    {
     "name": "stdout",
     "output_type": "stream",
     "text": [
      "  Batch 186185 Loss: 1.7756 Top-1 error rate: 41.65% Top-5 error rate: 18.92%\n"
     ]
    },
    {
     "name": "stderr",
     "output_type": "stream",
     "text": [
      " 40%|███▉      | 2000/5005 [08:31<12:45,  3.93it/s]"
     ]
    },
    {
     "name": "stdout",
     "output_type": "stream",
     "text": [
      "  Batch 187185 Loss: 1.7743 Top-1 error rate: 41.71% Top-5 error rate: 18.88%\n"
     ]
    },
    {
     "name": "stderr",
     "output_type": "stream",
     "text": [
      " 60%|█████▉    | 3000/5005 [12:45<08:29,  3.94it/s]"
     ]
    },
    {
     "name": "stdout",
     "output_type": "stream",
     "text": [
      "  Batch 188185 Loss: 1.7814 Top-1 error rate: 41.88% Top-5 error rate: 19.15%\n"
     ]
    },
    {
     "name": "stderr",
     "output_type": "stream",
     "text": [
      " 80%|███████▉  | 4000/5005 [16:59<04:15,  3.94it/s]"
     ]
    },
    {
     "name": "stdout",
     "output_type": "stream",
     "text": [
      "  Batch 189185 Loss: 1.7799 Top-1 error rate: 41.83% Top-5 error rate: 19.05%\n"
     ]
    },
    {
     "name": "stderr",
     "output_type": "stream",
     "text": [
      "100%|█████████▉| 5000/5005 [21:13<00:01,  3.95it/s]"
     ]
    },
    {
     "name": "stdout",
     "output_type": "stream",
     "text": [
      "  Batch 190185 Loss: 1.7792 Top-1 error rate: 41.67% Top-5 error rate: 19.00%\n"
     ]
    },
    {
     "name": "stderr",
     "output_type": "stream",
     "text": [
      "100%|██████████| 5005/5005 [21:15<00:00,  3.93it/s]\n",
      "Validation:  26%|██▌       | 100/391 [00:43<01:49,  2.65it/s]"
     ]
    },
    {
     "name": "stdout",
     "output_type": "stream",
     "text": [
      "  Validation Batch   100 Loss: 1.0773 Top-1 error: 26.34% Top-5 error: 7.38%\n"
     ]
    },
    {
     "name": "stderr",
     "output_type": "stream",
     "text": [
      "Validation:  51%|█████     | 200/391 [01:28<01:27,  2.19it/s]"
     ]
    },
    {
     "name": "stdout",
     "output_type": "stream",
     "text": [
      "  Validation Batch   200 Loss: 1.3719 Top-1 error: 31.59% Top-5 error: 11.11%\n"
     ]
    },
    {
     "name": "stderr",
     "output_type": "stream",
     "text": [
      "Validation:  77%|███████▋  | 300/391 [02:11<00:37,  2.45it/s]"
     ]
    },
    {
     "name": "stdout",
     "output_type": "stream",
     "text": [
      "  Validation Batch   300 Loss: 1.6850 Top-1 error: 37.09% Top-5 error: 15.45%\n"
     ]
    },
    {
     "name": "stderr",
     "output_type": "stream",
     "text": [
      "Validation: 100%|██████████| 391/391 [02:50<00:00,  2.29it/s]\n"
     ]
    },
    {
     "name": "stdout",
     "output_type": "stream",
     "text": [
      "LOSS train 1.7781 valid 1.4416\n",
      "Top-1 Error train 41.75% val 32.88%\n",
      "Top-5 Error train 19.00% val 12.10%\n",
      "EPOCH 39:\n"
     ]
    },
    {
     "name": "stderr",
     "output_type": "stream",
     "text": [
      " 20%|█▉        | 1000/5005 [04:17<16:55,  3.94it/s]"
     ]
    },
    {
     "name": "stdout",
     "output_type": "stream",
     "text": [
      "  Batch 191190 Loss: 1.7596 Top-1 error rate: 41.45% Top-5 error rate: 18.75%\n"
     ]
    },
    {
     "name": "stderr",
     "output_type": "stream",
     "text": [
      " 40%|███▉      | 2000/5005 [08:32<12:41,  3.95it/s]"
     ]
    },
    {
     "name": "stdout",
     "output_type": "stream",
     "text": [
      "  Batch 192190 Loss: 1.7575 Top-1 error rate: 41.28% Top-5 error rate: 18.64%\n"
     ]
    },
    {
     "name": "stderr",
     "output_type": "stream",
     "text": [
      " 60%|█████▉    | 3000/5005 [12:46<08:29,  3.93it/s]"
     ]
    },
    {
     "name": "stdout",
     "output_type": "stream",
     "text": [
      "  Batch 193190 Loss: 1.7671 Top-1 error rate: 41.59% Top-5 error rate: 18.76%\n"
     ]
    },
    {
     "name": "stderr",
     "output_type": "stream",
     "text": [
      " 80%|███████▉  | 4000/5005 [17:00<04:14,  3.95it/s]"
     ]
    },
    {
     "name": "stdout",
     "output_type": "stream",
     "text": [
      "  Batch 194190 Loss: 1.7667 Top-1 error rate: 41.62% Top-5 error rate: 18.88%\n"
     ]
    },
    {
     "name": "stderr",
     "output_type": "stream",
     "text": [
      "100%|█████████▉| 5000/5005 [21:14<00:01,  3.95it/s]"
     ]
    },
    {
     "name": "stdout",
     "output_type": "stream",
     "text": [
      "  Batch 195190 Loss: 1.7752 Top-1 error rate: 41.61% Top-5 error rate: 18.96%\n"
     ]
    },
    {
     "name": "stderr",
     "output_type": "stream",
     "text": [
      "100%|██████████| 5005/5005 [21:15<00:00,  3.92it/s]\n",
      "Validation:  26%|██▌       | 100/391 [00:42<01:52,  2.58it/s]"
     ]
    },
    {
     "name": "stdout",
     "output_type": "stream",
     "text": [
      "  Validation Batch   100 Loss: 1.0821 Top-1 error: 25.60% Top-5 error: 7.29%\n"
     ]
    },
    {
     "name": "stderr",
     "output_type": "stream",
     "text": [
      "Validation:  51%|█████     | 200/391 [01:22<01:24,  2.26it/s]"
     ]
    },
    {
     "name": "stdout",
     "output_type": "stream",
     "text": [
      "  Validation Batch   200 Loss: 1.3539 Top-1 error: 30.82% Top-5 error: 11.02%\n"
     ]
    },
    {
     "name": "stderr",
     "output_type": "stream",
     "text": [
      "Validation:  77%|███████▋  | 300/391 [02:05<00:34,  2.65it/s]"
     ]
    },
    {
     "name": "stdout",
     "output_type": "stream",
     "text": [
      "  Validation Batch   300 Loss: 1.7070 Top-1 error: 37.32% Top-5 error: 15.73%\n"
     ]
    },
    {
     "name": "stderr",
     "output_type": "stream",
     "text": [
      "Validation: 100%|██████████| 391/391 [02:43<00:00,  2.39it/s]\n"
     ]
    },
    {
     "name": "stdout",
     "output_type": "stream",
     "text": [
      "LOSS train 1.7652 valid 1.4434\n",
      "Top-1 Error train 41.51% val 32.47%\n",
      "Top-5 Error train 18.80% val 12.11%\n",
      "EPOCH 40:\n"
     ]
    },
    {
     "name": "stderr",
     "output_type": "stream",
     "text": [
      " 20%|█▉        | 1000/5005 [04:18<17:02,  3.92it/s]"
     ]
    },
    {
     "name": "stdout",
     "output_type": "stream",
     "text": [
      "  Batch 196195 Loss: 1.7428 Top-1 error rate: 41.08% Top-5 error rate: 18.47%\n"
     ]
    },
    {
     "name": "stderr",
     "output_type": "stream",
     "text": [
      " 40%|███▉      | 2000/5005 [08:32<12:41,  3.95it/s]"
     ]
    },
    {
     "name": "stdout",
     "output_type": "stream",
     "text": [
      "  Batch 197195 Loss: 1.7510 Top-1 error rate: 41.24% Top-5 error rate: 18.62%\n"
     ]
    },
    {
     "name": "stderr",
     "output_type": "stream",
     "text": [
      " 60%|█████▉    | 3000/5005 [12:46<08:30,  3.93it/s]"
     ]
    },
    {
     "name": "stdout",
     "output_type": "stream",
     "text": [
      "  Batch 198195 Loss: 1.7627 Top-1 error rate: 41.43% Top-5 error rate: 18.71%\n"
     ]
    },
    {
     "name": "stderr",
     "output_type": "stream",
     "text": [
      " 80%|███████▉  | 4000/5005 [17:00<04:16,  3.92it/s]"
     ]
    },
    {
     "name": "stdout",
     "output_type": "stream",
     "text": [
      "  Batch 199195 Loss: 1.7565 Top-1 error rate: 41.31% Top-5 error rate: 18.66%\n"
     ]
    },
    {
     "name": "stderr",
     "output_type": "stream",
     "text": [
      "100%|█████████▉| 5000/5005 [21:14<00:01,  3.94it/s]"
     ]
    },
    {
     "name": "stdout",
     "output_type": "stream",
     "text": [
      "  Batch 200195 Loss: 1.7597 Top-1 error rate: 41.43% Top-5 error rate: 18.65%\n"
     ]
    },
    {
     "name": "stderr",
     "output_type": "stream",
     "text": [
      "100%|██████████| 5005/5005 [21:16<00:00,  3.92it/s]\n",
      "Validation:  26%|██▌       | 100/391 [00:42<01:50,  2.63it/s]"
     ]
    },
    {
     "name": "stdout",
     "output_type": "stream",
     "text": [
      "  Validation Batch   100 Loss: 1.0889 Top-1 error: 26.27% Top-5 error: 7.31%\n"
     ]
    },
    {
     "name": "stderr",
     "output_type": "stream",
     "text": [
      "Validation:  51%|█████     | 200/391 [01:20<01:12,  2.65it/s]"
     ]
    },
    {
     "name": "stdout",
     "output_type": "stream",
     "text": [
      "  Validation Batch   200 Loss: 1.3505 Top-1 error: 30.93% Top-5 error: 10.80%\n"
     ]
    },
    {
     "name": "stderr",
     "output_type": "stream",
     "text": [
      "Validation:  77%|███████▋  | 300/391 [02:00<00:34,  2.64it/s]"
     ]
    },
    {
     "name": "stdout",
     "output_type": "stream",
     "text": [
      "  Validation Batch   300 Loss: 1.7043 Top-1 error: 37.00% Top-5 error: 15.41%\n"
     ]
    },
    {
     "name": "stderr",
     "output_type": "stream",
     "text": [
      "Validation: 100%|██████████| 391/391 [02:36<00:00,  2.49it/s]\n"
     ]
    },
    {
     "name": "stdout",
     "output_type": "stream",
     "text": [
      "LOSS train 1.7545 valid 1.4409\n",
      "Top-1 Error train 41.29% val 32.59%\n",
      "Top-5 Error train 18.62% val 11.99%\n",
      "EPOCH 41:\n"
     ]
    },
    {
     "name": "stderr",
     "output_type": "stream",
     "text": [
      " 20%|█▉        | 1000/5005 [04:18<16:58,  3.93it/s]"
     ]
    },
    {
     "name": "stdout",
     "output_type": "stream",
     "text": [
      "  Batch 201200 Loss: 1.7306 Top-1 error rate: 40.78% Top-5 error rate: 18.29%\n"
     ]
    },
    {
     "name": "stderr",
     "output_type": "stream",
     "text": [
      " 40%|███▉      | 2000/5005 [08:33<12:45,  3.93it/s]"
     ]
    },
    {
     "name": "stdout",
     "output_type": "stream",
     "text": [
      "  Batch 202200 Loss: 1.7430 Top-1 error rate: 41.23% Top-5 error rate: 18.44%\n"
     ]
    },
    {
     "name": "stderr",
     "output_type": "stream",
     "text": [
      " 60%|█████▉    | 3000/5005 [12:48<08:30,  3.93it/s]"
     ]
    },
    {
     "name": "stdout",
     "output_type": "stream",
     "text": [
      "  Batch 203200 Loss: 1.7524 Top-1 error rate: 41.31% Top-5 error rate: 18.55%\n"
     ]
    },
    {
     "name": "stderr",
     "output_type": "stream",
     "text": [
      " 80%|███████▉  | 4000/5005 [17:03<04:16,  3.91it/s]"
     ]
    },
    {
     "name": "stdout",
     "output_type": "stream",
     "text": [
      "  Batch 204200 Loss: 1.7471 Top-1 error rate: 41.12% Top-5 error rate: 18.55%\n"
     ]
    },
    {
     "name": "stderr",
     "output_type": "stream",
     "text": [
      "100%|█████████▉| 5000/5005 [21:18<00:01,  3.95it/s]"
     ]
    },
    {
     "name": "stdout",
     "output_type": "stream",
     "text": [
      "  Batch 205200 Loss: 1.7519 Top-1 error rate: 41.20% Top-5 error rate: 18.64%\n"
     ]
    },
    {
     "name": "stderr",
     "output_type": "stream",
     "text": [
      "100%|██████████| 5005/5005 [21:19<00:00,  3.91it/s]\n",
      "Validation:  26%|██▌       | 100/391 [00:43<01:58,  2.46it/s]"
     ]
    },
    {
     "name": "stdout",
     "output_type": "stream",
     "text": [
      "  Validation Batch   100 Loss: 1.0596 Top-1 error: 25.34% Top-5 error: 6.86%\n"
     ]
    },
    {
     "name": "stderr",
     "output_type": "stream",
     "text": [
      "Validation:  51%|█████     | 200/391 [01:21<01:11,  2.66it/s]"
     ]
    },
    {
     "name": "stdout",
     "output_type": "stream",
     "text": [
      "  Validation Batch   200 Loss: 1.3595 Top-1 error: 30.70% Top-5 error: 10.56%\n"
     ]
    },
    {
     "name": "stderr",
     "output_type": "stream",
     "text": [
      "Validation:  77%|███████▋  | 300/391 [02:02<00:34,  2.61it/s]"
     ]
    },
    {
     "name": "stdout",
     "output_type": "stream",
     "text": [
      "  Validation Batch   300 Loss: 1.7414 Top-1 error: 36.88% Top-5 error: 15.38%\n"
     ]
    },
    {
     "name": "stderr",
     "output_type": "stream",
     "text": [
      "Validation: 100%|██████████| 391/391 [02:41<00:00,  2.42it/s]\n"
     ]
    },
    {
     "name": "stdout",
     "output_type": "stream",
     "text": [
      "LOSS train 1.7451 valid 1.4537\n",
      "Top-1 Error train 41.13% val 32.24%\n",
      "Top-5 Error train 18.49% val 11.75%\n",
      "EPOCH 42:\n"
     ]
    },
    {
     "name": "stderr",
     "output_type": "stream",
     "text": [
      " 20%|█▉        | 1000/5005 [04:18<17:03,  3.91it/s]"
     ]
    },
    {
     "name": "stdout",
     "output_type": "stream",
     "text": [
      "  Batch 206205 Loss: 1.7238 Top-1 error rate: 40.60% Top-5 error rate: 18.18%\n"
     ]
    },
    {
     "name": "stderr",
     "output_type": "stream",
     "text": [
      " 40%|███▉      | 2000/5005 [08:33<12:43,  3.94it/s]"
     ]
    },
    {
     "name": "stdout",
     "output_type": "stream",
     "text": [
      "  Batch 207205 Loss: 1.7326 Top-1 error rate: 41.00% Top-5 error rate: 18.34%\n"
     ]
    },
    {
     "name": "stderr",
     "output_type": "stream",
     "text": [
      " 60%|█████▉    | 3000/5005 [12:47<08:29,  3.94it/s]"
     ]
    },
    {
     "name": "stdout",
     "output_type": "stream",
     "text": [
      "  Batch 208205 Loss: 1.7362 Top-1 error rate: 40.95% Top-5 error rate: 18.36%\n"
     ]
    },
    {
     "name": "stderr",
     "output_type": "stream",
     "text": [
      " 80%|███████▉  | 4000/5005 [17:03<04:17,  3.90it/s]"
     ]
    },
    {
     "name": "stdout",
     "output_type": "stream",
     "text": [
      "  Batch 209205 Loss: 1.7425 Top-1 error rate: 40.99% Top-5 error rate: 18.43%\n"
     ]
    },
    {
     "name": "stderr",
     "output_type": "stream",
     "text": [
      "100%|█████████▉| 5000/5005 [21:18<00:01,  3.95it/s]"
     ]
    },
    {
     "name": "stdout",
     "output_type": "stream",
     "text": [
      "  Batch 210205 Loss: 1.7437 Top-1 error rate: 41.04% Top-5 error rate: 18.48%\n"
     ]
    },
    {
     "name": "stderr",
     "output_type": "stream",
     "text": [
      "100%|██████████| 5005/5005 [21:19<00:00,  3.91it/s]\n",
      "Validation:  26%|██▌       | 100/391 [00:46<01:50,  2.64it/s]"
     ]
    },
    {
     "name": "stdout",
     "output_type": "stream",
     "text": [
      "  Validation Batch   100 Loss: 1.0362 Top-1 error: 25.57% Top-5 error: 7.02%\n"
     ]
    },
    {
     "name": "stderr",
     "output_type": "stream",
     "text": [
      "Validation:  51%|█████     | 200/391 [01:29<01:18,  2.43it/s]"
     ]
    },
    {
     "name": "stdout",
     "output_type": "stream",
     "text": [
      "  Validation Batch   200 Loss: 1.3396 Top-1 error: 30.79% Top-5 error: 10.88%\n"
     ]
    },
    {
     "name": "stderr",
     "output_type": "stream",
     "text": [
      "Validation:  77%|███████▋  | 300/391 [02:11<00:45,  2.01it/s]"
     ]
    },
    {
     "name": "stdout",
     "output_type": "stream",
     "text": [
      "  Validation Batch   300 Loss: 1.6843 Top-1 error: 36.87% Top-5 error: 15.40%\n"
     ]
    },
    {
     "name": "stderr",
     "output_type": "stream",
     "text": [
      "Validation: 100%|██████████| 391/391 [02:48<00:00,  2.32it/s]\n"
     ]
    },
    {
     "name": "stdout",
     "output_type": "stream",
     "text": [
      "LOSS train 1.7358 valid 1.4119\n",
      "Top-1 Error train 40.92% val 32.22%\n",
      "Top-5 Error train 18.36% val 11.86%\n",
      "EPOCH 43:\n"
     ]
    },
    {
     "name": "stderr",
     "output_type": "stream",
     "text": [
      " 20%|█▉        | 1000/5005 [04:18<16:59,  3.93it/s]"
     ]
    },
    {
     "name": "stdout",
     "output_type": "stream",
     "text": [
      "  Batch 211210 Loss: 1.7094 Top-1 error rate: 40.45% Top-5 error rate: 18.00%\n"
     ]
    },
    {
     "name": "stderr",
     "output_type": "stream",
     "text": [
      " 40%|███▉      | 2000/5005 [08:33<12:45,  3.92it/s]"
     ]
    },
    {
     "name": "stdout",
     "output_type": "stream",
     "text": [
      "  Batch 212210 Loss: 1.7212 Top-1 error rate: 40.60% Top-5 error rate: 18.19%\n"
     ]
    },
    {
     "name": "stderr",
     "output_type": "stream",
     "text": [
      " 60%|█████▉    | 3000/5005 [12:48<08:30,  3.93it/s]"
     ]
    },
    {
     "name": "stdout",
     "output_type": "stream",
     "text": [
      "  Batch 213210 Loss: 1.7246 Top-1 error rate: 40.82% Top-5 error rate: 18.13%\n"
     ]
    },
    {
     "name": "stderr",
     "output_type": "stream",
     "text": [
      " 80%|███████▉  | 4000/5005 [17:03<04:15,  3.94it/s]"
     ]
    },
    {
     "name": "stdout",
     "output_type": "stream",
     "text": [
      "  Batch 214210 Loss: 1.7306 Top-1 error rate: 40.87% Top-5 error rate: 18.25%\n"
     ]
    },
    {
     "name": "stderr",
     "output_type": "stream",
     "text": [
      "100%|█████████▉| 5000/5005 [21:18<00:01,  3.92it/s]"
     ]
    },
    {
     "name": "stdout",
     "output_type": "stream",
     "text": [
      "  Batch 215210 Loss: 1.7374 Top-1 error rate: 40.91% Top-5 error rate: 18.33%\n"
     ]
    },
    {
     "name": "stderr",
     "output_type": "stream",
     "text": [
      "100%|██████████| 5005/5005 [21:19<00:00,  3.91it/s]\n",
      "Validation:  26%|██▌       | 100/391 [00:45<02:41,  1.80it/s]"
     ]
    },
    {
     "name": "stdout",
     "output_type": "stream",
     "text": [
      "  Validation Batch   100 Loss: 1.0809 Top-1 error: 25.53% Top-5 error: 7.02%\n"
     ]
    },
    {
     "name": "stderr",
     "output_type": "stream",
     "text": [
      "Validation:  51%|█████     | 200/391 [01:26<01:15,  2.53it/s]"
     ]
    },
    {
     "name": "stdout",
     "output_type": "stream",
     "text": [
      "  Validation Batch   200 Loss: 1.4029 Top-1 error: 31.24% Top-5 error: 10.82%\n"
     ]
    },
    {
     "name": "stderr",
     "output_type": "stream",
     "text": [
      "Validation:  77%|███████▋  | 300/391 [02:08<00:38,  2.37it/s]"
     ]
    },
    {
     "name": "stdout",
     "output_type": "stream",
     "text": [
      "  Validation Batch   300 Loss: 1.7748 Top-1 error: 37.38% Top-5 error: 15.46%\n"
     ]
    },
    {
     "name": "stderr",
     "output_type": "stream",
     "text": [
      "Validation: 100%|██████████| 391/391 [02:46<00:00,  2.34it/s]\n"
     ]
    },
    {
     "name": "stdout",
     "output_type": "stream",
     "text": [
      "LOSS train 1.7246 valid 1.4813\n",
      "Top-1 Error train 40.73% val 32.51%\n",
      "Top-5 Error train 18.18% val 11.84%\n",
      "EPOCH 44:\n"
     ]
    },
    {
     "name": "stderr",
     "output_type": "stream",
     "text": [
      " 20%|█▉        | 1000/5005 [04:19<17:06,  3.90it/s]"
     ]
    },
    {
     "name": "stdout",
     "output_type": "stream",
     "text": [
      "  Batch 216215 Loss: 1.7141 Top-1 error rate: 40.52% Top-5 error rate: 18.03%\n"
     ]
    },
    {
     "name": "stderr",
     "output_type": "stream",
     "text": [
      " 40%|███▉      | 2000/5005 [08:35<12:49,  3.90it/s]"
     ]
    },
    {
     "name": "stdout",
     "output_type": "stream",
     "text": [
      "  Batch 217215 Loss: 1.7117 Top-1 error rate: 40.41% Top-5 error rate: 18.03%\n"
     ]
    },
    {
     "name": "stderr",
     "output_type": "stream",
     "text": [
      " 60%|█████▉    | 3000/5005 [12:50<08:35,  3.89it/s]"
     ]
    },
    {
     "name": "stdout",
     "output_type": "stream",
     "text": [
      "  Batch 218215 Loss: 1.7224 Top-1 error rate: 40.76% Top-5 error rate: 18.10%\n"
     ]
    },
    {
     "name": "stderr",
     "output_type": "stream",
     "text": [
      " 80%|███████▉  | 4000/5005 [17:05<04:16,  3.92it/s]"
     ]
    },
    {
     "name": "stdout",
     "output_type": "stream",
     "text": [
      "  Batch 219215 Loss: 1.7298 Top-1 error rate: 40.87% Top-5 error rate: 18.22%\n"
     ]
    },
    {
     "name": "stderr",
     "output_type": "stream",
     "text": [
      "100%|█████████▉| 5000/5005 [21:20<00:01,  3.94it/s]"
     ]
    },
    {
     "name": "stdout",
     "output_type": "stream",
     "text": [
      "  Batch 220215 Loss: 1.7166 Top-1 error rate: 40.57% Top-5 error rate: 17.96%\n"
     ]
    },
    {
     "name": "stderr",
     "output_type": "stream",
     "text": [
      "100%|██████████| 5005/5005 [21:22<00:00,  3.90it/s]\n",
      "Validation:  26%|██▌       | 100/391 [00:45<01:49,  2.65it/s]"
     ]
    },
    {
     "name": "stdout",
     "output_type": "stream",
     "text": [
      "  Validation Batch   100 Loss: 1.0300 Top-1 error: 25.46% Top-5 error: 7.05%\n"
     ]
    },
    {
     "name": "stderr",
     "output_type": "stream",
     "text": [
      "Validation:  51%|█████     | 200/391 [01:27<01:16,  2.49it/s]"
     ]
    },
    {
     "name": "stdout",
     "output_type": "stream",
     "text": [
      "  Validation Batch   200 Loss: 1.3284 Top-1 error: 30.56% Top-5 error: 10.62%\n"
     ]
    },
    {
     "name": "stderr",
     "output_type": "stream",
     "text": [
      "Validation:  77%|███████▋  | 300/391 [02:12<00:53,  1.69it/s]"
     ]
    },
    {
     "name": "stdout",
     "output_type": "stream",
     "text": [
      "  Validation Batch   300 Loss: 1.6703 Top-1 error: 37.09% Top-5 error: 15.23%\n"
     ]
    },
    {
     "name": "stderr",
     "output_type": "stream",
     "text": [
      "Validation: 100%|██████████| 391/391 [02:51<00:00,  2.28it/s]\n"
     ]
    },
    {
     "name": "stdout",
     "output_type": "stream",
     "text": [
      "LOSS train 1.7189 valid 1.4060\n",
      "Top-1 Error train 40.63% val 32.29%\n",
      "Top-5 Error train 18.07% val 11.75%\n",
      "EPOCH 45:\n"
     ]
    },
    {
     "name": "stderr",
     "output_type": "stream",
     "text": [
      " 20%|█▉        | 1000/5005 [04:18<17:01,  3.92it/s]"
     ]
    },
    {
     "name": "stdout",
     "output_type": "stream",
     "text": [
      "  Batch 221220 Loss: 1.7023 Top-1 error rate: 40.29% Top-5 error rate: 17.87%\n"
     ]
    },
    {
     "name": "stderr",
     "output_type": "stream",
     "text": [
      " 40%|███▉      | 2000/5005 [08:32<12:41,  3.94it/s]"
     ]
    },
    {
     "name": "stdout",
     "output_type": "stream",
     "text": [
      "  Batch 222220 Loss: 1.7088 Top-1 error rate: 40.46% Top-5 error rate: 17.91%\n"
     ]
    },
    {
     "name": "stderr",
     "output_type": "stream",
     "text": [
      " 60%|█████▉    | 3000/5005 [12:46<08:31,  3.92it/s]"
     ]
    },
    {
     "name": "stdout",
     "output_type": "stream",
     "text": [
      "  Batch 223220 Loss: 1.7095 Top-1 error rate: 40.47% Top-5 error rate: 17.94%\n"
     ]
    },
    {
     "name": "stderr",
     "output_type": "stream",
     "text": [
      " 80%|███████▉  | 4000/5005 [17:00<04:15,  3.94it/s]"
     ]
    },
    {
     "name": "stdout",
     "output_type": "stream",
     "text": [
      "  Batch 224220 Loss: 1.7182 Top-1 error rate: 40.65% Top-5 error rate: 18.09%\n"
     ]
    },
    {
     "name": "stderr",
     "output_type": "stream",
     "text": [
      "100%|█████████▉| 5000/5005 [21:15<00:01,  3.95it/s]"
     ]
    },
    {
     "name": "stdout",
     "output_type": "stream",
     "text": [
      "  Batch 225220 Loss: 1.7207 Top-1 error rate: 40.69% Top-5 error rate: 18.09%\n"
     ]
    },
    {
     "name": "stderr",
     "output_type": "stream",
     "text": [
      "100%|██████████| 5005/5005 [21:16<00:00,  3.92it/s]\n",
      "Validation:  26%|██▌       | 100/391 [00:42<01:49,  2.66it/s]"
     ]
    },
    {
     "name": "stdout",
     "output_type": "stream",
     "text": [
      "  Validation Batch   100 Loss: 1.0823 Top-1 error: 25.52% Top-5 error: 7.00%\n"
     ]
    },
    {
     "name": "stderr",
     "output_type": "stream",
     "text": [
      "Validation:  51%|█████     | 200/391 [01:20<01:33,  2.04it/s]"
     ]
    },
    {
     "name": "stdout",
     "output_type": "stream",
     "text": [
      "  Validation Batch   200 Loss: 1.3806 Top-1 error: 31.50% Top-5 error: 10.61%\n"
     ]
    },
    {
     "name": "stderr",
     "output_type": "stream",
     "text": [
      "Validation:  77%|███████▋  | 300/391 [02:00<00:34,  2.65it/s]"
     ]
    },
    {
     "name": "stdout",
     "output_type": "stream",
     "text": [
      "  Validation Batch   300 Loss: 1.6824 Top-1 error: 36.65% Top-5 error: 14.84%\n"
     ]
    },
    {
     "name": "stderr",
     "output_type": "stream",
     "text": [
      "Validation: 100%|██████████| 391/391 [02:37<00:00,  2.48it/s]\n"
     ]
    },
    {
     "name": "stdout",
     "output_type": "stream",
     "text": [
      "LOSS train 1.7119 valid 1.4383\n",
      "Top-1 Error train 40.51% val 32.47%\n",
      "Top-5 Error train 17.98% val 11.61%\n",
      "EPOCH 46:\n"
     ]
    },
    {
     "name": "stderr",
     "output_type": "stream",
     "text": [
      " 20%|█▉        | 1000/5005 [04:18<16:59,  3.93it/s]"
     ]
    },
    {
     "name": "stdout",
     "output_type": "stream",
     "text": [
      "  Batch 226225 Loss: 1.6876 Top-1 error rate: 40.02% Top-5 error rate: 17.62%\n"
     ]
    },
    {
     "name": "stderr",
     "output_type": "stream",
     "text": [
      " 40%|███▉      | 2000/5005 [08:32<12:46,  3.92it/s]"
     ]
    },
    {
     "name": "stdout",
     "output_type": "stream",
     "text": [
      "  Batch 227225 Loss: 1.7087 Top-1 error rate: 40.39% Top-5 error rate: 17.88%\n"
     ]
    },
    {
     "name": "stderr",
     "output_type": "stream",
     "text": [
      " 60%|█████▉    | 3000/5005 [12:47<08:30,  3.93it/s]"
     ]
    },
    {
     "name": "stdout",
     "output_type": "stream",
     "text": [
      "  Batch 228225 Loss: 1.7100 Top-1 error rate: 40.46% Top-5 error rate: 17.93%\n"
     ]
    },
    {
     "name": "stderr",
     "output_type": "stream",
     "text": [
      " 80%|███████▉  | 4000/5005 [17:01<04:15,  3.93it/s]"
     ]
    },
    {
     "name": "stdout",
     "output_type": "stream",
     "text": [
      "  Batch 229225 Loss: 1.7123 Top-1 error rate: 40.58% Top-5 error rate: 17.89%\n"
     ]
    },
    {
     "name": "stderr",
     "output_type": "stream",
     "text": [
      "100%|█████████▉| 5000/5005 [21:15<00:01,  3.95it/s]"
     ]
    },
    {
     "name": "stdout",
     "output_type": "stream",
     "text": [
      "  Batch 230225 Loss: 1.7130 Top-1 error rate: 40.40% Top-5 error rate: 18.02%\n"
     ]
    },
    {
     "name": "stderr",
     "output_type": "stream",
     "text": [
      "100%|██████████| 5005/5005 [21:16<00:00,  3.92it/s]\n",
      "Validation:  26%|██▌       | 100/391 [00:45<01:51,  2.62it/s]"
     ]
    },
    {
     "name": "stdout",
     "output_type": "stream",
     "text": [
      "  Validation Batch   100 Loss: 1.0567 Top-1 error: 25.21% Top-5 error: 6.99%\n"
     ]
    },
    {
     "name": "stderr",
     "output_type": "stream",
     "text": [
      "Validation:  51%|█████     | 200/391 [01:27<01:18,  2.43it/s]"
     ]
    },
    {
     "name": "stdout",
     "output_type": "stream",
     "text": [
      "  Validation Batch   200 Loss: 1.3467 Top-1 error: 30.74% Top-5 error: 10.80%\n"
     ]
    },
    {
     "name": "stderr",
     "output_type": "stream",
     "text": [
      "Validation:  77%|███████▋  | 300/391 [02:10<00:36,  2.47it/s]"
     ]
    },
    {
     "name": "stdout",
     "output_type": "stream",
     "text": [
      "  Validation Batch   300 Loss: 1.6576 Top-1 error: 36.53% Top-5 error: 14.70%\n"
     ]
    },
    {
     "name": "stderr",
     "output_type": "stream",
     "text": [
      "Validation: 100%|██████████| 391/391 [02:50<00:00,  2.29it/s]\n"
     ]
    },
    {
     "name": "stdout",
     "output_type": "stream",
     "text": [
      "LOSS train 1.7062 valid 1.4183\n",
      "Top-1 Error train 40.37% val 32.08%\n",
      "Top-5 Error train 17.87% val 11.56%\n",
      "EPOCH 47:\n"
     ]
    },
    {
     "name": "stderr",
     "output_type": "stream",
     "text": [
      " 20%|█▉        | 1000/5005 [04:17<16:56,  3.94it/s]"
     ]
    },
    {
     "name": "stdout",
     "output_type": "stream",
     "text": [
      "  Batch 231230 Loss: 1.6910 Top-1 error rate: 40.16% Top-5 error rate: 17.67%\n"
     ]
    },
    {
     "name": "stderr",
     "output_type": "stream",
     "text": [
      " 40%|███▉      | 2000/5005 [08:32<12:50,  3.90it/s]"
     ]
    },
    {
     "name": "stdout",
     "output_type": "stream",
     "text": [
      "  Batch 232230 Loss: 1.6948 Top-1 error rate: 40.21% Top-5 error rate: 17.75%\n"
     ]
    },
    {
     "name": "stderr",
     "output_type": "stream",
     "text": [
      " 60%|█████▉    | 3000/5005 [12:46<08:29,  3.93it/s]"
     ]
    },
    {
     "name": "stdout",
     "output_type": "stream",
     "text": [
      "  Batch 233230 Loss: 1.7081 Top-1 error rate: 40.38% Top-5 error rate: 17.85%\n"
     ]
    },
    {
     "name": "stderr",
     "output_type": "stream",
     "text": [
      " 80%|███████▉  | 4000/5005 [17:01<04:14,  3.95it/s]"
     ]
    },
    {
     "name": "stdout",
     "output_type": "stream",
     "text": [
      "  Batch 234230 Loss: 1.7067 Top-1 error rate: 40.47% Top-5 error rate: 17.84%\n"
     ]
    },
    {
     "name": "stderr",
     "output_type": "stream",
     "text": [
      "100%|█████████▉| 5000/5005 [21:15<00:01,  3.95it/s]"
     ]
    },
    {
     "name": "stdout",
     "output_type": "stream",
     "text": [
      "  Batch 235230 Loss: 1.7045 Top-1 error rate: 40.43% Top-5 error rate: 17.79%\n"
     ]
    },
    {
     "name": "stderr",
     "output_type": "stream",
     "text": [
      "100%|██████████| 5005/5005 [21:17<00:00,  3.92it/s]\n",
      "Validation:  26%|██▌       | 100/391 [00:46<01:49,  2.65it/s]"
     ]
    },
    {
     "name": "stdout",
     "output_type": "stream",
     "text": [
      "  Validation Batch   100 Loss: 1.0655 Top-1 error: 25.43% Top-5 error: 6.96%\n"
     ]
    },
    {
     "name": "stderr",
     "output_type": "stream",
     "text": [
      "Validation:  51%|█████     | 200/391 [01:24<01:11,  2.65it/s]"
     ]
    },
    {
     "name": "stdout",
     "output_type": "stream",
     "text": [
      "  Validation Batch   200 Loss: 1.3709 Top-1 error: 30.70% Top-5 error: 10.66%\n"
     ]
    },
    {
     "name": "stderr",
     "output_type": "stream",
     "text": [
      "Validation:  77%|███████▋  | 300/391 [02:03<00:35,  2.58it/s]"
     ]
    },
    {
     "name": "stdout",
     "output_type": "stream",
     "text": [
      "  Validation Batch   300 Loss: 1.7358 Top-1 error: 36.80% Top-5 error: 15.38%\n"
     ]
    },
    {
     "name": "stderr",
     "output_type": "stream",
     "text": [
      "Validation: 100%|██████████| 391/391 [02:40<00:00,  2.44it/s]\n"
     ]
    },
    {
     "name": "stdout",
     "output_type": "stream",
     "text": [
      "LOSS train 1.7011 valid 1.4532\n",
      "Top-1 Error train 40.33% val 32.12%\n",
      "Top-5 Error train 17.78% val 11.69%\n",
      "EPOCH 48:\n"
     ]
    },
    {
     "name": "stderr",
     "output_type": "stream",
     "text": [
      " 20%|█▉        | 1000/5005 [04:18<16:56,  3.94it/s]"
     ]
    },
    {
     "name": "stdout",
     "output_type": "stream",
     "text": [
      "  Batch 236235 Loss: 1.6811 Top-1 error rate: 39.83% Top-5 error rate: 17.52%\n"
     ]
    },
    {
     "name": "stderr",
     "output_type": "stream",
     "text": [
      " 40%|███▉      | 2000/5005 [08:33<12:45,  3.93it/s]"
     ]
    },
    {
     "name": "stdout",
     "output_type": "stream",
     "text": [
      "  Batch 237235 Loss: 1.6928 Top-1 error rate: 40.11% Top-5 error rate: 17.71%\n"
     ]
    },
    {
     "name": "stderr",
     "output_type": "stream",
     "text": [
      " 60%|█████▉    | 3000/5005 [12:47<08:31,  3.92it/s]"
     ]
    },
    {
     "name": "stdout",
     "output_type": "stream",
     "text": [
      "  Batch 238235 Loss: 1.6997 Top-1 error rate: 40.27% Top-5 error rate: 17.74%\n"
     ]
    },
    {
     "name": "stderr",
     "output_type": "stream",
     "text": [
      " 80%|███████▉  | 4000/5005 [17:01<04:14,  3.95it/s]"
     ]
    },
    {
     "name": "stdout",
     "output_type": "stream",
     "text": [
      "  Batch 239235 Loss: 1.6952 Top-1 error rate: 40.24% Top-5 error rate: 17.73%\n"
     ]
    },
    {
     "name": "stderr",
     "output_type": "stream",
     "text": [
      "100%|█████████▉| 5000/5005 [21:15<00:01,  3.95it/s]"
     ]
    },
    {
     "name": "stdout",
     "output_type": "stream",
     "text": [
      "  Batch 240235 Loss: 1.7099 Top-1 error rate: 40.37% Top-5 error rate: 17.89%\n"
     ]
    },
    {
     "name": "stderr",
     "output_type": "stream",
     "text": [
      "100%|██████████| 5005/5005 [21:16<00:00,  3.92it/s]\n",
      "Validation:  26%|██▌       | 100/391 [00:45<02:55,  1.66it/s]"
     ]
    },
    {
     "name": "stdout",
     "output_type": "stream",
     "text": [
      "  Validation Batch   100 Loss: 1.0282 Top-1 error: 25.80% Top-5 error: 6.84%\n"
     ]
    },
    {
     "name": "stderr",
     "output_type": "stream",
     "text": [
      "Validation:  51%|█████     | 200/391 [01:24<01:11,  2.66it/s]"
     ]
    },
    {
     "name": "stdout",
     "output_type": "stream",
     "text": [
      "  Validation Batch   200 Loss: 1.3187 Top-1 error: 30.91% Top-5 error: 10.55%\n"
     ]
    },
    {
     "name": "stderr",
     "output_type": "stream",
     "text": [
      "Validation:  77%|███████▋  | 300/391 [02:04<00:34,  2.66it/s]"
     ]
    },
    {
     "name": "stdout",
     "output_type": "stream",
     "text": [
      "  Validation Batch   300 Loss: 1.6418 Top-1 error: 36.44% Top-5 error: 14.98%\n"
     ]
    },
    {
     "name": "stderr",
     "output_type": "stream",
     "text": [
      "Validation: 100%|██████████| 391/391 [02:40<00:00,  2.44it/s]\n"
     ]
    },
    {
     "name": "stdout",
     "output_type": "stream",
     "text": [
      "LOSS train 1.6957 valid 1.3830\n",
      "Top-1 Error train 40.16% val 32.11%\n",
      "Top-5 Error train 17.72% val 11.48%\n",
      "EPOCH 49:\n"
     ]
    },
    {
     "name": "stderr",
     "output_type": "stream",
     "text": [
      " 20%|█▉        | 1000/5005 [04:18<16:57,  3.94it/s]"
     ]
    },
    {
     "name": "stdout",
     "output_type": "stream",
     "text": [
      "  Batch 241240 Loss: 1.6796 Top-1 error rate: 39.81% Top-5 error rate: 17.56%\n"
     ]
    },
    {
     "name": "stderr",
     "output_type": "stream",
     "text": [
      " 40%|███▉      | 2000/5005 [08:33<12:44,  3.93it/s]"
     ]
    },
    {
     "name": "stdout",
     "output_type": "stream",
     "text": [
      "  Batch 242240 Loss: 1.6838 Top-1 error rate: 39.88% Top-5 error rate: 17.58%\n"
     ]
    },
    {
     "name": "stderr",
     "output_type": "stream",
     "text": [
      " 60%|█████▉    | 3000/5005 [12:47<08:28,  3.94it/s]"
     ]
    },
    {
     "name": "stdout",
     "output_type": "stream",
     "text": [
      "  Batch 243240 Loss: 1.6924 Top-1 error rate: 40.08% Top-5 error rate: 17.63%\n"
     ]
    },
    {
     "name": "stderr",
     "output_type": "stream",
     "text": [
      " 80%|███████▉  | 4000/5005 [17:01<04:15,  3.94it/s]"
     ]
    },
    {
     "name": "stdout",
     "output_type": "stream",
     "text": [
      "  Batch 244240 Loss: 1.6925 Top-1 error rate: 40.15% Top-5 error rate: 17.66%\n"
     ]
    },
    {
     "name": "stderr",
     "output_type": "stream",
     "text": [
      "100%|█████████▉| 5000/5005 [21:16<00:01,  3.95it/s]"
     ]
    },
    {
     "name": "stdout",
     "output_type": "stream",
     "text": [
      "  Batch 245240 Loss: 1.7015 Top-1 error rate: 40.34% Top-5 error rate: 17.83%\n"
     ]
    },
    {
     "name": "stderr",
     "output_type": "stream",
     "text": [
      "100%|██████████| 5005/5005 [21:17<00:00,  3.92it/s]\n",
      "Validation:  26%|██▌       | 100/391 [00:45<01:49,  2.65it/s]"
     ]
    },
    {
     "name": "stdout",
     "output_type": "stream",
     "text": [
      "  Validation Batch   100 Loss: 1.0619 Top-1 error: 25.49% Top-5 error: 6.90%\n"
     ]
    },
    {
     "name": "stderr",
     "output_type": "stream",
     "text": [
      "Validation:  51%|█████     | 200/391 [01:23<01:12,  2.65it/s]"
     ]
    },
    {
     "name": "stdout",
     "output_type": "stream",
     "text": [
      "  Validation Batch   200 Loss: 1.3417 Top-1 error: 30.91% Top-5 error: 10.34%\n"
     ]
    },
    {
     "name": "stderr",
     "output_type": "stream",
     "text": [
      "Validation:  77%|███████▋  | 300/391 [02:02<00:34,  2.62it/s]"
     ]
    },
    {
     "name": "stdout",
     "output_type": "stream",
     "text": [
      "  Validation Batch   300 Loss: 1.6810 Top-1 error: 36.51% Top-5 error: 14.93%\n"
     ]
    },
    {
     "name": "stderr",
     "output_type": "stream",
     "text": [
      "Validation: 100%|██████████| 391/391 [02:37<00:00,  2.48it/s]\n"
     ]
    },
    {
     "name": "stdout",
     "output_type": "stream",
     "text": [
      "LOSS train 1.6900 valid 1.4239\n",
      "Top-1 Error train 40.05% val 32.08%\n",
      "Top-5 Error train 17.65% val 11.46%\n",
      "EPOCH 50:\n"
     ]
    },
    {
     "name": "stderr",
     "output_type": "stream",
     "text": [
      " 20%|█▉        | 1000/5005 [04:21<17:00,  3.92it/s] "
     ]
    },
    {
     "name": "stdout",
     "output_type": "stream",
     "text": [
      "  Batch 246245 Loss: 1.6772 Top-1 error rate: 39.82% Top-5 error rate: 17.47%\n"
     ]
    },
    {
     "name": "stderr",
     "output_type": "stream",
     "text": [
      " 40%|███▉      | 2000/5005 [08:35<12:48,  3.91it/s]"
     ]
    },
    {
     "name": "stdout",
     "output_type": "stream",
     "text": [
      "  Batch 247245 Loss: 1.6766 Top-1 error rate: 39.95% Top-5 error rate: 17.42%\n"
     ]
    },
    {
     "name": "stderr",
     "output_type": "stream",
     "text": [
      " 60%|█████▉    | 3000/5005 [12:50<08:32,  3.91it/s]"
     ]
    },
    {
     "name": "stdout",
     "output_type": "stream",
     "text": [
      "  Batch 248245 Loss: 1.6841 Top-1 error rate: 39.85% Top-5 error rate: 17.46%\n"
     ]
    },
    {
     "name": "stderr",
     "output_type": "stream",
     "text": [
      " 80%|███████▉  | 4000/5005 [17:04<04:16,  3.93it/s]"
     ]
    },
    {
     "name": "stdout",
     "output_type": "stream",
     "text": [
      "  Batch 249245 Loss: 1.6875 Top-1 error rate: 40.03% Top-5 error rate: 17.56%\n"
     ]
    },
    {
     "name": "stderr",
     "output_type": "stream",
     "text": [
      "100%|█████████▉| 5000/5005 [21:18<00:01,  3.96it/s]"
     ]
    },
    {
     "name": "stdout",
     "output_type": "stream",
     "text": [
      "  Batch 250245 Loss: 1.6994 Top-1 error rate: 40.29% Top-5 error rate: 17.77%\n"
     ]
    },
    {
     "name": "stderr",
     "output_type": "stream",
     "text": [
      "100%|██████████| 5005/5005 [21:19<00:00,  3.91it/s]\n",
      "Validation:  26%|██▌       | 100/391 [00:43<01:49,  2.65it/s]"
     ]
    },
    {
     "name": "stdout",
     "output_type": "stream",
     "text": [
      "  Validation Batch   100 Loss: 1.1241 Top-1 error: 25.96% Top-5 error: 7.40%\n"
     ]
    },
    {
     "name": "stderr",
     "output_type": "stream",
     "text": [
      "Validation:  51%|█████     | 200/391 [01:20<01:12,  2.64it/s]"
     ]
    },
    {
     "name": "stdout",
     "output_type": "stream",
     "text": [
      "  Validation Batch   200 Loss: 1.3767 Top-1 error: 30.31% Top-5 error: 10.44%\n"
     ]
    },
    {
     "name": "stderr",
     "output_type": "stream",
     "text": [
      "Validation:  77%|███████▋  | 300/391 [02:01<00:34,  2.66it/s]"
     ]
    },
    {
     "name": "stdout",
     "output_type": "stream",
     "text": [
      "  Validation Batch   300 Loss: 1.7292 Top-1 error: 36.44% Top-5 error: 14.81%\n"
     ]
    },
    {
     "name": "stderr",
     "output_type": "stream",
     "text": [
      "Validation: 100%|██████████| 391/391 [02:37<00:00,  2.48it/s]\n"
     ]
    },
    {
     "name": "stdout",
     "output_type": "stream",
     "text": [
      "LOSS train 1.6850 valid 1.4682\n",
      "Top-1 Error train 39.99% val 32.02%\n",
      "Top-5 Error train 17.54% val 11.56%\n",
      "EPOCH 51:\n"
     ]
    },
    {
     "name": "stderr",
     "output_type": "stream",
     "text": [
      " 20%|█▉        | 1000/5005 [04:17<16:57,  3.93it/s]"
     ]
    },
    {
     "name": "stdout",
     "output_type": "stream",
     "text": [
      "  Batch 251250 Loss: 1.6717 Top-1 error rate: 39.69% Top-5 error rate: 17.43%\n"
     ]
    },
    {
     "name": "stderr",
     "output_type": "stream",
     "text": [
      " 40%|███▉      | 2000/5005 [08:31<12:42,  3.94it/s]"
     ]
    },
    {
     "name": "stdout",
     "output_type": "stream",
     "text": [
      "  Batch 252250 Loss: 1.6748 Top-1 error rate: 39.72% Top-5 error rate: 17.37%\n"
     ]
    },
    {
     "name": "stderr",
     "output_type": "stream",
     "text": [
      " 60%|█████▉    | 3000/5005 [12:46<08:29,  3.93it/s]"
     ]
    },
    {
     "name": "stdout",
     "output_type": "stream",
     "text": [
      "  Batch 253250 Loss: 1.6802 Top-1 error rate: 39.84% Top-5 error rate: 17.52%\n"
     ]
    },
    {
     "name": "stderr",
     "output_type": "stream",
     "text": [
      " 80%|███████▉  | 4000/5005 [17:00<04:16,  3.92it/s]"
     ]
    },
    {
     "name": "stdout",
     "output_type": "stream",
     "text": [
      "  Batch 254250 Loss: 1.6956 Top-1 error rate: 40.26% Top-5 error rate: 17.69%\n"
     ]
    },
    {
     "name": "stderr",
     "output_type": "stream",
     "text": [
      "100%|█████████▉| 5000/5005 [21:14<00:01,  3.94it/s]"
     ]
    },
    {
     "name": "stdout",
     "output_type": "stream",
     "text": [
      "  Batch 255250 Loss: 1.6889 Top-1 error rate: 40.00% Top-5 error rate: 17.58%\n"
     ]
    },
    {
     "name": "stderr",
     "output_type": "stream",
     "text": [
      "100%|██████████| 5005/5005 [21:15<00:00,  3.92it/s]\n",
      "Validation:  26%|██▌       | 100/391 [00:46<02:27,  1.97it/s]"
     ]
    },
    {
     "name": "stdout",
     "output_type": "stream",
     "text": [
      "  Validation Batch   100 Loss: 1.0498 Top-1 error: 25.28% Top-5 error: 6.88%\n"
     ]
    },
    {
     "name": "stderr",
     "output_type": "stream",
     "text": [
      "Validation:  51%|█████     | 200/391 [01:29<01:12,  2.62it/s]"
     ]
    },
    {
     "name": "stdout",
     "output_type": "stream",
     "text": [
      "  Validation Batch   200 Loss: 1.3316 Top-1 error: 30.91% Top-5 error: 10.55%\n"
     ]
    },
    {
     "name": "stderr",
     "output_type": "stream",
     "text": [
      "Validation:  77%|███████▋  | 300/391 [02:11<00:35,  2.55it/s]"
     ]
    },
    {
     "name": "stdout",
     "output_type": "stream",
     "text": [
      "  Validation Batch   300 Loss: 1.6499 Top-1 error: 35.58% Top-5 error: 14.92%\n"
     ]
    },
    {
     "name": "stderr",
     "output_type": "stream",
     "text": [
      "Validation: 100%|██████████| 391/391 [02:51<00:00,  2.27it/s]\n"
     ]
    },
    {
     "name": "stdout",
     "output_type": "stream",
     "text": [
      "LOSS train 1.6823 valid 1.4070\n",
      "Top-1 Error train 39.90% val 31.92%\n",
      "Top-5 Error train 17.52% val 11.50%\n",
      "EPOCH 52:\n"
     ]
    },
    {
     "name": "stderr",
     "output_type": "stream",
     "text": [
      " 20%|█▉        | 1000/5005 [04:18<17:01,  3.92it/s]"
     ]
    },
    {
     "name": "stdout",
     "output_type": "stream",
     "text": [
      "  Batch 256255 Loss: 1.6590 Top-1 error rate: 39.43% Top-5 error rate: 17.23%\n"
     ]
    },
    {
     "name": "stderr",
     "output_type": "stream",
     "text": [
      " 40%|███▉      | 2000/5005 [08:32<12:44,  3.93it/s]"
     ]
    },
    {
     "name": "stdout",
     "output_type": "stream",
     "text": [
      "  Batch 257255 Loss: 1.6772 Top-1 error rate: 39.87% Top-5 error rate: 17.44%\n"
     ]
    },
    {
     "name": "stderr",
     "output_type": "stream",
     "text": [
      " 60%|█████▉    | 3000/5005 [12:47<08:33,  3.91it/s]"
     ]
    },
    {
     "name": "stdout",
     "output_type": "stream",
     "text": [
      "  Batch 258255 Loss: 1.6767 Top-1 error rate: 39.80% Top-5 error rate: 17.41%\n"
     ]
    },
    {
     "name": "stderr",
     "output_type": "stream",
     "text": [
      " 80%|███████▉  | 4000/5005 [17:01<04:15,  3.93it/s]"
     ]
    },
    {
     "name": "stdout",
     "output_type": "stream",
     "text": [
      "  Batch 259255 Loss: 1.6812 Top-1 error rate: 39.99% Top-5 error rate: 17.42%\n"
     ]
    },
    {
     "name": "stderr",
     "output_type": "stream",
     "text": [
      "100%|█████████▉| 5000/5005 [21:15<00:01,  3.96it/s]"
     ]
    },
    {
     "name": "stdout",
     "output_type": "stream",
     "text": [
      "  Batch 260255 Loss: 1.6920 Top-1 error rate: 39.92% Top-5 error rate: 17.62%\n"
     ]
    },
    {
     "name": "stderr",
     "output_type": "stream",
     "text": [
      "100%|██████████| 5005/5005 [21:16<00:00,  3.92it/s]\n",
      "Validation:  26%|██▌       | 100/391 [00:44<01:49,  2.65it/s]"
     ]
    },
    {
     "name": "stdout",
     "output_type": "stream",
     "text": [
      "  Validation Batch   100 Loss: 1.0480 Top-1 error: 25.55% Top-5 error: 7.24%\n"
     ]
    },
    {
     "name": "stderr",
     "output_type": "stream",
     "text": [
      "Validation:  51%|█████     | 200/391 [01:23<01:11,  2.66it/s]"
     ]
    },
    {
     "name": "stdout",
     "output_type": "stream",
     "text": [
      "  Validation Batch   200 Loss: 1.3325 Top-1 error: 30.02% Top-5 error: 10.40%\n"
     ]
    },
    {
     "name": "stderr",
     "output_type": "stream",
     "text": [
      "Validation:  77%|███████▋  | 300/391 [02:02<00:34,  2.64it/s]"
     ]
    },
    {
     "name": "stdout",
     "output_type": "stream",
     "text": [
      "  Validation Batch   300 Loss: 1.6775 Top-1 error: 36.09% Top-5 error: 15.02%\n"
     ]
    },
    {
     "name": "stderr",
     "output_type": "stream",
     "text": [
      "Validation: 100%|██████████| 391/391 [02:38<00:00,  2.46it/s]\n"
     ]
    },
    {
     "name": "stdout",
     "output_type": "stream",
     "text": [
      "LOSS train 1.6772 valid 1.4112\n",
      "Top-1 Error train 39.80% val 31.73%\n",
      "Top-5 Error train 17.42% val 11.57%\n",
      "EPOCH 53:\n"
     ]
    },
    {
     "name": "stderr",
     "output_type": "stream",
     "text": [
      " 20%|█▉        | 1000/5005 [04:18<16:56,  3.94it/s]"
     ]
    },
    {
     "name": "stdout",
     "output_type": "stream",
     "text": [
      "  Batch 261260 Loss: 1.6526 Top-1 error rate: 39.39% Top-5 error rate: 17.07%\n"
     ]
    },
    {
     "name": "stderr",
     "output_type": "stream",
     "text": [
      " 40%|███▉      | 2000/5005 [08:32<12:56,  3.87it/s]"
     ]
    },
    {
     "name": "stdout",
     "output_type": "stream",
     "text": [
      "  Batch 262260 Loss: 1.6634 Top-1 error rate: 39.51% Top-5 error rate: 17.32%\n"
     ]
    },
    {
     "name": "stderr",
     "output_type": "stream",
     "text": [
      " 60%|█████▉    | 3000/5005 [12:46<08:29,  3.94it/s]"
     ]
    },
    {
     "name": "stdout",
     "output_type": "stream",
     "text": [
      "  Batch 263260 Loss: 1.6751 Top-1 error rate: 39.71% Top-5 error rate: 17.40%\n"
     ]
    },
    {
     "name": "stderr",
     "output_type": "stream",
     "text": [
      " 80%|███████▉  | 4000/5005 [17:00<04:15,  3.94it/s]"
     ]
    },
    {
     "name": "stdout",
     "output_type": "stream",
     "text": [
      "  Batch 264260 Loss: 1.6829 Top-1 error rate: 39.91% Top-5 error rate: 17.48%\n"
     ]
    },
    {
     "name": "stderr",
     "output_type": "stream",
     "text": [
      "100%|█████████▉| 5000/5005 [21:15<00:01,  3.92it/s]"
     ]
    },
    {
     "name": "stdout",
     "output_type": "stream",
     "text": [
      "  Batch 265260 Loss: 1.6878 Top-1 error rate: 40.03% Top-5 error rate: 17.64%\n"
     ]
    },
    {
     "name": "stderr",
     "output_type": "stream",
     "text": [
      "100%|██████████| 5005/5005 [21:16<00:00,  3.92it/s]\n",
      "Validation:  26%|██▌       | 100/391 [00:42<01:49,  2.65it/s]"
     ]
    },
    {
     "name": "stdout",
     "output_type": "stream",
     "text": [
      "  Validation Batch   100 Loss: 1.0334 Top-1 error: 25.38% Top-5 error: 7.09%\n"
     ]
    },
    {
     "name": "stderr",
     "output_type": "stream",
     "text": [
      "Validation:  51%|█████     | 200/391 [01:21<01:17,  2.48it/s]"
     ]
    },
    {
     "name": "stdout",
     "output_type": "stream",
     "text": [
      "  Validation Batch   200 Loss: 1.3261 Top-1 error: 30.83% Top-5 error: 10.52%\n"
     ]
    },
    {
     "name": "stderr",
     "output_type": "stream",
     "text": [
      "Validation:  77%|███████▋  | 300/391 [02:03<00:35,  2.56it/s]"
     ]
    },
    {
     "name": "stdout",
     "output_type": "stream",
     "text": [
      "  Validation Batch   300 Loss: 1.6689 Top-1 error: 36.67% Top-5 error: 15.29%\n"
     ]
    },
    {
     "name": "stderr",
     "output_type": "stream",
     "text": [
      "Validation: 100%|██████████| 391/391 [02:42<00:00,  2.40it/s]\n"
     ]
    },
    {
     "name": "stdout",
     "output_type": "stream",
     "text": [
      "LOSS train 1.6723 valid 1.4026\n",
      "Top-1 Error train 39.71% val 32.04%\n",
      "Top-5 Error train 17.38% val 11.67%\n",
      "EPOCH 54:\n"
     ]
    },
    {
     "name": "stderr",
     "output_type": "stream",
     "text": [
      " 20%|█▉        | 1000/5005 [04:17<16:56,  3.94it/s]"
     ]
    },
    {
     "name": "stdout",
     "output_type": "stream",
     "text": [
      "  Batch 266265 Loss: 1.6539 Top-1 error rate: 39.31% Top-5 error rate: 17.07%\n"
     ]
    },
    {
     "name": "stderr",
     "output_type": "stream",
     "text": [
      " 40%|███▉      | 2000/5005 [08:31<12:42,  3.94it/s]"
     ]
    },
    {
     "name": "stdout",
     "output_type": "stream",
     "text": [
      "  Batch 267265 Loss: 1.6592 Top-1 error rate: 39.52% Top-5 error rate: 17.11%\n"
     ]
    },
    {
     "name": "stderr",
     "output_type": "stream",
     "text": [
      " 60%|█████▉    | 3000/5005 [12:46<08:29,  3.94it/s]"
     ]
    },
    {
     "name": "stdout",
     "output_type": "stream",
     "text": [
      "  Batch 268265 Loss: 1.6700 Top-1 error rate: 39.59% Top-5 error rate: 17.37%\n"
     ]
    },
    {
     "name": "stderr",
     "output_type": "stream",
     "text": [
      " 80%|███████▉  | 4000/5005 [17:00<04:16,  3.92it/s]"
     ]
    },
    {
     "name": "stdout",
     "output_type": "stream",
     "text": [
      "  Batch 269265 Loss: 1.6807 Top-1 error rate: 40.00% Top-5 error rate: 17.49%\n"
     ]
    },
    {
     "name": "stderr",
     "output_type": "stream",
     "text": [
      "100%|█████████▉| 5000/5005 [21:15<00:01,  3.94it/s]"
     ]
    },
    {
     "name": "stdout",
     "output_type": "stream",
     "text": [
      "  Batch 270265 Loss: 1.6723 Top-1 error rate: 39.70% Top-5 error rate: 17.34%\n"
     ]
    },
    {
     "name": "stderr",
     "output_type": "stream",
     "text": [
      "100%|██████████| 5005/5005 [21:16<00:00,  3.92it/s]\n",
      "Validation:  26%|██▌       | 100/391 [00:43<01:49,  2.65it/s]"
     ]
    },
    {
     "name": "stdout",
     "output_type": "stream",
     "text": [
      "  Validation Batch   100 Loss: 1.0388 Top-1 error: 24.81% Top-5 error: 6.69%\n"
     ]
    },
    {
     "name": "stderr",
     "output_type": "stream",
     "text": [
      "Validation:  51%|█████     | 200/391 [01:21<01:11,  2.66it/s]"
     ]
    },
    {
     "name": "stdout",
     "output_type": "stream",
     "text": [
      "  Validation Batch   200 Loss: 1.3533 Top-1 error: 30.23% Top-5 error: 10.42%\n"
     ]
    },
    {
     "name": "stderr",
     "output_type": "stream",
     "text": [
      "Validation:  77%|███████▋  | 300/391 [02:00<00:34,  2.65it/s]"
     ]
    },
    {
     "name": "stdout",
     "output_type": "stream",
     "text": [
      "  Validation Batch   300 Loss: 1.7004 Top-1 error: 36.04% Top-5 error: 15.09%\n"
     ]
    },
    {
     "name": "stderr",
     "output_type": "stream",
     "text": [
      "Validation: 100%|██████████| 391/391 [02:39<00:00,  2.46it/s]\n"
     ]
    },
    {
     "name": "stdout",
     "output_type": "stream",
     "text": [
      "LOSS train 1.6672 valid 1.4291\n",
      "Top-1 Error train 39.62% val 31.61%\n",
      "Top-5 Error train 17.27% val 11.47%\n",
      "EPOCH 55:\n"
     ]
    },
    {
     "name": "stderr",
     "output_type": "stream",
     "text": [
      " 20%|█▉        | 1000/5005 [04:18<16:56,  3.94it/s]"
     ]
    },
    {
     "name": "stdout",
     "output_type": "stream",
     "text": [
      "  Batch 271270 Loss: 1.6581 Top-1 error rate: 39.58% Top-5 error rate: 17.12%\n"
     ]
    },
    {
     "name": "stderr",
     "output_type": "stream",
     "text": [
      " 40%|███▉      | 2000/5005 [08:33<12:46,  3.92it/s]"
     ]
    },
    {
     "name": "stdout",
     "output_type": "stream",
     "text": [
      "  Batch 272270 Loss: 1.6659 Top-1 error rate: 39.60% Top-5 error rate: 17.26%\n"
     ]
    },
    {
     "name": "stderr",
     "output_type": "stream",
     "text": [
      " 60%|█████▉    | 3000/5005 [12:47<08:29,  3.94it/s]"
     ]
    },
    {
     "name": "stdout",
     "output_type": "stream",
     "text": [
      "  Batch 273270 Loss: 1.6621 Top-1 error rate: 39.48% Top-5 error rate: 17.23%\n"
     ]
    },
    {
     "name": "stderr",
     "output_type": "stream",
     "text": [
      " 80%|███████▉  | 4000/5005 [17:02<04:14,  3.94it/s]"
     ]
    },
    {
     "name": "stdout",
     "output_type": "stream",
     "text": [
      "  Batch 274270 Loss: 1.6662 Top-1 error rate: 39.53% Top-5 error rate: 17.26%\n"
     ]
    },
    {
     "name": "stderr",
     "output_type": "stream",
     "text": [
      "100%|█████████▉| 5000/5005 [21:16<00:01,  3.93it/s]"
     ]
    },
    {
     "name": "stdout",
     "output_type": "stream",
     "text": [
      "  Batch 275270 Loss: 1.6784 Top-1 error rate: 39.90% Top-5 error rate: 17.45%\n"
     ]
    },
    {
     "name": "stderr",
     "output_type": "stream",
     "text": [
      "100%|██████████| 5005/5005 [21:17<00:00,  3.92it/s]\n",
      "Validation:  26%|██▌       | 100/391 [00:42<01:50,  2.64it/s]"
     ]
    },
    {
     "name": "stdout",
     "output_type": "stream",
     "text": [
      "  Validation Batch   100 Loss: 1.0419 Top-1 error: 25.48% Top-5 error: 6.98%\n"
     ]
    },
    {
     "name": "stderr",
     "output_type": "stream",
     "text": [
      "Validation:  51%|█████     | 200/391 [01:20<01:12,  2.62it/s]"
     ]
    },
    {
     "name": "stdout",
     "output_type": "stream",
     "text": [
      "  Validation Batch   200 Loss: 1.3139 Top-1 error: 30.20% Top-5 error: 10.50%\n"
     ]
    },
    {
     "name": "stderr",
     "output_type": "stream",
     "text": [
      "Validation:  77%|███████▋  | 300/391 [01:59<00:34,  2.66it/s]"
     ]
    },
    {
     "name": "stdout",
     "output_type": "stream",
     "text": [
      "  Validation Batch   300 Loss: 1.6311 Top-1 error: 35.59% Top-5 error: 14.46%\n"
     ]
    },
    {
     "name": "stderr",
     "output_type": "stream",
     "text": [
      "Validation: 100%|██████████| 391/391 [02:33<00:00,  2.55it/s]\n"
     ]
    },
    {
     "name": "stdout",
     "output_type": "stream",
     "text": [
      "LOSS train 1.6662 valid 1.3933\n",
      "Top-1 Error train 39.62% val 31.63%\n",
      "Top-5 Error train 17.26% val 11.47%\n",
      "EPOCH 56:\n"
     ]
    },
    {
     "name": "stderr",
     "output_type": "stream",
     "text": [
      " 20%|█▉        | 1000/5005 [04:17<16:57,  3.94it/s]"
     ]
    },
    {
     "name": "stdout",
     "output_type": "stream",
     "text": [
      "  Batch 276275 Loss: 1.6445 Top-1 error rate: 39.25% Top-5 error rate: 17.00%\n"
     ]
    },
    {
     "name": "stderr",
     "output_type": "stream",
     "text": [
      " 40%|███▉      | 2000/5005 [08:31<12:44,  3.93it/s]"
     ]
    },
    {
     "name": "stdout",
     "output_type": "stream",
     "text": [
      "  Batch 277275 Loss: 1.6608 Top-1 error rate: 39.50% Top-5 error rate: 17.19%\n"
     ]
    },
    {
     "name": "stderr",
     "output_type": "stream",
     "text": [
      " 60%|█████▉    | 3000/5005 [12:46<08:29,  3.93it/s]"
     ]
    },
    {
     "name": "stdout",
     "output_type": "stream",
     "text": [
      "  Batch 278275 Loss: 1.6651 Top-1 error rate: 39.59% Top-5 error rate: 17.23%\n"
     ]
    },
    {
     "name": "stderr",
     "output_type": "stream",
     "text": [
      " 80%|███████▉  | 4000/5005 [17:00<04:16,  3.91it/s]"
     ]
    },
    {
     "name": "stdout",
     "output_type": "stream",
     "text": [
      "  Batch 279275 Loss: 1.6676 Top-1 error rate: 39.58% Top-5 error rate: 17.27%\n"
     ]
    },
    {
     "name": "stderr",
     "output_type": "stream",
     "text": [
      "100%|█████████▉| 5000/5005 [21:14<00:01,  3.95it/s]"
     ]
    },
    {
     "name": "stdout",
     "output_type": "stream",
     "text": [
      "  Batch 280275 Loss: 1.6698 Top-1 error rate: 39.75% Top-5 error rate: 17.27%\n"
     ]
    },
    {
     "name": "stderr",
     "output_type": "stream",
     "text": [
      "100%|██████████| 5005/5005 [21:15<00:00,  3.92it/s]\n",
      "Validation:  26%|██▌       | 100/391 [00:42<01:49,  2.65it/s]"
     ]
    },
    {
     "name": "stdout",
     "output_type": "stream",
     "text": [
      "  Validation Batch   100 Loss: 1.1143 Top-1 error: 26.34% Top-5 error: 7.00%\n"
     ]
    },
    {
     "name": "stderr",
     "output_type": "stream",
     "text": [
      "Validation:  51%|█████     | 200/391 [01:20<01:12,  2.64it/s]"
     ]
    },
    {
     "name": "stdout",
     "output_type": "stream",
     "text": [
      "  Validation Batch   200 Loss: 1.3509 Top-1 error: 30.20% Top-5 error: 10.09%\n"
     ]
    },
    {
     "name": "stderr",
     "output_type": "stream",
     "text": [
      "Validation:  77%|███████▋  | 300/391 [02:00<00:35,  2.54it/s]"
     ]
    },
    {
     "name": "stdout",
     "output_type": "stream",
     "text": [
      "  Validation Batch   300 Loss: 1.7321 Top-1 error: 36.67% Top-5 error: 14.88%\n"
     ]
    },
    {
     "name": "stderr",
     "output_type": "stream",
     "text": [
      "Validation: 100%|██████████| 391/391 [02:37<00:00,  2.48it/s]\n"
     ]
    },
    {
     "name": "stdout",
     "output_type": "stream",
     "text": [
      "LOSS train 1.6616 valid 1.4598\n",
      "Top-1 Error train 39.53% val 32.08%\n",
      "Top-5 Error train 17.19% val 11.41%\n",
      "EPOCH 57:\n"
     ]
    },
    {
     "name": "stderr",
     "output_type": "stream",
     "text": [
      " 20%|█▉        | 1000/5005 [04:18<17:00,  3.92it/s]"
     ]
    },
    {
     "name": "stdout",
     "output_type": "stream",
     "text": [
      "  Batch 281280 Loss: 1.6389 Top-1 error rate: 39.20% Top-5 error rate: 16.89%\n"
     ]
    },
    {
     "name": "stderr",
     "output_type": "stream",
     "text": [
      " 40%|███▉      | 2000/5005 [08:32<12:45,  3.92it/s]"
     ]
    },
    {
     "name": "stdout",
     "output_type": "stream",
     "text": [
      "  Batch 282280 Loss: 1.6523 Top-1 error rate: 39.42% Top-5 error rate: 17.10%\n"
     ]
    },
    {
     "name": "stderr",
     "output_type": "stream",
     "text": [
      " 60%|█████▉    | 3000/5005 [12:47<08:30,  3.93it/s]"
     ]
    },
    {
     "name": "stdout",
     "output_type": "stream",
     "text": [
      "  Batch 283280 Loss: 1.6669 Top-1 error rate: 39.62% Top-5 error rate: 17.25%\n"
     ]
    },
    {
     "name": "stderr",
     "output_type": "stream",
     "text": [
      " 80%|███████▉  | 4000/5005 [17:01<04:16,  3.93it/s]"
     ]
    },
    {
     "name": "stdout",
     "output_type": "stream",
     "text": [
      "  Batch 284280 Loss: 1.6710 Top-1 error rate: 39.74% Top-5 error rate: 17.28%\n"
     ]
    },
    {
     "name": "stderr",
     "output_type": "stream",
     "text": [
      "100%|█████████▉| 5000/5005 [21:15<00:01,  3.95it/s]"
     ]
    },
    {
     "name": "stdout",
     "output_type": "stream",
     "text": [
      "  Batch 285280 Loss: 1.6726 Top-1 error rate: 39.67% Top-5 error rate: 17.35%\n"
     ]
    },
    {
     "name": "stderr",
     "output_type": "stream",
     "text": [
      "100%|██████████| 5005/5005 [21:16<00:00,  3.92it/s]\n",
      "Validation:  26%|██▌       | 100/391 [00:41<01:49,  2.65it/s]"
     ]
    },
    {
     "name": "stdout",
     "output_type": "stream",
     "text": [
      "  Validation Batch   100 Loss: 1.0451 Top-1 error: 25.49% Top-5 error: 6.77%\n"
     ]
    },
    {
     "name": "stderr",
     "output_type": "stream",
     "text": [
      "Validation:  51%|█████     | 200/391 [01:19<01:11,  2.66it/s]"
     ]
    },
    {
     "name": "stdout",
     "output_type": "stream",
     "text": [
      "  Validation Batch   200 Loss: 1.3213 Top-1 error: 30.41% Top-5 error: 10.38%\n"
     ]
    },
    {
     "name": "stderr",
     "output_type": "stream",
     "text": [
      "Validation:  77%|███████▋  | 300/391 [01:56<00:34,  2.66it/s]"
     ]
    },
    {
     "name": "stdout",
     "output_type": "stream",
     "text": [
      "  Validation Batch   300 Loss: 1.6547 Top-1 error: 36.34% Top-5 error: 14.70%\n"
     ]
    },
    {
     "name": "stderr",
     "output_type": "stream",
     "text": [
      "Validation: 100%|██████████| 391/391 [02:33<00:00,  2.55it/s]\n"
     ]
    },
    {
     "name": "stdout",
     "output_type": "stream",
     "text": [
      "LOSS train 1.6603 valid 1.3981\n",
      "Top-1 Error train 39.53% val 31.68%\n",
      "Top-5 Error train 17.17% val 11.31%\n",
      "EPOCH 58:\n"
     ]
    },
    {
     "name": "stderr",
     "output_type": "stream",
     "text": [
      " 20%|█▉        | 1000/5005 [04:18<17:04,  3.91it/s]"
     ]
    },
    {
     "name": "stdout",
     "output_type": "stream",
     "text": [
      "  Batch 286285 Loss: 1.6445 Top-1 error rate: 39.26% Top-5 error rate: 16.82%\n"
     ]
    },
    {
     "name": "stderr",
     "output_type": "stream",
     "text": [
      " 40%|███▉      | 2000/5005 [08:32<12:45,  3.93it/s]"
     ]
    },
    {
     "name": "stdout",
     "output_type": "stream",
     "text": [
      "  Batch 287285 Loss: 1.6504 Top-1 error rate: 39.25% Top-5 error rate: 17.07%\n"
     ]
    },
    {
     "name": "stderr",
     "output_type": "stream",
     "text": [
      " 60%|█████▉    | 3000/5005 [12:46<08:30,  3.93it/s]"
     ]
    },
    {
     "name": "stdout",
     "output_type": "stream",
     "text": [
      "  Batch 288285 Loss: 1.6571 Top-1 error rate: 39.38% Top-5 error rate: 17.12%\n"
     ]
    },
    {
     "name": "stderr",
     "output_type": "stream",
     "text": [
      " 80%|███████▉  | 4000/5005 [17:00<04:17,  3.90it/s]"
     ]
    },
    {
     "name": "stdout",
     "output_type": "stream",
     "text": [
      "  Batch 289285 Loss: 1.6639 Top-1 error rate: 39.60% Top-5 error rate: 17.29%\n"
     ]
    },
    {
     "name": "stderr",
     "output_type": "stream",
     "text": [
      "100%|█████████▉| 5000/5005 [21:14<00:01,  3.96it/s]"
     ]
    },
    {
     "name": "stdout",
     "output_type": "stream",
     "text": [
      "  Batch 290285 Loss: 1.6664 Top-1 error rate: 39.71% Top-5 error rate: 17.24%\n"
     ]
    },
    {
     "name": "stderr",
     "output_type": "stream",
     "text": [
      "100%|██████████| 5005/5005 [21:16<00:00,  3.92it/s]\n",
      "Validation:  26%|██▌       | 100/391 [00:44<01:49,  2.66it/s]"
     ]
    },
    {
     "name": "stdout",
     "output_type": "stream",
     "text": [
      "  Validation Batch   100 Loss: 1.0542 Top-1 error: 25.98% Top-5 error: 7.23%\n"
     ]
    },
    {
     "name": "stderr",
     "output_type": "stream",
     "text": [
      "Validation:  51%|█████     | 200/391 [01:24<01:14,  2.55it/s]"
     ]
    },
    {
     "name": "stdout",
     "output_type": "stream",
     "text": [
      "  Validation Batch   200 Loss: 1.3346 Top-1 error: 30.70% Top-5 error: 10.45%\n"
     ]
    },
    {
     "name": "stderr",
     "output_type": "stream",
     "text": [
      "Validation:  77%|███████▋  | 300/391 [02:02<00:34,  2.66it/s]"
     ]
    },
    {
     "name": "stdout",
     "output_type": "stream",
     "text": [
      "  Validation Batch   300 Loss: 1.6933 Top-1 error: 36.32% Top-5 error: 15.20%\n"
     ]
    },
    {
     "name": "stderr",
     "output_type": "stream",
     "text": [
      "Validation: 100%|██████████| 391/391 [02:37<00:00,  2.48it/s]\n"
     ]
    },
    {
     "name": "stdout",
     "output_type": "stream",
     "text": [
      "LOSS train 1.6566 valid 1.4212\n",
      "Top-1 Error train 39.44% val 32.07%\n",
      "Top-5 Error train 17.11% val 11.62%\n",
      "EPOCH 59:\n"
     ]
    },
    {
     "name": "stderr",
     "output_type": "stream",
     "text": [
      " 20%|█▉        | 1000/5005 [04:17<17:00,  3.92it/s]"
     ]
    },
    {
     "name": "stdout",
     "output_type": "stream",
     "text": [
      "  Batch 291290 Loss: 1.6344 Top-1 error rate: 39.04% Top-5 error rate: 16.78%\n"
     ]
    },
    {
     "name": "stderr",
     "output_type": "stream",
     "text": [
      " 40%|███▉      | 2000/5005 [08:31<12:42,  3.94it/s]"
     ]
    },
    {
     "name": "stdout",
     "output_type": "stream",
     "text": [
      "  Batch 292290 Loss: 1.6409 Top-1 error rate: 39.12% Top-5 error rate: 16.90%\n"
     ]
    },
    {
     "name": "stderr",
     "output_type": "stream",
     "text": [
      " 60%|█████▉    | 3000/5005 [12:46<08:31,  3.92it/s]"
     ]
    },
    {
     "name": "stdout",
     "output_type": "stream",
     "text": [
      "  Batch 293290 Loss: 1.6542 Top-1 error rate: 39.35% Top-5 error rate: 17.06%\n"
     ]
    },
    {
     "name": "stderr",
     "output_type": "stream",
     "text": [
      " 80%|███████▉  | 4000/5005 [17:00<04:15,  3.94it/s]"
     ]
    },
    {
     "name": "stdout",
     "output_type": "stream",
     "text": [
      "  Batch 294290 Loss: 1.6616 Top-1 error rate: 39.44% Top-5 error rate: 17.20%\n"
     ]
    },
    {
     "name": "stderr",
     "output_type": "stream",
     "text": [
      "100%|█████████▉| 5000/5005 [21:14<00:01,  3.96it/s]"
     ]
    },
    {
     "name": "stdout",
     "output_type": "stream",
     "text": [
      "  Batch 295290 Loss: 1.6685 Top-1 error rate: 39.61% Top-5 error rate: 17.30%\n"
     ]
    },
    {
     "name": "stderr",
     "output_type": "stream",
     "text": [
      "100%|██████████| 5005/5005 [21:15<00:00,  3.92it/s]\n",
      "Validation:  26%|██▌       | 100/391 [00:43<01:50,  2.63it/s]"
     ]
    },
    {
     "name": "stdout",
     "output_type": "stream",
     "text": [
      "  Validation Batch   100 Loss: 1.0399 Top-1 error: 25.40% Top-5 error: 6.98%\n"
     ]
    },
    {
     "name": "stderr",
     "output_type": "stream",
     "text": [
      "Validation:  51%|█████     | 200/391 [01:24<01:29,  2.14it/s]"
     ]
    },
    {
     "name": "stdout",
     "output_type": "stream",
     "text": [
      "  Validation Batch   200 Loss: 1.2978 Top-1 error: 30.27% Top-5 error: 10.15%\n"
     ]
    },
    {
     "name": "stderr",
     "output_type": "stream",
     "text": [
      "Validation:  77%|███████▋  | 300/391 [02:11<00:59,  1.53it/s]"
     ]
    },
    {
     "name": "stdout",
     "output_type": "stream",
     "text": [
      "  Validation Batch   300 Loss: 1.6447 Top-1 error: 35.99% Top-5 error: 14.95%\n"
     ]
    },
    {
     "name": "stderr",
     "output_type": "stream",
     "text": [
      "Validation: 100%|██████████| 391/391 [02:47<00:00,  2.34it/s]\n"
     ]
    },
    {
     "name": "stdout",
     "output_type": "stream",
     "text": [
      "LOSS train 1.6519 valid 1.3884\n",
      "Top-1 Error train 39.31% val 31.78%\n",
      "Top-5 Error train 17.05% val 11.41%\n",
      "EPOCH 60:\n"
     ]
    },
    {
     "name": "stderr",
     "output_type": "stream",
     "text": [
      " 20%|█▉        | 1000/5005 [04:17<16:56,  3.94it/s]"
     ]
    },
    {
     "name": "stdout",
     "output_type": "stream",
     "text": [
      "  Batch 296295 Loss: 1.6248 Top-1 error rate: 38.90% Top-5 error rate: 16.61%\n"
     ]
    },
    {
     "name": "stderr",
     "output_type": "stream",
     "text": [
      " 40%|███▉      | 2000/5005 [08:32<12:43,  3.94it/s]"
     ]
    },
    {
     "name": "stdout",
     "output_type": "stream",
     "text": [
      "  Batch 297295 Loss: 1.6438 Top-1 error rate: 39.13% Top-5 error rate: 16.88%\n"
     ]
    },
    {
     "name": "stderr",
     "output_type": "stream",
     "text": [
      " 60%|█████▉    | 3000/5005 [12:46<08:30,  3.93it/s]"
     ]
    },
    {
     "name": "stdout",
     "output_type": "stream",
     "text": [
      "  Batch 298295 Loss: 1.6454 Top-1 error rate: 39.23% Top-5 error rate: 16.94%\n"
     ]
    },
    {
     "name": "stderr",
     "output_type": "stream",
     "text": [
      " 80%|███████▉  | 4000/5005 [17:00<04:17,  3.90it/s]"
     ]
    },
    {
     "name": "stdout",
     "output_type": "stream",
     "text": [
      "  Batch 299295 Loss: 1.6633 Top-1 error rate: 39.63% Top-5 error rate: 17.24%\n"
     ]
    },
    {
     "name": "stderr",
     "output_type": "stream",
     "text": [
      "100%|█████████▉| 5000/5005 [21:14<00:01,  3.94it/s]"
     ]
    },
    {
     "name": "stdout",
     "output_type": "stream",
     "text": [
      "  Batch 300295 Loss: 1.6663 Top-1 error rate: 39.66% Top-5 error rate: 17.28%\n"
     ]
    },
    {
     "name": "stderr",
     "output_type": "stream",
     "text": [
      "100%|██████████| 5005/5005 [21:15<00:00,  3.92it/s]\n",
      "Validation:  26%|██▌       | 100/391 [00:47<01:50,  2.65it/s]"
     ]
    },
    {
     "name": "stdout",
     "output_type": "stream",
     "text": [
      "  Validation Batch   100 Loss: 1.0274 Top-1 error: 25.88% Top-5 error: 7.16%\n"
     ]
    },
    {
     "name": "stderr",
     "output_type": "stream",
     "text": [
      "Validation:  51%|█████     | 200/391 [01:36<01:31,  2.09it/s]"
     ]
    },
    {
     "name": "stdout",
     "output_type": "stream",
     "text": [
      "  Validation Batch   200 Loss: 1.2900 Top-1 error: 30.40% Top-5 error: 10.47%\n"
     ]
    },
    {
     "name": "stderr",
     "output_type": "stream",
     "text": [
      "Validation:  77%|███████▋  | 300/391 [02:25<00:36,  2.47it/s]"
     ]
    },
    {
     "name": "stdout",
     "output_type": "stream",
     "text": [
      "  Validation Batch   300 Loss: 1.6024 Top-1 error: 35.44% Top-5 error: 14.59%\n"
     ]
    },
    {
     "name": "stderr",
     "output_type": "stream",
     "text": [
      "Validation: 100%|██████████| 391/391 [03:07<00:00,  2.09it/s]\n"
     ]
    },
    {
     "name": "stdout",
     "output_type": "stream",
     "text": [
      "LOSS train 1.6486 valid 1.3661\n",
      "Top-1 Error train 39.31% val 31.71%\n",
      "Top-5 Error train 16.99% val 11.48%\n",
      "EPOCH 61:\n"
     ]
    },
    {
     "name": "stderr",
     "output_type": "stream",
     "text": [
      " 20%|█▉        | 1000/5005 [04:18<16:56,  3.94it/s]"
     ]
    },
    {
     "name": "stdout",
     "output_type": "stream",
     "text": [
      "  Batch 301300 Loss: 1.5188 Top-1 error rate: 36.62% Top-5 error rate: 15.32%\n"
     ]
    },
    {
     "name": "stderr",
     "output_type": "stream",
     "text": [
      " 40%|███▉      | 2000/5005 [08:33<12:49,  3.91it/s]"
     ]
    },
    {
     "name": "stdout",
     "output_type": "stream",
     "text": [
      "  Batch 302300 Loss: 1.5026 Top-1 error rate: 36.23% Top-5 error rate: 15.06%\n"
     ]
    },
    {
     "name": "stderr",
     "output_type": "stream",
     "text": [
      " 60%|█████▉    | 3000/5005 [12:48<08:32,  3.91it/s]"
     ]
    },
    {
     "name": "stdout",
     "output_type": "stream",
     "text": [
      "  Batch 303300 Loss: 1.4978 Top-1 error rate: 36.15% Top-5 error rate: 14.97%\n"
     ]
    },
    {
     "name": "stderr",
     "output_type": "stream",
     "text": [
      " 80%|███████▉  | 4000/5005 [17:02<04:15,  3.93it/s]"
     ]
    },
    {
     "name": "stdout",
     "output_type": "stream",
     "text": [
      "  Batch 304300 Loss: 1.4855 Top-1 error rate: 35.83% Top-5 error rate: 14.83%\n"
     ]
    },
    {
     "name": "stderr",
     "output_type": "stream",
     "text": [
      "100%|█████████▉| 5000/5005 [21:17<00:01,  3.95it/s]"
     ]
    },
    {
     "name": "stdout",
     "output_type": "stream",
     "text": [
      "  Batch 305300 Loss: 1.4928 Top-1 error rate: 36.05% Top-5 error rate: 15.04%\n"
     ]
    },
    {
     "name": "stderr",
     "output_type": "stream",
     "text": [
      "100%|██████████| 5005/5005 [21:19<00:00,  3.91it/s]\n",
      "Validation:  26%|██▌       | 100/391 [00:43<01:49,  2.65it/s]"
     ]
    },
    {
     "name": "stdout",
     "output_type": "stream",
     "text": [
      "  Validation Batch   100 Loss: 0.9553 Top-1 error: 23.10% Top-5 error: 6.13%\n"
     ]
    },
    {
     "name": "stderr",
     "output_type": "stream",
     "text": [
      "Validation:  51%|█████     | 200/391 [01:30<01:30,  2.11it/s]"
     ]
    },
    {
     "name": "stdout",
     "output_type": "stream",
     "text": [
      "  Validation Batch   200 Loss: 1.2225 Top-1 error: 28.33% Top-5 error: 9.33%\n"
     ]
    },
    {
     "name": "stderr",
     "output_type": "stream",
     "text": [
      "Validation:  77%|███████▋  | 300/391 [02:18<00:42,  2.12it/s]"
     ]
    },
    {
     "name": "stdout",
     "output_type": "stream",
     "text": [
      "  Validation Batch   300 Loss: 1.5227 Top-1 error: 33.64% Top-5 error: 13.31%\n"
     ]
    },
    {
     "name": "stderr",
     "output_type": "stream",
     "text": [
      "Validation: 100%|██████████| 391/391 [02:58<00:00,  2.20it/s]\n"
     ]
    },
    {
     "name": "stdout",
     "output_type": "stream",
     "text": [
      "LOSS train 1.4994 valid 1.2890\n",
      "Top-1 Error train 36.17% val 29.48%\n",
      "Top-5 Error train 15.04% val 10.25%\n",
      "EPOCH 62:\n"
     ]
    },
    {
     "name": "stderr",
     "output_type": "stream",
     "text": [
      " 20%|█▉        | 1000/5005 [04:18<17:07,  3.90it/s]"
     ]
    },
    {
     "name": "stdout",
     "output_type": "stream",
     "text": [
      "  Batch 306305 Loss: 1.4717 Top-1 error rate: 35.68% Top-5 error rate: 14.64%\n"
     ]
    },
    {
     "name": "stderr",
     "output_type": "stream",
     "text": [
      " 40%|███▉      | 2000/5005 [08:32<12:41,  3.94it/s]"
     ]
    },
    {
     "name": "stdout",
     "output_type": "stream",
     "text": [
      "  Batch 307305 Loss: 1.4756 Top-1 error rate: 35.59% Top-5 error rate: 14.68%\n"
     ]
    },
    {
     "name": "stderr",
     "output_type": "stream",
     "text": [
      " 60%|█████▉    | 3000/5005 [12:46<08:29,  3.94it/s]"
     ]
    },
    {
     "name": "stdout",
     "output_type": "stream",
     "text": [
      "  Batch 308305 Loss: 1.4759 Top-1 error rate: 35.70% Top-5 error rate: 14.63%\n"
     ]
    },
    {
     "name": "stderr",
     "output_type": "stream",
     "text": [
      " 80%|███████▉  | 4000/5005 [17:05<04:33,  3.67it/s]"
     ]
    },
    {
     "name": "stdout",
     "output_type": "stream",
     "text": [
      "  Batch 309305 Loss: 1.4687 Top-1 error rate: 35.35% Top-5 error rate: 14.62%\n"
     ]
    },
    {
     "name": "stderr",
     "output_type": "stream",
     "text": [
      "100%|█████████▉| 5000/5005 [21:29<00:01,  3.96it/s]"
     ]
    },
    {
     "name": "stdout",
     "output_type": "stream",
     "text": [
      "  Batch 310305 Loss: 1.4728 Top-1 error rate: 35.48% Top-5 error rate: 14.65%\n"
     ]
    },
    {
     "name": "stderr",
     "output_type": "stream",
     "text": [
      "100%|██████████| 5005/5005 [21:31<00:00,  3.88it/s]\n",
      "Validation:  26%|██▌       | 100/391 [00:54<02:52,  1.68it/s]"
     ]
    },
    {
     "name": "stdout",
     "output_type": "stream",
     "text": [
      "  Validation Batch   100 Loss: 0.9420 Top-1 error: 23.06% Top-5 error: 6.09%\n"
     ]
    },
    {
     "name": "stderr",
     "output_type": "stream",
     "text": [
      "Validation:  51%|█████     | 200/391 [01:46<01:41,  1.88it/s]"
     ]
    },
    {
     "name": "stdout",
     "output_type": "stream",
     "text": [
      "  Validation Batch   200 Loss: 1.2136 Top-1 error: 27.89% Top-5 error: 9.53%\n"
     ]
    },
    {
     "name": "stderr",
     "output_type": "stream",
     "text": [
      "Validation:  77%|███████▋  | 300/391 [02:39<00:46,  1.94it/s]"
     ]
    },
    {
     "name": "stdout",
     "output_type": "stream",
     "text": [
      "  Validation Batch   300 Loss: 1.5187 Top-1 error: 33.52% Top-5 error: 13.09%\n"
     ]
    },
    {
     "name": "stderr",
     "output_type": "stream",
     "text": [
      "Validation: 100%|██████████| 391/391 [03:27<00:00,  1.88it/s]\n"
     ]
    },
    {
     "name": "stdout",
     "output_type": "stream",
     "text": [
      "LOSS train 1.4729 valid 1.2816\n",
      "Top-1 Error train 35.56% val 29.39%\n",
      "Top-5 Error train 14.64% val 10.23%\n",
      "EPOCH 63:\n"
     ]
    },
    {
     "name": "stderr",
     "output_type": "stream",
     "text": [
      " 20%|█▉        | 1000/5005 [04:19<17:07,  3.90it/s]"
     ]
    },
    {
     "name": "stdout",
     "output_type": "stream",
     "text": [
      "  Batch 311310 Loss: 1.4583 Top-1 error rate: 35.32% Top-5 error rate: 14.41%\n"
     ]
    },
    {
     "name": "stderr",
     "output_type": "stream",
     "text": [
      " 40%|███▉      | 2000/5005 [08:36<12:48,  3.91it/s]"
     ]
    },
    {
     "name": "stdout",
     "output_type": "stream",
     "text": [
      "  Batch 312310 Loss: 1.4568 Top-1 error rate: 35.30% Top-5 error rate: 14.42%\n"
     ]
    },
    {
     "name": "stderr",
     "output_type": "stream",
     "text": [
      " 60%|█████▉    | 3000/5005 [12:52<08:36,  3.88it/s]"
     ]
    },
    {
     "name": "stdout",
     "output_type": "stream",
     "text": [
      "  Batch 313310 Loss: 1.4634 Top-1 error rate: 35.44% Top-5 error rate: 14.50%\n"
     ]
    },
    {
     "name": "stderr",
     "output_type": "stream",
     "text": [
      " 80%|███████▉  | 4000/5005 [17:08<04:15,  3.94it/s]"
     ]
    },
    {
     "name": "stdout",
     "output_type": "stream",
     "text": [
      "  Batch 314310 Loss: 1.4596 Top-1 error rate: 35.39% Top-5 error rate: 14.46%\n"
     ]
    },
    {
     "name": "stderr",
     "output_type": "stream",
     "text": [
      "100%|█████████▉| 5000/5005 [21:23<00:01,  3.95it/s]"
     ]
    },
    {
     "name": "stdout",
     "output_type": "stream",
     "text": [
      "  Batch 315310 Loss: 1.4549 Top-1 error rate: 35.22% Top-5 error rate: 14.46%\n"
     ]
    },
    {
     "name": "stderr",
     "output_type": "stream",
     "text": [
      "100%|██████████| 5005/5005 [21:24<00:00,  3.90it/s]\n",
      "Validation:  26%|██▌       | 100/391 [00:43<01:49,  2.66it/s]"
     ]
    },
    {
     "name": "stdout",
     "output_type": "stream",
     "text": [
      "  Validation Batch   100 Loss: 0.9288 Top-1 error: 22.81% Top-5 error: 6.01%\n"
     ]
    },
    {
     "name": "stderr",
     "output_type": "stream",
     "text": [
      "Validation:  51%|█████     | 200/391 [01:20<01:12,  2.65it/s]"
     ]
    },
    {
     "name": "stdout",
     "output_type": "stream",
     "text": [
      "  Validation Batch   200 Loss: 1.1936 Top-1 error: 27.86% Top-5 error: 9.23%\n"
     ]
    },
    {
     "name": "stderr",
     "output_type": "stream",
     "text": [
      "Validation:  77%|███████▋  | 300/391 [02:01<00:34,  2.60it/s]"
     ]
    },
    {
     "name": "stdout",
     "output_type": "stream",
     "text": [
      "  Validation Batch   300 Loss: 1.4930 Top-1 error: 33.52% Top-5 error: 13.06%\n"
     ]
    },
    {
     "name": "stderr",
     "output_type": "stream",
     "text": [
      "Validation: 100%|██████████| 391/391 [02:38<00:00,  2.47it/s]\n"
     ]
    },
    {
     "name": "stdout",
     "output_type": "stream",
     "text": [
      "LOSS train 1.4586 valid 1.2591\n",
      "Top-1 Error train 35.33% val 29.13%\n",
      "Top-5 Error train 14.45% val 10.10%\n",
      "EPOCH 64:\n"
     ]
    },
    {
     "name": "stderr",
     "output_type": "stream",
     "text": [
      " 20%|█▉        | 1000/5005 [04:19<17:06,  3.90it/s]"
     ]
    },
    {
     "name": "stdout",
     "output_type": "stream",
     "text": [
      "  Batch 316315 Loss: 1.4490 Top-1 error rate: 35.15% Top-5 error rate: 14.28%\n"
     ]
    },
    {
     "name": "stderr",
     "output_type": "stream",
     "text": [
      " 40%|███▉      | 2000/5005 [08:34<12:46,  3.92it/s]"
     ]
    },
    {
     "name": "stdout",
     "output_type": "stream",
     "text": [
      "  Batch 317315 Loss: 1.4530 Top-1 error rate: 35.19% Top-5 error rate: 14.41%\n"
     ]
    },
    {
     "name": "stderr",
     "output_type": "stream",
     "text": [
      " 60%|█████▉    | 3000/5005 [12:48<08:29,  3.94it/s]"
     ]
    },
    {
     "name": "stdout",
     "output_type": "stream",
     "text": [
      "  Batch 318315 Loss: 1.4538 Top-1 error rate: 35.23% Top-5 error rate: 14.44%\n"
     ]
    },
    {
     "name": "stderr",
     "output_type": "stream",
     "text": [
      " 80%|███████▉  | 4000/5005 [17:03<04:16,  3.93it/s]"
     ]
    },
    {
     "name": "stdout",
     "output_type": "stream",
     "text": [
      "  Batch 319315 Loss: 1.4558 Top-1 error rate: 35.20% Top-5 error rate: 14.40%\n"
     ]
    },
    {
     "name": "stderr",
     "output_type": "stream",
     "text": [
      "100%|█████████▉| 5000/5005 [21:17<00:01,  3.96it/s]"
     ]
    },
    {
     "name": "stdout",
     "output_type": "stream",
     "text": [
      "  Batch 320315 Loss: 1.4534 Top-1 error rate: 35.12% Top-5 error rate: 14.43%\n"
     ]
    },
    {
     "name": "stderr",
     "output_type": "stream",
     "text": [
      "100%|██████████| 5005/5005 [21:18<00:00,  3.91it/s]\n",
      "Validation:  26%|██▌       | 100/391 [00:43<01:49,  2.66it/s]"
     ]
    },
    {
     "name": "stdout",
     "output_type": "stream",
     "text": [
      "  Validation Batch   100 Loss: 0.9115 Top-1 error: 22.68% Top-5 error: 6.05%\n"
     ]
    },
    {
     "name": "stderr",
     "output_type": "stream",
     "text": [
      "Validation:  51%|█████     | 200/391 [01:23<01:17,  2.48it/s]"
     ]
    },
    {
     "name": "stdout",
     "output_type": "stream",
     "text": [
      "  Validation Batch   200 Loss: 1.1783 Top-1 error: 27.77% Top-5 error: 9.16%\n"
     ]
    },
    {
     "name": "stderr",
     "output_type": "stream",
     "text": [
      "Validation:  77%|███████▋  | 300/391 [02:02<00:34,  2.66it/s]"
     ]
    },
    {
     "name": "stdout",
     "output_type": "stream",
     "text": [
      "  Validation Batch   300 Loss: 1.4753 Top-1 error: 33.38% Top-5 error: 13.17%\n"
     ]
    },
    {
     "name": "stderr",
     "output_type": "stream",
     "text": [
      "Validation: 100%|██████████| 391/391 [02:39<00:00,  2.44it/s]\n"
     ]
    },
    {
     "name": "stdout",
     "output_type": "stream",
     "text": [
      "LOSS train 1.4529 valid 1.2426\n",
      "Top-1 Error train 35.18% val 29.04%\n",
      "Top-5 Error train 14.39% val 10.11%\n",
      "EPOCH 65:\n"
     ]
    },
    {
     "name": "stderr",
     "output_type": "stream",
     "text": [
      " 20%|█▉        | 1000/5005 [04:18<16:59,  3.93it/s]"
     ]
    },
    {
     "name": "stdout",
     "output_type": "stream",
     "text": [
      "  Batch 321320 Loss: 1.4374 Top-1 error rate: 34.94% Top-5 error rate: 14.15%\n"
     ]
    },
    {
     "name": "stderr",
     "output_type": "stream",
     "text": [
      " 40%|███▉      | 2000/5005 [08:32<12:50,  3.90it/s]"
     ]
    },
    {
     "name": "stdout",
     "output_type": "stream",
     "text": [
      "  Batch 322320 Loss: 1.4428 Top-1 error rate: 34.91% Top-5 error rate: 14.21%\n"
     ]
    },
    {
     "name": "stderr",
     "output_type": "stream",
     "text": [
      " 60%|█████▉    | 3000/5005 [12:46<08:30,  3.93it/s]"
     ]
    },
    {
     "name": "stdout",
     "output_type": "stream",
     "text": [
      "  Batch 323320 Loss: 1.4415 Top-1 error rate: 35.04% Top-5 error rate: 14.24%\n"
     ]
    },
    {
     "name": "stderr",
     "output_type": "stream",
     "text": [
      " 80%|███████▉  | 4000/5005 [17:01<04:17,  3.90it/s]"
     ]
    },
    {
     "name": "stdout",
     "output_type": "stream",
     "text": [
      "  Batch 324320 Loss: 1.4494 Top-1 error rate: 35.05% Top-5 error rate: 14.39%\n"
     ]
    },
    {
     "name": "stderr",
     "output_type": "stream",
     "text": [
      "100%|█████████▉| 5000/5005 [21:15<00:01,  3.94it/s]"
     ]
    },
    {
     "name": "stdout",
     "output_type": "stream",
     "text": [
      "  Batch 325320 Loss: 1.4443 Top-1 error rate: 34.97% Top-5 error rate: 14.28%\n"
     ]
    },
    {
     "name": "stderr",
     "output_type": "stream",
     "text": [
      "100%|██████████| 5005/5005 [21:16<00:00,  3.92it/s]\n",
      "Validation:  26%|██▌       | 100/391 [00:43<01:49,  2.65it/s]"
     ]
    },
    {
     "name": "stdout",
     "output_type": "stream",
     "text": [
      "  Validation Batch   100 Loss: 0.9085 Top-1 error: 22.92% Top-5 error: 6.05%\n"
     ]
    },
    {
     "name": "stderr",
     "output_type": "stream",
     "text": [
      "Validation:  51%|█████     | 200/391 [01:23<01:20,  2.37it/s]"
     ]
    },
    {
     "name": "stdout",
     "output_type": "stream",
     "text": [
      "  Validation Batch   200 Loss: 1.1727 Top-1 error: 27.55% Top-5 error: 9.20%\n"
     ]
    },
    {
     "name": "stderr",
     "output_type": "stream",
     "text": [
      "Validation:  77%|███████▋  | 300/391 [02:02<00:34,  2.61it/s]"
     ]
    },
    {
     "name": "stdout",
     "output_type": "stream",
     "text": [
      "  Validation Batch   300 Loss: 1.4765 Top-1 error: 33.38% Top-5 error: 13.02%\n"
     ]
    },
    {
     "name": "stderr",
     "output_type": "stream",
     "text": [
      "Validation: 100%|██████████| 391/391 [02:37<00:00,  2.48it/s]\n"
     ]
    },
    {
     "name": "stdout",
     "output_type": "stream",
     "text": [
      "LOSS train 1.4430 valid 1.2414\n",
      "Top-1 Error train 34.98% val 29.06%\n",
      "Top-5 Error train 14.25% val 10.09%\n",
      "EPOCH 66:\n"
     ]
    },
    {
     "name": "stderr",
     "output_type": "stream",
     "text": [
      " 20%|█▉        | 1000/5005 [04:18<17:06,  3.90it/s]"
     ]
    },
    {
     "name": "stdout",
     "output_type": "stream",
     "text": [
      "  Batch 326325 Loss: 1.4374 Top-1 error rate: 34.79% Top-5 error rate: 14.18%\n"
     ]
    },
    {
     "name": "stderr",
     "output_type": "stream",
     "text": [
      " 40%|███▉      | 2000/5005 [08:32<12:45,  3.93it/s]"
     ]
    },
    {
     "name": "stdout",
     "output_type": "stream",
     "text": [
      "  Batch 327325 Loss: 1.4421 Top-1 error rate: 34.94% Top-5 error rate: 14.24%\n"
     ]
    },
    {
     "name": "stderr",
     "output_type": "stream",
     "text": [
      " 60%|█████▉    | 3000/5005 [12:47<08:31,  3.92it/s]"
     ]
    },
    {
     "name": "stdout",
     "output_type": "stream",
     "text": [
      "  Batch 328325 Loss: 1.4408 Top-1 error rate: 34.91% Top-5 error rate: 14.27%\n"
     ]
    },
    {
     "name": "stderr",
     "output_type": "stream",
     "text": [
      " 80%|███████▉  | 4000/5005 [17:13<04:15,  3.93it/s]"
     ]
    },
    {
     "name": "stdout",
     "output_type": "stream",
     "text": [
      "  Batch 329325 Loss: 1.4453 Top-1 error rate: 35.05% Top-5 error rate: 14.38%\n"
     ]
    },
    {
     "name": "stderr",
     "output_type": "stream",
     "text": [
      "100%|█████████▉| 5000/5005 [21:27<00:01,  3.96it/s]"
     ]
    },
    {
     "name": "stdout",
     "output_type": "stream",
     "text": [
      "  Batch 330325 Loss: 1.4360 Top-1 error rate: 34.95% Top-5 error rate: 14.16%\n"
     ]
    },
    {
     "name": "stderr",
     "output_type": "stream",
     "text": [
      "100%|██████████| 5005/5005 [21:28<00:00,  3.88it/s]\n",
      "Validation:  26%|██▌       | 100/391 [00:43<01:51,  2.60it/s]"
     ]
    },
    {
     "name": "stdout",
     "output_type": "stream",
     "text": [
      "  Validation Batch   100 Loss: 0.9210 Top-1 error: 22.80% Top-5 error: 5.95%\n"
     ]
    },
    {
     "name": "stderr",
     "output_type": "stream",
     "text": [
      "Validation:  51%|█████     | 200/391 [01:25<01:30,  2.12it/s]"
     ]
    },
    {
     "name": "stdout",
     "output_type": "stream",
     "text": [
      "  Validation Batch   200 Loss: 1.1882 Top-1 error: 27.75% Top-5 error: 9.04%\n"
     ]
    },
    {
     "name": "stderr",
     "output_type": "stream",
     "text": [
      "Validation:  77%|███████▋  | 300/391 [02:06<00:35,  2.57it/s]"
     ]
    },
    {
     "name": "stdout",
     "output_type": "stream",
     "text": [
      "  Validation Batch   300 Loss: 1.4973 Top-1 error: 33.36% Top-5 error: 12.95%\n"
     ]
    },
    {
     "name": "stderr",
     "output_type": "stream",
     "text": [
      "Validation: 100%|██████████| 391/391 [02:44<00:00,  2.38it/s]\n"
     ]
    },
    {
     "name": "stdout",
     "output_type": "stream",
     "text": [
      "LOSS train 1.4403 valid 1.2584\n",
      "Top-1 Error train 34.93% val 29.09%\n",
      "Top-5 Error train 14.24% val 9.99%\n",
      "EPOCH 67:\n"
     ]
    },
    {
     "name": "stderr",
     "output_type": "stream",
     "text": [
      " 20%|█▉        | 1000/5005 [04:18<16:57,  3.94it/s]"
     ]
    },
    {
     "name": "stdout",
     "output_type": "stream",
     "text": [
      "  Batch 331330 Loss: 1.4279 Top-1 error rate: 34.61% Top-5 error rate: 14.04%\n"
     ]
    },
    {
     "name": "stderr",
     "output_type": "stream",
     "text": [
      " 40%|███▉      | 2000/5005 [08:33<12:43,  3.94it/s]"
     ]
    },
    {
     "name": "stdout",
     "output_type": "stream",
     "text": [
      "  Batch 332330 Loss: 1.4406 Top-1 error rate: 34.94% Top-5 error rate: 14.29%\n"
     ]
    },
    {
     "name": "stderr",
     "output_type": "stream",
     "text": [
      " 60%|█████▉    | 3000/5005 [12:47<08:28,  3.94it/s]"
     ]
    },
    {
     "name": "stdout",
     "output_type": "stream",
     "text": [
      "  Batch 333330 Loss: 1.4373 Top-1 error rate: 34.94% Top-5 error rate: 14.22%\n"
     ]
    },
    {
     "name": "stderr",
     "output_type": "stream",
     "text": [
      " 80%|███████▉  | 4000/5005 [17:01<04:15,  3.93it/s]"
     ]
    },
    {
     "name": "stdout",
     "output_type": "stream",
     "text": [
      "  Batch 334330 Loss: 1.4294 Top-1 error rate: 34.68% Top-5 error rate: 14.04%\n"
     ]
    },
    {
     "name": "stderr",
     "output_type": "stream",
     "text": [
      "100%|█████████▉| 5000/5005 [21:16<00:01,  3.96it/s]"
     ]
    },
    {
     "name": "stdout",
     "output_type": "stream",
     "text": [
      "  Batch 335330 Loss: 1.4407 Top-1 error rate: 34.91% Top-5 error rate: 14.21%\n"
     ]
    },
    {
     "name": "stderr",
     "output_type": "stream",
     "text": [
      "100%|██████████| 5005/5005 [21:17<00:00,  3.92it/s]\n",
      "Validation:  26%|██▌       | 100/391 [00:42<01:49,  2.65it/s]"
     ]
    },
    {
     "name": "stdout",
     "output_type": "stream",
     "text": [
      "  Validation Batch   100 Loss: 0.9109 Top-1 error: 22.64% Top-5 error: 5.98%\n"
     ]
    },
    {
     "name": "stderr",
     "output_type": "stream",
     "text": [
      "Validation:  51%|█████     | 200/391 [01:22<01:12,  2.65it/s]"
     ]
    },
    {
     "name": "stdout",
     "output_type": "stream",
     "text": [
      "  Validation Batch   200 Loss: 1.1864 Top-1 error: 27.92% Top-5 error: 9.17%\n"
     ]
    },
    {
     "name": "stderr",
     "output_type": "stream",
     "text": [
      "Validation:  77%|███████▋  | 300/391 [02:02<00:40,  2.25it/s]"
     ]
    },
    {
     "name": "stdout",
     "output_type": "stream",
     "text": [
      "  Validation Batch   300 Loss: 1.4768 Top-1 error: 33.16% Top-5 error: 12.97%\n"
     ]
    },
    {
     "name": "stderr",
     "output_type": "stream",
     "text": [
      "Validation: 100%|██████████| 391/391 [02:44<00:00,  2.37it/s]\n"
     ]
    },
    {
     "name": "stdout",
     "output_type": "stream",
     "text": [
      "LOSS train 1.4352 valid 1.2447\n",
      "Top-1 Error train 34.82% val 29.02%\n",
      "Top-5 Error train 14.16% val 10.04%\n",
      "EPOCH 68:\n"
     ]
    },
    {
     "name": "stderr",
     "output_type": "stream",
     "text": [
      " 20%|█▉        | 1000/5005 [04:19<17:10,  3.89it/s]"
     ]
    },
    {
     "name": "stdout",
     "output_type": "stream",
     "text": [
      "  Batch 336335 Loss: 1.4277 Top-1 error rate: 34.79% Top-5 error rate: 14.04%\n"
     ]
    },
    {
     "name": "stderr",
     "output_type": "stream",
     "text": [
      " 40%|███▉      | 2000/5005 [08:34<12:45,  3.93it/s]"
     ]
    },
    {
     "name": "stdout",
     "output_type": "stream",
     "text": [
      "  Batch 337335 Loss: 1.4321 Top-1 error rate: 34.76% Top-5 error rate: 14.17%\n"
     ]
    },
    {
     "name": "stderr",
     "output_type": "stream",
     "text": [
      " 60%|█████▉    | 3000/5005 [12:49<08:30,  3.93it/s]"
     ]
    },
    {
     "name": "stdout",
     "output_type": "stream",
     "text": [
      "  Batch 338335 Loss: 1.4286 Top-1 error rate: 34.62% Top-5 error rate: 14.07%\n"
     ]
    },
    {
     "name": "stderr",
     "output_type": "stream",
     "text": [
      " 80%|███████▉  | 4000/5005 [17:04<04:16,  3.92it/s]"
     ]
    },
    {
     "name": "stdout",
     "output_type": "stream",
     "text": [
      "  Batch 339335 Loss: 1.4336 Top-1 error rate: 34.78% Top-5 error rate: 14.10%\n"
     ]
    },
    {
     "name": "stderr",
     "output_type": "stream",
     "text": [
      "100%|█████████▉| 5000/5005 [21:19<00:01,  3.94it/s]"
     ]
    },
    {
     "name": "stdout",
     "output_type": "stream",
     "text": [
      "  Batch 340335 Loss: 1.4273 Top-1 error rate: 34.57% Top-5 error rate: 14.11%\n"
     ]
    },
    {
     "name": "stderr",
     "output_type": "stream",
     "text": [
      "100%|██████████| 5005/5005 [21:20<00:00,  3.91it/s]\n",
      "Validation:  26%|██▌       | 100/391 [00:43<02:15,  2.15it/s]"
     ]
    },
    {
     "name": "stdout",
     "output_type": "stream",
     "text": [
      "  Validation Batch   100 Loss: 0.9243 Top-1 error: 22.80% Top-5 error: 6.02%\n"
     ]
    },
    {
     "name": "stderr",
     "output_type": "stream",
     "text": [
      "Validation:  51%|█████     | 200/391 [01:28<01:13,  2.61it/s]"
     ]
    },
    {
     "name": "stdout",
     "output_type": "stream",
     "text": [
      "  Validation Batch   200 Loss: 1.1903 Top-1 error: 27.66% Top-5 error: 9.24%\n"
     ]
    },
    {
     "name": "stderr",
     "output_type": "stream",
     "text": [
      "Validation:  77%|███████▋  | 300/391 [02:10<00:52,  1.74it/s]"
     ]
    },
    {
     "name": "stdout",
     "output_type": "stream",
     "text": [
      "  Validation Batch   300 Loss: 1.4967 Top-1 error: 33.19% Top-5 error: 12.95%\n"
     ]
    },
    {
     "name": "stderr",
     "output_type": "stream",
     "text": [
      "Validation: 100%|██████████| 391/391 [02:47<00:00,  2.33it/s]\n"
     ]
    },
    {
     "name": "stdout",
     "output_type": "stream",
     "text": [
      "LOSS train 1.4299 valid 1.2574\n",
      "Top-1 Error train 34.71% val 29.02%\n",
      "Top-5 Error train 14.10% val 10.04%\n",
      "EPOCH 69:\n"
     ]
    },
    {
     "name": "stderr",
     "output_type": "stream",
     "text": [
      " 20%|█▉        | 1000/5005 [04:17<17:00,  3.92it/s]"
     ]
    },
    {
     "name": "stdout",
     "output_type": "stream",
     "text": [
      "  Batch 341340 Loss: 1.4230 Top-1 error rate: 34.58% Top-5 error rate: 14.00%\n"
     ]
    },
    {
     "name": "stderr",
     "output_type": "stream",
     "text": [
      " 40%|███▉      | 2000/5005 [08:32<12:43,  3.93it/s]"
     ]
    },
    {
     "name": "stdout",
     "output_type": "stream",
     "text": [
      "  Batch 342340 Loss: 1.4242 Top-1 error rate: 34.54% Top-5 error rate: 13.98%\n"
     ]
    },
    {
     "name": "stderr",
     "output_type": "stream",
     "text": [
      " 60%|█████▉    | 3000/5005 [12:46<08:30,  3.93it/s]"
     ]
    },
    {
     "name": "stdout",
     "output_type": "stream",
     "text": [
      "  Batch 343340 Loss: 1.4293 Top-1 error rate: 34.67% Top-5 error rate: 14.10%\n"
     ]
    },
    {
     "name": "stderr",
     "output_type": "stream",
     "text": [
      " 80%|███████▉  | 4000/5005 [17:00<04:15,  3.93it/s]"
     ]
    },
    {
     "name": "stdout",
     "output_type": "stream",
     "text": [
      "  Batch 344340 Loss: 1.4302 Top-1 error rate: 34.62% Top-5 error rate: 14.11%\n"
     ]
    },
    {
     "name": "stderr",
     "output_type": "stream",
     "text": [
      "100%|█████████▉| 5000/5005 [21:15<00:01,  3.95it/s]"
     ]
    },
    {
     "name": "stdout",
     "output_type": "stream",
     "text": [
      "  Batch 345340 Loss: 1.4312 Top-1 error rate: 34.71% Top-5 error rate: 14.12%\n"
     ]
    },
    {
     "name": "stderr",
     "output_type": "stream",
     "text": [
      "100%|██████████| 5005/5005 [21:16<00:00,  3.92it/s]\n",
      "Validation:  26%|██▌       | 100/391 [00:41<01:49,  2.65it/s]"
     ]
    },
    {
     "name": "stdout",
     "output_type": "stream",
     "text": [
      "  Validation Batch   100 Loss: 0.9090 Top-1 error: 22.90% Top-5 error: 6.03%\n"
     ]
    },
    {
     "name": "stderr",
     "output_type": "stream",
     "text": [
      "Validation:  51%|█████     | 200/391 [01:19<01:36,  1.98it/s]"
     ]
    },
    {
     "name": "stdout",
     "output_type": "stream",
     "text": [
      "  Validation Batch   200 Loss: 1.1684 Top-1 error: 27.59% Top-5 error: 9.11%\n"
     ]
    },
    {
     "name": "stderr",
     "output_type": "stream",
     "text": [
      "Validation:  77%|███████▋  | 300/391 [01:58<00:38,  2.35it/s]"
     ]
    },
    {
     "name": "stdout",
     "output_type": "stream",
     "text": [
      "  Validation Batch   300 Loss: 1.4724 Top-1 error: 33.03% Top-5 error: 13.02%\n"
     ]
    },
    {
     "name": "stderr",
     "output_type": "stream",
     "text": [
      "Validation: 100%|██████████| 391/391 [02:33<00:00,  2.54it/s]\n"
     ]
    },
    {
     "name": "stdout",
     "output_type": "stream",
     "text": [
      "LOSS train 1.4275 valid 1.2391\n",
      "Top-1 Error train 34.62% val 28.98%\n",
      "Top-5 Error train 14.06% val 10.07%\n",
      "EPOCH 70:\n"
     ]
    },
    {
     "name": "stderr",
     "output_type": "stream",
     "text": [
      " 20%|█▉        | 1000/5005 [04:18<16:57,  3.94it/s]"
     ]
    },
    {
     "name": "stdout",
     "output_type": "stream",
     "text": [
      "  Batch 346345 Loss: 1.4193 Top-1 error rate: 34.43% Top-5 error rate: 13.92%\n"
     ]
    },
    {
     "name": "stderr",
     "output_type": "stream",
     "text": [
      " 40%|███▉      | 2000/5005 [08:32<12:44,  3.93it/s]"
     ]
    },
    {
     "name": "stdout",
     "output_type": "stream",
     "text": [
      "  Batch 347345 Loss: 1.4278 Top-1 error rate: 34.47% Top-5 error rate: 14.15%\n"
     ]
    },
    {
     "name": "stderr",
     "output_type": "stream",
     "text": [
      " 60%|█████▉    | 3000/5005 [12:46<08:30,  3.93it/s]"
     ]
    },
    {
     "name": "stdout",
     "output_type": "stream",
     "text": [
      "  Batch 348345 Loss: 1.4180 Top-1 error rate: 34.37% Top-5 error rate: 13.90%\n"
     ]
    },
    {
     "name": "stderr",
     "output_type": "stream",
     "text": [
      " 80%|███████▉  | 4000/5005 [17:01<04:15,  3.94it/s]"
     ]
    },
    {
     "name": "stdout",
     "output_type": "stream",
     "text": [
      "  Batch 349345 Loss: 1.4216 Top-1 error rate: 34.60% Top-5 error rate: 14.01%\n"
     ]
    },
    {
     "name": "stderr",
     "output_type": "stream",
     "text": [
      "100%|█████████▉| 5000/5005 [21:15<00:01,  3.95it/s]"
     ]
    },
    {
     "name": "stdout",
     "output_type": "stream",
     "text": [
      "  Batch 350345 Loss: 1.4244 Top-1 error rate: 34.59% Top-5 error rate: 14.01%\n"
     ]
    },
    {
     "name": "stderr",
     "output_type": "stream",
     "text": [
      "100%|██████████| 5005/5005 [21:16<00:00,  3.92it/s]\n",
      "Validation:  26%|██▌       | 100/391 [00:44<01:49,  2.65it/s]"
     ]
    },
    {
     "name": "stdout",
     "output_type": "stream",
     "text": [
      "  Validation Batch   100 Loss: 0.9084 Top-1 error: 22.70% Top-5 error: 5.95%\n"
     ]
    },
    {
     "name": "stderr",
     "output_type": "stream",
     "text": [
      "Validation:  51%|█████     | 200/391 [01:22<01:12,  2.62it/s]"
     ]
    },
    {
     "name": "stdout",
     "output_type": "stream",
     "text": [
      "  Validation Batch   200 Loss: 1.1741 Top-1 error: 27.62% Top-5 error: 9.20%\n"
     ]
    },
    {
     "name": "stderr",
     "output_type": "stream",
     "text": [
      "Validation:  77%|███████▋  | 300/391 [02:02<00:36,  2.51it/s]"
     ]
    },
    {
     "name": "stdout",
     "output_type": "stream",
     "text": [
      "  Validation Batch   300 Loss: 1.4689 Top-1 error: 32.96% Top-5 error: 12.72%\n"
     ]
    },
    {
     "name": "stderr",
     "output_type": "stream",
     "text": [
      "Validation: 100%|██████████| 391/391 [02:38<00:00,  2.47it/s]\n"
     ]
    },
    {
     "name": "stdout",
     "output_type": "stream",
     "text": [
      "LOSS train 1.4222 valid 1.2379\n",
      "Top-1 Error train 34.49% val 28.90%\n",
      "Top-5 Error train 14.00% val 9.96%\n",
      "EPOCH 71:\n"
     ]
    },
    {
     "name": "stderr",
     "output_type": "stream",
     "text": [
      " 20%|█▉        | 1000/5005 [04:18<16:59,  3.93it/s]"
     ]
    },
    {
     "name": "stdout",
     "output_type": "stream",
     "text": [
      "  Batch 351350 Loss: 1.4146 Top-1 error rate: 34.40% Top-5 error rate: 13.97%\n"
     ]
    },
    {
     "name": "stderr",
     "output_type": "stream",
     "text": [
      " 40%|███▉      | 2000/5005 [08:32<12:44,  3.93it/s]"
     ]
    },
    {
     "name": "stdout",
     "output_type": "stream",
     "text": [
      "  Batch 352350 Loss: 1.4193 Top-1 error rate: 34.42% Top-5 error rate: 13.98%\n"
     ]
    },
    {
     "name": "stderr",
     "output_type": "stream",
     "text": [
      " 60%|█████▉    | 3000/5005 [12:47<08:29,  3.93it/s]"
     ]
    },
    {
     "name": "stdout",
     "output_type": "stream",
     "text": [
      "  Batch 353350 Loss: 1.4175 Top-1 error rate: 34.43% Top-5 error rate: 13.97%\n"
     ]
    },
    {
     "name": "stderr",
     "output_type": "stream",
     "text": [
      " 80%|███████▉  | 4000/5005 [17:01<04:15,  3.93it/s]"
     ]
    },
    {
     "name": "stdout",
     "output_type": "stream",
     "text": [
      "  Batch 354350 Loss: 1.4187 Top-1 error rate: 34.52% Top-5 error rate: 14.00%\n"
     ]
    },
    {
     "name": "stderr",
     "output_type": "stream",
     "text": [
      "100%|█████████▉| 5000/5005 [21:16<00:01,  3.95it/s]"
     ]
    },
    {
     "name": "stdout",
     "output_type": "stream",
     "text": [
      "  Batch 355350 Loss: 1.4209 Top-1 error rate: 34.49% Top-5 error rate: 13.99%\n"
     ]
    },
    {
     "name": "stderr",
     "output_type": "stream",
     "text": [
      "100%|██████████| 5005/5005 [21:17<00:00,  3.92it/s]\n",
      "Validation:  26%|██▌       | 100/391 [00:43<01:59,  2.43it/s]"
     ]
    },
    {
     "name": "stdout",
     "output_type": "stream",
     "text": [
      "  Validation Batch   100 Loss: 0.8978 Top-1 error: 22.68% Top-5 error: 6.05%\n"
     ]
    },
    {
     "name": "stderr",
     "output_type": "stream",
     "text": [
      "Validation:  51%|█████     | 200/391 [01:23<01:19,  2.39it/s]"
     ]
    },
    {
     "name": "stdout",
     "output_type": "stream",
     "text": [
      "  Validation Batch   200 Loss: 1.1626 Top-1 error: 27.70% Top-5 error: 9.11%\n"
     ]
    },
    {
     "name": "stderr",
     "output_type": "stream",
     "text": [
      "Validation:  77%|███████▋  | 300/391 [02:04<00:40,  2.26it/s]"
     ]
    },
    {
     "name": "stdout",
     "output_type": "stream",
     "text": [
      "  Validation Batch   300 Loss: 1.4647 Top-1 error: 33.38% Top-5 error: 12.88%\n"
     ]
    },
    {
     "name": "stderr",
     "output_type": "stream",
     "text": [
      "Validation: 100%|██████████| 391/391 [02:41<00:00,  2.42it/s]\n"
     ]
    },
    {
     "name": "stdout",
     "output_type": "stream",
     "text": [
      "LOSS train 1.4182 valid 1.2292\n",
      "Top-1 Error train 34.46% val 29.02%\n",
      "Top-5 Error train 13.98% val 10.00%\n",
      "EPOCH 72:\n"
     ]
    },
    {
     "name": "stderr",
     "output_type": "stream",
     "text": [
      " 20%|█▉        | 1000/5005 [04:18<17:06,  3.90it/s]"
     ]
    },
    {
     "name": "stdout",
     "output_type": "stream",
     "text": [
      "  Batch 356355 Loss: 1.4068 Top-1 error rate: 34.23% Top-5 error rate: 13.81%\n"
     ]
    },
    {
     "name": "stderr",
     "output_type": "stream",
     "text": [
      " 40%|███▉      | 2000/5005 [08:32<12:42,  3.94it/s]"
     ]
    },
    {
     "name": "stdout",
     "output_type": "stream",
     "text": [
      "  Batch 357355 Loss: 1.4109 Top-1 error rate: 34.27% Top-5 error rate: 13.87%\n"
     ]
    },
    {
     "name": "stderr",
     "output_type": "stream",
     "text": [
      " 60%|█████▉    | 3000/5005 [12:46<08:34,  3.90it/s]"
     ]
    },
    {
     "name": "stdout",
     "output_type": "stream",
     "text": [
      "  Batch 358355 Loss: 1.4197 Top-1 error rate: 34.69% Top-5 error rate: 13.99%\n"
     ]
    },
    {
     "name": "stderr",
     "output_type": "stream",
     "text": [
      " 80%|███████▉  | 4000/5005 [17:01<04:15,  3.93it/s]"
     ]
    },
    {
     "name": "stdout",
     "output_type": "stream",
     "text": [
      "  Batch 359355 Loss: 1.4183 Top-1 error rate: 34.48% Top-5 error rate: 13.96%\n"
     ]
    },
    {
     "name": "stderr",
     "output_type": "stream",
     "text": [
      "100%|█████████▉| 5000/5005 [21:15<00:01,  3.96it/s]"
     ]
    },
    {
     "name": "stdout",
     "output_type": "stream",
     "text": [
      "  Batch 360355 Loss: 1.4203 Top-1 error rate: 34.48% Top-5 error rate: 13.98%\n"
     ]
    },
    {
     "name": "stderr",
     "output_type": "stream",
     "text": [
      "100%|██████████| 5005/5005 [21:16<00:00,  3.92it/s]\n",
      "Validation:  26%|██▌       | 100/391 [00:45<01:49,  2.65it/s]"
     ]
    },
    {
     "name": "stdout",
     "output_type": "stream",
     "text": [
      "  Validation Batch   100 Loss: 0.9070 Top-1 error: 22.59% Top-5 error: 5.86%\n"
     ]
    },
    {
     "name": "stderr",
     "output_type": "stream",
     "text": [
      "Validation:  51%|█████     | 200/391 [01:26<01:13,  2.60it/s]"
     ]
    },
    {
     "name": "stdout",
     "output_type": "stream",
     "text": [
      "  Validation Batch   200 Loss: 1.1724 Top-1 error: 27.70% Top-5 error: 8.99%\n"
     ]
    },
    {
     "name": "stderr",
     "output_type": "stream",
     "text": [
      "Validation:  77%|███████▋  | 300/391 [02:07<00:38,  2.39it/s]"
     ]
    },
    {
     "name": "stdout",
     "output_type": "stream",
     "text": [
      "  Validation Batch   300 Loss: 1.4680 Top-1 error: 33.02% Top-5 error: 12.80%\n"
     ]
    },
    {
     "name": "stderr",
     "output_type": "stream",
     "text": [
      "Validation: 100%|██████████| 391/391 [02:43<00:00,  2.38it/s]\n"
     ]
    },
    {
     "name": "stdout",
     "output_type": "stream",
     "text": [
      "LOSS train 1.4152 valid 1.2371\n",
      "Top-1 Error train 34.43% val 28.90%\n",
      "Top-5 Error train 13.92% val 9.89%\n",
      "EPOCH 73:\n"
     ]
    },
    {
     "name": "stderr",
     "output_type": "stream",
     "text": [
      " 20%|█▉        | 1000/5005 [04:18<16:57,  3.94it/s]"
     ]
    },
    {
     "name": "stdout",
     "output_type": "stream",
     "text": [
      "  Batch 361360 Loss: 1.4131 Top-1 error rate: 34.34% Top-5 error rate: 13.90%\n"
     ]
    },
    {
     "name": "stderr",
     "output_type": "stream",
     "text": [
      " 40%|███▉      | 2000/5005 [08:32<12:45,  3.93it/s]"
     ]
    },
    {
     "name": "stdout",
     "output_type": "stream",
     "text": [
      "  Batch 362360 Loss: 1.4074 Top-1 error rate: 34.14% Top-5 error rate: 13.81%\n"
     ]
    },
    {
     "name": "stderr",
     "output_type": "stream",
     "text": [
      " 60%|█████▉    | 3000/5005 [12:47<08:31,  3.92it/s]"
     ]
    },
    {
     "name": "stdout",
     "output_type": "stream",
     "text": [
      "  Batch 363360 Loss: 1.4132 Top-1 error rate: 34.32% Top-5 error rate: 13.94%\n"
     ]
    },
    {
     "name": "stderr",
     "output_type": "stream",
     "text": [
      " 80%|███████▉  | 4000/5005 [17:01<04:16,  3.92it/s]"
     ]
    },
    {
     "name": "stdout",
     "output_type": "stream",
     "text": [
      "  Batch 364360 Loss: 1.4122 Top-1 error rate: 34.35% Top-5 error rate: 13.87%\n"
     ]
    },
    {
     "name": "stderr",
     "output_type": "stream",
     "text": [
      "100%|█████████▉| 5000/5005 [21:15<00:01,  3.95it/s]"
     ]
    },
    {
     "name": "stdout",
     "output_type": "stream",
     "text": [
      "  Batch 365360 Loss: 1.4174 Top-1 error rate: 34.36% Top-5 error rate: 13.95%\n"
     ]
    },
    {
     "name": "stderr",
     "output_type": "stream",
     "text": [
      "100%|██████████| 5005/5005 [21:16<00:00,  3.92it/s]\n",
      "Validation:  26%|██▌       | 100/391 [00:45<01:53,  2.56it/s]"
     ]
    },
    {
     "name": "stdout",
     "output_type": "stream",
     "text": [
      "  Validation Batch   100 Loss: 0.9220 Top-1 error: 22.46% Top-5 error: 5.95%\n"
     ]
    },
    {
     "name": "stderr",
     "output_type": "stream",
     "text": [
      "Validation:  51%|█████     | 200/391 [01:28<01:17,  2.45it/s]"
     ]
    },
    {
     "name": "stdout",
     "output_type": "stream",
     "text": [
      "  Validation Batch   200 Loss: 1.1868 Top-1 error: 27.59% Top-5 error: 9.10%\n"
     ]
    },
    {
     "name": "stderr",
     "output_type": "stream",
     "text": [
      "Validation:  77%|███████▋  | 300/391 [02:08<00:35,  2.54it/s]"
     ]
    },
    {
     "name": "stdout",
     "output_type": "stream",
     "text": [
      "  Validation Batch   300 Loss: 1.4826 Top-1 error: 33.02% Top-5 error: 12.68%\n"
     ]
    },
    {
     "name": "stderr",
     "output_type": "stream",
     "text": [
      "Validation: 100%|██████████| 391/391 [02:44<00:00,  2.37it/s]\n"
     ]
    },
    {
     "name": "stdout",
     "output_type": "stream",
     "text": [
      "LOSS train 1.4126 valid 1.2504\n",
      "Top-1 Error train 34.30% val 28.80%\n",
      "Top-5 Error train 13.90% val 9.89%\n",
      "EPOCH 74:\n"
     ]
    },
    {
     "name": "stderr",
     "output_type": "stream",
     "text": [
      " 20%|█▉        | 1000/5005 [04:18<16:58,  3.93it/s]"
     ]
    },
    {
     "name": "stdout",
     "output_type": "stream",
     "text": [
      "  Batch 366365 Loss: 1.4068 Top-1 error rate: 34.29% Top-5 error rate: 13.76%\n"
     ]
    },
    {
     "name": "stderr",
     "output_type": "stream",
     "text": [
      " 40%|███▉      | 2000/5005 [08:33<12:45,  3.92it/s]"
     ]
    },
    {
     "name": "stdout",
     "output_type": "stream",
     "text": [
      "  Batch 367365 Loss: 1.4077 Top-1 error rate: 34.22% Top-5 error rate: 13.88%\n"
     ]
    },
    {
     "name": "stderr",
     "output_type": "stream",
     "text": [
      " 60%|█████▉    | 3000/5005 [12:49<08:32,  3.91it/s]"
     ]
    },
    {
     "name": "stdout",
     "output_type": "stream",
     "text": [
      "  Batch 368365 Loss: 1.4110 Top-1 error rate: 34.32% Top-5 error rate: 13.89%\n"
     ]
    },
    {
     "name": "stderr",
     "output_type": "stream",
     "text": [
      " 80%|███████▉  | 4000/5005 [17:04<04:15,  3.93it/s]"
     ]
    },
    {
     "name": "stdout",
     "output_type": "stream",
     "text": [
      "  Batch 369365 Loss: 1.4032 Top-1 error rate: 34.17% Top-5 error rate: 13.75%\n"
     ]
    },
    {
     "name": "stderr",
     "output_type": "stream",
     "text": [
      "100%|█████████▉| 5000/5005 [21:19<00:01,  3.94it/s]"
     ]
    },
    {
     "name": "stdout",
     "output_type": "stream",
     "text": [
      "  Batch 370365 Loss: 1.4097 Top-1 error rate: 34.25% Top-5 error rate: 13.81%\n"
     ]
    },
    {
     "name": "stderr",
     "output_type": "stream",
     "text": [
      "100%|██████████| 5005/5005 [21:20<00:00,  3.91it/s]\n",
      "Validation:  26%|██▌       | 100/391 [00:48<02:23,  2.03it/s]"
     ]
    },
    {
     "name": "stdout",
     "output_type": "stream",
     "text": [
      "  Validation Batch   100 Loss: 0.9004 Top-1 error: 22.75% Top-5 error: 5.91%\n"
     ]
    },
    {
     "name": "stderr",
     "output_type": "stream",
     "text": [
      "Validation:  51%|█████     | 200/391 [01:36<01:37,  1.96it/s]"
     ]
    },
    {
     "name": "stdout",
     "output_type": "stream",
     "text": [
      "  Validation Batch   200 Loss: 1.1664 Top-1 error: 27.52% Top-5 error: 9.11%\n"
     ]
    },
    {
     "name": "stderr",
     "output_type": "stream",
     "text": [
      "Validation:  77%|███████▋  | 300/391 [02:27<00:48,  1.88it/s]"
     ]
    },
    {
     "name": "stdout",
     "output_type": "stream",
     "text": [
      "  Validation Batch   300 Loss: 1.4586 Top-1 error: 33.30% Top-5 error: 12.84%\n"
     ]
    },
    {
     "name": "stderr",
     "output_type": "stream",
     "text": [
      "Validation: 100%|██████████| 391/391 [03:13<00:00,  2.02it/s]\n"
     ]
    },
    {
     "name": "stdout",
     "output_type": "stream",
     "text": [
      "LOSS train 1.4077 valid 1.2287\n",
      "Top-1 Error train 34.25% val 28.95%\n",
      "Top-5 Error train 13.82% val 9.95%\n",
      "EPOCH 75:\n"
     ]
    },
    {
     "name": "stderr",
     "output_type": "stream",
     "text": [
      " 20%|█▉        | 1000/5005 [04:19<17:02,  3.92it/s]"
     ]
    },
    {
     "name": "stdout",
     "output_type": "stream",
     "text": [
      "  Batch 371370 Loss: 1.4005 Top-1 error rate: 34.16% Top-5 error rate: 13.80%\n"
     ]
    },
    {
     "name": "stderr",
     "output_type": "stream",
     "text": [
      " 40%|███▉      | 2000/5005 [08:35<12:47,  3.91it/s]"
     ]
    },
    {
     "name": "stdout",
     "output_type": "stream",
     "text": [
      "  Batch 372370 Loss: 1.4080 Top-1 error rate: 34.16% Top-5 error rate: 13.82%\n"
     ]
    },
    {
     "name": "stderr",
     "output_type": "stream",
     "text": [
      " 60%|█████▉    | 3000/5005 [12:50<08:30,  3.92it/s]"
     ]
    },
    {
     "name": "stdout",
     "output_type": "stream",
     "text": [
      "  Batch 373370 Loss: 1.4040 Top-1 error rate: 34.08% Top-5 error rate: 13.82%\n"
     ]
    },
    {
     "name": "stderr",
     "output_type": "stream",
     "text": [
      " 80%|███████▉  | 4000/5005 [17:05<04:18,  3.89it/s]"
     ]
    },
    {
     "name": "stdout",
     "output_type": "stream",
     "text": [
      "  Batch 374370 Loss: 1.4101 Top-1 error rate: 34.28% Top-5 error rate: 13.91%\n"
     ]
    },
    {
     "name": "stderr",
     "output_type": "stream",
     "text": [
      "100%|█████████▉| 5000/5005 [21:19<00:01,  3.95it/s]"
     ]
    },
    {
     "name": "stdout",
     "output_type": "stream",
     "text": [
      "  Batch 375370 Loss: 1.4126 Top-1 error rate: 34.36% Top-5 error rate: 13.80%\n"
     ]
    },
    {
     "name": "stderr",
     "output_type": "stream",
     "text": [
      "100%|██████████| 5005/5005 [21:21<00:00,  3.91it/s]\n",
      "Validation:  26%|██▌       | 100/391 [00:52<02:26,  1.99it/s]"
     ]
    },
    {
     "name": "stdout",
     "output_type": "stream",
     "text": [
      "  Validation Batch   100 Loss: 0.8946 Top-1 error: 22.83% Top-5 error: 5.86%\n"
     ]
    },
    {
     "name": "stderr",
     "output_type": "stream",
     "text": [
      "Validation:  51%|█████     | 200/391 [01:45<01:31,  2.10it/s]"
     ]
    },
    {
     "name": "stdout",
     "output_type": "stream",
     "text": [
      "  Validation Batch   200 Loss: 1.1557 Top-1 error: 27.75% Top-5 error: 9.16%\n"
     ]
    },
    {
     "name": "stderr",
     "output_type": "stream",
     "text": [
      "Validation:  77%|███████▋  | 300/391 [02:37<00:41,  2.18it/s]"
     ]
    },
    {
     "name": "stdout",
     "output_type": "stream",
     "text": [
      "  Validation Batch   300 Loss: 1.4544 Top-1 error: 33.07% Top-5 error: 12.99%\n"
     ]
    },
    {
     "name": "stderr",
     "output_type": "stream",
     "text": [
      "Validation: 100%|██████████| 391/391 [03:20<00:00,  1.95it/s]\n"
     ]
    },
    {
     "name": "stdout",
     "output_type": "stream",
     "text": [
      "LOSS train 1.4069 valid 1.2212\n",
      "Top-1 Error train 34.21% val 28.93%\n",
      "Top-5 Error train 13.83% val 9.98%\n",
      "EPOCH 76:\n"
     ]
    },
    {
     "name": "stderr",
     "output_type": "stream",
     "text": [
      " 20%|█▉        | 1000/5005 [04:20<17:01,  3.92it/s]"
     ]
    },
    {
     "name": "stdout",
     "output_type": "stream",
     "text": [
      "  Batch 376375 Loss: 1.3978 Top-1 error rate: 34.05% Top-5 error rate: 13.69%\n"
     ]
    },
    {
     "name": "stderr",
     "output_type": "stream",
     "text": [
      " 40%|███▉      | 2000/5005 [08:35<12:46,  3.92it/s]"
     ]
    },
    {
     "name": "stdout",
     "output_type": "stream",
     "text": [
      "  Batch 377375 Loss: 1.3965 Top-1 error rate: 33.92% Top-5 error rate: 13.78%\n"
     ]
    },
    {
     "name": "stderr",
     "output_type": "stream",
     "text": [
      " 60%|█████▉    | 3000/5005 [12:51<08:30,  3.93it/s]"
     ]
    },
    {
     "name": "stdout",
     "output_type": "stream",
     "text": [
      "  Batch 378375 Loss: 1.4039 Top-1 error rate: 34.25% Top-5 error rate: 13.72%\n"
     ]
    },
    {
     "name": "stderr",
     "output_type": "stream",
     "text": [
      " 80%|███████▉  | 4000/5005 [17:06<04:15,  3.93it/s]"
     ]
    },
    {
     "name": "stdout",
     "output_type": "stream",
     "text": [
      "  Batch 379375 Loss: 1.3996 Top-1 error rate: 33.99% Top-5 error rate: 13.67%\n"
     ]
    },
    {
     "name": "stderr",
     "output_type": "stream",
     "text": [
      "100%|█████████▉| 5000/5005 [21:20<00:01,  3.96it/s]"
     ]
    },
    {
     "name": "stdout",
     "output_type": "stream",
     "text": [
      "  Batch 380375 Loss: 1.4058 Top-1 error rate: 34.22% Top-5 error rate: 13.79%\n"
     ]
    },
    {
     "name": "stderr",
     "output_type": "stream",
     "text": [
      "100%|██████████| 5005/5005 [21:22<00:00,  3.90it/s]\n",
      "Validation:  26%|██▌       | 100/391 [00:50<02:02,  2.37it/s]"
     ]
    },
    {
     "name": "stdout",
     "output_type": "stream",
     "text": [
      "  Validation Batch   100 Loss: 0.9061 Top-1 error: 22.53% Top-5 error: 5.83%\n"
     ]
    },
    {
     "name": "stderr",
     "output_type": "stream",
     "text": [
      "Validation:  51%|█████     | 200/391 [01:39<01:47,  1.78it/s]"
     ]
    },
    {
     "name": "stdout",
     "output_type": "stream",
     "text": [
      "  Validation Batch   200 Loss: 1.1740 Top-1 error: 27.54% Top-5 error: 9.02%\n"
     ]
    },
    {
     "name": "stderr",
     "output_type": "stream",
     "text": [
      "Validation:  77%|███████▋  | 300/391 [02:30<00:46,  1.97it/s]"
     ]
    },
    {
     "name": "stdout",
     "output_type": "stream",
     "text": [
      "  Validation Batch   300 Loss: 1.4808 Top-1 error: 33.27% Top-5 error: 12.86%\n"
     ]
    },
    {
     "name": "stderr",
     "output_type": "stream",
     "text": [
      "Validation: 100%|██████████| 391/391 [03:11<00:00,  2.04it/s]\n"
     ]
    },
    {
     "name": "stdout",
     "output_type": "stream",
     "text": [
      "LOSS train 1.4007 valid 1.2427\n",
      "Top-1 Error train 34.08% val 28.90%\n",
      "Top-5 Error train 13.73% val 9.88%\n",
      "EPOCH 77:\n"
     ]
    },
    {
     "name": "stderr",
     "output_type": "stream",
     "text": [
      " 20%|█▉        | 1000/5005 [04:19<17:03,  3.91it/s]"
     ]
    },
    {
     "name": "stdout",
     "output_type": "stream",
     "text": [
      "  Batch 381380 Loss: 1.3917 Top-1 error rate: 33.90% Top-5 error rate: 13.57%\n"
     ]
    },
    {
     "name": "stderr",
     "output_type": "stream",
     "text": [
      " 40%|███▉      | 2000/5005 [08:35<12:43,  3.93it/s]"
     ]
    },
    {
     "name": "stdout",
     "output_type": "stream",
     "text": [
      "  Batch 382380 Loss: 1.3974 Top-1 error rate: 34.04% Top-5 error rate: 13.70%\n"
     ]
    },
    {
     "name": "stderr",
     "output_type": "stream",
     "text": [
      " 60%|█████▉    | 3000/5005 [12:51<08:29,  3.93it/s]"
     ]
    },
    {
     "name": "stdout",
     "output_type": "stream",
     "text": [
      "  Batch 383380 Loss: 1.4035 Top-1 error rate: 34.17% Top-5 error rate: 13.77%\n"
     ]
    },
    {
     "name": "stderr",
     "output_type": "stream",
     "text": [
      " 80%|███████▉  | 4000/5005 [17:07<04:19,  3.87it/s]"
     ]
    },
    {
     "name": "stdout",
     "output_type": "stream",
     "text": [
      "  Batch 384380 Loss: 1.4063 Top-1 error rate: 34.11% Top-5 error rate: 13.74%\n"
     ]
    },
    {
     "name": "stderr",
     "output_type": "stream",
     "text": [
      "100%|█████████▉| 5000/5005 [21:23<00:01,  3.91it/s]"
     ]
    },
    {
     "name": "stdout",
     "output_type": "stream",
     "text": [
      "  Batch 385380 Loss: 1.4021 Top-1 error rate: 34.07% Top-5 error rate: 13.73%\n"
     ]
    },
    {
     "name": "stderr",
     "output_type": "stream",
     "text": [
      "100%|██████████| 5005/5005 [21:24<00:00,  3.90it/s]\n",
      "Validation:  26%|██▌       | 100/391 [00:47<02:47,  1.74it/s]"
     ]
    },
    {
     "name": "stdout",
     "output_type": "stream",
     "text": [
      "  Validation Batch   100 Loss: 0.9033 Top-1 error: 22.35% Top-5 error: 5.88%\n"
     ]
    },
    {
     "name": "stderr",
     "output_type": "stream",
     "text": [
      "Validation:  51%|█████     | 200/391 [01:40<01:32,  2.06it/s]"
     ]
    },
    {
     "name": "stdout",
     "output_type": "stream",
     "text": [
      "  Validation Batch   200 Loss: 1.1723 Top-1 error: 27.70% Top-5 error: 9.06%\n"
     ]
    },
    {
     "name": "stderr",
     "output_type": "stream",
     "text": [
      "Validation:  77%|███████▋  | 300/391 [02:32<00:53,  1.70it/s]"
     ]
    },
    {
     "name": "stdout",
     "output_type": "stream",
     "text": [
      "  Validation Batch   300 Loss: 1.4687 Top-1 error: 32.94% Top-5 error: 12.91%\n"
     ]
    },
    {
     "name": "stderr",
     "output_type": "stream",
     "text": [
      "Validation: 100%|██████████| 391/391 [03:15<00:00,  2.00it/s]\n"
     ]
    },
    {
     "name": "stdout",
     "output_type": "stream",
     "text": [
      "LOSS train 1.4002 valid 1.2372\n",
      "Top-1 Error train 34.06% val 28.78%\n",
      "Top-5 Error train 13.70% val 9.94%\n",
      "EPOCH 78:\n"
     ]
    },
    {
     "name": "stderr",
     "output_type": "stream",
     "text": [
      " 20%|█▉        | 1000/5005 [04:19<17:03,  3.91it/s]"
     ]
    },
    {
     "name": "stdout",
     "output_type": "stream",
     "text": [
      "  Batch 386385 Loss: 1.3962 Top-1 error rate: 34.01% Top-5 error rate: 13.68%\n"
     ]
    },
    {
     "name": "stderr",
     "output_type": "stream",
     "text": [
      " 40%|███▉      | 2000/5005 [08:33<12:45,  3.93it/s]"
     ]
    },
    {
     "name": "stdout",
     "output_type": "stream",
     "text": [
      "  Batch 387385 Loss: 1.3928 Top-1 error rate: 33.98% Top-5 error rate: 13.62%\n"
     ]
    },
    {
     "name": "stderr",
     "output_type": "stream",
     "text": [
      " 60%|█████▉    | 3000/5005 [12:49<08:33,  3.90it/s]"
     ]
    },
    {
     "name": "stdout",
     "output_type": "stream",
     "text": [
      "  Batch 388385 Loss: 1.4012 Top-1 error rate: 34.08% Top-5 error rate: 13.76%\n"
     ]
    },
    {
     "name": "stderr",
     "output_type": "stream",
     "text": [
      " 80%|███████▉  | 4000/5005 [17:03<04:17,  3.90it/s]"
     ]
    },
    {
     "name": "stdout",
     "output_type": "stream",
     "text": [
      "  Batch 389385 Loss: 1.3961 Top-1 error rate: 33.91% Top-5 error rate: 13.67%\n"
     ]
    },
    {
     "name": "stderr",
     "output_type": "stream",
     "text": [
      "100%|█████████▉| 5000/5005 [21:18<00:01,  3.95it/s]"
     ]
    },
    {
     "name": "stdout",
     "output_type": "stream",
     "text": [
      "  Batch 390385 Loss: 1.4009 Top-1 error rate: 34.02% Top-5 error rate: 13.74%\n"
     ]
    },
    {
     "name": "stderr",
     "output_type": "stream",
     "text": [
      "100%|██████████| 5005/5005 [21:19<00:00,  3.91it/s]\n",
      "Validation:  26%|██▌       | 100/391 [00:48<01:50,  2.64it/s]"
     ]
    },
    {
     "name": "stdout",
     "output_type": "stream",
     "text": [
      "  Validation Batch   100 Loss: 0.8991 Top-1 error: 22.48% Top-5 error: 5.89%\n"
     ]
    },
    {
     "name": "stderr",
     "output_type": "stream",
     "text": [
      "Validation:  51%|█████     | 200/391 [01:29<01:28,  2.17it/s]"
     ]
    },
    {
     "name": "stdout",
     "output_type": "stream",
     "text": [
      "  Validation Batch   200 Loss: 1.1567 Top-1 error: 27.46% Top-5 error: 9.18%\n"
     ]
    },
    {
     "name": "stderr",
     "output_type": "stream",
     "text": [
      "Validation:  77%|███████▋  | 300/391 [02:17<00:38,  2.39it/s]"
     ]
    },
    {
     "name": "stdout",
     "output_type": "stream",
     "text": [
      "  Validation Batch   300 Loss: 1.4520 Top-1 error: 32.90% Top-5 error: 12.89%\n"
     ]
    },
    {
     "name": "stderr",
     "output_type": "stream",
     "text": [
      "Validation: 100%|██████████| 391/391 [02:55<00:00,  2.22it/s]\n"
     ]
    },
    {
     "name": "stdout",
     "output_type": "stream",
     "text": [
      "LOSS train 1.3974 valid 1.2215\n",
      "Top-1 Error train 34.00% val 28.73%\n",
      "Top-5 Error train 13.70% val 9.93%\n",
      "EPOCH 79:\n"
     ]
    },
    {
     "name": "stderr",
     "output_type": "stream",
     "text": [
      " 20%|█▉        | 1000/5005 [04:18<16:59,  3.93it/s]"
     ]
    },
    {
     "name": "stdout",
     "output_type": "stream",
     "text": [
      "  Batch 391390 Loss: 1.3884 Top-1 error rate: 33.83% Top-5 error rate: 13.61%\n"
     ]
    },
    {
     "name": "stderr",
     "output_type": "stream",
     "text": [
      " 40%|███▉      | 2000/5005 [08:33<12:43,  3.94it/s]"
     ]
    },
    {
     "name": "stdout",
     "output_type": "stream",
     "text": [
      "  Batch 392390 Loss: 1.3914 Top-1 error rate: 33.93% Top-5 error rate: 13.60%\n"
     ]
    },
    {
     "name": "stderr",
     "output_type": "stream",
     "text": [
      " 60%|█████▉    | 3000/5005 [12:48<08:30,  3.93it/s]"
     ]
    },
    {
     "name": "stdout",
     "output_type": "stream",
     "text": [
      "  Batch 393390 Loss: 1.4002 Top-1 error rate: 34.00% Top-5 error rate: 13.74%\n"
     ]
    },
    {
     "name": "stderr",
     "output_type": "stream",
     "text": [
      " 80%|███████▉  | 4000/5005 [17:03<04:18,  3.89it/s]"
     ]
    },
    {
     "name": "stdout",
     "output_type": "stream",
     "text": [
      "  Batch 394390 Loss: 1.3994 Top-1 error rate: 33.93% Top-5 error rate: 13.74%\n"
     ]
    },
    {
     "name": "stderr",
     "output_type": "stream",
     "text": [
      "100%|█████████▉| 5000/5005 [21:18<00:01,  3.95it/s]"
     ]
    },
    {
     "name": "stdout",
     "output_type": "stream",
     "text": [
      "  Batch 395390 Loss: 1.3974 Top-1 error rate: 33.99% Top-5 error rate: 13.74%\n"
     ]
    },
    {
     "name": "stderr",
     "output_type": "stream",
     "text": [
      "100%|██████████| 5005/5005 [21:19<00:00,  3.91it/s]\n",
      "Validation:  26%|██▌       | 100/391 [00:48<02:04,  2.34it/s]"
     ]
    },
    {
     "name": "stdout",
     "output_type": "stream",
     "text": [
      "  Validation Batch   100 Loss: 0.8840 Top-1 error: 22.62% Top-5 error: 6.02%\n"
     ]
    },
    {
     "name": "stderr",
     "output_type": "stream",
     "text": [
      "Validation:  51%|█████     | 200/391 [01:30<01:21,  2.35it/s]"
     ]
    },
    {
     "name": "stdout",
     "output_type": "stream",
     "text": [
      "  Validation Batch   200 Loss: 1.1474 Top-1 error: 27.30% Top-5 error: 8.89%\n"
     ]
    },
    {
     "name": "stderr",
     "output_type": "stream",
     "text": [
      "Validation:  77%|███████▋  | 300/391 [02:17<00:36,  2.51it/s]"
     ]
    },
    {
     "name": "stdout",
     "output_type": "stream",
     "text": [
      "  Validation Batch   300 Loss: 1.4418 Top-1 error: 33.26% Top-5 error: 12.90%\n"
     ]
    },
    {
     "name": "stderr",
     "output_type": "stream",
     "text": [
      "Validation: 100%|██████████| 391/391 [02:56<00:00,  2.21it/s]\n"
     ]
    },
    {
     "name": "stdout",
     "output_type": "stream",
     "text": [
      "LOSS train 1.3954 valid 1.2112\n",
      "Top-1 Error train 33.94% val 28.85%\n",
      "Top-5 Error train 13.69% val 9.95%\n",
      "EPOCH 80:\n"
     ]
    },
    {
     "name": "stderr",
     "output_type": "stream",
     "text": [
      " 20%|█▉        | 1000/5005 [04:18<17:01,  3.92it/s]"
     ]
    },
    {
     "name": "stdout",
     "output_type": "stream",
     "text": [
      "  Batch 396395 Loss: 1.3850 Top-1 error rate: 33.77% Top-5 error rate: 13.55%\n"
     ]
    },
    {
     "name": "stderr",
     "output_type": "stream",
     "text": [
      " 40%|███▉      | 2000/5005 [08:33<12:46,  3.92it/s]"
     ]
    },
    {
     "name": "stdout",
     "output_type": "stream",
     "text": [
      "  Batch 397395 Loss: 1.3934 Top-1 error rate: 33.87% Top-5 error rate: 13.68%\n"
     ]
    },
    {
     "name": "stderr",
     "output_type": "stream",
     "text": [
      " 60%|█████▉    | 3000/5005 [12:48<08:29,  3.93it/s]"
     ]
    },
    {
     "name": "stdout",
     "output_type": "stream",
     "text": [
      "  Batch 398395 Loss: 1.3945 Top-1 error rate: 33.88% Top-5 error rate: 13.65%\n"
     ]
    },
    {
     "name": "stderr",
     "output_type": "stream",
     "text": [
      " 80%|███████▉  | 4000/5005 [17:02<04:15,  3.93it/s]"
     ]
    },
    {
     "name": "stdout",
     "output_type": "stream",
     "text": [
      "  Batch 399395 Loss: 1.3931 Top-1 error rate: 33.98% Top-5 error rate: 13.61%\n"
     ]
    },
    {
     "name": "stderr",
     "output_type": "stream",
     "text": [
      "100%|█████████▉| 5000/5005 [21:17<00:01,  3.95it/s]"
     ]
    },
    {
     "name": "stdout",
     "output_type": "stream",
     "text": [
      "  Batch 400395 Loss: 1.3982 Top-1 error rate: 34.06% Top-5 error rate: 13.70%\n"
     ]
    },
    {
     "name": "stderr",
     "output_type": "stream",
     "text": [
      "100%|██████████| 5005/5005 [21:18<00:00,  3.91it/s]\n",
      "Validation:  26%|██▌       | 100/391 [00:45<01:54,  2.55it/s]"
     ]
    },
    {
     "name": "stdout",
     "output_type": "stream",
     "text": [
      "  Validation Batch   100 Loss: 0.9015 Top-1 error: 22.62% Top-5 error: 5.84%\n"
     ]
    },
    {
     "name": "stderr",
     "output_type": "stream",
     "text": [
      "Validation:  51%|█████     | 200/391 [01:35<01:39,  1.92it/s]"
     ]
    },
    {
     "name": "stdout",
     "output_type": "stream",
     "text": [
      "  Validation Batch   200 Loss: 1.1583 Top-1 error: 27.63% Top-5 error: 9.04%\n"
     ]
    },
    {
     "name": "stderr",
     "output_type": "stream",
     "text": [
      "Validation:  77%|███████▋  | 300/391 [02:21<00:45,  2.00it/s]"
     ]
    },
    {
     "name": "stdout",
     "output_type": "stream",
     "text": [
      "  Validation Batch   300 Loss: 1.4677 Top-1 error: 33.10% Top-5 error: 12.80%\n"
     ]
    },
    {
     "name": "stderr",
     "output_type": "stream",
     "text": [
      "Validation: 100%|██████████| 391/391 [03:07<00:00,  2.09it/s]\n"
     ]
    },
    {
     "name": "stdout",
     "output_type": "stream",
     "text": [
      "LOSS train 1.3928 valid 1.2301\n",
      "Top-1 Error train 33.91% val 28.87%\n",
      "Top-5 Error train 13.64% val 9.87%\n",
      "EPOCH 81:\n"
     ]
    },
    {
     "name": "stderr",
     "output_type": "stream",
     "text": [
      " 20%|█▉        | 1000/5005 [04:18<17:01,  3.92it/s]"
     ]
    },
    {
     "name": "stdout",
     "output_type": "stream",
     "text": [
      "  Batch 401400 Loss: 1.3879 Top-1 error rate: 33.79% Top-5 error rate: 13.57%\n"
     ]
    },
    {
     "name": "stderr",
     "output_type": "stream",
     "text": [
      " 40%|███▉      | 2000/5005 [08:32<12:44,  3.93it/s]"
     ]
    },
    {
     "name": "stdout",
     "output_type": "stream",
     "text": [
      "  Batch 402400 Loss: 1.3898 Top-1 error rate: 33.95% Top-5 error rate: 13.64%\n"
     ]
    },
    {
     "name": "stderr",
     "output_type": "stream",
     "text": [
      " 60%|█████▉    | 3000/5005 [12:47<08:28,  3.94it/s]"
     ]
    },
    {
     "name": "stdout",
     "output_type": "stream",
     "text": [
      "  Batch 403400 Loss: 1.3892 Top-1 error rate: 33.82% Top-5 error rate: 13.57%\n"
     ]
    },
    {
     "name": "stderr",
     "output_type": "stream",
     "text": [
      " 80%|███████▉  | 4000/5005 [17:02<04:15,  3.94it/s]"
     ]
    },
    {
     "name": "stdout",
     "output_type": "stream",
     "text": [
      "  Batch 404400 Loss: 1.3925 Top-1 error rate: 34.04% Top-5 error rate: 13.60%\n"
     ]
    },
    {
     "name": "stderr",
     "output_type": "stream",
     "text": [
      "100%|█████████▉| 5000/5005 [21:17<00:01,  3.96it/s]"
     ]
    },
    {
     "name": "stdout",
     "output_type": "stream",
     "text": [
      "  Batch 405400 Loss: 1.3920 Top-1 error rate: 33.97% Top-5 error rate: 13.64%\n"
     ]
    },
    {
     "name": "stderr",
     "output_type": "stream",
     "text": [
      "100%|██████████| 5005/5005 [21:18<00:00,  3.92it/s]\n",
      "Validation:  26%|██▌       | 100/391 [00:45<02:31,  1.92it/s]"
     ]
    },
    {
     "name": "stdout",
     "output_type": "stream",
     "text": [
      "  Validation Batch   100 Loss: 0.9004 Top-1 error: 22.22% Top-5 error: 5.88%\n"
     ]
    },
    {
     "name": "stderr",
     "output_type": "stream",
     "text": [
      "Validation:  51%|█████     | 200/391 [01:38<01:48,  1.76it/s]"
     ]
    },
    {
     "name": "stdout",
     "output_type": "stream",
     "text": [
      "  Validation Batch   200 Loss: 1.1659 Top-1 error: 27.51% Top-5 error: 9.01%\n"
     ]
    },
    {
     "name": "stderr",
     "output_type": "stream",
     "text": [
      "Validation:  77%|███████▋  | 300/391 [02:22<00:37,  2.45it/s]"
     ]
    },
    {
     "name": "stdout",
     "output_type": "stream",
     "text": [
      "  Validation Batch   300 Loss: 1.4630 Top-1 error: 32.95% Top-5 error: 12.85%\n"
     ]
    },
    {
     "name": "stderr",
     "output_type": "stream",
     "text": [
      "Validation: 100%|██████████| 391/391 [03:07<00:00,  2.09it/s]\n"
     ]
    },
    {
     "name": "stdout",
     "output_type": "stream",
     "text": [
      "LOSS train 1.3904 valid 1.2316\n",
      "Top-1 Error train 33.92% val 28.72%\n",
      "Top-5 Error train 13.61% val 9.87%\n",
      "EPOCH 82:\n"
     ]
    },
    {
     "name": "stderr",
     "output_type": "stream",
     "text": [
      " 20%|█▉        | 1000/5005 [04:18<17:00,  3.93it/s]"
     ]
    },
    {
     "name": "stdout",
     "output_type": "stream",
     "text": [
      "  Batch 406405 Loss: 1.3789 Top-1 error rate: 33.72% Top-5 error rate: 13.42%\n"
     ]
    },
    {
     "name": "stderr",
     "output_type": "stream",
     "text": [
      " 40%|███▉      | 2000/5005 [08:33<12:43,  3.93it/s]"
     ]
    },
    {
     "name": "stdout",
     "output_type": "stream",
     "text": [
      "  Batch 407405 Loss: 1.3897 Top-1 error rate: 33.81% Top-5 error rate: 13.58%\n"
     ]
    },
    {
     "name": "stderr",
     "output_type": "stream",
     "text": [
      " 60%|█████▉    | 3000/5005 [12:48<08:29,  3.93it/s]"
     ]
    },
    {
     "name": "stdout",
     "output_type": "stream",
     "text": [
      "  Batch 408405 Loss: 1.3904 Top-1 error rate: 33.86% Top-5 error rate: 13.54%\n"
     ]
    },
    {
     "name": "stderr",
     "output_type": "stream",
     "text": [
      " 80%|███████▉  | 4000/5005 [17:03<04:17,  3.90it/s]"
     ]
    },
    {
     "name": "stdout",
     "output_type": "stream",
     "text": [
      "  Batch 409405 Loss: 1.3895 Top-1 error rate: 33.89% Top-5 error rate: 13.56%\n"
     ]
    },
    {
     "name": "stderr",
     "output_type": "stream",
     "text": [
      "100%|█████████▉| 5000/5005 [21:17<00:01,  3.94it/s]"
     ]
    },
    {
     "name": "stdout",
     "output_type": "stream",
     "text": [
      "  Batch 410405 Loss: 1.3849 Top-1 error rate: 33.79% Top-5 error rate: 13.49%\n"
     ]
    },
    {
     "name": "stderr",
     "output_type": "stream",
     "text": [
      "100%|██████████| 5005/5005 [21:18<00:00,  3.91it/s]\n",
      "Validation:  26%|██▌       | 100/391 [00:46<01:49,  2.66it/s]"
     ]
    },
    {
     "name": "stdout",
     "output_type": "stream",
     "text": [
      "  Validation Batch   100 Loss: 0.8816 Top-1 error: 22.39% Top-5 error: 5.91%\n"
     ]
    },
    {
     "name": "stderr",
     "output_type": "stream",
     "text": [
      "Validation:  51%|█████     | 200/391 [01:32<01:32,  2.06it/s]"
     ]
    },
    {
     "name": "stdout",
     "output_type": "stream",
     "text": [
      "  Validation Batch   200 Loss: 1.1436 Top-1 error: 27.45% Top-5 error: 8.99%\n"
     ]
    },
    {
     "name": "stderr",
     "output_type": "stream",
     "text": [
      "Validation:  77%|███████▋  | 300/391 [02:17<00:34,  2.65it/s]"
     ]
    },
    {
     "name": "stdout",
     "output_type": "stream",
     "text": [
      "  Validation Batch   300 Loss: 1.4312 Top-1 error: 32.84% Top-5 error: 12.84%\n"
     ]
    },
    {
     "name": "stderr",
     "output_type": "stream",
     "text": [
      "Validation: 100%|██████████| 391/391 [02:58<00:00,  2.19it/s]\n"
     ]
    },
    {
     "name": "stdout",
     "output_type": "stream",
     "text": [
      "LOSS train 1.3868 valid 1.2083\n",
      "Top-1 Error train 33.82% val 28.75%\n",
      "Top-5 Error train 13.52% val 9.93%\n",
      "EPOCH 83:\n"
     ]
    },
    {
     "name": "stderr",
     "output_type": "stream",
     "text": [
      " 20%|█▉        | 1000/5005 [04:18<17:02,  3.92it/s]"
     ]
    },
    {
     "name": "stdout",
     "output_type": "stream",
     "text": [
      "  Batch 411410 Loss: 1.3862 Top-1 error rate: 33.78% Top-5 error rate: 13.55%\n"
     ]
    },
    {
     "name": "stderr",
     "output_type": "stream",
     "text": [
      " 40%|███▉      | 2000/5005 [08:33<12:49,  3.90it/s]"
     ]
    },
    {
     "name": "stdout",
     "output_type": "stream",
     "text": [
      "  Batch 412410 Loss: 1.3795 Top-1 error rate: 33.72% Top-5 error rate: 13.36%\n"
     ]
    },
    {
     "name": "stderr",
     "output_type": "stream",
     "text": [
      " 60%|█████▉    | 3000/5005 [12:48<08:32,  3.91it/s]"
     ]
    },
    {
     "name": "stdout",
     "output_type": "stream",
     "text": [
      "  Batch 413410 Loss: 1.3851 Top-1 error rate: 33.77% Top-5 error rate: 13.50%\n"
     ]
    },
    {
     "name": "stderr",
     "output_type": "stream",
     "text": [
      " 80%|███████▉  | 4000/5005 [17:03<04:16,  3.92it/s]"
     ]
    },
    {
     "name": "stdout",
     "output_type": "stream",
     "text": [
      "  Batch 414410 Loss: 1.3872 Top-1 error rate: 33.79% Top-5 error rate: 13.62%\n"
     ]
    },
    {
     "name": "stderr",
     "output_type": "stream",
     "text": [
      "100%|█████████▉| 5000/5005 [21:18<00:01,  3.95it/s]"
     ]
    },
    {
     "name": "stdout",
     "output_type": "stream",
     "text": [
      "  Batch 415410 Loss: 1.3817 Top-1 error rate: 33.68% Top-5 error rate: 13.50%\n"
     ]
    },
    {
     "name": "stderr",
     "output_type": "stream",
     "text": [
      "100%|██████████| 5005/5005 [21:19<00:00,  3.91it/s]\n",
      "Validation:  26%|██▌       | 100/391 [00:51<01:51,  2.62it/s]"
     ]
    },
    {
     "name": "stdout",
     "output_type": "stream",
     "text": [
      "  Validation Batch   100 Loss: 0.8895 Top-1 error: 22.39% Top-5 error: 5.94%\n"
     ]
    },
    {
     "name": "stderr",
     "output_type": "stream",
     "text": [
      "Validation:  51%|█████     | 200/391 [01:37<01:25,  2.23it/s]"
     ]
    },
    {
     "name": "stdout",
     "output_type": "stream",
     "text": [
      "  Validation Batch   200 Loss: 1.1511 Top-1 error: 27.54% Top-5 error: 8.97%\n"
     ]
    },
    {
     "name": "stderr",
     "output_type": "stream",
     "text": [
      "Validation:  77%|███████▋  | 300/391 [02:27<00:39,  2.32it/s]"
     ]
    },
    {
     "name": "stdout",
     "output_type": "stream",
     "text": [
      "  Validation Batch   300 Loss: 1.4401 Top-1 error: 32.96% Top-5 error: 12.91%\n"
     ]
    },
    {
     "name": "stderr",
     "output_type": "stream",
     "text": [
      "Validation: 100%|██████████| 391/391 [03:12<00:00,  2.04it/s]\n"
     ]
    },
    {
     "name": "stdout",
     "output_type": "stream",
     "text": [
      "LOSS train 1.3840 valid 1.2136\n",
      "Top-1 Error train 33.75% val 28.74%\n",
      "Top-5 Error train 13.51% val 9.92%\n",
      "EPOCH 84:\n"
     ]
    },
    {
     "name": "stderr",
     "output_type": "stream",
     "text": [
      " 20%|█▉        | 1000/5005 [04:18<17:13,  3.88it/s]"
     ]
    },
    {
     "name": "stdout",
     "output_type": "stream",
     "text": [
      "  Batch 416415 Loss: 1.3759 Top-1 error rate: 33.65% Top-5 error rate: 13.39%\n"
     ]
    },
    {
     "name": "stderr",
     "output_type": "stream",
     "text": [
      " 40%|███▉      | 2000/5005 [08:34<12:51,  3.89it/s]"
     ]
    },
    {
     "name": "stdout",
     "output_type": "stream",
     "text": [
      "  Batch 417415 Loss: 1.3797 Top-1 error rate: 33.62% Top-5 error rate: 13.47%\n"
     ]
    },
    {
     "name": "stderr",
     "output_type": "stream",
     "text": [
      " 60%|█████▉    | 3000/5005 [12:49<08:32,  3.91it/s]"
     ]
    },
    {
     "name": "stdout",
     "output_type": "stream",
     "text": [
      "  Batch 418415 Loss: 1.3806 Top-1 error rate: 33.70% Top-5 error rate: 13.53%\n"
     ]
    },
    {
     "name": "stderr",
     "output_type": "stream",
     "text": [
      " 80%|███████▉  | 4000/5005 [17:04<04:16,  3.92it/s]"
     ]
    },
    {
     "name": "stdout",
     "output_type": "stream",
     "text": [
      "  Batch 419415 Loss: 1.3865 Top-1 error rate: 33.76% Top-5 error rate: 13.60%\n"
     ]
    },
    {
     "name": "stderr",
     "output_type": "stream",
     "text": [
      "100%|█████████▉| 5000/5005 [21:43<00:15,  3.15s/it]"
     ]
    },
    {
     "name": "stdout",
     "output_type": "stream",
     "text": [
      "  Batch 420415 Loss: 1.3925 Top-1 error rate: 33.84% Top-5 error rate: 13.69%\n"
     ]
    },
    {
     "name": "stderr",
     "output_type": "stream",
     "text": [
      "100%|██████████| 5005/5005 [21:44<00:00,  3.84it/s]\n",
      "Validation:  26%|██▌       | 100/391 [00:52<03:07,  1.55it/s]"
     ]
    },
    {
     "name": "stdout",
     "output_type": "stream",
     "text": [
      "  Validation Batch   100 Loss: 0.9033 Top-1 error: 22.54% Top-5 error: 5.94%\n"
     ]
    },
    {
     "name": "stderr",
     "output_type": "stream",
     "text": [
      "Validation:  51%|█████     | 200/391 [01:38<01:13,  2.61it/s]"
     ]
    },
    {
     "name": "stdout",
     "output_type": "stream",
     "text": [
      "  Validation Batch   200 Loss: 1.1650 Top-1 error: 27.64% Top-5 error: 9.17%\n"
     ]
    },
    {
     "name": "stderr",
     "output_type": "stream",
     "text": [
      "Validation:  77%|███████▋  | 300/391 [02:25<00:41,  2.18it/s]"
     ]
    },
    {
     "name": "stdout",
     "output_type": "stream",
     "text": [
      "  Validation Batch   300 Loss: 1.4476 Top-1 error: 32.73% Top-5 error: 12.75%\n"
     ]
    },
    {
     "name": "stderr",
     "output_type": "stream",
     "text": [
      "Validation: 100%|██████████| 391/391 [03:13<00:00,  2.02it/s]\n"
     ]
    },
    {
     "name": "stdout",
     "output_type": "stream",
     "text": [
      "LOSS train 1.3830 valid 1.2247\n",
      "Top-1 Error train 33.72% val 28.70%\n",
      "Top-5 Error train 13.54% val 9.93%\n",
      "EPOCH 85:\n"
     ]
    },
    {
     "name": "stderr",
     "output_type": "stream",
     "text": [
      " 20%|█▉        | 1000/5005 [04:20<17:08,  3.90it/s]"
     ]
    },
    {
     "name": "stdout",
     "output_type": "stream",
     "text": [
      "  Batch 421420 Loss: 1.3817 Top-1 error rate: 33.59% Top-5 error rate: 13.53%\n"
     ]
    },
    {
     "name": "stderr",
     "output_type": "stream",
     "text": [
      " 40%|███▉      | 2000/5005 [08:35<12:50,  3.90it/s]"
     ]
    },
    {
     "name": "stdout",
     "output_type": "stream",
     "text": [
      "  Batch 422420 Loss: 1.3808 Top-1 error rate: 33.60% Top-5 error rate: 13.47%\n"
     ]
    },
    {
     "name": "stderr",
     "output_type": "stream",
     "text": [
      " 60%|█████▉    | 3000/5005 [12:50<08:32,  3.91it/s]"
     ]
    },
    {
     "name": "stdout",
     "output_type": "stream",
     "text": [
      "  Batch 423420 Loss: 1.3761 Top-1 error rate: 33.59% Top-5 error rate: 13.41%\n"
     ]
    },
    {
     "name": "stderr",
     "output_type": "stream",
     "text": [
      " 80%|███████▉  | 4000/5005 [17:05<04:17,  3.91it/s]"
     ]
    },
    {
     "name": "stdout",
     "output_type": "stream",
     "text": [
      "  Batch 424420 Loss: 1.3818 Top-1 error rate: 33.74% Top-5 error rate: 13.53%\n"
     ]
    },
    {
     "name": "stderr",
     "output_type": "stream",
     "text": [
      "100%|█████████▉| 5000/5005 [21:20<00:01,  3.95it/s]"
     ]
    },
    {
     "name": "stdout",
     "output_type": "stream",
     "text": [
      "  Batch 425420 Loss: 1.3892 Top-1 error rate: 33.76% Top-5 error rate: 13.60%\n"
     ]
    },
    {
     "name": "stderr",
     "output_type": "stream",
     "text": [
      "100%|██████████| 5005/5005 [21:21<00:00,  3.90it/s]\n",
      "Validation:  26%|██▌       | 100/391 [00:52<02:14,  2.17it/s]"
     ]
    },
    {
     "name": "stdout",
     "output_type": "stream",
     "text": [
      "  Validation Batch   100 Loss: 0.8878 Top-1 error: 22.48% Top-5 error: 5.84%\n"
     ]
    },
    {
     "name": "stderr",
     "output_type": "stream",
     "text": [
      "Validation:  51%|█████     | 200/391 [01:44<01:48,  1.76it/s]"
     ]
    },
    {
     "name": "stdout",
     "output_type": "stream",
     "text": [
      "  Validation Batch   200 Loss: 1.1412 Top-1 error: 27.41% Top-5 error: 9.08%\n"
     ]
    },
    {
     "name": "stderr",
     "output_type": "stream",
     "text": [
      "Validation:  77%|███████▋  | 300/391 [02:30<00:49,  1.84it/s]"
     ]
    },
    {
     "name": "stdout",
     "output_type": "stream",
     "text": [
      "  Validation Batch   300 Loss: 1.4404 Top-1 error: 33.04% Top-5 error: 12.88%\n"
     ]
    },
    {
     "name": "stderr",
     "output_type": "stream",
     "text": [
      "Validation: 100%|██████████| 391/391 [03:18<00:00,  1.97it/s]\n"
     ]
    },
    {
     "name": "stdout",
     "output_type": "stream",
     "text": [
      "LOSS train 1.3818 valid 1.2098\n",
      "Top-1 Error train 33.66% val 28.75%\n",
      "Top-5 Error train 13.51% val 9.90%\n",
      "EPOCH 86:\n"
     ]
    },
    {
     "name": "stderr",
     "output_type": "stream",
     "text": [
      " 20%|█▉        | 1000/5005 [04:19<17:07,  3.90it/s]"
     ]
    },
    {
     "name": "stdout",
     "output_type": "stream",
     "text": [
      "  Batch 426425 Loss: 1.3786 Top-1 error rate: 33.51% Top-5 error rate: 13.45%\n"
     ]
    },
    {
     "name": "stderr",
     "output_type": "stream",
     "text": [
      " 40%|███▉      | 2000/5005 [08:34<12:49,  3.91it/s]"
     ]
    },
    {
     "name": "stdout",
     "output_type": "stream",
     "text": [
      "  Batch 427425 Loss: 1.3785 Top-1 error rate: 33.65% Top-5 error rate: 13.42%\n"
     ]
    },
    {
     "name": "stderr",
     "output_type": "stream",
     "text": [
      " 60%|█████▉    | 3000/5005 [12:48<08:30,  3.92it/s]"
     ]
    },
    {
     "name": "stdout",
     "output_type": "stream",
     "text": [
      "  Batch 428425 Loss: 1.3763 Top-1 error rate: 33.49% Top-5 error rate: 13.43%\n"
     ]
    },
    {
     "name": "stderr",
     "output_type": "stream",
     "text": [
      " 80%|███████▉  | 4000/5005 [17:04<04:16,  3.91it/s]"
     ]
    },
    {
     "name": "stdout",
     "output_type": "stream",
     "text": [
      "  Batch 429425 Loss: 1.3819 Top-1 error rate: 33.72% Top-5 error rate: 13.46%\n"
     ]
    },
    {
     "name": "stderr",
     "output_type": "stream",
     "text": [
      "100%|█████████▉| 5000/5005 [21:19<00:01,  3.94it/s]"
     ]
    },
    {
     "name": "stdout",
     "output_type": "stream",
     "text": [
      "  Batch 430425 Loss: 1.3872 Top-1 error rate: 33.74% Top-5 error rate: 13.59%\n"
     ]
    },
    {
     "name": "stderr",
     "output_type": "stream",
     "text": [
      "100%|██████████| 5005/5005 [21:20<00:00,  3.91it/s]\n",
      "Validation:  26%|██▌       | 100/391 [00:48<01:56,  2.49it/s]"
     ]
    },
    {
     "name": "stdout",
     "output_type": "stream",
     "text": [
      "  Validation Batch   100 Loss: 0.8842 Top-1 error: 22.30% Top-5 error: 5.95%\n"
     ]
    },
    {
     "name": "stderr",
     "output_type": "stream",
     "text": [
      "Validation:  51%|█████     | 200/391 [01:33<01:30,  2.12it/s]"
     ]
    },
    {
     "name": "stdout",
     "output_type": "stream",
     "text": [
      "  Validation Batch   200 Loss: 1.1518 Top-1 error: 27.62% Top-5 error: 9.07%\n"
     ]
    },
    {
     "name": "stderr",
     "output_type": "stream",
     "text": [
      "Validation:  77%|███████▋  | 300/391 [02:21<00:42,  2.13it/s]"
     ]
    },
    {
     "name": "stdout",
     "output_type": "stream",
     "text": [
      "  Validation Batch   300 Loss: 1.4180 Top-1 error: 32.67% Top-5 error: 12.70%\n"
     ]
    },
    {
     "name": "stderr",
     "output_type": "stream",
     "text": [
      "Validation: 100%|██████████| 391/391 [03:03<00:00,  2.13it/s]\n"
     ]
    },
    {
     "name": "stdout",
     "output_type": "stream",
     "text": [
      "LOSS train 1.3806 valid 1.2031\n",
      "Top-1 Error train 33.62% val 28.68%\n",
      "Top-5 Error train 13.47% val 9.88%\n",
      "EPOCH 87:\n"
     ]
    },
    {
     "name": "stderr",
     "output_type": "stream",
     "text": [
      " 20%|█▉        | 1000/5005 [04:19<17:04,  3.91it/s]"
     ]
    },
    {
     "name": "stdout",
     "output_type": "stream",
     "text": [
      "  Batch 431430 Loss: 1.3782 Top-1 error rate: 33.54% Top-5 error rate: 13.46%\n"
     ]
    },
    {
     "name": "stderr",
     "output_type": "stream",
     "text": [
      " 40%|███▉      | 2000/5005 [08:34<12:49,  3.91it/s]"
     ]
    },
    {
     "name": "stdout",
     "output_type": "stream",
     "text": [
      "  Batch 432430 Loss: 1.3730 Top-1 error rate: 33.55% Top-5 error rate: 13.34%\n"
     ]
    },
    {
     "name": "stderr",
     "output_type": "stream",
     "text": [
      " 60%|█████▉    | 3000/5005 [12:49<08:31,  3.92it/s]"
     ]
    },
    {
     "name": "stdout",
     "output_type": "stream",
     "text": [
      "  Batch 433430 Loss: 1.3777 Top-1 error rate: 33.65% Top-5 error rate: 13.42%\n"
     ]
    },
    {
     "name": "stderr",
     "output_type": "stream",
     "text": [
      " 80%|███████▉  | 4000/5005 [17:03<04:16,  3.92it/s]"
     ]
    },
    {
     "name": "stdout",
     "output_type": "stream",
     "text": [
      "  Batch 434430 Loss: 1.3731 Top-1 error rate: 33.58% Top-5 error rate: 13.38%\n"
     ]
    },
    {
     "name": "stderr",
     "output_type": "stream",
     "text": [
      "100%|█████████▉| 5000/5005 [21:18<00:01,  3.92it/s]"
     ]
    },
    {
     "name": "stdout",
     "output_type": "stream",
     "text": [
      "  Batch 435430 Loss: 1.3802 Top-1 error rate: 33.62% Top-5 error rate: 13.46%\n"
     ]
    },
    {
     "name": "stderr",
     "output_type": "stream",
     "text": [
      "100%|██████████| 5005/5005 [21:19<00:00,  3.91it/s]\n",
      "Validation:  26%|██▌       | 100/391 [00:47<01:49,  2.65it/s]"
     ]
    },
    {
     "name": "stdout",
     "output_type": "stream",
     "text": [
      "  Validation Batch   100 Loss: 0.8907 Top-1 error: 22.33% Top-5 error: 5.84%\n"
     ]
    },
    {
     "name": "stderr",
     "output_type": "stream",
     "text": [
      "Validation:  51%|█████     | 200/391 [01:29<01:31,  2.08it/s]"
     ]
    },
    {
     "name": "stdout",
     "output_type": "stream",
     "text": [
      "  Validation Batch   200 Loss: 1.1544 Top-1 error: 27.48% Top-5 error: 9.01%\n"
     ]
    },
    {
     "name": "stderr",
     "output_type": "stream",
     "text": [
      "Validation:  77%|███████▋  | 300/391 [02:17<00:34,  2.65it/s]"
     ]
    },
    {
     "name": "stdout",
     "output_type": "stream",
     "text": [
      "  Validation Batch   300 Loss: 1.4376 Top-1 error: 32.91% Top-5 error: 12.92%\n"
     ]
    },
    {
     "name": "stderr",
     "output_type": "stream",
     "text": [
      "Validation: 100%|██████████| 391/391 [02:57<00:00,  2.20it/s]\n"
     ]
    },
    {
     "name": "stdout",
     "output_type": "stream",
     "text": [
      "LOSS train 1.3765 valid 1.2129\n",
      "Top-1 Error train 33.59% val 28.67%\n",
      "Top-5 Error train 13.42% val 9.87%\n",
      "EPOCH 88:\n"
     ]
    },
    {
     "name": "stderr",
     "output_type": "stream",
     "text": [
      " 20%|█▉        | 1000/5005 [04:18<16:58,  3.93it/s]"
     ]
    },
    {
     "name": "stdout",
     "output_type": "stream",
     "text": [
      "  Batch 436435 Loss: 1.3743 Top-1 error rate: 33.54% Top-5 error rate: 13.35%\n"
     ]
    },
    {
     "name": "stderr",
     "output_type": "stream",
     "text": [
      " 40%|███▉      | 2000/5005 [08:33<12:46,  3.92it/s]"
     ]
    },
    {
     "name": "stdout",
     "output_type": "stream",
     "text": [
      "  Batch 437435 Loss: 1.3710 Top-1 error rate: 33.45% Top-5 error rate: 13.37%\n"
     ]
    },
    {
     "name": "stderr",
     "output_type": "stream",
     "text": [
      " 60%|█████▉    | 3000/5005 [12:48<08:31,  3.92it/s]"
     ]
    },
    {
     "name": "stdout",
     "output_type": "stream",
     "text": [
      "  Batch 438435 Loss: 1.3767 Top-1 error rate: 33.57% Top-5 error rate: 13.41%\n"
     ]
    },
    {
     "name": "stderr",
     "output_type": "stream",
     "text": [
      " 80%|███████▉  | 4000/5005 [17:02<04:16,  3.91it/s]"
     ]
    },
    {
     "name": "stdout",
     "output_type": "stream",
     "text": [
      "  Batch 439435 Loss: 1.3796 Top-1 error rate: 33.65% Top-5 error rate: 13.48%\n"
     ]
    },
    {
     "name": "stderr",
     "output_type": "stream",
     "text": [
      "100%|█████████▉| 5000/5005 [21:17<00:01,  3.95it/s]"
     ]
    },
    {
     "name": "stdout",
     "output_type": "stream",
     "text": [
      "  Batch 440435 Loss: 1.3780 Top-1 error rate: 33.57% Top-5 error rate: 13.49%\n"
     ]
    },
    {
     "name": "stderr",
     "output_type": "stream",
     "text": [
      "100%|██████████| 5005/5005 [21:19<00:00,  3.91it/s]\n",
      "Validation:  26%|██▌       | 100/391 [00:49<01:50,  2.63it/s]"
     ]
    },
    {
     "name": "stdout",
     "output_type": "stream",
     "text": [
      "  Validation Batch   100 Loss: 0.8936 Top-1 error: 22.54% Top-5 error: 5.88%\n"
     ]
    },
    {
     "name": "stderr",
     "output_type": "stream",
     "text": [
      "Validation:  51%|█████     | 200/391 [01:32<01:30,  2.11it/s]"
     ]
    },
    {
     "name": "stdout",
     "output_type": "stream",
     "text": [
      "  Validation Batch   200 Loss: 1.1532 Top-1 error: 27.69% Top-5 error: 9.09%\n"
     ]
    },
    {
     "name": "stderr",
     "output_type": "stream",
     "text": [
      "Validation:  77%|███████▋  | 300/391 [02:21<00:34,  2.62it/s]"
     ]
    },
    {
     "name": "stdout",
     "output_type": "stream",
     "text": [
      "  Validation Batch   300 Loss: 1.4390 Top-1 error: 33.02% Top-5 error: 12.83%\n"
     ]
    },
    {
     "name": "stderr",
     "output_type": "stream",
     "text": [
      "Validation: 100%|██████████| 391/391 [03:01<00:00,  2.16it/s]\n"
     ]
    },
    {
     "name": "stdout",
     "output_type": "stream",
     "text": [
      "LOSS train 1.3760 valid 1.2133\n",
      "Top-1 Error train 33.56% val 28.82%\n",
      "Top-5 Error train 13.42% val 9.89%\n",
      "EPOCH 89:\n"
     ]
    },
    {
     "name": "stderr",
     "output_type": "stream",
     "text": [
      " 20%|█▉        | 1000/5005 [04:18<17:00,  3.92it/s]"
     ]
    },
    {
     "name": "stdout",
     "output_type": "stream",
     "text": [
      "  Batch 441440 Loss: 1.3667 Top-1 error rate: 33.34% Top-5 error rate: 13.23%\n"
     ]
    },
    {
     "name": "stderr",
     "output_type": "stream",
     "text": [
      " 40%|███▉      | 2000/5005 [08:32<12:41,  3.95it/s]"
     ]
    },
    {
     "name": "stdout",
     "output_type": "stream",
     "text": [
      "  Batch 442440 Loss: 1.3730 Top-1 error rate: 33.47% Top-5 error rate: 13.44%\n"
     ]
    },
    {
     "name": "stderr",
     "output_type": "stream",
     "text": [
      " 60%|█████▉    | 3000/5005 [12:47<08:29,  3.94it/s]"
     ]
    },
    {
     "name": "stdout",
     "output_type": "stream",
     "text": [
      "  Batch 443440 Loss: 1.3696 Top-1 error rate: 33.50% Top-5 error rate: 13.35%\n"
     ]
    },
    {
     "name": "stderr",
     "output_type": "stream",
     "text": [
      " 80%|███████▉  | 4000/5005 [17:02<04:16,  3.91it/s]"
     ]
    },
    {
     "name": "stdout",
     "output_type": "stream",
     "text": [
      "  Batch 444440 Loss: 1.3720 Top-1 error rate: 33.62% Top-5 error rate: 13.37%\n"
     ]
    },
    {
     "name": "stderr",
     "output_type": "stream",
     "text": [
      "100%|█████████▉| 5000/5005 [21:16<00:01,  3.95it/s]"
     ]
    },
    {
     "name": "stdout",
     "output_type": "stream",
     "text": [
      "  Batch 445440 Loss: 1.3741 Top-1 error rate: 33.55% Top-5 error rate: 13.43%\n"
     ]
    },
    {
     "name": "stderr",
     "output_type": "stream",
     "text": [
      "100%|██████████| 5005/5005 [21:17<00:00,  3.92it/s]\n",
      "Validation:  26%|██▌       | 100/391 [00:50<01:50,  2.63it/s]"
     ]
    },
    {
     "name": "stdout",
     "output_type": "stream",
     "text": [
      "  Validation Batch   100 Loss: 0.8912 Top-1 error: 22.16% Top-5 error: 5.90%\n"
     ]
    },
    {
     "name": "stderr",
     "output_type": "stream",
     "text": [
      "Validation:  51%|█████     | 200/391 [01:31<01:29,  2.14it/s]"
     ]
    },
    {
     "name": "stdout",
     "output_type": "stream",
     "text": [
      "  Validation Batch   200 Loss: 1.1589 Top-1 error: 27.35% Top-5 error: 8.98%\n"
     ]
    },
    {
     "name": "stderr",
     "output_type": "stream",
     "text": [
      "Validation:  77%|███████▋  | 300/391 [02:20<01:01,  1.48it/s]"
     ]
    },
    {
     "name": "stdout",
     "output_type": "stream",
     "text": [
      "  Validation Batch   300 Loss: 1.4498 Top-1 error: 32.59% Top-5 error: 12.66%\n"
     ]
    },
    {
     "name": "stderr",
     "output_type": "stream",
     "text": [
      "Validation: 100%|██████████| 391/391 [02:57<00:00,  2.20it/s]\n"
     ]
    },
    {
     "name": "stdout",
     "output_type": "stream",
     "text": [
      "LOSS train 1.3712 valid 1.2215\n",
      "Top-1 Error train 33.50% val 28.54%\n",
      "Top-5 Error train 13.36% val 9.85%\n",
      "EPOCH 90:\n"
     ]
    },
    {
     "name": "stderr",
     "output_type": "stream",
     "text": [
      " 20%|█▉        | 1000/5005 [04:17<16:56,  3.94it/s]"
     ]
    },
    {
     "name": "stdout",
     "output_type": "stream",
     "text": [
      "  Batch 446445 Loss: 1.3659 Top-1 error rate: 33.39% Top-5 error rate: 13.25%\n"
     ]
    },
    {
     "name": "stderr",
     "output_type": "stream",
     "text": [
      " 40%|███▉      | 2000/5005 [08:32<12:43,  3.94it/s]"
     ]
    },
    {
     "name": "stdout",
     "output_type": "stream",
     "text": [
      "  Batch 447445 Loss: 1.3702 Top-1 error rate: 33.43% Top-5 error rate: 13.29%\n"
     ]
    },
    {
     "name": "stderr",
     "output_type": "stream",
     "text": [
      " 60%|█████▉    | 3000/5005 [12:46<08:29,  3.93it/s]"
     ]
    },
    {
     "name": "stdout",
     "output_type": "stream",
     "text": [
      "  Batch 448445 Loss: 1.3753 Top-1 error rate: 33.57% Top-5 error rate: 13.41%\n"
     ]
    },
    {
     "name": "stderr",
     "output_type": "stream",
     "text": [
      " 80%|███████▉  | 4000/5005 [17:01<04:16,  3.92it/s]"
     ]
    },
    {
     "name": "stdout",
     "output_type": "stream",
     "text": [
      "  Batch 449445 Loss: 1.3699 Top-1 error rate: 33.62% Top-5 error rate: 13.31%\n"
     ]
    },
    {
     "name": "stderr",
     "output_type": "stream",
     "text": [
      "100%|█████████▉| 5000/5005 [21:15<00:01,  3.94it/s]"
     ]
    },
    {
     "name": "stdout",
     "output_type": "stream",
     "text": [
      "  Batch 450445 Loss: 1.3783 Top-1 error rate: 33.71% Top-5 error rate: 13.47%\n"
     ]
    },
    {
     "name": "stderr",
     "output_type": "stream",
     "text": [
      "100%|██████████| 5005/5005 [21:16<00:00,  3.92it/s]\n",
      "Validation:  26%|██▌       | 100/391 [00:48<01:56,  2.50it/s]"
     ]
    },
    {
     "name": "stdout",
     "output_type": "stream",
     "text": [
      "  Validation Batch   100 Loss: 0.8880 Top-1 error: 22.23% Top-5 error: 5.79%\n"
     ]
    },
    {
     "name": "stderr",
     "output_type": "stream",
     "text": [
      "Validation:  51%|█████     | 200/391 [01:32<01:32,  2.07it/s]"
     ]
    },
    {
     "name": "stdout",
     "output_type": "stream",
     "text": [
      "  Validation Batch   200 Loss: 1.1476 Top-1 error: 27.62% Top-5 error: 8.87%\n"
     ]
    },
    {
     "name": "stderr",
     "output_type": "stream",
     "text": [
      "Validation:  77%|███████▋  | 300/391 [02:21<00:37,  2.44it/s]"
     ]
    },
    {
     "name": "stdout",
     "output_type": "stream",
     "text": [
      "  Validation Batch   300 Loss: 1.4382 Top-1 error: 32.97% Top-5 error: 12.76%\n"
     ]
    },
    {
     "name": "stderr",
     "output_type": "stream",
     "text": [
      "Validation: 100%|██████████| 391/391 [03:04<00:00,  2.12it/s]\n"
     ]
    },
    {
     "name": "stdout",
     "output_type": "stream",
     "text": [
      "LOSS train 1.3719 valid 1.2113\n",
      "Top-1 Error train 33.54% val 28.69%\n",
      "Top-5 Error train 13.34% val 9.76%\n",
      "EPOCH 91:\n"
     ]
    },
    {
     "name": "stderr",
     "output_type": "stream",
     "text": [
      " 20%|█▉        | 1000/5005 [04:18<16:59,  3.93it/s]"
     ]
    },
    {
     "name": "stdout",
     "output_type": "stream",
     "text": [
      "  Batch 451450 Loss: 1.3517 Top-1 error rate: 33.07% Top-5 error rate: 13.08%\n"
     ]
    },
    {
     "name": "stderr",
     "output_type": "stream",
     "text": [
      " 40%|███▉      | 2000/5005 [08:33<12:43,  3.94it/s]"
     ]
    },
    {
     "name": "stdout",
     "output_type": "stream",
     "text": [
      "  Batch 452450 Loss: 1.3472 Top-1 error rate: 32.98% Top-5 error rate: 12.97%\n"
     ]
    },
    {
     "name": "stderr",
     "output_type": "stream",
     "text": [
      " 60%|█████▉    | 3000/5005 [12:47<08:29,  3.93it/s]"
     ]
    },
    {
     "name": "stdout",
     "output_type": "stream",
     "text": [
      "  Batch 453450 Loss: 1.3445 Top-1 error rate: 32.93% Top-5 error rate: 13.02%\n"
     ]
    },
    {
     "name": "stderr",
     "output_type": "stream",
     "text": [
      " 80%|███████▉  | 4000/5005 [17:02<04:16,  3.92it/s]"
     ]
    },
    {
     "name": "stdout",
     "output_type": "stream",
     "text": [
      "  Batch 454450 Loss: 1.3484 Top-1 error rate: 33.06% Top-5 error rate: 13.01%\n"
     ]
    },
    {
     "name": "stderr",
     "output_type": "stream",
     "text": [
      "100%|█████████▉| 5000/5005 [21:43<00:01,  3.86it/s]"
     ]
    },
    {
     "name": "stdout",
     "output_type": "stream",
     "text": [
      "  Batch 455450 Loss: 1.3539 Top-1 error rate: 33.04% Top-5 error rate: 13.16%\n"
     ]
    },
    {
     "name": "stderr",
     "output_type": "stream",
     "text": [
      "100%|██████████| 5005/5005 [21:44<00:00,  3.84it/s]\n",
      "Validation:  26%|██▌       | 100/391 [00:48<01:49,  2.65it/s]"
     ]
    },
    {
     "name": "stdout",
     "output_type": "stream",
     "text": [
      "  Validation Batch   100 Loss: 0.8760 Top-1 error: 22.02% Top-5 error: 5.74%\n"
     ]
    },
    {
     "name": "stderr",
     "output_type": "stream",
     "text": [
      "Validation:  51%|█████     | 200/391 [01:35<01:12,  2.63it/s]"
     ]
    },
    {
     "name": "stdout",
     "output_type": "stream",
     "text": [
      "  Validation Batch   200 Loss: 1.1366 Top-1 error: 27.16% Top-5 error: 8.91%\n"
     ]
    },
    {
     "name": "stderr",
     "output_type": "stream",
     "text": [
      "Validation:  77%|███████▋  | 300/391 [02:18<00:39,  2.32it/s]"
     ]
    },
    {
     "name": "stdout",
     "output_type": "stream",
     "text": [
      "  Validation Batch   300 Loss: 1.4293 Top-1 error: 32.73% Top-5 error: 12.54%\n"
     ]
    },
    {
     "name": "stderr",
     "output_type": "stream",
     "text": [
      "Validation: 100%|██████████| 391/391 [03:02<00:00,  2.14it/s]\n"
     ]
    },
    {
     "name": "stdout",
     "output_type": "stream",
     "text": [
      "LOSS train 1.3491 valid 1.1997\n",
      "Top-1 Error train 33.02% val 28.43%\n",
      "Top-5 Error train 13.05% val 9.71%\n",
      "EPOCH 92:\n"
     ]
    },
    {
     "name": "stderr",
     "output_type": "stream",
     "text": [
      " 20%|█▉        | 1000/5005 [04:19<17:02,  3.92it/s]"
     ]
    },
    {
     "name": "stdout",
     "output_type": "stream",
     "text": [
      "  Batch 456455 Loss: 1.3439 Top-1 error rate: 32.89% Top-5 error rate: 13.06%\n"
     ]
    },
    {
     "name": "stderr",
     "output_type": "stream",
     "text": [
      " 40%|███▉      | 2000/5005 [08:33<12:48,  3.91it/s]"
     ]
    },
    {
     "name": "stdout",
     "output_type": "stream",
     "text": [
      "  Batch 457455 Loss: 1.3472 Top-1 error rate: 33.04% Top-5 error rate: 12.95%\n"
     ]
    },
    {
     "name": "stderr",
     "output_type": "stream",
     "text": [
      " 60%|█████▉    | 3000/5005 [12:48<08:29,  3.93it/s]"
     ]
    },
    {
     "name": "stdout",
     "output_type": "stream",
     "text": [
      "  Batch 458455 Loss: 1.3451 Top-1 error rate: 32.88% Top-5 error rate: 13.01%\n"
     ]
    },
    {
     "name": "stderr",
     "output_type": "stream",
     "text": [
      " 80%|███████▉  | 4000/5005 [17:02<04:16,  3.92it/s]"
     ]
    },
    {
     "name": "stdout",
     "output_type": "stream",
     "text": [
      "  Batch 459455 Loss: 1.3479 Top-1 error rate: 33.03% Top-5 error rate: 13.07%\n"
     ]
    },
    {
     "name": "stderr",
     "output_type": "stream",
     "text": [
      "100%|█████████▉| 5000/5005 [21:16<00:01,  3.96it/s]"
     ]
    },
    {
     "name": "stdout",
     "output_type": "stream",
     "text": [
      "  Batch 460455 Loss: 1.3435 Top-1 error rate: 32.85% Top-5 error rate: 13.01%\n"
     ]
    },
    {
     "name": "stderr",
     "output_type": "stream",
     "text": [
      "100%|██████████| 5005/5005 [21:18<00:00,  3.92it/s]\n",
      "Validation:  26%|██▌       | 100/391 [00:45<01:57,  2.47it/s]"
     ]
    },
    {
     "name": "stdout",
     "output_type": "stream",
     "text": [
      "  Validation Batch   100 Loss: 0.8738 Top-1 error: 21.98% Top-5 error: 5.78%\n"
     ]
    },
    {
     "name": "stderr",
     "output_type": "stream",
     "text": [
      "Validation:  51%|█████     | 200/391 [01:30<01:15,  2.53it/s]"
     ]
    },
    {
     "name": "stdout",
     "output_type": "stream",
     "text": [
      "  Validation Batch   200 Loss: 1.1341 Top-1 error: 27.20% Top-5 error: 8.90%\n"
     ]
    },
    {
     "name": "stderr",
     "output_type": "stream",
     "text": [
      "Validation:  77%|███████▋  | 300/391 [02:14<00:40,  2.27it/s]"
     ]
    },
    {
     "name": "stdout",
     "output_type": "stream",
     "text": [
      "  Validation Batch   300 Loss: 1.4268 Top-1 error: 32.74% Top-5 error: 12.53%\n"
     ]
    },
    {
     "name": "stderr",
     "output_type": "stream",
     "text": [
      "Validation: 100%|██████████| 391/391 [02:58<00:00,  2.19it/s]\n"
     ]
    },
    {
     "name": "stdout",
     "output_type": "stream",
     "text": [
      "LOSS train 1.3456 valid 1.1975\n",
      "Top-1 Error train 32.94% val 28.43%\n",
      "Top-5 Error train 13.02% val 9.71%\n",
      "EPOCH 93:\n"
     ]
    },
    {
     "name": "stderr",
     "output_type": "stream",
     "text": [
      " 20%|█▉        | 1000/5005 [04:18<16:58,  3.93it/s]"
     ]
    },
    {
     "name": "stdout",
     "output_type": "stream",
     "text": [
      "  Batch 461460 Loss: 1.3508 Top-1 error rate: 33.13% Top-5 error rate: 13.07%\n"
     ]
    },
    {
     "name": "stderr",
     "output_type": "stream",
     "text": [
      " 40%|███▉      | 2000/5005 [08:33<12:47,  3.91it/s]"
     ]
    },
    {
     "name": "stdout",
     "output_type": "stream",
     "text": [
      "  Batch 462460 Loss: 1.3401 Top-1 error rate: 32.73% Top-5 error rate: 13.00%\n"
     ]
    },
    {
     "name": "stderr",
     "output_type": "stream",
     "text": [
      " 60%|█████▉    | 3000/5005 [12:47<08:30,  3.93it/s]"
     ]
    },
    {
     "name": "stdout",
     "output_type": "stream",
     "text": [
      "  Batch 463460 Loss: 1.3458 Top-1 error rate: 32.96% Top-5 error rate: 13.01%\n"
     ]
    },
    {
     "name": "stderr",
     "output_type": "stream",
     "text": [
      " 80%|███████▉  | 4000/5005 [17:02<04:19,  3.87it/s]"
     ]
    },
    {
     "name": "stdout",
     "output_type": "stream",
     "text": [
      "  Batch 464460 Loss: 1.3448 Top-1 error rate: 32.93% Top-5 error rate: 12.97%\n"
     ]
    },
    {
     "name": "stderr",
     "output_type": "stream",
     "text": [
      "100%|█████████▉| 5000/5005 [21:17<00:01,  3.96it/s]"
     ]
    },
    {
     "name": "stdout",
     "output_type": "stream",
     "text": [
      "  Batch 465460 Loss: 1.3433 Top-1 error rate: 32.89% Top-5 error rate: 13.04%\n"
     ]
    },
    {
     "name": "stderr",
     "output_type": "stream",
     "text": [
      "100%|██████████| 5005/5005 [21:18<00:00,  3.92it/s]\n",
      "Validation:  26%|██▌       | 100/391 [00:48<02:12,  2.19it/s]"
     ]
    },
    {
     "name": "stdout",
     "output_type": "stream",
     "text": [
      "  Validation Batch   100 Loss: 0.8676 Top-1 error: 21.99% Top-5 error: 5.73%\n"
     ]
    },
    {
     "name": "stderr",
     "output_type": "stream",
     "text": [
      "Validation:  51%|█████     | 200/391 [01:33<01:18,  2.43it/s]"
     ]
    },
    {
     "name": "stdout",
     "output_type": "stream",
     "text": [
      "  Validation Batch   200 Loss: 1.1284 Top-1 error: 27.23% Top-5 error: 8.96%\n"
     ]
    },
    {
     "name": "stderr",
     "output_type": "stream",
     "text": [
      "Validation:  77%|███████▋  | 300/391 [02:17<00:43,  2.08it/s]"
     ]
    },
    {
     "name": "stdout",
     "output_type": "stream",
     "text": [
      "  Validation Batch   300 Loss: 1.4134 Top-1 error: 32.60% Top-5 error: 12.57%\n"
     ]
    },
    {
     "name": "stderr",
     "output_type": "stream",
     "text": [
      "Validation: 100%|██████████| 391/391 [03:01<00:00,  2.15it/s]\n"
     ]
    },
    {
     "name": "stdout",
     "output_type": "stream",
     "text": [
      "LOSS train 1.3449 valid 1.1883\n",
      "Top-1 Error train 32.93% val 28.39%\n",
      "Top-5 Error train 13.02% val 9.71%\n",
      "EPOCH 94:\n"
     ]
    },
    {
     "name": "stderr",
     "output_type": "stream",
     "text": [
      " 20%|█▉        | 1000/5005 [04:17<17:03,  3.91it/s]"
     ]
    },
    {
     "name": "stdout",
     "output_type": "stream",
     "text": [
      "  Batch 466465 Loss: 1.3403 Top-1 error rate: 32.89% Top-5 error rate: 12.95%\n"
     ]
    },
    {
     "name": "stderr",
     "output_type": "stream",
     "text": [
      " 40%|███▉      | 2000/5005 [08:32<12:48,  3.91it/s]"
     ]
    },
    {
     "name": "stdout",
     "output_type": "stream",
     "text": [
      "  Batch 467465 Loss: 1.3377 Top-1 error rate: 32.79% Top-5 error rate: 12.90%\n"
     ]
    },
    {
     "name": "stderr",
     "output_type": "stream",
     "text": [
      " 60%|█████▉    | 3000/5005 [12:47<08:30,  3.92it/s]"
     ]
    },
    {
     "name": "stdout",
     "output_type": "stream",
     "text": [
      "  Batch 468465 Loss: 1.3486 Top-1 error rate: 32.94% Top-5 error rate: 13.01%\n"
     ]
    },
    {
     "name": "stderr",
     "output_type": "stream",
     "text": [
      " 80%|███████▉  | 4000/5005 [17:01<04:16,  3.93it/s]"
     ]
    },
    {
     "name": "stdout",
     "output_type": "stream",
     "text": [
      "  Batch 469465 Loss: 1.3451 Top-1 error rate: 32.88% Top-5 error rate: 13.06%\n"
     ]
    },
    {
     "name": "stderr",
     "output_type": "stream",
     "text": [
      "100%|█████████▉| 5000/5005 [21:16<00:01,  3.96it/s]"
     ]
    },
    {
     "name": "stdout",
     "output_type": "stream",
     "text": [
      "  Batch 470465 Loss: 1.3378 Top-1 error rate: 32.73% Top-5 error rate: 12.91%\n"
     ]
    },
    {
     "name": "stderr",
     "output_type": "stream",
     "text": [
      "100%|██████████| 5005/5005 [21:17<00:00,  3.92it/s]\n",
      "Validation:  26%|██▌       | 100/391 [00:45<02:26,  1.99it/s]"
     ]
    },
    {
     "name": "stdout",
     "output_type": "stream",
     "text": [
      "  Validation Batch   100 Loss: 0.8674 Top-1 error: 21.96% Top-5 error: 5.77%\n"
     ]
    },
    {
     "name": "stderr",
     "output_type": "stream",
     "text": [
      "Validation:  51%|█████     | 200/391 [01:30<01:19,  2.41it/s]"
     ]
    },
    {
     "name": "stdout",
     "output_type": "stream",
     "text": [
      "  Validation Batch   200 Loss: 1.1274 Top-1 error: 26.99% Top-5 error: 8.90%\n"
     ]
    },
    {
     "name": "stderr",
     "output_type": "stream",
     "text": [
      "Validation:  77%|███████▋  | 300/391 [02:11<00:41,  2.18it/s]"
     ]
    },
    {
     "name": "stdout",
     "output_type": "stream",
     "text": [
      "  Validation Batch   300 Loss: 1.4173 Top-1 error: 32.70% Top-5 error: 12.48%\n"
     ]
    },
    {
     "name": "stderr",
     "output_type": "stream",
     "text": [
      "Validation: 100%|██████████| 391/391 [02:55<00:00,  2.23it/s]\n"
     ]
    },
    {
     "name": "stdout",
     "output_type": "stream",
     "text": [
      "LOSS train 1.3418 valid 1.1902\n",
      "Top-1 Error train 32.85% val 28.36%\n",
      "Top-5 Error train 12.97% val 9.69%\n",
      "EPOCH 95:\n"
     ]
    },
    {
     "name": "stderr",
     "output_type": "stream",
     "text": [
      " 20%|█▉        | 1000/5005 [04:17<17:04,  3.91it/s]"
     ]
    },
    {
     "name": "stdout",
     "output_type": "stream",
     "text": [
      "  Batch 471470 Loss: 1.3438 Top-1 error rate: 32.87% Top-5 error rate: 13.08%\n"
     ]
    },
    {
     "name": "stderr",
     "output_type": "stream",
     "text": [
      " 40%|███▉      | 2000/5005 [08:32<12:47,  3.92it/s]"
     ]
    },
    {
     "name": "stdout",
     "output_type": "stream",
     "text": [
      "  Batch 472470 Loss: 1.3429 Top-1 error rate: 32.87% Top-5 error rate: 13.01%\n"
     ]
    },
    {
     "name": "stderr",
     "output_type": "stream",
     "text": [
      " 60%|█████▉    | 3000/5005 [12:46<08:31,  3.92it/s]"
     ]
    },
    {
     "name": "stdout",
     "output_type": "stream",
     "text": [
      "  Batch 473470 Loss: 1.3418 Top-1 error rate: 32.79% Top-5 error rate: 13.04%\n"
     ]
    },
    {
     "name": "stderr",
     "output_type": "stream",
     "text": [
      " 80%|███████▉  | 4000/5005 [17:01<04:17,  3.91it/s]"
     ]
    },
    {
     "name": "stdout",
     "output_type": "stream",
     "text": [
      "  Batch 474470 Loss: 1.3409 Top-1 error rate: 32.86% Top-5 error rate: 12.96%\n"
     ]
    },
    {
     "name": "stderr",
     "output_type": "stream",
     "text": [
      "100%|█████████▉| 5000/5005 [21:15<00:01,  3.95it/s]"
     ]
    },
    {
     "name": "stdout",
     "output_type": "stream",
     "text": [
      "  Batch 475470 Loss: 1.3445 Top-1 error rate: 32.94% Top-5 error rate: 13.01%\n"
     ]
    },
    {
     "name": "stderr",
     "output_type": "stream",
     "text": [
      "100%|██████████| 5005/5005 [21:16<00:00,  3.92it/s]\n",
      "Validation:  26%|██▌       | 100/391 [00:48<02:02,  2.38it/s]"
     ]
    },
    {
     "name": "stdout",
     "output_type": "stream",
     "text": [
      "  Validation Batch   100 Loss: 0.8702 Top-1 error: 21.91% Top-5 error: 5.77%\n"
     ]
    },
    {
     "name": "stderr",
     "output_type": "stream",
     "text": [
      "Validation:  51%|█████     | 200/391 [01:29<01:27,  2.17it/s]"
     ]
    },
    {
     "name": "stdout",
     "output_type": "stream",
     "text": [
      "  Validation Batch   200 Loss: 1.1277 Top-1 error: 27.18% Top-5 error: 8.87%\n"
     ]
    },
    {
     "name": "stderr",
     "output_type": "stream",
     "text": [
      "Validation:  77%|███████▋  | 300/391 [02:15<00:34,  2.63it/s]"
     ]
    },
    {
     "name": "stdout",
     "output_type": "stream",
     "text": [
      "  Validation Batch   300 Loss: 1.4165 Top-1 error: 32.61% Top-5 error: 12.61%\n"
     ]
    },
    {
     "name": "stderr",
     "output_type": "stream",
     "text": [
      "Validation: 100%|██████████| 391/391 [02:53<00:00,  2.25it/s]\n"
     ]
    },
    {
     "name": "stdout",
     "output_type": "stream",
     "text": [
      "LOSS train 1.3429 valid 1.1901\n",
      "Top-1 Error train 32.87% val 28.33%\n",
      "Top-5 Error train 13.02% val 9.72%\n",
      "EPOCH 96:\n"
     ]
    },
    {
     "name": "stderr",
     "output_type": "stream",
     "text": [
      " 20%|█▉        | 1000/5005 [04:18<17:02,  3.92it/s]"
     ]
    },
    {
     "name": "stdout",
     "output_type": "stream",
     "text": [
      "  Batch 476475 Loss: 1.3410 Top-1 error rate: 32.76% Top-5 error rate: 12.92%\n"
     ]
    },
    {
     "name": "stderr",
     "output_type": "stream",
     "text": [
      " 40%|███▉      | 2000/5005 [08:32<12:45,  3.92it/s]"
     ]
    },
    {
     "name": "stdout",
     "output_type": "stream",
     "text": [
      "  Batch 477475 Loss: 1.3395 Top-1 error rate: 32.80% Top-5 error rate: 12.99%\n"
     ]
    },
    {
     "name": "stderr",
     "output_type": "stream",
     "text": [
      " 60%|█████▉    | 3000/5005 [12:47<08:32,  3.91it/s]"
     ]
    },
    {
     "name": "stdout",
     "output_type": "stream",
     "text": [
      "  Batch 478475 Loss: 1.3355 Top-1 error rate: 32.74% Top-5 error rate: 12.93%\n"
     ]
    },
    {
     "name": "stderr",
     "output_type": "stream",
     "text": [
      " 80%|███████▉  | 4000/5005 [17:02<04:15,  3.93it/s]"
     ]
    },
    {
     "name": "stdout",
     "output_type": "stream",
     "text": [
      "  Batch 479475 Loss: 1.3408 Top-1 error rate: 32.70% Top-5 error rate: 13.05%\n"
     ]
    },
    {
     "name": "stderr",
     "output_type": "stream",
     "text": [
      "100%|█████████▉| 5000/5005 [21:16<00:01,  3.95it/s]"
     ]
    },
    {
     "name": "stdout",
     "output_type": "stream",
     "text": [
      "  Batch 480475 Loss: 1.3455 Top-1 error rate: 32.93% Top-5 error rate: 12.93%\n"
     ]
    },
    {
     "name": "stderr",
     "output_type": "stream",
     "text": [
      "100%|██████████| 5005/5005 [21:17<00:00,  3.92it/s]\n",
      "Validation:  26%|██▌       | 100/391 [00:46<01:50,  2.64it/s]"
     ]
    },
    {
     "name": "stdout",
     "output_type": "stream",
     "text": [
      "  Validation Batch   100 Loss: 0.8688 Top-1 error: 21.92% Top-5 error: 5.74%\n"
     ]
    },
    {
     "name": "stderr",
     "output_type": "stream",
     "text": [
      "Validation:  51%|█████     | 200/391 [01:30<01:16,  2.49it/s]"
     ]
    },
    {
     "name": "stdout",
     "output_type": "stream",
     "text": [
      "  Validation Batch   200 Loss: 1.1300 Top-1 error: 27.12% Top-5 error: 8.92%\n"
     ]
    },
    {
     "name": "stderr",
     "output_type": "stream",
     "text": [
      "Validation:  77%|███████▋  | 300/391 [02:12<00:35,  2.59it/s]"
     ]
    },
    {
     "name": "stdout",
     "output_type": "stream",
     "text": [
      "  Validation Batch   300 Loss: 1.4141 Top-1 error: 32.54% Top-5 error: 12.56%\n"
     ]
    },
    {
     "name": "stderr",
     "output_type": "stream",
     "text": [
      "Validation: 100%|██████████| 391/391 [02:54<00:00,  2.24it/s]\n"
     ]
    },
    {
     "name": "stdout",
     "output_type": "stream",
     "text": [
      "LOSS train 1.3404 valid 1.1899\n",
      "Top-1 Error train 32.78% val 28.31%\n",
      "Top-5 Error train 12.96% val 9.70%\n",
      "EPOCH 97:\n"
     ]
    },
    {
     "name": "stderr",
     "output_type": "stream",
     "text": [
      " 20%|█▉        | 1000/5005 [04:18<17:04,  3.91it/s]"
     ]
    },
    {
     "name": "stdout",
     "output_type": "stream",
     "text": [
      "  Batch 481480 Loss: 1.3440 Top-1 error rate: 32.81% Top-5 error rate: 12.97%\n"
     ]
    },
    {
     "name": "stderr",
     "output_type": "stream",
     "text": [
      " 40%|███▉      | 2000/5005 [08:33<12:47,  3.92it/s]"
     ]
    },
    {
     "name": "stdout",
     "output_type": "stream",
     "text": [
      "  Batch 482480 Loss: 1.3403 Top-1 error rate: 32.83% Top-5 error rate: 12.99%\n"
     ]
    },
    {
     "name": "stderr",
     "output_type": "stream",
     "text": [
      " 60%|█████▉    | 3000/5005 [12:47<08:30,  3.93it/s]"
     ]
    },
    {
     "name": "stdout",
     "output_type": "stream",
     "text": [
      "  Batch 483480 Loss: 1.3444 Top-1 error rate: 32.91% Top-5 error rate: 13.03%\n"
     ]
    },
    {
     "name": "stderr",
     "output_type": "stream",
     "text": [
      " 80%|███████▉  | 4000/5005 [17:01<04:15,  3.93it/s]"
     ]
    },
    {
     "name": "stdout",
     "output_type": "stream",
     "text": [
      "  Batch 484480 Loss: 1.3431 Top-1 error rate: 32.88% Top-5 error rate: 12.93%\n"
     ]
    },
    {
     "name": "stderr",
     "output_type": "stream",
     "text": [
      "100%|█████████▉| 5000/5005 [21:16<00:01,  3.96it/s]"
     ]
    },
    {
     "name": "stdout",
     "output_type": "stream",
     "text": [
      "  Batch 485480 Loss: 1.3432 Top-1 error rate: 32.81% Top-5 error rate: 13.04%\n"
     ]
    },
    {
     "name": "stderr",
     "output_type": "stream",
     "text": [
      "100%|██████████| 5005/5005 [21:17<00:00,  3.92it/s]\n",
      "Validation:  26%|██▌       | 100/391 [00:44<02:14,  2.17it/s]"
     ]
    },
    {
     "name": "stdout",
     "output_type": "stream",
     "text": [
      "  Validation Batch   100 Loss: 0.8670 Top-1 error: 21.91% Top-5 error: 5.73%\n"
     ]
    },
    {
     "name": "stderr",
     "output_type": "stream",
     "text": [
      "Validation:  51%|█████     | 200/391 [01:28<01:50,  1.73it/s]"
     ]
    },
    {
     "name": "stdout",
     "output_type": "stream",
     "text": [
      "  Validation Batch   200 Loss: 1.1285 Top-1 error: 27.20% Top-5 error: 8.86%\n"
     ]
    },
    {
     "name": "stderr",
     "output_type": "stream",
     "text": [
      "Validation:  77%|███████▋  | 300/391 [02:10<00:42,  2.14it/s]"
     ]
    },
    {
     "name": "stdout",
     "output_type": "stream",
     "text": [
      "  Validation Batch   300 Loss: 1.4125 Top-1 error: 32.49% Top-5 error: 12.46%\n"
     ]
    },
    {
     "name": "stderr",
     "output_type": "stream",
     "text": [
      "Validation: 100%|██████████| 391/391 [02:51<00:00,  2.28it/s]\n"
     ]
    },
    {
     "name": "stdout",
     "output_type": "stream",
     "text": [
      "LOSS train 1.3429 valid 1.1888\n",
      "Top-1 Error train 32.85% val 28.32%\n",
      "Top-5 Error train 12.99% val 9.66%\n",
      "EPOCH 98:\n"
     ]
    },
    {
     "name": "stderr",
     "output_type": "stream",
     "text": [
      " 20%|█▉        | 1000/5005 [04:17<16:55,  3.94it/s]"
     ]
    },
    {
     "name": "stdout",
     "output_type": "stream",
     "text": [
      "  Batch 486485 Loss: 1.3409 Top-1 error rate: 32.89% Top-5 error rate: 12.85%\n"
     ]
    },
    {
     "name": "stderr",
     "output_type": "stream",
     "text": [
      " 40%|███▉      | 2000/5005 [08:32<12:42,  3.94it/s]"
     ]
    },
    {
     "name": "stdout",
     "output_type": "stream",
     "text": [
      "  Batch 487485 Loss: 1.3411 Top-1 error rate: 32.78% Top-5 error rate: 12.95%\n"
     ]
    },
    {
     "name": "stderr",
     "output_type": "stream",
     "text": [
      " 60%|█████▉    | 3000/5005 [12:46<08:28,  3.94it/s]"
     ]
    },
    {
     "name": "stdout",
     "output_type": "stream",
     "text": [
      "  Batch 488485 Loss: 1.3457 Top-1 error rate: 32.95% Top-5 error rate: 13.06%\n"
     ]
    },
    {
     "name": "stderr",
     "output_type": "stream",
     "text": [
      " 80%|███████▉  | 4000/5005 [17:01<04:16,  3.92it/s]"
     ]
    },
    {
     "name": "stdout",
     "output_type": "stream",
     "text": [
      "  Batch 489485 Loss: 1.3418 Top-1 error rate: 32.83% Top-5 error rate: 13.00%\n"
     ]
    },
    {
     "name": "stderr",
     "output_type": "stream",
     "text": [
      "100%|█████████▉| 5000/5005 [21:15<00:01,  3.95it/s]"
     ]
    },
    {
     "name": "stdout",
     "output_type": "stream",
     "text": [
      "  Batch 490485 Loss: 1.3351 Top-1 error rate: 32.66% Top-5 error rate: 12.95%\n"
     ]
    },
    {
     "name": "stderr",
     "output_type": "stream",
     "text": [
      "100%|██████████| 5005/5005 [21:16<00:00,  3.92it/s]\n",
      "Validation:  26%|██▌       | 100/391 [00:45<02:07,  2.28it/s]"
     ]
    },
    {
     "name": "stdout",
     "output_type": "stream",
     "text": [
      "  Validation Batch   100 Loss: 0.8665 Top-1 error: 21.97% Top-5 error: 5.81%\n"
     ]
    },
    {
     "name": "stderr",
     "output_type": "stream",
     "text": [
      "Validation:  51%|█████     | 200/391 [01:28<01:11,  2.65it/s]"
     ]
    },
    {
     "name": "stdout",
     "output_type": "stream",
     "text": [
      "  Validation Batch   200 Loss: 1.1225 Top-1 error: 27.18% Top-5 error: 8.90%\n"
     ]
    },
    {
     "name": "stderr",
     "output_type": "stream",
     "text": [
      "Validation:  77%|███████▋  | 300/391 [02:13<00:36,  2.50it/s]"
     ]
    },
    {
     "name": "stdout",
     "output_type": "stream",
     "text": [
      "  Validation Batch   300 Loss: 1.4056 Top-1 error: 32.56% Top-5 error: 12.47%\n"
     ]
    },
    {
     "name": "stderr",
     "output_type": "stream",
     "text": [
      "Validation: 100%|██████████| 391/391 [02:51<00:00,  2.28it/s]\n"
     ]
    },
    {
     "name": "stdout",
     "output_type": "stream",
     "text": [
      "LOSS train 1.3409 valid 1.1837\n",
      "Top-1 Error train 32.82% val 28.37%\n",
      "Top-5 Error train 12.96% val 9.71%\n",
      "EPOCH 99:\n"
     ]
    },
    {
     "name": "stderr",
     "output_type": "stream",
     "text": [
      " 20%|█▉        | 1000/5005 [04:17<16:58,  3.93it/s]"
     ]
    },
    {
     "name": "stdout",
     "output_type": "stream",
     "text": [
      "  Batch 491490 Loss: 1.3413 Top-1 error rate: 32.77% Top-5 error rate: 12.97%\n"
     ]
    },
    {
     "name": "stderr",
     "output_type": "stream",
     "text": [
      " 40%|███▉      | 2000/5005 [08:32<12:47,  3.91it/s]"
     ]
    },
    {
     "name": "stdout",
     "output_type": "stream",
     "text": [
      "  Batch 492490 Loss: 1.3429 Top-1 error rate: 32.83% Top-5 error rate: 13.03%\n"
     ]
    },
    {
     "name": "stderr",
     "output_type": "stream",
     "text": [
      " 60%|█████▉    | 3000/5005 [12:47<08:30,  3.92it/s]"
     ]
    },
    {
     "name": "stdout",
     "output_type": "stream",
     "text": [
      "  Batch 493490 Loss: 1.3325 Top-1 error rate: 32.60% Top-5 error rate: 12.85%\n"
     ]
    },
    {
     "name": "stderr",
     "output_type": "stream",
     "text": [
      " 80%|███████▉  | 4000/5005 [17:01<04:15,  3.93it/s]"
     ]
    },
    {
     "name": "stdout",
     "output_type": "stream",
     "text": [
      "  Batch 494490 Loss: 1.3333 Top-1 error rate: 32.70% Top-5 error rate: 12.75%\n"
     ]
    },
    {
     "name": "stderr",
     "output_type": "stream",
     "text": [
      "100%|█████████▉| 5000/5005 [21:16<00:01,  3.95it/s]"
     ]
    },
    {
     "name": "stdout",
     "output_type": "stream",
     "text": [
      "  Batch 495490 Loss: 1.3405 Top-1 error rate: 32.88% Top-5 error rate: 12.98%\n"
     ]
    },
    {
     "name": "stderr",
     "output_type": "stream",
     "text": [
      "100%|██████████| 5005/5005 [21:17<00:00,  3.92it/s]\n",
      "Validation:  26%|██▌       | 100/391 [00:46<02:10,  2.23it/s]"
     ]
    },
    {
     "name": "stdout",
     "output_type": "stream",
     "text": [
      "  Validation Batch   100 Loss: 0.8701 Top-1 error: 21.91% Top-5 error: 5.76%\n"
     ]
    },
    {
     "name": "stderr",
     "output_type": "stream",
     "text": [
      "Validation:  51%|█████     | 200/391 [01:27<01:11,  2.65it/s]"
     ]
    },
    {
     "name": "stdout",
     "output_type": "stream",
     "text": [
      "  Validation Batch   200 Loss: 1.1282 Top-1 error: 27.10% Top-5 error: 8.91%\n"
     ]
    },
    {
     "name": "stderr",
     "output_type": "stream",
     "text": [
      "Validation:  77%|███████▋  | 300/391 [02:15<00:42,  2.12it/s]"
     ]
    },
    {
     "name": "stdout",
     "output_type": "stream",
     "text": [
      "  Validation Batch   300 Loss: 1.4103 Top-1 error: 32.46% Top-5 error: 12.59%\n"
     ]
    },
    {
     "name": "stderr",
     "output_type": "stream",
     "text": [
      "Validation: 100%|██████████| 391/391 [02:52<00:00,  2.26it/s]\n"
     ]
    },
    {
     "name": "stdout",
     "output_type": "stream",
     "text": [
      "LOSS train 1.3382 valid 1.1884\n",
      "Top-1 Error train 32.76% val 28.30%\n",
      "Top-5 Error train 12.92% val 9.73%\n",
      "EPOCH 100:\n"
     ]
    },
    {
     "name": "stderr",
     "output_type": "stream",
     "text": [
      " 20%|█▉        | 1000/5005 [04:18<17:09,  3.89it/s]"
     ]
    },
    {
     "name": "stdout",
     "output_type": "stream",
     "text": [
      "  Batch 496495 Loss: 1.3429 Top-1 error rate: 32.83% Top-5 error rate: 12.93%\n"
     ]
    },
    {
     "name": "stderr",
     "output_type": "stream",
     "text": [
      " 40%|███▉      | 2000/5005 [08:34<12:45,  3.92it/s]"
     ]
    },
    {
     "name": "stdout",
     "output_type": "stream",
     "text": [
      "  Batch 497495 Loss: 1.3321 Top-1 error rate: 32.58% Top-5 error rate: 12.85%\n"
     ]
    },
    {
     "name": "stderr",
     "output_type": "stream",
     "text": [
      " 60%|█████▉    | 3000/5005 [12:48<08:29,  3.94it/s]"
     ]
    },
    {
     "name": "stdout",
     "output_type": "stream",
     "text": [
      "  Batch 498495 Loss: 1.3429 Top-1 error rate: 32.91% Top-5 error rate: 12.96%\n"
     ]
    },
    {
     "name": "stderr",
     "output_type": "stream",
     "text": [
      " 80%|███████▉  | 4000/5005 [17:03<04:15,  3.94it/s]"
     ]
    },
    {
     "name": "stdout",
     "output_type": "stream",
     "text": [
      "  Batch 499495 Loss: 1.3399 Top-1 error rate: 32.84% Top-5 error rate: 12.90%\n"
     ]
    },
    {
     "name": "stderr",
     "output_type": "stream",
     "text": [
      "100%|█████████▉| 5000/5005 [21:24<00:01,  3.95it/s]"
     ]
    },
    {
     "name": "stdout",
     "output_type": "stream",
     "text": [
      "  Batch 500495 Loss: 1.3446 Top-1 error rate: 32.90% Top-5 error rate: 13.03%\n"
     ]
    },
    {
     "name": "stderr",
     "output_type": "stream",
     "text": [
      "100%|██████████| 5005/5005 [21:25<00:00,  3.89it/s]\n",
      "Validation:  26%|██▌       | 100/391 [00:46<01:49,  2.65it/s]"
     ]
    },
    {
     "name": "stdout",
     "output_type": "stream",
     "text": [
      "  Validation Batch   100 Loss: 0.8693 Top-1 error: 21.98% Top-5 error: 5.78%\n"
     ]
    },
    {
     "name": "stderr",
     "output_type": "stream",
     "text": [
      "Validation:  51%|█████     | 200/391 [01:30<01:21,  2.35it/s]"
     ]
    },
    {
     "name": "stdout",
     "output_type": "stream",
     "text": [
      "  Validation Batch   200 Loss: 1.1252 Top-1 error: 27.11% Top-5 error: 8.86%\n"
     ]
    },
    {
     "name": "stderr",
     "output_type": "stream",
     "text": [
      "Validation:  77%|███████▋  | 300/391 [02:13<00:39,  2.33it/s]"
     ]
    },
    {
     "name": "stdout",
     "output_type": "stream",
     "text": [
      "  Validation Batch   300 Loss: 1.4110 Top-1 error: 32.59% Top-5 error: 12.42%\n"
     ]
    },
    {
     "name": "stderr",
     "output_type": "stream",
     "text": [
      "Validation: 100%|██████████| 391/391 [02:59<00:00,  2.18it/s]"
     ]
    },
    {
     "name": "stdout",
     "output_type": "stream",
     "text": [
      "LOSS train 1.3405 valid 1.1878\n",
      "Top-1 Error train 32.81% val 28.33%\n",
      "Top-5 Error train 12.93% val 9.66%\n"
     ]
    },
    {
     "name": "stderr",
     "output_type": "stream",
     "text": [
      "\n"
     ]
    }
   ],
   "source": [
    "writer = SummaryWriter('runs/vgg')\n",
    "\n",
    "loss_fn   = torch.nn.CrossEntropyLoss()\n",
    "optimizer = torch.optim.SGD(vggnet.parameters(), lr=0.01, momentum=0.9, weight_decay=0.0005)\n",
    "scheduler = torch.optim.lr_scheduler.StepLR(optimizer, step_size=30, gamma=0.1)\n",
    "# Initialize the gradient scaler\n",
    "scaler    = torch.cuda.amp.GradScaler()    \n",
    "\n",
    "EPOCHS = 100\n",
    "epoch_number = 0\n",
    "best_vloss = 1000000.0\n",
    "for epoch in range(EPOCHS):\n",
    "    print(f'EPOCH {epoch_number + 1}:')\n",
    "\n",
    "    # Training phase\n",
    "    avg_train_loss, avg_train_top1_error, avg_train_top5_error = train_one_epoch(\n",
    "        epoch_number,\n",
    "        writer,\n",
    "        compiled_vggnet,\n",
    "        training_dataloader,\n",
    "        optimizer,\n",
    "        loss_fn,\n",
    "        device,\n",
    "        scaler,\n",
    "    )\n",
    "\n",
    "    # Validation phase\n",
    "    avg_val_loss, avg_val_top1_error, avg_val_top5_error = validate_one_epoch(\n",
    "        epoch_number,\n",
    "        writer,\n",
    "        compiled_vggnet,\n",
    "        validation_dataloader,\n",
    "        loss_fn,\n",
    "        device\n",
    "    )\n",
    "\n",
    "    print(f'LOSS train {avg_train_loss:.4f} valid {avg_val_loss:.4f}')\n",
    "    print(f'Top-1 Error train {avg_train_top1_error:.2f}% val {avg_val_top1_error:.2f}%')\n",
    "    print(f'Top-5 Error train {avg_train_top5_error:.2f}% val {avg_val_top5_error:.2f}%')\n",
    "\n",
    "    # Update scheduler\n",
    "    scheduler.step()\n",
    "\n",
    "    # Log epoch-level metrics\n",
    "    writer.add_scalars('Training vs. Validation Loss',\n",
    "                    { 'Training': avg_train_loss, 'Validation': avg_val_loss },\n",
    "                    epoch_number + 1)\n",
    "    writer.add_scalars('Training vs. Validation Top-1 Error',\n",
    "                    { 'Training': avg_train_top1_error, 'Validation': avg_val_top1_error },\n",
    "                    epoch_number + 1)\n",
    "    writer.add_scalars('Training vs. Validation Top-5 Error',\n",
    "                    { 'Training': avg_train_top5_error, 'Validation': avg_val_top5_error },\n",
    "                    epoch_number + 1)\n",
    "    writer.add_scalar('Learning rate', scheduler.get_last_lr()[0], epoch_number + 1)\n",
    "    writer.flush()\n",
    "\n",
    "    # Track best performance and save model\n",
    "    if avg_val_loss < best_vloss:\n",
    "        best_vloss = avg_val_loss\n",
    "        model_path = f'models/model_{epoch_number + 1}.pth' \n",
    "        torch.save(vggnet.state_dict(), model_path)  # Save model\n",
    "\n",
    "    epoch_number += 1"
   ]
  },
  {
   "cell_type": "code",
   "execution_count": null,
   "id": "7e0741b7-a7ed-49ae-b080-f1616a5b1a73",
   "metadata": {},
   "outputs": [],
   "source": []
  }
 ],
 "metadata": {
  "kernelspec": {
   "display_name": "Python 3 (ipykernel)",
   "language": "python",
   "name": "python3"
  },
  "language_info": {
   "codemirror_mode": {
    "name": "ipython",
    "version": 3
   },
   "file_extension": ".py",
   "mimetype": "text/x-python",
   "name": "python",
   "nbconvert_exporter": "python",
   "pygments_lexer": "ipython3",
   "version": "3.10.12"
  }
 },
 "nbformat": 4,
 "nbformat_minor": 5
}
